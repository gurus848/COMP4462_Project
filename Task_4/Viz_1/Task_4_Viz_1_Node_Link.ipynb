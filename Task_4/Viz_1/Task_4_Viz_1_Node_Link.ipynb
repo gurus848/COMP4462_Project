{
 "cells": [
  {
   "cell_type": "markdown",
   "metadata": {},
   "source": [
    "# Task 4 Visualization 1\n",
    "\n",
    "Node Link graph of artists and countries, to show links between them based on their popularity."
   ]
  },
  {
   "cell_type": "code",
   "execution_count": 9,
   "metadata": {},
   "outputs": [
    {
     "data": {
      "text/plain": [
       "DataTransformerRegistry.enable('default')"
      ]
     },
     "execution_count": 9,
     "metadata": {},
     "output_type": "execute_result"
    }
   ],
   "source": [
    "import networkx as nx\n",
    "import nx_altair as nxa\n",
    "import altair as alt\n",
    "import pandas as pd\n",
    "\n",
    "alt.renderers.enable('notebook')\n",
    "alt.data_transformers.enable('default', max_rows=None)"
   ]
  },
  {
   "cell_type": "code",
   "execution_count": 7,
   "metadata": {},
   "outputs": [],
   "source": [
    "rankings_file_path = \"../../data/Daily_Ranking.csv\""
   ]
  },
  {
   "cell_type": "code",
   "execution_count": 10,
   "metadata": {},
   "outputs": [],
   "source": [
    "df = pd.read_csv(rankings_file_path)"
   ]
  },
  {
   "cell_type": "markdown",
   "metadata": {},
   "source": [
    "First, need to calculate the top artists in different countries.\n",
    "Then, need to set the connect them together in the graph.\n",
    "The width of the link represents the strength of the popularity, could encode maybe the proportional no. of streams that the artist gets?"
   ]
  },
  {
   "cell_type": "code",
   "execution_count": 12,
   "metadata": {},
   "outputs": [
    {
     "data": {
      "text/plain": [
       "Index(['Position', 'Track Name', 'Artist', 'Streams', 'URL', 'Date', 'Region'], dtype='object')"
      ]
     },
     "execution_count": 12,
     "metadata": {},
     "output_type": "execute_result"
    }
   ],
   "source": [
    "df.columns"
   ]
  },
  {
   "cell_type": "code",
   "execution_count": 29,
   "metadata": {},
   "outputs": [
    {
     "name": "stdout",
     "output_type": "stream",
     "text": [
      "(5108, 1)\n",
      "Unique Artists: 1261\n",
      "Unique regions: 53\n"
     ]
    },
    {
     "data": {
      "text/html": [
       "<div>\n",
       "<style scoped>\n",
       "    .dataframe tbody tr th:only-of-type {\n",
       "        vertical-align: middle;\n",
       "    }\n",
       "\n",
       "    .dataframe tbody tr th {\n",
       "        vertical-align: top;\n",
       "    }\n",
       "\n",
       "    .dataframe thead th {\n",
       "        text-align: right;\n",
       "    }\n",
       "</style>\n",
       "<table border=\"1\" class=\"dataframe\">\n",
       "  <thead>\n",
       "    <tr style=\"text-align: right;\">\n",
       "      <th></th>\n",
       "      <th>Region</th>\n",
       "      <th>Artist</th>\n",
       "      <th>Position_count</th>\n",
       "    </tr>\n",
       "  </thead>\n",
       "  <tbody>\n",
       "    <tr>\n",
       "      <th>0</th>\n",
       "      <td>ar</td>\n",
       "      <td>6ix9ine</td>\n",
       "      <td>72</td>\n",
       "    </tr>\n",
       "    <tr>\n",
       "      <th>1</th>\n",
       "      <td>ar</td>\n",
       "      <td>Alex Rose</td>\n",
       "      <td>161</td>\n",
       "    </tr>\n",
       "    <tr>\n",
       "      <th>2</th>\n",
       "      <td>ar</td>\n",
       "      <td>Alex Sensation</td>\n",
       "      <td>73</td>\n",
       "    </tr>\n",
       "    <tr>\n",
       "      <th>3</th>\n",
       "      <td>ar</td>\n",
       "      <td>Anitta</td>\n",
       "      <td>54</td>\n",
       "    </tr>\n",
       "    <tr>\n",
       "      <th>4</th>\n",
       "      <td>ar</td>\n",
       "      <td>Anuel Aa</td>\n",
       "      <td>46</td>\n",
       "    </tr>\n",
       "  </tbody>\n",
       "</table>\n",
       "</div>"
      ],
      "text/plain": [
       "  Region          Artist  Position_count\n",
       "0     ar         6ix9ine              72\n",
       "1     ar       Alex Rose             161\n",
       "2     ar  Alex Sensation              73\n",
       "3     ar          Anitta              54\n",
       "4     ar        Anuel Aa              46"
      ]
     },
     "execution_count": 29,
     "metadata": {},
     "output_type": "execute_result"
    }
   ],
   "source": [
    "country_grouped = df[df['Position'] <= 10]   #first extract the top ten songs\n",
    "country_grouped = country_grouped.drop(columns=['Track Name', 'Streams', 'URL', 'Date'])\n",
    "country_grouped = country_grouped.groupby(['Region', 'Artist']).count() #Basically calculates the number of days that that artists songs have combined stayed on the top 10 rankings in that country\n",
    "print(country_grouped.shape)\n",
    "country_grouped = country_grouped.add_suffix('_count').reset_index()\n",
    "print(\"Unique Artists: {}\".format(country_grouped['Artist'].nunique()))\n",
    "print(\"Unique regions: {}\".format(country_grouped['Region'].nunique()))\n",
    "country_grouped.head()"
   ]
  },
  {
   "cell_type": "markdown",
   "metadata": {},
   "source": [
    "To join with the country names dataset"
   ]
  },
  {
   "cell_type": "code",
   "execution_count": null,
   "metadata": {},
   "outputs": [],
   "source": [
    "df_countries = pd.read_json(\"countries.json\")\n",
    "df_countries = df_countries.transpose()\n",
    "df_countries = df_countries.drop(columns=['continent', 'capital', 'languages', 'native', 'phone', 'currency'])\n",
    "df_countries = df_countries.rename(columns={'name':'Country'})\n",
    "df_countries.head()\n",
    "df['Region'] = df['Region'].str.upper()\n",
    "df_plotting_data = df_plotting_data.merge(df_countries, how='inner', left_on='region_two_letter', right_index=True)\n",
    "df_plotting_data.head()"
   ]
  },
  {
   "cell_type": "code",
   "execution_count": 11,
   "metadata": {},
   "outputs": [
    {
     "data": {
      "text/html": [
       "<div class=\"vega-embed\" id=\"14344e64-8024-4256-b296-7d105d9ee44c\"></div>\n",
       "\n",
       "<style>\n",
       ".vega-embed .error p {\n",
       "    color: firebrick;\n",
       "    font-size: 14px;\n",
       "}\n",
       "</style>\n"
      ]
     },
     "metadata": {
      "jupyter-vega": "#14344e64-8024-4256-b296-7d105d9ee44c"
     },
     "output_type": "display_data"
    },
    {
     "data": {
      "application/javascript": [
       "var spec = {\"config\": {\"view\": {\"width\": 400, \"height\": 300}, \"axis\": {\"domain\": false, \"grid\": false, \"labels\": false, \"ticks\": false}}, \"layer\": [{\"data\": {\"name\": \"data-294d504ec239e4799651bac1efb4b11f\"}, \"mark\": {\"type\": \"line\", \"color\": \"black\", \"opacity\": 1}, \"encoding\": {\"detail\": {\"type\": \"quantitative\", \"field\": \"edge\"}, \"size\": {\"type\": \"quantitative\", \"field\": \"weight\", \"legend\": null}, \"x\": {\"type\": \"quantitative\", \"axis\": {\"title\": \"\"}, \"field\": \"x\"}, \"y\": {\"type\": \"quantitative\", \"axis\": {\"title\": \"\"}, \"field\": \"y\"}}, \"selection\": {\"selector004\": {\"type\": \"interval\", \"bind\": \"scales\", \"encodings\": [\"x\", \"y\"]}}}, {\"data\": {\"name\": \"data-6f811b224b43f4882fde6b112d0c958a\"}, \"mark\": {\"type\": \"point\", \"fill\": \"red\", \"opacity\": 1, \"size\": 300}, \"encoding\": {\"x\": {\"type\": \"quantitative\", \"field\": \"x\"}, \"y\": {\"type\": \"quantitative\", \"field\": \"y\"}}}], \"$schema\": \"https://vega.github.io/schema/vega-lite/v2.6.0.json\", \"datasets\": {\"data-294d504ec239e4799651bac1efb4b11f\": [{\"source\": 1, \"y\": -1.0, \"target\": 2, \"x\": 0.25668976895296824, \"pair\": [1, 2], \"edge\": 0, \"weight\": 2}, {\"source\": 1, \"y\": 0.1095533039837561, \"target\": 2, \"x\": -0.028121343117738652, \"pair\": [1, 2], \"edge\": 0, \"weight\": 2}, {\"source\": 2, \"y\": 0.1095533039837561, \"target\": 3, \"x\": -0.028121343117738652, \"pair\": [2, 3], \"edge\": 1, \"weight\": 5}, {\"source\": 2, \"y\": 0.8904466960162437, \"target\": 3, \"x\": -0.22856842583522982, \"pair\": [2, 3], \"edge\": 1, \"weight\": 5}], \"data-6f811b224b43f4882fde6b112d0c958a\": [{\"x\": 0.25668976895296824, \"y\": -1.0}, {\"x\": -0.028121343117738652, \"y\": 0.1095533039837561}, {\"x\": -0.22856842583522982, \"y\": 0.8904466960162437}]}};\n",
       "var opt = {};\n",
       "var selector = \"#14344e64-8024-4256-b296-7d105d9ee44c\";\n",
       "var type = \"vega-lite\";\n",
       "\n",
       "var output_area = this;\n",
       "\n",
       "require(['nbextensions/jupyter-vega/index'], function(vega) {\n",
       "  vega.render(selector, spec, type, opt, output_area);\n",
       "}, function (err) {\n",
       "  if (err.requireType !== 'scripterror') {\n",
       "    throw(err);\n",
       "  }\n",
       "});\n"
      ]
     },
     "metadata": {
      "jupyter-vega": "#14344e64-8024-4256-b296-7d105d9ee44c"
     },
     "output_type": "display_data"
    },
    {
     "data": {
      "text/plain": []
     },
     "execution_count": 11,
     "metadata": {},
     "output_type": "execute_result"
    },
    {
     "data": {
      "image/png": "[encoded data removed]"
     },
     "metadata": {
      "jupyter-vega": "#14344e64-8024-4256-b296-7d105d9ee44c"
     },
     "output_type": "display_data"
    }
   ],
   "source": [
    "# Example of using the nx_altair library\n",
    "\n",
    "# Generate a random graph\n",
    "G = nx.fast_gnp_random_graph(n=20, p=0.25)\n",
    "\n",
    "G = nx.Graph()\n",
    "G.add_node(1)\n",
    "G.add_node(2)\n",
    "G.add_node(3)\n",
    "G.add_edge(2, 3, weight=5)\n",
    "G.add_edge(2, 1, weight=2)\n",
    "\n",
    "# Compute positions for viz.\n",
    "pos = nx.spring_layout(G)\n",
    "\n",
    "# Draw the graph using Altair\n",
    "viz = nxa.draw_networkx(G, pos=pos, width='weight')\n",
    "\n",
    "# Show it as an interactive plot!\n",
    "viz.interactive()"
   ]
  },
  {
   "cell_type": "code",
   "execution_count": null,
   "metadata": {},
   "outputs": [],
   "source": []
  }
 ],
 "metadata": {
  "kernelspec": {
   "display_name": "Python 3",
   "language": "python",
   "name": "python3"
  },
  "language_info": {
   "codemirror_mode": {
    "name": "ipython",
    "version": 3
   },
   "file_extension": ".py",
   "mimetype": "text/x-python",
   "name": "python",
   "nbconvert_exporter": "python",
   "pygments_lexer": "ipython3",
   "version": "3.6.4"
  }
 },
 "nbformat": 4,
 "nbformat_minor": 2
}
