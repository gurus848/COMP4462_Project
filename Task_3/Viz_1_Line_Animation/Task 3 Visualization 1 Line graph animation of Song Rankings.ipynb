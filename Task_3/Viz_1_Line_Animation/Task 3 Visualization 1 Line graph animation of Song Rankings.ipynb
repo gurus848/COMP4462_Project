{
 "cells": [
  {
   "cell_type": "code",
   "execution_count": 14,
   "metadata": {},
   "outputs": [
    {
     "data": {
      "text/html": [
       "<script type=\"text/javascript\">window.PlotlyConfig = {MathJaxConfig: 'local'};</script><script type=\"text/javascript\">if (window.MathJax) {MathJax.Hub.Config({SVG: {font: \"STIX-Web\"}});}</script><script>requirejs.config({paths: { 'plotly': ['https://cdn.plot.ly/plotly-latest.min']},});if(!window._Plotly) {require(['plotly'],function(plotly) {window._Plotly=plotly;});}</script>"
      ],
      "text/vnd.plotly.v1+html": [
       "<script type=\"text/javascript\">window.PlotlyConfig = {MathJaxConfig: 'local'};</script><script type=\"text/javascript\">if (window.MathJax) {MathJax.Hub.Config({SVG: {font: \"STIX-Web\"}});}</script><script>requirejs.config({paths: { 'plotly': ['https://cdn.plot.ly/plotly-latest.min']},});if(!window._Plotly) {require(['plotly'],function(plotly) {window._Plotly=plotly;});}</script>"
      ]
     },
     "metadata": {},
     "output_type": "display_data"
    }
   ],
   "source": [
    "import pandas as pd\n",
    "import plotly.plotly as py\n",
    "import plotly.graph_objs as go\n",
    "import ipywidgets as widgets\n",
    "from IPython.display import display\n",
    "from plotly.offline import init_notebook_mode, iplot\n",
    "\n",
    "init_notebook_mode(connected=True)\n",
    "\n",
    "#note: for graphviz, need to install it separately, and also install the pygraphviz package.\n",
    "#also, for plotly need to sign up and set the api key. refer to plotly set up guide on their website"
   ]
  },
  {
   "cell_type": "markdown",
   "metadata": {},
   "source": [
    "Task 3 Viz 1: Showing a line chart animation of the rankings of sons in a particular region.\n",
    "\n",
    "Try 1: Using Plotly line chart animations"
   ]
  },
  {
   "cell_type": "code",
   "execution_count": 2,
   "metadata": {},
   "outputs": [],
   "source": [
    "rankings_file_path = \"../../data/Daily_Ranking.csv\""
   ]
  },
  {
   "cell_type": "code",
   "execution_count": 3,
   "metadata": {},
   "outputs": [],
   "source": [
    "df = pd.read_csv(rankings_file_path)"
   ]
  },
  {
   "cell_type": "code",
   "execution_count": 4,
   "metadata": {},
   "outputs": [],
   "source": [
    "#first create dictionary of region code to country name for simplicity later\n",
    "all_region_codes = ['ec', 'fr', 'ar', 'fi', 'no', 'it', 'lt', 'ph', 'tw', 'nz', 'ee', 'tr', 'us', 'sv', 'cr', 'de', 'cl', 'jp', 'br', 'hn', 'gt', 'ch', 'hu', 'ca', 'pe', 'be', 'my', 'dk', 'bo', 'pl', 'at', 'pt', 'se', 'mx', 'pa', 'uy', 'is', 'es', 'cz', 'ie', 'nl', 'sk', 'co', 'sg', 'id', 'do', 'lu', 'gb', 'py', 'au', 'lv', 'gr', 'hk']\n",
    "df_countries = pd.read_json(\"../../data/countries.json\")\n",
    "df_countries = df_countries.transpose()\n",
    "country_names = {r:df_countries.loc[r.upper()]['name'] for r in all_region_codes}"
   ]
  },
  {
   "cell_type": "code",
   "execution_count": 5,
   "metadata": {},
   "outputs": [
    {
     "name": "stdout",
     "output_type": "stream",
     "text": [
      "Select Region to Show in the Animation\n"
     ]
    },
    {
     "data": {
      "application/vnd.jupyter.widget-view+json": {
       "model_id": "4a85b853f7f44248b4dffb1ca6b649da",
       "version_major": 2,
       "version_minor": 0
      },
      "text/html": [
       "<p>Failed to display Jupyter Widget of type <code>Dropdown</code>.</p>\n",
       "<p>\n",
       "  If you're reading this message in the Jupyter Notebook or JupyterLab Notebook, it may mean\n",
       "  that the widgets JavaScript is still loading. If this message persists, it\n",
       "  likely means that the widgets JavaScript library is either not installed or\n",
       "  not enabled. See the <a href=\"https://ipywidgets.readthedocs.io/en/stable/user_install.html\">Jupyter\n",
       "  Widgets Documentation</a> for setup instructions.\n",
       "</p>\n",
       "<p>\n",
       "  If you're reading this message in another frontend (for example, a static\n",
       "  rendering on GitHub or <a href=\"https://nbviewer.jupyter.org/\">NBViewer</a>),\n",
       "  it may mean that your frontend doesn't currently support widgets.\n",
       "</p>\n"
      ],
      "text/plain": [
       "Dropdown(description='Region:', index=12, options=('Ecuador', 'France', 'Argentina', 'Finland', 'Norway', 'Italy', 'Lithuania', 'Philippines', 'Taiwan', 'New Zealand', 'Estonia', 'Turkey', 'United States', 'El Salvador', 'Costa Rica', 'Germany', 'Chile', 'Japan', 'Brazil', 'Honduras', 'Guatemala', 'Switzerland', 'Hungary', 'Canada', 'Peru', 'Belgium', 'Malaysia', 'Denmark', 'Bolivia', 'Poland', 'Austria', 'Portugal', 'Sweden', 'Mexico', 'Panama', 'Uruguay', 'Iceland', 'Spain', 'Czech Republic', 'Ireland', 'Netherlands', 'Slovakia', 'Colombia', 'Singapore', 'Indonesia', 'Dominican Republic', 'Luxembourg', 'United Kingdom', 'Paraguay', 'Australia', 'Latvia', 'Greece', 'Hong Kong'), value='United States')"
      ]
     },
     "metadata": {},
     "output_type": "display_data"
    }
   ],
   "source": [
    "print(\"Select Region to Show in the Animation\")\n",
    "region_selector = widgets.Dropdown(\n",
    "    options=[country_names[i] for i in all_region_codes],\n",
    "    value='United States',\n",
    "    description='Region:')\n",
    "display(region_selector)"
   ]
  },
  {
   "cell_type": "code",
   "execution_count": 6,
   "metadata": {},
   "outputs": [
    {
     "data": {
      "text/plain": [
       "Index(['Position', 'Track Name', 'Artist', 'Streams', 'URL', 'Date', 'Region'], dtype='object')"
      ]
     },
     "execution_count": 6,
     "metadata": {},
     "output_type": "execute_result"
    }
   ],
   "source": [
    "all_region_codes[region_selector.index]\n",
    "df.columns"
   ]
  },
  {
   "cell_type": "code",
   "execution_count": null,
   "metadata": {},
   "outputs": [],
   "source": [
    "#run this cell to show the animation!\n",
    "region_chosen = all_region_codes[region_selector.index]\n",
    "df_specific_region = df[df['Region'] == region_chosen]\n",
    "df_specific_region = df_specific_region[df_specific_region[\"Position\"] <= 10]   #only consider the top 10 positions\n",
    "region_days = sorted(df_specific_region[\"Date\"].unique().tolist())\n",
    "if len(region_days) > 100:\n",
    "    print(\"truncating no. of days to just 100 for better performance\")\n",
    "    region_days = region_days[:100]\n",
    "\n",
    "figure = {\n",
    "    'data': [],\n",
    "    'layout': {},\n",
    "    'frames': []\n",
    "}\n",
    "\n",
    "# fill in most of layout\n",
    "figure['layout']['hovermode'] = 'closest'\n",
    "figure['layout']['sliders'] = {\n",
    "    'args': [\n",
    "        'transition', {\n",
    "            'duration': 400,\n",
    "            'easing': 'cubic-in-out'\n",
    "        }\n",
    "    ],\n",
    "    'initialValue': region_days[0],\n",
    "    'plotlycommand': 'animate',\n",
    "    'values': region_days,\n",
    "    'visible': True\n",
    "}\n",
    "figure['layout']['xaxis'] = {'range':[region_days[0], region_days[-1]]}\n",
    "min_y = df_specific_region[\"Streams\"].unique().tolist()\n",
    "max_y = max(min_y)\n",
    "min_y = min(min_y)\n",
    "figure['layout']['yaxis'] = {'range':[min_y, max_y]}\n",
    "\n",
    "figure['layout']['updatemenus'] = [\n",
    "    {\n",
    "        'buttons': [\n",
    "            {\n",
    "                'args': [None, {'frame': {'duration': 200, 'redraw': False},\n",
    "                         'fromcurrent': True, 'transition': {'duration': 100, 'easing': 'quadratic-in-out'}}],\n",
    "                'label': 'Play',\n",
    "                'method': 'animate'\n",
    "            },\n",
    "            {\n",
    "                'args': [[None], {'frame': {'duration': 0, 'redraw': False}, 'mode': 'immediate',\n",
    "                'transition': {'duration': 0}}],\n",
    "                'label': 'Pause',\n",
    "                'method': 'animate'\n",
    "            }\n",
    "        ],\n",
    "        'direction': 'left',\n",
    "        'pad': {'r': 10, 't': 87},\n",
    "        'showactive': False,\n",
    "        'type': 'buttons',\n",
    "        'x': 0.1,\n",
    "        'xanchor': 'right',\n",
    "        'y': 0,\n",
    "        'yanchor': 'top'\n",
    "    }\n",
    "]\n",
    "\n",
    "sliders_dict = {\n",
    "    'active': 0,\n",
    "    'yanchor': 'top',\n",
    "    'xanchor': 'left',\n",
    "    'currentvalue': {\n",
    "        'font': {'size': 20},\n",
    "        'prefix': 'Day:',\n",
    "        'visible': True,\n",
    "        'xanchor': 'right'\n",
    "    },\n",
    "    'transition': {'duration': 200, 'easing': 'cubic-in-out'},\n",
    "    'pad': {'b': 10, 't': 50},\n",
    "    'len': 0.9,\n",
    "    'x': 0.1,\n",
    "    'y': 0,\n",
    "    'steps': []\n",
    "}\n",
    "\n",
    "# make initial day data\n",
    "date = region_days[0]\n",
    "df_song_data_day = df_specific_region[df_specific_region[\"Date\"] == date]\n",
    "for i, row in df_song_data_day.iterrows():\n",
    "    position_y = row[\"Streams\"]\n",
    "    position_x = date\n",
    "    datadict = {\n",
    "        'x' : [position_x],\n",
    "        'y' : [position_y],\n",
    "        'mode' :'markers',\n",
    "        'name' : row[\"Track Name\"]\n",
    "    }\n",
    "    figure['data'].append(datadict)\n",
    "\n",
    "#making data for each frame\n",
    "for date in region_days:\n",
    "    frame = {'data': [], 'name': date}\n",
    "    df_song_data_day = df_specific_region[df_specific_region[\"Date\"] == date]\n",
    "    for i, row in df_song_data_day.iterrows():\n",
    "        position_y = row[\"Streams\"]\n",
    "        position_x = date\n",
    "        data_dict = {\n",
    "            'x' : [position_x],\n",
    "            'y' : [position_y],\n",
    "            'mode' :'markers',\n",
    "            'name' : row[\"Track Name\"]\n",
    "        }\n",
    "        frame['data'].append(data_dict)\n",
    "\n",
    "    figure['frames'].append(frame)\n",
    "    slider_step = {'args': [\n",
    "        [date],\n",
    "        {'frame': {'duration': 300, 'redraw': False},\n",
    "         'mode': 'immediate',\n",
    "       'transition': {'duration': 300}}\n",
    "     ],\n",
    "     'label': date,\n",
    "     'method': 'animate'}\n",
    "    sliders_dict['steps'].append(slider_step)\n",
    "\n",
    "figure['layout']['sliders'] = [sliders_dict]\n",
    "\n",
    "iplot(figure, filename='anim')"
   ]
  },
  {
   "cell_type": "code",
   "execution_count": null,
   "metadata": {},
   "outputs": [],
   "source": []
  }
 ],
 "metadata": {
  "kernelspec": {
   "display_name": "Python 3",
   "language": "python",
   "name": "python3"
  },
  "language_info": {
   "codemirror_mode": {
    "name": "ipython",
    "version": 3
   },
   "file_extension": ".py",
   "mimetype": "text/x-python",
   "name": "python",
   "nbconvert_exporter": "python",
   "pygments_lexer": "ipython3",
   "version": "3.6.4"
  }
 },
 "nbformat": 4,
 "nbformat_minor": 2
}
