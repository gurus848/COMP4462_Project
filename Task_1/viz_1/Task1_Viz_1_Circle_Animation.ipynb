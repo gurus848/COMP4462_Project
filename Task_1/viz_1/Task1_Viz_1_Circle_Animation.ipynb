{
 "cells": [
  {
   "cell_type": "code",
   "execution_count": 74,
   "metadata": {},
   "outputs": [
    {
     "data": {
      "text/html": [
       "<script type=\"text/javascript\">window.PlotlyConfig = {MathJaxConfig: 'local'};</script><script type=\"text/javascript\">if (window.MathJax) {MathJax.Hub.Config({SVG: {font: \"STIX-Web\"}});}</script><script>requirejs.config({paths: { 'plotly': ['https://cdn.plot.ly/plotly-latest.min']},});if(!window._Plotly) {require(['plotly'],function(plotly) {window._Plotly=plotly;});}</script>"
      ],
      "text/vnd.plotly.v1+html": [
       "<script type=\"text/javascript\">window.PlotlyConfig = {MathJaxConfig: 'local'};</script><script type=\"text/javascript\">if (window.MathJax) {MathJax.Hub.Config({SVG: {font: \"STIX-Web\"}});}</script><script>requirejs.config({paths: { 'plotly': ['https://cdn.plot.ly/plotly-latest.min']},});if(!window._Plotly) {require(['plotly'],function(plotly) {window._Plotly=plotly;});}</script>"
      ]
     },
     "metadata": {},
     "output_type": "display_data"
    }
   ],
   "source": [
    "import networkx as nx\n",
    "import pandas as pd\n",
    "from networkx.drawing.nx_agraph import graphviz_layout\n",
    "import plotly.plotly as py\n",
    "import plotly.graph_objs as go\n",
    "import ipywidgets as widgets\n",
    "from IPython.display import display\n",
    "from plotly.offline import init_notebook_mode, iplot\n",
    "\n",
    "init_notebook_mode(connected=True)\n",
    "\n",
    "#note: for graphviz, need to install it separately, and also install the pygraphviz package.\n",
    "#also, for plotly need to sign up and set the api key. refer to plotly set up guide on their website"
   ]
  },
  {
   "cell_type": "markdown",
   "metadata": {},
   "source": [
    "Task 2 Viz 2: Animation of the ranking of the song in different countries, using circles.\n",
    "\n",
    "Try 1: Using networkx and plotly"
   ]
  },
  {
   "cell_type": "code",
   "execution_count": 3,
   "metadata": {},
   "outputs": [],
   "source": [
    "rankings_file_path = \"../../data/Daily_Ranking.csv\""
   ]
  },
  {
   "cell_type": "code",
   "execution_count": 4,
   "metadata": {},
   "outputs": [],
   "source": [
    "df = pd.read_csv(rankings_file_path)"
   ]
  },
  {
   "cell_type": "code",
   "execution_count": 6,
   "metadata": {},
   "outputs": [],
   "source": [
    "#first create dictionary of region code to country name for simplicity later\n",
    "all_region_codes = ['ec', 'fr', 'ar', 'fi', 'no', 'it', 'lt', 'ph', 'tw', 'nz', 'ee', 'tr', 'us', 'sv', 'cr', 'de', 'cl', 'jp', 'br', 'hn', 'gt', 'ch', 'hu', 'ca', 'pe', 'be', 'my', 'dk', 'bo', 'pl', 'at', 'pt', 'se', 'mx', 'pa', 'uy', 'is', 'es', 'cz', 'ie', 'nl', 'sk', 'co', 'sg', 'id', 'do', 'lu', 'gb', 'py', 'au', 'lv', 'gr', 'hk']\n",
    "df_countries = pd.read_json(\"../../data/countries.json\")\n",
    "df_countries = df_countries.transpose()\n",
    "country_names = {r:df_countries.loc[r.upper()]['name'] for r in all_region_codes}"
   ]
  },
  {
   "cell_type": "code",
   "execution_count": 7,
   "metadata": {},
   "outputs": [],
   "source": [
    "song = \"Shape of You\""
   ]
  },
  {
   "cell_type": "code",
   "execution_count": 8,
   "metadata": {},
   "outputs": [],
   "source": [
    "df_specific_song = df[df['Track Name'] == song]"
   ]
  },
  {
   "cell_type": "code",
   "execution_count": 12,
   "metadata": {},
   "outputs": [
    {
     "name": "stdout",
     "output_type": "stream",
     "text": [
      "Select Regions to Show in the Animation\n"
     ]
    },
    {
     "data": {
      "application/vnd.jupyter.widget-view+json": {
       "model_id": "8250e7c881124818b7347a6582d20366",
       "version_major": 2,
       "version_minor": 0
      },
      "text/html": [
       "<p>Failed to display Jupyter Widget of type <code>HBox</code>.</p>\n",
       "<p>\n",
       "  If you're reading this message in the Jupyter Notebook or JupyterLab Notebook, it may mean\n",
       "  that the widgets JavaScript is still loading. If this message persists, it\n",
       "  likely means that the widgets JavaScript library is either not installed or\n",
       "  not enabled. See the <a href=\"https://ipywidgets.readthedocs.io/en/stable/user_install.html\">Jupyter\n",
       "  Widgets Documentation</a> for setup instructions.\n",
       "</p>\n",
       "<p>\n",
       "  If you're reading this message in another frontend (for example, a static\n",
       "  rendering on GitHub or <a href=\"https://nbviewer.jupyter.org/\">NBViewer</a>),\n",
       "  it may mean that your frontend doesn't currently support widgets.\n",
       "</p>\n"
      ],
      "text/plain": [
       "HBox(children=(Checkbox(value=False, description='Ecuador'), Checkbox(value=False, description='France'), Checkbox(value=False, description='Argentina'), Checkbox(value=False, description='Finland'), Checkbox(value=False, description='Norway')))"
      ]
     },
     "metadata": {},
     "output_type": "display_data"
    },
    {
     "data": {
      "application/vnd.jupyter.widget-view+json": {
       "model_id": "338f2e0000fb44769c6e95a8ba40b2cc",
       "version_major": 2,
       "version_minor": 0
      },
      "text/html": [
       "<p>Failed to display Jupyter Widget of type <code>HBox</code>.</p>\n",
       "<p>\n",
       "  If you're reading this message in the Jupyter Notebook or JupyterLab Notebook, it may mean\n",
       "  that the widgets JavaScript is still loading. If this message persists, it\n",
       "  likely means that the widgets JavaScript library is either not installed or\n",
       "  not enabled. See the <a href=\"https://ipywidgets.readthedocs.io/en/stable/user_install.html\">Jupyter\n",
       "  Widgets Documentation</a> for setup instructions.\n",
       "</p>\n",
       "<p>\n",
       "  If you're reading this message in another frontend (for example, a static\n",
       "  rendering on GitHub or <a href=\"https://nbviewer.jupyter.org/\">NBViewer</a>),\n",
       "  it may mean that your frontend doesn't currently support widgets.\n",
       "</p>\n"
      ],
      "text/plain": [
       "HBox(children=(Checkbox(value=False, description='Italy'), Checkbox(value=False, description='Lithuania'), Checkbox(value=False, description='Philippines'), Checkbox(value=False, description='Taiwan'), Checkbox(value=False, description='New Zealand')))"
      ]
     },
     "metadata": {},
     "output_type": "display_data"
    },
    {
     "data": {
      "application/vnd.jupyter.widget-view+json": {
       "model_id": "baf87ed82d064224a7674c19553eb34f",
       "version_major": 2,
       "version_minor": 0
      },
      "text/html": [
       "<p>Failed to display Jupyter Widget of type <code>HBox</code>.</p>\n",
       "<p>\n",
       "  If you're reading this message in the Jupyter Notebook or JupyterLab Notebook, it may mean\n",
       "  that the widgets JavaScript is still loading. If this message persists, it\n",
       "  likely means that the widgets JavaScript library is either not installed or\n",
       "  not enabled. See the <a href=\"https://ipywidgets.readthedocs.io/en/stable/user_install.html\">Jupyter\n",
       "  Widgets Documentation</a> for setup instructions.\n",
       "</p>\n",
       "<p>\n",
       "  If you're reading this message in another frontend (for example, a static\n",
       "  rendering on GitHub or <a href=\"https://nbviewer.jupyter.org/\">NBViewer</a>),\n",
       "  it may mean that your frontend doesn't currently support widgets.\n",
       "</p>\n"
      ],
      "text/plain": [
       "HBox(children=(Checkbox(value=False, description='Estonia'), Checkbox(value=False, description='Turkey'), Checkbox(value=True, description='United States'), Checkbox(value=False, description='El Salvador'), Checkbox(value=False, description='Costa Rica')))"
      ]
     },
     "metadata": {},
     "output_type": "display_data"
    },
    {
     "data": {
      "application/vnd.jupyter.widget-view+json": {
       "model_id": "375eea3bd5664813a4b50f20f07e2edb",
       "version_major": 2,
       "version_minor": 0
      },
      "text/html": [
       "<p>Failed to display Jupyter Widget of type <code>HBox</code>.</p>\n",
       "<p>\n",
       "  If you're reading this message in the Jupyter Notebook or JupyterLab Notebook, it may mean\n",
       "  that the widgets JavaScript is still loading. If this message persists, it\n",
       "  likely means that the widgets JavaScript library is either not installed or\n",
       "  not enabled. See the <a href=\"https://ipywidgets.readthedocs.io/en/stable/user_install.html\">Jupyter\n",
       "  Widgets Documentation</a> for setup instructions.\n",
       "</p>\n",
       "<p>\n",
       "  If you're reading this message in another frontend (for example, a static\n",
       "  rendering on GitHub or <a href=\"https://nbviewer.jupyter.org/\">NBViewer</a>),\n",
       "  it may mean that your frontend doesn't currently support widgets.\n",
       "</p>\n"
      ],
      "text/plain": [
       "HBox(children=(Checkbox(value=False, description='Germany'), Checkbox(value=False, description='Chile'), Checkbox(value=False, description='Japan'), Checkbox(value=False, description='Brazil'), Checkbox(value=False, description='Honduras')))"
      ]
     },
     "metadata": {},
     "output_type": "display_data"
    },
    {
     "data": {
      "application/vnd.jupyter.widget-view+json": {
       "model_id": "b8dd93bda80a4ddc84b696ecc930cbb3",
       "version_major": 2,
       "version_minor": 0
      },
      "text/html": [
       "<p>Failed to display Jupyter Widget of type <code>HBox</code>.</p>\n",
       "<p>\n",
       "  If you're reading this message in the Jupyter Notebook or JupyterLab Notebook, it may mean\n",
       "  that the widgets JavaScript is still loading. If this message persists, it\n",
       "  likely means that the widgets JavaScript library is either not installed or\n",
       "  not enabled. See the <a href=\"https://ipywidgets.readthedocs.io/en/stable/user_install.html\">Jupyter\n",
       "  Widgets Documentation</a> for setup instructions.\n",
       "</p>\n",
       "<p>\n",
       "  If you're reading this message in another frontend (for example, a static\n",
       "  rendering on GitHub or <a href=\"https://nbviewer.jupyter.org/\">NBViewer</a>),\n",
       "  it may mean that your frontend doesn't currently support widgets.\n",
       "</p>\n"
      ],
      "text/plain": [
       "HBox(children=(Checkbox(value=False, description='Guatemala'), Checkbox(value=False, description='Switzerland'), Checkbox(value=False, description='Hungary'), Checkbox(value=False, description='Canada'), Checkbox(value=False, description='Peru')))"
      ]
     },
     "metadata": {},
     "output_type": "display_data"
    },
    {
     "data": {
      "application/vnd.jupyter.widget-view+json": {
       "model_id": "91061dc34efa46c6bef1a8529ca7adeb",
       "version_major": 2,
       "version_minor": 0
      },
      "text/html": [
       "<p>Failed to display Jupyter Widget of type <code>HBox</code>.</p>\n",
       "<p>\n",
       "  If you're reading this message in the Jupyter Notebook or JupyterLab Notebook, it may mean\n",
       "  that the widgets JavaScript is still loading. If this message persists, it\n",
       "  likely means that the widgets JavaScript library is either not installed or\n",
       "  not enabled. See the <a href=\"https://ipywidgets.readthedocs.io/en/stable/user_install.html\">Jupyter\n",
       "  Widgets Documentation</a> for setup instructions.\n",
       "</p>\n",
       "<p>\n",
       "  If you're reading this message in another frontend (for example, a static\n",
       "  rendering on GitHub or <a href=\"https://nbviewer.jupyter.org/\">NBViewer</a>),\n",
       "  it may mean that your frontend doesn't currently support widgets.\n",
       "</p>\n"
      ],
      "text/plain": [
       "HBox(children=(Checkbox(value=False, description='Belgium'), Checkbox(value=False, description='Malaysia'), Checkbox(value=False, description='Denmark'), Checkbox(value=False, description='Bolivia'), Checkbox(value=False, description='Poland')))"
      ]
     },
     "metadata": {},
     "output_type": "display_data"
    },
    {
     "data": {
      "application/vnd.jupyter.widget-view+json": {
       "model_id": "3d27adc877684d558241dbda9c06049b",
       "version_major": 2,
       "version_minor": 0
      },
      "text/html": [
       "<p>Failed to display Jupyter Widget of type <code>HBox</code>.</p>\n",
       "<p>\n",
       "  If you're reading this message in the Jupyter Notebook or JupyterLab Notebook, it may mean\n",
       "  that the widgets JavaScript is still loading. If this message persists, it\n",
       "  likely means that the widgets JavaScript library is either not installed or\n",
       "  not enabled. See the <a href=\"https://ipywidgets.readthedocs.io/en/stable/user_install.html\">Jupyter\n",
       "  Widgets Documentation</a> for setup instructions.\n",
       "</p>\n",
       "<p>\n",
       "  If you're reading this message in another frontend (for example, a static\n",
       "  rendering on GitHub or <a href=\"https://nbviewer.jupyter.org/\">NBViewer</a>),\n",
       "  it may mean that your frontend doesn't currently support widgets.\n",
       "</p>\n"
      ],
      "text/plain": [
       "HBox(children=(Checkbox(value=False, description='Austria'), Checkbox(value=False, description='Portugal'), Checkbox(value=False, description='Sweden'), Checkbox(value=False, description='Mexico'), Checkbox(value=False, description='Panama')))"
      ]
     },
     "metadata": {},
     "output_type": "display_data"
    },
    {
     "data": {
      "application/vnd.jupyter.widget-view+json": {
       "model_id": "34002441ee2a465aa038adf77472bdca",
       "version_major": 2,
       "version_minor": 0
      },
      "text/html": [
       "<p>Failed to display Jupyter Widget of type <code>HBox</code>.</p>\n",
       "<p>\n",
       "  If you're reading this message in the Jupyter Notebook or JupyterLab Notebook, it may mean\n",
       "  that the widgets JavaScript is still loading. If this message persists, it\n",
       "  likely means that the widgets JavaScript library is either not installed or\n",
       "  not enabled. See the <a href=\"https://ipywidgets.readthedocs.io/en/stable/user_install.html\">Jupyter\n",
       "  Widgets Documentation</a> for setup instructions.\n",
       "</p>\n",
       "<p>\n",
       "  If you're reading this message in another frontend (for example, a static\n",
       "  rendering on GitHub or <a href=\"https://nbviewer.jupyter.org/\">NBViewer</a>),\n",
       "  it may mean that your frontend doesn't currently support widgets.\n",
       "</p>\n"
      ],
      "text/plain": [
       "HBox(children=(Checkbox(value=False, description='Uruguay'), Checkbox(value=False, description='Iceland'), Checkbox(value=False, description='Spain'), Checkbox(value=False, description='Czech Republic'), Checkbox(value=False, description='Ireland')))"
      ]
     },
     "metadata": {},
     "output_type": "display_data"
    },
    {
     "data": {
      "application/vnd.jupyter.widget-view+json": {
       "model_id": "3cd1442d07f54bdcb7066d746388671e",
       "version_major": 2,
       "version_minor": 0
      },
      "text/html": [
       "<p>Failed to display Jupyter Widget of type <code>HBox</code>.</p>\n",
       "<p>\n",
       "  If you're reading this message in the Jupyter Notebook or JupyterLab Notebook, it may mean\n",
       "  that the widgets JavaScript is still loading. If this message persists, it\n",
       "  likely means that the widgets JavaScript library is either not installed or\n",
       "  not enabled. See the <a href=\"https://ipywidgets.readthedocs.io/en/stable/user_install.html\">Jupyter\n",
       "  Widgets Documentation</a> for setup instructions.\n",
       "</p>\n",
       "<p>\n",
       "  If you're reading this message in another frontend (for example, a static\n",
       "  rendering on GitHub or <a href=\"https://nbviewer.jupyter.org/\">NBViewer</a>),\n",
       "  it may mean that your frontend doesn't currently support widgets.\n",
       "</p>\n"
      ],
      "text/plain": [
       "HBox(children=(Checkbox(value=False, description='Netherlands'), Checkbox(value=False, description='Slovakia'), Checkbox(value=False, description='Colombia'), Checkbox(value=False, description='Singapore'), Checkbox(value=False, description='Indonesia')))"
      ]
     },
     "metadata": {},
     "output_type": "display_data"
    },
    {
     "data": {
      "application/vnd.jupyter.widget-view+json": {
       "model_id": "e80f784d011649079ae9b6fa1e8c978f",
       "version_major": 2,
       "version_minor": 0
      },
      "text/html": [
       "<p>Failed to display Jupyter Widget of type <code>HBox</code>.</p>\n",
       "<p>\n",
       "  If you're reading this message in the Jupyter Notebook or JupyterLab Notebook, it may mean\n",
       "  that the widgets JavaScript is still loading. If this message persists, it\n",
       "  likely means that the widgets JavaScript library is either not installed or\n",
       "  not enabled. See the <a href=\"https://ipywidgets.readthedocs.io/en/stable/user_install.html\">Jupyter\n",
       "  Widgets Documentation</a> for setup instructions.\n",
       "</p>\n",
       "<p>\n",
       "  If you're reading this message in another frontend (for example, a static\n",
       "  rendering on GitHub or <a href=\"https://nbviewer.jupyter.org/\">NBViewer</a>),\n",
       "  it may mean that your frontend doesn't currently support widgets.\n",
       "</p>\n"
      ],
      "text/plain": [
       "HBox(children=(Checkbox(value=False, description='Dominican Republic'), Checkbox(value=False, description='Luxembourg'), Checkbox(value=False, description='United Kingdom'), Checkbox(value=False, description='Paraguay'), Checkbox(value=False, description='Australia')))"
      ]
     },
     "metadata": {},
     "output_type": "display_data"
    },
    {
     "data": {
      "application/vnd.jupyter.widget-view+json": {
       "model_id": "801fbd23c5464beb92e4f433cf6d84b9",
       "version_major": 2,
       "version_minor": 0
      },
      "text/html": [
       "<p>Failed to display Jupyter Widget of type <code>HBox</code>.</p>\n",
       "<p>\n",
       "  If you're reading this message in the Jupyter Notebook or JupyterLab Notebook, it may mean\n",
       "  that the widgets JavaScript is still loading. If this message persists, it\n",
       "  likely means that the widgets JavaScript library is either not installed or\n",
       "  not enabled. See the <a href=\"https://ipywidgets.readthedocs.io/en/stable/user_install.html\">Jupyter\n",
       "  Widgets Documentation</a> for setup instructions.\n",
       "</p>\n",
       "<p>\n",
       "  If you're reading this message in another frontend (for example, a static\n",
       "  rendering on GitHub or <a href=\"https://nbviewer.jupyter.org/\">NBViewer</a>),\n",
       "  it may mean that your frontend doesn't currently support widgets.\n",
       "</p>\n"
      ],
      "text/plain": [
       "HBox(children=(Checkbox(value=False, description='Latvia'), Checkbox(value=False, description='Greece')))"
      ]
     },
     "metadata": {},
     "output_type": "display_data"
    }
   ],
   "source": [
    "print(\"Select Regions to Show in the Animation\")\n",
    "checkboxes = []\n",
    "for i in all_region_codes:\n",
    "    c = widgets.Checkbox(description=country_names[i])\n",
    "    if i == 'us':\n",
    "        c.value=True\n",
    "    checkboxes.append(c)\n",
    "last = 0\n",
    "for i in range(1, len(checkboxes)):\n",
    "    if i%5 == 0 or i == len(checkboxes) - 1:\n",
    "        display(widgets.HBox(checkboxes[last:i]))\n",
    "        last = i"
   ]
  },
  {
   "cell_type": "code",
   "execution_count": 32,
   "metadata": {},
   "outputs": [],
   "source": [
    "# returns the networkx graph for the given set of regions and the date\n",
    "def make_networkx_graph(regions, date):\n",
    "    country_grouped = df_specific_song.loc[df_specific_song['Region'].isin(regions)]\n",
    "    country_grouped = country_grouped.drop(columns=['Track Name', 'Streams', 'URL'])\n",
    "    country_grouped = country_grouped[country_grouped[\"Date\"]==date]\n",
    "    \n",
    "    df_countries = pd.read_json(\"../../data/countries.json\")\n",
    "    df_countries = df_countries.transpose()\n",
    "    df_countries = df_countries.drop(columns=['continent', 'capital', 'languages', 'native', 'phone', 'currency'])\n",
    "    df_countries = df_countries.rename(columns={'name':'Country'})\n",
    "    df_countries.head()\n",
    "    country_grouped['Region'] = country_grouped['Region'].str.upper()\n",
    "    country_grouped = country_grouped.merge(df_countries, how='inner', left_on='Region', right_index=True)\n",
    "    \n",
    "    G = nx.Graph()\n",
    "    unique_countries = country_grouped['Country'].unique().tolist()\n",
    "    \n",
    "    for i in unique_countries:\n",
    "        G.add_node(i, name=i, node_type='Country', position=country_grouped[country_grouped[\"Country\"]==i][\"Position\"].iloc[0])\n",
    "        \n",
    "    return G"
   ]
  },
  {
   "cell_type": "code",
   "execution_count": 76,
   "metadata": {},
   "outputs": [
    {
     "data": {
      "application/vnd.plotly.v1+json": {
       "config": {
        "linkText": "Export to plot.ly",
        "plotlyServerURL": "https://plot.ly",
        "showLink": false
       },
       "data": [
        {
         "marker": {
          "size": [
           195
          ],
          "sizemode": "area",
          "sizeref": 0.2
         },
         "mode": "markers+text",
         "name": "United States",
         "text": [
          "United States:<br> 5"
         ],
         "type": "scatter",
         "uid": "605aa0f1-f313-49c4-8710-8bacc332805a",
         "x": [
          -0.4390923112093326
         ],
         "y": [
          0.8103843223289633
         ]
        },
        {
         "marker": {
          "size": [
           198
          ],
          "sizemode": "area",
          "sizeref": 0.2
         },
         "mode": "markers+text",
         "name": "Japan",
         "text": [
          "Japan:<br> 2"
         ],
         "type": "scatter",
         "uid": "e36963c6-23c3-4510-a16c-214789cf5488",
         "x": [
          0.7284067455537848
         ],
         "y": [
          -0.3196044906045227
         ]
        },
        {
         "marker": {
          "size": [
           199
          ],
          "sizemode": "area",
          "sizeref": 0.2
         },
         "mode": "markers+text",
         "name": "Switzerland",
         "text": [
          "Switzerland:<br> 1"
         ],
         "type": "scatter",
         "uid": "63c06c12-4bc1-4d8b-9133-7f7be2338f44",
         "x": [
          -0.9352616983616726
         ],
         "y": [
          -0.24127852031015448
         ]
        },
        {
         "marker": {
          "size": [
           198
          ],
          "sizemode": "area",
          "sizeref": 0.2
         },
         "mode": "markers+text",
         "name": "Singapore",
         "text": [
          "Singapore:<br> 2"
         ],
         "type": "scatter",
         "uid": "8f90b8b2-1cd3-4327-b670-0cdcafc34c07",
         "x": [
          -0.010011833506905165
         ],
         "y": [
          -1
         ]
        },
        {
         "marker": {
          "size": [
           198
          ],
          "sizemode": "area",
          "sizeref": 0.2
         },
         "mode": "markers+text",
         "name": "Hong Kong",
         "text": [
          "Hong Kong:<br> 2"
         ],
         "type": "scatter",
         "uid": "44a98145-f9ce-44e9-bc13-7fe342c92184",
         "x": [
          0.6559590975241256
         ],
         "y": [
          0.750498688585714
         ]
        }
       ],
       "frames": [
        {
         "data": [
          {
           "marker": {
            "size": [
             195
            ],
            "sizemode": "area",
            "sizeref": 0.2
           },
           "mode": "markers+text",
           "name": "United States",
           "text": [
            "United States:<br> 5"
           ],
           "type": "scatter",
           "x": [
            0.570337214136965
           ],
           "y": [
            0.7560407877268074
           ]
          },
          {
           "marker": {
            "size": [
             198
            ],
            "sizemode": "area",
            "sizeref": 0.2
           },
           "mode": "markers+text",
           "name": "Japan",
           "text": [
            "Japan:<br> 2"
           ],
           "type": "scatter",
           "x": [
            -0.09520758404994993
           ],
           "y": [
            -1
           ]
          },
          {
           "marker": {
            "size": [
             199
            ],
            "sizemode": "area",
            "sizeref": 0.2
           },
           "mode": "markers+text",
           "name": "Switzerland",
           "text": [
            "Switzerland:<br> 1"
           ],
           "type": "scatter",
           "x": [
            0.9016436528589505
           ],
           "y": [
            -0.2662778753016471
           ]
          },
          {
           "marker": {
            "size": [
             198
            ],
            "sizemode": "area",
            "sizeref": 0.2
           },
           "mode": "markers+text",
           "name": "Singapore",
           "text": [
            "Singapore:<br> 2"
           ],
           "type": "scatter",
           "x": [
            -0.5025596180882246
           ],
           "y": [
            0.7549144136024102
           ]
          },
          {
           "marker": {
            "size": [
             198
            ],
            "sizemode": "area",
            "sizeref": 0.2
           },
           "mode": "markers+text",
           "name": "Hong Kong",
           "text": [
            "Hong Kong:<br> 2"
           ],
           "type": "scatter",
           "x": [
            -0.8742136648577409
           ],
           "y": [
            -0.24467732602757036
           ]
          }
         ],
         "name": "2017-04-08"
        },
        {
         "data": [
          {
           "marker": {
            "size": [
             194
            ],
            "sizemode": "area",
            "sizeref": 0.2
           },
           "mode": "markers+text",
           "name": "United States",
           "text": [
            "United States:<br> 6"
           ],
           "type": "scatter",
           "x": [
            1
           ],
           "y": [
            -0.2757533996566732
           ]
          },
          {
           "marker": {
            "size": [
             198
            ],
            "sizemode": "area",
            "sizeref": 0.2
           },
           "mode": "markers+text",
           "name": "Japan",
           "text": [
            "Japan:<br> 2"
           ],
           "type": "scatter",
           "x": [
            -0.7188446116392816
           ],
           "y": [
            0.7957648059267222
           ]
          },
          {
           "marker": {
            "size": [
             199
            ],
            "sizemode": "area",
            "sizeref": 0.2
           },
           "mode": "markers+text",
           "name": "Switzerland",
           "text": [
            "Switzerland:<br> 1"
           ],
           "type": "scatter",
           "x": [
            0.07114705563032382
           ],
           "y": [
            -0.9545523716783253
           ]
          },
          {
           "marker": {
            "size": [
             198
            ],
            "sizemode": "area",
            "sizeref": 0.2
           },
           "mode": "markers+text",
           "name": "Singapore",
           "text": [
            "Singapore:<br> 2"
           ],
           "type": "scatter",
           "x": [
            0.6256241165235021
           ],
           "y": [
            0.8707106762863813
           ]
          },
          {
           "marker": {
            "size": [
             198
            ],
            "sizemode": "area",
            "sizeref": 0.2
           },
           "mode": "markers+text",
           "name": "Hong Kong",
           "text": [
            "Hong Kong:<br> 2"
           ],
           "type": "scatter",
           "x": [
            -0.9779265605145444
           ],
           "y": [
            -0.4361697108781053
           ]
          }
         ],
         "name": "2017-04-09"
        },
        {
         "data": [
          {
           "marker": {
            "size": [
             195
            ],
            "sizemode": "area",
            "sizeref": 0.2
           },
           "mode": "markers+text",
           "name": "United States",
           "text": [
            "United States:<br> 5"
           ],
           "type": "scatter",
           "x": [
            0.9977813821484578
           ],
           "y": [
            -0.10452498522620007
           ]
          },
          {
           "marker": {
            "size": [
             199
            ],
            "sizemode": "area",
            "sizeref": 0.2
           },
           "mode": "markers+text",
           "name": "Japan",
           "text": [
            "Japan:<br> 1"
           ],
           "type": "scatter",
           "x": [
            -0.0667357177342432
           ],
           "y": [
            -1
           ]
          },
          {
           "marker": {
            "size": [
             199
            ],
            "sizemode": "area",
            "sizeref": 0.2
           },
           "mode": "markers+text",
           "name": "Switzerland",
           "text": [
            "Switzerland:<br> 1"
           ],
           "type": "scatter",
           "x": [
            -0.5314370747732081
           ],
           "y": [
            0.660002145315871
           ]
          },
          {
           "marker": {
            "size": [
             198
            ],
            "sizemode": "area",
            "sizeref": 0.2
           },
           "mode": "markers+text",
           "name": "Singapore",
           "text": [
            "Singapore:<br> 2"
           ],
           "type": "scatter",
           "x": [
            -0.8676272229885429
           ],
           "y": [
            -0.31338692419249536
           ]
          },
          {
           "marker": {
            "size": [
             198
            ],
            "sizemode": "area",
            "sizeref": 0.2
           },
           "mode": "markers+text",
           "name": "Hong Kong",
           "text": [
            "Hong Kong:<br> 2"
           ],
           "type": "scatter",
           "x": [
            0.46801863334753624
           ],
           "y": [
            0.7579097641028243
           ]
          }
         ],
         "name": "2017-04-10"
        }
       ],
       "layout": {
        "hovermode": "closest",
        "sliders": [
         {
          "active": 0,
          "currentvalue": {
           "font": {
            "size": 20
           },
           "prefix": "Day:",
           "visible": true,
           "xanchor": "right"
          },
          "len": 0.9,
          "pad": {
           "b": 10,
           "t": 50
          },
          "steps": [
           {
            "args": [
             [
              "2017-04-08"
             ],
             {
              "frame": {
               "duration": 300,
               "redraw": false
              },
              "mode": "immediate",
              "transition": {
               "duration": 300
              }
             }
            ],
            "label": "2017-04-08",
            "method": "animate"
           },
           {
            "args": [
             [
              "2017-04-09"
             ],
             {
              "frame": {
               "duration": 300,
               "redraw": false
              },
              "mode": "immediate",
              "transition": {
               "duration": 300
              }
             }
            ],
            "label": "2017-04-09",
            "method": "animate"
           },
           {
            "args": [
             [
              "2017-04-10"
             ],
             {
              "frame": {
               "duration": 300,
               "redraw": false
              },
              "mode": "immediate",
              "transition": {
               "duration": 300
              }
             }
            ],
            "label": "2017-04-10",
            "method": "animate"
           }
          ],
          "transition": {
           "duration": 300,
           "easing": "cubic-in-out"
          },
          "x": 0.1,
          "xanchor": "left",
          "y": 0,
          "yanchor": "top"
         }
        ],
        "updatemenus": [
         {
          "buttons": [
           {
            "args": [
             null,
             {
              "frame": {
               "duration": 500,
               "redraw": false
              },
              "fromcurrent": true,
              "transition": {
               "duration": 300,
               "easing": "quadratic-in-out"
              }
             }
            ],
            "label": "Play",
            "method": "animate"
           },
           {
            "args": [
             [
              null
             ],
             {
              "frame": {
               "duration": 0,
               "redraw": false
              },
              "mode": "immediate",
              "transition": {
               "duration": 0
              }
             }
            ],
            "label": "Pause",
            "method": "animate"
           }
          ],
          "direction": "left",
          "pad": {
           "r": 10,
           "t": 87
          },
          "showactive": false,
          "type": "buttons",
          "x": 0.1,
          "xanchor": "right",
          "y": 0,
          "yanchor": "top"
         }
        ]
       }
      },
      "text/html": [
       "<div id=\"0aff50d8-cd86-404b-8f33-13f8e081294f\" style=\"height: 525px; width: 100%;\" class=\"plotly-graph-div\"></div><script type=\"text/javascript\">require([\"plotly\"], function(Plotly) { window.PLOTLYENV=window.PLOTLYENV || {};window.PLOTLYENV.BASE_URL=\"https://plot.ly\";\n",
       "    if (document.getElementById(\"0aff50d8-cd86-404b-8f33-13f8e081294f\")) {\n",
       "        Plotly.plot(\n",
       "            '0aff50d8-cd86-404b-8f33-13f8e081294f',\n",
       "            [{\"marker\": {\"size\": [195], \"sizemode\": \"area\", \"sizeref\": 0.2}, \"mode\": \"markers+text\", \"name\": \"United States\", \"text\": [\"United States:<br> 5\"], \"x\": [-0.4390923112093326], \"y\": [0.8103843223289633], \"type\": \"scatter\", \"uid\": \"3d3123d7-19bd-4a7a-823c-10c99bd0da7b\"}, {\"marker\": {\"size\": [198], \"sizemode\": \"area\", \"sizeref\": 0.2}, \"mode\": \"markers+text\", \"name\": \"Japan\", \"text\": [\"Japan:<br> 2\"], \"x\": [0.7284067455537848], \"y\": [-0.3196044906045227], \"type\": \"scatter\", \"uid\": \"50033aca-e033-4518-91ab-b8785598a5d1\"}, {\"marker\": {\"size\": [199], \"sizemode\": \"area\", \"sizeref\": 0.2}, \"mode\": \"markers+text\", \"name\": \"Switzerland\", \"text\": [\"Switzerland:<br> 1\"], \"x\": [-0.9352616983616726], \"y\": [-0.24127852031015448], \"type\": \"scatter\", \"uid\": \"d072e74f-01b3-44f0-9736-f357d797e248\"}, {\"marker\": {\"size\": [198], \"sizemode\": \"area\", \"sizeref\": 0.2}, \"mode\": \"markers+text\", \"name\": \"Singapore\", \"text\": [\"Singapore:<br> 2\"], \"x\": [-0.010011833506905165], \"y\": [-1.0], \"type\": \"scatter\", \"uid\": \"2e474a2e-2a67-4994-a4a2-fa8b8d8bfdeb\"}, {\"marker\": {\"size\": [198], \"sizemode\": \"area\", \"sizeref\": 0.2}, \"mode\": \"markers+text\", \"name\": \"Hong Kong\", \"text\": [\"Hong Kong:<br> 2\"], \"x\": [0.6559590975241256], \"y\": [0.750498688585714], \"type\": \"scatter\", \"uid\": \"abe24d8b-0a0e-4ebb-9031-a9af9acfc128\"}],\n",
       "            {\"hovermode\": \"closest\", \"sliders\": [{\"active\": 0, \"currentvalue\": {\"font\": {\"size\": 20}, \"prefix\": \"Day:\", \"visible\": true, \"xanchor\": \"right\"}, \"len\": 0.9, \"pad\": {\"b\": 10, \"t\": 50}, \"steps\": [{\"args\": [[\"2017-04-08\"], {\"frame\": {\"duration\": 300, \"redraw\": false}, \"mode\": \"immediate\", \"transition\": {\"duration\": 300}}], \"label\": \"2017-04-08\", \"method\": \"animate\"}, {\"args\": [[\"2017-04-09\"], {\"frame\": {\"duration\": 300, \"redraw\": false}, \"mode\": \"immediate\", \"transition\": {\"duration\": 300}}], \"label\": \"2017-04-09\", \"method\": \"animate\"}, {\"args\": [[\"2017-04-10\"], {\"frame\": {\"duration\": 300, \"redraw\": false}, \"mode\": \"immediate\", \"transition\": {\"duration\": 300}}], \"label\": \"2017-04-10\", \"method\": \"animate\"}], \"transition\": {\"duration\": 300, \"easing\": \"cubic-in-out\"}, \"x\": 0.1, \"xanchor\": \"left\", \"y\": 0, \"yanchor\": \"top\"}], \"updatemenus\": [{\"buttons\": [{\"args\": [null, {\"frame\": {\"duration\": 500, \"redraw\": false}, \"fromcurrent\": true, \"transition\": {\"duration\": 300, \"easing\": \"quadratic-in-out\"}}], \"label\": \"Play\", \"method\": \"animate\"}, {\"args\": [[null], {\"frame\": {\"duration\": 0, \"redraw\": false}, \"mode\": \"immediate\", \"transition\": {\"duration\": 0}}], \"label\": \"Pause\", \"method\": \"animate\"}], \"direction\": \"left\", \"pad\": {\"r\": 10, \"t\": 87}, \"showactive\": false, \"type\": \"buttons\", \"x\": 0.1, \"xanchor\": \"right\", \"y\": 0, \"yanchor\": \"top\"}]},\n",
       "            {\"showLink\": false, \"linkText\": \"Export to plot.ly\", \"plotlyServerURL\": \"https://plot.ly\"}\n",
       "        ).then(function () {return Plotly.addFrames('0aff50d8-cd86-404b-8f33-13f8e081294f',[{\"data\": [{\"marker\": {\"size\": [195], \"sizemode\": \"area\", \"sizeref\": 0.2}, \"mode\": \"markers+text\", \"name\": \"United States\", \"text\": [\"United States:<br> 5\"], \"x\": [0.570337214136965], \"y\": [0.7560407877268074], \"type\": \"scatter\"}, {\"marker\": {\"size\": [198], \"sizemode\": \"area\", \"sizeref\": 0.2}, \"mode\": \"markers+text\", \"name\": \"Japan\", \"text\": [\"Japan:<br> 2\"], \"x\": [-0.09520758404994993], \"y\": [-1.0], \"type\": \"scatter\"}, {\"marker\": {\"size\": [199], \"sizemode\": \"area\", \"sizeref\": 0.2}, \"mode\": \"markers+text\", \"name\": \"Switzerland\", \"text\": [\"Switzerland:<br> 1\"], \"x\": [0.9016436528589505], \"y\": [-0.2662778753016471], \"type\": \"scatter\"}, {\"marker\": {\"size\": [198], \"sizemode\": \"area\", \"sizeref\": 0.2}, \"mode\": \"markers+text\", \"name\": \"Singapore\", \"text\": [\"Singapore:<br> 2\"], \"x\": [-0.5025596180882246], \"y\": [0.7549144136024102], \"type\": \"scatter\"}, {\"marker\": {\"size\": [198], \"sizemode\": \"area\", \"sizeref\": 0.2}, \"mode\": \"markers+text\", \"name\": \"Hong Kong\", \"text\": [\"Hong Kong:<br> 2\"], \"x\": [-0.8742136648577409], \"y\": [-0.24467732602757036], \"type\": \"scatter\"}], \"name\": \"2017-04-08\"}, {\"data\": [{\"marker\": {\"size\": [194], \"sizemode\": \"area\", \"sizeref\": 0.2}, \"mode\": \"markers+text\", \"name\": \"United States\", \"text\": [\"United States:<br> 6\"], \"x\": [1.0], \"y\": [-0.2757533996566732], \"type\": \"scatter\"}, {\"marker\": {\"size\": [198], \"sizemode\": \"area\", \"sizeref\": 0.2}, \"mode\": \"markers+text\", \"name\": \"Japan\", \"text\": [\"Japan:<br> 2\"], \"x\": [-0.7188446116392816], \"y\": [0.7957648059267222], \"type\": \"scatter\"}, {\"marker\": {\"size\": [199], \"sizemode\": \"area\", \"sizeref\": 0.2}, \"mode\": \"markers+text\", \"name\": \"Switzerland\", \"text\": [\"Switzerland:<br> 1\"], \"x\": [0.07114705563032382], \"y\": [-0.9545523716783253], \"type\": \"scatter\"}, {\"marker\": {\"size\": [198], \"sizemode\": \"area\", \"sizeref\": 0.2}, \"mode\": \"markers+text\", \"name\": \"Singapore\", \"text\": [\"Singapore:<br> 2\"], \"x\": [0.6256241165235021], \"y\": [0.8707106762863813], \"type\": \"scatter\"}, {\"marker\": {\"size\": [198], \"sizemode\": \"area\", \"sizeref\": 0.2}, \"mode\": \"markers+text\", \"name\": \"Hong Kong\", \"text\": [\"Hong Kong:<br> 2\"], \"x\": [-0.9779265605145444], \"y\": [-0.4361697108781053], \"type\": \"scatter\"}], \"name\": \"2017-04-09\"}, {\"data\": [{\"marker\": {\"size\": [195], \"sizemode\": \"area\", \"sizeref\": 0.2}, \"mode\": \"markers+text\", \"name\": \"United States\", \"text\": [\"United States:<br> 5\"], \"x\": [0.9977813821484578], \"y\": [-0.10452498522620007], \"type\": \"scatter\"}, {\"marker\": {\"size\": [199], \"sizemode\": \"area\", \"sizeref\": 0.2}, \"mode\": \"markers+text\", \"name\": \"Japan\", \"text\": [\"Japan:<br> 1\"], \"x\": [-0.0667357177342432], \"y\": [-1.0], \"type\": \"scatter\"}, {\"marker\": {\"size\": [199], \"sizemode\": \"area\", \"sizeref\": 0.2}, \"mode\": \"markers+text\", \"name\": \"Switzerland\", \"text\": [\"Switzerland:<br> 1\"], \"x\": [-0.5314370747732081], \"y\": [0.660002145315871], \"type\": \"scatter\"}, {\"marker\": {\"size\": [198], \"sizemode\": \"area\", \"sizeref\": 0.2}, \"mode\": \"markers+text\", \"name\": \"Singapore\", \"text\": [\"Singapore:<br> 2\"], \"x\": [-0.8676272229885429], \"y\": [-0.31338692419249536], \"type\": \"scatter\"}, {\"marker\": {\"size\": [198], \"sizemode\": \"area\", \"sizeref\": 0.2}, \"mode\": \"markers+text\", \"name\": \"Hong Kong\", \"text\": [\"Hong Kong:<br> 2\"], \"x\": [0.46801863334753624], \"y\": [0.7579097641028243], \"type\": \"scatter\"}], \"name\": \"2017-04-10\"}]);}).then(function(){Plotly.animate('0aff50d8-cd86-404b-8f33-13f8e081294f');})\n",
       "    }\n",
       "        });</script><script type=\"text/javascript\">window.addEventListener(\"resize\", function(){if (document.getElementById(\"0aff50d8-cd86-404b-8f33-13f8e081294f\")) {window._Plotly.Plots.resize(document.getElementById(\"0aff50d8-cd86-404b-8f33-13f8e081294f\"));};})</script>"
      ],
      "text/vnd.plotly.v1+html": [
       "<div id=\"0aff50d8-cd86-404b-8f33-13f8e081294f\" style=\"height: 525px; width: 100%;\" class=\"plotly-graph-div\"></div><script type=\"text/javascript\">require([\"plotly\"], function(Plotly) { window.PLOTLYENV=window.PLOTLYENV || {};window.PLOTLYENV.BASE_URL=\"https://plot.ly\";\n",
       "    if (document.getElementById(\"0aff50d8-cd86-404b-8f33-13f8e081294f\")) {\n",
       "        Plotly.plot(\n",
       "            '0aff50d8-cd86-404b-8f33-13f8e081294f',\n",
       "            [{\"marker\": {\"size\": [195], \"sizemode\": \"area\", \"sizeref\": 0.2}, \"mode\": \"markers+text\", \"name\": \"United States\", \"text\": [\"United States:<br> 5\"], \"x\": [-0.4390923112093326], \"y\": [0.8103843223289633], \"type\": \"scatter\", \"uid\": \"3d3123d7-19bd-4a7a-823c-10c99bd0da7b\"}, {\"marker\": {\"size\": [198], \"sizemode\": \"area\", \"sizeref\": 0.2}, \"mode\": \"markers+text\", \"name\": \"Japan\", \"text\": [\"Japan:<br> 2\"], \"x\": [0.7284067455537848], \"y\": [-0.3196044906045227], \"type\": \"scatter\", \"uid\": \"50033aca-e033-4518-91ab-b8785598a5d1\"}, {\"marker\": {\"size\": [199], \"sizemode\": \"area\", \"sizeref\": 0.2}, \"mode\": \"markers+text\", \"name\": \"Switzerland\", \"text\": [\"Switzerland:<br> 1\"], \"x\": [-0.9352616983616726], \"y\": [-0.24127852031015448], \"type\": \"scatter\", \"uid\": \"d072e74f-01b3-44f0-9736-f357d797e248\"}, {\"marker\": {\"size\": [198], \"sizemode\": \"area\", \"sizeref\": 0.2}, \"mode\": \"markers+text\", \"name\": \"Singapore\", \"text\": [\"Singapore:<br> 2\"], \"x\": [-0.010011833506905165], \"y\": [-1.0], \"type\": \"scatter\", \"uid\": \"2e474a2e-2a67-4994-a4a2-fa8b8d8bfdeb\"}, {\"marker\": {\"size\": [198], \"sizemode\": \"area\", \"sizeref\": 0.2}, \"mode\": \"markers+text\", \"name\": \"Hong Kong\", \"text\": [\"Hong Kong:<br> 2\"], \"x\": [0.6559590975241256], \"y\": [0.750498688585714], \"type\": \"scatter\", \"uid\": \"abe24d8b-0a0e-4ebb-9031-a9af9acfc128\"}],\n",
       "            {\"hovermode\": \"closest\", \"sliders\": [{\"active\": 0, \"currentvalue\": {\"font\": {\"size\": 20}, \"prefix\": \"Day:\", \"visible\": true, \"xanchor\": \"right\"}, \"len\": 0.9, \"pad\": {\"b\": 10, \"t\": 50}, \"steps\": [{\"args\": [[\"2017-04-08\"], {\"frame\": {\"duration\": 300, \"redraw\": false}, \"mode\": \"immediate\", \"transition\": {\"duration\": 300}}], \"label\": \"2017-04-08\", \"method\": \"animate\"}, {\"args\": [[\"2017-04-09\"], {\"frame\": {\"duration\": 300, \"redraw\": false}, \"mode\": \"immediate\", \"transition\": {\"duration\": 300}}], \"label\": \"2017-04-09\", \"method\": \"animate\"}, {\"args\": [[\"2017-04-10\"], {\"frame\": {\"duration\": 300, \"redraw\": false}, \"mode\": \"immediate\", \"transition\": {\"duration\": 300}}], \"label\": \"2017-04-10\", \"method\": \"animate\"}], \"transition\": {\"duration\": 300, \"easing\": \"cubic-in-out\"}, \"x\": 0.1, \"xanchor\": \"left\", \"y\": 0, \"yanchor\": \"top\"}], \"updatemenus\": [{\"buttons\": [{\"args\": [null, {\"frame\": {\"duration\": 500, \"redraw\": false}, \"fromcurrent\": true, \"transition\": {\"duration\": 300, \"easing\": \"quadratic-in-out\"}}], \"label\": \"Play\", \"method\": \"animate\"}, {\"args\": [[null], {\"frame\": {\"duration\": 0, \"redraw\": false}, \"mode\": \"immediate\", \"transition\": {\"duration\": 0}}], \"label\": \"Pause\", \"method\": \"animate\"}], \"direction\": \"left\", \"pad\": {\"r\": 10, \"t\": 87}, \"showactive\": false, \"type\": \"buttons\", \"x\": 0.1, \"xanchor\": \"right\", \"y\": 0, \"yanchor\": \"top\"}]},\n",
       "            {\"showLink\": false, \"linkText\": \"Export to plot.ly\", \"plotlyServerURL\": \"https://plot.ly\"}\n",
       "        ).then(function () {return Plotly.addFrames('0aff50d8-cd86-404b-8f33-13f8e081294f',[{\"data\": [{\"marker\": {\"size\": [195], \"sizemode\": \"area\", \"sizeref\": 0.2}, \"mode\": \"markers+text\", \"name\": \"United States\", \"text\": [\"United States:<br> 5\"], \"x\": [0.570337214136965], \"y\": [0.7560407877268074], \"type\": \"scatter\"}, {\"marker\": {\"size\": [198], \"sizemode\": \"area\", \"sizeref\": 0.2}, \"mode\": \"markers+text\", \"name\": \"Japan\", \"text\": [\"Japan:<br> 2\"], \"x\": [-0.09520758404994993], \"y\": [-1.0], \"type\": \"scatter\"}, {\"marker\": {\"size\": [199], \"sizemode\": \"area\", \"sizeref\": 0.2}, \"mode\": \"markers+text\", \"name\": \"Switzerland\", \"text\": [\"Switzerland:<br> 1\"], \"x\": [0.9016436528589505], \"y\": [-0.2662778753016471], \"type\": \"scatter\"}, {\"marker\": {\"size\": [198], \"sizemode\": \"area\", \"sizeref\": 0.2}, \"mode\": \"markers+text\", \"name\": \"Singapore\", \"text\": [\"Singapore:<br> 2\"], \"x\": [-0.5025596180882246], \"y\": [0.7549144136024102], \"type\": \"scatter\"}, {\"marker\": {\"size\": [198], \"sizemode\": \"area\", \"sizeref\": 0.2}, \"mode\": \"markers+text\", \"name\": \"Hong Kong\", \"text\": [\"Hong Kong:<br> 2\"], \"x\": [-0.8742136648577409], \"y\": [-0.24467732602757036], \"type\": \"scatter\"}], \"name\": \"2017-04-08\"}, {\"data\": [{\"marker\": {\"size\": [194], \"sizemode\": \"area\", \"sizeref\": 0.2}, \"mode\": \"markers+text\", \"name\": \"United States\", \"text\": [\"United States:<br> 6\"], \"x\": [1.0], \"y\": [-0.2757533996566732], \"type\": \"scatter\"}, {\"marker\": {\"size\": [198], \"sizemode\": \"area\", \"sizeref\": 0.2}, \"mode\": \"markers+text\", \"name\": \"Japan\", \"text\": [\"Japan:<br> 2\"], \"x\": [-0.7188446116392816], \"y\": [0.7957648059267222], \"type\": \"scatter\"}, {\"marker\": {\"size\": [199], \"sizemode\": \"area\", \"sizeref\": 0.2}, \"mode\": \"markers+text\", \"name\": \"Switzerland\", \"text\": [\"Switzerland:<br> 1\"], \"x\": [0.07114705563032382], \"y\": [-0.9545523716783253], \"type\": \"scatter\"}, {\"marker\": {\"size\": [198], \"sizemode\": \"area\", \"sizeref\": 0.2}, \"mode\": \"markers+text\", \"name\": \"Singapore\", \"text\": [\"Singapore:<br> 2\"], \"x\": [0.6256241165235021], \"y\": [0.8707106762863813], \"type\": \"scatter\"}, {\"marker\": {\"size\": [198], \"sizemode\": \"area\", \"sizeref\": 0.2}, \"mode\": \"markers+text\", \"name\": \"Hong Kong\", \"text\": [\"Hong Kong:<br> 2\"], \"x\": [-0.9779265605145444], \"y\": [-0.4361697108781053], \"type\": \"scatter\"}], \"name\": \"2017-04-09\"}, {\"data\": [{\"marker\": {\"size\": [195], \"sizemode\": \"area\", \"sizeref\": 0.2}, \"mode\": \"markers+text\", \"name\": \"United States\", \"text\": [\"United States:<br> 5\"], \"x\": [0.9977813821484578], \"y\": [-0.10452498522620007], \"type\": \"scatter\"}, {\"marker\": {\"size\": [199], \"sizemode\": \"area\", \"sizeref\": 0.2}, \"mode\": \"markers+text\", \"name\": \"Japan\", \"text\": [\"Japan:<br> 1\"], \"x\": [-0.0667357177342432], \"y\": [-1.0], \"type\": \"scatter\"}, {\"marker\": {\"size\": [199], \"sizemode\": \"area\", \"sizeref\": 0.2}, \"mode\": \"markers+text\", \"name\": \"Switzerland\", \"text\": [\"Switzerland:<br> 1\"], \"x\": [-0.5314370747732081], \"y\": [0.660002145315871], \"type\": \"scatter\"}, {\"marker\": {\"size\": [198], \"sizemode\": \"area\", \"sizeref\": 0.2}, \"mode\": \"markers+text\", \"name\": \"Singapore\", \"text\": [\"Singapore:<br> 2\"], \"x\": [-0.8676272229885429], \"y\": [-0.31338692419249536], \"type\": \"scatter\"}, {\"marker\": {\"size\": [198], \"sizemode\": \"area\", \"sizeref\": 0.2}, \"mode\": \"markers+text\", \"name\": \"Hong Kong\", \"text\": [\"Hong Kong:<br> 2\"], \"x\": [0.46801863334753624], \"y\": [0.7579097641028243], \"type\": \"scatter\"}], \"name\": \"2017-04-10\"}]);}).then(function(){Plotly.animate('0aff50d8-cd86-404b-8f33-13f8e081294f');})\n",
       "    }\n",
       "        });</script><script type=\"text/javascript\">window.addEventListener(\"resize\", function(){if (document.getElementById(\"0aff50d8-cd86-404b-8f33-13f8e081294f\")) {window._Plotly.Plots.resize(document.getElementById(\"0aff50d8-cd86-404b-8f33-13f8e081294f\"));};})</script>"
      ]
     },
     "metadata": {},
     "output_type": "display_data"
    }
   ],
   "source": [
    "#Run this cell to draw the graph/animation!\n",
    "\n",
    "#extracts the list of days that the chosen song exits on the rankings\n",
    "# song_days = sorted(df_specific_song[\"Date\"].unique().tolist())\n",
    "song_days = ['2017-04-08', '2017-04-09', '2017-04-10']\n",
    "#extracts which regions to use from the checkboxes\n",
    "# regions_to_use = [r for i,r in enumerate(all_region_codes) if checkboxes[i].value]\n",
    "regions_to_use = ['us', 'hk', 'ch', 'jp', 'sg']\n",
    "\n",
    "# make figure\n",
    "figure = {\n",
    "    'data': [],\n",
    "    'layout': {},\n",
    "    'frames': []\n",
    "}\n",
    "\n",
    "# fill in most of layout\n",
    "figure['layout']['hovermode'] = 'closest'\n",
    "figure['layout']['sliders'] = {\n",
    "    'args': [\n",
    "        'transition', {\n",
    "            'duration': 400,\n",
    "            'easing': 'cubic-in-out'\n",
    "        }\n",
    "    ],\n",
    "    'initialValue': song_days[0],\n",
    "    'plotlycommand': 'animate',\n",
    "    'values': song_days,\n",
    "    'visible': True\n",
    "}\n",
    "\n",
    "figure['layout']['updatemenus'] = [\n",
    "    {\n",
    "        'buttons': [\n",
    "            {\n",
    "                'args': [None, {'frame': {'duration': 500, 'redraw': False},\n",
    "                         'fromcurrent': True, 'transition': {'duration': 300, 'easing': 'quadratic-in-out'}}],\n",
    "                'label': 'Play',\n",
    "                'method': 'animate'\n",
    "            },\n",
    "            {\n",
    "                'args': [[None], {'frame': {'duration': 0, 'redraw': False}, 'mode': 'immediate',\n",
    "                'transition': {'duration': 0}}],\n",
    "                'label': 'Pause',\n",
    "                'method': 'animate'\n",
    "            }\n",
    "        ],\n",
    "        'direction': 'left',\n",
    "        'pad': {'r': 10, 't': 87},\n",
    "        'showactive': False,\n",
    "        'type': 'buttons',\n",
    "        'x': 0.1,\n",
    "        'xanchor': 'right',\n",
    "        'y': 0,\n",
    "        'yanchor': 'top'\n",
    "    }\n",
    "]\n",
    "\n",
    "sliders_dict = {\n",
    "    'active': 0,\n",
    "    'yanchor': 'top',\n",
    "    'xanchor': 'left',\n",
    "    'currentvalue': {\n",
    "        'font': {'size': 20},\n",
    "        'prefix': 'Day:',\n",
    "        'visible': True,\n",
    "        'xanchor': 'right'\n",
    "    },\n",
    "    'transition': {'duration': 300, 'easing': 'cubic-in-out'},\n",
    "    'pad': {'b': 10, 't': 50},\n",
    "    'len': 0.9,\n",
    "    'x': 0.1,\n",
    "    'y': 0,\n",
    "    'steps': []\n",
    "}\n",
    "\n",
    "# make initial day data\n",
    "date = song_days[0]\n",
    "G = make_networkx_graph(date=date, regions=regions_to_use)\n",
    "#to calcute the positions for all of the nodes in the graph\n",
    "# pos = graphviz_layout(G, prog='neato')\n",
    "pos = nx.drawing.layout.spring_layout(G)\n",
    "\n",
    "for node in G.nodes(data=True):\n",
    "    x, y = pos[node[0]]\n",
    "    data_dict = {\n",
    "        'x': tuple([x]),\n",
    "        'y': tuple([y]),\n",
    "        'mode': 'markers+text',\n",
    "        'text': tuple([\"{}:<br> {}\".format(node[1]['name'], node[1]['position'])]),\n",
    "        'marker': {\n",
    "            'sizemode': 'area',\n",
    "            'sizeref': 0.2,\n",
    "            'size': tuple([(200 - node[1]['position'])])\n",
    "        },\n",
    "        'name': node[1]['name']\n",
    "    }\n",
    "    figure['data'].append(data_dict)\n",
    "    \n",
    "# make frames\n",
    "for date in song_days:\n",
    "    frame = {'data': [], 'name': date}\n",
    "    \n",
    "    G = make_networkx_graph(date=date, regions=regions_to_use)\n",
    "    #to calcute the positions for all of the nodes in the graph\n",
    "#     pos = graphviz_layout(G, prog='neato')\n",
    "    pos = nx.layout.spring_layout(G)\n",
    "        \n",
    "    for node in G.nodes(data=True):\n",
    "        x, y = pos[node[0]]\n",
    "        data_dict = {\n",
    "            'x': tuple([x]),\n",
    "            'y': tuple([y]),\n",
    "            'mode': 'markers+text',\n",
    "            'text': tuple([\"{}:<br> {}\".format(node[1]['name'], node[1]['position'])]),\n",
    "            'marker': {\n",
    "                'sizemode': 'area',\n",
    "                'sizeref': 0.2,\n",
    "                'size': tuple([200 - (node[1]['position'])])\n",
    "            },\n",
    "            'name': node[1]['name']\n",
    "        }\n",
    "        frame['data'].append(data_dict)\n",
    "\n",
    "    figure['frames'].append(frame)\n",
    "    slider_step = {'args': [\n",
    "        [date],\n",
    "        {'frame': {'duration': 300, 'redraw': False},\n",
    "         'mode': 'immediate',\n",
    "       'transition': {'duration': 300}}\n",
    "     ],\n",
    "     'label': date,\n",
    "     'method': 'animate'}\n",
    "    sliders_dict['steps'].append(slider_step)\n",
    "\n",
    "    \n",
    "figure['layout']['sliders'] = [sliders_dict]\n",
    "\n",
    "iplot(figure, filename='anim')"
   ]
  },
  {
   "cell_type": "code",
   "execution_count": null,
   "metadata": {},
   "outputs": [],
   "source": []
  }
 ],
 "metadata": {
  "kernelspec": {
   "display_name": "Python 3",
   "language": "python",
   "name": "python3"
  },
  "language_info": {
   "codemirror_mode": {
    "name": "ipython",
    "version": 3
   },
   "file_extension": ".py",
   "mimetype": "text/x-python",
   "name": "python",
   "nbconvert_exporter": "python",
   "pygments_lexer": "ipython3",
   "version": "3.6.4"
  }
 },
 "nbformat": 4,
 "nbformat_minor": 2
}
