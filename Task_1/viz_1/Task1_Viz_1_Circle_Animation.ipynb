{
 "cells": [
  {
   "cell_type": "code",
   "execution_count": 74,
   "metadata": {},
   "outputs": [
    {
     "data": {
      "text/html": [
       "<script type=\"text/javascript\">window.PlotlyConfig = {MathJaxConfig: 'local'};</script><script type=\"text/javascript\">if (window.MathJax) {MathJax.Hub.Config({SVG: {font: \"STIX-Web\"}});}</script><script>requirejs.config({paths: { 'plotly': ['https://cdn.plot.ly/plotly-latest.min']},});if(!window._Plotly) {require(['plotly'],function(plotly) {window._Plotly=plotly;});}</script>"
      ],
      "text/vnd.plotly.v1+html": [
       "<script type=\"text/javascript\">window.PlotlyConfig = {MathJaxConfig: 'local'};</script><script type=\"text/javascript\">if (window.MathJax) {MathJax.Hub.Config({SVG: {font: \"STIX-Web\"}});}</script><script>requirejs.config({paths: { 'plotly': ['https://cdn.plot.ly/plotly-latest.min']},});if(!window._Plotly) {require(['plotly'],function(plotly) {window._Plotly=plotly;});}</script>"
      ]
     },
     "metadata": {},
     "output_type": "display_data"
    }
   ],
   "source": [
    "import networkx as nx\n",
    "import pandas as pd\n",
    "from networkx.drawing.nx_agraph import graphviz_layout\n",
    "import plotly.plotly as py\n",
    "import plotly.graph_objs as go\n",
    "import ipywidgets as widgets\n",
    "from IPython.display import display\n",
    "from plotly.offline import init_notebook_mode, iplot\n",
    "\n",
    "init_notebook_mode(connected=True)\n",
    "\n",
    "#note: for graphviz, need to install it separately, and also install the pygraphviz package.\n",
    "#also, for plotly need to sign up and set the api key. refer to plotly set up guide on their website"
   ]
  },
  {
   "cell_type": "markdown",
   "metadata": {},
   "source": [
    "Task 2 Viz 2: Animation of the ranking of the song in different countries, using circles.\n",
    "\n",
    "Try 1: Using networkx and plotly"
   ]
  },
  {
   "cell_type": "code",
   "execution_count": 3,
   "metadata": {},
   "outputs": [],
   "source": [
    "rankings_file_path = \"../../data/Daily_Ranking.csv\""
   ]
  },
  {
   "cell_type": "code",
   "execution_count": 4,
   "metadata": {},
   "outputs": [],
   "source": [
    "df = pd.read_csv(rankings_file_path)"
   ]
  },
  {
   "cell_type": "code",
   "execution_count": 6,
   "metadata": {},
   "outputs": [],
   "source": [
    "#first create dictionary of region code to country name for simplicity later\n",
    "all_region_codes = ['ec', 'fr', 'ar', 'fi', 'no', 'it', 'lt', 'ph', 'tw', 'nz', 'ee', 'tr', 'us', 'sv', 'cr', 'de', 'cl', 'jp', 'br', 'hn', 'gt', 'ch', 'hu', 'ca', 'pe', 'be', 'my', 'dk', 'bo', 'pl', 'at', 'pt', 'se', 'mx', 'pa', 'uy', 'is', 'es', 'cz', 'ie', 'nl', 'sk', 'co', 'sg', 'id', 'do', 'lu', 'gb', 'py', 'au', 'lv', 'gr', 'hk']\n",
    "df_countries = pd.read_json(\"../../data/countries.json\")\n",
    "df_countries = df_countries.transpose()\n",
    "country_names = {r:df_countries.loc[r.upper()]['name'] for r in all_region_codes}"
   ]
  },
  {
   "cell_type": "code",
   "execution_count": 7,
   "metadata": {},
   "outputs": [],
   "source": [
    "song = \"Shape of You\""
   ]
  },
  {
   "cell_type": "code",
   "execution_count": 8,
   "metadata": {},
   "outputs": [],
   "source": [
    "df_specific_song = df[df['Track Name'] == song]"
   ]
  },
  {
   "cell_type": "code",
   "execution_count": 12,
   "metadata": {},
   "outputs": [
    {
     "name": "stdout",
     "output_type": "stream",
     "text": [
      "Select Regions to Show in the Animation\n"
     ]
    },
    {
     "data": {
      "application/vnd.jupyter.widget-view+json": {
       "model_id": "8250e7c881124818b7347a6582d20366",
       "version_major": 2,
       "version_minor": 0
      },
      "text/html": [
       "<p>Failed to display Jupyter Widget of type <code>HBox</code>.</p>\n",
       "<p>\n",
       "  If you're reading this message in the Jupyter Notebook or JupyterLab Notebook, it may mean\n",
       "  that the widgets JavaScript is still loading. If this message persists, it\n",
       "  likely means that the widgets JavaScript library is either not installed or\n",
       "  not enabled. See the <a href=\"https://ipywidgets.readthedocs.io/en/stable/user_install.html\">Jupyter\n",
       "  Widgets Documentation</a> for setup instructions.\n",
       "</p>\n",
       "<p>\n",
       "  If you're reading this message in another frontend (for example, a static\n",
       "  rendering on GitHub or <a href=\"https://nbviewer.jupyter.org/\">NBViewer</a>),\n",
       "  it may mean that your frontend doesn't currently support widgets.\n",
       "</p>\n"
      ],
      "text/plain": [
       "HBox(children=(Checkbox(value=False, description='Ecuador'), Checkbox(value=False, description='France'), Checkbox(value=False, description='Argentina'), Checkbox(value=False, description='Finland'), Checkbox(value=False, description='Norway')))"
      ]
     },
     "metadata": {},
     "output_type": "display_data"
    },
    {
     "data": {
      "application/vnd.jupyter.widget-view+json": {
       "model_id": "338f2e0000fb44769c6e95a8ba40b2cc",
       "version_major": 2,
       "version_minor": 0
      },
      "text/html": [
       "<p>Failed to display Jupyter Widget of type <code>HBox</code>.</p>\n",
       "<p>\n",
       "  If you're reading this message in the Jupyter Notebook or JupyterLab Notebook, it may mean\n",
       "  that the widgets JavaScript is still loading. If this message persists, it\n",
       "  likely means that the widgets JavaScript library is either not installed or\n",
       "  not enabled. See the <a href=\"https://ipywidgets.readthedocs.io/en/stable/user_install.html\">Jupyter\n",
       "  Widgets Documentation</a> for setup instructions.\n",
       "</p>\n",
       "<p>\n",
       "  If you're reading this message in another frontend (for example, a static\n",
       "  rendering on GitHub or <a href=\"https://nbviewer.jupyter.org/\">NBViewer</a>),\n",
       "  it may mean that your frontend doesn't currently support widgets.\n",
       "</p>\n"
      ],
      "text/plain": [
       "HBox(children=(Checkbox(value=False, description='Italy'), Checkbox(value=False, description='Lithuania'), Checkbox(value=False, description='Philippines'), Checkbox(value=False, description='Taiwan'), Checkbox(value=False, description='New Zealand')))"
      ]
     },
     "metadata": {},
     "output_type": "display_data"
    },
    {
     "data": {
      "application/vnd.jupyter.widget-view+json": {
       "model_id": "baf87ed82d064224a7674c19553eb34f",
       "version_major": 2,
       "version_minor": 0
      },
      "text/html": [
       "<p>Failed to display Jupyter Widget of type <code>HBox</code>.</p>\n",
       "<p>\n",
       "  If you're reading this message in the Jupyter Notebook or JupyterLab Notebook, it may mean\n",
       "  that the widgets JavaScript is still loading. If this message persists, it\n",
       "  likely means that the widgets JavaScript library is either not installed or\n",
       "  not enabled. See the <a href=\"https://ipywidgets.readthedocs.io/en/stable/user_install.html\">Jupyter\n",
       "  Widgets Documentation</a> for setup instructions.\n",
       "</p>\n",
       "<p>\n",
       "  If you're reading this message in another frontend (for example, a static\n",
       "  rendering on GitHub or <a href=\"https://nbviewer.jupyter.org/\">NBViewer</a>),\n",
       "  it may mean that your frontend doesn't currently support widgets.\n",
       "</p>\n"
      ],
      "text/plain": [
       "HBox(children=(Checkbox(value=False, description='Estonia'), Checkbox(value=False, description='Turkey'), Checkbox(value=True, description='United States'), Checkbox(value=False, description='El Salvador'), Checkbox(value=False, description='Costa Rica')))"
      ]
     },
     "metadata": {},
     "output_type": "display_data"
    },
    {
     "data": {
      "application/vnd.jupyter.widget-view+json": {
       "model_id": "375eea3bd5664813a4b50f20f07e2edb",
       "version_major": 2,
       "version_minor": 0
      },
      "text/html": [
       "<p>Failed to display Jupyter Widget of type <code>HBox</code>.</p>\n",
       "<p>\n",
       "  If you're reading this message in the Jupyter Notebook or JupyterLab Notebook, it may mean\n",
       "  that the widgets JavaScript is still loading. If this message persists, it\n",
       "  likely means that the widgets JavaScript library is either not installed or\n",
       "  not enabled. See the <a href=\"https://ipywidgets.readthedocs.io/en/stable/user_install.html\">Jupyter\n",
       "  Widgets Documentation</a> for setup instructions.\n",
       "</p>\n",
       "<p>\n",
       "  If you're reading this message in another frontend (for example, a static\n",
       "  rendering on GitHub or <a href=\"https://nbviewer.jupyter.org/\">NBViewer</a>),\n",
       "  it may mean that your frontend doesn't currently support widgets.\n",
       "</p>\n"
      ],
      "text/plain": [
       "HBox(children=(Checkbox(value=False, description='Germany'), Checkbox(value=False, description='Chile'), Checkbox(value=False, description='Japan'), Checkbox(value=False, description='Brazil'), Checkbox(value=False, description='Honduras')))"
      ]
     },
     "metadata": {},
     "output_type": "display_data"
    },
    {
     "data": {
      "application/vnd.jupyter.widget-view+json": {
       "model_id": "b8dd93bda80a4ddc84b696ecc930cbb3",
       "version_major": 2,
       "version_minor": 0
      },
      "text/html": [
       "<p>Failed to display Jupyter Widget of type <code>HBox</code>.</p>\n",
       "<p>\n",
       "  If you're reading this message in the Jupyter Notebook or JupyterLab Notebook, it may mean\n",
       "  that the widgets JavaScript is still loading. If this message persists, it\n",
       "  likely means that the widgets JavaScript library is either not installed or\n",
       "  not enabled. See the <a href=\"https://ipywidgets.readthedocs.io/en/stable/user_install.html\">Jupyter\n",
       "  Widgets Documentation</a> for setup instructions.\n",
       "</p>\n",
       "<p>\n",
       "  If you're reading this message in another frontend (for example, a static\n",
       "  rendering on GitHub or <a href=\"https://nbviewer.jupyter.org/\">NBViewer</a>),\n",
       "  it may mean that your frontend doesn't currently support widgets.\n",
       "</p>\n"
      ],
      "text/plain": [
       "HBox(children=(Checkbox(value=False, description='Guatemala'), Checkbox(value=False, description='Switzerland'), Checkbox(value=False, description='Hungary'), Checkbox(value=False, description='Canada'), Checkbox(value=False, description='Peru')))"
      ]
     },
     "metadata": {},
     "output_type": "display_data"
    },
    {
     "data": {
      "application/vnd.jupyter.widget-view+json": {
       "model_id": "91061dc34efa46c6bef1a8529ca7adeb",
       "version_major": 2,
       "version_minor": 0
      },
      "text/html": [
       "<p>Failed to display Jupyter Widget of type <code>HBox</code>.</p>\n",
       "<p>\n",
       "  If you're reading this message in the Jupyter Notebook or JupyterLab Notebook, it may mean\n",
       "  that the widgets JavaScript is still loading. If this message persists, it\n",
       "  likely means that the widgets JavaScript library is either not installed or\n",
       "  not enabled. See the <a href=\"https://ipywidgets.readthedocs.io/en/stable/user_install.html\">Jupyter\n",
       "  Widgets Documentation</a> for setup instructions.\n",
       "</p>\n",
       "<p>\n",
       "  If you're reading this message in another frontend (for example, a static\n",
       "  rendering on GitHub or <a href=\"https://nbviewer.jupyter.org/\">NBViewer</a>),\n",
       "  it may mean that your frontend doesn't currently support widgets.\n",
       "</p>\n"
      ],
      "text/plain": [
       "HBox(children=(Checkbox(value=False, description='Belgium'), Checkbox(value=False, description='Malaysia'), Checkbox(value=False, description='Denmark'), Checkbox(value=False, description='Bolivia'), Checkbox(value=False, description='Poland')))"
      ]
     },
     "metadata": {},
     "output_type": "display_data"
    },
    {
     "data": {
      "application/vnd.jupyter.widget-view+json": {
       "model_id": "3d27adc877684d558241dbda9c06049b",
       "version_major": 2,
       "version_minor": 0
      },
      "text/html": [
       "<p>Failed to display Jupyter Widget of type <code>HBox</code>.</p>\n",
       "<p>\n",
       "  If you're reading this message in the Jupyter Notebook or JupyterLab Notebook, it may mean\n",
       "  that the widgets JavaScript is still loading. If this message persists, it\n",
       "  likely means that the widgets JavaScript library is either not installed or\n",
       "  not enabled. See the <a href=\"https://ipywidgets.readthedocs.io/en/stable/user_install.html\">Jupyter\n",
       "  Widgets Documentation</a> for setup instructions.\n",
       "</p>\n",
       "<p>\n",
       "  If you're reading this message in another frontend (for example, a static\n",
       "  rendering on GitHub or <a href=\"https://nbviewer.jupyter.org/\">NBViewer</a>),\n",
       "  it may mean that your frontend doesn't currently support widgets.\n",
       "</p>\n"
      ],
      "text/plain": [
       "HBox(children=(Checkbox(value=False, description='Austria'), Checkbox(value=False, description='Portugal'), Checkbox(value=False, description='Sweden'), Checkbox(value=False, description='Mexico'), Checkbox(value=False, description='Panama')))"
      ]
     },
     "metadata": {},
     "output_type": "display_data"
    },
    {
     "data": {
      "application/vnd.jupyter.widget-view+json": {
       "model_id": "34002441ee2a465aa038adf77472bdca",
       "version_major": 2,
       "version_minor": 0
      },
      "text/html": [
       "<p>Failed to display Jupyter Widget of type <code>HBox</code>.</p>\n",
       "<p>\n",
       "  If you're reading this message in the Jupyter Notebook or JupyterLab Notebook, it may mean\n",
       "  that the widgets JavaScript is still loading. If this message persists, it\n",
       "  likely means that the widgets JavaScript library is either not installed or\n",
       "  not enabled. See the <a href=\"https://ipywidgets.readthedocs.io/en/stable/user_install.html\">Jupyter\n",
       "  Widgets Documentation</a> for setup instructions.\n",
       "</p>\n",
       "<p>\n",
       "  If you're reading this message in another frontend (for example, a static\n",
       "  rendering on GitHub or <a href=\"https://nbviewer.jupyter.org/\">NBViewer</a>),\n",
       "  it may mean that your frontend doesn't currently support widgets.\n",
       "</p>\n"
      ],
      "text/plain": [
       "HBox(children=(Checkbox(value=False, description='Uruguay'), Checkbox(value=False, description='Iceland'), Checkbox(value=False, description='Spain'), Checkbox(value=False, description='Czech Republic'), Checkbox(value=False, description='Ireland')))"
      ]
     },
     "metadata": {},
     "output_type": "display_data"
    },
    {
     "data": {
      "application/vnd.jupyter.widget-view+json": {
       "model_id": "3cd1442d07f54bdcb7066d746388671e",
       "version_major": 2,
       "version_minor": 0
      },
      "text/html": [
       "<p>Failed to display Jupyter Widget of type <code>HBox</code>.</p>\n",
       "<p>\n",
       "  If you're reading this message in the Jupyter Notebook or JupyterLab Notebook, it may mean\n",
       "  that the widgets JavaScript is still loading. If this message persists, it\n",
       "  likely means that the widgets JavaScript library is either not installed or\n",
       "  not enabled. See the <a href=\"https://ipywidgets.readthedocs.io/en/stable/user_install.html\">Jupyter\n",
       "  Widgets Documentation</a> for setup instructions.\n",
       "</p>\n",
       "<p>\n",
       "  If you're reading this message in another frontend (for example, a static\n",
       "  rendering on GitHub or <a href=\"https://nbviewer.jupyter.org/\">NBViewer</a>),\n",
       "  it may mean that your frontend doesn't currently support widgets.\n",
       "</p>\n"
      ],
      "text/plain": [
       "HBox(children=(Checkbox(value=False, description='Netherlands'), Checkbox(value=False, description='Slovakia'), Checkbox(value=False, description='Colombia'), Checkbox(value=False, description='Singapore'), Checkbox(value=False, description='Indonesia')))"
      ]
     },
     "metadata": {},
     "output_type": "display_data"
    },
    {
     "data": {
      "application/vnd.jupyter.widget-view+json": {
       "model_id": "e80f784d011649079ae9b6fa1e8c978f",
       "version_major": 2,
       "version_minor": 0
      },
      "text/html": [
       "<p>Failed to display Jupyter Widget of type <code>HBox</code>.</p>\n",
       "<p>\n",
       "  If you're reading this message in the Jupyter Notebook or JupyterLab Notebook, it may mean\n",
       "  that the widgets JavaScript is still loading. If this message persists, it\n",
       "  likely means that the widgets JavaScript library is either not installed or\n",
       "  not enabled. See the <a href=\"https://ipywidgets.readthedocs.io/en/stable/user_install.html\">Jupyter\n",
       "  Widgets Documentation</a> for setup instructions.\n",
       "</p>\n",
       "<p>\n",
       "  If you're reading this message in another frontend (for example, a static\n",
       "  rendering on GitHub or <a href=\"https://nbviewer.jupyter.org/\">NBViewer</a>),\n",
       "  it may mean that your frontend doesn't currently support widgets.\n",
       "</p>\n"
      ],
      "text/plain": [
       "HBox(children=(Checkbox(value=False, description='Dominican Republic'), Checkbox(value=False, description='Luxembourg'), Checkbox(value=False, description='United Kingdom'), Checkbox(value=False, description='Paraguay'), Checkbox(value=False, description='Australia')))"
      ]
     },
     "metadata": {},
     "output_type": "display_data"
    },
    {
     "data": {
      "application/vnd.jupyter.widget-view+json": {
       "model_id": "801fbd23c5464beb92e4f433cf6d84b9",
       "version_major": 2,
       "version_minor": 0
      },
      "text/html": [
       "<p>Failed to display Jupyter Widget of type <code>HBox</code>.</p>\n",
       "<p>\n",
       "  If you're reading this message in the Jupyter Notebook or JupyterLab Notebook, it may mean\n",
       "  that the widgets JavaScript is still loading. If this message persists, it\n",
       "  likely means that the widgets JavaScript library is either not installed or\n",
       "  not enabled. See the <a href=\"https://ipywidgets.readthedocs.io/en/stable/user_install.html\">Jupyter\n",
       "  Widgets Documentation</a> for setup instructions.\n",
       "</p>\n",
       "<p>\n",
       "  If you're reading this message in another frontend (for example, a static\n",
       "  rendering on GitHub or <a href=\"https://nbviewer.jupyter.org/\">NBViewer</a>),\n",
       "  it may mean that your frontend doesn't currently support widgets.\n",
       "</p>\n"
      ],
      "text/plain": [
       "HBox(children=(Checkbox(value=False, description='Latvia'), Checkbox(value=False, description='Greece')))"
      ]
     },
     "metadata": {},
     "output_type": "display_data"
    }
   ],
   "source": [
    "print(\"Select Regions to Show in the Animation\")\n",
    "checkboxes = []\n",
    "for i in all_region_codes:\n",
    "    c = widgets.Checkbox(description=country_names[i])\n",
    "    if i == 'us':\n",
    "        c.value=True\n",
    "    checkboxes.append(c)\n",
    "last = 0\n",
    "for i in range(1, len(checkboxes)):\n",
    "    if i%5 == 0 or i == len(checkboxes) - 1:\n",
    "        display(widgets.HBox(checkboxes[last:i]))\n",
    "        last = i"
   ]
  },
  {
   "cell_type": "code",
   "execution_count": 32,
   "metadata": {},
   "outputs": [],
   "source": [
    "# returns the networkx graph for the given set of regions and the date\n",
    "def make_networkx_graph(regions, date):\n",
    "    country_grouped = df_specific_song.loc[df_specific_song['Region'].isin(regions)]\n",
    "    country_grouped = country_grouped.drop(columns=['Track Name', 'Streams', 'URL'])\n",
    "    country_grouped = country_grouped[country_grouped[\"Date\"]==date]\n",
    "    \n",
    "    df_countries = pd.read_json(\"../../data/countries.json\")\n",
    "    df_countries = df_countries.transpose()\n",
    "    df_countries = df_countries.drop(columns=['continent', 'capital', 'languages', 'native', 'phone', 'currency'])\n",
    "    df_countries = df_countries.rename(columns={'name':'Country'})\n",
    "    df_countries.head()\n",
    "    country_grouped['Region'] = country_grouped['Region'].str.upper()\n",
    "    country_grouped = country_grouped.merge(df_countries, how='inner', left_on='Region', right_index=True)\n",
    "    \n",
    "    G = nx.Graph()\n",
    "    unique_countries = country_grouped['Country'].unique().tolist()\n",
    "    \n",
    "    for i in unique_countries:\n",
    "        G.add_node(i, name=i, node_type='Country', position=country_grouped[country_grouped[\"Country\"]==i][\"Position\"].iloc[0])\n",
    "        \n",
    "    return G"
   ]
  },
  {
   "cell_type": "code",
   "execution_count": 80,
   "metadata": {},
   "outputs": [
    {
     "name": "stdout",
     "output_type": "stream",
     "text": [
      "truncating to the first hundred days that the song was on the charts\n"
     ]
    },
    {
     "data": {
      "application/vnd.plotly.v1+json": {
       "config": {
        "linkText": "Export to plot.ly",
        "plotlyServerURL": "https://plot.ly",
        "showLink": false
       },
       "data": [
        {
         "marker": {
          "size": [
           199
          ],
          "sizemode": "area",
          "sizeref": 0.2
         },
         "mode": "markers+text",
         "name": "United States",
         "text": [
          "United States:<br> 1"
         ],
         "type": "scatter",
         "uid": "3e9a78b9-376f-4e06-93b4-fd2a5b279664",
         "x": [
          -0.9727184908692927
         ],
         "y": [
          0.31122110953500615
         ]
        },
        {
         "marker": {
          "size": [
           199
          ],
          "sizemode": "area",
          "sizeref": 0.2
         },
         "mode": "markers+text",
         "name": "Switzerland",
         "text": [
          "Switzerland:<br> 1"
         ],
         "type": "scatter",
         "uid": "104497a7-0b44-408c-8bab-0f4be36863ac",
         "x": [
          1
         ],
         "y": [
          -0.002843251314555322
         ]
        },
        {
         "marker": {
          "size": [
           199
          ],
          "sizemode": "area",
          "sizeref": 0.2
         },
         "mode": "markers+text",
         "name": "Hungary",
         "text": [
          "Hungary:<br> 1"
         ],
         "type": "scatter",
         "uid": "11c6a97a-05cb-4910-be63-f242ab9f1ca3",
         "x": [
          0.7605784698399345
         ],
         "y": [
          0.6643286343828627
         ]
        },
        {
         "marker": {
          "size": [
           181
          ],
          "sizemode": "area",
          "sizeref": 0.2
         },
         "mode": "markers+text",
         "name": "Peru",
         "text": [
          "Peru:<br> 19"
         ],
         "type": "scatter",
         "uid": "94be2ebb-7d18-4fbf-8b99-ed80f3f80c38",
         "x": [
          -0.9580682865544582
         ],
         "y": [
          -0.44091557496873846
         ]
        },
        {
         "marker": {
          "size": [
           199
          ],
          "sizemode": "area",
          "sizeref": 0.2
         },
         "mode": "markers+text",
         "name": "Malaysia",
         "text": [
          "Malaysia:<br> 1"
         ],
         "type": "scatter",
         "uid": "9dd95a78-9ba9-48f8-890f-4d86156672f3",
         "x": [
          0.7810581837481054
         ],
         "y": [
          -0.6831549483891963
         ]
        },
        {
         "marker": {
          "size": [
           199
          ],
          "sizemode": "area",
          "sizeref": 0.2
         },
         "mode": "markers+text",
         "name": "Denmark",
         "text": [
          "Denmark:<br> 1"
         ],
         "type": "scatter",
         "uid": "dce6e326-b624-4657-8f94-8b114e15a04c",
         "x": [
          -0.5205505053977201
         ],
         "y": [
          0.8854764574515823
         ]
        },
        {
         "marker": {
          "size": [
           185
          ],
          "sizemode": "area",
          "sizeref": 0.2
         },
         "mode": "markers+text",
         "name": "Bolivia",
         "text": [
          "Bolivia:<br> 15"
         ],
         "type": "scatter",
         "uid": "c1c068fd-d852-41fd-b06e-f992c711a2ff",
         "x": [
          -0.4338427746903296
         ],
         "y": [
          -0.887584282087857
         ]
        },
        {
         "marker": {
          "size": [
           198
          ],
          "sizemode": "area",
          "sizeref": 0.2
         },
         "mode": "markers+text",
         "name": "Austria",
         "text": [
          "Austria:<br> 2"
         ],
         "type": "scatter",
         "uid": "caa1f38d-6f88-4c2c-b91c-7c6febf95e4b",
         "x": [
          0.1845688413887775
         ],
         "y": [
          -0.8401672465167234
         ]
        },
        {
         "marker": {
          "size": [
           199
          ],
          "sizemode": "area",
          "sizeref": 0.2
         },
         "mode": "markers+text",
         "name": "Portugal",
         "text": [
          "Portugal:<br> 1"
         ],
         "type": "scatter",
         "uid": "0da4aaf0-eceb-4c8c-87ef-3aaa91022834",
         "x": [
          0.15897456253498307
         ],
         "y": [
          0.9936391019076193
         ]
        }
       ],
       "frames": [
        {
         "data": [
          {
           "marker": {
            "size": [
             199
            ],
            "sizemode": "area",
            "sizeref": 0.05
           },
           "mode": "markers+text",
           "name": "United States",
           "text": [
            "United States:<br> 1"
           ],
           "type": "scatter",
           "x": [
            1
           ],
           "y": [
            6.622738357719982e-09
           ]
          },
          {
           "marker": {
            "size": [
             199
            ],
            "sizemode": "area",
            "sizeref": 0.05
           },
           "mode": "markers+text",
           "name": "Switzerland",
           "text": [
            "Switzerland:<br> 1"
           ],
           "type": "scatter",
           "x": [
            0.7660444974899292
           ],
           "y": [
            0.6427875757217407
           ]
          },
          {
           "marker": {
            "size": [
             199
            ],
            "sizemode": "area",
            "sizeref": 0.05
           },
           "mode": "markers+text",
           "name": "Hungary",
           "text": [
            "Hungary:<br> 1"
           ],
           "type": "scatter",
           "x": [
            0.17364825308322906
           ],
           "y": [
            0.9848077297210693
           ]
          },
          {
           "marker": {
            "size": [
             181
            ],
            "sizemode": "area",
            "sizeref": 0.05
           },
           "mode": "markers+text",
           "name": "Peru",
           "text": [
            "Peru:<br> 19"
           ],
           "type": "scatter",
           "x": [
            -0.5
           ],
           "y": [
            0.8660253882408142
           ]
          },
          {
           "marker": {
            "size": [
             199
            ],
            "sizemode": "area",
            "sizeref": 0.05
           },
           "mode": "markers+text",
           "name": "Malaysia",
           "text": [
            "Malaysia:<br> 1"
           ],
           "type": "scatter",
           "x": [
            -0.9396925568580627
           ],
           "y": [
            0.3420202136039734
           ]
          },
          {
           "marker": {
            "size": [
             199
            ],
            "sizemode": "area",
            "sizeref": 0.05
           },
           "mode": "markers+text",
           "name": "Denmark",
           "text": [
            "Denmark:<br> 1"
           ],
           "type": "scatter",
           "x": [
            -0.9396925568580627
           ],
           "y": [
            -0.3420201539993286
           ]
          },
          {
           "marker": {
            "size": [
             185
            ],
            "sizemode": "area",
            "sizeref": 0.05
           },
           "mode": "markers+text",
           "name": "Bolivia",
           "text": [
            "Bolivia:<br> 15"
           ],
           "type": "scatter",
           "x": [
            -0.49999988079071045
           ],
           "y": [
            -0.866025447845459
           ]
          },
          {
           "marker": {
            "size": [
             198
            ],
            "sizemode": "area",
            "sizeref": 0.05
           },
           "mode": "markers+text",
           "name": "Austria",
           "text": [
            "Austria:<br> 2"
           ],
           "type": "scatter",
           "x": [
            0.1736481785774231
           ],
           "y": [
            -0.9848077297210693
           ]
          },
          {
           "marker": {
            "size": [
             199
            ],
            "sizemode": "area",
            "sizeref": 0.05
           },
           "mode": "markers+text",
           "name": "Portugal",
           "text": [
            "Portugal:<br> 1"
           ],
           "type": "scatter",
           "x": [
            0.7660443782806396
           ],
           "y": [
            -0.642787754535675
           ]
          }
         ],
         "name": "2017-01-06"
        },
        {
         "data": [
          {
           "marker": {
            "size": [
             199
            ],
            "sizemode": "area",
            "sizeref": 0.05
           },
           "mode": "markers+text",
           "name": "United States",
           "text": [
            "United States:<br> 1"
           ],
           "type": "scatter",
           "x": [
            1
           ],
           "y": [
            6.622738357719982e-09
           ]
          },
          {
           "marker": {
            "size": [
             199
            ],
            "sizemode": "area",
            "sizeref": 0.05
           },
           "mode": "markers+text",
           "name": "Switzerland",
           "text": [
            "Switzerland:<br> 1"
           ],
           "type": "scatter",
           "x": [
            0.7660444974899292
           ],
           "y": [
            0.6427875757217407
           ]
          },
          {
           "marker": {
            "size": [
             199
            ],
            "sizemode": "area",
            "sizeref": 0.05
           },
           "mode": "markers+text",
           "name": "Hungary",
           "text": [
            "Hungary:<br> 1"
           ],
           "type": "scatter",
           "x": [
            0.17364825308322906
           ],
           "y": [
            0.9848077297210693
           ]
          },
          {
           "marker": {
            "size": [
             189
            ],
            "sizemode": "area",
            "sizeref": 0.05
           },
           "mode": "markers+text",
           "name": "Peru",
           "text": [
            "Peru:<br> 11"
           ],
           "type": "scatter",
           "x": [
            -0.5
           ],
           "y": [
            0.8660253882408142
           ]
          },
          {
           "marker": {
            "size": [
             199
            ],
            "sizemode": "area",
            "sizeref": 0.05
           },
           "mode": "markers+text",
           "name": "Malaysia",
           "text": [
            "Malaysia:<br> 1"
           ],
           "type": "scatter",
           "x": [
            -0.9396925568580627
           ],
           "y": [
            0.3420202136039734
           ]
          },
          {
           "marker": {
            "size": [
             199
            ],
            "sizemode": "area",
            "sizeref": 0.05
           },
           "mode": "markers+text",
           "name": "Denmark",
           "text": [
            "Denmark:<br> 1"
           ],
           "type": "scatter",
           "x": [
            -0.9396925568580627
           ],
           "y": [
            -0.3420201539993286
           ]
          },
          {
           "marker": {
            "size": [
             190
            ],
            "sizemode": "area",
            "sizeref": 0.05
           },
           "mode": "markers+text",
           "name": "Bolivia",
           "text": [
            "Bolivia:<br> 10"
           ],
           "type": "scatter",
           "x": [
            -0.49999988079071045
           ],
           "y": [
            -0.866025447845459
           ]
          },
          {
           "marker": {
            "size": [
             199
            ],
            "sizemode": "area",
            "sizeref": 0.05
           },
           "mode": "markers+text",
           "name": "Austria",
           "text": [
            "Austria:<br> 1"
           ],
           "type": "scatter",
           "x": [
            0.1736481785774231
           ],
           "y": [
            -0.9848077297210693
           ]
          },
          {
           "marker": {
            "size": [
             199
            ],
            "sizemode": "area",
            "sizeref": 0.05
           },
           "mode": "markers+text",
           "name": "Portugal",
           "text": [
            "Portugal:<br> 1"
           ],
           "type": "scatter",
           "x": [
            0.7660443782806396
           ],
           "y": [
            -0.642787754535675
           ]
          }
         ],
         "name": "2017-01-07"
        },
        {
         "data": [
          {
           "marker": {
            "size": [
             199
            ],
            "sizemode": "area",
            "sizeref": 0.05
           },
           "mode": "markers+text",
           "name": "United States",
           "text": [
            "United States:<br> 1"
           ],
           "type": "scatter",
           "x": [
            1
           ],
           "y": [
            6.622738357719982e-09
           ]
          },
          {
           "marker": {
            "size": [
             199
            ],
            "sizemode": "area",
            "sizeref": 0.05
           },
           "mode": "markers+text",
           "name": "Switzerland",
           "text": [
            "Switzerland:<br> 1"
           ],
           "type": "scatter",
           "x": [
            0.7660444974899292
           ],
           "y": [
            0.6427875757217407
           ]
          },
          {
           "marker": {
            "size": [
             199
            ],
            "sizemode": "area",
            "sizeref": 0.05
           },
           "mode": "markers+text",
           "name": "Hungary",
           "text": [
            "Hungary:<br> 1"
           ],
           "type": "scatter",
           "x": [
            0.17364825308322906
           ],
           "y": [
            0.9848077297210693
           ]
          },
          {
           "marker": {
            "size": [
             190
            ],
            "sizemode": "area",
            "sizeref": 0.05
           },
           "mode": "markers+text",
           "name": "Peru",
           "text": [
            "Peru:<br> 10"
           ],
           "type": "scatter",
           "x": [
            -0.5
           ],
           "y": [
            0.8660253882408142
           ]
          },
          {
           "marker": {
            "size": [
             199
            ],
            "sizemode": "area",
            "sizeref": 0.05
           },
           "mode": "markers+text",
           "name": "Malaysia",
           "text": [
            "Malaysia:<br> 1"
           ],
           "type": "scatter",
           "x": [
            -0.9396925568580627
           ],
           "y": [
            0.3420202136039734
           ]
          },
          {
           "marker": {
            "size": [
             199
            ],
            "sizemode": "area",
            "sizeref": 0.05
           },
           "mode": "markers+text",
           "name": "Denmark",
           "text": [
            "Denmark:<br> 1"
           ],
           "type": "scatter",
           "x": [
            -0.9396925568580627
           ],
           "y": [
            -0.3420201539993286
           ]
          },
          {
           "marker": {
            "size": [
             190
            ],
            "sizemode": "area",
            "sizeref": 0.05
           },
           "mode": "markers+text",
           "name": "Bolivia",
           "text": [
            "Bolivia:<br> 10"
           ],
           "type": "scatter",
           "x": [
            -0.49999988079071045
           ],
           "y": [
            -0.866025447845459
           ]
          },
          {
           "marker": {
            "size": [
             199
            ],
            "sizemode": "area",
            "sizeref": 0.05
           },
           "mode": "markers+text",
           "name": "Austria",
           "text": [
            "Austria:<br> 1"
           ],
           "type": "scatter",
           "x": [
            0.1736481785774231
           ],
           "y": [
            -0.9848077297210693
           ]
          },
          {
           "marker": {
            "size": [
             199
            ],
            "sizemode": "area",
            "sizeref": 0.05
           },
           "mode": "markers+text",
           "name": "Portugal",
           "text": [
            "Portugal:<br> 1"
           ],
           "type": "scatter",
           "x": [
            0.7660443782806396
           ],
           "y": [
            -0.642787754535675
           ]
          }
         ],
         "name": "2017-01-08"
        },
        {
         "data": [
          {
           "marker": {
            "size": [
             199
            ],
            "sizemode": "area",
            "sizeref": 0.05
           },
           "mode": "markers+text",
           "name": "United States",
           "text": [
            "United States:<br> 1"
           ],
           "type": "scatter",
           "x": [
            1
           ],
           "y": [
            6.622738357719982e-09
           ]
          },
          {
           "marker": {
            "size": [
             199
            ],
            "sizemode": "area",
            "sizeref": 0.05
           },
           "mode": "markers+text",
           "name": "Switzerland",
           "text": [
            "Switzerland:<br> 1"
           ],
           "type": "scatter",
           "x": [
            0.7660444974899292
           ],
           "y": [
            0.6427875757217407
           ]
          },
          {
           "marker": {
            "size": [
             199
            ],
            "sizemode": "area",
            "sizeref": 0.05
           },
           "mode": "markers+text",
           "name": "Hungary",
           "text": [
            "Hungary:<br> 1"
           ],
           "type": "scatter",
           "x": [
            0.17364825308322906
           ],
           "y": [
            0.9848077297210693
           ]
          },
          {
           "marker": {
            "size": [
             191
            ],
            "sizemode": "area",
            "sizeref": 0.05
           },
           "mode": "markers+text",
           "name": "Peru",
           "text": [
            "Peru:<br> 9"
           ],
           "type": "scatter",
           "x": [
            -0.5
           ],
           "y": [
            0.8660253882408142
           ]
          },
          {
           "marker": {
            "size": [
             199
            ],
            "sizemode": "area",
            "sizeref": 0.05
           },
           "mode": "markers+text",
           "name": "Malaysia",
           "text": [
            "Malaysia:<br> 1"
           ],
           "type": "scatter",
           "x": [
            -0.9396925568580627
           ],
           "y": [
            0.3420202136039734
           ]
          },
          {
           "marker": {
            "size": [
             199
            ],
            "sizemode": "area",
            "sizeref": 0.05
           },
           "mode": "markers+text",
           "name": "Denmark",
           "text": [
            "Denmark:<br> 1"
           ],
           "type": "scatter",
           "x": [
            -0.9396925568580627
           ],
           "y": [
            -0.3420201539993286
           ]
          },
          {
           "marker": {
            "size": [
             195
            ],
            "sizemode": "area",
            "sizeref": 0.05
           },
           "mode": "markers+text",
           "name": "Bolivia",
           "text": [
            "Bolivia:<br> 5"
           ],
           "type": "scatter",
           "x": [
            -0.49999988079071045
           ],
           "y": [
            -0.866025447845459
           ]
          },
          {
           "marker": {
            "size": [
             199
            ],
            "sizemode": "area",
            "sizeref": 0.05
           },
           "mode": "markers+text",
           "name": "Austria",
           "text": [
            "Austria:<br> 1"
           ],
           "type": "scatter",
           "x": [
            0.1736481785774231
           ],
           "y": [
            -0.9848077297210693
           ]
          },
          {
           "marker": {
            "size": [
             199
            ],
            "sizemode": "area",
            "sizeref": 0.05
           },
           "mode": "markers+text",
           "name": "Portugal",
           "text": [
            "Portugal:<br> 1"
           ],
           "type": "scatter",
           "x": [
            0.7660443782806396
           ],
           "y": [
            -0.642787754535675
           ]
          }
         ],
         "name": "2017-01-09"
        },
        {
         "data": [
          {
           "marker": {
            "size": [
             198
            ],
            "sizemode": "area",
            "sizeref": 0.05
           },
           "mode": "markers+text",
           "name": "United States",
           "text": [
            "United States:<br> 2"
           ],
           "type": "scatter",
           "x": [
            1
           ],
           "y": [
            6.622738357719982e-09
           ]
          },
          {
           "marker": {
            "size": [
             199
            ],
            "sizemode": "area",
            "sizeref": 0.05
           },
           "mode": "markers+text",
           "name": "Switzerland",
           "text": [
            "Switzerland:<br> 1"
           ],
           "type": "scatter",
           "x": [
            0.7660444974899292
           ],
           "y": [
            0.6427875757217407
           ]
          },
          {
           "marker": {
            "size": [
             199
            ],
            "sizemode": "area",
            "sizeref": 0.05
           },
           "mode": "markers+text",
           "name": "Hungary",
           "text": [
            "Hungary:<br> 1"
           ],
           "type": "scatter",
           "x": [
            0.17364825308322906
           ],
           "y": [
            0.9848077297210693
           ]
          },
          {
           "marker": {
            "size": [
             191
            ],
            "sizemode": "area",
            "sizeref": 0.05
           },
           "mode": "markers+text",
           "name": "Peru",
           "text": [
            "Peru:<br> 9"
           ],
           "type": "scatter",
           "x": [
            -0.5
           ],
           "y": [
            0.8660253882408142
           ]
          },
          {
           "marker": {
            "size": [
             199
            ],
            "sizemode": "area",
            "sizeref": 0.05
           },
           "mode": "markers+text",
           "name": "Malaysia",
           "text": [
            "Malaysia:<br> 1"
           ],
           "type": "scatter",
           "x": [
            -0.9396925568580627
           ],
           "y": [
            0.3420202136039734
           ]
          },
          {
           "marker": {
            "size": [
             199
            ],
            "sizemode": "area",
            "sizeref": 0.05
           },
           "mode": "markers+text",
           "name": "Denmark",
           "text": [
            "Denmark:<br> 1"
           ],
           "type": "scatter",
           "x": [
            -0.9396925568580627
           ],
           "y": [
            -0.3420201539993286
           ]
          },
          {
           "marker": {
            "size": [
             195
            ],
            "sizemode": "area",
            "sizeref": 0.05
           },
           "mode": "markers+text",
           "name": "Bolivia",
           "text": [
            "Bolivia:<br> 5"
           ],
           "type": "scatter",
           "x": [
            -0.49999988079071045
           ],
           "y": [
            -0.866025447845459
           ]
          },
          {
           "marker": {
            "size": [
             199
            ],
            "sizemode": "area",
            "sizeref": 0.05
           },
           "mode": "markers+text",
           "name": "Austria",
           "text": [
            "Austria:<br> 1"
           ],
           "type": "scatter",
           "x": [
            0.1736481785774231
           ],
           "y": [
            -0.9848077297210693
           ]
          },
          {
           "marker": {
            "size": [
             199
            ],
            "sizemode": "area",
            "sizeref": 0.05
           },
           "mode": "markers+text",
           "name": "Portugal",
           "text": [
            "Portugal:<br> 1"
           ],
           "type": "scatter",
           "x": [
            0.7660443782806396
           ],
           "y": [
            -0.642787754535675
           ]
          }
         ],
         "name": "2017-01-10"
        },
        {
         "data": [
          {
           "marker": {
            "size": [
             198
            ],
            "sizemode": "area",
            "sizeref": 0.05
           },
           "mode": "markers+text",
           "name": "United States",
           "text": [
            "United States:<br> 2"
           ],
           "type": "scatter",
           "x": [
            1
           ],
           "y": [
            6.622738357719982e-09
           ]
          },
          {
           "marker": {
            "size": [
             199
            ],
            "sizemode": "area",
            "sizeref": 0.05
           },
           "mode": "markers+text",
           "name": "Switzerland",
           "text": [
            "Switzerland:<br> 1"
           ],
           "type": "scatter",
           "x": [
            0.7660444974899292
           ],
           "y": [
            0.6427875757217407
           ]
          },
          {
           "marker": {
            "size": [
             199
            ],
            "sizemode": "area",
            "sizeref": 0.05
           },
           "mode": "markers+text",
           "name": "Hungary",
           "text": [
            "Hungary:<br> 1"
           ],
           "type": "scatter",
           "x": [
            0.17364825308322906
           ],
           "y": [
            0.9848077297210693
           ]
          },
          {
           "marker": {
            "size": [
             191
            ],
            "sizemode": "area",
            "sizeref": 0.05
           },
           "mode": "markers+text",
           "name": "Peru",
           "text": [
            "Peru:<br> 9"
           ],
           "type": "scatter",
           "x": [
            -0.5
           ],
           "y": [
            0.8660253882408142
           ]
          },
          {
           "marker": {
            "size": [
             199
            ],
            "sizemode": "area",
            "sizeref": 0.05
           },
           "mode": "markers+text",
           "name": "Malaysia",
           "text": [
            "Malaysia:<br> 1"
           ],
           "type": "scatter",
           "x": [
            -0.9396925568580627
           ],
           "y": [
            0.3420202136039734
           ]
          },
          {
           "marker": {
            "size": [
             199
            ],
            "sizemode": "area",
            "sizeref": 0.05
           },
           "mode": "markers+text",
           "name": "Denmark",
           "text": [
            "Denmark:<br> 1"
           ],
           "type": "scatter",
           "x": [
            -0.9396925568580627
           ],
           "y": [
            -0.3420201539993286
           ]
          },
          {
           "marker": {
            "size": [
             196
            ],
            "sizemode": "area",
            "sizeref": 0.05
           },
           "mode": "markers+text",
           "name": "Bolivia",
           "text": [
            "Bolivia:<br> 4"
           ],
           "type": "scatter",
           "x": [
            -0.49999988079071045
           ],
           "y": [
            -0.866025447845459
           ]
          },
          {
           "marker": {
            "size": [
             199
            ],
            "sizemode": "area",
            "sizeref": 0.05
           },
           "mode": "markers+text",
           "name": "Austria",
           "text": [
            "Austria:<br> 1"
           ],
           "type": "scatter",
           "x": [
            0.1736481785774231
           ],
           "y": [
            -0.9848077297210693
           ]
          },
          {
           "marker": {
            "size": [
             199
            ],
            "sizemode": "area",
            "sizeref": 0.05
           },
           "mode": "markers+text",
           "name": "Portugal",
           "text": [
            "Portugal:<br> 1"
           ],
           "type": "scatter",
           "x": [
            0.7660443782806396
           ],
           "y": [
            -0.642787754535675
           ]
          }
         ],
         "name": "2017-01-11"
        },
        {
         "data": [
          {
           "marker": {
            "size": [
             198
            ],
            "sizemode": "area",
            "sizeref": 0.05
           },
           "mode": "markers+text",
           "name": "United States",
           "text": [
            "United States:<br> 2"
           ],
           "type": "scatter",
           "x": [
            1
           ],
           "y": [
            6.622738357719982e-09
           ]
          },
          {
           "marker": {
            "size": [
             199
            ],
            "sizemode": "area",
            "sizeref": 0.05
           },
           "mode": "markers+text",
           "name": "Switzerland",
           "text": [
            "Switzerland:<br> 1"
           ],
           "type": "scatter",
           "x": [
            0.7660444974899292
           ],
           "y": [
            0.6427875757217407
           ]
          },
          {
           "marker": {
            "size": [
             199
            ],
            "sizemode": "area",
            "sizeref": 0.05
           },
           "mode": "markers+text",
           "name": "Hungary",
           "text": [
            "Hungary:<br> 1"
           ],
           "type": "scatter",
           "x": [
            0.17364825308322906
           ],
           "y": [
            0.9848077297210693
           ]
          },
          {
           "marker": {
            "size": [
             191
            ],
            "sizemode": "area",
            "sizeref": 0.05
           },
           "mode": "markers+text",
           "name": "Peru",
           "text": [
            "Peru:<br> 9"
           ],
           "type": "scatter",
           "x": [
            -0.5
           ],
           "y": [
            0.8660253882408142
           ]
          },
          {
           "marker": {
            "size": [
             199
            ],
            "sizemode": "area",
            "sizeref": 0.05
           },
           "mode": "markers+text",
           "name": "Malaysia",
           "text": [
            "Malaysia:<br> 1"
           ],
           "type": "scatter",
           "x": [
            -0.9396925568580627
           ],
           "y": [
            0.3420202136039734
           ]
          },
          {
           "marker": {
            "size": [
             199
            ],
            "sizemode": "area",
            "sizeref": 0.05
           },
           "mode": "markers+text",
           "name": "Denmark",
           "text": [
            "Denmark:<br> 1"
           ],
           "type": "scatter",
           "x": [
            -0.9396925568580627
           ],
           "y": [
            -0.3420201539993286
           ]
          },
          {
           "marker": {
            "size": [
             196
            ],
            "sizemode": "area",
            "sizeref": 0.05
           },
           "mode": "markers+text",
           "name": "Bolivia",
           "text": [
            "Bolivia:<br> 4"
           ],
           "type": "scatter",
           "x": [
            -0.49999988079071045
           ],
           "y": [
            -0.866025447845459
           ]
          },
          {
           "marker": {
            "size": [
             199
            ],
            "sizemode": "area",
            "sizeref": 0.05
           },
           "mode": "markers+text",
           "name": "Austria",
           "text": [
            "Austria:<br> 1"
           ],
           "type": "scatter",
           "x": [
            0.1736481785774231
           ],
           "y": [
            -0.9848077297210693
           ]
          },
          {
           "marker": {
            "size": [
             199
            ],
            "sizemode": "area",
            "sizeref": 0.05
           },
           "mode": "markers+text",
           "name": "Portugal",
           "text": [
            "Portugal:<br> 1"
           ],
           "type": "scatter",
           "x": [
            0.7660443782806396
           ],
           "y": [
            -0.642787754535675
           ]
          }
         ],
         "name": "2017-01-12"
        },
        {
         "data": [
          {
           "marker": {
            "size": [
             198
            ],
            "sizemode": "area",
            "sizeref": 0.05
           },
           "mode": "markers+text",
           "name": "United States",
           "text": [
            "United States:<br> 2"
           ],
           "type": "scatter",
           "x": [
            1
           ],
           "y": [
            6.622738357719982e-09
           ]
          },
          {
           "marker": {
            "size": [
             199
            ],
            "sizemode": "area",
            "sizeref": 0.05
           },
           "mode": "markers+text",
           "name": "Switzerland",
           "text": [
            "Switzerland:<br> 1"
           ],
           "type": "scatter",
           "x": [
            0.7660444974899292
           ],
           "y": [
            0.6427875757217407
           ]
          },
          {
           "marker": {
            "size": [
             199
            ],
            "sizemode": "area",
            "sizeref": 0.05
           },
           "mode": "markers+text",
           "name": "Hungary",
           "text": [
            "Hungary:<br> 1"
           ],
           "type": "scatter",
           "x": [
            0.17364825308322906
           ],
           "y": [
            0.9848077297210693
           ]
          },
          {
           "marker": {
            "size": [
             190
            ],
            "sizemode": "area",
            "sizeref": 0.05
           },
           "mode": "markers+text",
           "name": "Peru",
           "text": [
            "Peru:<br> 10"
           ],
           "type": "scatter",
           "x": [
            -0.5
           ],
           "y": [
            0.8660253882408142
           ]
          },
          {
           "marker": {
            "size": [
             199
            ],
            "sizemode": "area",
            "sizeref": 0.05
           },
           "mode": "markers+text",
           "name": "Malaysia",
           "text": [
            "Malaysia:<br> 1"
           ],
           "type": "scatter",
           "x": [
            -0.9396925568580627
           ],
           "y": [
            0.3420202136039734
           ]
          },
          {
           "marker": {
            "size": [
             199
            ],
            "sizemode": "area",
            "sizeref": 0.05
           },
           "mode": "markers+text",
           "name": "Denmark",
           "text": [
            "Denmark:<br> 1"
           ],
           "type": "scatter",
           "x": [
            -0.9396925568580627
           ],
           "y": [
            -0.3420201539993286
           ]
          },
          {
           "marker": {
            "size": [
             193
            ],
            "sizemode": "area",
            "sizeref": 0.05
           },
           "mode": "markers+text",
           "name": "Bolivia",
           "text": [
            "Bolivia:<br> 7"
           ],
           "type": "scatter",
           "x": [
            -0.49999988079071045
           ],
           "y": [
            -0.866025447845459
           ]
          },
          {
           "marker": {
            "size": [
             199
            ],
            "sizemode": "area",
            "sizeref": 0.05
           },
           "mode": "markers+text",
           "name": "Austria",
           "text": [
            "Austria:<br> 1"
           ],
           "type": "scatter",
           "x": [
            0.1736481785774231
           ],
           "y": [
            -0.9848077297210693
           ]
          },
          {
           "marker": {
            "size": [
             199
            ],
            "sizemode": "area",
            "sizeref": 0.05
           },
           "mode": "markers+text",
           "name": "Portugal",
           "text": [
            "Portugal:<br> 1"
           ],
           "type": "scatter",
           "x": [
            0.7660443782806396
           ],
           "y": [
            -0.642787754535675
           ]
          }
         ],
         "name": "2017-01-13"
        },
        {
         "data": [
          {
           "marker": {
            "size": [
             198
            ],
            "sizemode": "area",
            "sizeref": 0.05
           },
           "mode": "markers+text",
           "name": "United States",
           "text": [
            "United States:<br> 2"
           ],
           "type": "scatter",
           "x": [
            1
           ],
           "y": [
            6.622738357719982e-09
           ]
          },
          {
           "marker": {
            "size": [
             199
            ],
            "sizemode": "area",
            "sizeref": 0.05
           },
           "mode": "markers+text",
           "name": "Switzerland",
           "text": [
            "Switzerland:<br> 1"
           ],
           "type": "scatter",
           "x": [
            0.7660444974899292
           ],
           "y": [
            0.6427875757217407
           ]
          },
          {
           "marker": {
            "size": [
             199
            ],
            "sizemode": "area",
            "sizeref": 0.05
           },
           "mode": "markers+text",
           "name": "Hungary",
           "text": [
            "Hungary:<br> 1"
           ],
           "type": "scatter",
           "x": [
            0.17364825308322906
           ],
           "y": [
            0.9848077297210693
           ]
          },
          {
           "marker": {
            "size": [
             190
            ],
            "sizemode": "area",
            "sizeref": 0.05
           },
           "mode": "markers+text",
           "name": "Peru",
           "text": [
            "Peru:<br> 10"
           ],
           "type": "scatter",
           "x": [
            -0.5
           ],
           "y": [
            0.8660253882408142
           ]
          },
          {
           "marker": {
            "size": [
             199
            ],
            "sizemode": "area",
            "sizeref": 0.05
           },
           "mode": "markers+text",
           "name": "Malaysia",
           "text": [
            "Malaysia:<br> 1"
           ],
           "type": "scatter",
           "x": [
            -0.9396925568580627
           ],
           "y": [
            0.3420202136039734
           ]
          },
          {
           "marker": {
            "size": [
             199
            ],
            "sizemode": "area",
            "sizeref": 0.05
           },
           "mode": "markers+text",
           "name": "Denmark",
           "text": [
            "Denmark:<br> 1"
           ],
           "type": "scatter",
           "x": [
            -0.9396925568580627
           ],
           "y": [
            -0.3420201539993286
           ]
          },
          {
           "marker": {
            "size": [
             193
            ],
            "sizemode": "area",
            "sizeref": 0.05
           },
           "mode": "markers+text",
           "name": "Bolivia",
           "text": [
            "Bolivia:<br> 7"
           ],
           "type": "scatter",
           "x": [
            -0.49999988079071045
           ],
           "y": [
            -0.866025447845459
           ]
          },
          {
           "marker": {
            "size": [
             199
            ],
            "sizemode": "area",
            "sizeref": 0.05
           },
           "mode": "markers+text",
           "name": "Austria",
           "text": [
            "Austria:<br> 1"
           ],
           "type": "scatter",
           "x": [
            0.1736481785774231
           ],
           "y": [
            -0.9848077297210693
           ]
          },
          {
           "marker": {
            "size": [
             199
            ],
            "sizemode": "area",
            "sizeref": 0.05
           },
           "mode": "markers+text",
           "name": "Portugal",
           "text": [
            "Portugal:<br> 1"
           ],
           "type": "scatter",
           "x": [
            0.7660443782806396
           ],
           "y": [
            -0.642787754535675
           ]
          }
         ],
         "name": "2017-01-14"
        },
        {
         "data": [
          {
           "marker": {
            "size": [
             198
            ],
            "sizemode": "area",
            "sizeref": 0.05
           },
           "mode": "markers+text",
           "name": "United States",
           "text": [
            "United States:<br> 2"
           ],
           "type": "scatter",
           "x": [
            1
           ],
           "y": [
            6.622738357719982e-09
           ]
          },
          {
           "marker": {
            "size": [
             199
            ],
            "sizemode": "area",
            "sizeref": 0.05
           },
           "mode": "markers+text",
           "name": "Switzerland",
           "text": [
            "Switzerland:<br> 1"
           ],
           "type": "scatter",
           "x": [
            0.7660444974899292
           ],
           "y": [
            0.6427875757217407
           ]
          },
          {
           "marker": {
            "size": [
             199
            ],
            "sizemode": "area",
            "sizeref": 0.05
           },
           "mode": "markers+text",
           "name": "Hungary",
           "text": [
            "Hungary:<br> 1"
           ],
           "type": "scatter",
           "x": [
            0.17364825308322906
           ],
           "y": [
            0.9848077297210693
           ]
          },
          {
           "marker": {
            "size": [
             190
            ],
            "sizemode": "area",
            "sizeref": 0.05
           },
           "mode": "markers+text",
           "name": "Peru",
           "text": [
            "Peru:<br> 10"
           ],
           "type": "scatter",
           "x": [
            -0.5
           ],
           "y": [
            0.8660253882408142
           ]
          },
          {
           "marker": {
            "size": [
             199
            ],
            "sizemode": "area",
            "sizeref": 0.05
           },
           "mode": "markers+text",
           "name": "Malaysia",
           "text": [
            "Malaysia:<br> 1"
           ],
           "type": "scatter",
           "x": [
            -0.9396925568580627
           ],
           "y": [
            0.3420202136039734
           ]
          },
          {
           "marker": {
            "size": [
             199
            ],
            "sizemode": "area",
            "sizeref": 0.05
           },
           "mode": "markers+text",
           "name": "Denmark",
           "text": [
            "Denmark:<br> 1"
           ],
           "type": "scatter",
           "x": [
            -0.9396925568580627
           ],
           "y": [
            -0.3420201539993286
           ]
          },
          {
           "marker": {
            "size": [
             193
            ],
            "sizemode": "area",
            "sizeref": 0.05
           },
           "mode": "markers+text",
           "name": "Bolivia",
           "text": [
            "Bolivia:<br> 7"
           ],
           "type": "scatter",
           "x": [
            -0.49999988079071045
           ],
           "y": [
            -0.866025447845459
           ]
          },
          {
           "marker": {
            "size": [
             199
            ],
            "sizemode": "area",
            "sizeref": 0.05
           },
           "mode": "markers+text",
           "name": "Austria",
           "text": [
            "Austria:<br> 1"
           ],
           "type": "scatter",
           "x": [
            0.1736481785774231
           ],
           "y": [
            -0.9848077297210693
           ]
          },
          {
           "marker": {
            "size": [
             199
            ],
            "sizemode": "area",
            "sizeref": 0.05
           },
           "mode": "markers+text",
           "name": "Portugal",
           "text": [
            "Portugal:<br> 1"
           ],
           "type": "scatter",
           "x": [
            0.7660443782806396
           ],
           "y": [
            -0.642787754535675
           ]
          }
         ],
         "name": "2017-01-15"
        },
        {
         "data": [
          {
           "marker": {
            "size": [
             198
            ],
            "sizemode": "area",
            "sizeref": 0.05
           },
           "mode": "markers+text",
           "name": "United States",
           "text": [
            "United States:<br> 2"
           ],
           "type": "scatter",
           "x": [
            1
           ],
           "y": [
            6.622738357719982e-09
           ]
          },
          {
           "marker": {
            "size": [
             199
            ],
            "sizemode": "area",
            "sizeref": 0.05
           },
           "mode": "markers+text",
           "name": "Switzerland",
           "text": [
            "Switzerland:<br> 1"
           ],
           "type": "scatter",
           "x": [
            0.7660444974899292
           ],
           "y": [
            0.6427875757217407
           ]
          },
          {
           "marker": {
            "size": [
             199
            ],
            "sizemode": "area",
            "sizeref": 0.05
           },
           "mode": "markers+text",
           "name": "Hungary",
           "text": [
            "Hungary:<br> 1"
           ],
           "type": "scatter",
           "x": [
            0.17364825308322906
           ],
           "y": [
            0.9848077297210693
           ]
          },
          {
           "marker": {
            "size": [
             192
            ],
            "sizemode": "area",
            "sizeref": 0.05
           },
           "mode": "markers+text",
           "name": "Peru",
           "text": [
            "Peru:<br> 8"
           ],
           "type": "scatter",
           "x": [
            -0.5
           ],
           "y": [
            0.8660253882408142
           ]
          },
          {
           "marker": {
            "size": [
             199
            ],
            "sizemode": "area",
            "sizeref": 0.05
           },
           "mode": "markers+text",
           "name": "Malaysia",
           "text": [
            "Malaysia:<br> 1"
           ],
           "type": "scatter",
           "x": [
            -0.9396925568580627
           ],
           "y": [
            0.3420202136039734
           ]
          },
          {
           "marker": {
            "size": [
             199
            ],
            "sizemode": "area",
            "sizeref": 0.05
           },
           "mode": "markers+text",
           "name": "Denmark",
           "text": [
            "Denmark:<br> 1"
           ],
           "type": "scatter",
           "x": [
            -0.9396925568580627
           ],
           "y": [
            -0.3420201539993286
           ]
          },
          {
           "marker": {
            "size": [
             194
            ],
            "sizemode": "area",
            "sizeref": 0.05
           },
           "mode": "markers+text",
           "name": "Bolivia",
           "text": [
            "Bolivia:<br> 6"
           ],
           "type": "scatter",
           "x": [
            -0.49999988079071045
           ],
           "y": [
            -0.866025447845459
           ]
          },
          {
           "marker": {
            "size": [
             199
            ],
            "sizemode": "area",
            "sizeref": 0.05
           },
           "mode": "markers+text",
           "name": "Austria",
           "text": [
            "Austria:<br> 1"
           ],
           "type": "scatter",
           "x": [
            0.1736481785774231
           ],
           "y": [
            -0.9848077297210693
           ]
          },
          {
           "marker": {
            "size": [
             199
            ],
            "sizemode": "area",
            "sizeref": 0.05
           },
           "mode": "markers+text",
           "name": "Portugal",
           "text": [
            "Portugal:<br> 1"
           ],
           "type": "scatter",
           "x": [
            0.7660443782806396
           ],
           "y": [
            -0.642787754535675
           ]
          }
         ],
         "name": "2017-01-16"
        },
        {
         "data": [
          {
           "marker": {
            "size": [
             198
            ],
            "sizemode": "area",
            "sizeref": 0.05
           },
           "mode": "markers+text",
           "name": "United States",
           "text": [
            "United States:<br> 2"
           ],
           "type": "scatter",
           "x": [
            1
           ],
           "y": [
            6.622738357719982e-09
           ]
          },
          {
           "marker": {
            "size": [
             199
            ],
            "sizemode": "area",
            "sizeref": 0.05
           },
           "mode": "markers+text",
           "name": "Switzerland",
           "text": [
            "Switzerland:<br> 1"
           ],
           "type": "scatter",
           "x": [
            0.7660444974899292
           ],
           "y": [
            0.6427875757217407
           ]
          },
          {
           "marker": {
            "size": [
             199
            ],
            "sizemode": "area",
            "sizeref": 0.05
           },
           "mode": "markers+text",
           "name": "Hungary",
           "text": [
            "Hungary:<br> 1"
           ],
           "type": "scatter",
           "x": [
            0.17364825308322906
           ],
           "y": [
            0.9848077297210693
           ]
          },
          {
           "marker": {
            "size": [
             192
            ],
            "sizemode": "area",
            "sizeref": 0.05
           },
           "mode": "markers+text",
           "name": "Peru",
           "text": [
            "Peru:<br> 8"
           ],
           "type": "scatter",
           "x": [
            -0.5
           ],
           "y": [
            0.8660253882408142
           ]
          },
          {
           "marker": {
            "size": [
             199
            ],
            "sizemode": "area",
            "sizeref": 0.05
           },
           "mode": "markers+text",
           "name": "Malaysia",
           "text": [
            "Malaysia:<br> 1"
           ],
           "type": "scatter",
           "x": [
            -0.9396925568580627
           ],
           "y": [
            0.3420202136039734
           ]
          },
          {
           "marker": {
            "size": [
             199
            ],
            "sizemode": "area",
            "sizeref": 0.05
           },
           "mode": "markers+text",
           "name": "Denmark",
           "text": [
            "Denmark:<br> 1"
           ],
           "type": "scatter",
           "x": [
            -0.9396925568580627
           ],
           "y": [
            -0.3420201539993286
           ]
          },
          {
           "marker": {
            "size": [
             194
            ],
            "sizemode": "area",
            "sizeref": 0.05
           },
           "mode": "markers+text",
           "name": "Bolivia",
           "text": [
            "Bolivia:<br> 6"
           ],
           "type": "scatter",
           "x": [
            -0.49999988079071045
           ],
           "y": [
            -0.866025447845459
           ]
          },
          {
           "marker": {
            "size": [
             199
            ],
            "sizemode": "area",
            "sizeref": 0.05
           },
           "mode": "markers+text",
           "name": "Austria",
           "text": [
            "Austria:<br> 1"
           ],
           "type": "scatter",
           "x": [
            0.1736481785774231
           ],
           "y": [
            -0.9848077297210693
           ]
          },
          {
           "marker": {
            "size": [
             199
            ],
            "sizemode": "area",
            "sizeref": 0.05
           },
           "mode": "markers+text",
           "name": "Portugal",
           "text": [
            "Portugal:<br> 1"
           ],
           "type": "scatter",
           "x": [
            0.7660443782806396
           ],
           "y": [
            -0.642787754535675
           ]
          }
         ],
         "name": "2017-01-17"
        },
        {
         "data": [
          {
           "marker": {
            "size": [
             198
            ],
            "sizemode": "area",
            "sizeref": 0.05
           },
           "mode": "markers+text",
           "name": "United States",
           "text": [
            "United States:<br> 2"
           ],
           "type": "scatter",
           "x": [
            1
           ],
           "y": [
            6.622738357719982e-09
           ]
          },
          {
           "marker": {
            "size": [
             199
            ],
            "sizemode": "area",
            "sizeref": 0.05
           },
           "mode": "markers+text",
           "name": "Switzerland",
           "text": [
            "Switzerland:<br> 1"
           ],
           "type": "scatter",
           "x": [
            0.7660444974899292
           ],
           "y": [
            0.6427875757217407
           ]
          },
          {
           "marker": {
            "size": [
             199
            ],
            "sizemode": "area",
            "sizeref": 0.05
           },
           "mode": "markers+text",
           "name": "Hungary",
           "text": [
            "Hungary:<br> 1"
           ],
           "type": "scatter",
           "x": [
            0.17364825308322906
           ],
           "y": [
            0.9848077297210693
           ]
          },
          {
           "marker": {
            "size": [
             192
            ],
            "sizemode": "area",
            "sizeref": 0.05
           },
           "mode": "markers+text",
           "name": "Peru",
           "text": [
            "Peru:<br> 8"
           ],
           "type": "scatter",
           "x": [
            -0.5
           ],
           "y": [
            0.8660253882408142
           ]
          },
          {
           "marker": {
            "size": [
             199
            ],
            "sizemode": "area",
            "sizeref": 0.05
           },
           "mode": "markers+text",
           "name": "Malaysia",
           "text": [
            "Malaysia:<br> 1"
           ],
           "type": "scatter",
           "x": [
            -0.9396925568580627
           ],
           "y": [
            0.3420202136039734
           ]
          },
          {
           "marker": {
            "size": [
             199
            ],
            "sizemode": "area",
            "sizeref": 0.05
           },
           "mode": "markers+text",
           "name": "Denmark",
           "text": [
            "Denmark:<br> 1"
           ],
           "type": "scatter",
           "x": [
            -0.9396925568580627
           ],
           "y": [
            -0.3420201539993286
           ]
          },
          {
           "marker": {
            "size": [
             194
            ],
            "sizemode": "area",
            "sizeref": 0.05
           },
           "mode": "markers+text",
           "name": "Bolivia",
           "text": [
            "Bolivia:<br> 6"
           ],
           "type": "scatter",
           "x": [
            -0.49999988079071045
           ],
           "y": [
            -0.866025447845459
           ]
          },
          {
           "marker": {
            "size": [
             199
            ],
            "sizemode": "area",
            "sizeref": 0.05
           },
           "mode": "markers+text",
           "name": "Austria",
           "text": [
            "Austria:<br> 1"
           ],
           "type": "scatter",
           "x": [
            0.1736481785774231
           ],
           "y": [
            -0.9848077297210693
           ]
          },
          {
           "marker": {
            "size": [
             199
            ],
            "sizemode": "area",
            "sizeref": 0.05
           },
           "mode": "markers+text",
           "name": "Portugal",
           "text": [
            "Portugal:<br> 1"
           ],
           "type": "scatter",
           "x": [
            0.7660443782806396
           ],
           "y": [
            -0.642787754535675
           ]
          }
         ],
         "name": "2017-01-18"
        },
        {
         "data": [
          {
           "marker": {
            "size": [
             198
            ],
            "sizemode": "area",
            "sizeref": 0.05
           },
           "mode": "markers+text",
           "name": "United States",
           "text": [
            "United States:<br> 2"
           ],
           "type": "scatter",
           "x": [
            1
           ],
           "y": [
            6.622738357719982e-09
           ]
          },
          {
           "marker": {
            "size": [
             199
            ],
            "sizemode": "area",
            "sizeref": 0.05
           },
           "mode": "markers+text",
           "name": "Switzerland",
           "text": [
            "Switzerland:<br> 1"
           ],
           "type": "scatter",
           "x": [
            0.7660444974899292
           ],
           "y": [
            0.6427875757217407
           ]
          },
          {
           "marker": {
            "size": [
             199
            ],
            "sizemode": "area",
            "sizeref": 0.05
           },
           "mode": "markers+text",
           "name": "Hungary",
           "text": [
            "Hungary:<br> 1"
           ],
           "type": "scatter",
           "x": [
            0.17364825308322906
           ],
           "y": [
            0.9848077297210693
           ]
          },
          {
           "marker": {
            "size": [
             193
            ],
            "sizemode": "area",
            "sizeref": 0.05
           },
           "mode": "markers+text",
           "name": "Peru",
           "text": [
            "Peru:<br> 7"
           ],
           "type": "scatter",
           "x": [
            -0.5
           ],
           "y": [
            0.8660253882408142
           ]
          },
          {
           "marker": {
            "size": [
             199
            ],
            "sizemode": "area",
            "sizeref": 0.05
           },
           "mode": "markers+text",
           "name": "Malaysia",
           "text": [
            "Malaysia:<br> 1"
           ],
           "type": "scatter",
           "x": [
            -0.9396925568580627
           ],
           "y": [
            0.3420202136039734
           ]
          },
          {
           "marker": {
            "size": [
             199
            ],
            "sizemode": "area",
            "sizeref": 0.05
           },
           "mode": "markers+text",
           "name": "Denmark",
           "text": [
            "Denmark:<br> 1"
           ],
           "type": "scatter",
           "x": [
            -0.9396925568580627
           ],
           "y": [
            -0.3420201539993286
           ]
          },
          {
           "marker": {
            "size": [
             194
            ],
            "sizemode": "area",
            "sizeref": 0.05
           },
           "mode": "markers+text",
           "name": "Bolivia",
           "text": [
            "Bolivia:<br> 6"
           ],
           "type": "scatter",
           "x": [
            -0.49999988079071045
           ],
           "y": [
            -0.866025447845459
           ]
          },
          {
           "marker": {
            "size": [
             199
            ],
            "sizemode": "area",
            "sizeref": 0.05
           },
           "mode": "markers+text",
           "name": "Austria",
           "text": [
            "Austria:<br> 1"
           ],
           "type": "scatter",
           "x": [
            0.1736481785774231
           ],
           "y": [
            -0.9848077297210693
           ]
          },
          {
           "marker": {
            "size": [
             199
            ],
            "sizemode": "area",
            "sizeref": 0.05
           },
           "mode": "markers+text",
           "name": "Portugal",
           "text": [
            "Portugal:<br> 1"
           ],
           "type": "scatter",
           "x": [
            0.7660443782806396
           ],
           "y": [
            -0.642787754535675
           ]
          }
         ],
         "name": "2017-01-19"
        },
        {
         "data": [
          {
           "marker": {
            "size": [
             198
            ],
            "sizemode": "area",
            "sizeref": 0.05
           },
           "mode": "markers+text",
           "name": "United States",
           "text": [
            "United States:<br> 2"
           ],
           "type": "scatter",
           "x": [
            1
           ],
           "y": [
            6.622738357719982e-09
           ]
          },
          {
           "marker": {
            "size": [
             199
            ],
            "sizemode": "area",
            "sizeref": 0.05
           },
           "mode": "markers+text",
           "name": "Switzerland",
           "text": [
            "Switzerland:<br> 1"
           ],
           "type": "scatter",
           "x": [
            0.7660444974899292
           ],
           "y": [
            0.6427875757217407
           ]
          },
          {
           "marker": {
            "size": [
             199
            ],
            "sizemode": "area",
            "sizeref": 0.05
           },
           "mode": "markers+text",
           "name": "Hungary",
           "text": [
            "Hungary:<br> 1"
           ],
           "type": "scatter",
           "x": [
            0.17364825308322906
           ],
           "y": [
            0.9848077297210693
           ]
          },
          {
           "marker": {
            "size": [
             192
            ],
            "sizemode": "area",
            "sizeref": 0.05
           },
           "mode": "markers+text",
           "name": "Peru",
           "text": [
            "Peru:<br> 8"
           ],
           "type": "scatter",
           "x": [
            -0.5
           ],
           "y": [
            0.8660253882408142
           ]
          },
          {
           "marker": {
            "size": [
             199
            ],
            "sizemode": "area",
            "sizeref": 0.05
           },
           "mode": "markers+text",
           "name": "Malaysia",
           "text": [
            "Malaysia:<br> 1"
           ],
           "type": "scatter",
           "x": [
            -0.9396925568580627
           ],
           "y": [
            0.3420202136039734
           ]
          },
          {
           "marker": {
            "size": [
             199
            ],
            "sizemode": "area",
            "sizeref": 0.05
           },
           "mode": "markers+text",
           "name": "Denmark",
           "text": [
            "Denmark:<br> 1"
           ],
           "type": "scatter",
           "x": [
            -0.9396925568580627
           ],
           "y": [
            -0.3420201539993286
           ]
          },
          {
           "marker": {
            "size": [
             193
            ],
            "sizemode": "area",
            "sizeref": 0.05
           },
           "mode": "markers+text",
           "name": "Bolivia",
           "text": [
            "Bolivia:<br> 7"
           ],
           "type": "scatter",
           "x": [
            -0.49999988079071045
           ],
           "y": [
            -0.866025447845459
           ]
          },
          {
           "marker": {
            "size": [
             199
            ],
            "sizemode": "area",
            "sizeref": 0.05
           },
           "mode": "markers+text",
           "name": "Austria",
           "text": [
            "Austria:<br> 1"
           ],
           "type": "scatter",
           "x": [
            0.1736481785774231
           ],
           "y": [
            -0.9848077297210693
           ]
          },
          {
           "marker": {
            "size": [
             199
            ],
            "sizemode": "area",
            "sizeref": 0.05
           },
           "mode": "markers+text",
           "name": "Portugal",
           "text": [
            "Portugal:<br> 1"
           ],
           "type": "scatter",
           "x": [
            0.7660443782806396
           ],
           "y": [
            -0.642787754535675
           ]
          }
         ],
         "name": "2017-01-20"
        },
        {
         "data": [
          {
           "marker": {
            "size": [
             198
            ],
            "sizemode": "area",
            "sizeref": 0.05
           },
           "mode": "markers+text",
           "name": "United States",
           "text": [
            "United States:<br> 2"
           ],
           "type": "scatter",
           "x": [
            1
           ],
           "y": [
            6.622738357719982e-09
           ]
          },
          {
           "marker": {
            "size": [
             199
            ],
            "sizemode": "area",
            "sizeref": 0.05
           },
           "mode": "markers+text",
           "name": "Switzerland",
           "text": [
            "Switzerland:<br> 1"
           ],
           "type": "scatter",
           "x": [
            0.7660444974899292
           ],
           "y": [
            0.6427875757217407
           ]
          },
          {
           "marker": {
            "size": [
             199
            ],
            "sizemode": "area",
            "sizeref": 0.05
           },
           "mode": "markers+text",
           "name": "Hungary",
           "text": [
            "Hungary:<br> 1"
           ],
           "type": "scatter",
           "x": [
            0.17364825308322906
           ],
           "y": [
            0.9848077297210693
           ]
          },
          {
           "marker": {
            "size": [
             191
            ],
            "sizemode": "area",
            "sizeref": 0.05
           },
           "mode": "markers+text",
           "name": "Peru",
           "text": [
            "Peru:<br> 9"
           ],
           "type": "scatter",
           "x": [
            -0.5
           ],
           "y": [
            0.8660253882408142
           ]
          },
          {
           "marker": {
            "size": [
             199
            ],
            "sizemode": "area",
            "sizeref": 0.05
           },
           "mode": "markers+text",
           "name": "Malaysia",
           "text": [
            "Malaysia:<br> 1"
           ],
           "type": "scatter",
           "x": [
            -0.9396925568580627
           ],
           "y": [
            0.3420202136039734
           ]
          },
          {
           "marker": {
            "size": [
             199
            ],
            "sizemode": "area",
            "sizeref": 0.05
           },
           "mode": "markers+text",
           "name": "Denmark",
           "text": [
            "Denmark:<br> 1"
           ],
           "type": "scatter",
           "x": [
            -0.9396925568580627
           ],
           "y": [
            -0.3420201539993286
           ]
          },
          {
           "marker": {
            "size": [
             192
            ],
            "sizemode": "area",
            "sizeref": 0.05
           },
           "mode": "markers+text",
           "name": "Bolivia",
           "text": [
            "Bolivia:<br> 8"
           ],
           "type": "scatter",
           "x": [
            -0.49999988079071045
           ],
           "y": [
            -0.866025447845459
           ]
          },
          {
           "marker": {
            "size": [
             199
            ],
            "sizemode": "area",
            "sizeref": 0.05
           },
           "mode": "markers+text",
           "name": "Austria",
           "text": [
            "Austria:<br> 1"
           ],
           "type": "scatter",
           "x": [
            0.1736481785774231
           ],
           "y": [
            -0.9848077297210693
           ]
          },
          {
           "marker": {
            "size": [
             199
            ],
            "sizemode": "area",
            "sizeref": 0.05
           },
           "mode": "markers+text",
           "name": "Portugal",
           "text": [
            "Portugal:<br> 1"
           ],
           "type": "scatter",
           "x": [
            0.7660443782806396
           ],
           "y": [
            -0.642787754535675
           ]
          }
         ],
         "name": "2017-01-21"
        },
        {
         "data": [
          {
           "marker": {
            "size": [
             198
            ],
            "sizemode": "area",
            "sizeref": 0.05
           },
           "mode": "markers+text",
           "name": "United States",
           "text": [
            "United States:<br> 2"
           ],
           "type": "scatter",
           "x": [
            1
           ],
           "y": [
            6.622738357719982e-09
           ]
          },
          {
           "marker": {
            "size": [
             199
            ],
            "sizemode": "area",
            "sizeref": 0.05
           },
           "mode": "markers+text",
           "name": "Switzerland",
           "text": [
            "Switzerland:<br> 1"
           ],
           "type": "scatter",
           "x": [
            0.7660444974899292
           ],
           "y": [
            0.6427875757217407
           ]
          },
          {
           "marker": {
            "size": [
             199
            ],
            "sizemode": "area",
            "sizeref": 0.05
           },
           "mode": "markers+text",
           "name": "Hungary",
           "text": [
            "Hungary:<br> 1"
           ],
           "type": "scatter",
           "x": [
            0.17364825308322906
           ],
           "y": [
            0.9848077297210693
           ]
          },
          {
           "marker": {
            "size": [
             191
            ],
            "sizemode": "area",
            "sizeref": 0.05
           },
           "mode": "markers+text",
           "name": "Peru",
           "text": [
            "Peru:<br> 9"
           ],
           "type": "scatter",
           "x": [
            -0.5
           ],
           "y": [
            0.8660253882408142
           ]
          },
          {
           "marker": {
            "size": [
             199
            ],
            "sizemode": "area",
            "sizeref": 0.05
           },
           "mode": "markers+text",
           "name": "Malaysia",
           "text": [
            "Malaysia:<br> 1"
           ],
           "type": "scatter",
           "x": [
            -0.9396925568580627
           ],
           "y": [
            0.3420202136039734
           ]
          },
          {
           "marker": {
            "size": [
             199
            ],
            "sizemode": "area",
            "sizeref": 0.05
           },
           "mode": "markers+text",
           "name": "Denmark",
           "text": [
            "Denmark:<br> 1"
           ],
           "type": "scatter",
           "x": [
            -0.9396925568580627
           ],
           "y": [
            -0.3420201539993286
           ]
          },
          {
           "marker": {
            "size": [
             191
            ],
            "sizemode": "area",
            "sizeref": 0.05
           },
           "mode": "markers+text",
           "name": "Bolivia",
           "text": [
            "Bolivia:<br> 9"
           ],
           "type": "scatter",
           "x": [
            -0.49999988079071045
           ],
           "y": [
            -0.866025447845459
           ]
          },
          {
           "marker": {
            "size": [
             199
            ],
            "sizemode": "area",
            "sizeref": 0.05
           },
           "mode": "markers+text",
           "name": "Austria",
           "text": [
            "Austria:<br> 1"
           ],
           "type": "scatter",
           "x": [
            0.1736481785774231
           ],
           "y": [
            -0.9848077297210693
           ]
          },
          {
           "marker": {
            "size": [
             199
            ],
            "sizemode": "area",
            "sizeref": 0.05
           },
           "mode": "markers+text",
           "name": "Portugal",
           "text": [
            "Portugal:<br> 1"
           ],
           "type": "scatter",
           "x": [
            0.7660443782806396
           ],
           "y": [
            -0.642787754535675
           ]
          }
         ],
         "name": "2017-01-22"
        },
        {
         "data": [
          {
           "marker": {
            "size": [
             199
            ],
            "sizemode": "area",
            "sizeref": 0.05
           },
           "mode": "markers+text",
           "name": "United States",
           "text": [
            "United States:<br> 1"
           ],
           "type": "scatter",
           "x": [
            1
           ],
           "y": [
            6.622738357719982e-09
           ]
          },
          {
           "marker": {
            "size": [
             199
            ],
            "sizemode": "area",
            "sizeref": 0.05
           },
           "mode": "markers+text",
           "name": "Switzerland",
           "text": [
            "Switzerland:<br> 1"
           ],
           "type": "scatter",
           "x": [
            0.7660444974899292
           ],
           "y": [
            0.6427875757217407
           ]
          },
          {
           "marker": {
            "size": [
             199
            ],
            "sizemode": "area",
            "sizeref": 0.05
           },
           "mode": "markers+text",
           "name": "Hungary",
           "text": [
            "Hungary:<br> 1"
           ],
           "type": "scatter",
           "x": [
            0.17364825308322906
           ],
           "y": [
            0.9848077297210693
           ]
          },
          {
           "marker": {
            "size": [
             192
            ],
            "sizemode": "area",
            "sizeref": 0.05
           },
           "mode": "markers+text",
           "name": "Peru",
           "text": [
            "Peru:<br> 8"
           ],
           "type": "scatter",
           "x": [
            -0.5
           ],
           "y": [
            0.8660253882408142
           ]
          },
          {
           "marker": {
            "size": [
             199
            ],
            "sizemode": "area",
            "sizeref": 0.05
           },
           "mode": "markers+text",
           "name": "Malaysia",
           "text": [
            "Malaysia:<br> 1"
           ],
           "type": "scatter",
           "x": [
            -0.9396925568580627
           ],
           "y": [
            0.3420202136039734
           ]
          },
          {
           "marker": {
            "size": [
             199
            ],
            "sizemode": "area",
            "sizeref": 0.05
           },
           "mode": "markers+text",
           "name": "Denmark",
           "text": [
            "Denmark:<br> 1"
           ],
           "type": "scatter",
           "x": [
            -0.9396925568580627
           ],
           "y": [
            -0.3420201539993286
           ]
          },
          {
           "marker": {
            "size": [
             193
            ],
            "sizemode": "area",
            "sizeref": 0.05
           },
           "mode": "markers+text",
           "name": "Bolivia",
           "text": [
            "Bolivia:<br> 7"
           ],
           "type": "scatter",
           "x": [
            -0.49999988079071045
           ],
           "y": [
            -0.866025447845459
           ]
          },
          {
           "marker": {
            "size": [
             199
            ],
            "sizemode": "area",
            "sizeref": 0.05
           },
           "mode": "markers+text",
           "name": "Austria",
           "text": [
            "Austria:<br> 1"
           ],
           "type": "scatter",
           "x": [
            0.1736481785774231
           ],
           "y": [
            -0.9848077297210693
           ]
          },
          {
           "marker": {
            "size": [
             199
            ],
            "sizemode": "area",
            "sizeref": 0.05
           },
           "mode": "markers+text",
           "name": "Portugal",
           "text": [
            "Portugal:<br> 1"
           ],
           "type": "scatter",
           "x": [
            0.7660443782806396
           ],
           "y": [
            -0.642787754535675
           ]
          }
         ],
         "name": "2017-01-23"
        },
        {
         "data": [
          {
           "marker": {
            "size": [
             199
            ],
            "sizemode": "area",
            "sizeref": 0.05
           },
           "mode": "markers+text",
           "name": "United States",
           "text": [
            "United States:<br> 1"
           ],
           "type": "scatter",
           "x": [
            1
           ],
           "y": [
            6.622738357719982e-09
           ]
          },
          {
           "marker": {
            "size": [
             199
            ],
            "sizemode": "area",
            "sizeref": 0.05
           },
           "mode": "markers+text",
           "name": "Switzerland",
           "text": [
            "Switzerland:<br> 1"
           ],
           "type": "scatter",
           "x": [
            0.7660444974899292
           ],
           "y": [
            0.6427875757217407
           ]
          },
          {
           "marker": {
            "size": [
             199
            ],
            "sizemode": "area",
            "sizeref": 0.05
           },
           "mode": "markers+text",
           "name": "Hungary",
           "text": [
            "Hungary:<br> 1"
           ],
           "type": "scatter",
           "x": [
            0.17364825308322906
           ],
           "y": [
            0.9848077297210693
           ]
          },
          {
           "marker": {
            "size": [
             192
            ],
            "sizemode": "area",
            "sizeref": 0.05
           },
           "mode": "markers+text",
           "name": "Peru",
           "text": [
            "Peru:<br> 8"
           ],
           "type": "scatter",
           "x": [
            -0.5
           ],
           "y": [
            0.8660253882408142
           ]
          },
          {
           "marker": {
            "size": [
             199
            ],
            "sizemode": "area",
            "sizeref": 0.05
           },
           "mode": "markers+text",
           "name": "Malaysia",
           "text": [
            "Malaysia:<br> 1"
           ],
           "type": "scatter",
           "x": [
            -0.9396925568580627
           ],
           "y": [
            0.3420202136039734
           ]
          },
          {
           "marker": {
            "size": [
             199
            ],
            "sizemode": "area",
            "sizeref": 0.05
           },
           "mode": "markers+text",
           "name": "Denmark",
           "text": [
            "Denmark:<br> 1"
           ],
           "type": "scatter",
           "x": [
            -0.9396925568580627
           ],
           "y": [
            -0.3420201539993286
           ]
          },
          {
           "marker": {
            "size": [
             194
            ],
            "sizemode": "area",
            "sizeref": 0.05
           },
           "mode": "markers+text",
           "name": "Bolivia",
           "text": [
            "Bolivia:<br> 6"
           ],
           "type": "scatter",
           "x": [
            -0.49999988079071045
           ],
           "y": [
            -0.866025447845459
           ]
          },
          {
           "marker": {
            "size": [
             199
            ],
            "sizemode": "area",
            "sizeref": 0.05
           },
           "mode": "markers+text",
           "name": "Austria",
           "text": [
            "Austria:<br> 1"
           ],
           "type": "scatter",
           "x": [
            0.1736481785774231
           ],
           "y": [
            -0.9848077297210693
           ]
          },
          {
           "marker": {
            "size": [
             199
            ],
            "sizemode": "area",
            "sizeref": 0.05
           },
           "mode": "markers+text",
           "name": "Portugal",
           "text": [
            "Portugal:<br> 1"
           ],
           "type": "scatter",
           "x": [
            0.7660443782806396
           ],
           "y": [
            -0.642787754535675
           ]
          }
         ],
         "name": "2017-01-24"
        },
        {
         "data": [
          {
           "marker": {
            "size": [
             199
            ],
            "sizemode": "area",
            "sizeref": 0.05
           },
           "mode": "markers+text",
           "name": "United States",
           "text": [
            "United States:<br> 1"
           ],
           "type": "scatter",
           "x": [
            1
           ],
           "y": [
            6.622738357719982e-09
           ]
          },
          {
           "marker": {
            "size": [
             199
            ],
            "sizemode": "area",
            "sizeref": 0.05
           },
           "mode": "markers+text",
           "name": "Switzerland",
           "text": [
            "Switzerland:<br> 1"
           ],
           "type": "scatter",
           "x": [
            0.7660444974899292
           ],
           "y": [
            0.6427875757217407
           ]
          },
          {
           "marker": {
            "size": [
             199
            ],
            "sizemode": "area",
            "sizeref": 0.05
           },
           "mode": "markers+text",
           "name": "Hungary",
           "text": [
            "Hungary:<br> 1"
           ],
           "type": "scatter",
           "x": [
            0.17364825308322906
           ],
           "y": [
            0.9848077297210693
           ]
          },
          {
           "marker": {
            "size": [
             192
            ],
            "sizemode": "area",
            "sizeref": 0.05
           },
           "mode": "markers+text",
           "name": "Peru",
           "text": [
            "Peru:<br> 8"
           ],
           "type": "scatter",
           "x": [
            -0.5
           ],
           "y": [
            0.8660253882408142
           ]
          },
          {
           "marker": {
            "size": [
             199
            ],
            "sizemode": "area",
            "sizeref": 0.05
           },
           "mode": "markers+text",
           "name": "Malaysia",
           "text": [
            "Malaysia:<br> 1"
           ],
           "type": "scatter",
           "x": [
            -0.9396925568580627
           ],
           "y": [
            0.3420202136039734
           ]
          },
          {
           "marker": {
            "size": [
             199
            ],
            "sizemode": "area",
            "sizeref": 0.05
           },
           "mode": "markers+text",
           "name": "Denmark",
           "text": [
            "Denmark:<br> 1"
           ],
           "type": "scatter",
           "x": [
            -0.9396925568580627
           ],
           "y": [
            -0.3420201539993286
           ]
          },
          {
           "marker": {
            "size": [
             193
            ],
            "sizemode": "area",
            "sizeref": 0.05
           },
           "mode": "markers+text",
           "name": "Bolivia",
           "text": [
            "Bolivia:<br> 7"
           ],
           "type": "scatter",
           "x": [
            -0.49999988079071045
           ],
           "y": [
            -0.866025447845459
           ]
          },
          {
           "marker": {
            "size": [
             199
            ],
            "sizemode": "area",
            "sizeref": 0.05
           },
           "mode": "markers+text",
           "name": "Austria",
           "text": [
            "Austria:<br> 1"
           ],
           "type": "scatter",
           "x": [
            0.1736481785774231
           ],
           "y": [
            -0.9848077297210693
           ]
          },
          {
           "marker": {
            "size": [
             199
            ],
            "sizemode": "area",
            "sizeref": 0.05
           },
           "mode": "markers+text",
           "name": "Portugal",
           "text": [
            "Portugal:<br> 1"
           ],
           "type": "scatter",
           "x": [
            0.7660443782806396
           ],
           "y": [
            -0.642787754535675
           ]
          }
         ],
         "name": "2017-01-25"
        },
        {
         "data": [
          {
           "marker": {
            "size": [
             199
            ],
            "sizemode": "area",
            "sizeref": 0.05
           },
           "mode": "markers+text",
           "name": "United States",
           "text": [
            "United States:<br> 1"
           ],
           "type": "scatter",
           "x": [
            1
           ],
           "y": [
            6.622738357719982e-09
           ]
          },
          {
           "marker": {
            "size": [
             199
            ],
            "sizemode": "area",
            "sizeref": 0.05
           },
           "mode": "markers+text",
           "name": "Switzerland",
           "text": [
            "Switzerland:<br> 1"
           ],
           "type": "scatter",
           "x": [
            0.7660444974899292
           ],
           "y": [
            0.6427875757217407
           ]
          },
          {
           "marker": {
            "size": [
             199
            ],
            "sizemode": "area",
            "sizeref": 0.05
           },
           "mode": "markers+text",
           "name": "Hungary",
           "text": [
            "Hungary:<br> 1"
           ],
           "type": "scatter",
           "x": [
            0.17364825308322906
           ],
           "y": [
            0.9848077297210693
           ]
          },
          {
           "marker": {
            "size": [
             195
            ],
            "sizemode": "area",
            "sizeref": 0.05
           },
           "mode": "markers+text",
           "name": "Peru",
           "text": [
            "Peru:<br> 5"
           ],
           "type": "scatter",
           "x": [
            -0.5
           ],
           "y": [
            0.8660253882408142
           ]
          },
          {
           "marker": {
            "size": [
             199
            ],
            "sizemode": "area",
            "sizeref": 0.05
           },
           "mode": "markers+text",
           "name": "Malaysia",
           "text": [
            "Malaysia:<br> 1"
           ],
           "type": "scatter",
           "x": [
            -0.9396925568580627
           ],
           "y": [
            0.3420202136039734
           ]
          },
          {
           "marker": {
            "size": [
             199
            ],
            "sizemode": "area",
            "sizeref": 0.05
           },
           "mode": "markers+text",
           "name": "Denmark",
           "text": [
            "Denmark:<br> 1"
           ],
           "type": "scatter",
           "x": [
            -0.9396925568580627
           ],
           "y": [
            -0.3420201539993286
           ]
          },
          {
           "marker": {
            "size": [
             194
            ],
            "sizemode": "area",
            "sizeref": 0.05
           },
           "mode": "markers+text",
           "name": "Bolivia",
           "text": [
            "Bolivia:<br> 6"
           ],
           "type": "scatter",
           "x": [
            -0.49999988079071045
           ],
           "y": [
            -0.866025447845459
           ]
          },
          {
           "marker": {
            "size": [
             199
            ],
            "sizemode": "area",
            "sizeref": 0.05
           },
           "mode": "markers+text",
           "name": "Austria",
           "text": [
            "Austria:<br> 1"
           ],
           "type": "scatter",
           "x": [
            0.1736481785774231
           ],
           "y": [
            -0.9848077297210693
           ]
          },
          {
           "marker": {
            "size": [
             199
            ],
            "sizemode": "area",
            "sizeref": 0.05
           },
           "mode": "markers+text",
           "name": "Portugal",
           "text": [
            "Portugal:<br> 1"
           ],
           "type": "scatter",
           "x": [
            0.7660443782806396
           ],
           "y": [
            -0.642787754535675
           ]
          }
         ],
         "name": "2017-01-26"
        },
        {
         "data": [
          {
           "marker": {
            "size": [
             198
            ],
            "sizemode": "area",
            "sizeref": 0.05
           },
           "mode": "markers+text",
           "name": "United States",
           "text": [
            "United States:<br> 2"
           ],
           "type": "scatter",
           "x": [
            1
           ],
           "y": [
            6.622738357719982e-09
           ]
          },
          {
           "marker": {
            "size": [
             199
            ],
            "sizemode": "area",
            "sizeref": 0.05
           },
           "mode": "markers+text",
           "name": "Switzerland",
           "text": [
            "Switzerland:<br> 1"
           ],
           "type": "scatter",
           "x": [
            0.7660444974899292
           ],
           "y": [
            0.6427875757217407
           ]
          },
          {
           "marker": {
            "size": [
             199
            ],
            "sizemode": "area",
            "sizeref": 0.05
           },
           "mode": "markers+text",
           "name": "Hungary",
           "text": [
            "Hungary:<br> 1"
           ],
           "type": "scatter",
           "x": [
            0.17364825308322906
           ],
           "y": [
            0.9848077297210693
           ]
          },
          {
           "marker": {
            "size": [
             194
            ],
            "sizemode": "area",
            "sizeref": 0.05
           },
           "mode": "markers+text",
           "name": "Peru",
           "text": [
            "Peru:<br> 6"
           ],
           "type": "scatter",
           "x": [
            -0.5
           ],
           "y": [
            0.8660253882408142
           ]
          },
          {
           "marker": {
            "size": [
             199
            ],
            "sizemode": "area",
            "sizeref": 0.05
           },
           "mode": "markers+text",
           "name": "Malaysia",
           "text": [
            "Malaysia:<br> 1"
           ],
           "type": "scatter",
           "x": [
            -0.9396925568580627
           ],
           "y": [
            0.3420202136039734
           ]
          },
          {
           "marker": {
            "size": [
             199
            ],
            "sizemode": "area",
            "sizeref": 0.05
           },
           "mode": "markers+text",
           "name": "Denmark",
           "text": [
            "Denmark:<br> 1"
           ],
           "type": "scatter",
           "x": [
            -0.9396925568580627
           ],
           "y": [
            -0.3420201539993286
           ]
          },
          {
           "marker": {
            "size": [
             193
            ],
            "sizemode": "area",
            "sizeref": 0.05
           },
           "mode": "markers+text",
           "name": "Bolivia",
           "text": [
            "Bolivia:<br> 7"
           ],
           "type": "scatter",
           "x": [
            -0.49999988079071045
           ],
           "y": [
            -0.866025447845459
           ]
          },
          {
           "marker": {
            "size": [
             199
            ],
            "sizemode": "area",
            "sizeref": 0.05
           },
           "mode": "markers+text",
           "name": "Austria",
           "text": [
            "Austria:<br> 1"
           ],
           "type": "scatter",
           "x": [
            0.1736481785774231
           ],
           "y": [
            -0.9848077297210693
           ]
          },
          {
           "marker": {
            "size": [
             199
            ],
            "sizemode": "area",
            "sizeref": 0.05
           },
           "mode": "markers+text",
           "name": "Portugal",
           "text": [
            "Portugal:<br> 1"
           ],
           "type": "scatter",
           "x": [
            0.7660443782806396
           ],
           "y": [
            -0.642787754535675
           ]
          }
         ],
         "name": "2017-01-27"
        },
        {
         "data": [
          {
           "marker": {
            "size": [
             198
            ],
            "sizemode": "area",
            "sizeref": 0.05
           },
           "mode": "markers+text",
           "name": "United States",
           "text": [
            "United States:<br> 2"
           ],
           "type": "scatter",
           "x": [
            1
           ],
           "y": [
            6.622738357719982e-09
           ]
          },
          {
           "marker": {
            "size": [
             199
            ],
            "sizemode": "area",
            "sizeref": 0.05
           },
           "mode": "markers+text",
           "name": "Switzerland",
           "text": [
            "Switzerland:<br> 1"
           ],
           "type": "scatter",
           "x": [
            0.7660444974899292
           ],
           "y": [
            0.6427875757217407
           ]
          },
          {
           "marker": {
            "size": [
             199
            ],
            "sizemode": "area",
            "sizeref": 0.05
           },
           "mode": "markers+text",
           "name": "Hungary",
           "text": [
            "Hungary:<br> 1"
           ],
           "type": "scatter",
           "x": [
            0.17364825308322906
           ],
           "y": [
            0.9848077297210693
           ]
          },
          {
           "marker": {
            "size": [
             192
            ],
            "sizemode": "area",
            "sizeref": 0.05
           },
           "mode": "markers+text",
           "name": "Peru",
           "text": [
            "Peru:<br> 8"
           ],
           "type": "scatter",
           "x": [
            -0.5
           ],
           "y": [
            0.8660253882408142
           ]
          },
          {
           "marker": {
            "size": [
             199
            ],
            "sizemode": "area",
            "sizeref": 0.05
           },
           "mode": "markers+text",
           "name": "Malaysia",
           "text": [
            "Malaysia:<br> 1"
           ],
           "type": "scatter",
           "x": [
            -0.9396925568580627
           ],
           "y": [
            0.3420202136039734
           ]
          },
          {
           "marker": {
            "size": [
             199
            ],
            "sizemode": "area",
            "sizeref": 0.05
           },
           "mode": "markers+text",
           "name": "Denmark",
           "text": [
            "Denmark:<br> 1"
           ],
           "type": "scatter",
           "x": [
            -0.9396925568580627
           ],
           "y": [
            -0.3420201539993286
           ]
          },
          {
           "marker": {
            "size": [
             193
            ],
            "sizemode": "area",
            "sizeref": 0.05
           },
           "mode": "markers+text",
           "name": "Bolivia",
           "text": [
            "Bolivia:<br> 7"
           ],
           "type": "scatter",
           "x": [
            -0.49999988079071045
           ],
           "y": [
            -0.866025447845459
           ]
          },
          {
           "marker": {
            "size": [
             199
            ],
            "sizemode": "area",
            "sizeref": 0.05
           },
           "mode": "markers+text",
           "name": "Austria",
           "text": [
            "Austria:<br> 1"
           ],
           "type": "scatter",
           "x": [
            0.1736481785774231
           ],
           "y": [
            -0.9848077297210693
           ]
          },
          {
           "marker": {
            "size": [
             199
            ],
            "sizemode": "area",
            "sizeref": 0.05
           },
           "mode": "markers+text",
           "name": "Portugal",
           "text": [
            "Portugal:<br> 1"
           ],
           "type": "scatter",
           "x": [
            0.7660443782806396
           ],
           "y": [
            -0.642787754535675
           ]
          }
         ],
         "name": "2017-01-28"
        },
        {
         "data": [
          {
           "marker": {
            "size": [
             198
            ],
            "sizemode": "area",
            "sizeref": 0.05
           },
           "mode": "markers+text",
           "name": "United States",
           "text": [
            "United States:<br> 2"
           ],
           "type": "scatter",
           "x": [
            1
           ],
           "y": [
            6.622738357719982e-09
           ]
          },
          {
           "marker": {
            "size": [
             199
            ],
            "sizemode": "area",
            "sizeref": 0.05
           },
           "mode": "markers+text",
           "name": "Switzerland",
           "text": [
            "Switzerland:<br> 1"
           ],
           "type": "scatter",
           "x": [
            0.7660444974899292
           ],
           "y": [
            0.6427875757217407
           ]
          },
          {
           "marker": {
            "size": [
             199
            ],
            "sizemode": "area",
            "sizeref": 0.05
           },
           "mode": "markers+text",
           "name": "Hungary",
           "text": [
            "Hungary:<br> 1"
           ],
           "type": "scatter",
           "x": [
            0.17364825308322906
           ],
           "y": [
            0.9848077297210693
           ]
          },
          {
           "marker": {
            "size": [
             192
            ],
            "sizemode": "area",
            "sizeref": 0.05
           },
           "mode": "markers+text",
           "name": "Peru",
           "text": [
            "Peru:<br> 8"
           ],
           "type": "scatter",
           "x": [
            -0.5
           ],
           "y": [
            0.8660253882408142
           ]
          },
          {
           "marker": {
            "size": [
             199
            ],
            "sizemode": "area",
            "sizeref": 0.05
           },
           "mode": "markers+text",
           "name": "Malaysia",
           "text": [
            "Malaysia:<br> 1"
           ],
           "type": "scatter",
           "x": [
            -0.9396925568580627
           ],
           "y": [
            0.3420202136039734
           ]
          },
          {
           "marker": {
            "size": [
             199
            ],
            "sizemode": "area",
            "sizeref": 0.05
           },
           "mode": "markers+text",
           "name": "Denmark",
           "text": [
            "Denmark:<br> 1"
           ],
           "type": "scatter",
           "x": [
            -0.9396925568580627
           ],
           "y": [
            -0.3420201539993286
           ]
          },
          {
           "marker": {
            "size": [
             193
            ],
            "sizemode": "area",
            "sizeref": 0.05
           },
           "mode": "markers+text",
           "name": "Bolivia",
           "text": [
            "Bolivia:<br> 7"
           ],
           "type": "scatter",
           "x": [
            -0.49999988079071045
           ],
           "y": [
            -0.866025447845459
           ]
          },
          {
           "marker": {
            "size": [
             199
            ],
            "sizemode": "area",
            "sizeref": 0.05
           },
           "mode": "markers+text",
           "name": "Austria",
           "text": [
            "Austria:<br> 1"
           ],
           "type": "scatter",
           "x": [
            0.1736481785774231
           ],
           "y": [
            -0.9848077297210693
           ]
          },
          {
           "marker": {
            "size": [
             199
            ],
            "sizemode": "area",
            "sizeref": 0.05
           },
           "mode": "markers+text",
           "name": "Portugal",
           "text": [
            "Portugal:<br> 1"
           ],
           "type": "scatter",
           "x": [
            0.7660443782806396
           ],
           "y": [
            -0.642787754535675
           ]
          }
         ],
         "name": "2017-01-29"
        },
        {
         "data": [
          {
           "marker": {
            "size": [
             198
            ],
            "sizemode": "area",
            "sizeref": 0.05
           },
           "mode": "markers+text",
           "name": "United States",
           "text": [
            "United States:<br> 2"
           ],
           "type": "scatter",
           "x": [
            1
           ],
           "y": [
            6.622738357719982e-09
           ]
          },
          {
           "marker": {
            "size": [
             199
            ],
            "sizemode": "area",
            "sizeref": 0.05
           },
           "mode": "markers+text",
           "name": "Switzerland",
           "text": [
            "Switzerland:<br> 1"
           ],
           "type": "scatter",
           "x": [
            0.7660444974899292
           ],
           "y": [
            0.6427875757217407
           ]
          },
          {
           "marker": {
            "size": [
             199
            ],
            "sizemode": "area",
            "sizeref": 0.05
           },
           "mode": "markers+text",
           "name": "Hungary",
           "text": [
            "Hungary:<br> 1"
           ],
           "type": "scatter",
           "x": [
            0.17364825308322906
           ],
           "y": [
            0.9848077297210693
           ]
          },
          {
           "marker": {
            "size": [
             194
            ],
            "sizemode": "area",
            "sizeref": 0.05
           },
           "mode": "markers+text",
           "name": "Peru",
           "text": [
            "Peru:<br> 6"
           ],
           "type": "scatter",
           "x": [
            -0.5
           ],
           "y": [
            0.8660253882408142
           ]
          },
          {
           "marker": {
            "size": [
             199
            ],
            "sizemode": "area",
            "sizeref": 0.05
           },
           "mode": "markers+text",
           "name": "Malaysia",
           "text": [
            "Malaysia:<br> 1"
           ],
           "type": "scatter",
           "x": [
            -0.9396925568580627
           ],
           "y": [
            0.3420202136039734
           ]
          },
          {
           "marker": {
            "size": [
             199
            ],
            "sizemode": "area",
            "sizeref": 0.05
           },
           "mode": "markers+text",
           "name": "Denmark",
           "text": [
            "Denmark:<br> 1"
           ],
           "type": "scatter",
           "x": [
            -0.9396925568580627
           ],
           "y": [
            -0.3420201539993286
           ]
          },
          {
           "marker": {
            "size": [
             193
            ],
            "sizemode": "area",
            "sizeref": 0.05
           },
           "mode": "markers+text",
           "name": "Bolivia",
           "text": [
            "Bolivia:<br> 7"
           ],
           "type": "scatter",
           "x": [
            -0.49999988079071045
           ],
           "y": [
            -0.866025447845459
           ]
          },
          {
           "marker": {
            "size": [
             199
            ],
            "sizemode": "area",
            "sizeref": 0.05
           },
           "mode": "markers+text",
           "name": "Austria",
           "text": [
            "Austria:<br> 1"
           ],
           "type": "scatter",
           "x": [
            0.1736481785774231
           ],
           "y": [
            -0.9848077297210693
           ]
          },
          {
           "marker": {
            "size": [
             199
            ],
            "sizemode": "area",
            "sizeref": 0.05
           },
           "mode": "markers+text",
           "name": "Portugal",
           "text": [
            "Portugal:<br> 1"
           ],
           "type": "scatter",
           "x": [
            0.7660443782806396
           ],
           "y": [
            -0.642787754535675
           ]
          }
         ],
         "name": "2017-01-30"
        },
        {
         "data": [
          {
           "marker": {
            "size": [
             198
            ],
            "sizemode": "area",
            "sizeref": 0.05
           },
           "mode": "markers+text",
           "name": "United States",
           "text": [
            "United States:<br> 2"
           ],
           "type": "scatter",
           "x": [
            1
           ],
           "y": [
            6.622738357719982e-09
           ]
          },
          {
           "marker": {
            "size": [
             199
            ],
            "sizemode": "area",
            "sizeref": 0.05
           },
           "mode": "markers+text",
           "name": "Switzerland",
           "text": [
            "Switzerland:<br> 1"
           ],
           "type": "scatter",
           "x": [
            0.7660444974899292
           ],
           "y": [
            0.6427875757217407
           ]
          },
          {
           "marker": {
            "size": [
             199
            ],
            "sizemode": "area",
            "sizeref": 0.05
           },
           "mode": "markers+text",
           "name": "Hungary",
           "text": [
            "Hungary:<br> 1"
           ],
           "type": "scatter",
           "x": [
            0.17364825308322906
           ],
           "y": [
            0.9848077297210693
           ]
          },
          {
           "marker": {
            "size": [
             194
            ],
            "sizemode": "area",
            "sizeref": 0.05
           },
           "mode": "markers+text",
           "name": "Peru",
           "text": [
            "Peru:<br> 6"
           ],
           "type": "scatter",
           "x": [
            -0.5
           ],
           "y": [
            0.8660253882408142
           ]
          },
          {
           "marker": {
            "size": [
             199
            ],
            "sizemode": "area",
            "sizeref": 0.05
           },
           "mode": "markers+text",
           "name": "Malaysia",
           "text": [
            "Malaysia:<br> 1"
           ],
           "type": "scatter",
           "x": [
            -0.9396925568580627
           ],
           "y": [
            0.3420202136039734
           ]
          },
          {
           "marker": {
            "size": [
             199
            ],
            "sizemode": "area",
            "sizeref": 0.05
           },
           "mode": "markers+text",
           "name": "Denmark",
           "text": [
            "Denmark:<br> 1"
           ],
           "type": "scatter",
           "x": [
            -0.9396925568580627
           ],
           "y": [
            -0.3420201539993286
           ]
          },
          {
           "marker": {
            "size": [
             194
            ],
            "sizemode": "area",
            "sizeref": 0.05
           },
           "mode": "markers+text",
           "name": "Bolivia",
           "text": [
            "Bolivia:<br> 6"
           ],
           "type": "scatter",
           "x": [
            -0.49999988079071045
           ],
           "y": [
            -0.866025447845459
           ]
          },
          {
           "marker": {
            "size": [
             199
            ],
            "sizemode": "area",
            "sizeref": 0.05
           },
           "mode": "markers+text",
           "name": "Austria",
           "text": [
            "Austria:<br> 1"
           ],
           "type": "scatter",
           "x": [
            0.1736481785774231
           ],
           "y": [
            -0.9848077297210693
           ]
          },
          {
           "marker": {
            "size": [
             199
            ],
            "sizemode": "area",
            "sizeref": 0.05
           },
           "mode": "markers+text",
           "name": "Portugal",
           "text": [
            "Portugal:<br> 1"
           ],
           "type": "scatter",
           "x": [
            0.7660443782806396
           ],
           "y": [
            -0.642787754535675
           ]
          }
         ],
         "name": "2017-01-31"
        },
        {
         "data": [
          {
           "marker": {
            "size": [
             198
            ],
            "sizemode": "area",
            "sizeref": 0.05
           },
           "mode": "markers+text",
           "name": "United States",
           "text": [
            "United States:<br> 2"
           ],
           "type": "scatter",
           "x": [
            1
           ],
           "y": [
            6.622738357719982e-09
           ]
          },
          {
           "marker": {
            "size": [
             199
            ],
            "sizemode": "area",
            "sizeref": 0.05
           },
           "mode": "markers+text",
           "name": "Switzerland",
           "text": [
            "Switzerland:<br> 1"
           ],
           "type": "scatter",
           "x": [
            0.7660444974899292
           ],
           "y": [
            0.6427875757217407
           ]
          },
          {
           "marker": {
            "size": [
             199
            ],
            "sizemode": "area",
            "sizeref": 0.05
           },
           "mode": "markers+text",
           "name": "Hungary",
           "text": [
            "Hungary:<br> 1"
           ],
           "type": "scatter",
           "x": [
            0.17364825308322906
           ],
           "y": [
            0.9848077297210693
           ]
          },
          {
           "marker": {
            "size": [
             194
            ],
            "sizemode": "area",
            "sizeref": 0.05
           },
           "mode": "markers+text",
           "name": "Peru",
           "text": [
            "Peru:<br> 6"
           ],
           "type": "scatter",
           "x": [
            -0.5
           ],
           "y": [
            0.8660253882408142
           ]
          },
          {
           "marker": {
            "size": [
             199
            ],
            "sizemode": "area",
            "sizeref": 0.05
           },
           "mode": "markers+text",
           "name": "Malaysia",
           "text": [
            "Malaysia:<br> 1"
           ],
           "type": "scatter",
           "x": [
            -0.9396925568580627
           ],
           "y": [
            0.3420202136039734
           ]
          },
          {
           "marker": {
            "size": [
             199
            ],
            "sizemode": "area",
            "sizeref": 0.05
           },
           "mode": "markers+text",
           "name": "Denmark",
           "text": [
            "Denmark:<br> 1"
           ],
           "type": "scatter",
           "x": [
            -0.9396925568580627
           ],
           "y": [
            -0.3420201539993286
           ]
          },
          {
           "marker": {
            "size": [
             193
            ],
            "sizemode": "area",
            "sizeref": 0.05
           },
           "mode": "markers+text",
           "name": "Bolivia",
           "text": [
            "Bolivia:<br> 7"
           ],
           "type": "scatter",
           "x": [
            -0.49999988079071045
           ],
           "y": [
            -0.866025447845459
           ]
          },
          {
           "marker": {
            "size": [
             199
            ],
            "sizemode": "area",
            "sizeref": 0.05
           },
           "mode": "markers+text",
           "name": "Austria",
           "text": [
            "Austria:<br> 1"
           ],
           "type": "scatter",
           "x": [
            0.1736481785774231
           ],
           "y": [
            -0.9848077297210693
           ]
          },
          {
           "marker": {
            "size": [
             199
            ],
            "sizemode": "area",
            "sizeref": 0.05
           },
           "mode": "markers+text",
           "name": "Portugal",
           "text": [
            "Portugal:<br> 1"
           ],
           "type": "scatter",
           "x": [
            0.7660443782806396
           ],
           "y": [
            -0.642787754535675
           ]
          }
         ],
         "name": "2017-02-01"
        },
        {
         "data": [
          {
           "marker": {
            "size": [
             198
            ],
            "sizemode": "area",
            "sizeref": 0.05
           },
           "mode": "markers+text",
           "name": "United States",
           "text": [
            "United States:<br> 2"
           ],
           "type": "scatter",
           "x": [
            1
           ],
           "y": [
            6.622738357719982e-09
           ]
          },
          {
           "marker": {
            "size": [
             199
            ],
            "sizemode": "area",
            "sizeref": 0.05
           },
           "mode": "markers+text",
           "name": "Switzerland",
           "text": [
            "Switzerland:<br> 1"
           ],
           "type": "scatter",
           "x": [
            0.7660444974899292
           ],
           "y": [
            0.6427875757217407
           ]
          },
          {
           "marker": {
            "size": [
             199
            ],
            "sizemode": "area",
            "sizeref": 0.05
           },
           "mode": "markers+text",
           "name": "Hungary",
           "text": [
            "Hungary:<br> 1"
           ],
           "type": "scatter",
           "x": [
            0.17364825308322906
           ],
           "y": [
            0.9848077297210693
           ]
          },
          {
           "marker": {
            "size": [
             195
            ],
            "sizemode": "area",
            "sizeref": 0.05
           },
           "mode": "markers+text",
           "name": "Peru",
           "text": [
            "Peru:<br> 5"
           ],
           "type": "scatter",
           "x": [
            -0.5
           ],
           "y": [
            0.8660253882408142
           ]
          },
          {
           "marker": {
            "size": [
             199
            ],
            "sizemode": "area",
            "sizeref": 0.05
           },
           "mode": "markers+text",
           "name": "Malaysia",
           "text": [
            "Malaysia:<br> 1"
           ],
           "type": "scatter",
           "x": [
            -0.9396925568580627
           ],
           "y": [
            0.3420202136039734
           ]
          },
          {
           "marker": {
            "size": [
             199
            ],
            "sizemode": "area",
            "sizeref": 0.05
           },
           "mode": "markers+text",
           "name": "Denmark",
           "text": [
            "Denmark:<br> 1"
           ],
           "type": "scatter",
           "x": [
            -0.9396925568580627
           ],
           "y": [
            -0.3420201539993286
           ]
          },
          {
           "marker": {
            "size": [
             195
            ],
            "sizemode": "area",
            "sizeref": 0.05
           },
           "mode": "markers+text",
           "name": "Bolivia",
           "text": [
            "Bolivia:<br> 5"
           ],
           "type": "scatter",
           "x": [
            -0.49999988079071045
           ],
           "y": [
            -0.866025447845459
           ]
          },
          {
           "marker": {
            "size": [
             199
            ],
            "sizemode": "area",
            "sizeref": 0.05
           },
           "mode": "markers+text",
           "name": "Austria",
           "text": [
            "Austria:<br> 1"
           ],
           "type": "scatter",
           "x": [
            0.1736481785774231
           ],
           "y": [
            -0.9848077297210693
           ]
          },
          {
           "marker": {
            "size": [
             199
            ],
            "sizemode": "area",
            "sizeref": 0.05
           },
           "mode": "markers+text",
           "name": "Portugal",
           "text": [
            "Portugal:<br> 1"
           ],
           "type": "scatter",
           "x": [
            0.7660443782806396
           ],
           "y": [
            -0.642787754535675
           ]
          }
         ],
         "name": "2017-02-02"
        },
        {
         "data": [
          {
           "marker": {
            "size": [
             198
            ],
            "sizemode": "area",
            "sizeref": 0.05
           },
           "mode": "markers+text",
           "name": "United States",
           "text": [
            "United States:<br> 2"
           ],
           "type": "scatter",
           "x": [
            1
           ],
           "y": [
            6.622738357719982e-09
           ]
          },
          {
           "marker": {
            "size": [
             199
            ],
            "sizemode": "area",
            "sizeref": 0.05
           },
           "mode": "markers+text",
           "name": "Switzerland",
           "text": [
            "Switzerland:<br> 1"
           ],
           "type": "scatter",
           "x": [
            0.7660444974899292
           ],
           "y": [
            0.6427875757217407
           ]
          },
          {
           "marker": {
            "size": [
             199
            ],
            "sizemode": "area",
            "sizeref": 0.05
           },
           "mode": "markers+text",
           "name": "Hungary",
           "text": [
            "Hungary:<br> 1"
           ],
           "type": "scatter",
           "x": [
            0.17364825308322906
           ],
           "y": [
            0.9848077297210693
           ]
          },
          {
           "marker": {
            "size": [
             195
            ],
            "sizemode": "area",
            "sizeref": 0.05
           },
           "mode": "markers+text",
           "name": "Peru",
           "text": [
            "Peru:<br> 5"
           ],
           "type": "scatter",
           "x": [
            -0.5
           ],
           "y": [
            0.8660253882408142
           ]
          },
          {
           "marker": {
            "size": [
             199
            ],
            "sizemode": "area",
            "sizeref": 0.05
           },
           "mode": "markers+text",
           "name": "Malaysia",
           "text": [
            "Malaysia:<br> 1"
           ],
           "type": "scatter",
           "x": [
            -0.9396925568580627
           ],
           "y": [
            0.3420202136039734
           ]
          },
          {
           "marker": {
            "size": [
             199
            ],
            "sizemode": "area",
            "sizeref": 0.05
           },
           "mode": "markers+text",
           "name": "Denmark",
           "text": [
            "Denmark:<br> 1"
           ],
           "type": "scatter",
           "x": [
            -0.9396925568580627
           ],
           "y": [
            -0.3420201539993286
           ]
          },
          {
           "marker": {
            "size": [
             194
            ],
            "sizemode": "area",
            "sizeref": 0.05
           },
           "mode": "markers+text",
           "name": "Bolivia",
           "text": [
            "Bolivia:<br> 6"
           ],
           "type": "scatter",
           "x": [
            -0.49999988079071045
           ],
           "y": [
            -0.866025447845459
           ]
          },
          {
           "marker": {
            "size": [
             199
            ],
            "sizemode": "area",
            "sizeref": 0.05
           },
           "mode": "markers+text",
           "name": "Austria",
           "text": [
            "Austria:<br> 1"
           ],
           "type": "scatter",
           "x": [
            0.1736481785774231
           ],
           "y": [
            -0.9848077297210693
           ]
          },
          {
           "marker": {
            "size": [
             199
            ],
            "sizemode": "area",
            "sizeref": 0.05
           },
           "mode": "markers+text",
           "name": "Portugal",
           "text": [
            "Portugal:<br> 1"
           ],
           "type": "scatter",
           "x": [
            0.7660443782806396
           ],
           "y": [
            -0.642787754535675
           ]
          }
         ],
         "name": "2017-02-03"
        },
        {
         "data": [
          {
           "marker": {
            "size": [
             198
            ],
            "sizemode": "area",
            "sizeref": 0.05
           },
           "mode": "markers+text",
           "name": "United States",
           "text": [
            "United States:<br> 2"
           ],
           "type": "scatter",
           "x": [
            1
           ],
           "y": [
            6.622738357719982e-09
           ]
          },
          {
           "marker": {
            "size": [
             199
            ],
            "sizemode": "area",
            "sizeref": 0.05
           },
           "mode": "markers+text",
           "name": "Switzerland",
           "text": [
            "Switzerland:<br> 1"
           ],
           "type": "scatter",
           "x": [
            0.7660444974899292
           ],
           "y": [
            0.6427875757217407
           ]
          },
          {
           "marker": {
            "size": [
             199
            ],
            "sizemode": "area",
            "sizeref": 0.05
           },
           "mode": "markers+text",
           "name": "Hungary",
           "text": [
            "Hungary:<br> 1"
           ],
           "type": "scatter",
           "x": [
            0.17364825308322906
           ],
           "y": [
            0.9848077297210693
           ]
          },
          {
           "marker": {
            "size": [
             194
            ],
            "sizemode": "area",
            "sizeref": 0.05
           },
           "mode": "markers+text",
           "name": "Peru",
           "text": [
            "Peru:<br> 6"
           ],
           "type": "scatter",
           "x": [
            -0.5
           ],
           "y": [
            0.8660253882408142
           ]
          },
          {
           "marker": {
            "size": [
             199
            ],
            "sizemode": "area",
            "sizeref": 0.05
           },
           "mode": "markers+text",
           "name": "Malaysia",
           "text": [
            "Malaysia:<br> 1"
           ],
           "type": "scatter",
           "x": [
            -0.9396925568580627
           ],
           "y": [
            0.3420202136039734
           ]
          },
          {
           "marker": {
            "size": [
             199
            ],
            "sizemode": "area",
            "sizeref": 0.05
           },
           "mode": "markers+text",
           "name": "Denmark",
           "text": [
            "Denmark:<br> 1"
           ],
           "type": "scatter",
           "x": [
            -0.9396925568580627
           ],
           "y": [
            -0.3420201539993286
           ]
          },
          {
           "marker": {
            "size": [
             193
            ],
            "sizemode": "area",
            "sizeref": 0.05
           },
           "mode": "markers+text",
           "name": "Bolivia",
           "text": [
            "Bolivia:<br> 7"
           ],
           "type": "scatter",
           "x": [
            -0.49999988079071045
           ],
           "y": [
            -0.866025447845459
           ]
          },
          {
           "marker": {
            "size": [
             199
            ],
            "sizemode": "area",
            "sizeref": 0.05
           },
           "mode": "markers+text",
           "name": "Austria",
           "text": [
            "Austria:<br> 1"
           ],
           "type": "scatter",
           "x": [
            0.1736481785774231
           ],
           "y": [
            -0.9848077297210693
           ]
          },
          {
           "marker": {
            "size": [
             199
            ],
            "sizemode": "area",
            "sizeref": 0.05
           },
           "mode": "markers+text",
           "name": "Portugal",
           "text": [
            "Portugal:<br> 1"
           ],
           "type": "scatter",
           "x": [
            0.7660443782806396
           ],
           "y": [
            -0.642787754535675
           ]
          }
         ],
         "name": "2017-02-04"
        },
        {
         "data": [
          {
           "marker": {
            "size": [
             198
            ],
            "sizemode": "area",
            "sizeref": 0.05
           },
           "mode": "markers+text",
           "name": "United States",
           "text": [
            "United States:<br> 2"
           ],
           "type": "scatter",
           "x": [
            1
           ],
           "y": [
            6.622738357719982e-09
           ]
          },
          {
           "marker": {
            "size": [
             199
            ],
            "sizemode": "area",
            "sizeref": 0.05
           },
           "mode": "markers+text",
           "name": "Switzerland",
           "text": [
            "Switzerland:<br> 1"
           ],
           "type": "scatter",
           "x": [
            0.7660444974899292
           ],
           "y": [
            0.6427875757217407
           ]
          },
          {
           "marker": {
            "size": [
             199
            ],
            "sizemode": "area",
            "sizeref": 0.05
           },
           "mode": "markers+text",
           "name": "Hungary",
           "text": [
            "Hungary:<br> 1"
           ],
           "type": "scatter",
           "x": [
            0.17364825308322906
           ],
           "y": [
            0.9848077297210693
           ]
          },
          {
           "marker": {
            "size": [
             194
            ],
            "sizemode": "area",
            "sizeref": 0.05
           },
           "mode": "markers+text",
           "name": "Peru",
           "text": [
            "Peru:<br> 6"
           ],
           "type": "scatter",
           "x": [
            -0.5
           ],
           "y": [
            0.8660253882408142
           ]
          },
          {
           "marker": {
            "size": [
             199
            ],
            "sizemode": "area",
            "sizeref": 0.05
           },
           "mode": "markers+text",
           "name": "Malaysia",
           "text": [
            "Malaysia:<br> 1"
           ],
           "type": "scatter",
           "x": [
            -0.9396925568580627
           ],
           "y": [
            0.3420202136039734
           ]
          },
          {
           "marker": {
            "size": [
             199
            ],
            "sizemode": "area",
            "sizeref": 0.05
           },
           "mode": "markers+text",
           "name": "Denmark",
           "text": [
            "Denmark:<br> 1"
           ],
           "type": "scatter",
           "x": [
            -0.9396925568580627
           ],
           "y": [
            -0.3420201539993286
           ]
          },
          {
           "marker": {
            "size": [
             193
            ],
            "sizemode": "area",
            "sizeref": 0.05
           },
           "mode": "markers+text",
           "name": "Bolivia",
           "text": [
            "Bolivia:<br> 7"
           ],
           "type": "scatter",
           "x": [
            -0.49999988079071045
           ],
           "y": [
            -0.866025447845459
           ]
          },
          {
           "marker": {
            "size": [
             199
            ],
            "sizemode": "area",
            "sizeref": 0.05
           },
           "mode": "markers+text",
           "name": "Austria",
           "text": [
            "Austria:<br> 1"
           ],
           "type": "scatter",
           "x": [
            0.1736481785774231
           ],
           "y": [
            -0.9848077297210693
           ]
          },
          {
           "marker": {
            "size": [
             199
            ],
            "sizemode": "area",
            "sizeref": 0.05
           },
           "mode": "markers+text",
           "name": "Portugal",
           "text": [
            "Portugal:<br> 1"
           ],
           "type": "scatter",
           "x": [
            0.7660443782806396
           ],
           "y": [
            -0.642787754535675
           ]
          }
         ],
         "name": "2017-02-05"
        },
        {
         "data": [
          {
           "marker": {
            "size": [
             199
            ],
            "sizemode": "area",
            "sizeref": 0.05
           },
           "mode": "markers+text",
           "name": "United States",
           "text": [
            "United States:<br> 1"
           ],
           "type": "scatter",
           "x": [
            1
           ],
           "y": [
            6.622738357719982e-09
           ]
          },
          {
           "marker": {
            "size": [
             199
            ],
            "sizemode": "area",
            "sizeref": 0.05
           },
           "mode": "markers+text",
           "name": "Switzerland",
           "text": [
            "Switzerland:<br> 1"
           ],
           "type": "scatter",
           "x": [
            0.7660444974899292
           ],
           "y": [
            0.6427875757217407
           ]
          },
          {
           "marker": {
            "size": [
             199
            ],
            "sizemode": "area",
            "sizeref": 0.05
           },
           "mode": "markers+text",
           "name": "Hungary",
           "text": [
            "Hungary:<br> 1"
           ],
           "type": "scatter",
           "x": [
            0.17364825308322906
           ],
           "y": [
            0.9848077297210693
           ]
          },
          {
           "marker": {
            "size": [
             195
            ],
            "sizemode": "area",
            "sizeref": 0.05
           },
           "mode": "markers+text",
           "name": "Peru",
           "text": [
            "Peru:<br> 5"
           ],
           "type": "scatter",
           "x": [
            -0.5
           ],
           "y": [
            0.8660253882408142
           ]
          },
          {
           "marker": {
            "size": [
             199
            ],
            "sizemode": "area",
            "sizeref": 0.05
           },
           "mode": "markers+text",
           "name": "Malaysia",
           "text": [
            "Malaysia:<br> 1"
           ],
           "type": "scatter",
           "x": [
            -0.9396925568580627
           ],
           "y": [
            0.3420202136039734
           ]
          },
          {
           "marker": {
            "size": [
             199
            ],
            "sizemode": "area",
            "sizeref": 0.05
           },
           "mode": "markers+text",
           "name": "Denmark",
           "text": [
            "Denmark:<br> 1"
           ],
           "type": "scatter",
           "x": [
            -0.9396925568580627
           ],
           "y": [
            -0.3420201539993286
           ]
          },
          {
           "marker": {
            "size": [
             195
            ],
            "sizemode": "area",
            "sizeref": 0.05
           },
           "mode": "markers+text",
           "name": "Bolivia",
           "text": [
            "Bolivia:<br> 5"
           ],
           "type": "scatter",
           "x": [
            -0.49999988079071045
           ],
           "y": [
            -0.866025447845459
           ]
          },
          {
           "marker": {
            "size": [
             199
            ],
            "sizemode": "area",
            "sizeref": 0.05
           },
           "mode": "markers+text",
           "name": "Austria",
           "text": [
            "Austria:<br> 1"
           ],
           "type": "scatter",
           "x": [
            0.1736481785774231
           ],
           "y": [
            -0.9848077297210693
           ]
          },
          {
           "marker": {
            "size": [
             199
            ],
            "sizemode": "area",
            "sizeref": 0.05
           },
           "mode": "markers+text",
           "name": "Portugal",
           "text": [
            "Portugal:<br> 1"
           ],
           "type": "scatter",
           "x": [
            0.7660443782806396
           ],
           "y": [
            -0.642787754535675
           ]
          }
         ],
         "name": "2017-02-06"
        },
        {
         "data": [
          {
           "marker": {
            "size": [
             199
            ],
            "sizemode": "area",
            "sizeref": 0.05
           },
           "mode": "markers+text",
           "name": "United States",
           "text": [
            "United States:<br> 1"
           ],
           "type": "scatter",
           "x": [
            1
           ],
           "y": [
            6.622738357719982e-09
           ]
          },
          {
           "marker": {
            "size": [
             199
            ],
            "sizemode": "area",
            "sizeref": 0.05
           },
           "mode": "markers+text",
           "name": "Switzerland",
           "text": [
            "Switzerland:<br> 1"
           ],
           "type": "scatter",
           "x": [
            0.7660444974899292
           ],
           "y": [
            0.6427875757217407
           ]
          },
          {
           "marker": {
            "size": [
             199
            ],
            "sizemode": "area",
            "sizeref": 0.05
           },
           "mode": "markers+text",
           "name": "Hungary",
           "text": [
            "Hungary:<br> 1"
           ],
           "type": "scatter",
           "x": [
            0.17364825308322906
           ],
           "y": [
            0.9848077297210693
           ]
          },
          {
           "marker": {
            "size": [
             195
            ],
            "sizemode": "area",
            "sizeref": 0.05
           },
           "mode": "markers+text",
           "name": "Peru",
           "text": [
            "Peru:<br> 5"
           ],
           "type": "scatter",
           "x": [
            -0.5
           ],
           "y": [
            0.8660253882408142
           ]
          },
          {
           "marker": {
            "size": [
             199
            ],
            "sizemode": "area",
            "sizeref": 0.05
           },
           "mode": "markers+text",
           "name": "Malaysia",
           "text": [
            "Malaysia:<br> 1"
           ],
           "type": "scatter",
           "x": [
            -0.9396925568580627
           ],
           "y": [
            0.3420202136039734
           ]
          },
          {
           "marker": {
            "size": [
             199
            ],
            "sizemode": "area",
            "sizeref": 0.05
           },
           "mode": "markers+text",
           "name": "Denmark",
           "text": [
            "Denmark:<br> 1"
           ],
           "type": "scatter",
           "x": [
            -0.9396925568580627
           ],
           "y": [
            -0.3420201539993286
           ]
          },
          {
           "marker": {
            "size": [
             195
            ],
            "sizemode": "area",
            "sizeref": 0.05
           },
           "mode": "markers+text",
           "name": "Bolivia",
           "text": [
            "Bolivia:<br> 5"
           ],
           "type": "scatter",
           "x": [
            -0.49999988079071045
           ],
           "y": [
            -0.866025447845459
           ]
          },
          {
           "marker": {
            "size": [
             199
            ],
            "sizemode": "area",
            "sizeref": 0.05
           },
           "mode": "markers+text",
           "name": "Austria",
           "text": [
            "Austria:<br> 1"
           ],
           "type": "scatter",
           "x": [
            0.1736481785774231
           ],
           "y": [
            -0.9848077297210693
           ]
          },
          {
           "marker": {
            "size": [
             199
            ],
            "sizemode": "area",
            "sizeref": 0.05
           },
           "mode": "markers+text",
           "name": "Portugal",
           "text": [
            "Portugal:<br> 1"
           ],
           "type": "scatter",
           "x": [
            0.7660443782806396
           ],
           "y": [
            -0.642787754535675
           ]
          }
         ],
         "name": "2017-02-07"
        },
        {
         "data": [
          {
           "marker": {
            "size": [
             199
            ],
            "sizemode": "area",
            "sizeref": 0.05
           },
           "mode": "markers+text",
           "name": "United States",
           "text": [
            "United States:<br> 1"
           ],
           "type": "scatter",
           "x": [
            1
           ],
           "y": [
            6.622738357719982e-09
           ]
          },
          {
           "marker": {
            "size": [
             199
            ],
            "sizemode": "area",
            "sizeref": 0.05
           },
           "mode": "markers+text",
           "name": "Switzerland",
           "text": [
            "Switzerland:<br> 1"
           ],
           "type": "scatter",
           "x": [
            0.7660444974899292
           ],
           "y": [
            0.6427875757217407
           ]
          },
          {
           "marker": {
            "size": [
             199
            ],
            "sizemode": "area",
            "sizeref": 0.05
           },
           "mode": "markers+text",
           "name": "Hungary",
           "text": [
            "Hungary:<br> 1"
           ],
           "type": "scatter",
           "x": [
            0.17364825308322906
           ],
           "y": [
            0.9848077297210693
           ]
          },
          {
           "marker": {
            "size": [
             195
            ],
            "sizemode": "area",
            "sizeref": 0.05
           },
           "mode": "markers+text",
           "name": "Peru",
           "text": [
            "Peru:<br> 5"
           ],
           "type": "scatter",
           "x": [
            -0.5
           ],
           "y": [
            0.8660253882408142
           ]
          },
          {
           "marker": {
            "size": [
             199
            ],
            "sizemode": "area",
            "sizeref": 0.05
           },
           "mode": "markers+text",
           "name": "Malaysia",
           "text": [
            "Malaysia:<br> 1"
           ],
           "type": "scatter",
           "x": [
            -0.9396925568580627
           ],
           "y": [
            0.3420202136039734
           ]
          },
          {
           "marker": {
            "size": [
             199
            ],
            "sizemode": "area",
            "sizeref": 0.05
           },
           "mode": "markers+text",
           "name": "Denmark",
           "text": [
            "Denmark:<br> 1"
           ],
           "type": "scatter",
           "x": [
            -0.9396925568580627
           ],
           "y": [
            -0.3420201539993286
           ]
          },
          {
           "marker": {
            "size": [
             195
            ],
            "sizemode": "area",
            "sizeref": 0.05
           },
           "mode": "markers+text",
           "name": "Bolivia",
           "text": [
            "Bolivia:<br> 5"
           ],
           "type": "scatter",
           "x": [
            -0.49999988079071045
           ],
           "y": [
            -0.866025447845459
           ]
          },
          {
           "marker": {
            "size": [
             199
            ],
            "sizemode": "area",
            "sizeref": 0.05
           },
           "mode": "markers+text",
           "name": "Austria",
           "text": [
            "Austria:<br> 1"
           ],
           "type": "scatter",
           "x": [
            0.1736481785774231
           ],
           "y": [
            -0.9848077297210693
           ]
          },
          {
           "marker": {
            "size": [
             199
            ],
            "sizemode": "area",
            "sizeref": 0.05
           },
           "mode": "markers+text",
           "name": "Portugal",
           "text": [
            "Portugal:<br> 1"
           ],
           "type": "scatter",
           "x": [
            0.7660443782806396
           ],
           "y": [
            -0.642787754535675
           ]
          }
         ],
         "name": "2017-02-08"
        },
        {
         "data": [
          {
           "marker": {
            "size": [
             199
            ],
            "sizemode": "area",
            "sizeref": 0.05
           },
           "mode": "markers+text",
           "name": "United States",
           "text": [
            "United States:<br> 1"
           ],
           "type": "scatter",
           "x": [
            1
           ],
           "y": [
            6.622738357719982e-09
           ]
          },
          {
           "marker": {
            "size": [
             199
            ],
            "sizemode": "area",
            "sizeref": 0.05
           },
           "mode": "markers+text",
           "name": "Switzerland",
           "text": [
            "Switzerland:<br> 1"
           ],
           "type": "scatter",
           "x": [
            0.7660444974899292
           ],
           "y": [
            0.6427875757217407
           ]
          },
          {
           "marker": {
            "size": [
             199
            ],
            "sizemode": "area",
            "sizeref": 0.05
           },
           "mode": "markers+text",
           "name": "Hungary",
           "text": [
            "Hungary:<br> 1"
           ],
           "type": "scatter",
           "x": [
            0.17364825308322906
           ],
           "y": [
            0.9848077297210693
           ]
          },
          {
           "marker": {
            "size": [
             195
            ],
            "sizemode": "area",
            "sizeref": 0.05
           },
           "mode": "markers+text",
           "name": "Peru",
           "text": [
            "Peru:<br> 5"
           ],
           "type": "scatter",
           "x": [
            -0.5
           ],
           "y": [
            0.8660253882408142
           ]
          },
          {
           "marker": {
            "size": [
             199
            ],
            "sizemode": "area",
            "sizeref": 0.05
           },
           "mode": "markers+text",
           "name": "Malaysia",
           "text": [
            "Malaysia:<br> 1"
           ],
           "type": "scatter",
           "x": [
            -0.9396925568580627
           ],
           "y": [
            0.3420202136039734
           ]
          },
          {
           "marker": {
            "size": [
             199
            ],
            "sizemode": "area",
            "sizeref": 0.05
           },
           "mode": "markers+text",
           "name": "Denmark",
           "text": [
            "Denmark:<br> 1"
           ],
           "type": "scatter",
           "x": [
            -0.9396925568580627
           ],
           "y": [
            -0.3420201539993286
           ]
          },
          {
           "marker": {
            "size": [
             195
            ],
            "sizemode": "area",
            "sizeref": 0.05
           },
           "mode": "markers+text",
           "name": "Bolivia",
           "text": [
            "Bolivia:<br> 5"
           ],
           "type": "scatter",
           "x": [
            -0.49999988079071045
           ],
           "y": [
            -0.866025447845459
           ]
          },
          {
           "marker": {
            "size": [
             199
            ],
            "sizemode": "area",
            "sizeref": 0.05
           },
           "mode": "markers+text",
           "name": "Austria",
           "text": [
            "Austria:<br> 1"
           ],
           "type": "scatter",
           "x": [
            0.1736481785774231
           ],
           "y": [
            -0.9848077297210693
           ]
          },
          {
           "marker": {
            "size": [
             199
            ],
            "sizemode": "area",
            "sizeref": 0.05
           },
           "mode": "markers+text",
           "name": "Portugal",
           "text": [
            "Portugal:<br> 1"
           ],
           "type": "scatter",
           "x": [
            0.7660443782806396
           ],
           "y": [
            -0.642787754535675
           ]
          }
         ],
         "name": "2017-02-09"
        },
        {
         "data": [
          {
           "marker": {
            "size": [
             199
            ],
            "sizemode": "area",
            "sizeref": 0.05
           },
           "mode": "markers+text",
           "name": "United States",
           "text": [
            "United States:<br> 1"
           ],
           "type": "scatter",
           "x": [
            1
           ],
           "y": [
            6.622738357719982e-09
           ]
          },
          {
           "marker": {
            "size": [
             199
            ],
            "sizemode": "area",
            "sizeref": 0.05
           },
           "mode": "markers+text",
           "name": "Switzerland",
           "text": [
            "Switzerland:<br> 1"
           ],
           "type": "scatter",
           "x": [
            0.7660444974899292
           ],
           "y": [
            0.6427875757217407
           ]
          },
          {
           "marker": {
            "size": [
             199
            ],
            "sizemode": "area",
            "sizeref": 0.05
           },
           "mode": "markers+text",
           "name": "Hungary",
           "text": [
            "Hungary:<br> 1"
           ],
           "type": "scatter",
           "x": [
            0.17364825308322906
           ],
           "y": [
            0.9848077297210693
           ]
          },
          {
           "marker": {
            "size": [
             195
            ],
            "sizemode": "area",
            "sizeref": 0.05
           },
           "mode": "markers+text",
           "name": "Peru",
           "text": [
            "Peru:<br> 5"
           ],
           "type": "scatter",
           "x": [
            -0.5
           ],
           "y": [
            0.8660253882408142
           ]
          },
          {
           "marker": {
            "size": [
             199
            ],
            "sizemode": "area",
            "sizeref": 0.05
           },
           "mode": "markers+text",
           "name": "Malaysia",
           "text": [
            "Malaysia:<br> 1"
           ],
           "type": "scatter",
           "x": [
            -0.9396925568580627
           ],
           "y": [
            0.3420202136039734
           ]
          },
          {
           "marker": {
            "size": [
             199
            ],
            "sizemode": "area",
            "sizeref": 0.05
           },
           "mode": "markers+text",
           "name": "Denmark",
           "text": [
            "Denmark:<br> 1"
           ],
           "type": "scatter",
           "x": [
            -0.9396925568580627
           ],
           "y": [
            -0.3420201539993286
           ]
          },
          {
           "marker": {
            "size": [
             195
            ],
            "sizemode": "area",
            "sizeref": 0.05
           },
           "mode": "markers+text",
           "name": "Bolivia",
           "text": [
            "Bolivia:<br> 5"
           ],
           "type": "scatter",
           "x": [
            -0.49999988079071045
           ],
           "y": [
            -0.866025447845459
           ]
          },
          {
           "marker": {
            "size": [
             199
            ],
            "sizemode": "area",
            "sizeref": 0.05
           },
           "mode": "markers+text",
           "name": "Austria",
           "text": [
            "Austria:<br> 1"
           ],
           "type": "scatter",
           "x": [
            0.1736481785774231
           ],
           "y": [
            -0.9848077297210693
           ]
          },
          {
           "marker": {
            "size": [
             199
            ],
            "sizemode": "area",
            "sizeref": 0.05
           },
           "mode": "markers+text",
           "name": "Portugal",
           "text": [
            "Portugal:<br> 1"
           ],
           "type": "scatter",
           "x": [
            0.7660443782806396
           ],
           "y": [
            -0.642787754535675
           ]
          }
         ],
         "name": "2017-02-10"
        },
        {
         "data": [
          {
           "marker": {
            "size": [
             198
            ],
            "sizemode": "area",
            "sizeref": 0.05
           },
           "mode": "markers+text",
           "name": "United States",
           "text": [
            "United States:<br> 2"
           ],
           "type": "scatter",
           "x": [
            1
           ],
           "y": [
            6.622738357719982e-09
           ]
          },
          {
           "marker": {
            "size": [
             199
            ],
            "sizemode": "area",
            "sizeref": 0.05
           },
           "mode": "markers+text",
           "name": "Switzerland",
           "text": [
            "Switzerland:<br> 1"
           ],
           "type": "scatter",
           "x": [
            0.7660444974899292
           ],
           "y": [
            0.6427875757217407
           ]
          },
          {
           "marker": {
            "size": [
             199
            ],
            "sizemode": "area",
            "sizeref": 0.05
           },
           "mode": "markers+text",
           "name": "Hungary",
           "text": [
            "Hungary:<br> 1"
           ],
           "type": "scatter",
           "x": [
            0.17364825308322906
           ],
           "y": [
            0.9848077297210693
           ]
          },
          {
           "marker": {
            "size": [
             195
            ],
            "sizemode": "area",
            "sizeref": 0.05
           },
           "mode": "markers+text",
           "name": "Peru",
           "text": [
            "Peru:<br> 5"
           ],
           "type": "scatter",
           "x": [
            -0.5
           ],
           "y": [
            0.8660253882408142
           ]
          },
          {
           "marker": {
            "size": [
             199
            ],
            "sizemode": "area",
            "sizeref": 0.05
           },
           "mode": "markers+text",
           "name": "Malaysia",
           "text": [
            "Malaysia:<br> 1"
           ],
           "type": "scatter",
           "x": [
            -0.9396925568580627
           ],
           "y": [
            0.3420202136039734
           ]
          },
          {
           "marker": {
            "size": [
             199
            ],
            "sizemode": "area",
            "sizeref": 0.05
           },
           "mode": "markers+text",
           "name": "Denmark",
           "text": [
            "Denmark:<br> 1"
           ],
           "type": "scatter",
           "x": [
            -0.9396925568580627
           ],
           "y": [
            -0.3420201539993286
           ]
          },
          {
           "marker": {
            "size": [
             195
            ],
            "sizemode": "area",
            "sizeref": 0.05
           },
           "mode": "markers+text",
           "name": "Bolivia",
           "text": [
            "Bolivia:<br> 5"
           ],
           "type": "scatter",
           "x": [
            -0.49999988079071045
           ],
           "y": [
            -0.866025447845459
           ]
          },
          {
           "marker": {
            "size": [
             199
            ],
            "sizemode": "area",
            "sizeref": 0.05
           },
           "mode": "markers+text",
           "name": "Austria",
           "text": [
            "Austria:<br> 1"
           ],
           "type": "scatter",
           "x": [
            0.1736481785774231
           ],
           "y": [
            -0.9848077297210693
           ]
          },
          {
           "marker": {
            "size": [
             199
            ],
            "sizemode": "area",
            "sizeref": 0.05
           },
           "mode": "markers+text",
           "name": "Portugal",
           "text": [
            "Portugal:<br> 1"
           ],
           "type": "scatter",
           "x": [
            0.7660443782806396
           ],
           "y": [
            -0.642787754535675
           ]
          }
         ],
         "name": "2017-02-11"
        },
        {
         "data": [
          {
           "marker": {
            "size": [
             199
            ],
            "sizemode": "area",
            "sizeref": 0.05
           },
           "mode": "markers+text",
           "name": "United States",
           "text": [
            "United States:<br> 1"
           ],
           "type": "scatter",
           "x": [
            1
           ],
           "y": [
            6.622738357719982e-09
           ]
          },
          {
           "marker": {
            "size": [
             199
            ],
            "sizemode": "area",
            "sizeref": 0.05
           },
           "mode": "markers+text",
           "name": "Switzerland",
           "text": [
            "Switzerland:<br> 1"
           ],
           "type": "scatter",
           "x": [
            0.7660444974899292
           ],
           "y": [
            0.6427875757217407
           ]
          },
          {
           "marker": {
            "size": [
             199
            ],
            "sizemode": "area",
            "sizeref": 0.05
           },
           "mode": "markers+text",
           "name": "Hungary",
           "text": [
            "Hungary:<br> 1"
           ],
           "type": "scatter",
           "x": [
            0.17364825308322906
           ],
           "y": [
            0.9848077297210693
           ]
          },
          {
           "marker": {
            "size": [
             195
            ],
            "sizemode": "area",
            "sizeref": 0.05
           },
           "mode": "markers+text",
           "name": "Peru",
           "text": [
            "Peru:<br> 5"
           ],
           "type": "scatter",
           "x": [
            -0.5
           ],
           "y": [
            0.8660253882408142
           ]
          },
          {
           "marker": {
            "size": [
             199
            ],
            "sizemode": "area",
            "sizeref": 0.05
           },
           "mode": "markers+text",
           "name": "Malaysia",
           "text": [
            "Malaysia:<br> 1"
           ],
           "type": "scatter",
           "x": [
            -0.9396925568580627
           ],
           "y": [
            0.3420202136039734
           ]
          },
          {
           "marker": {
            "size": [
             199
            ],
            "sizemode": "area",
            "sizeref": 0.05
           },
           "mode": "markers+text",
           "name": "Denmark",
           "text": [
            "Denmark:<br> 1"
           ],
           "type": "scatter",
           "x": [
            -0.9396925568580627
           ],
           "y": [
            -0.3420201539993286
           ]
          },
          {
           "marker": {
            "size": [
             195
            ],
            "sizemode": "area",
            "sizeref": 0.05
           },
           "mode": "markers+text",
           "name": "Bolivia",
           "text": [
            "Bolivia:<br> 5"
           ],
           "type": "scatter",
           "x": [
            -0.49999988079071045
           ],
           "y": [
            -0.866025447845459
           ]
          },
          {
           "marker": {
            "size": [
             199
            ],
            "sizemode": "area",
            "sizeref": 0.05
           },
           "mode": "markers+text",
           "name": "Austria",
           "text": [
            "Austria:<br> 1"
           ],
           "type": "scatter",
           "x": [
            0.1736481785774231
           ],
           "y": [
            -0.9848077297210693
           ]
          },
          {
           "marker": {
            "size": [
             199
            ],
            "sizemode": "area",
            "sizeref": 0.05
           },
           "mode": "markers+text",
           "name": "Portugal",
           "text": [
            "Portugal:<br> 1"
           ],
           "type": "scatter",
           "x": [
            0.7660443782806396
           ],
           "y": [
            -0.642787754535675
           ]
          }
         ],
         "name": "2017-02-12"
        },
        {
         "data": [
          {
           "marker": {
            "size": [
             199
            ],
            "sizemode": "area",
            "sizeref": 0.05
           },
           "mode": "markers+text",
           "name": "United States",
           "text": [
            "United States:<br> 1"
           ],
           "type": "scatter",
           "x": [
            1
           ],
           "y": [
            6.622738357719982e-09
           ]
          },
          {
           "marker": {
            "size": [
             199
            ],
            "sizemode": "area",
            "sizeref": 0.05
           },
           "mode": "markers+text",
           "name": "Switzerland",
           "text": [
            "Switzerland:<br> 1"
           ],
           "type": "scatter",
           "x": [
            0.7660444974899292
           ],
           "y": [
            0.6427875757217407
           ]
          },
          {
           "marker": {
            "size": [
             199
            ],
            "sizemode": "area",
            "sizeref": 0.05
           },
           "mode": "markers+text",
           "name": "Hungary",
           "text": [
            "Hungary:<br> 1"
           ],
           "type": "scatter",
           "x": [
            0.17364825308322906
           ],
           "y": [
            0.9848077297210693
           ]
          },
          {
           "marker": {
            "size": [
             196
            ],
            "sizemode": "area",
            "sizeref": 0.05
           },
           "mode": "markers+text",
           "name": "Peru",
           "text": [
            "Peru:<br> 4"
           ],
           "type": "scatter",
           "x": [
            -0.5
           ],
           "y": [
            0.8660253882408142
           ]
          },
          {
           "marker": {
            "size": [
             199
            ],
            "sizemode": "area",
            "sizeref": 0.05
           },
           "mode": "markers+text",
           "name": "Malaysia",
           "text": [
            "Malaysia:<br> 1"
           ],
           "type": "scatter",
           "x": [
            -0.9396925568580627
           ],
           "y": [
            0.3420202136039734
           ]
          },
          {
           "marker": {
            "size": [
             199
            ],
            "sizemode": "area",
            "sizeref": 0.05
           },
           "mode": "markers+text",
           "name": "Denmark",
           "text": [
            "Denmark:<br> 1"
           ],
           "type": "scatter",
           "x": [
            -0.9396925568580627
           ],
           "y": [
            -0.3420201539993286
           ]
          },
          {
           "marker": {
            "size": [
             196
            ],
            "sizemode": "area",
            "sizeref": 0.05
           },
           "mode": "markers+text",
           "name": "Bolivia",
           "text": [
            "Bolivia:<br> 4"
           ],
           "type": "scatter",
           "x": [
            -0.49999988079071045
           ],
           "y": [
            -0.866025447845459
           ]
          },
          {
           "marker": {
            "size": [
             199
            ],
            "sizemode": "area",
            "sizeref": 0.05
           },
           "mode": "markers+text",
           "name": "Austria",
           "text": [
            "Austria:<br> 1"
           ],
           "type": "scatter",
           "x": [
            0.1736481785774231
           ],
           "y": [
            -0.9848077297210693
           ]
          },
          {
           "marker": {
            "size": [
             199
            ],
            "sizemode": "area",
            "sizeref": 0.05
           },
           "mode": "markers+text",
           "name": "Portugal",
           "text": [
            "Portugal:<br> 1"
           ],
           "type": "scatter",
           "x": [
            0.7660443782806396
           ],
           "y": [
            -0.642787754535675
           ]
          }
         ],
         "name": "2017-02-13"
        },
        {
         "data": [
          {
           "marker": {
            "size": [
             199
            ],
            "sizemode": "area",
            "sizeref": 0.05
           },
           "mode": "markers+text",
           "name": "United States",
           "text": [
            "United States:<br> 1"
           ],
           "type": "scatter",
           "x": [
            1
           ],
           "y": [
            6.622738357719982e-09
           ]
          },
          {
           "marker": {
            "size": [
             199
            ],
            "sizemode": "area",
            "sizeref": 0.05
           },
           "mode": "markers+text",
           "name": "Switzerland",
           "text": [
            "Switzerland:<br> 1"
           ],
           "type": "scatter",
           "x": [
            0.7660444974899292
           ],
           "y": [
            0.6427875757217407
           ]
          },
          {
           "marker": {
            "size": [
             199
            ],
            "sizemode": "area",
            "sizeref": 0.05
           },
           "mode": "markers+text",
           "name": "Hungary",
           "text": [
            "Hungary:<br> 1"
           ],
           "type": "scatter",
           "x": [
            0.17364825308322906
           ],
           "y": [
            0.9848077297210693
           ]
          },
          {
           "marker": {
            "size": [
             196
            ],
            "sizemode": "area",
            "sizeref": 0.05
           },
           "mode": "markers+text",
           "name": "Peru",
           "text": [
            "Peru:<br> 4"
           ],
           "type": "scatter",
           "x": [
            -0.5
           ],
           "y": [
            0.8660253882408142
           ]
          },
          {
           "marker": {
            "size": [
             199
            ],
            "sizemode": "area",
            "sizeref": 0.05
           },
           "mode": "markers+text",
           "name": "Malaysia",
           "text": [
            "Malaysia:<br> 1"
           ],
           "type": "scatter",
           "x": [
            -0.9396925568580627
           ],
           "y": [
            0.3420202136039734
           ]
          },
          {
           "marker": {
            "size": [
             199
            ],
            "sizemode": "area",
            "sizeref": 0.05
           },
           "mode": "markers+text",
           "name": "Denmark",
           "text": [
            "Denmark:<br> 1"
           ],
           "type": "scatter",
           "x": [
            -0.9396925568580627
           ],
           "y": [
            -0.3420201539993286
           ]
          },
          {
           "marker": {
            "size": [
             195
            ],
            "sizemode": "area",
            "sizeref": 0.05
           },
           "mode": "markers+text",
           "name": "Bolivia",
           "text": [
            "Bolivia:<br> 5"
           ],
           "type": "scatter",
           "x": [
            -0.49999988079071045
           ],
           "y": [
            -0.866025447845459
           ]
          },
          {
           "marker": {
            "size": [
             199
            ],
            "sizemode": "area",
            "sizeref": 0.05
           },
           "mode": "markers+text",
           "name": "Austria",
           "text": [
            "Austria:<br> 1"
           ],
           "type": "scatter",
           "x": [
            0.1736481785774231
           ],
           "y": [
            -0.9848077297210693
           ]
          },
          {
           "marker": {
            "size": [
             199
            ],
            "sizemode": "area",
            "sizeref": 0.05
           },
           "mode": "markers+text",
           "name": "Portugal",
           "text": [
            "Portugal:<br> 1"
           ],
           "type": "scatter",
           "x": [
            0.7660443782806396
           ],
           "y": [
            -0.642787754535675
           ]
          }
         ],
         "name": "2017-02-14"
        },
        {
         "data": [
          {
           "marker": {
            "size": [
             199
            ],
            "sizemode": "area",
            "sizeref": 0.05
           },
           "mode": "markers+text",
           "name": "United States",
           "text": [
            "United States:<br> 1"
           ],
           "type": "scatter",
           "x": [
            1
           ],
           "y": [
            6.622738357719982e-09
           ]
          },
          {
           "marker": {
            "size": [
             199
            ],
            "sizemode": "area",
            "sizeref": 0.05
           },
           "mode": "markers+text",
           "name": "Switzerland",
           "text": [
            "Switzerland:<br> 1"
           ],
           "type": "scatter",
           "x": [
            0.7660444974899292
           ],
           "y": [
            0.6427875757217407
           ]
          },
          {
           "marker": {
            "size": [
             199
            ],
            "sizemode": "area",
            "sizeref": 0.05
           },
           "mode": "markers+text",
           "name": "Hungary",
           "text": [
            "Hungary:<br> 1"
           ],
           "type": "scatter",
           "x": [
            0.17364825308322906
           ],
           "y": [
            0.9848077297210693
           ]
          },
          {
           "marker": {
            "size": [
             196
            ],
            "sizemode": "area",
            "sizeref": 0.05
           },
           "mode": "markers+text",
           "name": "Peru",
           "text": [
            "Peru:<br> 4"
           ],
           "type": "scatter",
           "x": [
            -0.5
           ],
           "y": [
            0.8660253882408142
           ]
          },
          {
           "marker": {
            "size": [
             199
            ],
            "sizemode": "area",
            "sizeref": 0.05
           },
           "mode": "markers+text",
           "name": "Malaysia",
           "text": [
            "Malaysia:<br> 1"
           ],
           "type": "scatter",
           "x": [
            -0.9396925568580627
           ],
           "y": [
            0.3420202136039734
           ]
          },
          {
           "marker": {
            "size": [
             199
            ],
            "sizemode": "area",
            "sizeref": 0.05
           },
           "mode": "markers+text",
           "name": "Denmark",
           "text": [
            "Denmark:<br> 1"
           ],
           "type": "scatter",
           "x": [
            -0.9396925568580627
           ],
           "y": [
            -0.3420201539993286
           ]
          },
          {
           "marker": {
            "size": [
             196
            ],
            "sizemode": "area",
            "sizeref": 0.05
           },
           "mode": "markers+text",
           "name": "Bolivia",
           "text": [
            "Bolivia:<br> 4"
           ],
           "type": "scatter",
           "x": [
            -0.49999988079071045
           ],
           "y": [
            -0.866025447845459
           ]
          },
          {
           "marker": {
            "size": [
             199
            ],
            "sizemode": "area",
            "sizeref": 0.05
           },
           "mode": "markers+text",
           "name": "Austria",
           "text": [
            "Austria:<br> 1"
           ],
           "type": "scatter",
           "x": [
            0.1736481785774231
           ],
           "y": [
            -0.9848077297210693
           ]
          },
          {
           "marker": {
            "size": [
             199
            ],
            "sizemode": "area",
            "sizeref": 0.05
           },
           "mode": "markers+text",
           "name": "Portugal",
           "text": [
            "Portugal:<br> 1"
           ],
           "type": "scatter",
           "x": [
            0.7660443782806396
           ],
           "y": [
            -0.642787754535675
           ]
          }
         ],
         "name": "2017-02-15"
        },
        {
         "data": [
          {
           "marker": {
            "size": [
             199
            ],
            "sizemode": "area",
            "sizeref": 0.05
           },
           "mode": "markers+text",
           "name": "United States",
           "text": [
            "United States:<br> 1"
           ],
           "type": "scatter",
           "x": [
            1
           ],
           "y": [
            6.622738357719982e-09
           ]
          },
          {
           "marker": {
            "size": [
             199
            ],
            "sizemode": "area",
            "sizeref": 0.05
           },
           "mode": "markers+text",
           "name": "Switzerland",
           "text": [
            "Switzerland:<br> 1"
           ],
           "type": "scatter",
           "x": [
            0.7660444974899292
           ],
           "y": [
            0.6427875757217407
           ]
          },
          {
           "marker": {
            "size": [
             199
            ],
            "sizemode": "area",
            "sizeref": 0.05
           },
           "mode": "markers+text",
           "name": "Hungary",
           "text": [
            "Hungary:<br> 1"
           ],
           "type": "scatter",
           "x": [
            0.17364825308322906
           ],
           "y": [
            0.9848077297210693
           ]
          },
          {
           "marker": {
            "size": [
             196
            ],
            "sizemode": "area",
            "sizeref": 0.05
           },
           "mode": "markers+text",
           "name": "Peru",
           "text": [
            "Peru:<br> 4"
           ],
           "type": "scatter",
           "x": [
            -0.5
           ],
           "y": [
            0.8660253882408142
           ]
          },
          {
           "marker": {
            "size": [
             199
            ],
            "sizemode": "area",
            "sizeref": 0.05
           },
           "mode": "markers+text",
           "name": "Malaysia",
           "text": [
            "Malaysia:<br> 1"
           ],
           "type": "scatter",
           "x": [
            -0.9396925568580627
           ],
           "y": [
            0.3420202136039734
           ]
          },
          {
           "marker": {
            "size": [
             199
            ],
            "sizemode": "area",
            "sizeref": 0.05
           },
           "mode": "markers+text",
           "name": "Denmark",
           "text": [
            "Denmark:<br> 1"
           ],
           "type": "scatter",
           "x": [
            -0.9396925568580627
           ],
           "y": [
            -0.3420201539993286
           ]
          },
          {
           "marker": {
            "size": [
             196
            ],
            "sizemode": "area",
            "sizeref": 0.05
           },
           "mode": "markers+text",
           "name": "Bolivia",
           "text": [
            "Bolivia:<br> 4"
           ],
           "type": "scatter",
           "x": [
            -0.49999988079071045
           ],
           "y": [
            -0.866025447845459
           ]
          },
          {
           "marker": {
            "size": [
             199
            ],
            "sizemode": "area",
            "sizeref": 0.05
           },
           "mode": "markers+text",
           "name": "Austria",
           "text": [
            "Austria:<br> 1"
           ],
           "type": "scatter",
           "x": [
            0.1736481785774231
           ],
           "y": [
            -0.9848077297210693
           ]
          },
          {
           "marker": {
            "size": [
             199
            ],
            "sizemode": "area",
            "sizeref": 0.05
           },
           "mode": "markers+text",
           "name": "Portugal",
           "text": [
            "Portugal:<br> 1"
           ],
           "type": "scatter",
           "x": [
            0.7660443782806396
           ],
           "y": [
            -0.642787754535675
           ]
          }
         ],
         "name": "2017-02-16"
        },
        {
         "data": [
          {
           "marker": {
            "size": [
             199
            ],
            "sizemode": "area",
            "sizeref": 0.05
           },
           "mode": "markers+text",
           "name": "United States",
           "text": [
            "United States:<br> 1"
           ],
           "type": "scatter",
           "x": [
            1
           ],
           "y": [
            6.622738357719982e-09
           ]
          },
          {
           "marker": {
            "size": [
             199
            ],
            "sizemode": "area",
            "sizeref": 0.05
           },
           "mode": "markers+text",
           "name": "Switzerland",
           "text": [
            "Switzerland:<br> 1"
           ],
           "type": "scatter",
           "x": [
            0.7660444974899292
           ],
           "y": [
            0.6427875757217407
           ]
          },
          {
           "marker": {
            "size": [
             199
            ],
            "sizemode": "area",
            "sizeref": 0.05
           },
           "mode": "markers+text",
           "name": "Hungary",
           "text": [
            "Hungary:<br> 1"
           ],
           "type": "scatter",
           "x": [
            0.17364825308322906
           ],
           "y": [
            0.9848077297210693
           ]
          },
          {
           "marker": {
            "size": [
             196
            ],
            "sizemode": "area",
            "sizeref": 0.05
           },
           "mode": "markers+text",
           "name": "Peru",
           "text": [
            "Peru:<br> 4"
           ],
           "type": "scatter",
           "x": [
            -0.5
           ],
           "y": [
            0.8660253882408142
           ]
          },
          {
           "marker": {
            "size": [
             199
            ],
            "sizemode": "area",
            "sizeref": 0.05
           },
           "mode": "markers+text",
           "name": "Malaysia",
           "text": [
            "Malaysia:<br> 1"
           ],
           "type": "scatter",
           "x": [
            -0.9396925568580627
           ],
           "y": [
            0.3420202136039734
           ]
          },
          {
           "marker": {
            "size": [
             199
            ],
            "sizemode": "area",
            "sizeref": 0.05
           },
           "mode": "markers+text",
           "name": "Denmark",
           "text": [
            "Denmark:<br> 1"
           ],
           "type": "scatter",
           "x": [
            -0.9396925568580627
           ],
           "y": [
            -0.3420201539993286
           ]
          },
          {
           "marker": {
            "size": [
             195
            ],
            "sizemode": "area",
            "sizeref": 0.05
           },
           "mode": "markers+text",
           "name": "Bolivia",
           "text": [
            "Bolivia:<br> 5"
           ],
           "type": "scatter",
           "x": [
            -0.49999988079071045
           ],
           "y": [
            -0.866025447845459
           ]
          },
          {
           "marker": {
            "size": [
             199
            ],
            "sizemode": "area",
            "sizeref": 0.05
           },
           "mode": "markers+text",
           "name": "Austria",
           "text": [
            "Austria:<br> 1"
           ],
           "type": "scatter",
           "x": [
            0.1736481785774231
           ],
           "y": [
            -0.9848077297210693
           ]
          },
          {
           "marker": {
            "size": [
             199
            ],
            "sizemode": "area",
            "sizeref": 0.05
           },
           "mode": "markers+text",
           "name": "Portugal",
           "text": [
            "Portugal:<br> 1"
           ],
           "type": "scatter",
           "x": [
            0.7660443782806396
           ],
           "y": [
            -0.642787754535675
           ]
          }
         ],
         "name": "2017-02-17"
        },
        {
         "data": [
          {
           "marker": {
            "size": [
             199
            ],
            "sizemode": "area",
            "sizeref": 0.05
           },
           "mode": "markers+text",
           "name": "United States",
           "text": [
            "United States:<br> 1"
           ],
           "type": "scatter",
           "x": [
            1
           ],
           "y": [
            6.622738357719982e-09
           ]
          },
          {
           "marker": {
            "size": [
             199
            ],
            "sizemode": "area",
            "sizeref": 0.05
           },
           "mode": "markers+text",
           "name": "Switzerland",
           "text": [
            "Switzerland:<br> 1"
           ],
           "type": "scatter",
           "x": [
            0.7660444974899292
           ],
           "y": [
            0.6427875757217407
           ]
          },
          {
           "marker": {
            "size": [
             199
            ],
            "sizemode": "area",
            "sizeref": 0.05
           },
           "mode": "markers+text",
           "name": "Hungary",
           "text": [
            "Hungary:<br> 1"
           ],
           "type": "scatter",
           "x": [
            0.17364825308322906
           ],
           "y": [
            0.9848077297210693
           ]
          },
          {
           "marker": {
            "size": [
             195
            ],
            "sizemode": "area",
            "sizeref": 0.05
           },
           "mode": "markers+text",
           "name": "Peru",
           "text": [
            "Peru:<br> 5"
           ],
           "type": "scatter",
           "x": [
            -0.5
           ],
           "y": [
            0.8660253882408142
           ]
          },
          {
           "marker": {
            "size": [
             199
            ],
            "sizemode": "area",
            "sizeref": 0.05
           },
           "mode": "markers+text",
           "name": "Malaysia",
           "text": [
            "Malaysia:<br> 1"
           ],
           "type": "scatter",
           "x": [
            -0.9396925568580627
           ],
           "y": [
            0.3420202136039734
           ]
          },
          {
           "marker": {
            "size": [
             199
            ],
            "sizemode": "area",
            "sizeref": 0.05
           },
           "mode": "markers+text",
           "name": "Denmark",
           "text": [
            "Denmark:<br> 1"
           ],
           "type": "scatter",
           "x": [
            -0.9396925568580627
           ],
           "y": [
            -0.3420201539993286
           ]
          },
          {
           "marker": {
            "size": [
             195
            ],
            "sizemode": "area",
            "sizeref": 0.05
           },
           "mode": "markers+text",
           "name": "Bolivia",
           "text": [
            "Bolivia:<br> 5"
           ],
           "type": "scatter",
           "x": [
            -0.49999988079071045
           ],
           "y": [
            -0.866025447845459
           ]
          },
          {
           "marker": {
            "size": [
             199
            ],
            "sizemode": "area",
            "sizeref": 0.05
           },
           "mode": "markers+text",
           "name": "Austria",
           "text": [
            "Austria:<br> 1"
           ],
           "type": "scatter",
           "x": [
            0.1736481785774231
           ],
           "y": [
            -0.9848077297210693
           ]
          },
          {
           "marker": {
            "size": [
             199
            ],
            "sizemode": "area",
            "sizeref": 0.05
           },
           "mode": "markers+text",
           "name": "Portugal",
           "text": [
            "Portugal:<br> 1"
           ],
           "type": "scatter",
           "x": [
            0.7660443782806396
           ],
           "y": [
            -0.642787754535675
           ]
          }
         ],
         "name": "2017-02-18"
        },
        {
         "data": [
          {
           "marker": {
            "size": [
             199
            ],
            "sizemode": "area",
            "sizeref": 0.05
           },
           "mode": "markers+text",
           "name": "United States",
           "text": [
            "United States:<br> 1"
           ],
           "type": "scatter",
           "x": [
            1
           ],
           "y": [
            6.622738357719982e-09
           ]
          },
          {
           "marker": {
            "size": [
             199
            ],
            "sizemode": "area",
            "sizeref": 0.05
           },
           "mode": "markers+text",
           "name": "Switzerland",
           "text": [
            "Switzerland:<br> 1"
           ],
           "type": "scatter",
           "x": [
            0.7660444974899292
           ],
           "y": [
            0.6427875757217407
           ]
          },
          {
           "marker": {
            "size": [
             199
            ],
            "sizemode": "area",
            "sizeref": 0.05
           },
           "mode": "markers+text",
           "name": "Hungary",
           "text": [
            "Hungary:<br> 1"
           ],
           "type": "scatter",
           "x": [
            0.17364825308322906
           ],
           "y": [
            0.9848077297210693
           ]
          },
          {
           "marker": {
            "size": [
             195
            ],
            "sizemode": "area",
            "sizeref": 0.05
           },
           "mode": "markers+text",
           "name": "Peru",
           "text": [
            "Peru:<br> 5"
           ],
           "type": "scatter",
           "x": [
            -0.5
           ],
           "y": [
            0.8660253882408142
           ]
          },
          {
           "marker": {
            "size": [
             199
            ],
            "sizemode": "area",
            "sizeref": 0.05
           },
           "mode": "markers+text",
           "name": "Malaysia",
           "text": [
            "Malaysia:<br> 1"
           ],
           "type": "scatter",
           "x": [
            -0.9396925568580627
           ],
           "y": [
            0.3420202136039734
           ]
          },
          {
           "marker": {
            "size": [
             199
            ],
            "sizemode": "area",
            "sizeref": 0.05
           },
           "mode": "markers+text",
           "name": "Denmark",
           "text": [
            "Denmark:<br> 1"
           ],
           "type": "scatter",
           "x": [
            -0.9396925568580627
           ],
           "y": [
            -0.3420201539993286
           ]
          },
          {
           "marker": {
            "size": [
             195
            ],
            "sizemode": "area",
            "sizeref": 0.05
           },
           "mode": "markers+text",
           "name": "Bolivia",
           "text": [
            "Bolivia:<br> 5"
           ],
           "type": "scatter",
           "x": [
            -0.49999988079071045
           ],
           "y": [
            -0.866025447845459
           ]
          },
          {
           "marker": {
            "size": [
             199
            ],
            "sizemode": "area",
            "sizeref": 0.05
           },
           "mode": "markers+text",
           "name": "Austria",
           "text": [
            "Austria:<br> 1"
           ],
           "type": "scatter",
           "x": [
            0.1736481785774231
           ],
           "y": [
            -0.9848077297210693
           ]
          },
          {
           "marker": {
            "size": [
             199
            ],
            "sizemode": "area",
            "sizeref": 0.05
           },
           "mode": "markers+text",
           "name": "Portugal",
           "text": [
            "Portugal:<br> 1"
           ],
           "type": "scatter",
           "x": [
            0.7660443782806396
           ],
           "y": [
            -0.642787754535675
           ]
          }
         ],
         "name": "2017-02-19"
        },
        {
         "data": [
          {
           "marker": {
            "size": [
             199
            ],
            "sizemode": "area",
            "sizeref": 0.05
           },
           "mode": "markers+text",
           "name": "United States",
           "text": [
            "United States:<br> 1"
           ],
           "type": "scatter",
           "x": [
            1
           ],
           "y": [
            6.622738357719982e-09
           ]
          },
          {
           "marker": {
            "size": [
             199
            ],
            "sizemode": "area",
            "sizeref": 0.05
           },
           "mode": "markers+text",
           "name": "Switzerland",
           "text": [
            "Switzerland:<br> 1"
           ],
           "type": "scatter",
           "x": [
            0.7660444974899292
           ],
           "y": [
            0.6427875757217407
           ]
          },
          {
           "marker": {
            "size": [
             199
            ],
            "sizemode": "area",
            "sizeref": 0.05
           },
           "mode": "markers+text",
           "name": "Hungary",
           "text": [
            "Hungary:<br> 1"
           ],
           "type": "scatter",
           "x": [
            0.17364825308322906
           ],
           "y": [
            0.9848077297210693
           ]
          },
          {
           "marker": {
            "size": [
             196
            ],
            "sizemode": "area",
            "sizeref": 0.05
           },
           "mode": "markers+text",
           "name": "Peru",
           "text": [
            "Peru:<br> 4"
           ],
           "type": "scatter",
           "x": [
            -0.5
           ],
           "y": [
            0.8660253882408142
           ]
          },
          {
           "marker": {
            "size": [
             199
            ],
            "sizemode": "area",
            "sizeref": 0.05
           },
           "mode": "markers+text",
           "name": "Malaysia",
           "text": [
            "Malaysia:<br> 1"
           ],
           "type": "scatter",
           "x": [
            -0.9396925568580627
           ],
           "y": [
            0.3420202136039734
           ]
          },
          {
           "marker": {
            "size": [
             199
            ],
            "sizemode": "area",
            "sizeref": 0.05
           },
           "mode": "markers+text",
           "name": "Denmark",
           "text": [
            "Denmark:<br> 1"
           ],
           "type": "scatter",
           "x": [
            -0.9396925568580627
           ],
           "y": [
            -0.3420201539993286
           ]
          },
          {
           "marker": {
            "size": [
             198
            ],
            "sizemode": "area",
            "sizeref": 0.05
           },
           "mode": "markers+text",
           "name": "Bolivia",
           "text": [
            "Bolivia:<br> 2"
           ],
           "type": "scatter",
           "x": [
            -0.49999988079071045
           ],
           "y": [
            -0.866025447845459
           ]
          },
          {
           "marker": {
            "size": [
             199
            ],
            "sizemode": "area",
            "sizeref": 0.05
           },
           "mode": "markers+text",
           "name": "Austria",
           "text": [
            "Austria:<br> 1"
           ],
           "type": "scatter",
           "x": [
            0.1736481785774231
           ],
           "y": [
            -0.9848077297210693
           ]
          },
          {
           "marker": {
            "size": [
             199
            ],
            "sizemode": "area",
            "sizeref": 0.05
           },
           "mode": "markers+text",
           "name": "Portugal",
           "text": [
            "Portugal:<br> 1"
           ],
           "type": "scatter",
           "x": [
            0.7660443782806396
           ],
           "y": [
            -0.642787754535675
           ]
          }
         ],
         "name": "2017-02-20"
        },
        {
         "data": [
          {
           "marker": {
            "size": [
             199
            ],
            "sizemode": "area",
            "sizeref": 0.05
           },
           "mode": "markers+text",
           "name": "United States",
           "text": [
            "United States:<br> 1"
           ],
           "type": "scatter",
           "x": [
            1
           ],
           "y": [
            6.622738357719982e-09
           ]
          },
          {
           "marker": {
            "size": [
             199
            ],
            "sizemode": "area",
            "sizeref": 0.05
           },
           "mode": "markers+text",
           "name": "Switzerland",
           "text": [
            "Switzerland:<br> 1"
           ],
           "type": "scatter",
           "x": [
            0.7660444974899292
           ],
           "y": [
            0.6427875757217407
           ]
          },
          {
           "marker": {
            "size": [
             199
            ],
            "sizemode": "area",
            "sizeref": 0.05
           },
           "mode": "markers+text",
           "name": "Hungary",
           "text": [
            "Hungary:<br> 1"
           ],
           "type": "scatter",
           "x": [
            0.17364825308322906
           ],
           "y": [
            0.9848077297210693
           ]
          },
          {
           "marker": {
            "size": [
             196
            ],
            "sizemode": "area",
            "sizeref": 0.05
           },
           "mode": "markers+text",
           "name": "Peru",
           "text": [
            "Peru:<br> 4"
           ],
           "type": "scatter",
           "x": [
            -0.5
           ],
           "y": [
            0.8660253882408142
           ]
          },
          {
           "marker": {
            "size": [
             199
            ],
            "sizemode": "area",
            "sizeref": 0.05
           },
           "mode": "markers+text",
           "name": "Malaysia",
           "text": [
            "Malaysia:<br> 1"
           ],
           "type": "scatter",
           "x": [
            -0.9396925568580627
           ],
           "y": [
            0.3420202136039734
           ]
          },
          {
           "marker": {
            "size": [
             199
            ],
            "sizemode": "area",
            "sizeref": 0.05
           },
           "mode": "markers+text",
           "name": "Denmark",
           "text": [
            "Denmark:<br> 1"
           ],
           "type": "scatter",
           "x": [
            -0.9396925568580627
           ],
           "y": [
            -0.3420201539993286
           ]
          },
          {
           "marker": {
            "size": [
             197
            ],
            "sizemode": "area",
            "sizeref": 0.05
           },
           "mode": "markers+text",
           "name": "Bolivia",
           "text": [
            "Bolivia:<br> 3"
           ],
           "type": "scatter",
           "x": [
            -0.49999988079071045
           ],
           "y": [
            -0.866025447845459
           ]
          },
          {
           "marker": {
            "size": [
             199
            ],
            "sizemode": "area",
            "sizeref": 0.05
           },
           "mode": "markers+text",
           "name": "Austria",
           "text": [
            "Austria:<br> 1"
           ],
           "type": "scatter",
           "x": [
            0.1736481785774231
           ],
           "y": [
            -0.9848077297210693
           ]
          },
          {
           "marker": {
            "size": [
             199
            ],
            "sizemode": "area",
            "sizeref": 0.05
           },
           "mode": "markers+text",
           "name": "Portugal",
           "text": [
            "Portugal:<br> 1"
           ],
           "type": "scatter",
           "x": [
            0.7660443782806396
           ],
           "y": [
            -0.642787754535675
           ]
          }
         ],
         "name": "2017-02-21"
        },
        {
         "data": [
          {
           "marker": {
            "size": [
             199
            ],
            "sizemode": "area",
            "sizeref": 0.05
           },
           "mode": "markers+text",
           "name": "United States",
           "text": [
            "United States:<br> 1"
           ],
           "type": "scatter",
           "x": [
            1
           ],
           "y": [
            6.622738357719982e-09
           ]
          },
          {
           "marker": {
            "size": [
             199
            ],
            "sizemode": "area",
            "sizeref": 0.05
           },
           "mode": "markers+text",
           "name": "Switzerland",
           "text": [
            "Switzerland:<br> 1"
           ],
           "type": "scatter",
           "x": [
            0.7660444974899292
           ],
           "y": [
            0.6427875757217407
           ]
          },
          {
           "marker": {
            "size": [
             199
            ],
            "sizemode": "area",
            "sizeref": 0.05
           },
           "mode": "markers+text",
           "name": "Hungary",
           "text": [
            "Hungary:<br> 1"
           ],
           "type": "scatter",
           "x": [
            0.17364825308322906
           ],
           "y": [
            0.9848077297210693
           ]
          },
          {
           "marker": {
            "size": [
             196
            ],
            "sizemode": "area",
            "sizeref": 0.05
           },
           "mode": "markers+text",
           "name": "Peru",
           "text": [
            "Peru:<br> 4"
           ],
           "type": "scatter",
           "x": [
            -0.5
           ],
           "y": [
            0.8660253882408142
           ]
          },
          {
           "marker": {
            "size": [
             199
            ],
            "sizemode": "area",
            "sizeref": 0.05
           },
           "mode": "markers+text",
           "name": "Malaysia",
           "text": [
            "Malaysia:<br> 1"
           ],
           "type": "scatter",
           "x": [
            -0.9396925568580627
           ],
           "y": [
            0.3420202136039734
           ]
          },
          {
           "marker": {
            "size": [
             199
            ],
            "sizemode": "area",
            "sizeref": 0.05
           },
           "mode": "markers+text",
           "name": "Denmark",
           "text": [
            "Denmark:<br> 1"
           ],
           "type": "scatter",
           "x": [
            -0.9396925568580627
           ],
           "y": [
            -0.3420201539993286
           ]
          },
          {
           "marker": {
            "size": [
             198
            ],
            "sizemode": "area",
            "sizeref": 0.05
           },
           "mode": "markers+text",
           "name": "Bolivia",
           "text": [
            "Bolivia:<br> 2"
           ],
           "type": "scatter",
           "x": [
            -0.49999988079071045
           ],
           "y": [
            -0.866025447845459
           ]
          },
          {
           "marker": {
            "size": [
             199
            ],
            "sizemode": "area",
            "sizeref": 0.05
           },
           "mode": "markers+text",
           "name": "Austria",
           "text": [
            "Austria:<br> 1"
           ],
           "type": "scatter",
           "x": [
            0.1736481785774231
           ],
           "y": [
            -0.9848077297210693
           ]
          },
          {
           "marker": {
            "size": [
             199
            ],
            "sizemode": "area",
            "sizeref": 0.05
           },
           "mode": "markers+text",
           "name": "Portugal",
           "text": [
            "Portugal:<br> 1"
           ],
           "type": "scatter",
           "x": [
            0.7660443782806396
           ],
           "y": [
            -0.642787754535675
           ]
          }
         ],
         "name": "2017-02-22"
        },
        {
         "data": [
          {
           "marker": {
            "size": [
             199
            ],
            "sizemode": "area",
            "sizeref": 0.05
           },
           "mode": "markers+text",
           "name": "United States",
           "text": [
            "United States:<br> 1"
           ],
           "type": "scatter",
           "x": [
            1
           ],
           "y": [
            6.622738357719982e-09
           ]
          },
          {
           "marker": {
            "size": [
             199
            ],
            "sizemode": "area",
            "sizeref": 0.05
           },
           "mode": "markers+text",
           "name": "Switzerland",
           "text": [
            "Switzerland:<br> 1"
           ],
           "type": "scatter",
           "x": [
            0.7660444974899292
           ],
           "y": [
            0.6427875757217407
           ]
          },
          {
           "marker": {
            "size": [
             199
            ],
            "sizemode": "area",
            "sizeref": 0.05
           },
           "mode": "markers+text",
           "name": "Hungary",
           "text": [
            "Hungary:<br> 1"
           ],
           "type": "scatter",
           "x": [
            0.17364825308322906
           ],
           "y": [
            0.9848077297210693
           ]
          },
          {
           "marker": {
            "size": [
             196
            ],
            "sizemode": "area",
            "sizeref": 0.05
           },
           "mode": "markers+text",
           "name": "Peru",
           "text": [
            "Peru:<br> 4"
           ],
           "type": "scatter",
           "x": [
            -0.5
           ],
           "y": [
            0.8660253882408142
           ]
          },
          {
           "marker": {
            "size": [
             199
            ],
            "sizemode": "area",
            "sizeref": 0.05
           },
           "mode": "markers+text",
           "name": "Malaysia",
           "text": [
            "Malaysia:<br> 1"
           ],
           "type": "scatter",
           "x": [
            -0.9396925568580627
           ],
           "y": [
            0.3420202136039734
           ]
          },
          {
           "marker": {
            "size": [
             199
            ],
            "sizemode": "area",
            "sizeref": 0.05
           },
           "mode": "markers+text",
           "name": "Denmark",
           "text": [
            "Denmark:<br> 1"
           ],
           "type": "scatter",
           "x": [
            -0.9396925568580627
           ],
           "y": [
            -0.3420201539993286
           ]
          },
          {
           "marker": {
            "size": [
             196
            ],
            "sizemode": "area",
            "sizeref": 0.05
           },
           "mode": "markers+text",
           "name": "Bolivia",
           "text": [
            "Bolivia:<br> 4"
           ],
           "type": "scatter",
           "x": [
            -0.49999988079071045
           ],
           "y": [
            -0.866025447845459
           ]
          },
          {
           "marker": {
            "size": [
             199
            ],
            "sizemode": "area",
            "sizeref": 0.05
           },
           "mode": "markers+text",
           "name": "Austria",
           "text": [
            "Austria:<br> 1"
           ],
           "type": "scatter",
           "x": [
            0.1736481785774231
           ],
           "y": [
            -0.9848077297210693
           ]
          },
          {
           "marker": {
            "size": [
             199
            ],
            "sizemode": "area",
            "sizeref": 0.05
           },
           "mode": "markers+text",
           "name": "Portugal",
           "text": [
            "Portugal:<br> 1"
           ],
           "type": "scatter",
           "x": [
            0.7660443782806396
           ],
           "y": [
            -0.642787754535675
           ]
          }
         ],
         "name": "2017-02-23"
        },
        {
         "data": [
          {
           "marker": {
            "size": [
             199
            ],
            "sizemode": "area",
            "sizeref": 0.05
           },
           "mode": "markers+text",
           "name": "United States",
           "text": [
            "United States:<br> 1"
           ],
           "type": "scatter",
           "x": [
            1
           ],
           "y": [
            6.622738357719982e-09
           ]
          },
          {
           "marker": {
            "size": [
             199
            ],
            "sizemode": "area",
            "sizeref": 0.05
           },
           "mode": "markers+text",
           "name": "Switzerland",
           "text": [
            "Switzerland:<br> 1"
           ],
           "type": "scatter",
           "x": [
            0.7660444974899292
           ],
           "y": [
            0.6427875757217407
           ]
          },
          {
           "marker": {
            "size": [
             199
            ],
            "sizemode": "area",
            "sizeref": 0.05
           },
           "mode": "markers+text",
           "name": "Hungary",
           "text": [
            "Hungary:<br> 1"
           ],
           "type": "scatter",
           "x": [
            0.17364825308322906
           ],
           "y": [
            0.9848077297210693
           ]
          },
          {
           "marker": {
            "size": [
             196
            ],
            "sizemode": "area",
            "sizeref": 0.05
           },
           "mode": "markers+text",
           "name": "Peru",
           "text": [
            "Peru:<br> 4"
           ],
           "type": "scatter",
           "x": [
            -0.5
           ],
           "y": [
            0.8660253882408142
           ]
          },
          {
           "marker": {
            "size": [
             198
            ],
            "sizemode": "area",
            "sizeref": 0.05
           },
           "mode": "markers+text",
           "name": "Malaysia",
           "text": [
            "Malaysia:<br> 2"
           ],
           "type": "scatter",
           "x": [
            -0.9396925568580627
           ],
           "y": [
            0.3420202136039734
           ]
          },
          {
           "marker": {
            "size": [
             199
            ],
            "sizemode": "area",
            "sizeref": 0.05
           },
           "mode": "markers+text",
           "name": "Denmark",
           "text": [
            "Denmark:<br> 1"
           ],
           "type": "scatter",
           "x": [
            -0.9396925568580627
           ],
           "y": [
            -0.3420201539993286
           ]
          },
          {
           "marker": {
            "size": [
             195
            ],
            "sizemode": "area",
            "sizeref": 0.05
           },
           "mode": "markers+text",
           "name": "Bolivia",
           "text": [
            "Bolivia:<br> 5"
           ],
           "type": "scatter",
           "x": [
            -0.49999988079071045
           ],
           "y": [
            -0.866025447845459
           ]
          },
          {
           "marker": {
            "size": [
             199
            ],
            "sizemode": "area",
            "sizeref": 0.05
           },
           "mode": "markers+text",
           "name": "Austria",
           "text": [
            "Austria:<br> 1"
           ],
           "type": "scatter",
           "x": [
            0.1736481785774231
           ],
           "y": [
            -0.9848077297210693
           ]
          },
          {
           "marker": {
            "size": [
             199
            ],
            "sizemode": "area",
            "sizeref": 0.05
           },
           "mode": "markers+text",
           "name": "Portugal",
           "text": [
            "Portugal:<br> 1"
           ],
           "type": "scatter",
           "x": [
            0.7660443782806396
           ],
           "y": [
            -0.642787754535675
           ]
          }
         ],
         "name": "2017-02-24"
        },
        {
         "data": [
          {
           "marker": {
            "size": [
             199
            ],
            "sizemode": "area",
            "sizeref": 0.05
           },
           "mode": "markers+text",
           "name": "United States",
           "text": [
            "United States:<br> 1"
           ],
           "type": "scatter",
           "x": [
            1
           ],
           "y": [
            6.622738357719982e-09
           ]
          },
          {
           "marker": {
            "size": [
             199
            ],
            "sizemode": "area",
            "sizeref": 0.05
           },
           "mode": "markers+text",
           "name": "Switzerland",
           "text": [
            "Switzerland:<br> 1"
           ],
           "type": "scatter",
           "x": [
            0.7660444974899292
           ],
           "y": [
            0.6427875757217407
           ]
          },
          {
           "marker": {
            "size": [
             199
            ],
            "sizemode": "area",
            "sizeref": 0.05
           },
           "mode": "markers+text",
           "name": "Hungary",
           "text": [
            "Hungary:<br> 1"
           ],
           "type": "scatter",
           "x": [
            0.17364825308322906
           ],
           "y": [
            0.9848077297210693
           ]
          },
          {
           "marker": {
            "size": [
             196
            ],
            "sizemode": "area",
            "sizeref": 0.05
           },
           "mode": "markers+text",
           "name": "Peru",
           "text": [
            "Peru:<br> 4"
           ],
           "type": "scatter",
           "x": [
            -0.5
           ],
           "y": [
            0.8660253882408142
           ]
          },
          {
           "marker": {
            "size": [
             199
            ],
            "sizemode": "area",
            "sizeref": 0.05
           },
           "mode": "markers+text",
           "name": "Malaysia",
           "text": [
            "Malaysia:<br> 1"
           ],
           "type": "scatter",
           "x": [
            -0.9396925568580627
           ],
           "y": [
            0.3420202136039734
           ]
          },
          {
           "marker": {
            "size": [
             199
            ],
            "sizemode": "area",
            "sizeref": 0.05
           },
           "mode": "markers+text",
           "name": "Denmark",
           "text": [
            "Denmark:<br> 1"
           ],
           "type": "scatter",
           "x": [
            -0.9396925568580627
           ],
           "y": [
            -0.3420201539993286
           ]
          },
          {
           "marker": {
            "size": [
             195
            ],
            "sizemode": "area",
            "sizeref": 0.05
           },
           "mode": "markers+text",
           "name": "Bolivia",
           "text": [
            "Bolivia:<br> 5"
           ],
           "type": "scatter",
           "x": [
            -0.49999988079071045
           ],
           "y": [
            -0.866025447845459
           ]
          },
          {
           "marker": {
            "size": [
             199
            ],
            "sizemode": "area",
            "sizeref": 0.05
           },
           "mode": "markers+text",
           "name": "Austria",
           "text": [
            "Austria:<br> 1"
           ],
           "type": "scatter",
           "x": [
            0.1736481785774231
           ],
           "y": [
            -0.9848077297210693
           ]
          },
          {
           "marker": {
            "size": [
             199
            ],
            "sizemode": "area",
            "sizeref": 0.05
           },
           "mode": "markers+text",
           "name": "Portugal",
           "text": [
            "Portugal:<br> 1"
           ],
           "type": "scatter",
           "x": [
            0.7660443782806396
           ],
           "y": [
            -0.642787754535675
           ]
          }
         ],
         "name": "2017-02-25"
        },
        {
         "data": [
          {
           "marker": {
            "size": [
             199
            ],
            "sizemode": "area",
            "sizeref": 0.05
           },
           "mode": "markers+text",
           "name": "United States",
           "text": [
            "United States:<br> 1"
           ],
           "type": "scatter",
           "x": [
            1
           ],
           "y": [
            6.622738357719982e-09
           ]
          },
          {
           "marker": {
            "size": [
             199
            ],
            "sizemode": "area",
            "sizeref": 0.05
           },
           "mode": "markers+text",
           "name": "Switzerland",
           "text": [
            "Switzerland:<br> 1"
           ],
           "type": "scatter",
           "x": [
            0.7660444974899292
           ],
           "y": [
            0.6427875757217407
           ]
          },
          {
           "marker": {
            "size": [
             199
            ],
            "sizemode": "area",
            "sizeref": 0.05
           },
           "mode": "markers+text",
           "name": "Hungary",
           "text": [
            "Hungary:<br> 1"
           ],
           "type": "scatter",
           "x": [
            0.17364825308322906
           ],
           "y": [
            0.9848077297210693
           ]
          },
          {
           "marker": {
            "size": [
             196
            ],
            "sizemode": "area",
            "sizeref": 0.05
           },
           "mode": "markers+text",
           "name": "Peru",
           "text": [
            "Peru:<br> 4"
           ],
           "type": "scatter",
           "x": [
            -0.5
           ],
           "y": [
            0.8660253882408142
           ]
          },
          {
           "marker": {
            "size": [
             198
            ],
            "sizemode": "area",
            "sizeref": 0.05
           },
           "mode": "markers+text",
           "name": "Malaysia",
           "text": [
            "Malaysia:<br> 2"
           ],
           "type": "scatter",
           "x": [
            -0.9396925568580627
           ],
           "y": [
            0.3420202136039734
           ]
          },
          {
           "marker": {
            "size": [
             199
            ],
            "sizemode": "area",
            "sizeref": 0.05
           },
           "mode": "markers+text",
           "name": "Denmark",
           "text": [
            "Denmark:<br> 1"
           ],
           "type": "scatter",
           "x": [
            -0.9396925568580627
           ],
           "y": [
            -0.3420201539993286
           ]
          },
          {
           "marker": {
            "size": [
             195
            ],
            "sizemode": "area",
            "sizeref": 0.05
           },
           "mode": "markers+text",
           "name": "Bolivia",
           "text": [
            "Bolivia:<br> 5"
           ],
           "type": "scatter",
           "x": [
            -0.49999988079071045
           ],
           "y": [
            -0.866025447845459
           ]
          },
          {
           "marker": {
            "size": [
             199
            ],
            "sizemode": "area",
            "sizeref": 0.05
           },
           "mode": "markers+text",
           "name": "Austria",
           "text": [
            "Austria:<br> 1"
           ],
           "type": "scatter",
           "x": [
            0.1736481785774231
           ],
           "y": [
            -0.9848077297210693
           ]
          },
          {
           "marker": {
            "size": [
             199
            ],
            "sizemode": "area",
            "sizeref": 0.05
           },
           "mode": "markers+text",
           "name": "Portugal",
           "text": [
            "Portugal:<br> 1"
           ],
           "type": "scatter",
           "x": [
            0.7660443782806396
           ],
           "y": [
            -0.642787754535675
           ]
          }
         ],
         "name": "2017-02-26"
        },
        {
         "data": [
          {
           "marker": {
            "size": [
             199
            ],
            "sizemode": "area",
            "sizeref": 0.05
           },
           "mode": "markers+text",
           "name": "United States",
           "text": [
            "United States:<br> 1"
           ],
           "type": "scatter",
           "x": [
            1
           ],
           "y": [
            6.622738357719982e-09
           ]
          },
          {
           "marker": {
            "size": [
             199
            ],
            "sizemode": "area",
            "sizeref": 0.05
           },
           "mode": "markers+text",
           "name": "Switzerland",
           "text": [
            "Switzerland:<br> 1"
           ],
           "type": "scatter",
           "x": [
            0.7660444974899292
           ],
           "y": [
            0.6427875757217407
           ]
          },
          {
           "marker": {
            "size": [
             199
            ],
            "sizemode": "area",
            "sizeref": 0.05
           },
           "mode": "markers+text",
           "name": "Hungary",
           "text": [
            "Hungary:<br> 1"
           ],
           "type": "scatter",
           "x": [
            0.17364825308322906
           ],
           "y": [
            0.9848077297210693
           ]
          },
          {
           "marker": {
            "size": [
             196
            ],
            "sizemode": "area",
            "sizeref": 0.05
           },
           "mode": "markers+text",
           "name": "Peru",
           "text": [
            "Peru:<br> 4"
           ],
           "type": "scatter",
           "x": [
            -0.5
           ],
           "y": [
            0.8660253882408142
           ]
          },
          {
           "marker": {
            "size": [
             198
            ],
            "sizemode": "area",
            "sizeref": 0.05
           },
           "mode": "markers+text",
           "name": "Malaysia",
           "text": [
            "Malaysia:<br> 2"
           ],
           "type": "scatter",
           "x": [
            -0.9396925568580627
           ],
           "y": [
            0.3420202136039734
           ]
          },
          {
           "marker": {
            "size": [
             199
            ],
            "sizemode": "area",
            "sizeref": 0.05
           },
           "mode": "markers+text",
           "name": "Denmark",
           "text": [
            "Denmark:<br> 1"
           ],
           "type": "scatter",
           "x": [
            -0.9396925568580627
           ],
           "y": [
            -0.3420201539993286
           ]
          },
          {
           "marker": {
            "size": [
             195
            ],
            "sizemode": "area",
            "sizeref": 0.05
           },
           "mode": "markers+text",
           "name": "Bolivia",
           "text": [
            "Bolivia:<br> 5"
           ],
           "type": "scatter",
           "x": [
            -0.49999988079071045
           ],
           "y": [
            -0.866025447845459
           ]
          },
          {
           "marker": {
            "size": [
             199
            ],
            "sizemode": "area",
            "sizeref": 0.05
           },
           "mode": "markers+text",
           "name": "Austria",
           "text": [
            "Austria:<br> 1"
           ],
           "type": "scatter",
           "x": [
            0.1736481785774231
           ],
           "y": [
            -0.9848077297210693
           ]
          },
          {
           "marker": {
            "size": [
             199
            ],
            "sizemode": "area",
            "sizeref": 0.05
           },
           "mode": "markers+text",
           "name": "Portugal",
           "text": [
            "Portugal:<br> 1"
           ],
           "type": "scatter",
           "x": [
            0.7660443782806396
           ],
           "y": [
            -0.642787754535675
           ]
          }
         ],
         "name": "2017-02-27"
        },
        {
         "data": [
          {
           "marker": {
            "size": [
             199
            ],
            "sizemode": "area",
            "sizeref": 0.05
           },
           "mode": "markers+text",
           "name": "United States",
           "text": [
            "United States:<br> 1"
           ],
           "type": "scatter",
           "x": [
            1
           ],
           "y": [
            6.622738357719982e-09
           ]
          },
          {
           "marker": {
            "size": [
             199
            ],
            "sizemode": "area",
            "sizeref": 0.05
           },
           "mode": "markers+text",
           "name": "Switzerland",
           "text": [
            "Switzerland:<br> 1"
           ],
           "type": "scatter",
           "x": [
            0.7660444974899292
           ],
           "y": [
            0.6427875757217407
           ]
          },
          {
           "marker": {
            "size": [
             199
            ],
            "sizemode": "area",
            "sizeref": 0.05
           },
           "mode": "markers+text",
           "name": "Hungary",
           "text": [
            "Hungary:<br> 1"
           ],
           "type": "scatter",
           "x": [
            0.17364825308322906
           ],
           "y": [
            0.9848077297210693
           ]
          },
          {
           "marker": {
            "size": [
             197
            ],
            "sizemode": "area",
            "sizeref": 0.05
           },
           "mode": "markers+text",
           "name": "Peru",
           "text": [
            "Peru:<br> 3"
           ],
           "type": "scatter",
           "x": [
            -0.5
           ],
           "y": [
            0.8660253882408142
           ]
          },
          {
           "marker": {
            "size": [
             198
            ],
            "sizemode": "area",
            "sizeref": 0.05
           },
           "mode": "markers+text",
           "name": "Malaysia",
           "text": [
            "Malaysia:<br> 2"
           ],
           "type": "scatter",
           "x": [
            -0.9396925568580627
           ],
           "y": [
            0.3420202136039734
           ]
          },
          {
           "marker": {
            "size": [
             198
            ],
            "sizemode": "area",
            "sizeref": 0.05
           },
           "mode": "markers+text",
           "name": "Denmark",
           "text": [
            "Denmark:<br> 2"
           ],
           "type": "scatter",
           "x": [
            -0.9396925568580627
           ],
           "y": [
            -0.3420201539993286
           ]
          },
          {
           "marker": {
            "size": [
             196
            ],
            "sizemode": "area",
            "sizeref": 0.05
           },
           "mode": "markers+text",
           "name": "Bolivia",
           "text": [
            "Bolivia:<br> 4"
           ],
           "type": "scatter",
           "x": [
            -0.49999988079071045
           ],
           "y": [
            -0.866025447845459
           ]
          },
          {
           "marker": {
            "size": [
             199
            ],
            "sizemode": "area",
            "sizeref": 0.05
           },
           "mode": "markers+text",
           "name": "Austria",
           "text": [
            "Austria:<br> 1"
           ],
           "type": "scatter",
           "x": [
            0.1736481785774231
           ],
           "y": [
            -0.9848077297210693
           ]
          },
          {
           "marker": {
            "size": [
             199
            ],
            "sizemode": "area",
            "sizeref": 0.05
           },
           "mode": "markers+text",
           "name": "Portugal",
           "text": [
            "Portugal:<br> 1"
           ],
           "type": "scatter",
           "x": [
            0.7660443782806396
           ],
           "y": [
            -0.642787754535675
           ]
          }
         ],
         "name": "2017-02-28"
        },
        {
         "data": [
          {
           "marker": {
            "size": [
             199
            ],
            "sizemode": "area",
            "sizeref": 0.05
           },
           "mode": "markers+text",
           "name": "United States",
           "text": [
            "United States:<br> 1"
           ],
           "type": "scatter",
           "x": [
            1
           ],
           "y": [
            6.622738357719982e-09
           ]
          },
          {
           "marker": {
            "size": [
             199
            ],
            "sizemode": "area",
            "sizeref": 0.05
           },
           "mode": "markers+text",
           "name": "Switzerland",
           "text": [
            "Switzerland:<br> 1"
           ],
           "type": "scatter",
           "x": [
            0.7660444974899292
           ],
           "y": [
            0.6427875757217407
           ]
          },
          {
           "marker": {
            "size": [
             199
            ],
            "sizemode": "area",
            "sizeref": 0.05
           },
           "mode": "markers+text",
           "name": "Hungary",
           "text": [
            "Hungary:<br> 1"
           ],
           "type": "scatter",
           "x": [
            0.17364825308322906
           ],
           "y": [
            0.9848077297210693
           ]
          },
          {
           "marker": {
            "size": [
             197
            ],
            "sizemode": "area",
            "sizeref": 0.05
           },
           "mode": "markers+text",
           "name": "Peru",
           "text": [
            "Peru:<br> 3"
           ],
           "type": "scatter",
           "x": [
            -0.5
           ],
           "y": [
            0.8660253882408142
           ]
          },
          {
           "marker": {
            "size": [
             199
            ],
            "sizemode": "area",
            "sizeref": 0.05
           },
           "mode": "markers+text",
           "name": "Malaysia",
           "text": [
            "Malaysia:<br> 1"
           ],
           "type": "scatter",
           "x": [
            -0.9396925568580627
           ],
           "y": [
            0.3420202136039734
           ]
          },
          {
           "marker": {
            "size": [
             198
            ],
            "sizemode": "area",
            "sizeref": 0.05
           },
           "mode": "markers+text",
           "name": "Denmark",
           "text": [
            "Denmark:<br> 2"
           ],
           "type": "scatter",
           "x": [
            -0.9396925568580627
           ],
           "y": [
            -0.3420201539993286
           ]
          },
          {
           "marker": {
            "size": [
             197
            ],
            "sizemode": "area",
            "sizeref": 0.05
           },
           "mode": "markers+text",
           "name": "Bolivia",
           "text": [
            "Bolivia:<br> 3"
           ],
           "type": "scatter",
           "x": [
            -0.49999988079071045
           ],
           "y": [
            -0.866025447845459
           ]
          },
          {
           "marker": {
            "size": [
             199
            ],
            "sizemode": "area",
            "sizeref": 0.05
           },
           "mode": "markers+text",
           "name": "Austria",
           "text": [
            "Austria:<br> 1"
           ],
           "type": "scatter",
           "x": [
            0.1736481785774231
           ],
           "y": [
            -0.9848077297210693
           ]
          },
          {
           "marker": {
            "size": [
             199
            ],
            "sizemode": "area",
            "sizeref": 0.05
           },
           "mode": "markers+text",
           "name": "Portugal",
           "text": [
            "Portugal:<br> 1"
           ],
           "type": "scatter",
           "x": [
            0.7660443782806396
           ],
           "y": [
            -0.642787754535675
           ]
          }
         ],
         "name": "2017-03-01"
        },
        {
         "data": [
          {
           "marker": {
            "size": [
             199
            ],
            "sizemode": "area",
            "sizeref": 0.05
           },
           "mode": "markers+text",
           "name": "United States",
           "text": [
            "United States:<br> 1"
           ],
           "type": "scatter",
           "x": [
            1
           ],
           "y": [
            6.622738357719982e-09
           ]
          },
          {
           "marker": {
            "size": [
             199
            ],
            "sizemode": "area",
            "sizeref": 0.05
           },
           "mode": "markers+text",
           "name": "Switzerland",
           "text": [
            "Switzerland:<br> 1"
           ],
           "type": "scatter",
           "x": [
            0.7660444974899292
           ],
           "y": [
            0.6427875757217407
           ]
          },
          {
           "marker": {
            "size": [
             199
            ],
            "sizemode": "area",
            "sizeref": 0.05
           },
           "mode": "markers+text",
           "name": "Hungary",
           "text": [
            "Hungary:<br> 1"
           ],
           "type": "scatter",
           "x": [
            0.17364825308322906
           ],
           "y": [
            0.9848077297210693
           ]
          },
          {
           "marker": {
            "size": [
             197
            ],
            "sizemode": "area",
            "sizeref": 0.05
           },
           "mode": "markers+text",
           "name": "Peru",
           "text": [
            "Peru:<br> 3"
           ],
           "type": "scatter",
           "x": [
            -0.5
           ],
           "y": [
            0.8660253882408142
           ]
          },
          {
           "marker": {
            "size": [
             199
            ],
            "sizemode": "area",
            "sizeref": 0.05
           },
           "mode": "markers+text",
           "name": "Malaysia",
           "text": [
            "Malaysia:<br> 1"
           ],
           "type": "scatter",
           "x": [
            -0.9396925568580627
           ],
           "y": [
            0.3420202136039734
           ]
          },
          {
           "marker": {
            "size": [
             199
            ],
            "sizemode": "area",
            "sizeref": 0.05
           },
           "mode": "markers+text",
           "name": "Denmark",
           "text": [
            "Denmark:<br> 1"
           ],
           "type": "scatter",
           "x": [
            -0.9396925568580627
           ],
           "y": [
            -0.3420201539993286
           ]
          },
          {
           "marker": {
            "size": [
             197
            ],
            "sizemode": "area",
            "sizeref": 0.05
           },
           "mode": "markers+text",
           "name": "Bolivia",
           "text": [
            "Bolivia:<br> 3"
           ],
           "type": "scatter",
           "x": [
            -0.49999988079071045
           ],
           "y": [
            -0.866025447845459
           ]
          },
          {
           "marker": {
            "size": [
             199
            ],
            "sizemode": "area",
            "sizeref": 0.05
           },
           "mode": "markers+text",
           "name": "Austria",
           "text": [
            "Austria:<br> 1"
           ],
           "type": "scatter",
           "x": [
            0.1736481785774231
           ],
           "y": [
            -0.9848077297210693
           ]
          },
          {
           "marker": {
            "size": [
             199
            ],
            "sizemode": "area",
            "sizeref": 0.05
           },
           "mode": "markers+text",
           "name": "Portugal",
           "text": [
            "Portugal:<br> 1"
           ],
           "type": "scatter",
           "x": [
            0.7660443782806396
           ],
           "y": [
            -0.642787754535675
           ]
          }
         ],
         "name": "2017-03-02"
        },
        {
         "data": [
          {
           "marker": {
            "size": [
             199
            ],
            "sizemode": "area",
            "sizeref": 0.05
           },
           "mode": "markers+text",
           "name": "United States",
           "text": [
            "United States:<br> 1"
           ],
           "type": "scatter",
           "x": [
            1
           ],
           "y": [
            6.622738357719982e-09
           ]
          },
          {
           "marker": {
            "size": [
             199
            ],
            "sizemode": "area",
            "sizeref": 0.05
           },
           "mode": "markers+text",
           "name": "Switzerland",
           "text": [
            "Switzerland:<br> 1"
           ],
           "type": "scatter",
           "x": [
            0.7660444974899292
           ],
           "y": [
            0.6427875757217407
           ]
          },
          {
           "marker": {
            "size": [
             199
            ],
            "sizemode": "area",
            "sizeref": 0.05
           },
           "mode": "markers+text",
           "name": "Hungary",
           "text": [
            "Hungary:<br> 1"
           ],
           "type": "scatter",
           "x": [
            0.17364825308322906
           ],
           "y": [
            0.9848077297210693
           ]
          },
          {
           "marker": {
            "size": [
             197
            ],
            "sizemode": "area",
            "sizeref": 0.05
           },
           "mode": "markers+text",
           "name": "Peru",
           "text": [
            "Peru:<br> 3"
           ],
           "type": "scatter",
           "x": [
            -0.5
           ],
           "y": [
            0.8660253882408142
           ]
          },
          {
           "marker": {
            "size": [
             199
            ],
            "sizemode": "area",
            "sizeref": 0.05
           },
           "mode": "markers+text",
           "name": "Malaysia",
           "text": [
            "Malaysia:<br> 1"
           ],
           "type": "scatter",
           "x": [
            -0.9396925568580627
           ],
           "y": [
            0.3420202136039734
           ]
          },
          {
           "marker": {
            "size": [
             199
            ],
            "sizemode": "area",
            "sizeref": 0.05
           },
           "mode": "markers+text",
           "name": "Denmark",
           "text": [
            "Denmark:<br> 1"
           ],
           "type": "scatter",
           "x": [
            -0.9396925568580627
           ],
           "y": [
            -0.3420201539993286
           ]
          },
          {
           "marker": {
            "size": [
             198
            ],
            "sizemode": "area",
            "sizeref": 0.05
           },
           "mode": "markers+text",
           "name": "Bolivia",
           "text": [
            "Bolivia:<br> 2"
           ],
           "type": "scatter",
           "x": [
            -0.49999988079071045
           ],
           "y": [
            -0.866025447845459
           ]
          },
          {
           "marker": {
            "size": [
             199
            ],
            "sizemode": "area",
            "sizeref": 0.05
           },
           "mode": "markers+text",
           "name": "Austria",
           "text": [
            "Austria:<br> 1"
           ],
           "type": "scatter",
           "x": [
            0.1736481785774231
           ],
           "y": [
            -0.9848077297210693
           ]
          },
          {
           "marker": {
            "size": [
             199
            ],
            "sizemode": "area",
            "sizeref": 0.05
           },
           "mode": "markers+text",
           "name": "Portugal",
           "text": [
            "Portugal:<br> 1"
           ],
           "type": "scatter",
           "x": [
            0.7660443782806396
           ],
           "y": [
            -0.642787754535675
           ]
          }
         ],
         "name": "2017-03-03"
        },
        {
         "data": [
          {
           "marker": {
            "size": [
             199
            ],
            "sizemode": "area",
            "sizeref": 0.05
           },
           "mode": "markers+text",
           "name": "United States",
           "text": [
            "United States:<br> 1"
           ],
           "type": "scatter",
           "x": [
            1
           ],
           "y": [
            6.622738357719982e-09
           ]
          },
          {
           "marker": {
            "size": [
             199
            ],
            "sizemode": "area",
            "sizeref": 0.05
           },
           "mode": "markers+text",
           "name": "Switzerland",
           "text": [
            "Switzerland:<br> 1"
           ],
           "type": "scatter",
           "x": [
            0.7660444974899292
           ],
           "y": [
            0.6427875757217407
           ]
          },
          {
           "marker": {
            "size": [
             199
            ],
            "sizemode": "area",
            "sizeref": 0.05
           },
           "mode": "markers+text",
           "name": "Hungary",
           "text": [
            "Hungary:<br> 1"
           ],
           "type": "scatter",
           "x": [
            0.17364825308322906
           ],
           "y": [
            0.9848077297210693
           ]
          },
          {
           "marker": {
            "size": [
             197
            ],
            "sizemode": "area",
            "sizeref": 0.05
           },
           "mode": "markers+text",
           "name": "Peru",
           "text": [
            "Peru:<br> 3"
           ],
           "type": "scatter",
           "x": [
            -0.5
           ],
           "y": [
            0.8660253882408142
           ]
          },
          {
           "marker": {
            "size": [
             199
            ],
            "sizemode": "area",
            "sizeref": 0.05
           },
           "mode": "markers+text",
           "name": "Malaysia",
           "text": [
            "Malaysia:<br> 1"
           ],
           "type": "scatter",
           "x": [
            -0.9396925568580627
           ],
           "y": [
            0.3420202136039734
           ]
          },
          {
           "marker": {
            "size": [
             199
            ],
            "sizemode": "area",
            "sizeref": 0.05
           },
           "mode": "markers+text",
           "name": "Denmark",
           "text": [
            "Denmark:<br> 1"
           ],
           "type": "scatter",
           "x": [
            -0.9396925568580627
           ],
           "y": [
            -0.3420201539993286
           ]
          },
          {
           "marker": {
            "size": [
             197
            ],
            "sizemode": "area",
            "sizeref": 0.05
           },
           "mode": "markers+text",
           "name": "Bolivia",
           "text": [
            "Bolivia:<br> 3"
           ],
           "type": "scatter",
           "x": [
            -0.49999988079071045
           ],
           "y": [
            -0.866025447845459
           ]
          },
          {
           "marker": {
            "size": [
             199
            ],
            "sizemode": "area",
            "sizeref": 0.05
           },
           "mode": "markers+text",
           "name": "Austria",
           "text": [
            "Austria:<br> 1"
           ],
           "type": "scatter",
           "x": [
            0.1736481785774231
           ],
           "y": [
            -0.9848077297210693
           ]
          },
          {
           "marker": {
            "size": [
             199
            ],
            "sizemode": "area",
            "sizeref": 0.05
           },
           "mode": "markers+text",
           "name": "Portugal",
           "text": [
            "Portugal:<br> 1"
           ],
           "type": "scatter",
           "x": [
            0.7660443782806396
           ],
           "y": [
            -0.642787754535675
           ]
          }
         ],
         "name": "2017-03-04"
        },
        {
         "data": [
          {
           "marker": {
            "size": [
             199
            ],
            "sizemode": "area",
            "sizeref": 0.05
           },
           "mode": "markers+text",
           "name": "United States",
           "text": [
            "United States:<br> 1"
           ],
           "type": "scatter",
           "x": [
            1
           ],
           "y": [
            6.622738357719982e-09
           ]
          },
          {
           "marker": {
            "size": [
             199
            ],
            "sizemode": "area",
            "sizeref": 0.05
           },
           "mode": "markers+text",
           "name": "Switzerland",
           "text": [
            "Switzerland:<br> 1"
           ],
           "type": "scatter",
           "x": [
            0.7660444974899292
           ],
           "y": [
            0.6427875757217407
           ]
          },
          {
           "marker": {
            "size": [
             199
            ],
            "sizemode": "area",
            "sizeref": 0.05
           },
           "mode": "markers+text",
           "name": "Hungary",
           "text": [
            "Hungary:<br> 1"
           ],
           "type": "scatter",
           "x": [
            0.17364825308322906
           ],
           "y": [
            0.9848077297210693
           ]
          },
          {
           "marker": {
            "size": [
             197
            ],
            "sizemode": "area",
            "sizeref": 0.05
           },
           "mode": "markers+text",
           "name": "Peru",
           "text": [
            "Peru:<br> 3"
           ],
           "type": "scatter",
           "x": [
            -0.5
           ],
           "y": [
            0.8660253882408142
           ]
          },
          {
           "marker": {
            "size": [
             199
            ],
            "sizemode": "area",
            "sizeref": 0.05
           },
           "mode": "markers+text",
           "name": "Malaysia",
           "text": [
            "Malaysia:<br> 1"
           ],
           "type": "scatter",
           "x": [
            -0.9396925568580627
           ],
           "y": [
            0.3420202136039734
           ]
          },
          {
           "marker": {
            "size": [
             199
            ],
            "sizemode": "area",
            "sizeref": 0.05
           },
           "mode": "markers+text",
           "name": "Denmark",
           "text": [
            "Denmark:<br> 1"
           ],
           "type": "scatter",
           "x": [
            -0.9396925568580627
           ],
           "y": [
            -0.3420201539993286
           ]
          },
          {
           "marker": {
            "size": [
             197
            ],
            "sizemode": "area",
            "sizeref": 0.05
           },
           "mode": "markers+text",
           "name": "Bolivia",
           "text": [
            "Bolivia:<br> 3"
           ],
           "type": "scatter",
           "x": [
            -0.49999988079071045
           ],
           "y": [
            -0.866025447845459
           ]
          },
          {
           "marker": {
            "size": [
             199
            ],
            "sizemode": "area",
            "sizeref": 0.05
           },
           "mode": "markers+text",
           "name": "Austria",
           "text": [
            "Austria:<br> 1"
           ],
           "type": "scatter",
           "x": [
            0.1736481785774231
           ],
           "y": [
            -0.9848077297210693
           ]
          },
          {
           "marker": {
            "size": [
             199
            ],
            "sizemode": "area",
            "sizeref": 0.05
           },
           "mode": "markers+text",
           "name": "Portugal",
           "text": [
            "Portugal:<br> 1"
           ],
           "type": "scatter",
           "x": [
            0.7660443782806396
           ],
           "y": [
            -0.642787754535675
           ]
          }
         ],
         "name": "2017-03-05"
        },
        {
         "data": [
          {
           "marker": {
            "size": [
             199
            ],
            "sizemode": "area",
            "sizeref": 0.05
           },
           "mode": "markers+text",
           "name": "United States",
           "text": [
            "United States:<br> 1"
           ],
           "type": "scatter",
           "x": [
            1
           ],
           "y": [
            6.622738357719982e-09
           ]
          },
          {
           "marker": {
            "size": [
             199
            ],
            "sizemode": "area",
            "sizeref": 0.05
           },
           "mode": "markers+text",
           "name": "Switzerland",
           "text": [
            "Switzerland:<br> 1"
           ],
           "type": "scatter",
           "x": [
            0.7660444974899292
           ],
           "y": [
            0.6427875757217407
           ]
          },
          {
           "marker": {
            "size": [
             199
            ],
            "sizemode": "area",
            "sizeref": 0.05
           },
           "mode": "markers+text",
           "name": "Hungary",
           "text": [
            "Hungary:<br> 1"
           ],
           "type": "scatter",
           "x": [
            0.17364825308322906
           ],
           "y": [
            0.9848077297210693
           ]
          },
          {
           "marker": {
            "size": [
             197
            ],
            "sizemode": "area",
            "sizeref": 0.05
           },
           "mode": "markers+text",
           "name": "Peru",
           "text": [
            "Peru:<br> 3"
           ],
           "type": "scatter",
           "x": [
            -0.5
           ],
           "y": [
            0.8660253882408142
           ]
          },
          {
           "marker": {
            "size": [
             199
            ],
            "sizemode": "area",
            "sizeref": 0.05
           },
           "mode": "markers+text",
           "name": "Malaysia",
           "text": [
            "Malaysia:<br> 1"
           ],
           "type": "scatter",
           "x": [
            -0.9396925568580627
           ],
           "y": [
            0.3420202136039734
           ]
          },
          {
           "marker": {
            "size": [
             199
            ],
            "sizemode": "area",
            "sizeref": 0.05
           },
           "mode": "markers+text",
           "name": "Denmark",
           "text": [
            "Denmark:<br> 1"
           ],
           "type": "scatter",
           "x": [
            -0.9396925568580627
           ],
           "y": [
            -0.3420201539993286
           ]
          },
          {
           "marker": {
            "size": [
             198
            ],
            "sizemode": "area",
            "sizeref": 0.05
           },
           "mode": "markers+text",
           "name": "Bolivia",
           "text": [
            "Bolivia:<br> 2"
           ],
           "type": "scatter",
           "x": [
            -0.49999988079071045
           ],
           "y": [
            -0.866025447845459
           ]
          },
          {
           "marker": {
            "size": [
             199
            ],
            "sizemode": "area",
            "sizeref": 0.05
           },
           "mode": "markers+text",
           "name": "Austria",
           "text": [
            "Austria:<br> 1"
           ],
           "type": "scatter",
           "x": [
            0.1736481785774231
           ],
           "y": [
            -0.9848077297210693
           ]
          },
          {
           "marker": {
            "size": [
             199
            ],
            "sizemode": "area",
            "sizeref": 0.05
           },
           "mode": "markers+text",
           "name": "Portugal",
           "text": [
            "Portugal:<br> 1"
           ],
           "type": "scatter",
           "x": [
            0.7660443782806396
           ],
           "y": [
            -0.642787754535675
           ]
          }
         ],
         "name": "2017-03-06"
        },
        {
         "data": [
          {
           "marker": {
            "size": [
             199
            ],
            "sizemode": "area",
            "sizeref": 0.05
           },
           "mode": "markers+text",
           "name": "United States",
           "text": [
            "United States:<br> 1"
           ],
           "type": "scatter",
           "x": [
            1
           ],
           "y": [
            6.622738357719982e-09
           ]
          },
          {
           "marker": {
            "size": [
             199
            ],
            "sizemode": "area",
            "sizeref": 0.05
           },
           "mode": "markers+text",
           "name": "Switzerland",
           "text": [
            "Switzerland:<br> 1"
           ],
           "type": "scatter",
           "x": [
            0.7660444974899292
           ],
           "y": [
            0.6427875757217407
           ]
          },
          {
           "marker": {
            "size": [
             199
            ],
            "sizemode": "area",
            "sizeref": 0.05
           },
           "mode": "markers+text",
           "name": "Hungary",
           "text": [
            "Hungary:<br> 1"
           ],
           "type": "scatter",
           "x": [
            0.17364825308322906
           ],
           "y": [
            0.9848077297210693
           ]
          },
          {
           "marker": {
            "size": [
             197
            ],
            "sizemode": "area",
            "sizeref": 0.05
           },
           "mode": "markers+text",
           "name": "Peru",
           "text": [
            "Peru:<br> 3"
           ],
           "type": "scatter",
           "x": [
            -0.5
           ],
           "y": [
            0.8660253882408142
           ]
          },
          {
           "marker": {
            "size": [
             199
            ],
            "sizemode": "area",
            "sizeref": 0.05
           },
           "mode": "markers+text",
           "name": "Malaysia",
           "text": [
            "Malaysia:<br> 1"
           ],
           "type": "scatter",
           "x": [
            -0.9396925568580627
           ],
           "y": [
            0.3420202136039734
           ]
          },
          {
           "marker": {
            "size": [
             199
            ],
            "sizemode": "area",
            "sizeref": 0.05
           },
           "mode": "markers+text",
           "name": "Denmark",
           "text": [
            "Denmark:<br> 1"
           ],
           "type": "scatter",
           "x": [
            -0.9396925568580627
           ],
           "y": [
            -0.3420201539993286
           ]
          },
          {
           "marker": {
            "size": [
             198
            ],
            "sizemode": "area",
            "sizeref": 0.05
           },
           "mode": "markers+text",
           "name": "Bolivia",
           "text": [
            "Bolivia:<br> 2"
           ],
           "type": "scatter",
           "x": [
            -0.49999988079071045
           ],
           "y": [
            -0.866025447845459
           ]
          },
          {
           "marker": {
            "size": [
             199
            ],
            "sizemode": "area",
            "sizeref": 0.05
           },
           "mode": "markers+text",
           "name": "Austria",
           "text": [
            "Austria:<br> 1"
           ],
           "type": "scatter",
           "x": [
            0.1736481785774231
           ],
           "y": [
            -0.9848077297210693
           ]
          },
          {
           "marker": {
            "size": [
             199
            ],
            "sizemode": "area",
            "sizeref": 0.05
           },
           "mode": "markers+text",
           "name": "Portugal",
           "text": [
            "Portugal:<br> 1"
           ],
           "type": "scatter",
           "x": [
            0.7660443782806396
           ],
           "y": [
            -0.642787754535675
           ]
          }
         ],
         "name": "2017-03-07"
        },
        {
         "data": [
          {
           "marker": {
            "size": [
             199
            ],
            "sizemode": "area",
            "sizeref": 0.05
           },
           "mode": "markers+text",
           "name": "United States",
           "text": [
            "United States:<br> 1"
           ],
           "type": "scatter",
           "x": [
            1
           ],
           "y": [
            6.622738357719982e-09
           ]
          },
          {
           "marker": {
            "size": [
             199
            ],
            "sizemode": "area",
            "sizeref": 0.05
           },
           "mode": "markers+text",
           "name": "Switzerland",
           "text": [
            "Switzerland:<br> 1"
           ],
           "type": "scatter",
           "x": [
            0.7660444974899292
           ],
           "y": [
            0.6427875757217407
           ]
          },
          {
           "marker": {
            "size": [
             199
            ],
            "sizemode": "area",
            "sizeref": 0.05
           },
           "mode": "markers+text",
           "name": "Hungary",
           "text": [
            "Hungary:<br> 1"
           ],
           "type": "scatter",
           "x": [
            0.17364825308322906
           ],
           "y": [
            0.9848077297210693
           ]
          },
          {
           "marker": {
            "size": [
             198
            ],
            "sizemode": "area",
            "sizeref": 0.05
           },
           "mode": "markers+text",
           "name": "Peru",
           "text": [
            "Peru:<br> 2"
           ],
           "type": "scatter",
           "x": [
            -0.5
           ],
           "y": [
            0.8660253882408142
           ]
          },
          {
           "marker": {
            "size": [
             199
            ],
            "sizemode": "area",
            "sizeref": 0.05
           },
           "mode": "markers+text",
           "name": "Malaysia",
           "text": [
            "Malaysia:<br> 1"
           ],
           "type": "scatter",
           "x": [
            -0.9396925568580627
           ],
           "y": [
            0.3420202136039734
           ]
          },
          {
           "marker": {
            "size": [
             199
            ],
            "sizemode": "area",
            "sizeref": 0.05
           },
           "mode": "markers+text",
           "name": "Denmark",
           "text": [
            "Denmark:<br> 1"
           ],
           "type": "scatter",
           "x": [
            -0.9396925568580627
           ],
           "y": [
            -0.3420201539993286
           ]
          },
          {
           "marker": {
            "size": [
             198
            ],
            "sizemode": "area",
            "sizeref": 0.05
           },
           "mode": "markers+text",
           "name": "Bolivia",
           "text": [
            "Bolivia:<br> 2"
           ],
           "type": "scatter",
           "x": [
            -0.49999988079071045
           ],
           "y": [
            -0.866025447845459
           ]
          },
          {
           "marker": {
            "size": [
             199
            ],
            "sizemode": "area",
            "sizeref": 0.05
           },
           "mode": "markers+text",
           "name": "Austria",
           "text": [
            "Austria:<br> 1"
           ],
           "type": "scatter",
           "x": [
            0.1736481785774231
           ],
           "y": [
            -0.9848077297210693
           ]
          },
          {
           "marker": {
            "size": [
             199
            ],
            "sizemode": "area",
            "sizeref": 0.05
           },
           "mode": "markers+text",
           "name": "Portugal",
           "text": [
            "Portugal:<br> 1"
           ],
           "type": "scatter",
           "x": [
            0.7660443782806396
           ],
           "y": [
            -0.642787754535675
           ]
          }
         ],
         "name": "2017-03-08"
        },
        {
         "data": [
          {
           "marker": {
            "size": [
             199
            ],
            "sizemode": "area",
            "sizeref": 0.05
           },
           "mode": "markers+text",
           "name": "United States",
           "text": [
            "United States:<br> 1"
           ],
           "type": "scatter",
           "x": [
            1
           ],
           "y": [
            6.622738357719982e-09
           ]
          },
          {
           "marker": {
            "size": [
             199
            ],
            "sizemode": "area",
            "sizeref": 0.05
           },
           "mode": "markers+text",
           "name": "Switzerland",
           "text": [
            "Switzerland:<br> 1"
           ],
           "type": "scatter",
           "x": [
            0.7660444974899292
           ],
           "y": [
            0.6427875757217407
           ]
          },
          {
           "marker": {
            "size": [
             199
            ],
            "sizemode": "area",
            "sizeref": 0.05
           },
           "mode": "markers+text",
           "name": "Hungary",
           "text": [
            "Hungary:<br> 1"
           ],
           "type": "scatter",
           "x": [
            0.17364825308322906
           ],
           "y": [
            0.9848077297210693
           ]
          },
          {
           "marker": {
            "size": [
             197
            ],
            "sizemode": "area",
            "sizeref": 0.05
           },
           "mode": "markers+text",
           "name": "Peru",
           "text": [
            "Peru:<br> 3"
           ],
           "type": "scatter",
           "x": [
            -0.5
           ],
           "y": [
            0.8660253882408142
           ]
          },
          {
           "marker": {
            "size": [
             199
            ],
            "sizemode": "area",
            "sizeref": 0.05
           },
           "mode": "markers+text",
           "name": "Malaysia",
           "text": [
            "Malaysia:<br> 1"
           ],
           "type": "scatter",
           "x": [
            -0.9396925568580627
           ],
           "y": [
            0.3420202136039734
           ]
          },
          {
           "marker": {
            "size": [
             199
            ],
            "sizemode": "area",
            "sizeref": 0.05
           },
           "mode": "markers+text",
           "name": "Denmark",
           "text": [
            "Denmark:<br> 1"
           ],
           "type": "scatter",
           "x": [
            -0.9396925568580627
           ],
           "y": [
            -0.3420201539993286
           ]
          },
          {
           "marker": {
            "size": [
             198
            ],
            "sizemode": "area",
            "sizeref": 0.05
           },
           "mode": "markers+text",
           "name": "Bolivia",
           "text": [
            "Bolivia:<br> 2"
           ],
           "type": "scatter",
           "x": [
            -0.49999988079071045
           ],
           "y": [
            -0.866025447845459
           ]
          },
          {
           "marker": {
            "size": [
             199
            ],
            "sizemode": "area",
            "sizeref": 0.05
           },
           "mode": "markers+text",
           "name": "Austria",
           "text": [
            "Austria:<br> 1"
           ],
           "type": "scatter",
           "x": [
            0.1736481785774231
           ],
           "y": [
            -0.9848077297210693
           ]
          },
          {
           "marker": {
            "size": [
             199
            ],
            "sizemode": "area",
            "sizeref": 0.05
           },
           "mode": "markers+text",
           "name": "Portugal",
           "text": [
            "Portugal:<br> 1"
           ],
           "type": "scatter",
           "x": [
            0.7660443782806396
           ],
           "y": [
            -0.642787754535675
           ]
          }
         ],
         "name": "2017-03-09"
        },
        {
         "data": [
          {
           "marker": {
            "size": [
             199
            ],
            "sizemode": "area",
            "sizeref": 0.05
           },
           "mode": "markers+text",
           "name": "United States",
           "text": [
            "United States:<br> 1"
           ],
           "type": "scatter",
           "x": [
            1
           ],
           "y": [
            6.622738357719982e-09
           ]
          },
          {
           "marker": {
            "size": [
             199
            ],
            "sizemode": "area",
            "sizeref": 0.05
           },
           "mode": "markers+text",
           "name": "Switzerland",
           "text": [
            "Switzerland:<br> 1"
           ],
           "type": "scatter",
           "x": [
            0.7660444974899292
           ],
           "y": [
            0.6427875757217407
           ]
          },
          {
           "marker": {
            "size": [
             199
            ],
            "sizemode": "area",
            "sizeref": 0.05
           },
           "mode": "markers+text",
           "name": "Hungary",
           "text": [
            "Hungary:<br> 1"
           ],
           "type": "scatter",
           "x": [
            0.17364825308322906
           ],
           "y": [
            0.9848077297210693
           ]
          },
          {
           "marker": {
            "size": [
             197
            ],
            "sizemode": "area",
            "sizeref": 0.05
           },
           "mode": "markers+text",
           "name": "Peru",
           "text": [
            "Peru:<br> 3"
           ],
           "type": "scatter",
           "x": [
            -0.5
           ],
           "y": [
            0.8660253882408142
           ]
          },
          {
           "marker": {
            "size": [
             199
            ],
            "sizemode": "area",
            "sizeref": 0.05
           },
           "mode": "markers+text",
           "name": "Malaysia",
           "text": [
            "Malaysia:<br> 1"
           ],
           "type": "scatter",
           "x": [
            -0.9396925568580627
           ],
           "y": [
            0.3420202136039734
           ]
          },
          {
           "marker": {
            "size": [
             199
            ],
            "sizemode": "area",
            "sizeref": 0.05
           },
           "mode": "markers+text",
           "name": "Denmark",
           "text": [
            "Denmark:<br> 1"
           ],
           "type": "scatter",
           "x": [
            -0.9396925568580627
           ],
           "y": [
            -0.3420201539993286
           ]
          },
          {
           "marker": {
            "size": [
             197
            ],
            "sizemode": "area",
            "sizeref": 0.05
           },
           "mode": "markers+text",
           "name": "Bolivia",
           "text": [
            "Bolivia:<br> 3"
           ],
           "type": "scatter",
           "x": [
            -0.49999988079071045
           ],
           "y": [
            -0.866025447845459
           ]
          },
          {
           "marker": {
            "size": [
             199
            ],
            "sizemode": "area",
            "sizeref": 0.05
           },
           "mode": "markers+text",
           "name": "Austria",
           "text": [
            "Austria:<br> 1"
           ],
           "type": "scatter",
           "x": [
            0.1736481785774231
           ],
           "y": [
            -0.9848077297210693
           ]
          },
          {
           "marker": {
            "size": [
             199
            ],
            "sizemode": "area",
            "sizeref": 0.05
           },
           "mode": "markers+text",
           "name": "Portugal",
           "text": [
            "Portugal:<br> 1"
           ],
           "type": "scatter",
           "x": [
            0.7660443782806396
           ],
           "y": [
            -0.642787754535675
           ]
          }
         ],
         "name": "2017-03-10"
        },
        {
         "data": [
          {
           "marker": {
            "size": [
             199
            ],
            "sizemode": "area",
            "sizeref": 0.05
           },
           "mode": "markers+text",
           "name": "United States",
           "text": [
            "United States:<br> 1"
           ],
           "type": "scatter",
           "x": [
            1
           ],
           "y": [
            6.622738357719982e-09
           ]
          },
          {
           "marker": {
            "size": [
             199
            ],
            "sizemode": "area",
            "sizeref": 0.05
           },
           "mode": "markers+text",
           "name": "Switzerland",
           "text": [
            "Switzerland:<br> 1"
           ],
           "type": "scatter",
           "x": [
            0.7660444974899292
           ],
           "y": [
            0.6427875757217407
           ]
          },
          {
           "marker": {
            "size": [
             199
            ],
            "sizemode": "area",
            "sizeref": 0.05
           },
           "mode": "markers+text",
           "name": "Hungary",
           "text": [
            "Hungary:<br> 1"
           ],
           "type": "scatter",
           "x": [
            0.17364825308322906
           ],
           "y": [
            0.9848077297210693
           ]
          },
          {
           "marker": {
            "size": [
             197
            ],
            "sizemode": "area",
            "sizeref": 0.05
           },
           "mode": "markers+text",
           "name": "Peru",
           "text": [
            "Peru:<br> 3"
           ],
           "type": "scatter",
           "x": [
            -0.5
           ],
           "y": [
            0.8660253882408142
           ]
          },
          {
           "marker": {
            "size": [
             199
            ],
            "sizemode": "area",
            "sizeref": 0.05
           },
           "mode": "markers+text",
           "name": "Malaysia",
           "text": [
            "Malaysia:<br> 1"
           ],
           "type": "scatter",
           "x": [
            -0.9396925568580627
           ],
           "y": [
            0.3420202136039734
           ]
          },
          {
           "marker": {
            "size": [
             199
            ],
            "sizemode": "area",
            "sizeref": 0.05
           },
           "mode": "markers+text",
           "name": "Denmark",
           "text": [
            "Denmark:<br> 1"
           ],
           "type": "scatter",
           "x": [
            -0.9396925568580627
           ],
           "y": [
            -0.3420201539993286
           ]
          },
          {
           "marker": {
            "size": [
             197
            ],
            "sizemode": "area",
            "sizeref": 0.05
           },
           "mode": "markers+text",
           "name": "Bolivia",
           "text": [
            "Bolivia:<br> 3"
           ],
           "type": "scatter",
           "x": [
            -0.49999988079071045
           ],
           "y": [
            -0.866025447845459
           ]
          },
          {
           "marker": {
            "size": [
             199
            ],
            "sizemode": "area",
            "sizeref": 0.05
           },
           "mode": "markers+text",
           "name": "Austria",
           "text": [
            "Austria:<br> 1"
           ],
           "type": "scatter",
           "x": [
            0.1736481785774231
           ],
           "y": [
            -0.9848077297210693
           ]
          },
          {
           "marker": {
            "size": [
             199
            ],
            "sizemode": "area",
            "sizeref": 0.05
           },
           "mode": "markers+text",
           "name": "Portugal",
           "text": [
            "Portugal:<br> 1"
           ],
           "type": "scatter",
           "x": [
            0.7660443782806396
           ],
           "y": [
            -0.642787754535675
           ]
          }
         ],
         "name": "2017-03-11"
        },
        {
         "data": [
          {
           "marker": {
            "size": [
             199
            ],
            "sizemode": "area",
            "sizeref": 0.05
           },
           "mode": "markers+text",
           "name": "United States",
           "text": [
            "United States:<br> 1"
           ],
           "type": "scatter",
           "x": [
            1
           ],
           "y": [
            6.622738357719982e-09
           ]
          },
          {
           "marker": {
            "size": [
             199
            ],
            "sizemode": "area",
            "sizeref": 0.05
           },
           "mode": "markers+text",
           "name": "Switzerland",
           "text": [
            "Switzerland:<br> 1"
           ],
           "type": "scatter",
           "x": [
            0.7660444974899292
           ],
           "y": [
            0.6427875757217407
           ]
          },
          {
           "marker": {
            "size": [
             199
            ],
            "sizemode": "area",
            "sizeref": 0.05
           },
           "mode": "markers+text",
           "name": "Hungary",
           "text": [
            "Hungary:<br> 1"
           ],
           "type": "scatter",
           "x": [
            0.17364825308322906
           ],
           "y": [
            0.9848077297210693
           ]
          },
          {
           "marker": {
            "size": [
             197
            ],
            "sizemode": "area",
            "sizeref": 0.05
           },
           "mode": "markers+text",
           "name": "Peru",
           "text": [
            "Peru:<br> 3"
           ],
           "type": "scatter",
           "x": [
            -0.5
           ],
           "y": [
            0.8660253882408142
           ]
          },
          {
           "marker": {
            "size": [
             199
            ],
            "sizemode": "area",
            "sizeref": 0.05
           },
           "mode": "markers+text",
           "name": "Malaysia",
           "text": [
            "Malaysia:<br> 1"
           ],
           "type": "scatter",
           "x": [
            -0.9396925568580627
           ],
           "y": [
            0.3420202136039734
           ]
          },
          {
           "marker": {
            "size": [
             199
            ],
            "sizemode": "area",
            "sizeref": 0.05
           },
           "mode": "markers+text",
           "name": "Denmark",
           "text": [
            "Denmark:<br> 1"
           ],
           "type": "scatter",
           "x": [
            -0.9396925568580627
           ],
           "y": [
            -0.3420201539993286
           ]
          },
          {
           "marker": {
            "size": [
             197
            ],
            "sizemode": "area",
            "sizeref": 0.05
           },
           "mode": "markers+text",
           "name": "Bolivia",
           "text": [
            "Bolivia:<br> 3"
           ],
           "type": "scatter",
           "x": [
            -0.49999988079071045
           ],
           "y": [
            -0.866025447845459
           ]
          },
          {
           "marker": {
            "size": [
             199
            ],
            "sizemode": "area",
            "sizeref": 0.05
           },
           "mode": "markers+text",
           "name": "Austria",
           "text": [
            "Austria:<br> 1"
           ],
           "type": "scatter",
           "x": [
            0.1736481785774231
           ],
           "y": [
            -0.9848077297210693
           ]
          },
          {
           "marker": {
            "size": [
             199
            ],
            "sizemode": "area",
            "sizeref": 0.05
           },
           "mode": "markers+text",
           "name": "Portugal",
           "text": [
            "Portugal:<br> 1"
           ],
           "type": "scatter",
           "x": [
            0.7660443782806396
           ],
           "y": [
            -0.642787754535675
           ]
          }
         ],
         "name": "2017-03-12"
        },
        {
         "data": [
          {
           "marker": {
            "size": [
             199
            ],
            "sizemode": "area",
            "sizeref": 0.05
           },
           "mode": "markers+text",
           "name": "United States",
           "text": [
            "United States:<br> 1"
           ],
           "type": "scatter",
           "x": [
            1
           ],
           "y": [
            6.622738357719982e-09
           ]
          },
          {
           "marker": {
            "size": [
             199
            ],
            "sizemode": "area",
            "sizeref": 0.05
           },
           "mode": "markers+text",
           "name": "Switzerland",
           "text": [
            "Switzerland:<br> 1"
           ],
           "type": "scatter",
           "x": [
            0.7660444974899292
           ],
           "y": [
            0.6427875757217407
           ]
          },
          {
           "marker": {
            "size": [
             199
            ],
            "sizemode": "area",
            "sizeref": 0.05
           },
           "mode": "markers+text",
           "name": "Hungary",
           "text": [
            "Hungary:<br> 1"
           ],
           "type": "scatter",
           "x": [
            0.17364825308322906
           ],
           "y": [
            0.9848077297210693
           ]
          },
          {
           "marker": {
            "size": [
             198
            ],
            "sizemode": "area",
            "sizeref": 0.05
           },
           "mode": "markers+text",
           "name": "Peru",
           "text": [
            "Peru:<br> 2"
           ],
           "type": "scatter",
           "x": [
            -0.5
           ],
           "y": [
            0.8660253882408142
           ]
          },
          {
           "marker": {
            "size": [
             199
            ],
            "sizemode": "area",
            "sizeref": 0.05
           },
           "mode": "markers+text",
           "name": "Malaysia",
           "text": [
            "Malaysia:<br> 1"
           ],
           "type": "scatter",
           "x": [
            -0.9396925568580627
           ],
           "y": [
            0.3420202136039734
           ]
          },
          {
           "marker": {
            "size": [
             199
            ],
            "sizemode": "area",
            "sizeref": 0.05
           },
           "mode": "markers+text",
           "name": "Denmark",
           "text": [
            "Denmark:<br> 1"
           ],
           "type": "scatter",
           "x": [
            -0.9396925568580627
           ],
           "y": [
            -0.3420201539993286
           ]
          },
          {
           "marker": {
            "size": [
             197
            ],
            "sizemode": "area",
            "sizeref": 0.05
           },
           "mode": "markers+text",
           "name": "Bolivia",
           "text": [
            "Bolivia:<br> 3"
           ],
           "type": "scatter",
           "x": [
            -0.49999988079071045
           ],
           "y": [
            -0.866025447845459
           ]
          },
          {
           "marker": {
            "size": [
             199
            ],
            "sizemode": "area",
            "sizeref": 0.05
           },
           "mode": "markers+text",
           "name": "Austria",
           "text": [
            "Austria:<br> 1"
           ],
           "type": "scatter",
           "x": [
            0.1736481785774231
           ],
           "y": [
            -0.9848077297210693
           ]
          },
          {
           "marker": {
            "size": [
             199
            ],
            "sizemode": "area",
            "sizeref": 0.05
           },
           "mode": "markers+text",
           "name": "Portugal",
           "text": [
            "Portugal:<br> 1"
           ],
           "type": "scatter",
           "x": [
            0.7660443782806396
           ],
           "y": [
            -0.642787754535675
           ]
          }
         ],
         "name": "2017-03-13"
        },
        {
         "data": [
          {
           "marker": {
            "size": [
             199
            ],
            "sizemode": "area",
            "sizeref": 0.05
           },
           "mode": "markers+text",
           "name": "United States",
           "text": [
            "United States:<br> 1"
           ],
           "type": "scatter",
           "x": [
            1
           ],
           "y": [
            6.622738357719982e-09
           ]
          },
          {
           "marker": {
            "size": [
             199
            ],
            "sizemode": "area",
            "sizeref": 0.05
           },
           "mode": "markers+text",
           "name": "Switzerland",
           "text": [
            "Switzerland:<br> 1"
           ],
           "type": "scatter",
           "x": [
            0.7660444974899292
           ],
           "y": [
            0.6427875757217407
           ]
          },
          {
           "marker": {
            "size": [
             199
            ],
            "sizemode": "area",
            "sizeref": 0.05
           },
           "mode": "markers+text",
           "name": "Hungary",
           "text": [
            "Hungary:<br> 1"
           ],
           "type": "scatter",
           "x": [
            0.17364825308322906
           ],
           "y": [
            0.9848077297210693
           ]
          },
          {
           "marker": {
            "size": [
             198
            ],
            "sizemode": "area",
            "sizeref": 0.05
           },
           "mode": "markers+text",
           "name": "Peru",
           "text": [
            "Peru:<br> 2"
           ],
           "type": "scatter",
           "x": [
            -0.5
           ],
           "y": [
            0.8660253882408142
           ]
          },
          {
           "marker": {
            "size": [
             199
            ],
            "sizemode": "area",
            "sizeref": 0.05
           },
           "mode": "markers+text",
           "name": "Malaysia",
           "text": [
            "Malaysia:<br> 1"
           ],
           "type": "scatter",
           "x": [
            -0.9396925568580627
           ],
           "y": [
            0.3420202136039734
           ]
          },
          {
           "marker": {
            "size": [
             199
            ],
            "sizemode": "area",
            "sizeref": 0.05
           },
           "mode": "markers+text",
           "name": "Denmark",
           "text": [
            "Denmark:<br> 1"
           ],
           "type": "scatter",
           "x": [
            -0.9396925568580627
           ],
           "y": [
            -0.3420201539993286
           ]
          },
          {
           "marker": {
            "size": [
             198
            ],
            "sizemode": "area",
            "sizeref": 0.05
           },
           "mode": "markers+text",
           "name": "Bolivia",
           "text": [
            "Bolivia:<br> 2"
           ],
           "type": "scatter",
           "x": [
            -0.49999988079071045
           ],
           "y": [
            -0.866025447845459
           ]
          },
          {
           "marker": {
            "size": [
             199
            ],
            "sizemode": "area",
            "sizeref": 0.05
           },
           "mode": "markers+text",
           "name": "Austria",
           "text": [
            "Austria:<br> 1"
           ],
           "type": "scatter",
           "x": [
            0.1736481785774231
           ],
           "y": [
            -0.9848077297210693
           ]
          },
          {
           "marker": {
            "size": [
             199
            ],
            "sizemode": "area",
            "sizeref": 0.05
           },
           "mode": "markers+text",
           "name": "Portugal",
           "text": [
            "Portugal:<br> 1"
           ],
           "type": "scatter",
           "x": [
            0.7660443782806396
           ],
           "y": [
            -0.642787754535675
           ]
          }
         ],
         "name": "2017-03-14"
        },
        {
         "data": [
          {
           "marker": {
            "size": [
             199
            ],
            "sizemode": "area",
            "sizeref": 0.05
           },
           "mode": "markers+text",
           "name": "United States",
           "text": [
            "United States:<br> 1"
           ],
           "type": "scatter",
           "x": [
            1
           ],
           "y": [
            6.622738357719982e-09
           ]
          },
          {
           "marker": {
            "size": [
             199
            ],
            "sizemode": "area",
            "sizeref": 0.05
           },
           "mode": "markers+text",
           "name": "Switzerland",
           "text": [
            "Switzerland:<br> 1"
           ],
           "type": "scatter",
           "x": [
            0.7660444974899292
           ],
           "y": [
            0.6427875757217407
           ]
          },
          {
           "marker": {
            "size": [
             199
            ],
            "sizemode": "area",
            "sizeref": 0.05
           },
           "mode": "markers+text",
           "name": "Hungary",
           "text": [
            "Hungary:<br> 1"
           ],
           "type": "scatter",
           "x": [
            0.17364825308322906
           ],
           "y": [
            0.9848077297210693
           ]
          },
          {
           "marker": {
            "size": [
             198
            ],
            "sizemode": "area",
            "sizeref": 0.05
           },
           "mode": "markers+text",
           "name": "Peru",
           "text": [
            "Peru:<br> 2"
           ],
           "type": "scatter",
           "x": [
            -0.5
           ],
           "y": [
            0.8660253882408142
           ]
          },
          {
           "marker": {
            "size": [
             199
            ],
            "sizemode": "area",
            "sizeref": 0.05
           },
           "mode": "markers+text",
           "name": "Malaysia",
           "text": [
            "Malaysia:<br> 1"
           ],
           "type": "scatter",
           "x": [
            -0.9396925568580627
           ],
           "y": [
            0.3420202136039734
           ]
          },
          {
           "marker": {
            "size": [
             199
            ],
            "sizemode": "area",
            "sizeref": 0.05
           },
           "mode": "markers+text",
           "name": "Denmark",
           "text": [
            "Denmark:<br> 1"
           ],
           "type": "scatter",
           "x": [
            -0.9396925568580627
           ],
           "y": [
            -0.3420201539993286
           ]
          },
          {
           "marker": {
            "size": [
             198
            ],
            "sizemode": "area",
            "sizeref": 0.05
           },
           "mode": "markers+text",
           "name": "Bolivia",
           "text": [
            "Bolivia:<br> 2"
           ],
           "type": "scatter",
           "x": [
            -0.49999988079071045
           ],
           "y": [
            -0.866025447845459
           ]
          },
          {
           "marker": {
            "size": [
             199
            ],
            "sizemode": "area",
            "sizeref": 0.05
           },
           "mode": "markers+text",
           "name": "Austria",
           "text": [
            "Austria:<br> 1"
           ],
           "type": "scatter",
           "x": [
            0.1736481785774231
           ],
           "y": [
            -0.9848077297210693
           ]
          },
          {
           "marker": {
            "size": [
             199
            ],
            "sizemode": "area",
            "sizeref": 0.05
           },
           "mode": "markers+text",
           "name": "Portugal",
           "text": [
            "Portugal:<br> 1"
           ],
           "type": "scatter",
           "x": [
            0.7660443782806396
           ],
           "y": [
            -0.642787754535675
           ]
          }
         ],
         "name": "2017-03-15"
        },
        {
         "data": [
          {
           "marker": {
            "size": [
             199
            ],
            "sizemode": "area",
            "sizeref": 0.05
           },
           "mode": "markers+text",
           "name": "United States",
           "text": [
            "United States:<br> 1"
           ],
           "type": "scatter",
           "x": [
            1
           ],
           "y": [
            6.622738357719982e-09
           ]
          },
          {
           "marker": {
            "size": [
             199
            ],
            "sizemode": "area",
            "sizeref": 0.05
           },
           "mode": "markers+text",
           "name": "Switzerland",
           "text": [
            "Switzerland:<br> 1"
           ],
           "type": "scatter",
           "x": [
            0.7660444974899292
           ],
           "y": [
            0.6427875757217407
           ]
          },
          {
           "marker": {
            "size": [
             199
            ],
            "sizemode": "area",
            "sizeref": 0.05
           },
           "mode": "markers+text",
           "name": "Hungary",
           "text": [
            "Hungary:<br> 1"
           ],
           "type": "scatter",
           "x": [
            0.17364825308322906
           ],
           "y": [
            0.9848077297210693
           ]
          },
          {
           "marker": {
            "size": [
             198
            ],
            "sizemode": "area",
            "sizeref": 0.05
           },
           "mode": "markers+text",
           "name": "Peru",
           "text": [
            "Peru:<br> 2"
           ],
           "type": "scatter",
           "x": [
            -0.5
           ],
           "y": [
            0.8660253882408142
           ]
          },
          {
           "marker": {
            "size": [
             199
            ],
            "sizemode": "area",
            "sizeref": 0.05
           },
           "mode": "markers+text",
           "name": "Malaysia",
           "text": [
            "Malaysia:<br> 1"
           ],
           "type": "scatter",
           "x": [
            -0.9396925568580627
           ],
           "y": [
            0.3420202136039734
           ]
          },
          {
           "marker": {
            "size": [
             199
            ],
            "sizemode": "area",
            "sizeref": 0.05
           },
           "mode": "markers+text",
           "name": "Denmark",
           "text": [
            "Denmark:<br> 1"
           ],
           "type": "scatter",
           "x": [
            -0.9396925568580627
           ],
           "y": [
            -0.3420201539993286
           ]
          },
          {
           "marker": {
            "size": [
             198
            ],
            "sizemode": "area",
            "sizeref": 0.05
           },
           "mode": "markers+text",
           "name": "Bolivia",
           "text": [
            "Bolivia:<br> 2"
           ],
           "type": "scatter",
           "x": [
            -0.49999988079071045
           ],
           "y": [
            -0.866025447845459
           ]
          },
          {
           "marker": {
            "size": [
             199
            ],
            "sizemode": "area",
            "sizeref": 0.05
           },
           "mode": "markers+text",
           "name": "Austria",
           "text": [
            "Austria:<br> 1"
           ],
           "type": "scatter",
           "x": [
            0.1736481785774231
           ],
           "y": [
            -0.9848077297210693
           ]
          },
          {
           "marker": {
            "size": [
             198
            ],
            "sizemode": "area",
            "sizeref": 0.05
           },
           "mode": "markers+text",
           "name": "Portugal",
           "text": [
            "Portugal:<br> 2"
           ],
           "type": "scatter",
           "x": [
            0.7660443782806396
           ],
           "y": [
            -0.642787754535675
           ]
          }
         ],
         "name": "2017-03-16"
        },
        {
         "data": [
          {
           "marker": {
            "size": [
             199
            ],
            "sizemode": "area",
            "sizeref": 0.05
           },
           "mode": "markers+text",
           "name": "United States",
           "text": [
            "United States:<br> 1"
           ],
           "type": "scatter",
           "x": [
            1
           ],
           "y": [
            6.622738357719982e-09
           ]
          },
          {
           "marker": {
            "size": [
             199
            ],
            "sizemode": "area",
            "sizeref": 0.05
           },
           "mode": "markers+text",
           "name": "Switzerland",
           "text": [
            "Switzerland:<br> 1"
           ],
           "type": "scatter",
           "x": [
            0.7660444974899292
           ],
           "y": [
            0.6427875757217407
           ]
          },
          {
           "marker": {
            "size": [
             199
            ],
            "sizemode": "area",
            "sizeref": 0.05
           },
           "mode": "markers+text",
           "name": "Hungary",
           "text": [
            "Hungary:<br> 1"
           ],
           "type": "scatter",
           "x": [
            0.17364825308322906
           ],
           "y": [
            0.9848077297210693
           ]
          },
          {
           "marker": {
            "size": [
             198
            ],
            "sizemode": "area",
            "sizeref": 0.05
           },
           "mode": "markers+text",
           "name": "Peru",
           "text": [
            "Peru:<br> 2"
           ],
           "type": "scatter",
           "x": [
            -0.5
           ],
           "y": [
            0.8660253882408142
           ]
          },
          {
           "marker": {
            "size": [
             199
            ],
            "sizemode": "area",
            "sizeref": 0.05
           },
           "mode": "markers+text",
           "name": "Malaysia",
           "text": [
            "Malaysia:<br> 1"
           ],
           "type": "scatter",
           "x": [
            -0.9396925568580627
           ],
           "y": [
            0.3420202136039734
           ]
          },
          {
           "marker": {
            "size": [
             199
            ],
            "sizemode": "area",
            "sizeref": 0.05
           },
           "mode": "markers+text",
           "name": "Denmark",
           "text": [
            "Denmark:<br> 1"
           ],
           "type": "scatter",
           "x": [
            -0.9396925568580627
           ],
           "y": [
            -0.3420201539993286
           ]
          },
          {
           "marker": {
            "size": [
             197
            ],
            "sizemode": "area",
            "sizeref": 0.05
           },
           "mode": "markers+text",
           "name": "Bolivia",
           "text": [
            "Bolivia:<br> 3"
           ],
           "type": "scatter",
           "x": [
            -0.49999988079071045
           ],
           "y": [
            -0.866025447845459
           ]
          },
          {
           "marker": {
            "size": [
             199
            ],
            "sizemode": "area",
            "sizeref": 0.05
           },
           "mode": "markers+text",
           "name": "Austria",
           "text": [
            "Austria:<br> 1"
           ],
           "type": "scatter",
           "x": [
            0.1736481785774231
           ],
           "y": [
            -0.9848077297210693
           ]
          },
          {
           "marker": {
            "size": [
             198
            ],
            "sizemode": "area",
            "sizeref": 0.05
           },
           "mode": "markers+text",
           "name": "Portugal",
           "text": [
            "Portugal:<br> 2"
           ],
           "type": "scatter",
           "x": [
            0.7660443782806396
           ],
           "y": [
            -0.642787754535675
           ]
          }
         ],
         "name": "2017-03-17"
        },
        {
         "data": [
          {
           "marker": {
            "size": [
             199
            ],
            "sizemode": "area",
            "sizeref": 0.05
           },
           "mode": "markers+text",
           "name": "United States",
           "text": [
            "United States:<br> 1"
           ],
           "type": "scatter",
           "x": [
            1
           ],
           "y": [
            6.622738357719982e-09
           ]
          },
          {
           "marker": {
            "size": [
             199
            ],
            "sizemode": "area",
            "sizeref": 0.05
           },
           "mode": "markers+text",
           "name": "Switzerland",
           "text": [
            "Switzerland:<br> 1"
           ],
           "type": "scatter",
           "x": [
            0.7660444974899292
           ],
           "y": [
            0.6427875757217407
           ]
          },
          {
           "marker": {
            "size": [
             199
            ],
            "sizemode": "area",
            "sizeref": 0.05
           },
           "mode": "markers+text",
           "name": "Hungary",
           "text": [
            "Hungary:<br> 1"
           ],
           "type": "scatter",
           "x": [
            0.17364825308322906
           ],
           "y": [
            0.9848077297210693
           ]
          },
          {
           "marker": {
            "size": [
             198
            ],
            "sizemode": "area",
            "sizeref": 0.05
           },
           "mode": "markers+text",
           "name": "Peru",
           "text": [
            "Peru:<br> 2"
           ],
           "type": "scatter",
           "x": [
            -0.5
           ],
           "y": [
            0.8660253882408142
           ]
          },
          {
           "marker": {
            "size": [
             199
            ],
            "sizemode": "area",
            "sizeref": 0.05
           },
           "mode": "markers+text",
           "name": "Malaysia",
           "text": [
            "Malaysia:<br> 1"
           ],
           "type": "scatter",
           "x": [
            -0.9396925568580627
           ],
           "y": [
            0.3420202136039734
           ]
          },
          {
           "marker": {
            "size": [
             199
            ],
            "sizemode": "area",
            "sizeref": 0.05
           },
           "mode": "markers+text",
           "name": "Denmark",
           "text": [
            "Denmark:<br> 1"
           ],
           "type": "scatter",
           "x": [
            -0.9396925568580627
           ],
           "y": [
            -0.3420201539993286
           ]
          },
          {
           "marker": {
            "size": [
             197
            ],
            "sizemode": "area",
            "sizeref": 0.05
           },
           "mode": "markers+text",
           "name": "Bolivia",
           "text": [
            "Bolivia:<br> 3"
           ],
           "type": "scatter",
           "x": [
            -0.49999988079071045
           ],
           "y": [
            -0.866025447845459
           ]
          },
          {
           "marker": {
            "size": [
             199
            ],
            "sizemode": "area",
            "sizeref": 0.05
           },
           "mode": "markers+text",
           "name": "Austria",
           "text": [
            "Austria:<br> 1"
           ],
           "type": "scatter",
           "x": [
            0.1736481785774231
           ],
           "y": [
            -0.9848077297210693
           ]
          },
          {
           "marker": {
            "size": [
             198
            ],
            "sizemode": "area",
            "sizeref": 0.05
           },
           "mode": "markers+text",
           "name": "Portugal",
           "text": [
            "Portugal:<br> 2"
           ],
           "type": "scatter",
           "x": [
            0.7660443782806396
           ],
           "y": [
            -0.642787754535675
           ]
          }
         ],
         "name": "2017-03-18"
        },
        {
         "data": [
          {
           "marker": {
            "size": [
             184
            ],
            "sizemode": "area",
            "sizeref": 0.05
           },
           "mode": "markers+text",
           "name": "United States",
           "text": [
            "United States:<br> 16"
           ],
           "type": "scatter",
           "x": [
            1
           ],
           "y": [
            6.622738357719982e-09
           ]
          },
          {
           "marker": {
            "size": [
             199
            ],
            "sizemode": "area",
            "sizeref": 0.05
           },
           "mode": "markers+text",
           "name": "Switzerland",
           "text": [
            "Switzerland:<br> 1"
           ],
           "type": "scatter",
           "x": [
            0.7660444974899292
           ],
           "y": [
            0.6427875757217407
           ]
          },
          {
           "marker": {
            "size": [
             199
            ],
            "sizemode": "area",
            "sizeref": 0.05
           },
           "mode": "markers+text",
           "name": "Hungary",
           "text": [
            "Hungary:<br> 1"
           ],
           "type": "scatter",
           "x": [
            0.17364825308322906
           ],
           "y": [
            0.9848077297210693
           ]
          },
          {
           "marker": {
            "size": [
             198
            ],
            "sizemode": "area",
            "sizeref": 0.05
           },
           "mode": "markers+text",
           "name": "Peru",
           "text": [
            "Peru:<br> 2"
           ],
           "type": "scatter",
           "x": [
            -0.5
           ],
           "y": [
            0.8660253882408142
           ]
          },
          {
           "marker": {
            "size": [
             199
            ],
            "sizemode": "area",
            "sizeref": 0.05
           },
           "mode": "markers+text",
           "name": "Malaysia",
           "text": [
            "Malaysia:<br> 1"
           ],
           "type": "scatter",
           "x": [
            -0.9396925568580627
           ],
           "y": [
            0.3420202136039734
           ]
          },
          {
           "marker": {
            "size": [
             199
            ],
            "sizemode": "area",
            "sizeref": 0.05
           },
           "mode": "markers+text",
           "name": "Denmark",
           "text": [
            "Denmark:<br> 1"
           ],
           "type": "scatter",
           "x": [
            -0.9396925568580627
           ],
           "y": [
            -0.3420201539993286
           ]
          },
          {
           "marker": {
            "size": [
             197
            ],
            "sizemode": "area",
            "sizeref": 0.05
           },
           "mode": "markers+text",
           "name": "Bolivia",
           "text": [
            "Bolivia:<br> 3"
           ],
           "type": "scatter",
           "x": [
            -0.49999988079071045
           ],
           "y": [
            -0.866025447845459
           ]
          },
          {
           "marker": {
            "size": [
             199
            ],
            "sizemode": "area",
            "sizeref": 0.05
           },
           "mode": "markers+text",
           "name": "Austria",
           "text": [
            "Austria:<br> 1"
           ],
           "type": "scatter",
           "x": [
            0.1736481785774231
           ],
           "y": [
            -0.9848077297210693
           ]
          },
          {
           "marker": {
            "size": [
             198
            ],
            "sizemode": "area",
            "sizeref": 0.05
           },
           "mode": "markers+text",
           "name": "Portugal",
           "text": [
            "Portugal:<br> 2"
           ],
           "type": "scatter",
           "x": [
            0.7660443782806396
           ],
           "y": [
            -0.642787754535675
           ]
          }
         ],
         "name": "2017-03-19"
        },
        {
         "data": [
          {
           "marker": {
            "size": [
             186
            ],
            "sizemode": "area",
            "sizeref": 0.05
           },
           "mode": "markers+text",
           "name": "United States",
           "text": [
            "United States:<br> 14"
           ],
           "type": "scatter",
           "x": [
            1
           ],
           "y": [
            6.622738357719982e-09
           ]
          },
          {
           "marker": {
            "size": [
             199
            ],
            "sizemode": "area",
            "sizeref": 0.05
           },
           "mode": "markers+text",
           "name": "Switzerland",
           "text": [
            "Switzerland:<br> 1"
           ],
           "type": "scatter",
           "x": [
            0.7660444974899292
           ],
           "y": [
            0.6427875757217407
           ]
          },
          {
           "marker": {
            "size": [
             199
            ],
            "sizemode": "area",
            "sizeref": 0.05
           },
           "mode": "markers+text",
           "name": "Hungary",
           "text": [
            "Hungary:<br> 1"
           ],
           "type": "scatter",
           "x": [
            0.17364825308322906
           ],
           "y": [
            0.9848077297210693
           ]
          },
          {
           "marker": {
            "size": [
             198
            ],
            "sizemode": "area",
            "sizeref": 0.05
           },
           "mode": "markers+text",
           "name": "Peru",
           "text": [
            "Peru:<br> 2"
           ],
           "type": "scatter",
           "x": [
            -0.5
           ],
           "y": [
            0.8660253882408142
           ]
          },
          {
           "marker": {
            "size": [
             199
            ],
            "sizemode": "area",
            "sizeref": 0.05
           },
           "mode": "markers+text",
           "name": "Malaysia",
           "text": [
            "Malaysia:<br> 1"
           ],
           "type": "scatter",
           "x": [
            -0.9396925568580627
           ],
           "y": [
            0.3420202136039734
           ]
          },
          {
           "marker": {
            "size": [
             198
            ],
            "sizemode": "area",
            "sizeref": 0.05
           },
           "mode": "markers+text",
           "name": "Denmark",
           "text": [
            "Denmark:<br> 2"
           ],
           "type": "scatter",
           "x": [
            -0.9396925568580627
           ],
           "y": [
            -0.3420201539993286
           ]
          },
          {
           "marker": {
            "size": [
             198
            ],
            "sizemode": "area",
            "sizeref": 0.05
           },
           "mode": "markers+text",
           "name": "Bolivia",
           "text": [
            "Bolivia:<br> 2"
           ],
           "type": "scatter",
           "x": [
            -0.49999988079071045
           ],
           "y": [
            -0.866025447845459
           ]
          },
          {
           "marker": {
            "size": [
             199
            ],
            "sizemode": "area",
            "sizeref": 0.05
           },
           "mode": "markers+text",
           "name": "Austria",
           "text": [
            "Austria:<br> 1"
           ],
           "type": "scatter",
           "x": [
            0.1736481785774231
           ],
           "y": [
            -0.9848077297210693
           ]
          },
          {
           "marker": {
            "size": [
             198
            ],
            "sizemode": "area",
            "sizeref": 0.05
           },
           "mode": "markers+text",
           "name": "Portugal",
           "text": [
            "Portugal:<br> 2"
           ],
           "type": "scatter",
           "x": [
            0.7660443782806396
           ],
           "y": [
            -0.642787754535675
           ]
          }
         ],
         "name": "2017-03-20"
        },
        {
         "data": [
          {
           "marker": {
            "size": [
             191
            ],
            "sizemode": "area",
            "sizeref": 0.05
           },
           "mode": "markers+text",
           "name": "United States",
           "text": [
            "United States:<br> 9"
           ],
           "type": "scatter",
           "x": [
            1
           ],
           "y": [
            6.622738357719982e-09
           ]
          },
          {
           "marker": {
            "size": [
             199
            ],
            "sizemode": "area",
            "sizeref": 0.05
           },
           "mode": "markers+text",
           "name": "Switzerland",
           "text": [
            "Switzerland:<br> 1"
           ],
           "type": "scatter",
           "x": [
            0.7660444974899292
           ],
           "y": [
            0.6427875757217407
           ]
          },
          {
           "marker": {
            "size": [
             199
            ],
            "sizemode": "area",
            "sizeref": 0.05
           },
           "mode": "markers+text",
           "name": "Hungary",
           "text": [
            "Hungary:<br> 1"
           ],
           "type": "scatter",
           "x": [
            0.17364825308322906
           ],
           "y": [
            0.9848077297210693
           ]
          },
          {
           "marker": {
            "size": [
             198
            ],
            "sizemode": "area",
            "sizeref": 0.05
           },
           "mode": "markers+text",
           "name": "Peru",
           "text": [
            "Peru:<br> 2"
           ],
           "type": "scatter",
           "x": [
            -0.5
           ],
           "y": [
            0.8660253882408142
           ]
          },
          {
           "marker": {
            "size": [
             199
            ],
            "sizemode": "area",
            "sizeref": 0.05
           },
           "mode": "markers+text",
           "name": "Malaysia",
           "text": [
            "Malaysia:<br> 1"
           ],
           "type": "scatter",
           "x": [
            -0.9396925568580627
           ],
           "y": [
            0.3420202136039734
           ]
          },
          {
           "marker": {
            "size": [
             198
            ],
            "sizemode": "area",
            "sizeref": 0.05
           },
           "mode": "markers+text",
           "name": "Denmark",
           "text": [
            "Denmark:<br> 2"
           ],
           "type": "scatter",
           "x": [
            -0.9396925568580627
           ],
           "y": [
            -0.3420201539993286
           ]
          },
          {
           "marker": {
            "size": [
             198
            ],
            "sizemode": "area",
            "sizeref": 0.05
           },
           "mode": "markers+text",
           "name": "Bolivia",
           "text": [
            "Bolivia:<br> 2"
           ],
           "type": "scatter",
           "x": [
            -0.49999988079071045
           ],
           "y": [
            -0.866025447845459
           ]
          },
          {
           "marker": {
            "size": [
             199
            ],
            "sizemode": "area",
            "sizeref": 0.05
           },
           "mode": "markers+text",
           "name": "Austria",
           "text": [
            "Austria:<br> 1"
           ],
           "type": "scatter",
           "x": [
            0.1736481785774231
           ],
           "y": [
            -0.9848077297210693
           ]
          },
          {
           "marker": {
            "size": [
             198
            ],
            "sizemode": "area",
            "sizeref": 0.05
           },
           "mode": "markers+text",
           "name": "Portugal",
           "text": [
            "Portugal:<br> 2"
           ],
           "type": "scatter",
           "x": [
            0.7660443782806396
           ],
           "y": [
            -0.642787754535675
           ]
          }
         ],
         "name": "2017-03-21"
        },
        {
         "data": [
          {
           "marker": {
            "size": [
             195
            ],
            "sizemode": "area",
            "sizeref": 0.05
           },
           "mode": "markers+text",
           "name": "United States",
           "text": [
            "United States:<br> 5"
           ],
           "type": "scatter",
           "x": [
            1
           ],
           "y": [
            6.622738357719982e-09
           ]
          },
          {
           "marker": {
            "size": [
             199
            ],
            "sizemode": "area",
            "sizeref": 0.05
           },
           "mode": "markers+text",
           "name": "Switzerland",
           "text": [
            "Switzerland:<br> 1"
           ],
           "type": "scatter",
           "x": [
            0.7660444974899292
           ],
           "y": [
            0.6427875757217407
           ]
          },
          {
           "marker": {
            "size": [
             199
            ],
            "sizemode": "area",
            "sizeref": 0.05
           },
           "mode": "markers+text",
           "name": "Hungary",
           "text": [
            "Hungary:<br> 1"
           ],
           "type": "scatter",
           "x": [
            0.17364825308322906
           ],
           "y": [
            0.9848077297210693
           ]
          },
          {
           "marker": {
            "size": [
             198
            ],
            "sizemode": "area",
            "sizeref": 0.05
           },
           "mode": "markers+text",
           "name": "Peru",
           "text": [
            "Peru:<br> 2"
           ],
           "type": "scatter",
           "x": [
            -0.5
           ],
           "y": [
            0.8660253882408142
           ]
          },
          {
           "marker": {
            "size": [
             199
            ],
            "sizemode": "area",
            "sizeref": 0.05
           },
           "mode": "markers+text",
           "name": "Malaysia",
           "text": [
            "Malaysia:<br> 1"
           ],
           "type": "scatter",
           "x": [
            -0.9396925568580627
           ],
           "y": [
            0.3420202136039734
           ]
          },
          {
           "marker": {
            "size": [
             197
            ],
            "sizemode": "area",
            "sizeref": 0.05
           },
           "mode": "markers+text",
           "name": "Denmark",
           "text": [
            "Denmark:<br> 3"
           ],
           "type": "scatter",
           "x": [
            -0.9396925568580627
           ],
           "y": [
            -0.3420201539993286
           ]
          },
          {
           "marker": {
            "size": [
             197
            ],
            "sizemode": "area",
            "sizeref": 0.05
           },
           "mode": "markers+text",
           "name": "Bolivia",
           "text": [
            "Bolivia:<br> 3"
           ],
           "type": "scatter",
           "x": [
            -0.49999988079071045
           ],
           "y": [
            -0.866025447845459
           ]
          },
          {
           "marker": {
            "size": [
             199
            ],
            "sizemode": "area",
            "sizeref": 0.05
           },
           "mode": "markers+text",
           "name": "Austria",
           "text": [
            "Austria:<br> 1"
           ],
           "type": "scatter",
           "x": [
            0.1736481785774231
           ],
           "y": [
            -0.9848077297210693
           ]
          },
          {
           "marker": {
            "size": [
             199
            ],
            "sizemode": "area",
            "sizeref": 0.05
           },
           "mode": "markers+text",
           "name": "Portugal",
           "text": [
            "Portugal:<br> 1"
           ],
           "type": "scatter",
           "x": [
            0.7660443782806396
           ],
           "y": [
            -0.642787754535675
           ]
          }
         ],
         "name": "2017-03-22"
        },
        {
         "data": [
          {
           "marker": {
            "size": [
             197
            ],
            "sizemode": "area",
            "sizeref": 0.05
           },
           "mode": "markers+text",
           "name": "United States",
           "text": [
            "United States:<br> 3"
           ],
           "type": "scatter",
           "x": [
            1
           ],
           "y": [
            6.622738357719982e-09
           ]
          },
          {
           "marker": {
            "size": [
             199
            ],
            "sizemode": "area",
            "sizeref": 0.05
           },
           "mode": "markers+text",
           "name": "Switzerland",
           "text": [
            "Switzerland:<br> 1"
           ],
           "type": "scatter",
           "x": [
            0.7660444974899292
           ],
           "y": [
            0.6427875757217407
           ]
          },
          {
           "marker": {
            "size": [
             199
            ],
            "sizemode": "area",
            "sizeref": 0.05
           },
           "mode": "markers+text",
           "name": "Hungary",
           "text": [
            "Hungary:<br> 1"
           ],
           "type": "scatter",
           "x": [
            0.17364825308322906
           ],
           "y": [
            0.9848077297210693
           ]
          },
          {
           "marker": {
            "size": [
             198
            ],
            "sizemode": "area",
            "sizeref": 0.05
           },
           "mode": "markers+text",
           "name": "Peru",
           "text": [
            "Peru:<br> 2"
           ],
           "type": "scatter",
           "x": [
            -0.5
           ],
           "y": [
            0.8660253882408142
           ]
          },
          {
           "marker": {
            "size": [
             199
            ],
            "sizemode": "area",
            "sizeref": 0.05
           },
           "mode": "markers+text",
           "name": "Malaysia",
           "text": [
            "Malaysia:<br> 1"
           ],
           "type": "scatter",
           "x": [
            -0.9396925568580627
           ],
           "y": [
            0.3420202136039734
           ]
          },
          {
           "marker": {
            "size": [
             197
            ],
            "sizemode": "area",
            "sizeref": 0.05
           },
           "mode": "markers+text",
           "name": "Denmark",
           "text": [
            "Denmark:<br> 3"
           ],
           "type": "scatter",
           "x": [
            -0.9396925568580627
           ],
           "y": [
            -0.3420201539993286
           ]
          },
          {
           "marker": {
            "size": [
             197
            ],
            "sizemode": "area",
            "sizeref": 0.05
           },
           "mode": "markers+text",
           "name": "Bolivia",
           "text": [
            "Bolivia:<br> 3"
           ],
           "type": "scatter",
           "x": [
            -0.49999988079071045
           ],
           "y": [
            -0.866025447845459
           ]
          },
          {
           "marker": {
            "size": [
             199
            ],
            "sizemode": "area",
            "sizeref": 0.05
           },
           "mode": "markers+text",
           "name": "Austria",
           "text": [
            "Austria:<br> 1"
           ],
           "type": "scatter",
           "x": [
            0.1736481785774231
           ],
           "y": [
            -0.9848077297210693
           ]
          },
          {
           "marker": {
            "size": [
             198
            ],
            "sizemode": "area",
            "sizeref": 0.05
           },
           "mode": "markers+text",
           "name": "Portugal",
           "text": [
            "Portugal:<br> 2"
           ],
           "type": "scatter",
           "x": [
            0.7660443782806396
           ],
           "y": [
            -0.642787754535675
           ]
          }
         ],
         "name": "2017-03-23"
        },
        {
         "data": [
          {
           "marker": {
            "size": [
             197
            ],
            "sizemode": "area",
            "sizeref": 0.05
           },
           "mode": "markers+text",
           "name": "United States",
           "text": [
            "United States:<br> 3"
           ],
           "type": "scatter",
           "x": [
            1
           ],
           "y": [
            6.622738357719982e-09
           ]
          },
          {
           "marker": {
            "size": [
             199
            ],
            "sizemode": "area",
            "sizeref": 0.05
           },
           "mode": "markers+text",
           "name": "Switzerland",
           "text": [
            "Switzerland:<br> 1"
           ],
           "type": "scatter",
           "x": [
            0.7660444974899292
           ],
           "y": [
            0.6427875757217407
           ]
          },
          {
           "marker": {
            "size": [
             199
            ],
            "sizemode": "area",
            "sizeref": 0.05
           },
           "mode": "markers+text",
           "name": "Hungary",
           "text": [
            "Hungary:<br> 1"
           ],
           "type": "scatter",
           "x": [
            0.17364825308322906
           ],
           "y": [
            0.9848077297210693
           ]
          },
          {
           "marker": {
            "size": [
             198
            ],
            "sizemode": "area",
            "sizeref": 0.05
           },
           "mode": "markers+text",
           "name": "Peru",
           "text": [
            "Peru:<br> 2"
           ],
           "type": "scatter",
           "x": [
            -0.5
           ],
           "y": [
            0.8660253882408142
           ]
          },
          {
           "marker": {
            "size": [
             199
            ],
            "sizemode": "area",
            "sizeref": 0.05
           },
           "mode": "markers+text",
           "name": "Malaysia",
           "text": [
            "Malaysia:<br> 1"
           ],
           "type": "scatter",
           "x": [
            -0.9396925568580627
           ],
           "y": [
            0.3420202136039734
           ]
          },
          {
           "marker": {
            "size": [
             198
            ],
            "sizemode": "area",
            "sizeref": 0.05
           },
           "mode": "markers+text",
           "name": "Denmark",
           "text": [
            "Denmark:<br> 2"
           ],
           "type": "scatter",
           "x": [
            -0.9396925568580627
           ],
           "y": [
            -0.3420201539993286
           ]
          },
          {
           "marker": {
            "size": [
             197
            ],
            "sizemode": "area",
            "sizeref": 0.05
           },
           "mode": "markers+text",
           "name": "Bolivia",
           "text": [
            "Bolivia:<br> 3"
           ],
           "type": "scatter",
           "x": [
            -0.49999988079071045
           ],
           "y": [
            -0.866025447845459
           ]
          },
          {
           "marker": {
            "size": [
             199
            ],
            "sizemode": "area",
            "sizeref": 0.05
           },
           "mode": "markers+text",
           "name": "Austria",
           "text": [
            "Austria:<br> 1"
           ],
           "type": "scatter",
           "x": [
            0.1736481785774231
           ],
           "y": [
            -0.9848077297210693
           ]
          },
          {
           "marker": {
            "size": [
             198
            ],
            "sizemode": "area",
            "sizeref": 0.05
           },
           "mode": "markers+text",
           "name": "Portugal",
           "text": [
            "Portugal:<br> 2"
           ],
           "type": "scatter",
           "x": [
            0.7660443782806396
           ],
           "y": [
            -0.642787754535675
           ]
          }
         ],
         "name": "2017-03-24"
        },
        {
         "data": [
          {
           "marker": {
            "size": [
             197
            ],
            "sizemode": "area",
            "sizeref": 0.05
           },
           "mode": "markers+text",
           "name": "United States",
           "text": [
            "United States:<br> 3"
           ],
           "type": "scatter",
           "x": [
            1
           ],
           "y": [
            6.622738357719982e-09
           ]
          },
          {
           "marker": {
            "size": [
             199
            ],
            "sizemode": "area",
            "sizeref": 0.05
           },
           "mode": "markers+text",
           "name": "Switzerland",
           "text": [
            "Switzerland:<br> 1"
           ],
           "type": "scatter",
           "x": [
            0.7660444974899292
           ],
           "y": [
            0.6427875757217407
           ]
          },
          {
           "marker": {
            "size": [
             199
            ],
            "sizemode": "area",
            "sizeref": 0.05
           },
           "mode": "markers+text",
           "name": "Hungary",
           "text": [
            "Hungary:<br> 1"
           ],
           "type": "scatter",
           "x": [
            0.17364825308322906
           ],
           "y": [
            0.9848077297210693
           ]
          },
          {
           "marker": {
            "size": [
             198
            ],
            "sizemode": "area",
            "sizeref": 0.05
           },
           "mode": "markers+text",
           "name": "Peru",
           "text": [
            "Peru:<br> 2"
           ],
           "type": "scatter",
           "x": [
            -0.5
           ],
           "y": [
            0.8660253882408142
           ]
          },
          {
           "marker": {
            "size": [
             199
            ],
            "sizemode": "area",
            "sizeref": 0.05
           },
           "mode": "markers+text",
           "name": "Malaysia",
           "text": [
            "Malaysia:<br> 1"
           ],
           "type": "scatter",
           "x": [
            -0.9396925568580627
           ],
           "y": [
            0.3420202136039734
           ]
          },
          {
           "marker": {
            "size": [
             198
            ],
            "sizemode": "area",
            "sizeref": 0.05
           },
           "mode": "markers+text",
           "name": "Denmark",
           "text": [
            "Denmark:<br> 2"
           ],
           "type": "scatter",
           "x": [
            -0.9396925568580627
           ],
           "y": [
            -0.3420201539993286
           ]
          },
          {
           "marker": {
            "size": [
             197
            ],
            "sizemode": "area",
            "sizeref": 0.05
           },
           "mode": "markers+text",
           "name": "Bolivia",
           "text": [
            "Bolivia:<br> 3"
           ],
           "type": "scatter",
           "x": [
            -0.49999988079071045
           ],
           "y": [
            -0.866025447845459
           ]
          },
          {
           "marker": {
            "size": [
             199
            ],
            "sizemode": "area",
            "sizeref": 0.05
           },
           "mode": "markers+text",
           "name": "Austria",
           "text": [
            "Austria:<br> 1"
           ],
           "type": "scatter",
           "x": [
            0.1736481785774231
           ],
           "y": [
            -0.9848077297210693
           ]
          },
          {
           "marker": {
            "size": [
             198
            ],
            "sizemode": "area",
            "sizeref": 0.05
           },
           "mode": "markers+text",
           "name": "Portugal",
           "text": [
            "Portugal:<br> 2"
           ],
           "type": "scatter",
           "x": [
            0.7660443782806396
           ],
           "y": [
            -0.642787754535675
           ]
          }
         ],
         "name": "2017-03-25"
        },
        {
         "data": [
          {
           "marker": {
            "size": [
             197
            ],
            "sizemode": "area",
            "sizeref": 0.05
           },
           "mode": "markers+text",
           "name": "United States",
           "text": [
            "United States:<br> 3"
           ],
           "type": "scatter",
           "x": [
            1
           ],
           "y": [
            6.622738357719982e-09
           ]
          },
          {
           "marker": {
            "size": [
             199
            ],
            "sizemode": "area",
            "sizeref": 0.05
           },
           "mode": "markers+text",
           "name": "Switzerland",
           "text": [
            "Switzerland:<br> 1"
           ],
           "type": "scatter",
           "x": [
            0.7660444974899292
           ],
           "y": [
            0.6427875757217407
           ]
          },
          {
           "marker": {
            "size": [
             199
            ],
            "sizemode": "area",
            "sizeref": 0.05
           },
           "mode": "markers+text",
           "name": "Hungary",
           "text": [
            "Hungary:<br> 1"
           ],
           "type": "scatter",
           "x": [
            0.17364825308322906
           ],
           "y": [
            0.9848077297210693
           ]
          },
          {
           "marker": {
            "size": [
             198
            ],
            "sizemode": "area",
            "sizeref": 0.05
           },
           "mode": "markers+text",
           "name": "Peru",
           "text": [
            "Peru:<br> 2"
           ],
           "type": "scatter",
           "x": [
            -0.5
           ],
           "y": [
            0.8660253882408142
           ]
          },
          {
           "marker": {
            "size": [
             199
            ],
            "sizemode": "area",
            "sizeref": 0.05
           },
           "mode": "markers+text",
           "name": "Malaysia",
           "text": [
            "Malaysia:<br> 1"
           ],
           "type": "scatter",
           "x": [
            -0.9396925568580627
           ],
           "y": [
            0.3420202136039734
           ]
          },
          {
           "marker": {
            "size": [
             198
            ],
            "sizemode": "area",
            "sizeref": 0.05
           },
           "mode": "markers+text",
           "name": "Denmark",
           "text": [
            "Denmark:<br> 2"
           ],
           "type": "scatter",
           "x": [
            -0.9396925568580627
           ],
           "y": [
            -0.3420201539993286
           ]
          },
          {
           "marker": {
            "size": [
             197
            ],
            "sizemode": "area",
            "sizeref": 0.05
           },
           "mode": "markers+text",
           "name": "Bolivia",
           "text": [
            "Bolivia:<br> 3"
           ],
           "type": "scatter",
           "x": [
            -0.49999988079071045
           ],
           "y": [
            -0.866025447845459
           ]
          },
          {
           "marker": {
            "size": [
             199
            ],
            "sizemode": "area",
            "sizeref": 0.05
           },
           "mode": "markers+text",
           "name": "Austria",
           "text": [
            "Austria:<br> 1"
           ],
           "type": "scatter",
           "x": [
            0.1736481785774231
           ],
           "y": [
            -0.9848077297210693
           ]
          },
          {
           "marker": {
            "size": [
             198
            ],
            "sizemode": "area",
            "sizeref": 0.05
           },
           "mode": "markers+text",
           "name": "Portugal",
           "text": [
            "Portugal:<br> 2"
           ],
           "type": "scatter",
           "x": [
            0.7660443782806396
           ],
           "y": [
            -0.642787754535675
           ]
          }
         ],
         "name": "2017-03-26"
        },
        {
         "data": [
          {
           "marker": {
            "size": [
             196
            ],
            "sizemode": "area",
            "sizeref": 0.05
           },
           "mode": "markers+text",
           "name": "United States",
           "text": [
            "United States:<br> 4"
           ],
           "type": "scatter",
           "x": [
            1
           ],
           "y": [
            6.622738357719982e-09
           ]
          },
          {
           "marker": {
            "size": [
             199
            ],
            "sizemode": "area",
            "sizeref": 0.05
           },
           "mode": "markers+text",
           "name": "Switzerland",
           "text": [
            "Switzerland:<br> 1"
           ],
           "type": "scatter",
           "x": [
            0.7660444974899292
           ],
           "y": [
            0.6427875757217407
           ]
          },
          {
           "marker": {
            "size": [
             199
            ],
            "sizemode": "area",
            "sizeref": 0.05
           },
           "mode": "markers+text",
           "name": "Hungary",
           "text": [
            "Hungary:<br> 1"
           ],
           "type": "scatter",
           "x": [
            0.17364825308322906
           ],
           "y": [
            0.9848077297210693
           ]
          },
          {
           "marker": {
            "size": [
             198
            ],
            "sizemode": "area",
            "sizeref": 0.05
           },
           "mode": "markers+text",
           "name": "Peru",
           "text": [
            "Peru:<br> 2"
           ],
           "type": "scatter",
           "x": [
            -0.5
           ],
           "y": [
            0.8660253882408142
           ]
          },
          {
           "marker": {
            "size": [
             199
            ],
            "sizemode": "area",
            "sizeref": 0.05
           },
           "mode": "markers+text",
           "name": "Malaysia",
           "text": [
            "Malaysia:<br> 1"
           ],
           "type": "scatter",
           "x": [
            -0.9396925568580627
           ],
           "y": [
            0.3420202136039734
           ]
          },
          {
           "marker": {
            "size": [
             197
            ],
            "sizemode": "area",
            "sizeref": 0.05
           },
           "mode": "markers+text",
           "name": "Denmark",
           "text": [
            "Denmark:<br> 3"
           ],
           "type": "scatter",
           "x": [
            -0.9396925568580627
           ],
           "y": [
            -0.3420201539993286
           ]
          },
          {
           "marker": {
            "size": [
             197
            ],
            "sizemode": "area",
            "sizeref": 0.05
           },
           "mode": "markers+text",
           "name": "Bolivia",
           "text": [
            "Bolivia:<br> 3"
           ],
           "type": "scatter",
           "x": [
            -0.49999988079071045
           ],
           "y": [
            -0.866025447845459
           ]
          },
          {
           "marker": {
            "size": [
             199
            ],
            "sizemode": "area",
            "sizeref": 0.05
           },
           "mode": "markers+text",
           "name": "Austria",
           "text": [
            "Austria:<br> 1"
           ],
           "type": "scatter",
           "x": [
            0.1736481785774231
           ],
           "y": [
            -0.9848077297210693
           ]
          },
          {
           "marker": {
            "size": [
             198
            ],
            "sizemode": "area",
            "sizeref": 0.05
           },
           "mode": "markers+text",
           "name": "Portugal",
           "text": [
            "Portugal:<br> 2"
           ],
           "type": "scatter",
           "x": [
            0.7660443782806396
           ],
           "y": [
            -0.642787754535675
           ]
          }
         ],
         "name": "2017-03-27"
        },
        {
         "data": [
          {
           "marker": {
            "size": [
             197
            ],
            "sizemode": "area",
            "sizeref": 0.05
           },
           "mode": "markers+text",
           "name": "United States",
           "text": [
            "United States:<br> 3"
           ],
           "type": "scatter",
           "x": [
            1
           ],
           "y": [
            6.622738357719982e-09
           ]
          },
          {
           "marker": {
            "size": [
             199
            ],
            "sizemode": "area",
            "sizeref": 0.05
           },
           "mode": "markers+text",
           "name": "Switzerland",
           "text": [
            "Switzerland:<br> 1"
           ],
           "type": "scatter",
           "x": [
            0.7660444974899292
           ],
           "y": [
            0.6427875757217407
           ]
          },
          {
           "marker": {
            "size": [
             199
            ],
            "sizemode": "area",
            "sizeref": 0.05
           },
           "mode": "markers+text",
           "name": "Hungary",
           "text": [
            "Hungary:<br> 1"
           ],
           "type": "scatter",
           "x": [
            0.17364825308322906
           ],
           "y": [
            0.9848077297210693
           ]
          },
          {
           "marker": {
            "size": [
             198
            ],
            "sizemode": "area",
            "sizeref": 0.05
           },
           "mode": "markers+text",
           "name": "Peru",
           "text": [
            "Peru:<br> 2"
           ],
           "type": "scatter",
           "x": [
            -0.5
           ],
           "y": [
            0.8660253882408142
           ]
          },
          {
           "marker": {
            "size": [
             199
            ],
            "sizemode": "area",
            "sizeref": 0.05
           },
           "mode": "markers+text",
           "name": "Malaysia",
           "text": [
            "Malaysia:<br> 1"
           ],
           "type": "scatter",
           "x": [
            -0.9396925568580627
           ],
           "y": [
            0.3420202136039734
           ]
          },
          {
           "marker": {
            "size": [
             198
            ],
            "sizemode": "area",
            "sizeref": 0.05
           },
           "mode": "markers+text",
           "name": "Denmark",
           "text": [
            "Denmark:<br> 2"
           ],
           "type": "scatter",
           "x": [
            -0.9396925568580627
           ],
           "y": [
            -0.3420201539993286
           ]
          },
          {
           "marker": {
            "size": [
             197
            ],
            "sizemode": "area",
            "sizeref": 0.05
           },
           "mode": "markers+text",
           "name": "Bolivia",
           "text": [
            "Bolivia:<br> 3"
           ],
           "type": "scatter",
           "x": [
            -0.49999988079071045
           ],
           "y": [
            -0.866025447845459
           ]
          },
          {
           "marker": {
            "size": [
             199
            ],
            "sizemode": "area",
            "sizeref": 0.05
           },
           "mode": "markers+text",
           "name": "Austria",
           "text": [
            "Austria:<br> 1"
           ],
           "type": "scatter",
           "x": [
            0.1736481785774231
           ],
           "y": [
            -0.9848077297210693
           ]
          },
          {
           "marker": {
            "size": [
             198
            ],
            "sizemode": "area",
            "sizeref": 0.05
           },
           "mode": "markers+text",
           "name": "Portugal",
           "text": [
            "Portugal:<br> 2"
           ],
           "type": "scatter",
           "x": [
            0.7660443782806396
           ],
           "y": [
            -0.642787754535675
           ]
          }
         ],
         "name": "2017-03-28"
        },
        {
         "data": [
          {
           "marker": {
            "size": [
             197
            ],
            "sizemode": "area",
            "sizeref": 0.05
           },
           "mode": "markers+text",
           "name": "United States",
           "text": [
            "United States:<br> 3"
           ],
           "type": "scatter",
           "x": [
            1
           ],
           "y": [
            6.622738357719982e-09
           ]
          },
          {
           "marker": {
            "size": [
             199
            ],
            "sizemode": "area",
            "sizeref": 0.05
           },
           "mode": "markers+text",
           "name": "Switzerland",
           "text": [
            "Switzerland:<br> 1"
           ],
           "type": "scatter",
           "x": [
            0.7660444974899292
           ],
           "y": [
            0.6427875757217407
           ]
          },
          {
           "marker": {
            "size": [
             199
            ],
            "sizemode": "area",
            "sizeref": 0.05
           },
           "mode": "markers+text",
           "name": "Hungary",
           "text": [
            "Hungary:<br> 1"
           ],
           "type": "scatter",
           "x": [
            0.17364825308322906
           ],
           "y": [
            0.9848077297210693
           ]
          },
          {
           "marker": {
            "size": [
             198
            ],
            "sizemode": "area",
            "sizeref": 0.05
           },
           "mode": "markers+text",
           "name": "Peru",
           "text": [
            "Peru:<br> 2"
           ],
           "type": "scatter",
           "x": [
            -0.5
           ],
           "y": [
            0.8660253882408142
           ]
          },
          {
           "marker": {
            "size": [
             199
            ],
            "sizemode": "area",
            "sizeref": 0.05
           },
           "mode": "markers+text",
           "name": "Malaysia",
           "text": [
            "Malaysia:<br> 1"
           ],
           "type": "scatter",
           "x": [
            -0.9396925568580627
           ],
           "y": [
            0.3420202136039734
           ]
          },
          {
           "marker": {
            "size": [
             198
            ],
            "sizemode": "area",
            "sizeref": 0.05
           },
           "mode": "markers+text",
           "name": "Denmark",
           "text": [
            "Denmark:<br> 2"
           ],
           "type": "scatter",
           "x": [
            -0.9396925568580627
           ],
           "y": [
            -0.3420201539993286
           ]
          },
          {
           "marker": {
            "size": [
             197
            ],
            "sizemode": "area",
            "sizeref": 0.05
           },
           "mode": "markers+text",
           "name": "Bolivia",
           "text": [
            "Bolivia:<br> 3"
           ],
           "type": "scatter",
           "x": [
            -0.49999988079071045
           ],
           "y": [
            -0.866025447845459
           ]
          },
          {
           "marker": {
            "size": [
             199
            ],
            "sizemode": "area",
            "sizeref": 0.05
           },
           "mode": "markers+text",
           "name": "Austria",
           "text": [
            "Austria:<br> 1"
           ],
           "type": "scatter",
           "x": [
            0.1736481785774231
           ],
           "y": [
            -0.9848077297210693
           ]
          },
          {
           "marker": {
            "size": [
             198
            ],
            "sizemode": "area",
            "sizeref": 0.05
           },
           "mode": "markers+text",
           "name": "Portugal",
           "text": [
            "Portugal:<br> 2"
           ],
           "type": "scatter",
           "x": [
            0.7660443782806396
           ],
           "y": [
            -0.642787754535675
           ]
          }
         ],
         "name": "2017-03-29"
        },
        {
         "data": [
          {
           "marker": {
            "size": [
             197
            ],
            "sizemode": "area",
            "sizeref": 0.05
           },
           "mode": "markers+text",
           "name": "United States",
           "text": [
            "United States:<br> 3"
           ],
           "type": "scatter",
           "x": [
            1
           ],
           "y": [
            6.622738357719982e-09
           ]
          },
          {
           "marker": {
            "size": [
             199
            ],
            "sizemode": "area",
            "sizeref": 0.05
           },
           "mode": "markers+text",
           "name": "Switzerland",
           "text": [
            "Switzerland:<br> 1"
           ],
           "type": "scatter",
           "x": [
            0.7660444974899292
           ],
           "y": [
            0.6427875757217407
           ]
          },
          {
           "marker": {
            "size": [
             199
            ],
            "sizemode": "area",
            "sizeref": 0.05
           },
           "mode": "markers+text",
           "name": "Hungary",
           "text": [
            "Hungary:<br> 1"
           ],
           "type": "scatter",
           "x": [
            0.17364825308322906
           ],
           "y": [
            0.9848077297210693
           ]
          },
          {
           "marker": {
            "size": [
             198
            ],
            "sizemode": "area",
            "sizeref": 0.05
           },
           "mode": "markers+text",
           "name": "Peru",
           "text": [
            "Peru:<br> 2"
           ],
           "type": "scatter",
           "x": [
            -0.5
           ],
           "y": [
            0.8660253882408142
           ]
          },
          {
           "marker": {
            "size": [
             199
            ],
            "sizemode": "area",
            "sizeref": 0.05
           },
           "mode": "markers+text",
           "name": "Malaysia",
           "text": [
            "Malaysia:<br> 1"
           ],
           "type": "scatter",
           "x": [
            -0.9396925568580627
           ],
           "y": [
            0.3420202136039734
           ]
          },
          {
           "marker": {
            "size": [
             198
            ],
            "sizemode": "area",
            "sizeref": 0.05
           },
           "mode": "markers+text",
           "name": "Denmark",
           "text": [
            "Denmark:<br> 2"
           ],
           "type": "scatter",
           "x": [
            -0.9396925568580627
           ],
           "y": [
            -0.3420201539993286
           ]
          },
          {
           "marker": {
            "size": [
             197
            ],
            "sizemode": "area",
            "sizeref": 0.05
           },
           "mode": "markers+text",
           "name": "Bolivia",
           "text": [
            "Bolivia:<br> 3"
           ],
           "type": "scatter",
           "x": [
            -0.49999988079071045
           ],
           "y": [
            -0.866025447845459
           ]
          },
          {
           "marker": {
            "size": [
             199
            ],
            "sizemode": "area",
            "sizeref": 0.05
           },
           "mode": "markers+text",
           "name": "Austria",
           "text": [
            "Austria:<br> 1"
           ],
           "type": "scatter",
           "x": [
            0.1736481785774231
           ],
           "y": [
            -0.9848077297210693
           ]
          },
          {
           "marker": {
            "size": [
             198
            ],
            "sizemode": "area",
            "sizeref": 0.05
           },
           "mode": "markers+text",
           "name": "Portugal",
           "text": [
            "Portugal:<br> 2"
           ],
           "type": "scatter",
           "x": [
            0.7660443782806396
           ],
           "y": [
            -0.642787754535675
           ]
          }
         ],
         "name": "2017-03-30"
        },
        {
         "data": [
          {
           "marker": {
            "size": [
             196
            ],
            "sizemode": "area",
            "sizeref": 0.05
           },
           "mode": "markers+text",
           "name": "United States",
           "text": [
            "United States:<br> 4"
           ],
           "type": "scatter",
           "x": [
            1
           ],
           "y": [
            6.622738357719982e-09
           ]
          },
          {
           "marker": {
            "size": [
             199
            ],
            "sizemode": "area",
            "sizeref": 0.05
           },
           "mode": "markers+text",
           "name": "Switzerland",
           "text": [
            "Switzerland:<br> 1"
           ],
           "type": "scatter",
           "x": [
            0.7660444974899292
           ],
           "y": [
            0.6427875757217407
           ]
          },
          {
           "marker": {
            "size": [
             199
            ],
            "sizemode": "area",
            "sizeref": 0.05
           },
           "mode": "markers+text",
           "name": "Hungary",
           "text": [
            "Hungary:<br> 1"
           ],
           "type": "scatter",
           "x": [
            0.17364825308322906
           ],
           "y": [
            0.9848077297210693
           ]
          },
          {
           "marker": {
            "size": [
             198
            ],
            "sizemode": "area",
            "sizeref": 0.05
           },
           "mode": "markers+text",
           "name": "Peru",
           "text": [
            "Peru:<br> 2"
           ],
           "type": "scatter",
           "x": [
            -0.5
           ],
           "y": [
            0.8660253882408142
           ]
          },
          {
           "marker": {
            "size": [
             199
            ],
            "sizemode": "area",
            "sizeref": 0.05
           },
           "mode": "markers+text",
           "name": "Malaysia",
           "text": [
            "Malaysia:<br> 1"
           ],
           "type": "scatter",
           "x": [
            -0.9396925568580627
           ],
           "y": [
            0.3420202136039734
           ]
          },
          {
           "marker": {
            "size": [
             198
            ],
            "sizemode": "area",
            "sizeref": 0.05
           },
           "mode": "markers+text",
           "name": "Denmark",
           "text": [
            "Denmark:<br> 2"
           ],
           "type": "scatter",
           "x": [
            -0.9396925568580627
           ],
           "y": [
            -0.3420201539993286
           ]
          },
          {
           "marker": {
            "size": [
             197
            ],
            "sizemode": "area",
            "sizeref": 0.05
           },
           "mode": "markers+text",
           "name": "Bolivia",
           "text": [
            "Bolivia:<br> 3"
           ],
           "type": "scatter",
           "x": [
            -0.49999988079071045
           ],
           "y": [
            -0.866025447845459
           ]
          },
          {
           "marker": {
            "size": [
             199
            ],
            "sizemode": "area",
            "sizeref": 0.05
           },
           "mode": "markers+text",
           "name": "Austria",
           "text": [
            "Austria:<br> 1"
           ],
           "type": "scatter",
           "x": [
            0.1736481785774231
           ],
           "y": [
            -0.9848077297210693
           ]
          },
          {
           "marker": {
            "size": [
             198
            ],
            "sizemode": "area",
            "sizeref": 0.05
           },
           "mode": "markers+text",
           "name": "Portugal",
           "text": [
            "Portugal:<br> 2"
           ],
           "type": "scatter",
           "x": [
            0.7660443782806396
           ],
           "y": [
            -0.642787754535675
           ]
          }
         ],
         "name": "2017-03-31"
        },
        {
         "data": [
          {
           "marker": {
            "size": [
             196
            ],
            "sizemode": "area",
            "sizeref": 0.05
           },
           "mode": "markers+text",
           "name": "United States",
           "text": [
            "United States:<br> 4"
           ],
           "type": "scatter",
           "x": [
            1
           ],
           "y": [
            6.622738357719982e-09
           ]
          },
          {
           "marker": {
            "size": [
             199
            ],
            "sizemode": "area",
            "sizeref": 0.05
           },
           "mode": "markers+text",
           "name": "Switzerland",
           "text": [
            "Switzerland:<br> 1"
           ],
           "type": "scatter",
           "x": [
            0.7660444974899292
           ],
           "y": [
            0.6427875757217407
           ]
          },
          {
           "marker": {
            "size": [
             199
            ],
            "sizemode": "area",
            "sizeref": 0.05
           },
           "mode": "markers+text",
           "name": "Hungary",
           "text": [
            "Hungary:<br> 1"
           ],
           "type": "scatter",
           "x": [
            0.17364825308322906
           ],
           "y": [
            0.9848077297210693
           ]
          },
          {
           "marker": {
            "size": [
             198
            ],
            "sizemode": "area",
            "sizeref": 0.05
           },
           "mode": "markers+text",
           "name": "Peru",
           "text": [
            "Peru:<br> 2"
           ],
           "type": "scatter",
           "x": [
            -0.5
           ],
           "y": [
            0.8660253882408142
           ]
          },
          {
           "marker": {
            "size": [
             199
            ],
            "sizemode": "area",
            "sizeref": 0.05
           },
           "mode": "markers+text",
           "name": "Malaysia",
           "text": [
            "Malaysia:<br> 1"
           ],
           "type": "scatter",
           "x": [
            -0.9396925568580627
           ],
           "y": [
            0.3420202136039734
           ]
          },
          {
           "marker": {
            "size": [
             199
            ],
            "sizemode": "area",
            "sizeref": 0.05
           },
           "mode": "markers+text",
           "name": "Denmark",
           "text": [
            "Denmark:<br> 1"
           ],
           "type": "scatter",
           "x": [
            -0.9396925568580627
           ],
           "y": [
            -0.3420201539993286
           ]
          },
          {
           "marker": {
            "size": [
             197
            ],
            "sizemode": "area",
            "sizeref": 0.05
           },
           "mode": "markers+text",
           "name": "Bolivia",
           "text": [
            "Bolivia:<br> 3"
           ],
           "type": "scatter",
           "x": [
            -0.49999988079071045
           ],
           "y": [
            -0.866025447845459
           ]
          },
          {
           "marker": {
            "size": [
             199
            ],
            "sizemode": "area",
            "sizeref": 0.05
           },
           "mode": "markers+text",
           "name": "Austria",
           "text": [
            "Austria:<br> 1"
           ],
           "type": "scatter",
           "x": [
            0.1736481785774231
           ],
           "y": [
            -0.9848077297210693
           ]
          },
          {
           "marker": {
            "size": [
             198
            ],
            "sizemode": "area",
            "sizeref": 0.05
           },
           "mode": "markers+text",
           "name": "Portugal",
           "text": [
            "Portugal:<br> 2"
           ],
           "type": "scatter",
           "x": [
            0.7660443782806396
           ],
           "y": [
            -0.642787754535675
           ]
          }
         ],
         "name": "2017-04-01"
        },
        {
         "data": [
          {
           "marker": {
            "size": [
             196
            ],
            "sizemode": "area",
            "sizeref": 0.05
           },
           "mode": "markers+text",
           "name": "United States",
           "text": [
            "United States:<br> 4"
           ],
           "type": "scatter",
           "x": [
            1
           ],
           "y": [
            6.622738357719982e-09
           ]
          },
          {
           "marker": {
            "size": [
             199
            ],
            "sizemode": "area",
            "sizeref": 0.05
           },
           "mode": "markers+text",
           "name": "Switzerland",
           "text": [
            "Switzerland:<br> 1"
           ],
           "type": "scatter",
           "x": [
            0.7660444974899292
           ],
           "y": [
            0.6427875757217407
           ]
          },
          {
           "marker": {
            "size": [
             199
            ],
            "sizemode": "area",
            "sizeref": 0.05
           },
           "mode": "markers+text",
           "name": "Hungary",
           "text": [
            "Hungary:<br> 1"
           ],
           "type": "scatter",
           "x": [
            0.17364825308322906
           ],
           "y": [
            0.9848077297210693
           ]
          },
          {
           "marker": {
            "size": [
             198
            ],
            "sizemode": "area",
            "sizeref": 0.05
           },
           "mode": "markers+text",
           "name": "Peru",
           "text": [
            "Peru:<br> 2"
           ],
           "type": "scatter",
           "x": [
            -0.5
           ],
           "y": [
            0.8660253882408142
           ]
          },
          {
           "marker": {
            "size": [
             199
            ],
            "sizemode": "area",
            "sizeref": 0.05
           },
           "mode": "markers+text",
           "name": "Malaysia",
           "text": [
            "Malaysia:<br> 1"
           ],
           "type": "scatter",
           "x": [
            -0.9396925568580627
           ],
           "y": [
            0.3420202136039734
           ]
          },
          {
           "marker": {
            "size": [
             199
            ],
            "sizemode": "area",
            "sizeref": 0.05
           },
           "mode": "markers+text",
           "name": "Denmark",
           "text": [
            "Denmark:<br> 1"
           ],
           "type": "scatter",
           "x": [
            -0.9396925568580627
           ],
           "y": [
            -0.3420201539993286
           ]
          },
          {
           "marker": {
            "size": [
             197
            ],
            "sizemode": "area",
            "sizeref": 0.05
           },
           "mode": "markers+text",
           "name": "Bolivia",
           "text": [
            "Bolivia:<br> 3"
           ],
           "type": "scatter",
           "x": [
            -0.49999988079071045
           ],
           "y": [
            -0.866025447845459
           ]
          },
          {
           "marker": {
            "size": [
             199
            ],
            "sizemode": "area",
            "sizeref": 0.05
           },
           "mode": "markers+text",
           "name": "Austria",
           "text": [
            "Austria:<br> 1"
           ],
           "type": "scatter",
           "x": [
            0.1736481785774231
           ],
           "y": [
            -0.9848077297210693
           ]
          },
          {
           "marker": {
            "size": [
             198
            ],
            "sizemode": "area",
            "sizeref": 0.05
           },
           "mode": "markers+text",
           "name": "Portugal",
           "text": [
            "Portugal:<br> 2"
           ],
           "type": "scatter",
           "x": [
            0.7660443782806396
           ],
           "y": [
            -0.642787754535675
           ]
          }
         ],
         "name": "2017-04-02"
        },
        {
         "data": [
          {
           "marker": {
            "size": [
             196
            ],
            "sizemode": "area",
            "sizeref": 0.05
           },
           "mode": "markers+text",
           "name": "United States",
           "text": [
            "United States:<br> 4"
           ],
           "type": "scatter",
           "x": [
            1
           ],
           "y": [
            6.622738357719982e-09
           ]
          },
          {
           "marker": {
            "size": [
             199
            ],
            "sizemode": "area",
            "sizeref": 0.05
           },
           "mode": "markers+text",
           "name": "Switzerland",
           "text": [
            "Switzerland:<br> 1"
           ],
           "type": "scatter",
           "x": [
            0.7660444974899292
           ],
           "y": [
            0.6427875757217407
           ]
          },
          {
           "marker": {
            "size": [
             199
            ],
            "sizemode": "area",
            "sizeref": 0.05
           },
           "mode": "markers+text",
           "name": "Hungary",
           "text": [
            "Hungary:<br> 1"
           ],
           "type": "scatter",
           "x": [
            0.17364825308322906
           ],
           "y": [
            0.9848077297210693
           ]
          },
          {
           "marker": {
            "size": [
             198
            ],
            "sizemode": "area",
            "sizeref": 0.05
           },
           "mode": "markers+text",
           "name": "Peru",
           "text": [
            "Peru:<br> 2"
           ],
           "type": "scatter",
           "x": [
            -0.5
           ],
           "y": [
            0.8660253882408142
           ]
          },
          {
           "marker": {
            "size": [
             199
            ],
            "sizemode": "area",
            "sizeref": 0.05
           },
           "mode": "markers+text",
           "name": "Malaysia",
           "text": [
            "Malaysia:<br> 1"
           ],
           "type": "scatter",
           "x": [
            -0.9396925568580627
           ],
           "y": [
            0.3420202136039734
           ]
          },
          {
           "marker": {
            "size": [
             199
            ],
            "sizemode": "area",
            "sizeref": 0.05
           },
           "mode": "markers+text",
           "name": "Denmark",
           "text": [
            "Denmark:<br> 1"
           ],
           "type": "scatter",
           "x": [
            -0.9396925568580627
           ],
           "y": [
            -0.3420201539993286
           ]
          },
          {
           "marker": {
            "size": [
             197
            ],
            "sizemode": "area",
            "sizeref": 0.05
           },
           "mode": "markers+text",
           "name": "Bolivia",
           "text": [
            "Bolivia:<br> 3"
           ],
           "type": "scatter",
           "x": [
            -0.49999988079071045
           ],
           "y": [
            -0.866025447845459
           ]
          },
          {
           "marker": {
            "size": [
             199
            ],
            "sizemode": "area",
            "sizeref": 0.05
           },
           "mode": "markers+text",
           "name": "Austria",
           "text": [
            "Austria:<br> 1"
           ],
           "type": "scatter",
           "x": [
            0.1736481785774231
           ],
           "y": [
            -0.9848077297210693
           ]
          },
          {
           "marker": {
            "size": [
             198
            ],
            "sizemode": "area",
            "sizeref": 0.05
           },
           "mode": "markers+text",
           "name": "Portugal",
           "text": [
            "Portugal:<br> 2"
           ],
           "type": "scatter",
           "x": [
            0.7660443782806396
           ],
           "y": [
            -0.642787754535675
           ]
          }
         ],
         "name": "2017-04-03"
        },
        {
         "data": [
          {
           "marker": {
            "size": [
             196
            ],
            "sizemode": "area",
            "sizeref": 0.05
           },
           "mode": "markers+text",
           "name": "United States",
           "text": [
            "United States:<br> 4"
           ],
           "type": "scatter",
           "x": [
            1
           ],
           "y": [
            6.622738357719982e-09
           ]
          },
          {
           "marker": {
            "size": [
             199
            ],
            "sizemode": "area",
            "sizeref": 0.05
           },
           "mode": "markers+text",
           "name": "Switzerland",
           "text": [
            "Switzerland:<br> 1"
           ],
           "type": "scatter",
           "x": [
            0.7660444974899292
           ],
           "y": [
            0.6427875757217407
           ]
          },
          {
           "marker": {
            "size": [
             199
            ],
            "sizemode": "area",
            "sizeref": 0.05
           },
           "mode": "markers+text",
           "name": "Hungary",
           "text": [
            "Hungary:<br> 1"
           ],
           "type": "scatter",
           "x": [
            0.17364825308322906
           ],
           "y": [
            0.9848077297210693
           ]
          },
          {
           "marker": {
            "size": [
             198
            ],
            "sizemode": "area",
            "sizeref": 0.05
           },
           "mode": "markers+text",
           "name": "Peru",
           "text": [
            "Peru:<br> 2"
           ],
           "type": "scatter",
           "x": [
            -0.5
           ],
           "y": [
            0.8660253882408142
           ]
          },
          {
           "marker": {
            "size": [
             199
            ],
            "sizemode": "area",
            "sizeref": 0.05
           },
           "mode": "markers+text",
           "name": "Malaysia",
           "text": [
            "Malaysia:<br> 1"
           ],
           "type": "scatter",
           "x": [
            -0.9396925568580627
           ],
           "y": [
            0.3420202136039734
           ]
          },
          {
           "marker": {
            "size": [
             198
            ],
            "sizemode": "area",
            "sizeref": 0.05
           },
           "mode": "markers+text",
           "name": "Denmark",
           "text": [
            "Denmark:<br> 2"
           ],
           "type": "scatter",
           "x": [
            -0.9396925568580627
           ],
           "y": [
            -0.3420201539993286
           ]
          },
          {
           "marker": {
            "size": [
             197
            ],
            "sizemode": "area",
            "sizeref": 0.05
           },
           "mode": "markers+text",
           "name": "Bolivia",
           "text": [
            "Bolivia:<br> 3"
           ],
           "type": "scatter",
           "x": [
            -0.49999988079071045
           ],
           "y": [
            -0.866025447845459
           ]
          },
          {
           "marker": {
            "size": [
             199
            ],
            "sizemode": "area",
            "sizeref": 0.05
           },
           "mode": "markers+text",
           "name": "Austria",
           "text": [
            "Austria:<br> 1"
           ],
           "type": "scatter",
           "x": [
            0.1736481785774231
           ],
           "y": [
            -0.9848077297210693
           ]
          },
          {
           "marker": {
            "size": [
             198
            ],
            "sizemode": "area",
            "sizeref": 0.05
           },
           "mode": "markers+text",
           "name": "Portugal",
           "text": [
            "Portugal:<br> 2"
           ],
           "type": "scatter",
           "x": [
            0.7660443782806396
           ],
           "y": [
            -0.642787754535675
           ]
          }
         ],
         "name": "2017-04-04"
        },
        {
         "data": [
          {
           "marker": {
            "size": [
             196
            ],
            "sizemode": "area",
            "sizeref": 0.05
           },
           "mode": "markers+text",
           "name": "United States",
           "text": [
            "United States:<br> 4"
           ],
           "type": "scatter",
           "x": [
            1
           ],
           "y": [
            6.622738357719982e-09
           ]
          },
          {
           "marker": {
            "size": [
             199
            ],
            "sizemode": "area",
            "sizeref": 0.05
           },
           "mode": "markers+text",
           "name": "Switzerland",
           "text": [
            "Switzerland:<br> 1"
           ],
           "type": "scatter",
           "x": [
            0.7660444974899292
           ],
           "y": [
            0.6427875757217407
           ]
          },
          {
           "marker": {
            "size": [
             199
            ],
            "sizemode": "area",
            "sizeref": 0.05
           },
           "mode": "markers+text",
           "name": "Hungary",
           "text": [
            "Hungary:<br> 1"
           ],
           "type": "scatter",
           "x": [
            0.17364825308322906
           ],
           "y": [
            0.9848077297210693
           ]
          },
          {
           "marker": {
            "size": [
             198
            ],
            "sizemode": "area",
            "sizeref": 0.05
           },
           "mode": "markers+text",
           "name": "Peru",
           "text": [
            "Peru:<br> 2"
           ],
           "type": "scatter",
           "x": [
            -0.5
           ],
           "y": [
            0.8660253882408142
           ]
          },
          {
           "marker": {
            "size": [
             199
            ],
            "sizemode": "area",
            "sizeref": 0.05
           },
           "mode": "markers+text",
           "name": "Malaysia",
           "text": [
            "Malaysia:<br> 1"
           ],
           "type": "scatter",
           "x": [
            -0.9396925568580627
           ],
           "y": [
            0.3420202136039734
           ]
          },
          {
           "marker": {
            "size": [
             199
            ],
            "sizemode": "area",
            "sizeref": 0.05
           },
           "mode": "markers+text",
           "name": "Denmark",
           "text": [
            "Denmark:<br> 1"
           ],
           "type": "scatter",
           "x": [
            -0.9396925568580627
           ],
           "y": [
            -0.3420201539993286
           ]
          },
          {
           "marker": {
            "size": [
             197
            ],
            "sizemode": "area",
            "sizeref": 0.05
           },
           "mode": "markers+text",
           "name": "Bolivia",
           "text": [
            "Bolivia:<br> 3"
           ],
           "type": "scatter",
           "x": [
            -0.49999988079071045
           ],
           "y": [
            -0.866025447845459
           ]
          },
          {
           "marker": {
            "size": [
             199
            ],
            "sizemode": "area",
            "sizeref": 0.05
           },
           "mode": "markers+text",
           "name": "Austria",
           "text": [
            "Austria:<br> 1"
           ],
           "type": "scatter",
           "x": [
            0.1736481785774231
           ],
           "y": [
            -0.9848077297210693
           ]
          },
          {
           "marker": {
            "size": [
             199
            ],
            "sizemode": "area",
            "sizeref": 0.05
           },
           "mode": "markers+text",
           "name": "Portugal",
           "text": [
            "Portugal:<br> 1"
           ],
           "type": "scatter",
           "x": [
            0.7660443782806396
           ],
           "y": [
            -0.642787754535675
           ]
          }
         ],
         "name": "2017-04-05"
        },
        {
         "data": [
          {
           "marker": {
            "size": [
             195
            ],
            "sizemode": "area",
            "sizeref": 0.05
           },
           "mode": "markers+text",
           "name": "United States",
           "text": [
            "United States:<br> 5"
           ],
           "type": "scatter",
           "x": [
            1
           ],
           "y": [
            6.622738357719982e-09
           ]
          },
          {
           "marker": {
            "size": [
             199
            ],
            "sizemode": "area",
            "sizeref": 0.05
           },
           "mode": "markers+text",
           "name": "Switzerland",
           "text": [
            "Switzerland:<br> 1"
           ],
           "type": "scatter",
           "x": [
            0.7660444974899292
           ],
           "y": [
            0.6427875757217407
           ]
          },
          {
           "marker": {
            "size": [
             199
            ],
            "sizemode": "area",
            "sizeref": 0.05
           },
           "mode": "markers+text",
           "name": "Hungary",
           "text": [
            "Hungary:<br> 1"
           ],
           "type": "scatter",
           "x": [
            0.17364825308322906
           ],
           "y": [
            0.9848077297210693
           ]
          },
          {
           "marker": {
            "size": [
             197
            ],
            "sizemode": "area",
            "sizeref": 0.05
           },
           "mode": "markers+text",
           "name": "Peru",
           "text": [
            "Peru:<br> 3"
           ],
           "type": "scatter",
           "x": [
            -0.5
           ],
           "y": [
            0.8660253882408142
           ]
          },
          {
           "marker": {
            "size": [
             199
            ],
            "sizemode": "area",
            "sizeref": 0.05
           },
           "mode": "markers+text",
           "name": "Malaysia",
           "text": [
            "Malaysia:<br> 1"
           ],
           "type": "scatter",
           "x": [
            -0.9396925568580627
           ],
           "y": [
            0.3420202136039734
           ]
          },
          {
           "marker": {
            "size": [
             199
            ],
            "sizemode": "area",
            "sizeref": 0.05
           },
           "mode": "markers+text",
           "name": "Denmark",
           "text": [
            "Denmark:<br> 1"
           ],
           "type": "scatter",
           "x": [
            -0.9396925568580627
           ],
           "y": [
            -0.3420201539993286
           ]
          },
          {
           "marker": {
            "size": [
             197
            ],
            "sizemode": "area",
            "sizeref": 0.05
           },
           "mode": "markers+text",
           "name": "Bolivia",
           "text": [
            "Bolivia:<br> 3"
           ],
           "type": "scatter",
           "x": [
            -0.49999988079071045
           ],
           "y": [
            -0.866025447845459
           ]
          },
          {
           "marker": {
            "size": [
             199
            ],
            "sizemode": "area",
            "sizeref": 0.05
           },
           "mode": "markers+text",
           "name": "Austria",
           "text": [
            "Austria:<br> 1"
           ],
           "type": "scatter",
           "x": [
            0.1736481785774231
           ],
           "y": [
            -0.9848077297210693
           ]
          },
          {
           "marker": {
            "size": [
             198
            ],
            "sizemode": "area",
            "sizeref": 0.05
           },
           "mode": "markers+text",
           "name": "Portugal",
           "text": [
            "Portugal:<br> 2"
           ],
           "type": "scatter",
           "x": [
            0.7660443782806396
           ],
           "y": [
            -0.642787754535675
           ]
          }
         ],
         "name": "2017-04-06"
        },
        {
         "data": [
          {
           "marker": {
            "size": [
             195
            ],
            "sizemode": "area",
            "sizeref": 0.05
           },
           "mode": "markers+text",
           "name": "United States",
           "text": [
            "United States:<br> 5"
           ],
           "type": "scatter",
           "x": [
            1
           ],
           "y": [
            6.622738357719982e-09
           ]
          },
          {
           "marker": {
            "size": [
             199
            ],
            "sizemode": "area",
            "sizeref": 0.05
           },
           "mode": "markers+text",
           "name": "Switzerland",
           "text": [
            "Switzerland:<br> 1"
           ],
           "type": "scatter",
           "x": [
            0.7660444974899292
           ],
           "y": [
            0.6427875757217407
           ]
          },
          {
           "marker": {
            "size": [
             199
            ],
            "sizemode": "area",
            "sizeref": 0.05
           },
           "mode": "markers+text",
           "name": "Hungary",
           "text": [
            "Hungary:<br> 1"
           ],
           "type": "scatter",
           "x": [
            0.17364825308322906
           ],
           "y": [
            0.9848077297210693
           ]
          },
          {
           "marker": {
            "size": [
             196
            ],
            "sizemode": "area",
            "sizeref": 0.05
           },
           "mode": "markers+text",
           "name": "Peru",
           "text": [
            "Peru:<br> 4"
           ],
           "type": "scatter",
           "x": [
            -0.5
           ],
           "y": [
            0.8660253882408142
           ]
          },
          {
           "marker": {
            "size": [
             198
            ],
            "sizemode": "area",
            "sizeref": 0.05
           },
           "mode": "markers+text",
           "name": "Malaysia",
           "text": [
            "Malaysia:<br> 2"
           ],
           "type": "scatter",
           "x": [
            -0.9396925568580627
           ],
           "y": [
            0.3420202136039734
           ]
          },
          {
           "marker": {
            "size": [
             197
            ],
            "sizemode": "area",
            "sizeref": 0.05
           },
           "mode": "markers+text",
           "name": "Denmark",
           "text": [
            "Denmark:<br> 3"
           ],
           "type": "scatter",
           "x": [
            -0.9396925568580627
           ],
           "y": [
            -0.3420201539993286
           ]
          },
          {
           "marker": {
            "size": [
             197
            ],
            "sizemode": "area",
            "sizeref": 0.05
           },
           "mode": "markers+text",
           "name": "Bolivia",
           "text": [
            "Bolivia:<br> 3"
           ],
           "type": "scatter",
           "x": [
            -0.49999988079071045
           ],
           "y": [
            -0.866025447845459
           ]
          },
          {
           "marker": {
            "size": [
             199
            ],
            "sizemode": "area",
            "sizeref": 0.05
           },
           "mode": "markers+text",
           "name": "Austria",
           "text": [
            "Austria:<br> 1"
           ],
           "type": "scatter",
           "x": [
            0.1736481785774231
           ],
           "y": [
            -0.9848077297210693
           ]
          },
          {
           "marker": {
            "size": [
             198
            ],
            "sizemode": "area",
            "sizeref": 0.05
           },
           "mode": "markers+text",
           "name": "Portugal",
           "text": [
            "Portugal:<br> 2"
           ],
           "type": "scatter",
           "x": [
            0.7660443782806396
           ],
           "y": [
            -0.642787754535675
           ]
          }
         ],
         "name": "2017-04-07"
        },
        {
         "data": [
          {
           "marker": {
            "size": [
             195
            ],
            "sizemode": "area",
            "sizeref": 0.05
           },
           "mode": "markers+text",
           "name": "United States",
           "text": [
            "United States:<br> 5"
           ],
           "type": "scatter",
           "x": [
            1
           ],
           "y": [
            6.622738357719982e-09
           ]
          },
          {
           "marker": {
            "size": [
             199
            ],
            "sizemode": "area",
            "sizeref": 0.05
           },
           "mode": "markers+text",
           "name": "Switzerland",
           "text": [
            "Switzerland:<br> 1"
           ],
           "type": "scatter",
           "x": [
            0.7660444974899292
           ],
           "y": [
            0.6427875757217407
           ]
          },
          {
           "marker": {
            "size": [
             199
            ],
            "sizemode": "area",
            "sizeref": 0.05
           },
           "mode": "markers+text",
           "name": "Hungary",
           "text": [
            "Hungary:<br> 1"
           ],
           "type": "scatter",
           "x": [
            0.17364825308322906
           ],
           "y": [
            0.9848077297210693
           ]
          },
          {
           "marker": {
            "size": [
             198
            ],
            "sizemode": "area",
            "sizeref": 0.05
           },
           "mode": "markers+text",
           "name": "Peru",
           "text": [
            "Peru:<br> 2"
           ],
           "type": "scatter",
           "x": [
            -0.5
           ],
           "y": [
            0.8660253882408142
           ]
          },
          {
           "marker": {
            "size": [
             198
            ],
            "sizemode": "area",
            "sizeref": 0.05
           },
           "mode": "markers+text",
           "name": "Malaysia",
           "text": [
            "Malaysia:<br> 2"
           ],
           "type": "scatter",
           "x": [
            -0.9396925568580627
           ],
           "y": [
            0.3420202136039734
           ]
          },
          {
           "marker": {
            "size": [
             198
            ],
            "sizemode": "area",
            "sizeref": 0.05
           },
           "mode": "markers+text",
           "name": "Denmark",
           "text": [
            "Denmark:<br> 2"
           ],
           "type": "scatter",
           "x": [
            -0.9396925568580627
           ],
           "y": [
            -0.3420201539993286
           ]
          },
          {
           "marker": {
            "size": [
             197
            ],
            "sizemode": "area",
            "sizeref": 0.05
           },
           "mode": "markers+text",
           "name": "Bolivia",
           "text": [
            "Bolivia:<br> 3"
           ],
           "type": "scatter",
           "x": [
            -0.49999988079071045
           ],
           "y": [
            -0.866025447845459
           ]
          },
          {
           "marker": {
            "size": [
             199
            ],
            "sizemode": "area",
            "sizeref": 0.05
           },
           "mode": "markers+text",
           "name": "Austria",
           "text": [
            "Austria:<br> 1"
           ],
           "type": "scatter",
           "x": [
            0.1736481785774231
           ],
           "y": [
            -0.9848077297210693
           ]
          },
          {
           "marker": {
            "size": [
             198
            ],
            "sizemode": "area",
            "sizeref": 0.05
           },
           "mode": "markers+text",
           "name": "Portugal",
           "text": [
            "Portugal:<br> 2"
           ],
           "type": "scatter",
           "x": [
            0.7660443782806396
           ],
           "y": [
            -0.642787754535675
           ]
          }
         ],
         "name": "2017-04-08"
        },
        {
         "data": [
          {
           "marker": {
            "size": [
             194
            ],
            "sizemode": "area",
            "sizeref": 0.05
           },
           "mode": "markers+text",
           "name": "United States",
           "text": [
            "United States:<br> 6"
           ],
           "type": "scatter",
           "x": [
            1
           ],
           "y": [
            6.622738357719982e-09
           ]
          },
          {
           "marker": {
            "size": [
             199
            ],
            "sizemode": "area",
            "sizeref": 0.05
           },
           "mode": "markers+text",
           "name": "Switzerland",
           "text": [
            "Switzerland:<br> 1"
           ],
           "type": "scatter",
           "x": [
            0.7660444974899292
           ],
           "y": [
            0.6427875757217407
           ]
          },
          {
           "marker": {
            "size": [
             199
            ],
            "sizemode": "area",
            "sizeref": 0.05
           },
           "mode": "markers+text",
           "name": "Hungary",
           "text": [
            "Hungary:<br> 1"
           ],
           "type": "scatter",
           "x": [
            0.17364825308322906
           ],
           "y": [
            0.9848077297210693
           ]
          },
          {
           "marker": {
            "size": [
             198
            ],
            "sizemode": "area",
            "sizeref": 0.05
           },
           "mode": "markers+text",
           "name": "Peru",
           "text": [
            "Peru:<br> 2"
           ],
           "type": "scatter",
           "x": [
            -0.5
           ],
           "y": [
            0.8660253882408142
           ]
          },
          {
           "marker": {
            "size": [
             198
            ],
            "sizemode": "area",
            "sizeref": 0.05
           },
           "mode": "markers+text",
           "name": "Malaysia",
           "text": [
            "Malaysia:<br> 2"
           ],
           "type": "scatter",
           "x": [
            -0.9396925568580627
           ],
           "y": [
            0.3420202136039734
           ]
          },
          {
           "marker": {
            "size": [
             198
            ],
            "sizemode": "area",
            "sizeref": 0.05
           },
           "mode": "markers+text",
           "name": "Denmark",
           "text": [
            "Denmark:<br> 2"
           ],
           "type": "scatter",
           "x": [
            -0.9396925568580627
           ],
           "y": [
            -0.3420201539993286
           ]
          },
          {
           "marker": {
            "size": [
             197
            ],
            "sizemode": "area",
            "sizeref": 0.05
           },
           "mode": "markers+text",
           "name": "Bolivia",
           "text": [
            "Bolivia:<br> 3"
           ],
           "type": "scatter",
           "x": [
            -0.49999988079071045
           ],
           "y": [
            -0.866025447845459
           ]
          },
          {
           "marker": {
            "size": [
             199
            ],
            "sizemode": "area",
            "sizeref": 0.05
           },
           "mode": "markers+text",
           "name": "Austria",
           "text": [
            "Austria:<br> 1"
           ],
           "type": "scatter",
           "x": [
            0.1736481785774231
           ],
           "y": [
            -0.9848077297210693
           ]
          },
          {
           "marker": {
            "size": [
             198
            ],
            "sizemode": "area",
            "sizeref": 0.05
           },
           "mode": "markers+text",
           "name": "Portugal",
           "text": [
            "Portugal:<br> 2"
           ],
           "type": "scatter",
           "x": [
            0.7660443782806396
           ],
           "y": [
            -0.642787754535675
           ]
          }
         ],
         "name": "2017-04-09"
        },
        {
         "data": [
          {
           "marker": {
            "size": [
             195
            ],
            "sizemode": "area",
            "sizeref": 0.05
           },
           "mode": "markers+text",
           "name": "United States",
           "text": [
            "United States:<br> 5"
           ],
           "type": "scatter",
           "x": [
            1
           ],
           "y": [
            6.622738357719982e-09
           ]
          },
          {
           "marker": {
            "size": [
             199
            ],
            "sizemode": "area",
            "sizeref": 0.05
           },
           "mode": "markers+text",
           "name": "Switzerland",
           "text": [
            "Switzerland:<br> 1"
           ],
           "type": "scatter",
           "x": [
            0.7660444974899292
           ],
           "y": [
            0.6427875757217407
           ]
          },
          {
           "marker": {
            "size": [
             199
            ],
            "sizemode": "area",
            "sizeref": 0.05
           },
           "mode": "markers+text",
           "name": "Hungary",
           "text": [
            "Hungary:<br> 1"
           ],
           "type": "scatter",
           "x": [
            0.17364825308322906
           ],
           "y": [
            0.9848077297210693
           ]
          },
          {
           "marker": {
            "size": [
             197
            ],
            "sizemode": "area",
            "sizeref": 0.05
           },
           "mode": "markers+text",
           "name": "Peru",
           "text": [
            "Peru:<br> 3"
           ],
           "type": "scatter",
           "x": [
            -0.5
           ],
           "y": [
            0.8660253882408142
           ]
          },
          {
           "marker": {
            "size": [
             198
            ],
            "sizemode": "area",
            "sizeref": 0.05
           },
           "mode": "markers+text",
           "name": "Malaysia",
           "text": [
            "Malaysia:<br> 2"
           ],
           "type": "scatter",
           "x": [
            -0.9396925568580627
           ],
           "y": [
            0.3420202136039734
           ]
          },
          {
           "marker": {
            "size": [
             198
            ],
            "sizemode": "area",
            "sizeref": 0.05
           },
           "mode": "markers+text",
           "name": "Denmark",
           "text": [
            "Denmark:<br> 2"
           ],
           "type": "scatter",
           "x": [
            -0.9396925568580627
           ],
           "y": [
            -0.3420201539993286
           ]
          },
          {
           "marker": {
            "size": [
             197
            ],
            "sizemode": "area",
            "sizeref": 0.05
           },
           "mode": "markers+text",
           "name": "Bolivia",
           "text": [
            "Bolivia:<br> 3"
           ],
           "type": "scatter",
           "x": [
            -0.49999988079071045
           ],
           "y": [
            -0.866025447845459
           ]
          },
          {
           "marker": {
            "size": [
             199
            ],
            "sizemode": "area",
            "sizeref": 0.05
           },
           "mode": "markers+text",
           "name": "Austria",
           "text": [
            "Austria:<br> 1"
           ],
           "type": "scatter",
           "x": [
            0.1736481785774231
           ],
           "y": [
            -0.9848077297210693
           ]
          },
          {
           "marker": {
            "size": [
             198
            ],
            "sizemode": "area",
            "sizeref": 0.05
           },
           "mode": "markers+text",
           "name": "Portugal",
           "text": [
            "Portugal:<br> 2"
           ],
           "type": "scatter",
           "x": [
            0.7660443782806396
           ],
           "y": [
            -0.642787754535675
           ]
          }
         ],
         "name": "2017-04-10"
        },
        {
         "data": [
          {
           "marker": {
            "size": [
             195
            ],
            "sizemode": "area",
            "sizeref": 0.05
           },
           "mode": "markers+text",
           "name": "United States",
           "text": [
            "United States:<br> 5"
           ],
           "type": "scatter",
           "x": [
            1
           ],
           "y": [
            6.622738357719982e-09
           ]
          },
          {
           "marker": {
            "size": [
             199
            ],
            "sizemode": "area",
            "sizeref": 0.05
           },
           "mode": "markers+text",
           "name": "Switzerland",
           "text": [
            "Switzerland:<br> 1"
           ],
           "type": "scatter",
           "x": [
            0.7660444974899292
           ],
           "y": [
            0.6427875757217407
           ]
          },
          {
           "marker": {
            "size": [
             199
            ],
            "sizemode": "area",
            "sizeref": 0.05
           },
           "mode": "markers+text",
           "name": "Hungary",
           "text": [
            "Hungary:<br> 1"
           ],
           "type": "scatter",
           "x": [
            0.17364825308322906
           ],
           "y": [
            0.9848077297210693
           ]
          },
          {
           "marker": {
            "size": [
             197
            ],
            "sizemode": "area",
            "sizeref": 0.05
           },
           "mode": "markers+text",
           "name": "Peru",
           "text": [
            "Peru:<br> 3"
           ],
           "type": "scatter",
           "x": [
            -0.5
           ],
           "y": [
            0.8660253882408142
           ]
          },
          {
           "marker": {
            "size": [
             198
            ],
            "sizemode": "area",
            "sizeref": 0.05
           },
           "mode": "markers+text",
           "name": "Malaysia",
           "text": [
            "Malaysia:<br> 2"
           ],
           "type": "scatter",
           "x": [
            -0.9396925568580627
           ],
           "y": [
            0.3420202136039734
           ]
          },
          {
           "marker": {
            "size": [
             198
            ],
            "sizemode": "area",
            "sizeref": 0.05
           },
           "mode": "markers+text",
           "name": "Denmark",
           "text": [
            "Denmark:<br> 2"
           ],
           "type": "scatter",
           "x": [
            -0.9396925568580627
           ],
           "y": [
            -0.3420201539993286
           ]
          },
          {
           "marker": {
            "size": [
             197
            ],
            "sizemode": "area",
            "sizeref": 0.05
           },
           "mode": "markers+text",
           "name": "Bolivia",
           "text": [
            "Bolivia:<br> 3"
           ],
           "type": "scatter",
           "x": [
            -0.49999988079071045
           ],
           "y": [
            -0.866025447845459
           ]
          },
          {
           "marker": {
            "size": [
             199
            ],
            "sizemode": "area",
            "sizeref": 0.05
           },
           "mode": "markers+text",
           "name": "Austria",
           "text": [
            "Austria:<br> 1"
           ],
           "type": "scatter",
           "x": [
            0.1736481785774231
           ],
           "y": [
            -0.9848077297210693
           ]
          },
          {
           "marker": {
            "size": [
             198
            ],
            "sizemode": "area",
            "sizeref": 0.05
           },
           "mode": "markers+text",
           "name": "Portugal",
           "text": [
            "Portugal:<br> 2"
           ],
           "type": "scatter",
           "x": [
            0.7660443782806396
           ],
           "y": [
            -0.642787754535675
           ]
          }
         ],
         "name": "2017-04-11"
        },
        {
         "data": [
          {
           "marker": {
            "size": [
             195
            ],
            "sizemode": "area",
            "sizeref": 0.05
           },
           "mode": "markers+text",
           "name": "United States",
           "text": [
            "United States:<br> 5"
           ],
           "type": "scatter",
           "x": [
            1
           ],
           "y": [
            6.622738357719982e-09
           ]
          },
          {
           "marker": {
            "size": [
             199
            ],
            "sizemode": "area",
            "sizeref": 0.05
           },
           "mode": "markers+text",
           "name": "Switzerland",
           "text": [
            "Switzerland:<br> 1"
           ],
           "type": "scatter",
           "x": [
            0.7660444974899292
           ],
           "y": [
            0.6427875757217407
           ]
          },
          {
           "marker": {
            "size": [
             199
            ],
            "sizemode": "area",
            "sizeref": 0.05
           },
           "mode": "markers+text",
           "name": "Hungary",
           "text": [
            "Hungary:<br> 1"
           ],
           "type": "scatter",
           "x": [
            0.17364825308322906
           ],
           "y": [
            0.9848077297210693
           ]
          },
          {
           "marker": {
            "size": [
             197
            ],
            "sizemode": "area",
            "sizeref": 0.05
           },
           "mode": "markers+text",
           "name": "Peru",
           "text": [
            "Peru:<br> 3"
           ],
           "type": "scatter",
           "x": [
            -0.5
           ],
           "y": [
            0.8660253882408142
           ]
          },
          {
           "marker": {
            "size": [
             198
            ],
            "sizemode": "area",
            "sizeref": 0.05
           },
           "mode": "markers+text",
           "name": "Malaysia",
           "text": [
            "Malaysia:<br> 2"
           ],
           "type": "scatter",
           "x": [
            -0.9396925568580627
           ],
           "y": [
            0.3420202136039734
           ]
          },
          {
           "marker": {
            "size": [
             198
            ],
            "sizemode": "area",
            "sizeref": 0.05
           },
           "mode": "markers+text",
           "name": "Denmark",
           "text": [
            "Denmark:<br> 2"
           ],
           "type": "scatter",
           "x": [
            -0.9396925568580627
           ],
           "y": [
            -0.3420201539993286
           ]
          },
          {
           "marker": {
            "size": [
             197
            ],
            "sizemode": "area",
            "sizeref": 0.05
           },
           "mode": "markers+text",
           "name": "Bolivia",
           "text": [
            "Bolivia:<br> 3"
           ],
           "type": "scatter",
           "x": [
            -0.49999988079071045
           ],
           "y": [
            -0.866025447845459
           ]
          },
          {
           "marker": {
            "size": [
             199
            ],
            "sizemode": "area",
            "sizeref": 0.05
           },
           "mode": "markers+text",
           "name": "Austria",
           "text": [
            "Austria:<br> 1"
           ],
           "type": "scatter",
           "x": [
            0.1736481785774231
           ],
           "y": [
            -0.9848077297210693
           ]
          },
          {
           "marker": {
            "size": [
             198
            ],
            "sizemode": "area",
            "sizeref": 0.05
           },
           "mode": "markers+text",
           "name": "Portugal",
           "text": [
            "Portugal:<br> 2"
           ],
           "type": "scatter",
           "x": [
            0.7660443782806396
           ],
           "y": [
            -0.642787754535675
           ]
          }
         ],
         "name": "2017-04-12"
        },
        {
         "data": [
          {
           "marker": {
            "size": [
             194
            ],
            "sizemode": "area",
            "sizeref": 0.05
           },
           "mode": "markers+text",
           "name": "United States",
           "text": [
            "United States:<br> 6"
           ],
           "type": "scatter",
           "x": [
            1
           ],
           "y": [
            6.622738357719982e-09
           ]
          },
          {
           "marker": {
            "size": [
             199
            ],
            "sizemode": "area",
            "sizeref": 0.05
           },
           "mode": "markers+text",
           "name": "Switzerland",
           "text": [
            "Switzerland:<br> 1"
           ],
           "type": "scatter",
           "x": [
            0.7660444974899292
           ],
           "y": [
            0.6427875757217407
           ]
          },
          {
           "marker": {
            "size": [
             199
            ],
            "sizemode": "area",
            "sizeref": 0.05
           },
           "mode": "markers+text",
           "name": "Hungary",
           "text": [
            "Hungary:<br> 1"
           ],
           "type": "scatter",
           "x": [
            0.17364825308322906
           ],
           "y": [
            0.9848077297210693
           ]
          },
          {
           "marker": {
            "size": [
             198
            ],
            "sizemode": "area",
            "sizeref": 0.05
           },
           "mode": "markers+text",
           "name": "Peru",
           "text": [
            "Peru:<br> 2"
           ],
           "type": "scatter",
           "x": [
            -0.5
           ],
           "y": [
            0.8660253882408142
           ]
          },
          {
           "marker": {
            "size": [
             198
            ],
            "sizemode": "area",
            "sizeref": 0.05
           },
           "mode": "markers+text",
           "name": "Malaysia",
           "text": [
            "Malaysia:<br> 2"
           ],
           "type": "scatter",
           "x": [
            -0.9396925568580627
           ],
           "y": [
            0.3420202136039734
           ]
          },
          {
           "marker": {
            "size": [
             198
            ],
            "sizemode": "area",
            "sizeref": 0.05
           },
           "mode": "markers+text",
           "name": "Denmark",
           "text": [
            "Denmark:<br> 2"
           ],
           "type": "scatter",
           "x": [
            -0.9396925568580627
           ],
           "y": [
            -0.3420201539993286
           ]
          },
          {
           "marker": {
            "size": [
             197
            ],
            "sizemode": "area",
            "sizeref": 0.05
           },
           "mode": "markers+text",
           "name": "Bolivia",
           "text": [
            "Bolivia:<br> 3"
           ],
           "type": "scatter",
           "x": [
            -0.49999988079071045
           ],
           "y": [
            -0.866025447845459
           ]
          },
          {
           "marker": {
            "size": [
             199
            ],
            "sizemode": "area",
            "sizeref": 0.05
           },
           "mode": "markers+text",
           "name": "Austria",
           "text": [
            "Austria:<br> 1"
           ],
           "type": "scatter",
           "x": [
            0.1736481785774231
           ],
           "y": [
            -0.9848077297210693
           ]
          },
          {
           "marker": {
            "size": [
             198
            ],
            "sizemode": "area",
            "sizeref": 0.05
           },
           "mode": "markers+text",
           "name": "Portugal",
           "text": [
            "Portugal:<br> 2"
           ],
           "type": "scatter",
           "x": [
            0.7660443782806396
           ],
           "y": [
            -0.642787754535675
           ]
          }
         ],
         "name": "2017-04-13"
        },
        {
         "data": [
          {
           "marker": {
            "size": [
             181
            ],
            "sizemode": "area",
            "sizeref": 0.05
           },
           "mode": "markers+text",
           "name": "United States",
           "text": [
            "United States:<br> 19"
           ],
           "type": "scatter",
           "x": [
            1
           ],
           "y": [
            6.622738357719982e-09
           ]
          },
          {
           "marker": {
            "size": [
             199
            ],
            "sizemode": "area",
            "sizeref": 0.05
           },
           "mode": "markers+text",
           "name": "Switzerland",
           "text": [
            "Switzerland:<br> 1"
           ],
           "type": "scatter",
           "x": [
            0.7660444974899292
           ],
           "y": [
            0.6427875757217407
           ]
          },
          {
           "marker": {
            "size": [
             199
            ],
            "sizemode": "area",
            "sizeref": 0.05
           },
           "mode": "markers+text",
           "name": "Hungary",
           "text": [
            "Hungary:<br> 1"
           ],
           "type": "scatter",
           "x": [
            0.17364825308322906
           ],
           "y": [
            0.9848077297210693
           ]
          },
          {
           "marker": {
            "size": [
             198
            ],
            "sizemode": "area",
            "sizeref": 0.05
           },
           "mode": "markers+text",
           "name": "Peru",
           "text": [
            "Peru:<br> 2"
           ],
           "type": "scatter",
           "x": [
            -0.5
           ],
           "y": [
            0.8660253882408142
           ]
          },
          {
           "marker": {
            "size": [
             198
            ],
            "sizemode": "area",
            "sizeref": 0.05
           },
           "mode": "markers+text",
           "name": "Malaysia",
           "text": [
            "Malaysia:<br> 2"
           ],
           "type": "scatter",
           "x": [
            -0.9396925568580627
           ],
           "y": [
            0.3420202136039734
           ]
          },
          {
           "marker": {
            "size": [
             198
            ],
            "sizemode": "area",
            "sizeref": 0.05
           },
           "mode": "markers+text",
           "name": "Denmark",
           "text": [
            "Denmark:<br> 2"
           ],
           "type": "scatter",
           "x": [
            -0.9396925568580627
           ],
           "y": [
            -0.3420201539993286
           ]
          },
          {
           "marker": {
            "size": [
             197
            ],
            "sizemode": "area",
            "sizeref": 0.05
           },
           "mode": "markers+text",
           "name": "Bolivia",
           "text": [
            "Bolivia:<br> 3"
           ],
           "type": "scatter",
           "x": [
            -0.49999988079071045
           ],
           "y": [
            -0.866025447845459
           ]
          },
          {
           "marker": {
            "size": [
             199
            ],
            "sizemode": "area",
            "sizeref": 0.05
           },
           "mode": "markers+text",
           "name": "Austria",
           "text": [
            "Austria:<br> 1"
           ],
           "type": "scatter",
           "x": [
            0.1736481785774231
           ],
           "y": [
            -0.9848077297210693
           ]
          },
          {
           "marker": {
            "size": [
             197
            ],
            "sizemode": "area",
            "sizeref": 0.05
           },
           "mode": "markers+text",
           "name": "Portugal",
           "text": [
            "Portugal:<br> 3"
           ],
           "type": "scatter",
           "x": [
            0.7660443782806396
           ],
           "y": [
            -0.642787754535675
           ]
          }
         ],
         "name": "2017-04-14"
        },
        {
         "data": [
          {
           "marker": {
            "size": [
             180
            ],
            "sizemode": "area",
            "sizeref": 0.05
           },
           "mode": "markers+text",
           "name": "United States",
           "text": [
            "United States:<br> 20"
           ],
           "type": "scatter",
           "x": [
            1
           ],
           "y": [
            6.622738357719982e-09
           ]
          },
          {
           "marker": {
            "size": [
             199
            ],
            "sizemode": "area",
            "sizeref": 0.05
           },
           "mode": "markers+text",
           "name": "Switzerland",
           "text": [
            "Switzerland:<br> 1"
           ],
           "type": "scatter",
           "x": [
            0.7660444974899292
           ],
           "y": [
            0.6427875757217407
           ]
          },
          {
           "marker": {
            "size": [
             199
            ],
            "sizemode": "area",
            "sizeref": 0.05
           },
           "mode": "markers+text",
           "name": "Hungary",
           "text": [
            "Hungary:<br> 1"
           ],
           "type": "scatter",
           "x": [
            0.17364825308322906
           ],
           "y": [
            0.9848077297210693
           ]
          },
          {
           "marker": {
            "size": [
             197
            ],
            "sizemode": "area",
            "sizeref": 0.05
           },
           "mode": "markers+text",
           "name": "Peru",
           "text": [
            "Peru:<br> 3"
           ],
           "type": "scatter",
           "x": [
            -0.5
           ],
           "y": [
            0.8660253882408142
           ]
          },
          {
           "marker": {
            "size": [
             199
            ],
            "sizemode": "area",
            "sizeref": 0.05
           },
           "mode": "markers+text",
           "name": "Malaysia",
           "text": [
            "Malaysia:<br> 1"
           ],
           "type": "scatter",
           "x": [
            -0.9396925568580627
           ],
           "y": [
            0.3420202136039734
           ]
          },
          {
           "marker": {
            "size": [
             198
            ],
            "sizemode": "area",
            "sizeref": 0.05
           },
           "mode": "markers+text",
           "name": "Denmark",
           "text": [
            "Denmark:<br> 2"
           ],
           "type": "scatter",
           "x": [
            -0.9396925568580627
           ],
           "y": [
            -0.3420201539993286
           ]
          },
          {
           "marker": {
            "size": [
             197
            ],
            "sizemode": "area",
            "sizeref": 0.05
           },
           "mode": "markers+text",
           "name": "Bolivia",
           "text": [
            "Bolivia:<br> 3"
           ],
           "type": "scatter",
           "x": [
            -0.49999988079071045
           ],
           "y": [
            -0.866025447845459
           ]
          },
          {
           "marker": {
            "size": [
             199
            ],
            "sizemode": "area",
            "sizeref": 0.05
           },
           "mode": "markers+text",
           "name": "Austria",
           "text": [
            "Austria:<br> 1"
           ],
           "type": "scatter",
           "x": [
            0.1736481785774231
           ],
           "y": [
            -0.9848077297210693
           ]
          },
          {
           "marker": {
            "size": [
             197
            ],
            "sizemode": "area",
            "sizeref": 0.05
           },
           "mode": "markers+text",
           "name": "Portugal",
           "text": [
            "Portugal:<br> 3"
           ],
           "type": "scatter",
           "x": [
            0.7660443782806396
           ],
           "y": [
            -0.642787754535675
           ]
          }
         ],
         "name": "2017-04-15"
        }
       ],
       "layout": {
        "hovermode": "closest",
        "sliders": [
         {
          "active": 0,
          "currentvalue": {
           "font": {
            "size": 20
           },
           "prefix": "Day:",
           "visible": true,
           "xanchor": "right"
          },
          "len": 0.9,
          "pad": {
           "b": 10,
           "t": 50
          },
          "steps": [
           {
            "args": [
             [
              "2017-01-06"
             ],
             {
              "frame": {
               "duration": 300,
               "redraw": false
              },
              "mode": "immediate",
              "transition": {
               "duration": 300
              }
             }
            ],
            "label": "2017-01-06",
            "method": "animate"
           },
           {
            "args": [
             [
              "2017-01-07"
             ],
             {
              "frame": {
               "duration": 300,
               "redraw": false
              },
              "mode": "immediate",
              "transition": {
               "duration": 300
              }
             }
            ],
            "label": "2017-01-07",
            "method": "animate"
           },
           {
            "args": [
             [
              "2017-01-08"
             ],
             {
              "frame": {
               "duration": 300,
               "redraw": false
              },
              "mode": "immediate",
              "transition": {
               "duration": 300
              }
             }
            ],
            "label": "2017-01-08",
            "method": "animate"
           },
           {
            "args": [
             [
              "2017-01-09"
             ],
             {
              "frame": {
               "duration": 300,
               "redraw": false
              },
              "mode": "immediate",
              "transition": {
               "duration": 300
              }
             }
            ],
            "label": "2017-01-09",
            "method": "animate"
           },
           {
            "args": [
             [
              "2017-01-10"
             ],
             {
              "frame": {
               "duration": 300,
               "redraw": false
              },
              "mode": "immediate",
              "transition": {
               "duration": 300
              }
             }
            ],
            "label": "2017-01-10",
            "method": "animate"
           },
           {
            "args": [
             [
              "2017-01-11"
             ],
             {
              "frame": {
               "duration": 300,
               "redraw": false
              },
              "mode": "immediate",
              "transition": {
               "duration": 300
              }
             }
            ],
            "label": "2017-01-11",
            "method": "animate"
           },
           {
            "args": [
             [
              "2017-01-12"
             ],
             {
              "frame": {
               "duration": 300,
               "redraw": false
              },
              "mode": "immediate",
              "transition": {
               "duration": 300
              }
             }
            ],
            "label": "2017-01-12",
            "method": "animate"
           },
           {
            "args": [
             [
              "2017-01-13"
             ],
             {
              "frame": {
               "duration": 300,
               "redraw": false
              },
              "mode": "immediate",
              "transition": {
               "duration": 300
              }
             }
            ],
            "label": "2017-01-13",
            "method": "animate"
           },
           {
            "args": [
             [
              "2017-01-14"
             ],
             {
              "frame": {
               "duration": 300,
               "redraw": false
              },
              "mode": "immediate",
              "transition": {
               "duration": 300
              }
             }
            ],
            "label": "2017-01-14",
            "method": "animate"
           },
           {
            "args": [
             [
              "2017-01-15"
             ],
             {
              "frame": {
               "duration": 300,
               "redraw": false
              },
              "mode": "immediate",
              "transition": {
               "duration": 300
              }
             }
            ],
            "label": "2017-01-15",
            "method": "animate"
           },
           {
            "args": [
             [
              "2017-01-16"
             ],
             {
              "frame": {
               "duration": 300,
               "redraw": false
              },
              "mode": "immediate",
              "transition": {
               "duration": 300
              }
             }
            ],
            "label": "2017-01-16",
            "method": "animate"
           },
           {
            "args": [
             [
              "2017-01-17"
             ],
             {
              "frame": {
               "duration": 300,
               "redraw": false
              },
              "mode": "immediate",
              "transition": {
               "duration": 300
              }
             }
            ],
            "label": "2017-01-17",
            "method": "animate"
           },
           {
            "args": [
             [
              "2017-01-18"
             ],
             {
              "frame": {
               "duration": 300,
               "redraw": false
              },
              "mode": "immediate",
              "transition": {
               "duration": 300
              }
             }
            ],
            "label": "2017-01-18",
            "method": "animate"
           },
           {
            "args": [
             [
              "2017-01-19"
             ],
             {
              "frame": {
               "duration": 300,
               "redraw": false
              },
              "mode": "immediate",
              "transition": {
               "duration": 300
              }
             }
            ],
            "label": "2017-01-19",
            "method": "animate"
           },
           {
            "args": [
             [
              "2017-01-20"
             ],
             {
              "frame": {
               "duration": 300,
               "redraw": false
              },
              "mode": "immediate",
              "transition": {
               "duration": 300
              }
             }
            ],
            "label": "2017-01-20",
            "method": "animate"
           },
           {
            "args": [
             [
              "2017-01-21"
             ],
             {
              "frame": {
               "duration": 300,
               "redraw": false
              },
              "mode": "immediate",
              "transition": {
               "duration": 300
              }
             }
            ],
            "label": "2017-01-21",
            "method": "animate"
           },
           {
            "args": [
             [
              "2017-01-22"
             ],
             {
              "frame": {
               "duration": 300,
               "redraw": false
              },
              "mode": "immediate",
              "transition": {
               "duration": 300
              }
             }
            ],
            "label": "2017-01-22",
            "method": "animate"
           },
           {
            "args": [
             [
              "2017-01-23"
             ],
             {
              "frame": {
               "duration": 300,
               "redraw": false
              },
              "mode": "immediate",
              "transition": {
               "duration": 300
              }
             }
            ],
            "label": "2017-01-23",
            "method": "animate"
           },
           {
            "args": [
             [
              "2017-01-24"
             ],
             {
              "frame": {
               "duration": 300,
               "redraw": false
              },
              "mode": "immediate",
              "transition": {
               "duration": 300
              }
             }
            ],
            "label": "2017-01-24",
            "method": "animate"
           },
           {
            "args": [
             [
              "2017-01-25"
             ],
             {
              "frame": {
               "duration": 300,
               "redraw": false
              },
              "mode": "immediate",
              "transition": {
               "duration": 300
              }
             }
            ],
            "label": "2017-01-25",
            "method": "animate"
           },
           {
            "args": [
             [
              "2017-01-26"
             ],
             {
              "frame": {
               "duration": 300,
               "redraw": false
              },
              "mode": "immediate",
              "transition": {
               "duration": 300
              }
             }
            ],
            "label": "2017-01-26",
            "method": "animate"
           },
           {
            "args": [
             [
              "2017-01-27"
             ],
             {
              "frame": {
               "duration": 300,
               "redraw": false
              },
              "mode": "immediate",
              "transition": {
               "duration": 300
              }
             }
            ],
            "label": "2017-01-27",
            "method": "animate"
           },
           {
            "args": [
             [
              "2017-01-28"
             ],
             {
              "frame": {
               "duration": 300,
               "redraw": false
              },
              "mode": "immediate",
              "transition": {
               "duration": 300
              }
             }
            ],
            "label": "2017-01-28",
            "method": "animate"
           },
           {
            "args": [
             [
              "2017-01-29"
             ],
             {
              "frame": {
               "duration": 300,
               "redraw": false
              },
              "mode": "immediate",
              "transition": {
               "duration": 300
              }
             }
            ],
            "label": "2017-01-29",
            "method": "animate"
           },
           {
            "args": [
             [
              "2017-01-30"
             ],
             {
              "frame": {
               "duration": 300,
               "redraw": false
              },
              "mode": "immediate",
              "transition": {
               "duration": 300
              }
             }
            ],
            "label": "2017-01-30",
            "method": "animate"
           },
           {
            "args": [
             [
              "2017-01-31"
             ],
             {
              "frame": {
               "duration": 300,
               "redraw": false
              },
              "mode": "immediate",
              "transition": {
               "duration": 300
              }
             }
            ],
            "label": "2017-01-31",
            "method": "animate"
           },
           {
            "args": [
             [
              "2017-02-01"
             ],
             {
              "frame": {
               "duration": 300,
               "redraw": false
              },
              "mode": "immediate",
              "transition": {
               "duration": 300
              }
             }
            ],
            "label": "2017-02-01",
            "method": "animate"
           },
           {
            "args": [
             [
              "2017-02-02"
             ],
             {
              "frame": {
               "duration": 300,
               "redraw": false
              },
              "mode": "immediate",
              "transition": {
               "duration": 300
              }
             }
            ],
            "label": "2017-02-02",
            "method": "animate"
           },
           {
            "args": [
             [
              "2017-02-03"
             ],
             {
              "frame": {
               "duration": 300,
               "redraw": false
              },
              "mode": "immediate",
              "transition": {
               "duration": 300
              }
             }
            ],
            "label": "2017-02-03",
            "method": "animate"
           },
           {
            "args": [
             [
              "2017-02-04"
             ],
             {
              "frame": {
               "duration": 300,
               "redraw": false
              },
              "mode": "immediate",
              "transition": {
               "duration": 300
              }
             }
            ],
            "label": "2017-02-04",
            "method": "animate"
           },
           {
            "args": [
             [
              "2017-02-05"
             ],
             {
              "frame": {
               "duration": 300,
               "redraw": false
              },
              "mode": "immediate",
              "transition": {
               "duration": 300
              }
             }
            ],
            "label": "2017-02-05",
            "method": "animate"
           },
           {
            "args": [
             [
              "2017-02-06"
             ],
             {
              "frame": {
               "duration": 300,
               "redraw": false
              },
              "mode": "immediate",
              "transition": {
               "duration": 300
              }
             }
            ],
            "label": "2017-02-06",
            "method": "animate"
           },
           {
            "args": [
             [
              "2017-02-07"
             ],
             {
              "frame": {
               "duration": 300,
               "redraw": false
              },
              "mode": "immediate",
              "transition": {
               "duration": 300
              }
             }
            ],
            "label": "2017-02-07",
            "method": "animate"
           },
           {
            "args": [
             [
              "2017-02-08"
             ],
             {
              "frame": {
               "duration": 300,
               "redraw": false
              },
              "mode": "immediate",
              "transition": {
               "duration": 300
              }
             }
            ],
            "label": "2017-02-08",
            "method": "animate"
           },
           {
            "args": [
             [
              "2017-02-09"
             ],
             {
              "frame": {
               "duration": 300,
               "redraw": false
              },
              "mode": "immediate",
              "transition": {
               "duration": 300
              }
             }
            ],
            "label": "2017-02-09",
            "method": "animate"
           },
           {
            "args": [
             [
              "2017-02-10"
             ],
             {
              "frame": {
               "duration": 300,
               "redraw": false
              },
              "mode": "immediate",
              "transition": {
               "duration": 300
              }
             }
            ],
            "label": "2017-02-10",
            "method": "animate"
           },
           {
            "args": [
             [
              "2017-02-11"
             ],
             {
              "frame": {
               "duration": 300,
               "redraw": false
              },
              "mode": "immediate",
              "transition": {
               "duration": 300
              }
             }
            ],
            "label": "2017-02-11",
            "method": "animate"
           },
           {
            "args": [
             [
              "2017-02-12"
             ],
             {
              "frame": {
               "duration": 300,
               "redraw": false
              },
              "mode": "immediate",
              "transition": {
               "duration": 300
              }
             }
            ],
            "label": "2017-02-12",
            "method": "animate"
           },
           {
            "args": [
             [
              "2017-02-13"
             ],
             {
              "frame": {
               "duration": 300,
               "redraw": false
              },
              "mode": "immediate",
              "transition": {
               "duration": 300
              }
             }
            ],
            "label": "2017-02-13",
            "method": "animate"
           },
           {
            "args": [
             [
              "2017-02-14"
             ],
             {
              "frame": {
               "duration": 300,
               "redraw": false
              },
              "mode": "immediate",
              "transition": {
               "duration": 300
              }
             }
            ],
            "label": "2017-02-14",
            "method": "animate"
           },
           {
            "args": [
             [
              "2017-02-15"
             ],
             {
              "frame": {
               "duration": 300,
               "redraw": false
              },
              "mode": "immediate",
              "transition": {
               "duration": 300
              }
             }
            ],
            "label": "2017-02-15",
            "method": "animate"
           },
           {
            "args": [
             [
              "2017-02-16"
             ],
             {
              "frame": {
               "duration": 300,
               "redraw": false
              },
              "mode": "immediate",
              "transition": {
               "duration": 300
              }
             }
            ],
            "label": "2017-02-16",
            "method": "animate"
           },
           {
            "args": [
             [
              "2017-02-17"
             ],
             {
              "frame": {
               "duration": 300,
               "redraw": false
              },
              "mode": "immediate",
              "transition": {
               "duration": 300
              }
             }
            ],
            "label": "2017-02-17",
            "method": "animate"
           },
           {
            "args": [
             [
              "2017-02-18"
             ],
             {
              "frame": {
               "duration": 300,
               "redraw": false
              },
              "mode": "immediate",
              "transition": {
               "duration": 300
              }
             }
            ],
            "label": "2017-02-18",
            "method": "animate"
           },
           {
            "args": [
             [
              "2017-02-19"
             ],
             {
              "frame": {
               "duration": 300,
               "redraw": false
              },
              "mode": "immediate",
              "transition": {
               "duration": 300
              }
             }
            ],
            "label": "2017-02-19",
            "method": "animate"
           },
           {
            "args": [
             [
              "2017-02-20"
             ],
             {
              "frame": {
               "duration": 300,
               "redraw": false
              },
              "mode": "immediate",
              "transition": {
               "duration": 300
              }
             }
            ],
            "label": "2017-02-20",
            "method": "animate"
           },
           {
            "args": [
             [
              "2017-02-21"
             ],
             {
              "frame": {
               "duration": 300,
               "redraw": false
              },
              "mode": "immediate",
              "transition": {
               "duration": 300
              }
             }
            ],
            "label": "2017-02-21",
            "method": "animate"
           },
           {
            "args": [
             [
              "2017-02-22"
             ],
             {
              "frame": {
               "duration": 300,
               "redraw": false
              },
              "mode": "immediate",
              "transition": {
               "duration": 300
              }
             }
            ],
            "label": "2017-02-22",
            "method": "animate"
           },
           {
            "args": [
             [
              "2017-02-23"
             ],
             {
              "frame": {
               "duration": 300,
               "redraw": false
              },
              "mode": "immediate",
              "transition": {
               "duration": 300
              }
             }
            ],
            "label": "2017-02-23",
            "method": "animate"
           },
           {
            "args": [
             [
              "2017-02-24"
             ],
             {
              "frame": {
               "duration": 300,
               "redraw": false
              },
              "mode": "immediate",
              "transition": {
               "duration": 300
              }
             }
            ],
            "label": "2017-02-24",
            "method": "animate"
           },
           {
            "args": [
             [
              "2017-02-25"
             ],
             {
              "frame": {
               "duration": 300,
               "redraw": false
              },
              "mode": "immediate",
              "transition": {
               "duration": 300
              }
             }
            ],
            "label": "2017-02-25",
            "method": "animate"
           },
           {
            "args": [
             [
              "2017-02-26"
             ],
             {
              "frame": {
               "duration": 300,
               "redraw": false
              },
              "mode": "immediate",
              "transition": {
               "duration": 300
              }
             }
            ],
            "label": "2017-02-26",
            "method": "animate"
           },
           {
            "args": [
             [
              "2017-02-27"
             ],
             {
              "frame": {
               "duration": 300,
               "redraw": false
              },
              "mode": "immediate",
              "transition": {
               "duration": 300
              }
             }
            ],
            "label": "2017-02-27",
            "method": "animate"
           },
           {
            "args": [
             [
              "2017-02-28"
             ],
             {
              "frame": {
               "duration": 300,
               "redraw": false
              },
              "mode": "immediate",
              "transition": {
               "duration": 300
              }
             }
            ],
            "label": "2017-02-28",
            "method": "animate"
           },
           {
            "args": [
             [
              "2017-03-01"
             ],
             {
              "frame": {
               "duration": 300,
               "redraw": false
              },
              "mode": "immediate",
              "transition": {
               "duration": 300
              }
             }
            ],
            "label": "2017-03-01",
            "method": "animate"
           },
           {
            "args": [
             [
              "2017-03-02"
             ],
             {
              "frame": {
               "duration": 300,
               "redraw": false
              },
              "mode": "immediate",
              "transition": {
               "duration": 300
              }
             }
            ],
            "label": "2017-03-02",
            "method": "animate"
           },
           {
            "args": [
             [
              "2017-03-03"
             ],
             {
              "frame": {
               "duration": 300,
               "redraw": false
              },
              "mode": "immediate",
              "transition": {
               "duration": 300
              }
             }
            ],
            "label": "2017-03-03",
            "method": "animate"
           },
           {
            "args": [
             [
              "2017-03-04"
             ],
             {
              "frame": {
               "duration": 300,
               "redraw": false
              },
              "mode": "immediate",
              "transition": {
               "duration": 300
              }
             }
            ],
            "label": "2017-03-04",
            "method": "animate"
           },
           {
            "args": [
             [
              "2017-03-05"
             ],
             {
              "frame": {
               "duration": 300,
               "redraw": false
              },
              "mode": "immediate",
              "transition": {
               "duration": 300
              }
             }
            ],
            "label": "2017-03-05",
            "method": "animate"
           },
           {
            "args": [
             [
              "2017-03-06"
             ],
             {
              "frame": {
               "duration": 300,
               "redraw": false
              },
              "mode": "immediate",
              "transition": {
               "duration": 300
              }
             }
            ],
            "label": "2017-03-06",
            "method": "animate"
           },
           {
            "args": [
             [
              "2017-03-07"
             ],
             {
              "frame": {
               "duration": 300,
               "redraw": false
              },
              "mode": "immediate",
              "transition": {
               "duration": 300
              }
             }
            ],
            "label": "2017-03-07",
            "method": "animate"
           },
           {
            "args": [
             [
              "2017-03-08"
             ],
             {
              "frame": {
               "duration": 300,
               "redraw": false
              },
              "mode": "immediate",
              "transition": {
               "duration": 300
              }
             }
            ],
            "label": "2017-03-08",
            "method": "animate"
           },
           {
            "args": [
             [
              "2017-03-09"
             ],
             {
              "frame": {
               "duration": 300,
               "redraw": false
              },
              "mode": "immediate",
              "transition": {
               "duration": 300
              }
             }
            ],
            "label": "2017-03-09",
            "method": "animate"
           },
           {
            "args": [
             [
              "2017-03-10"
             ],
             {
              "frame": {
               "duration": 300,
               "redraw": false
              },
              "mode": "immediate",
              "transition": {
               "duration": 300
              }
             }
            ],
            "label": "2017-03-10",
            "method": "animate"
           },
           {
            "args": [
             [
              "2017-03-11"
             ],
             {
              "frame": {
               "duration": 300,
               "redraw": false
              },
              "mode": "immediate",
              "transition": {
               "duration": 300
              }
             }
            ],
            "label": "2017-03-11",
            "method": "animate"
           },
           {
            "args": [
             [
              "2017-03-12"
             ],
             {
              "frame": {
               "duration": 300,
               "redraw": false
              },
              "mode": "immediate",
              "transition": {
               "duration": 300
              }
             }
            ],
            "label": "2017-03-12",
            "method": "animate"
           },
           {
            "args": [
             [
              "2017-03-13"
             ],
             {
              "frame": {
               "duration": 300,
               "redraw": false
              },
              "mode": "immediate",
              "transition": {
               "duration": 300
              }
             }
            ],
            "label": "2017-03-13",
            "method": "animate"
           },
           {
            "args": [
             [
              "2017-03-14"
             ],
             {
              "frame": {
               "duration": 300,
               "redraw": false
              },
              "mode": "immediate",
              "transition": {
               "duration": 300
              }
             }
            ],
            "label": "2017-03-14",
            "method": "animate"
           },
           {
            "args": [
             [
              "2017-03-15"
             ],
             {
              "frame": {
               "duration": 300,
               "redraw": false
              },
              "mode": "immediate",
              "transition": {
               "duration": 300
              }
             }
            ],
            "label": "2017-03-15",
            "method": "animate"
           },
           {
            "args": [
             [
              "2017-03-16"
             ],
             {
              "frame": {
               "duration": 300,
               "redraw": false
              },
              "mode": "immediate",
              "transition": {
               "duration": 300
              }
             }
            ],
            "label": "2017-03-16",
            "method": "animate"
           },
           {
            "args": [
             [
              "2017-03-17"
             ],
             {
              "frame": {
               "duration": 300,
               "redraw": false
              },
              "mode": "immediate",
              "transition": {
               "duration": 300
              }
             }
            ],
            "label": "2017-03-17",
            "method": "animate"
           },
           {
            "args": [
             [
              "2017-03-18"
             ],
             {
              "frame": {
               "duration": 300,
               "redraw": false
              },
              "mode": "immediate",
              "transition": {
               "duration": 300
              }
             }
            ],
            "label": "2017-03-18",
            "method": "animate"
           },
           {
            "args": [
             [
              "2017-03-19"
             ],
             {
              "frame": {
               "duration": 300,
               "redraw": false
              },
              "mode": "immediate",
              "transition": {
               "duration": 300
              }
             }
            ],
            "label": "2017-03-19",
            "method": "animate"
           },
           {
            "args": [
             [
              "2017-03-20"
             ],
             {
              "frame": {
               "duration": 300,
               "redraw": false
              },
              "mode": "immediate",
              "transition": {
               "duration": 300
              }
             }
            ],
            "label": "2017-03-20",
            "method": "animate"
           },
           {
            "args": [
             [
              "2017-03-21"
             ],
             {
              "frame": {
               "duration": 300,
               "redraw": false
              },
              "mode": "immediate",
              "transition": {
               "duration": 300
              }
             }
            ],
            "label": "2017-03-21",
            "method": "animate"
           },
           {
            "args": [
             [
              "2017-03-22"
             ],
             {
              "frame": {
               "duration": 300,
               "redraw": false
              },
              "mode": "immediate",
              "transition": {
               "duration": 300
              }
             }
            ],
            "label": "2017-03-22",
            "method": "animate"
           },
           {
            "args": [
             [
              "2017-03-23"
             ],
             {
              "frame": {
               "duration": 300,
               "redraw": false
              },
              "mode": "immediate",
              "transition": {
               "duration": 300
              }
             }
            ],
            "label": "2017-03-23",
            "method": "animate"
           },
           {
            "args": [
             [
              "2017-03-24"
             ],
             {
              "frame": {
               "duration": 300,
               "redraw": false
              },
              "mode": "immediate",
              "transition": {
               "duration": 300
              }
             }
            ],
            "label": "2017-03-24",
            "method": "animate"
           },
           {
            "args": [
             [
              "2017-03-25"
             ],
             {
              "frame": {
               "duration": 300,
               "redraw": false
              },
              "mode": "immediate",
              "transition": {
               "duration": 300
              }
             }
            ],
            "label": "2017-03-25",
            "method": "animate"
           },
           {
            "args": [
             [
              "2017-03-26"
             ],
             {
              "frame": {
               "duration": 300,
               "redraw": false
              },
              "mode": "immediate",
              "transition": {
               "duration": 300
              }
             }
            ],
            "label": "2017-03-26",
            "method": "animate"
           },
           {
            "args": [
             [
              "2017-03-27"
             ],
             {
              "frame": {
               "duration": 300,
               "redraw": false
              },
              "mode": "immediate",
              "transition": {
               "duration": 300
              }
             }
            ],
            "label": "2017-03-27",
            "method": "animate"
           },
           {
            "args": [
             [
              "2017-03-28"
             ],
             {
              "frame": {
               "duration": 300,
               "redraw": false
              },
              "mode": "immediate",
              "transition": {
               "duration": 300
              }
             }
            ],
            "label": "2017-03-28",
            "method": "animate"
           },
           {
            "args": [
             [
              "2017-03-29"
             ],
             {
              "frame": {
               "duration": 300,
               "redraw": false
              },
              "mode": "immediate",
              "transition": {
               "duration": 300
              }
             }
            ],
            "label": "2017-03-29",
            "method": "animate"
           },
           {
            "args": [
             [
              "2017-03-30"
             ],
             {
              "frame": {
               "duration": 300,
               "redraw": false
              },
              "mode": "immediate",
              "transition": {
               "duration": 300
              }
             }
            ],
            "label": "2017-03-30",
            "method": "animate"
           },
           {
            "args": [
             [
              "2017-03-31"
             ],
             {
              "frame": {
               "duration": 300,
               "redraw": false
              },
              "mode": "immediate",
              "transition": {
               "duration": 300
              }
             }
            ],
            "label": "2017-03-31",
            "method": "animate"
           },
           {
            "args": [
             [
              "2017-04-01"
             ],
             {
              "frame": {
               "duration": 300,
               "redraw": false
              },
              "mode": "immediate",
              "transition": {
               "duration": 300
              }
             }
            ],
            "label": "2017-04-01",
            "method": "animate"
           },
           {
            "args": [
             [
              "2017-04-02"
             ],
             {
              "frame": {
               "duration": 300,
               "redraw": false
              },
              "mode": "immediate",
              "transition": {
               "duration": 300
              }
             }
            ],
            "label": "2017-04-02",
            "method": "animate"
           },
           {
            "args": [
             [
              "2017-04-03"
             ],
             {
              "frame": {
               "duration": 300,
               "redraw": false
              },
              "mode": "immediate",
              "transition": {
               "duration": 300
              }
             }
            ],
            "label": "2017-04-03",
            "method": "animate"
           },
           {
            "args": [
             [
              "2017-04-04"
             ],
             {
              "frame": {
               "duration": 300,
               "redraw": false
              },
              "mode": "immediate",
              "transition": {
               "duration": 300
              }
             }
            ],
            "label": "2017-04-04",
            "method": "animate"
           },
           {
            "args": [
             [
              "2017-04-05"
             ],
             {
              "frame": {
               "duration": 300,
               "redraw": false
              },
              "mode": "immediate",
              "transition": {
               "duration": 300
              }
             }
            ],
            "label": "2017-04-05",
            "method": "animate"
           },
           {
            "args": [
             [
              "2017-04-06"
             ],
             {
              "frame": {
               "duration": 300,
               "redraw": false
              },
              "mode": "immediate",
              "transition": {
               "duration": 300
              }
             }
            ],
            "label": "2017-04-06",
            "method": "animate"
           },
           {
            "args": [
             [
              "2017-04-07"
             ],
             {
              "frame": {
               "duration": 300,
               "redraw": false
              },
              "mode": "immediate",
              "transition": {
               "duration": 300
              }
             }
            ],
            "label": "2017-04-07",
            "method": "animate"
           },
           {
            "args": [
             [
              "2017-04-08"
             ],
             {
              "frame": {
               "duration": 300,
               "redraw": false
              },
              "mode": "immediate",
              "transition": {
               "duration": 300
              }
             }
            ],
            "label": "2017-04-08",
            "method": "animate"
           },
           {
            "args": [
             [
              "2017-04-09"
             ],
             {
              "frame": {
               "duration": 300,
               "redraw": false
              },
              "mode": "immediate",
              "transition": {
               "duration": 300
              }
             }
            ],
            "label": "2017-04-09",
            "method": "animate"
           },
           {
            "args": [
             [
              "2017-04-10"
             ],
             {
              "frame": {
               "duration": 300,
               "redraw": false
              },
              "mode": "immediate",
              "transition": {
               "duration": 300
              }
             }
            ],
            "label": "2017-04-10",
            "method": "animate"
           },
           {
            "args": [
             [
              "2017-04-11"
             ],
             {
              "frame": {
               "duration": 300,
               "redraw": false
              },
              "mode": "immediate",
              "transition": {
               "duration": 300
              }
             }
            ],
            "label": "2017-04-11",
            "method": "animate"
           },
           {
            "args": [
             [
              "2017-04-12"
             ],
             {
              "frame": {
               "duration": 300,
               "redraw": false
              },
              "mode": "immediate",
              "transition": {
               "duration": 300
              }
             }
            ],
            "label": "2017-04-12",
            "method": "animate"
           },
           {
            "args": [
             [
              "2017-04-13"
             ],
             {
              "frame": {
               "duration": 300,
               "redraw": false
              },
              "mode": "immediate",
              "transition": {
               "duration": 300
              }
             }
            ],
            "label": "2017-04-13",
            "method": "animate"
           },
           {
            "args": [
             [
              "2017-04-14"
             ],
             {
              "frame": {
               "duration": 300,
               "redraw": false
              },
              "mode": "immediate",
              "transition": {
               "duration": 300
              }
             }
            ],
            "label": "2017-04-14",
            "method": "animate"
           },
           {
            "args": [
             [
              "2017-04-15"
             ],
             {
              "frame": {
               "duration": 300,
               "redraw": false
              },
              "mode": "immediate",
              "transition": {
               "duration": 300
              }
             }
            ],
            "label": "2017-04-15",
            "method": "animate"
           }
          ],
          "transition": {
           "duration": 300,
           "easing": "cubic-in-out"
          },
          "x": 0.1,
          "xanchor": "left",
          "y": 0,
          "yanchor": "top"
         }
        ],
        "updatemenus": [
         {
          "buttons": [
           {
            "args": [
             null,
             {
              "frame": {
               "duration": 500,
               "redraw": false
              },
              "fromcurrent": true,
              "transition": {
               "duration": 300,
               "easing": "quadratic-in-out"
              }
             }
            ],
            "label": "Play",
            "method": "animate"
           },
           {
            "args": [
             [
              null
             ],
             {
              "frame": {
               "duration": 0,
               "redraw": false
              },
              "mode": "immediate",
              "transition": {
               "duration": 0
              }
             }
            ],
            "label": "Pause",
            "method": "animate"
           }
          ],
          "direction": "left",
          "pad": {
           "r": 10,
           "t": 87
          },
          "showactive": false,
          "type": "buttons",
          "x": 0.1,
          "xanchor": "right",
          "y": 0,
          "yanchor": "top"
         }
        ]
       }
      },
      "text/html": [
       "<div id=\"c1d5258a-546e-4745-80a1-aff788808940\" style=\"height: 525px; width: 100%;\" class=\"plotly-graph-div\"></div><script type=\"text/javascript\">require([\"plotly\"], function(Plotly) { window.PLOTLYENV=window.PLOTLYENV || {};window.PLOTLYENV.BASE_URL=\"https://plot.ly\";\n",
       "    if (document.getElementById(\"c1d5258a-546e-4745-80a1-aff788808940\")) {\n",
       "        Plotly.plot(\n",
       "            'c1d5258a-546e-4745-80a1-aff788808940',\n",
       "            [{\"marker\": {\"size\": [199], \"sizemode\": \"area\", \"sizeref\": 0.2}, \"mode\": \"markers+text\", \"name\": \"United States\", \"text\": [\"United States:<br> 1\"], \"x\": [-0.9727184908692927], \"y\": [0.31122110953500615], \"type\": \"scatter\", \"uid\": \"c54a0506-5287-41aa-a052-f9c74294a9df\"}, {\"marker\": {\"size\": [199], \"sizemode\": \"area\", \"sizeref\": 0.2}, \"mode\": \"markers+text\", \"name\": \"Switzerland\", \"text\": [\"Switzerland:<br> 1\"], \"x\": [1.0], \"y\": [-0.002843251314555322], \"type\": \"scatter\", \"uid\": \"6e79338f-d99c-4d6d-87ff-526ed785d363\"}, {\"marker\": {\"size\": [199], \"sizemode\": \"area\", \"sizeref\": 0.2}, \"mode\": \"markers+text\", \"name\": \"Hungary\", \"text\": [\"Hungary:<br> 1\"], \"x\": [0.7605784698399345], \"y\": [0.6643286343828627], \"type\": \"scatter\", \"uid\": \"a7e17b3a-7292-4a11-b22c-2655f951334c\"}, {\"marker\": {\"size\": [181], \"sizemode\": \"area\", \"sizeref\": 0.2}, \"mode\": \"markers+text\", \"name\": \"Peru\", \"text\": [\"Peru:<br> 19\"], \"x\": [-0.9580682865544582], \"y\": [-0.44091557496873846], \"type\": \"scatter\", \"uid\": \"d0ddfd04-9eb5-449f-97c6-df0a29c611ac\"}, {\"marker\": {\"size\": [199], \"sizemode\": \"area\", \"sizeref\": 0.2}, \"mode\": \"markers+text\", \"name\": \"Malaysia\", \"text\": [\"Malaysia:<br> 1\"], \"x\": [0.7810581837481054], \"y\": [-0.6831549483891963], \"type\": \"scatter\", \"uid\": \"0ad5a1de-4b17-45bf-9337-1d0541170f4a\"}, {\"marker\": {\"size\": [199], \"sizemode\": \"area\", \"sizeref\": 0.2}, \"mode\": \"markers+text\", \"name\": \"Denmark\", \"text\": [\"Denmark:<br> 1\"], \"x\": [-0.5205505053977201], \"y\": [0.8854764574515823], \"type\": \"scatter\", \"uid\": \"0e22e018-3d63-47e2-8324-98d299049d3c\"}, {\"marker\": {\"size\": [185], \"sizemode\": \"area\", \"sizeref\": 0.2}, \"mode\": \"markers+text\", \"name\": \"Bolivia\", \"text\": [\"Bolivia:<br> 15\"], \"x\": [-0.4338427746903296], \"y\": [-0.887584282087857], \"type\": \"scatter\", \"uid\": \"440ac07e-a50b-4c7e-899b-be57cfa7cf17\"}, {\"marker\": {\"size\": [198], \"sizemode\": \"area\", \"sizeref\": 0.2}, \"mode\": \"markers+text\", \"name\": \"Austria\", \"text\": [\"Austria:<br> 2\"], \"x\": [0.1845688413887775], \"y\": [-0.8401672465167234], \"type\": \"scatter\", \"uid\": \"4ef07689-4022-4ce8-809b-4cc22fc27414\"}, {\"marker\": {\"size\": [199], \"sizemode\": \"area\", \"sizeref\": 0.2}, \"mode\": \"markers+text\", \"name\": \"Portugal\", \"text\": [\"Portugal:<br> 1\"], \"x\": [0.15897456253498307], \"y\": [0.9936391019076193], \"type\": \"scatter\", \"uid\": \"e91a0bfb-8f8c-430f-af26-18abfb7c63d8\"}],\n",
       "            {\"hovermode\": \"closest\", \"sliders\": [{\"active\": 0, \"currentvalue\": {\"font\": {\"size\": 20}, \"prefix\": \"Day:\", \"visible\": true, \"xanchor\": \"right\"}, \"len\": 0.9, \"pad\": {\"b\": 10, \"t\": 50}, \"steps\": [{\"args\": [[\"2017-01-06\"], {\"frame\": {\"duration\": 300, \"redraw\": false}, \"mode\": \"immediate\", \"transition\": {\"duration\": 300}}], \"label\": \"2017-01-06\", \"method\": \"animate\"}, {\"args\": [[\"2017-01-07\"], {\"frame\": {\"duration\": 300, \"redraw\": false}, \"mode\": \"immediate\", \"transition\": {\"duration\": 300}}], \"label\": \"2017-01-07\", \"method\": \"animate\"}, {\"args\": [[\"2017-01-08\"], {\"frame\": {\"duration\": 300, \"redraw\": false}, \"mode\": \"immediate\", \"transition\": {\"duration\": 300}}], \"label\": \"2017-01-08\", \"method\": \"animate\"}, {\"args\": [[\"2017-01-09\"], {\"frame\": {\"duration\": 300, \"redraw\": false}, \"mode\": \"immediate\", \"transition\": {\"duration\": 300}}], \"label\": \"2017-01-09\", \"method\": \"animate\"}, {\"args\": [[\"2017-01-10\"], {\"frame\": {\"duration\": 300, \"redraw\": false}, \"mode\": \"immediate\", \"transition\": {\"duration\": 300}}], \"label\": \"2017-01-10\", \"method\": \"animate\"}, {\"args\": [[\"2017-01-11\"], {\"frame\": {\"duration\": 300, \"redraw\": false}, \"mode\": \"immediate\", \"transition\": {\"duration\": 300}}], \"label\": \"2017-01-11\", \"method\": \"animate\"}, {\"args\": [[\"2017-01-12\"], {\"frame\": {\"duration\": 300, \"redraw\": false}, \"mode\": \"immediate\", \"transition\": {\"duration\": 300}}], \"label\": \"2017-01-12\", \"method\": \"animate\"}, {\"args\": [[\"2017-01-13\"], {\"frame\": {\"duration\": 300, \"redraw\": false}, \"mode\": \"immediate\", \"transition\": {\"duration\": 300}}], \"label\": \"2017-01-13\", \"method\": \"animate\"}, {\"args\": [[\"2017-01-14\"], {\"frame\": {\"duration\": 300, \"redraw\": false}, \"mode\": \"immediate\", \"transition\": {\"duration\": 300}}], \"label\": \"2017-01-14\", \"method\": \"animate\"}, {\"args\": [[\"2017-01-15\"], {\"frame\": {\"duration\": 300, \"redraw\": false}, \"mode\": \"immediate\", \"transition\": {\"duration\": 300}}], \"label\": \"2017-01-15\", \"method\": \"animate\"}, {\"args\": [[\"2017-01-16\"], {\"frame\": {\"duration\": 300, \"redraw\": false}, \"mode\": \"immediate\", \"transition\": {\"duration\": 300}}], \"label\": \"2017-01-16\", \"method\": \"animate\"}, {\"args\": [[\"2017-01-17\"], {\"frame\": {\"duration\": 300, \"redraw\": false}, \"mode\": \"immediate\", \"transition\": {\"duration\": 300}}], \"label\": \"2017-01-17\", \"method\": \"animate\"}, {\"args\": [[\"2017-01-18\"], {\"frame\": {\"duration\": 300, \"redraw\": false}, \"mode\": \"immediate\", \"transition\": {\"duration\": 300}}], \"label\": \"2017-01-18\", \"method\": \"animate\"}, {\"args\": [[\"2017-01-19\"], {\"frame\": {\"duration\": 300, \"redraw\": false}, \"mode\": \"immediate\", \"transition\": {\"duration\": 300}}], \"label\": \"2017-01-19\", \"method\": \"animate\"}, {\"args\": [[\"2017-01-20\"], {\"frame\": {\"duration\": 300, \"redraw\": false}, \"mode\": \"immediate\", \"transition\": {\"duration\": 300}}], \"label\": \"2017-01-20\", \"method\": \"animate\"}, {\"args\": [[\"2017-01-21\"], {\"frame\": {\"duration\": 300, \"redraw\": false}, \"mode\": \"immediate\", \"transition\": {\"duration\": 300}}], \"label\": \"2017-01-21\", \"method\": \"animate\"}, {\"args\": [[\"2017-01-22\"], {\"frame\": {\"duration\": 300, \"redraw\": false}, \"mode\": \"immediate\", \"transition\": {\"duration\": 300}}], \"label\": \"2017-01-22\", \"method\": \"animate\"}, {\"args\": [[\"2017-01-23\"], {\"frame\": {\"duration\": 300, \"redraw\": false}, \"mode\": \"immediate\", \"transition\": {\"duration\": 300}}], \"label\": \"2017-01-23\", \"method\": \"animate\"}, {\"args\": [[\"2017-01-24\"], {\"frame\": {\"duration\": 300, \"redraw\": false}, \"mode\": \"immediate\", \"transition\": {\"duration\": 300}}], \"label\": \"2017-01-24\", \"method\": \"animate\"}, {\"args\": [[\"2017-01-25\"], {\"frame\": {\"duration\": 300, \"redraw\": false}, \"mode\": \"immediate\", \"transition\": {\"duration\": 300}}], \"label\": \"2017-01-25\", \"method\": \"animate\"}, {\"args\": [[\"2017-01-26\"], {\"frame\": {\"duration\": 300, \"redraw\": false}, \"mode\": \"immediate\", \"transition\": {\"duration\": 300}}], \"label\": \"2017-01-26\", \"method\": \"animate\"}, {\"args\": [[\"2017-01-27\"], {\"frame\": {\"duration\": 300, \"redraw\": false}, \"mode\": \"immediate\", \"transition\": {\"duration\": 300}}], \"label\": \"2017-01-27\", \"method\": \"animate\"}, {\"args\": [[\"2017-01-28\"], {\"frame\": {\"duration\": 300, \"redraw\": false}, \"mode\": \"immediate\", \"transition\": {\"duration\": 300}}], \"label\": \"2017-01-28\", \"method\": \"animate\"}, {\"args\": [[\"2017-01-29\"], {\"frame\": {\"duration\": 300, \"redraw\": false}, \"mode\": \"immediate\", \"transition\": {\"duration\": 300}}], \"label\": \"2017-01-29\", \"method\": \"animate\"}, {\"args\": [[\"2017-01-30\"], {\"frame\": {\"duration\": 300, \"redraw\": false}, \"mode\": \"immediate\", \"transition\": {\"duration\": 300}}], \"label\": \"2017-01-30\", \"method\": \"animate\"}, {\"args\": [[\"2017-01-31\"], {\"frame\": {\"duration\": 300, \"redraw\": false}, \"mode\": \"immediate\", \"transition\": {\"duration\": 300}}], \"label\": \"2017-01-31\", \"method\": \"animate\"}, {\"args\": [[\"2017-02-01\"], {\"frame\": {\"duration\": 300, \"redraw\": false}, \"mode\": \"immediate\", \"transition\": {\"duration\": 300}}], \"label\": \"2017-02-01\", \"method\": \"animate\"}, {\"args\": [[\"2017-02-02\"], {\"frame\": {\"duration\": 300, \"redraw\": false}, \"mode\": \"immediate\", \"transition\": {\"duration\": 300}}], \"label\": \"2017-02-02\", \"method\": \"animate\"}, {\"args\": [[\"2017-02-03\"], {\"frame\": {\"duration\": 300, \"redraw\": false}, \"mode\": \"immediate\", \"transition\": {\"duration\": 300}}], \"label\": \"2017-02-03\", \"method\": \"animate\"}, {\"args\": [[\"2017-02-04\"], {\"frame\": {\"duration\": 300, \"redraw\": false}, \"mode\": \"immediate\", \"transition\": {\"duration\": 300}}], \"label\": \"2017-02-04\", \"method\": \"animate\"}, {\"args\": [[\"2017-02-05\"], {\"frame\": {\"duration\": 300, \"redraw\": false}, \"mode\": \"immediate\", \"transition\": {\"duration\": 300}}], \"label\": \"2017-02-05\", \"method\": \"animate\"}, {\"args\": [[\"2017-02-06\"], {\"frame\": {\"duration\": 300, \"redraw\": false}, \"mode\": \"immediate\", \"transition\": {\"duration\": 300}}], \"label\": \"2017-02-06\", \"method\": \"animate\"}, {\"args\": [[\"2017-02-07\"], {\"frame\": {\"duration\": 300, \"redraw\": false}, \"mode\": \"immediate\", \"transition\": {\"duration\": 300}}], \"label\": \"2017-02-07\", \"method\": \"animate\"}, {\"args\": [[\"2017-02-08\"], {\"frame\": {\"duration\": 300, \"redraw\": false}, \"mode\": \"immediate\", \"transition\": {\"duration\": 300}}], \"label\": \"2017-02-08\", \"method\": \"animate\"}, {\"args\": [[\"2017-02-09\"], {\"frame\": {\"duration\": 300, \"redraw\": false}, \"mode\": \"immediate\", \"transition\": {\"duration\": 300}}], \"label\": \"2017-02-09\", \"method\": \"animate\"}, {\"args\": [[\"2017-02-10\"], {\"frame\": {\"duration\": 300, \"redraw\": false}, \"mode\": \"immediate\", \"transition\": {\"duration\": 300}}], \"label\": \"2017-02-10\", \"method\": \"animate\"}, {\"args\": [[\"2017-02-11\"], {\"frame\": {\"duration\": 300, \"redraw\": false}, \"mode\": \"immediate\", \"transition\": {\"duration\": 300}}], \"label\": \"2017-02-11\", \"method\": \"animate\"}, {\"args\": [[\"2017-02-12\"], {\"frame\": {\"duration\": 300, \"redraw\": false}, \"mode\": \"immediate\", \"transition\": {\"duration\": 300}}], \"label\": \"2017-02-12\", \"method\": \"animate\"}, {\"args\": [[\"2017-02-13\"], {\"frame\": {\"duration\": 300, \"redraw\": false}, \"mode\": \"immediate\", \"transition\": {\"duration\": 300}}], \"label\": \"2017-02-13\", \"method\": \"animate\"}, {\"args\": [[\"2017-02-14\"], {\"frame\": {\"duration\": 300, \"redraw\": false}, \"mode\": \"immediate\", \"transition\": {\"duration\": 300}}], \"label\": \"2017-02-14\", \"method\": \"animate\"}, {\"args\": [[\"2017-02-15\"], {\"frame\": {\"duration\": 300, \"redraw\": false}, \"mode\": \"immediate\", \"transition\": {\"duration\": 300}}], \"label\": \"2017-02-15\", \"method\": \"animate\"}, {\"args\": [[\"2017-02-16\"], {\"frame\": {\"duration\": 300, \"redraw\": false}, \"mode\": \"immediate\", \"transition\": {\"duration\": 300}}], \"label\": \"2017-02-16\", \"method\": \"animate\"}, {\"args\": [[\"2017-02-17\"], {\"frame\": {\"duration\": 300, \"redraw\": false}, \"mode\": \"immediate\", \"transition\": {\"duration\": 300}}], \"label\": \"2017-02-17\", \"method\": \"animate\"}, {\"args\": [[\"2017-02-18\"], {\"frame\": {\"duration\": 300, \"redraw\": false}, \"mode\": \"immediate\", \"transition\": {\"duration\": 300}}], \"label\": \"2017-02-18\", \"method\": \"animate\"}, {\"args\": [[\"2017-02-19\"], {\"frame\": {\"duration\": 300, \"redraw\": false}, \"mode\": \"immediate\", \"transition\": {\"duration\": 300}}], \"label\": \"2017-02-19\", \"method\": \"animate\"}, {\"args\": [[\"2017-02-20\"], {\"frame\": {\"duration\": 300, \"redraw\": false}, \"mode\": \"immediate\", \"transition\": {\"duration\": 300}}], \"label\": \"2017-02-20\", \"method\": \"animate\"}, {\"args\": [[\"2017-02-21\"], {\"frame\": {\"duration\": 300, \"redraw\": false}, \"mode\": \"immediate\", \"transition\": {\"duration\": 300}}], \"label\": \"2017-02-21\", \"method\": \"animate\"}, {\"args\": [[\"2017-02-22\"], {\"frame\": {\"duration\": 300, \"redraw\": false}, \"mode\": \"immediate\", \"transition\": {\"duration\": 300}}], \"label\": \"2017-02-22\", \"method\": \"animate\"}, {\"args\": [[\"2017-02-23\"], {\"frame\": {\"duration\": 300, \"redraw\": false}, \"mode\": \"immediate\", \"transition\": {\"duration\": 300}}], \"label\": \"2017-02-23\", \"method\": \"animate\"}, {\"args\": [[\"2017-02-24\"], {\"frame\": {\"duration\": 300, \"redraw\": false}, \"mode\": \"immediate\", \"transition\": {\"duration\": 300}}], \"label\": \"2017-02-24\", \"method\": \"animate\"}, {\"args\": [[\"2017-02-25\"], {\"frame\": {\"duration\": 300, \"redraw\": false}, \"mode\": \"immediate\", \"transition\": {\"duration\": 300}}], \"label\": \"2017-02-25\", \"method\": \"animate\"}, {\"args\": [[\"2017-02-26\"], {\"frame\": {\"duration\": 300, \"redraw\": false}, \"mode\": \"immediate\", \"transition\": {\"duration\": 300}}], \"label\": \"2017-02-26\", \"method\": \"animate\"}, {\"args\": [[\"2017-02-27\"], {\"frame\": {\"duration\": 300, \"redraw\": false}, \"mode\": \"immediate\", \"transition\": {\"duration\": 300}}], \"label\": \"2017-02-27\", \"method\": \"animate\"}, {\"args\": [[\"2017-02-28\"], {\"frame\": {\"duration\": 300, \"redraw\": false}, \"mode\": \"immediate\", \"transition\": {\"duration\": 300}}], \"label\": \"2017-02-28\", \"method\": \"animate\"}, {\"args\": [[\"2017-03-01\"], {\"frame\": {\"duration\": 300, \"redraw\": false}, \"mode\": \"immediate\", \"transition\": {\"duration\": 300}}], \"label\": \"2017-03-01\", \"method\": \"animate\"}, {\"args\": [[\"2017-03-02\"], {\"frame\": {\"duration\": 300, \"redraw\": false}, \"mode\": \"immediate\", \"transition\": {\"duration\": 300}}], \"label\": \"2017-03-02\", \"method\": \"animate\"}, {\"args\": [[\"2017-03-03\"], {\"frame\": {\"duration\": 300, \"redraw\": false}, \"mode\": \"immediate\", \"transition\": {\"duration\": 300}}], \"label\": \"2017-03-03\", \"method\": \"animate\"}, {\"args\": [[\"2017-03-04\"], {\"frame\": {\"duration\": 300, \"redraw\": false}, \"mode\": \"immediate\", \"transition\": {\"duration\": 300}}], \"label\": \"2017-03-04\", \"method\": \"animate\"}, {\"args\": [[\"2017-03-05\"], {\"frame\": {\"duration\": 300, \"redraw\": false}, \"mode\": \"immediate\", \"transition\": {\"duration\": 300}}], \"label\": \"2017-03-05\", \"method\": \"animate\"}, {\"args\": [[\"2017-03-06\"], {\"frame\": {\"duration\": 300, \"redraw\": false}, \"mode\": \"immediate\", \"transition\": {\"duration\": 300}}], \"label\": \"2017-03-06\", \"method\": \"animate\"}, {\"args\": [[\"2017-03-07\"], {\"frame\": {\"duration\": 300, \"redraw\": false}, \"mode\": \"immediate\", \"transition\": {\"duration\": 300}}], \"label\": \"2017-03-07\", \"method\": \"animate\"}, {\"args\": [[\"2017-03-08\"], {\"frame\": {\"duration\": 300, \"redraw\": false}, \"mode\": \"immediate\", \"transition\": {\"duration\": 300}}], \"label\": \"2017-03-08\", \"method\": \"animate\"}, {\"args\": [[\"2017-03-09\"], {\"frame\": {\"duration\": 300, \"redraw\": false}, \"mode\": \"immediate\", \"transition\": {\"duration\": 300}}], \"label\": \"2017-03-09\", \"method\": \"animate\"}, {\"args\": [[\"2017-03-10\"], {\"frame\": {\"duration\": 300, \"redraw\": false}, \"mode\": \"immediate\", \"transition\": {\"duration\": 300}}], \"label\": \"2017-03-10\", \"method\": \"animate\"}, {\"args\": [[\"2017-03-11\"], {\"frame\": {\"duration\": 300, \"redraw\": false}, \"mode\": \"immediate\", \"transition\": {\"duration\": 300}}], \"label\": \"2017-03-11\", \"method\": \"animate\"}, {\"args\": [[\"2017-03-12\"], {\"frame\": {\"duration\": 300, \"redraw\": false}, \"mode\": \"immediate\", \"transition\": {\"duration\": 300}}], \"label\": \"2017-03-12\", \"method\": \"animate\"}, {\"args\": [[\"2017-03-13\"], {\"frame\": {\"duration\": 300, \"redraw\": false}, \"mode\": \"immediate\", \"transition\": {\"duration\": 300}}], \"label\": \"2017-03-13\", \"method\": \"animate\"}, {\"args\": [[\"2017-03-14\"], {\"frame\": {\"duration\": 300, \"redraw\": false}, \"mode\": \"immediate\", \"transition\": {\"duration\": 300}}], \"label\": \"2017-03-14\", \"method\": \"animate\"}, {\"args\": [[\"2017-03-15\"], {\"frame\": {\"duration\": 300, \"redraw\": false}, \"mode\": \"immediate\", \"transition\": {\"duration\": 300}}], \"label\": \"2017-03-15\", \"method\": \"animate\"}, {\"args\": [[\"2017-03-16\"], {\"frame\": {\"duration\": 300, \"redraw\": false}, \"mode\": \"immediate\", \"transition\": {\"duration\": 300}}], \"label\": \"2017-03-16\", \"method\": \"animate\"}, {\"args\": [[\"2017-03-17\"], {\"frame\": {\"duration\": 300, \"redraw\": false}, \"mode\": \"immediate\", \"transition\": {\"duration\": 300}}], \"label\": \"2017-03-17\", \"method\": \"animate\"}, {\"args\": [[\"2017-03-18\"], {\"frame\": {\"duration\": 300, \"redraw\": false}, \"mode\": \"immediate\", \"transition\": {\"duration\": 300}}], \"label\": \"2017-03-18\", \"method\": \"animate\"}, {\"args\": [[\"2017-03-19\"], {\"frame\": {\"duration\": 300, \"redraw\": false}, \"mode\": \"immediate\", \"transition\": {\"duration\": 300}}], \"label\": \"2017-03-19\", \"method\": \"animate\"}, {\"args\": [[\"2017-03-20\"], {\"frame\": {\"duration\": 300, \"redraw\": false}, \"mode\": \"immediate\", \"transition\": {\"duration\": 300}}], \"label\": \"2017-03-20\", \"method\": \"animate\"}, {\"args\": [[\"2017-03-21\"], {\"frame\": {\"duration\": 300, \"redraw\": false}, \"mode\": \"immediate\", \"transition\": {\"duration\": 300}}], \"label\": \"2017-03-21\", \"method\": \"animate\"}, {\"args\": [[\"2017-03-22\"], {\"frame\": {\"duration\": 300, \"redraw\": false}, \"mode\": \"immediate\", \"transition\": {\"duration\": 300}}], \"label\": \"2017-03-22\", \"method\": \"animate\"}, {\"args\": [[\"2017-03-23\"], {\"frame\": {\"duration\": 300, \"redraw\": false}, \"mode\": \"immediate\", \"transition\": {\"duration\": 300}}], \"label\": \"2017-03-23\", \"method\": \"animate\"}, {\"args\": [[\"2017-03-24\"], {\"frame\": {\"duration\": 300, \"redraw\": false}, \"mode\": \"immediate\", \"transition\": {\"duration\": 300}}], \"label\": \"2017-03-24\", \"method\": \"animate\"}, {\"args\": [[\"2017-03-25\"], {\"frame\": {\"duration\": 300, \"redraw\": false}, \"mode\": \"immediate\", \"transition\": {\"duration\": 300}}], \"label\": \"2017-03-25\", \"method\": \"animate\"}, {\"args\": [[\"2017-03-26\"], {\"frame\": {\"duration\": 300, \"redraw\": false}, \"mode\": \"immediate\", \"transition\": {\"duration\": 300}}], \"label\": \"2017-03-26\", \"method\": \"animate\"}, {\"args\": [[\"2017-03-27\"], {\"frame\": {\"duration\": 300, \"redraw\": false}, \"mode\": \"immediate\", \"transition\": {\"duration\": 300}}], \"label\": \"2017-03-27\", \"method\": \"animate\"}, {\"args\": [[\"2017-03-28\"], {\"frame\": {\"duration\": 300, \"redraw\": false}, \"mode\": \"immediate\", \"transition\": {\"duration\": 300}}], \"label\": \"2017-03-28\", \"method\": \"animate\"}, {\"args\": [[\"2017-03-29\"], {\"frame\": {\"duration\": 300, \"redraw\": false}, \"mode\": \"immediate\", \"transition\": {\"duration\": 300}}], \"label\": \"2017-03-29\", \"method\": \"animate\"}, {\"args\": [[\"2017-03-30\"], {\"frame\": {\"duration\": 300, \"redraw\": false}, \"mode\": \"immediate\", \"transition\": {\"duration\": 300}}], \"label\": \"2017-03-30\", \"method\": \"animate\"}, {\"args\": [[\"2017-03-31\"], {\"frame\": {\"duration\": 300, \"redraw\": false}, \"mode\": \"immediate\", \"transition\": {\"duration\": 300}}], \"label\": \"2017-03-31\", \"method\": \"animate\"}, {\"args\": [[\"2017-04-01\"], {\"frame\": {\"duration\": 300, \"redraw\": false}, \"mode\": \"immediate\", \"transition\": {\"duration\": 300}}], \"label\": \"2017-04-01\", \"method\": \"animate\"}, {\"args\": [[\"2017-04-02\"], {\"frame\": {\"duration\": 300, \"redraw\": false}, \"mode\": \"immediate\", \"transition\": {\"duration\": 300}}], \"label\": \"2017-04-02\", \"method\": \"animate\"}, {\"args\": [[\"2017-04-03\"], {\"frame\": {\"duration\": 300, \"redraw\": false}, \"mode\": \"immediate\", \"transition\": {\"duration\": 300}}], \"label\": \"2017-04-03\", \"method\": \"animate\"}, {\"args\": [[\"2017-04-04\"], {\"frame\": {\"duration\": 300, \"redraw\": false}, \"mode\": \"immediate\", \"transition\": {\"duration\": 300}}], \"label\": \"2017-04-04\", \"method\": \"animate\"}, {\"args\": [[\"2017-04-05\"], {\"frame\": {\"duration\": 300, \"redraw\": false}, \"mode\": \"immediate\", \"transition\": {\"duration\": 300}}], \"label\": \"2017-04-05\", \"method\": \"animate\"}, {\"args\": [[\"2017-04-06\"], {\"frame\": {\"duration\": 300, \"redraw\": false}, \"mode\": \"immediate\", \"transition\": {\"duration\": 300}}], \"label\": \"2017-04-06\", \"method\": \"animate\"}, {\"args\": [[\"2017-04-07\"], {\"frame\": {\"duration\": 300, \"redraw\": false}, \"mode\": \"immediate\", \"transition\": {\"duration\": 300}}], \"label\": \"2017-04-07\", \"method\": \"animate\"}, {\"args\": [[\"2017-04-08\"], {\"frame\": {\"duration\": 300, \"redraw\": false}, \"mode\": \"immediate\", \"transition\": {\"duration\": 300}}], \"label\": \"2017-04-08\", \"method\": \"animate\"}, {\"args\": [[\"2017-04-09\"], {\"frame\": {\"duration\": 300, \"redraw\": false}, \"mode\": \"immediate\", \"transition\": {\"duration\": 300}}], \"label\": \"2017-04-09\", \"method\": \"animate\"}, {\"args\": [[\"2017-04-10\"], {\"frame\": {\"duration\": 300, \"redraw\": false}, \"mode\": \"immediate\", \"transition\": {\"duration\": 300}}], \"label\": \"2017-04-10\", \"method\": \"animate\"}, {\"args\": [[\"2017-04-11\"], {\"frame\": {\"duration\": 300, \"redraw\": false}, \"mode\": \"immediate\", \"transition\": {\"duration\": 300}}], \"label\": \"2017-04-11\", \"method\": \"animate\"}, {\"args\": [[\"2017-04-12\"], {\"frame\": {\"duration\": 300, \"redraw\": false}, \"mode\": \"immediate\", \"transition\": {\"duration\": 300}}], \"label\": \"2017-04-12\", \"method\": \"animate\"}, {\"args\": [[\"2017-04-13\"], {\"frame\": {\"duration\": 300, \"redraw\": false}, \"mode\": \"immediate\", \"transition\": {\"duration\": 300}}], \"label\": \"2017-04-13\", \"method\": \"animate\"}, {\"args\": [[\"2017-04-14\"], {\"frame\": {\"duration\": 300, \"redraw\": false}, \"mode\": \"immediate\", \"transition\": {\"duration\": 300}}], \"label\": \"2017-04-14\", \"method\": \"animate\"}, {\"args\": [[\"2017-04-15\"], {\"frame\": {\"duration\": 300, \"redraw\": false}, \"mode\": \"immediate\", \"transition\": {\"duration\": 300}}], \"label\": \"2017-04-15\", \"method\": \"animate\"}], \"transition\": {\"duration\": 300, \"easing\": \"cubic-in-out\"}, \"x\": 0.1, \"xanchor\": \"left\", \"y\": 0, \"yanchor\": \"top\"}], \"updatemenus\": [{\"buttons\": [{\"args\": [null, {\"frame\": {\"duration\": 500, \"redraw\": false}, \"fromcurrent\": true, \"transition\": {\"duration\": 300, \"easing\": \"quadratic-in-out\"}}], \"label\": \"Play\", \"method\": \"animate\"}, {\"args\": [[null], {\"frame\": {\"duration\": 0, \"redraw\": false}, \"mode\": \"immediate\", \"transition\": {\"duration\": 0}}], \"label\": \"Pause\", \"method\": \"animate\"}], \"direction\": \"left\", \"pad\": {\"r\": 10, \"t\": 87}, \"showactive\": false, \"type\": \"buttons\", \"x\": 0.1, \"xanchor\": \"right\", \"y\": 0, \"yanchor\": \"top\"}]},\n",
       "            {\"showLink\": false, \"linkText\": \"Export to plot.ly\", \"plotlyServerURL\": \"https://plot.ly\"}\n",
       "        ).then(function () {return Plotly.addFrames('c1d5258a-546e-4745-80a1-aff788808940',[{\"data\": [{\"marker\": {\"size\": [199], \"sizemode\": \"area\", \"sizeref\": 0.05}, \"mode\": \"markers+text\", \"name\": \"United States\", \"text\": [\"United States:<br> 1\"], \"x\": [1.0], \"y\": [6.622738357719982e-09], \"type\": \"scatter\"}, {\"marker\": {\"size\": [199], \"sizemode\": \"area\", \"sizeref\": 0.05}, \"mode\": \"markers+text\", \"name\": \"Switzerland\", \"text\": [\"Switzerland:<br> 1\"], \"x\": [0.7660444974899292], \"y\": [0.6427875757217407], \"type\": \"scatter\"}, {\"marker\": {\"size\": [199], \"sizemode\": \"area\", \"sizeref\": 0.05}, \"mode\": \"markers+text\", \"name\": \"Hungary\", \"text\": [\"Hungary:<br> 1\"], \"x\": [0.17364825308322906], \"y\": [0.9848077297210693], \"type\": \"scatter\"}, {\"marker\": {\"size\": [181], \"sizemode\": \"area\", \"sizeref\": 0.05}, \"mode\": \"markers+text\", \"name\": \"Peru\", \"text\": [\"Peru:<br> 19\"], \"x\": [-0.5], \"y\": [0.8660253882408142], \"type\": \"scatter\"}, {\"marker\": {\"size\": [199], \"sizemode\": \"area\", \"sizeref\": 0.05}, \"mode\": \"markers+text\", \"name\": \"Malaysia\", \"text\": [\"Malaysia:<br> 1\"], \"x\": [-0.9396925568580627], \"y\": [0.3420202136039734], \"type\": \"scatter\"}, {\"marker\": {\"size\": [199], \"sizemode\": \"area\", \"sizeref\": 0.05}, \"mode\": \"markers+text\", \"name\": \"Denmark\", \"text\": [\"Denmark:<br> 1\"], \"x\": [-0.9396925568580627], \"y\": [-0.3420201539993286], \"type\": \"scatter\"}, {\"marker\": {\"size\": [185], \"sizemode\": \"area\", \"sizeref\": 0.05}, \"mode\": \"markers+text\", \"name\": \"Bolivia\", \"text\": [\"Bolivia:<br> 15\"], \"x\": [-0.49999988079071045], \"y\": [-0.866025447845459], \"type\": \"scatter\"}, {\"marker\": {\"size\": [198], \"sizemode\": \"area\", \"sizeref\": 0.05}, \"mode\": \"markers+text\", \"name\": \"Austria\", \"text\": [\"Austria:<br> 2\"], \"x\": [0.1736481785774231], \"y\": [-0.9848077297210693], \"type\": \"scatter\"}, {\"marker\": {\"size\": [199], \"sizemode\": \"area\", \"sizeref\": 0.05}, \"mode\": \"markers+text\", \"name\": \"Portugal\", \"text\": [\"Portugal:<br> 1\"], \"x\": [0.7660443782806396], \"y\": [-0.642787754535675], \"type\": \"scatter\"}], \"name\": \"2017-01-06\"}, {\"data\": [{\"marker\": {\"size\": [199], \"sizemode\": \"area\", \"sizeref\": 0.05}, \"mode\": \"markers+text\", \"name\": \"United States\", \"text\": [\"United States:<br> 1\"], \"x\": [1.0], \"y\": [6.622738357719982e-09], \"type\": \"scatter\"}, {\"marker\": {\"size\": [199], \"sizemode\": \"area\", \"sizeref\": 0.05}, \"mode\": \"markers+text\", \"name\": \"Switzerland\", \"text\": [\"Switzerland:<br> 1\"], \"x\": [0.7660444974899292], \"y\": [0.6427875757217407], \"type\": \"scatter\"}, {\"marker\": {\"size\": [199], \"sizemode\": \"area\", \"sizeref\": 0.05}, \"mode\": \"markers+text\", \"name\": \"Hungary\", \"text\": [\"Hungary:<br> 1\"], \"x\": [0.17364825308322906], \"y\": [0.9848077297210693], \"type\": \"scatter\"}, {\"marker\": {\"size\": [189], \"sizemode\": \"area\", \"sizeref\": 0.05}, \"mode\": \"markers+text\", \"name\": \"Peru\", \"text\": [\"Peru:<br> 11\"], \"x\": [-0.5], \"y\": [0.8660253882408142], \"type\": \"scatter\"}, {\"marker\": {\"size\": [199], \"sizemode\": \"area\", \"sizeref\": 0.05}, \"mode\": \"markers+text\", \"name\": \"Malaysia\", \"text\": [\"Malaysia:<br> 1\"], \"x\": [-0.9396925568580627], \"y\": [0.3420202136039734], \"type\": \"scatter\"}, {\"marker\": {\"size\": [199], \"sizemode\": \"area\", \"sizeref\": 0.05}, \"mode\": \"markers+text\", \"name\": \"Denmark\", \"text\": [\"Denmark:<br> 1\"], \"x\": [-0.9396925568580627], \"y\": [-0.3420201539993286], \"type\": \"scatter\"}, {\"marker\": {\"size\": [190], \"sizemode\": \"area\", \"sizeref\": 0.05}, \"mode\": \"markers+text\", \"name\": \"Bolivia\", \"text\": [\"Bolivia:<br> 10\"], \"x\": [-0.49999988079071045], \"y\": [-0.866025447845459], \"type\": \"scatter\"}, {\"marker\": {\"size\": [199], \"sizemode\": \"area\", \"sizeref\": 0.05}, \"mode\": \"markers+text\", \"name\": \"Austria\", \"text\": [\"Austria:<br> 1\"], \"x\": [0.1736481785774231], \"y\": [-0.9848077297210693], \"type\": \"scatter\"}, {\"marker\": {\"size\": [199], \"sizemode\": \"area\", \"sizeref\": 0.05}, \"mode\": \"markers+text\", \"name\": \"Portugal\", \"text\": [\"Portugal:<br> 1\"], \"x\": [0.7660443782806396], \"y\": [-0.642787754535675], \"type\": \"scatter\"}], \"name\": \"2017-01-07\"}, {\"data\": [{\"marker\": {\"size\": [199], \"sizemode\": \"area\", \"sizeref\": 0.05}, \"mode\": \"markers+text\", \"name\": \"United States\", \"text\": [\"United States:<br> 1\"], \"x\": [1.0], \"y\": [6.622738357719982e-09], \"type\": \"scatter\"}, {\"marker\": {\"size\": [199], \"sizemode\": \"area\", \"sizeref\": 0.05}, \"mode\": \"markers+text\", \"name\": \"Switzerland\", \"text\": [\"Switzerland:<br> 1\"], \"x\": [0.7660444974899292], \"y\": [0.6427875757217407], \"type\": \"scatter\"}, {\"marker\": {\"size\": [199], \"sizemode\": \"area\", \"sizeref\": 0.05}, \"mode\": \"markers+text\", \"name\": \"Hungary\", \"text\": [\"Hungary:<br> 1\"], \"x\": [0.17364825308322906], \"y\": [0.9848077297210693], \"type\": \"scatter\"}, {\"marker\": {\"size\": [190], \"sizemode\": \"area\", \"sizeref\": 0.05}, \"mode\": \"markers+text\", \"name\": \"Peru\", \"text\": [\"Peru:<br> 10\"], \"x\": [-0.5], \"y\": [0.8660253882408142], \"type\": \"scatter\"}, {\"marker\": {\"size\": [199], \"sizemode\": \"area\", \"sizeref\": 0.05}, \"mode\": \"markers+text\", \"name\": \"Malaysia\", \"text\": [\"Malaysia:<br> 1\"], \"x\": [-0.9396925568580627], \"y\": [0.3420202136039734], \"type\": \"scatter\"}, {\"marker\": {\"size\": [199], \"sizemode\": \"area\", \"sizeref\": 0.05}, \"mode\": \"markers+text\", \"name\": \"Denmark\", \"text\": [\"Denmark:<br> 1\"], \"x\": [-0.9396925568580627], \"y\": [-0.3420201539993286], \"type\": \"scatter\"}, {\"marker\": {\"size\": [190], \"sizemode\": \"area\", \"sizeref\": 0.05}, \"mode\": \"markers+text\", \"name\": \"Bolivia\", \"text\": [\"Bolivia:<br> 10\"], \"x\": [-0.49999988079071045], \"y\": [-0.866025447845459], \"type\": \"scatter\"}, {\"marker\": {\"size\": [199], \"sizemode\": \"area\", \"sizeref\": 0.05}, \"mode\": \"markers+text\", \"name\": \"Austria\", \"text\": [\"Austria:<br> 1\"], \"x\": [0.1736481785774231], \"y\": [-0.9848077297210693], \"type\": \"scatter\"}, {\"marker\": {\"size\": [199], \"sizemode\": \"area\", \"sizeref\": 0.05}, \"mode\": \"markers+text\", \"name\": \"Portugal\", \"text\": [\"Portugal:<br> 1\"], \"x\": [0.7660443782806396], \"y\": [-0.642787754535675], \"type\": \"scatter\"}], \"name\": \"2017-01-08\"}, {\"data\": [{\"marker\": {\"size\": [199], \"sizemode\": \"area\", \"sizeref\": 0.05}, \"mode\": \"markers+text\", \"name\": \"United States\", \"text\": [\"United States:<br> 1\"], \"x\": [1.0], \"y\": [6.622738357719982e-09], \"type\": \"scatter\"}, {\"marker\": {\"size\": [199], \"sizemode\": \"area\", \"sizeref\": 0.05}, \"mode\": \"markers+text\", \"name\": \"Switzerland\", \"text\": [\"Switzerland:<br> 1\"], \"x\": [0.7660444974899292], \"y\": [0.6427875757217407], \"type\": \"scatter\"}, {\"marker\": {\"size\": [199], \"sizemode\": \"area\", \"sizeref\": 0.05}, \"mode\": \"markers+text\", \"name\": \"Hungary\", \"text\": [\"Hungary:<br> 1\"], \"x\": [0.17364825308322906], \"y\": [0.9848077297210693], \"type\": \"scatter\"}, {\"marker\": {\"size\": [191], \"sizemode\": \"area\", \"sizeref\": 0.05}, \"mode\": \"markers+text\", \"name\": \"Peru\", \"text\": [\"Peru:<br> 9\"], \"x\": [-0.5], \"y\": [0.8660253882408142], \"type\": \"scatter\"}, {\"marker\": {\"size\": [199], \"sizemode\": \"area\", \"sizeref\": 0.05}, \"mode\": \"markers+text\", \"name\": \"Malaysia\", \"text\": [\"Malaysia:<br> 1\"], \"x\": [-0.9396925568580627], \"y\": [0.3420202136039734], \"type\": \"scatter\"}, {\"marker\": {\"size\": [199], \"sizemode\": \"area\", \"sizeref\": 0.05}, \"mode\": \"markers+text\", \"name\": \"Denmark\", \"text\": [\"Denmark:<br> 1\"], \"x\": [-0.9396925568580627], \"y\": [-0.3420201539993286], \"type\": \"scatter\"}, {\"marker\": {\"size\": [195], \"sizemode\": \"area\", \"sizeref\": 0.05}, \"mode\": \"markers+text\", \"name\": \"Bolivia\", \"text\": [\"Bolivia:<br> 5\"], \"x\": [-0.49999988079071045], \"y\": [-0.866025447845459], \"type\": \"scatter\"}, {\"marker\": {\"size\": [199], \"sizemode\": \"area\", \"sizeref\": 0.05}, \"mode\": \"markers+text\", \"name\": \"Austria\", \"text\": [\"Austria:<br> 1\"], \"x\": [0.1736481785774231], \"y\": [-0.9848077297210693], \"type\": \"scatter\"}, {\"marker\": {\"size\": [199], \"sizemode\": \"area\", \"sizeref\": 0.05}, \"mode\": \"markers+text\", \"name\": \"Portugal\", \"text\": [\"Portugal:<br> 1\"], \"x\": [0.7660443782806396], \"y\": [-0.642787754535675], \"type\": \"scatter\"}], \"name\": \"2017-01-09\"}, {\"data\": [{\"marker\": {\"size\": [198], \"sizemode\": \"area\", \"sizeref\": 0.05}, \"mode\": \"markers+text\", \"name\": \"United States\", \"text\": [\"United States:<br> 2\"], \"x\": [1.0], \"y\": [6.622738357719982e-09], \"type\": \"scatter\"}, {\"marker\": {\"size\": [199], \"sizemode\": \"area\", \"sizeref\": 0.05}, \"mode\": \"markers+text\", \"name\": \"Switzerland\", \"text\": [\"Switzerland:<br> 1\"], \"x\": [0.7660444974899292], \"y\": [0.6427875757217407], \"type\": \"scatter\"}, {\"marker\": {\"size\": [199], \"sizemode\": \"area\", \"sizeref\": 0.05}, \"mode\": \"markers+text\", \"name\": \"Hungary\", \"text\": [\"Hungary:<br> 1\"], \"x\": [0.17364825308322906], \"y\": [0.9848077297210693], \"type\": \"scatter\"}, {\"marker\": {\"size\": [191], \"sizemode\": \"area\", \"sizeref\": 0.05}, \"mode\": \"markers+text\", \"name\": \"Peru\", \"text\": [\"Peru:<br> 9\"], \"x\": [-0.5], \"y\": [0.8660253882408142], \"type\": \"scatter\"}, {\"marker\": {\"size\": [199], \"sizemode\": \"area\", \"sizeref\": 0.05}, \"mode\": \"markers+text\", \"name\": \"Malaysia\", \"text\": [\"Malaysia:<br> 1\"], \"x\": [-0.9396925568580627], \"y\": [0.3420202136039734], \"type\": \"scatter\"}, {\"marker\": {\"size\": [199], \"sizemode\": \"area\", \"sizeref\": 0.05}, \"mode\": \"markers+text\", \"name\": \"Denmark\", \"text\": [\"Denmark:<br> 1\"], \"x\": [-0.9396925568580627], \"y\": [-0.3420201539993286], \"type\": \"scatter\"}, {\"marker\": {\"size\": [195], \"sizemode\": \"area\", \"sizeref\": 0.05}, \"mode\": \"markers+text\", \"name\": \"Bolivia\", \"text\": [\"Bolivia:<br> 5\"], \"x\": [-0.49999988079071045], \"y\": [-0.866025447845459], \"type\": \"scatter\"}, {\"marker\": {\"size\": [199], \"sizemode\": \"area\", \"sizeref\": 0.05}, \"mode\": \"markers+text\", \"name\": \"Austria\", \"text\": [\"Austria:<br> 1\"], \"x\": [0.1736481785774231], \"y\": [-0.9848077297210693], \"type\": \"scatter\"}, {\"marker\": {\"size\": [199], \"sizemode\": \"area\", \"sizeref\": 0.05}, \"mode\": \"markers+text\", \"name\": \"Portugal\", \"text\": [\"Portugal:<br> 1\"], \"x\": [0.7660443782806396], \"y\": [-0.642787754535675], \"type\": \"scatter\"}], \"name\": \"2017-01-10\"}, {\"data\": [{\"marker\": {\"size\": [198], \"sizemode\": \"area\", \"sizeref\": 0.05}, \"mode\": \"markers+text\", \"name\": \"United States\", \"text\": [\"United States:<br> 2\"], \"x\": [1.0], \"y\": [6.622738357719982e-09], \"type\": \"scatter\"}, {\"marker\": {\"size\": [199], \"sizemode\": \"area\", \"sizeref\": 0.05}, \"mode\": \"markers+text\", \"name\": \"Switzerland\", \"text\": [\"Switzerland:<br> 1\"], \"x\": [0.7660444974899292], \"y\": [0.6427875757217407], \"type\": \"scatter\"}, {\"marker\": {\"size\": [199], \"sizemode\": \"area\", \"sizeref\": 0.05}, \"mode\": \"markers+text\", \"name\": \"Hungary\", \"text\": [\"Hungary:<br> 1\"], \"x\": [0.17364825308322906], \"y\": [0.9848077297210693], \"type\": \"scatter\"}, {\"marker\": {\"size\": [191], \"sizemode\": \"area\", \"sizeref\": 0.05}, \"mode\": \"markers+text\", \"name\": \"Peru\", \"text\": [\"Peru:<br> 9\"], \"x\": [-0.5], \"y\": [0.8660253882408142], \"type\": \"scatter\"}, {\"marker\": {\"size\": [199], \"sizemode\": \"area\", \"sizeref\": 0.05}, \"mode\": \"markers+text\", \"name\": \"Malaysia\", \"text\": [\"Malaysia:<br> 1\"], \"x\": [-0.9396925568580627], \"y\": [0.3420202136039734], \"type\": \"scatter\"}, {\"marker\": {\"size\": [199], \"sizemode\": \"area\", \"sizeref\": 0.05}, \"mode\": \"markers+text\", \"name\": \"Denmark\", \"text\": [\"Denmark:<br> 1\"], \"x\": [-0.9396925568580627], \"y\": [-0.3420201539993286], \"type\": \"scatter\"}, {\"marker\": {\"size\": [196], \"sizemode\": \"area\", \"sizeref\": 0.05}, \"mode\": \"markers+text\", \"name\": \"Bolivia\", \"text\": [\"Bolivia:<br> 4\"], \"x\": [-0.49999988079071045], \"y\": [-0.866025447845459], \"type\": \"scatter\"}, {\"marker\": {\"size\": [199], \"sizemode\": \"area\", \"sizeref\": 0.05}, \"mode\": \"markers+text\", \"name\": \"Austria\", \"text\": [\"Austria:<br> 1\"], \"x\": [0.1736481785774231], \"y\": [-0.9848077297210693], \"type\": \"scatter\"}, {\"marker\": {\"size\": [199], \"sizemode\": \"area\", \"sizeref\": 0.05}, \"mode\": \"markers+text\", \"name\": \"Portugal\", \"text\": [\"Portugal:<br> 1\"], \"x\": [0.7660443782806396], \"y\": [-0.642787754535675], \"type\": \"scatter\"}], \"name\": \"2017-01-11\"}, {\"data\": [{\"marker\": {\"size\": [198], \"sizemode\": \"area\", \"sizeref\": 0.05}, \"mode\": \"markers+text\", \"name\": \"United States\", \"text\": [\"United States:<br> 2\"], \"x\": [1.0], \"y\": [6.622738357719982e-09], \"type\": \"scatter\"}, {\"marker\": {\"size\": [199], \"sizemode\": \"area\", \"sizeref\": 0.05}, \"mode\": \"markers+text\", \"name\": \"Switzerland\", \"text\": [\"Switzerland:<br> 1\"], \"x\": [0.7660444974899292], \"y\": [0.6427875757217407], \"type\": \"scatter\"}, {\"marker\": {\"size\": [199], \"sizemode\": \"area\", \"sizeref\": 0.05}, \"mode\": \"markers+text\", \"name\": \"Hungary\", \"text\": [\"Hungary:<br> 1\"], \"x\": [0.17364825308322906], \"y\": [0.9848077297210693], \"type\": \"scatter\"}, {\"marker\": {\"size\": [191], \"sizemode\": \"area\", \"sizeref\": 0.05}, \"mode\": \"markers+text\", \"name\": \"Peru\", \"text\": [\"Peru:<br> 9\"], \"x\": [-0.5], \"y\": [0.8660253882408142], \"type\": \"scatter\"}, {\"marker\": {\"size\": [199], \"sizemode\": \"area\", \"sizeref\": 0.05}, \"mode\": \"markers+text\", \"name\": \"Malaysia\", \"text\": [\"Malaysia:<br> 1\"], \"x\": [-0.9396925568580627], \"y\": [0.3420202136039734], \"type\": \"scatter\"}, {\"marker\": {\"size\": [199], \"sizemode\": \"area\", \"sizeref\": 0.05}, \"mode\": \"markers+text\", \"name\": \"Denmark\", \"text\": [\"Denmark:<br> 1\"], \"x\": [-0.9396925568580627], \"y\": [-0.3420201539993286], \"type\": \"scatter\"}, {\"marker\": {\"size\": [196], \"sizemode\": \"area\", \"sizeref\": 0.05}, \"mode\": \"markers+text\", \"name\": \"Bolivia\", \"text\": [\"Bolivia:<br> 4\"], \"x\": [-0.49999988079071045], \"y\": [-0.866025447845459], \"type\": \"scatter\"}, {\"marker\": {\"size\": [199], \"sizemode\": \"area\", \"sizeref\": 0.05}, \"mode\": \"markers+text\", \"name\": \"Austria\", \"text\": [\"Austria:<br> 1\"], \"x\": [0.1736481785774231], \"y\": [-0.9848077297210693], \"type\": \"scatter\"}, {\"marker\": {\"size\": [199], \"sizemode\": \"area\", \"sizeref\": 0.05}, \"mode\": \"markers+text\", \"name\": \"Portugal\", \"text\": [\"Portugal:<br> 1\"], \"x\": [0.7660443782806396], \"y\": [-0.642787754535675], \"type\": \"scatter\"}], \"name\": \"2017-01-12\"}, {\"data\": [{\"marker\": {\"size\": [198], \"sizemode\": \"area\", \"sizeref\": 0.05}, \"mode\": \"markers+text\", \"name\": \"United States\", \"text\": [\"United States:<br> 2\"], \"x\": [1.0], \"y\": [6.622738357719982e-09], \"type\": \"scatter\"}, {\"marker\": {\"size\": [199], \"sizemode\": \"area\", \"sizeref\": 0.05}, \"mode\": \"markers+text\", \"name\": \"Switzerland\", \"text\": [\"Switzerland:<br> 1\"], \"x\": [0.7660444974899292], \"y\": [0.6427875757217407], \"type\": \"scatter\"}, {\"marker\": {\"size\": [199], \"sizemode\": \"area\", \"sizeref\": 0.05}, \"mode\": \"markers+text\", \"name\": \"Hungary\", \"text\": [\"Hungary:<br> 1\"], \"x\": [0.17364825308322906], \"y\": [0.9848077297210693], \"type\": \"scatter\"}, {\"marker\": {\"size\": [190], \"sizemode\": \"area\", \"sizeref\": 0.05}, \"mode\": \"markers+text\", \"name\": \"Peru\", \"text\": [\"Peru:<br> 10\"], \"x\": [-0.5], \"y\": [0.8660253882408142], \"type\": \"scatter\"}, {\"marker\": {\"size\": [199], \"sizemode\": \"area\", \"sizeref\": 0.05}, \"mode\": \"markers+text\", \"name\": \"Malaysia\", \"text\": [\"Malaysia:<br> 1\"], \"x\": [-0.9396925568580627], \"y\": [0.3420202136039734], \"type\": \"scatter\"}, {\"marker\": {\"size\": [199], \"sizemode\": \"area\", \"sizeref\": 0.05}, \"mode\": \"markers+text\", \"name\": \"Denmark\", \"text\": [\"Denmark:<br> 1\"], \"x\": [-0.9396925568580627], \"y\": [-0.3420201539993286], \"type\": \"scatter\"}, {\"marker\": {\"size\": [193], \"sizemode\": \"area\", \"sizeref\": 0.05}, \"mode\": \"markers+text\", \"name\": \"Bolivia\", \"text\": [\"Bolivia:<br> 7\"], \"x\": [-0.49999988079071045], \"y\": [-0.866025447845459], \"type\": \"scatter\"}, {\"marker\": {\"size\": [199], \"sizemode\": \"area\", \"sizeref\": 0.05}, \"mode\": \"markers+text\", \"name\": \"Austria\", \"text\": [\"Austria:<br> 1\"], \"x\": [0.1736481785774231], \"y\": [-0.9848077297210693], \"type\": \"scatter\"}, {\"marker\": {\"size\": [199], \"sizemode\": \"area\", \"sizeref\": 0.05}, \"mode\": \"markers+text\", \"name\": \"Portugal\", \"text\": [\"Portugal:<br> 1\"], \"x\": [0.7660443782806396], \"y\": [-0.642787754535675], \"type\": \"scatter\"}], \"name\": \"2017-01-13\"}, {\"data\": [{\"marker\": {\"size\": [198], \"sizemode\": \"area\", \"sizeref\": 0.05}, \"mode\": \"markers+text\", \"name\": \"United States\", \"text\": [\"United States:<br> 2\"], \"x\": [1.0], \"y\": [6.622738357719982e-09], \"type\": \"scatter\"}, {\"marker\": {\"size\": [199], \"sizemode\": \"area\", \"sizeref\": 0.05}, \"mode\": \"markers+text\", \"name\": \"Switzerland\", \"text\": [\"Switzerland:<br> 1\"], \"x\": [0.7660444974899292], \"y\": [0.6427875757217407], \"type\": \"scatter\"}, {\"marker\": {\"size\": [199], \"sizemode\": \"area\", \"sizeref\": 0.05}, \"mode\": \"markers+text\", \"name\": \"Hungary\", \"text\": [\"Hungary:<br> 1\"], \"x\": [0.17364825308322906], \"y\": [0.9848077297210693], \"type\": \"scatter\"}, {\"marker\": {\"size\": [190], \"sizemode\": \"area\", \"sizeref\": 0.05}, \"mode\": \"markers+text\", \"name\": \"Peru\", \"text\": [\"Peru:<br> 10\"], \"x\": [-0.5], \"y\": [0.8660253882408142], \"type\": \"scatter\"}, {\"marker\": {\"size\": [199], \"sizemode\": \"area\", \"sizeref\": 0.05}, \"mode\": \"markers+text\", \"name\": \"Malaysia\", \"text\": [\"Malaysia:<br> 1\"], \"x\": [-0.9396925568580627], \"y\": [0.3420202136039734], \"type\": \"scatter\"}, {\"marker\": {\"size\": [199], \"sizemode\": \"area\", \"sizeref\": 0.05}, \"mode\": \"markers+text\", \"name\": \"Denmark\", \"text\": [\"Denmark:<br> 1\"], \"x\": [-0.9396925568580627], \"y\": [-0.3420201539993286], \"type\": \"scatter\"}, {\"marker\": {\"size\": [193], \"sizemode\": \"area\", \"sizeref\": 0.05}, \"mode\": \"markers+text\", \"name\": \"Bolivia\", \"text\": [\"Bolivia:<br> 7\"], \"x\": [-0.49999988079071045], \"y\": [-0.866025447845459], \"type\": \"scatter\"}, {\"marker\": {\"size\": [199], \"sizemode\": \"area\", \"sizeref\": 0.05}, \"mode\": \"markers+text\", \"name\": \"Austria\", \"text\": [\"Austria:<br> 1\"], \"x\": [0.1736481785774231], \"y\": [-0.9848077297210693], \"type\": \"scatter\"}, {\"marker\": {\"size\": [199], \"sizemode\": \"area\", \"sizeref\": 0.05}, \"mode\": \"markers+text\", \"name\": \"Portugal\", \"text\": [\"Portugal:<br> 1\"], \"x\": [0.7660443782806396], \"y\": [-0.642787754535675], \"type\": \"scatter\"}], \"name\": \"2017-01-14\"}, {\"data\": [{\"marker\": {\"size\": [198], \"sizemode\": \"area\", \"sizeref\": 0.05}, \"mode\": \"markers+text\", \"name\": \"United States\", \"text\": [\"United States:<br> 2\"], \"x\": [1.0], \"y\": [6.622738357719982e-09], \"type\": \"scatter\"}, {\"marker\": {\"size\": [199], \"sizemode\": \"area\", \"sizeref\": 0.05}, \"mode\": \"markers+text\", \"name\": \"Switzerland\", \"text\": [\"Switzerland:<br> 1\"], \"x\": [0.7660444974899292], \"y\": [0.6427875757217407], \"type\": \"scatter\"}, {\"marker\": {\"size\": [199], \"sizemode\": \"area\", \"sizeref\": 0.05}, \"mode\": \"markers+text\", \"name\": \"Hungary\", \"text\": [\"Hungary:<br> 1\"], \"x\": [0.17364825308322906], \"y\": [0.9848077297210693], \"type\": \"scatter\"}, {\"marker\": {\"size\": [190], \"sizemode\": \"area\", \"sizeref\": 0.05}, \"mode\": \"markers+text\", \"name\": \"Peru\", \"text\": [\"Peru:<br> 10\"], \"x\": [-0.5], \"y\": [0.8660253882408142], \"type\": \"scatter\"}, {\"marker\": {\"size\": [199], \"sizemode\": \"area\", \"sizeref\": 0.05}, \"mode\": \"markers+text\", \"name\": \"Malaysia\", \"text\": [\"Malaysia:<br> 1\"], \"x\": [-0.9396925568580627], \"y\": [0.3420202136039734], \"type\": \"scatter\"}, {\"marker\": {\"size\": [199], \"sizemode\": \"area\", \"sizeref\": 0.05}, \"mode\": \"markers+text\", \"name\": \"Denmark\", \"text\": [\"Denmark:<br> 1\"], \"x\": [-0.9396925568580627], \"y\": [-0.3420201539993286], \"type\": \"scatter\"}, {\"marker\": {\"size\": [193], \"sizemode\": \"area\", \"sizeref\": 0.05}, \"mode\": \"markers+text\", \"name\": \"Bolivia\", \"text\": [\"Bolivia:<br> 7\"], \"x\": [-0.49999988079071045], \"y\": [-0.866025447845459], \"type\": \"scatter\"}, {\"marker\": {\"size\": [199], \"sizemode\": \"area\", \"sizeref\": 0.05}, \"mode\": \"markers+text\", \"name\": \"Austria\", \"text\": [\"Austria:<br> 1\"], \"x\": [0.1736481785774231], \"y\": [-0.9848077297210693], \"type\": \"scatter\"}, {\"marker\": {\"size\": [199], \"sizemode\": \"area\", \"sizeref\": 0.05}, \"mode\": \"markers+text\", \"name\": \"Portugal\", \"text\": [\"Portugal:<br> 1\"], \"x\": [0.7660443782806396], \"y\": [-0.642787754535675], \"type\": \"scatter\"}], \"name\": \"2017-01-15\"}, {\"data\": [{\"marker\": {\"size\": [198], \"sizemode\": \"area\", \"sizeref\": 0.05}, \"mode\": \"markers+text\", \"name\": \"United States\", \"text\": [\"United States:<br> 2\"], \"x\": [1.0], \"y\": [6.622738357719982e-09], \"type\": \"scatter\"}, {\"marker\": {\"size\": [199], \"sizemode\": \"area\", \"sizeref\": 0.05}, \"mode\": \"markers+text\", \"name\": \"Switzerland\", \"text\": [\"Switzerland:<br> 1\"], \"x\": [0.7660444974899292], \"y\": [0.6427875757217407], \"type\": \"scatter\"}, {\"marker\": {\"size\": [199], \"sizemode\": \"area\", \"sizeref\": 0.05}, \"mode\": \"markers+text\", \"name\": \"Hungary\", \"text\": [\"Hungary:<br> 1\"], \"x\": [0.17364825308322906], \"y\": [0.9848077297210693], \"type\": \"scatter\"}, {\"marker\": {\"size\": [192], \"sizemode\": \"area\", \"sizeref\": 0.05}, \"mode\": \"markers+text\", \"name\": \"Peru\", \"text\": [\"Peru:<br> 8\"], \"x\": [-0.5], \"y\": [0.8660253882408142], \"type\": \"scatter\"}, {\"marker\": {\"size\": [199], \"sizemode\": \"area\", \"sizeref\": 0.05}, \"mode\": \"markers+text\", \"name\": \"Malaysia\", \"text\": [\"Malaysia:<br> 1\"], \"x\": [-0.9396925568580627], \"y\": [0.3420202136039734], \"type\": \"scatter\"}, {\"marker\": {\"size\": [199], \"sizemode\": \"area\", \"sizeref\": 0.05}, \"mode\": \"markers+text\", \"name\": \"Denmark\", \"text\": [\"Denmark:<br> 1\"], \"x\": [-0.9396925568580627], \"y\": [-0.3420201539993286], \"type\": \"scatter\"}, {\"marker\": {\"size\": [194], \"sizemode\": \"area\", \"sizeref\": 0.05}, \"mode\": \"markers+text\", \"name\": \"Bolivia\", \"text\": [\"Bolivia:<br> 6\"], \"x\": [-0.49999988079071045], \"y\": [-0.866025447845459], \"type\": \"scatter\"}, {\"marker\": {\"size\": [199], \"sizemode\": \"area\", \"sizeref\": 0.05}, \"mode\": \"markers+text\", \"name\": \"Austria\", \"text\": [\"Austria:<br> 1\"], \"x\": [0.1736481785774231], \"y\": [-0.9848077297210693], \"type\": \"scatter\"}, {\"marker\": {\"size\": [199], \"sizemode\": \"area\", \"sizeref\": 0.05}, \"mode\": \"markers+text\", \"name\": \"Portugal\", \"text\": [\"Portugal:<br> 1\"], \"x\": [0.7660443782806396], \"y\": [-0.642787754535675], \"type\": \"scatter\"}], \"name\": \"2017-01-16\"}, {\"data\": [{\"marker\": {\"size\": [198], \"sizemode\": \"area\", \"sizeref\": 0.05}, \"mode\": \"markers+text\", \"name\": \"United States\", \"text\": [\"United States:<br> 2\"], \"x\": [1.0], \"y\": [6.622738357719982e-09], \"type\": \"scatter\"}, {\"marker\": {\"size\": [199], \"sizemode\": \"area\", \"sizeref\": 0.05}, \"mode\": \"markers+text\", \"name\": \"Switzerland\", \"text\": [\"Switzerland:<br> 1\"], \"x\": [0.7660444974899292], \"y\": [0.6427875757217407], \"type\": \"scatter\"}, {\"marker\": {\"size\": [199], \"sizemode\": \"area\", \"sizeref\": 0.05}, \"mode\": \"markers+text\", \"name\": \"Hungary\", \"text\": [\"Hungary:<br> 1\"], \"x\": [0.17364825308322906], \"y\": [0.9848077297210693], \"type\": \"scatter\"}, {\"marker\": {\"size\": [192], \"sizemode\": \"area\", \"sizeref\": 0.05}, \"mode\": \"markers+text\", \"name\": \"Peru\", \"text\": [\"Peru:<br> 8\"], \"x\": [-0.5], \"y\": [0.8660253882408142], \"type\": \"scatter\"}, {\"marker\": {\"size\": [199], \"sizemode\": \"area\", \"sizeref\": 0.05}, \"mode\": \"markers+text\", \"name\": \"Malaysia\", \"text\": [\"Malaysia:<br> 1\"], \"x\": [-0.9396925568580627], \"y\": [0.3420202136039734], \"type\": \"scatter\"}, {\"marker\": {\"size\": [199], \"sizemode\": \"area\", \"sizeref\": 0.05}, \"mode\": \"markers+text\", \"name\": \"Denmark\", \"text\": [\"Denmark:<br> 1\"], \"x\": [-0.9396925568580627], \"y\": [-0.3420201539993286], \"type\": \"scatter\"}, {\"marker\": {\"size\": [194], \"sizemode\": \"area\", \"sizeref\": 0.05}, \"mode\": \"markers+text\", \"name\": \"Bolivia\", \"text\": [\"Bolivia:<br> 6\"], \"x\": [-0.49999988079071045], \"y\": [-0.866025447845459], \"type\": \"scatter\"}, {\"marker\": {\"size\": [199], \"sizemode\": \"area\", \"sizeref\": 0.05}, \"mode\": \"markers+text\", \"name\": \"Austria\", \"text\": [\"Austria:<br> 1\"], \"x\": [0.1736481785774231], \"y\": [-0.9848077297210693], \"type\": \"scatter\"}, {\"marker\": {\"size\": [199], \"sizemode\": \"area\", \"sizeref\": 0.05}, \"mode\": \"markers+text\", \"name\": \"Portugal\", \"text\": [\"Portugal:<br> 1\"], \"x\": [0.7660443782806396], \"y\": [-0.642787754535675], \"type\": \"scatter\"}], \"name\": \"2017-01-17\"}, {\"data\": [{\"marker\": {\"size\": [198], \"sizemode\": \"area\", \"sizeref\": 0.05}, \"mode\": \"markers+text\", \"name\": \"United States\", \"text\": [\"United States:<br> 2\"], \"x\": [1.0], \"y\": [6.622738357719982e-09], \"type\": \"scatter\"}, {\"marker\": {\"size\": [199], \"sizemode\": \"area\", \"sizeref\": 0.05}, \"mode\": \"markers+text\", \"name\": \"Switzerland\", \"text\": [\"Switzerland:<br> 1\"], \"x\": [0.7660444974899292], \"y\": [0.6427875757217407], \"type\": \"scatter\"}, {\"marker\": {\"size\": [199], \"sizemode\": \"area\", \"sizeref\": 0.05}, \"mode\": \"markers+text\", \"name\": \"Hungary\", \"text\": [\"Hungary:<br> 1\"], \"x\": [0.17364825308322906], \"y\": [0.9848077297210693], \"type\": \"scatter\"}, {\"marker\": {\"size\": [192], \"sizemode\": \"area\", \"sizeref\": 0.05}, \"mode\": \"markers+text\", \"name\": \"Peru\", \"text\": [\"Peru:<br> 8\"], \"x\": [-0.5], \"y\": [0.8660253882408142], \"type\": \"scatter\"}, {\"marker\": {\"size\": [199], \"sizemode\": \"area\", \"sizeref\": 0.05}, \"mode\": \"markers+text\", \"name\": \"Malaysia\", \"text\": [\"Malaysia:<br> 1\"], \"x\": [-0.9396925568580627], \"y\": [0.3420202136039734], \"type\": \"scatter\"}, {\"marker\": {\"size\": [199], \"sizemode\": \"area\", \"sizeref\": 0.05}, \"mode\": \"markers+text\", \"name\": \"Denmark\", \"text\": [\"Denmark:<br> 1\"], \"x\": [-0.9396925568580627], \"y\": [-0.3420201539993286], \"type\": \"scatter\"}, {\"marker\": {\"size\": [194], \"sizemode\": \"area\", \"sizeref\": 0.05}, \"mode\": \"markers+text\", \"name\": \"Bolivia\", \"text\": [\"Bolivia:<br> 6\"], \"x\": [-0.49999988079071045], \"y\": [-0.866025447845459], \"type\": \"scatter\"}, {\"marker\": {\"size\": [199], \"sizemode\": \"area\", \"sizeref\": 0.05}, \"mode\": \"markers+text\", \"name\": \"Austria\", \"text\": [\"Austria:<br> 1\"], \"x\": [0.1736481785774231], \"y\": [-0.9848077297210693], \"type\": \"scatter\"}, {\"marker\": {\"size\": [199], \"sizemode\": \"area\", \"sizeref\": 0.05}, \"mode\": \"markers+text\", \"name\": \"Portugal\", \"text\": [\"Portugal:<br> 1\"], \"x\": [0.7660443782806396], \"y\": [-0.642787754535675], \"type\": \"scatter\"}], \"name\": \"2017-01-18\"}, {\"data\": [{\"marker\": {\"size\": [198], \"sizemode\": \"area\", \"sizeref\": 0.05}, \"mode\": \"markers+text\", \"name\": \"United States\", \"text\": [\"United States:<br> 2\"], \"x\": [1.0], \"y\": [6.622738357719982e-09], \"type\": \"scatter\"}, {\"marker\": {\"size\": [199], \"sizemode\": \"area\", \"sizeref\": 0.05}, \"mode\": \"markers+text\", \"name\": \"Switzerland\", \"text\": [\"Switzerland:<br> 1\"], \"x\": [0.7660444974899292], \"y\": [0.6427875757217407], \"type\": \"scatter\"}, {\"marker\": {\"size\": [199], \"sizemode\": \"area\", \"sizeref\": 0.05}, \"mode\": \"markers+text\", \"name\": \"Hungary\", \"text\": [\"Hungary:<br> 1\"], \"x\": [0.17364825308322906], \"y\": [0.9848077297210693], \"type\": \"scatter\"}, {\"marker\": {\"size\": [193], \"sizemode\": \"area\", \"sizeref\": 0.05}, \"mode\": \"markers+text\", \"name\": \"Peru\", \"text\": [\"Peru:<br> 7\"], \"x\": [-0.5], \"y\": [0.8660253882408142], \"type\": \"scatter\"}, {\"marker\": {\"size\": [199], \"sizemode\": \"area\", \"sizeref\": 0.05}, \"mode\": \"markers+text\", \"name\": \"Malaysia\", \"text\": [\"Malaysia:<br> 1\"], \"x\": [-0.9396925568580627], \"y\": [0.3420202136039734], \"type\": \"scatter\"}, {\"marker\": {\"size\": [199], \"sizemode\": \"area\", \"sizeref\": 0.05}, \"mode\": \"markers+text\", \"name\": \"Denmark\", \"text\": [\"Denmark:<br> 1\"], \"x\": [-0.9396925568580627], \"y\": [-0.3420201539993286], \"type\": \"scatter\"}, {\"marker\": {\"size\": [194], \"sizemode\": \"area\", \"sizeref\": 0.05}, \"mode\": \"markers+text\", \"name\": \"Bolivia\", \"text\": [\"Bolivia:<br> 6\"], \"x\": [-0.49999988079071045], \"y\": [-0.866025447845459], \"type\": \"scatter\"}, {\"marker\": {\"size\": [199], \"sizemode\": \"area\", \"sizeref\": 0.05}, \"mode\": \"markers+text\", \"name\": \"Austria\", \"text\": [\"Austria:<br> 1\"], \"x\": [0.1736481785774231], \"y\": [-0.9848077297210693], \"type\": \"scatter\"}, {\"marker\": {\"size\": [199], \"sizemode\": \"area\", \"sizeref\": 0.05}, \"mode\": \"markers+text\", \"name\": \"Portugal\", \"text\": [\"Portugal:<br> 1\"], \"x\": [0.7660443782806396], \"y\": [-0.642787754535675], \"type\": \"scatter\"}], \"name\": \"2017-01-19\"}, {\"data\": [{\"marker\": {\"size\": [198], \"sizemode\": \"area\", \"sizeref\": 0.05}, \"mode\": \"markers+text\", \"name\": \"United States\", \"text\": [\"United States:<br> 2\"], \"x\": [1.0], \"y\": [6.622738357719982e-09], \"type\": \"scatter\"}, {\"marker\": {\"size\": [199], \"sizemode\": \"area\", \"sizeref\": 0.05}, \"mode\": \"markers+text\", \"name\": \"Switzerland\", \"text\": [\"Switzerland:<br> 1\"], \"x\": [0.7660444974899292], \"y\": [0.6427875757217407], \"type\": \"scatter\"}, {\"marker\": {\"size\": [199], \"sizemode\": \"area\", \"sizeref\": 0.05}, \"mode\": \"markers+text\", \"name\": \"Hungary\", \"text\": [\"Hungary:<br> 1\"], \"x\": [0.17364825308322906], \"y\": [0.9848077297210693], \"type\": \"scatter\"}, {\"marker\": {\"size\": [192], \"sizemode\": \"area\", \"sizeref\": 0.05}, \"mode\": \"markers+text\", \"name\": \"Peru\", \"text\": [\"Peru:<br> 8\"], \"x\": [-0.5], \"y\": [0.8660253882408142], \"type\": \"scatter\"}, {\"marker\": {\"size\": [199], \"sizemode\": \"area\", \"sizeref\": 0.05}, \"mode\": \"markers+text\", \"name\": \"Malaysia\", \"text\": [\"Malaysia:<br> 1\"], \"x\": [-0.9396925568580627], \"y\": [0.3420202136039734], \"type\": \"scatter\"}, {\"marker\": {\"size\": [199], \"sizemode\": \"area\", \"sizeref\": 0.05}, \"mode\": \"markers+text\", \"name\": \"Denmark\", \"text\": [\"Denmark:<br> 1\"], \"x\": [-0.9396925568580627], \"y\": [-0.3420201539993286], \"type\": \"scatter\"}, {\"marker\": {\"size\": [193], \"sizemode\": \"area\", \"sizeref\": 0.05}, \"mode\": \"markers+text\", \"name\": \"Bolivia\", \"text\": [\"Bolivia:<br> 7\"], \"x\": [-0.49999988079071045], \"y\": [-0.866025447845459], \"type\": \"scatter\"}, {\"marker\": {\"size\": [199], \"sizemode\": \"area\", \"sizeref\": 0.05}, \"mode\": \"markers+text\", \"name\": \"Austria\", \"text\": [\"Austria:<br> 1\"], \"x\": [0.1736481785774231], \"y\": [-0.9848077297210693], \"type\": \"scatter\"}, {\"marker\": {\"size\": [199], \"sizemode\": \"area\", \"sizeref\": 0.05}, \"mode\": \"markers+text\", \"name\": \"Portugal\", \"text\": [\"Portugal:<br> 1\"], \"x\": [0.7660443782806396], \"y\": [-0.642787754535675], \"type\": \"scatter\"}], \"name\": \"2017-01-20\"}, {\"data\": [{\"marker\": {\"size\": [198], \"sizemode\": \"area\", \"sizeref\": 0.05}, \"mode\": \"markers+text\", \"name\": \"United States\", \"text\": [\"United States:<br> 2\"], \"x\": [1.0], \"y\": [6.622738357719982e-09], \"type\": \"scatter\"}, {\"marker\": {\"size\": [199], \"sizemode\": \"area\", \"sizeref\": 0.05}, \"mode\": \"markers+text\", \"name\": \"Switzerland\", \"text\": [\"Switzerland:<br> 1\"], \"x\": [0.7660444974899292], \"y\": [0.6427875757217407], \"type\": \"scatter\"}, {\"marker\": {\"size\": [199], \"sizemode\": \"area\", \"sizeref\": 0.05}, \"mode\": \"markers+text\", \"name\": \"Hungary\", \"text\": [\"Hungary:<br> 1\"], \"x\": [0.17364825308322906], \"y\": [0.9848077297210693], \"type\": \"scatter\"}, {\"marker\": {\"size\": [191], \"sizemode\": \"area\", \"sizeref\": 0.05}, \"mode\": \"markers+text\", \"name\": \"Peru\", \"text\": [\"Peru:<br> 9\"], \"x\": [-0.5], \"y\": [0.8660253882408142], \"type\": \"scatter\"}, {\"marker\": {\"size\": [199], \"sizemode\": \"area\", \"sizeref\": 0.05}, \"mode\": \"markers+text\", \"name\": \"Malaysia\", \"text\": [\"Malaysia:<br> 1\"], \"x\": [-0.9396925568580627], \"y\": [0.3420202136039734], \"type\": \"scatter\"}, {\"marker\": {\"size\": [199], \"sizemode\": \"area\", \"sizeref\": 0.05}, \"mode\": \"markers+text\", \"name\": \"Denmark\", \"text\": [\"Denmark:<br> 1\"], \"x\": [-0.9396925568580627], \"y\": [-0.3420201539993286], \"type\": \"scatter\"}, {\"marker\": {\"size\": [192], \"sizemode\": \"area\", \"sizeref\": 0.05}, \"mode\": \"markers+text\", \"name\": \"Bolivia\", \"text\": [\"Bolivia:<br> 8\"], \"x\": [-0.49999988079071045], \"y\": [-0.866025447845459], \"type\": \"scatter\"}, {\"marker\": {\"size\": [199], \"sizemode\": \"area\", \"sizeref\": 0.05}, \"mode\": \"markers+text\", \"name\": \"Austria\", \"text\": [\"Austria:<br> 1\"], \"x\": [0.1736481785774231], \"y\": [-0.9848077297210693], \"type\": \"scatter\"}, {\"marker\": {\"size\": [199], \"sizemode\": \"area\", \"sizeref\": 0.05}, \"mode\": \"markers+text\", \"name\": \"Portugal\", \"text\": [\"Portugal:<br> 1\"], \"x\": [0.7660443782806396], \"y\": [-0.642787754535675], \"type\": \"scatter\"}], \"name\": \"2017-01-21\"}, {\"data\": [{\"marker\": {\"size\": [198], \"sizemode\": \"area\", \"sizeref\": 0.05}, \"mode\": \"markers+text\", \"name\": \"United States\", \"text\": [\"United States:<br> 2\"], \"x\": [1.0], \"y\": [6.622738357719982e-09], \"type\": \"scatter\"}, {\"marker\": {\"size\": [199], \"sizemode\": \"area\", \"sizeref\": 0.05}, \"mode\": \"markers+text\", \"name\": \"Switzerland\", \"text\": [\"Switzerland:<br> 1\"], \"x\": [0.7660444974899292], \"y\": [0.6427875757217407], \"type\": \"scatter\"}, {\"marker\": {\"size\": [199], \"sizemode\": \"area\", \"sizeref\": 0.05}, \"mode\": \"markers+text\", \"name\": \"Hungary\", \"text\": [\"Hungary:<br> 1\"], \"x\": [0.17364825308322906], \"y\": [0.9848077297210693], \"type\": \"scatter\"}, {\"marker\": {\"size\": [191], \"sizemode\": \"area\", \"sizeref\": 0.05}, \"mode\": \"markers+text\", \"name\": \"Peru\", \"text\": [\"Peru:<br> 9\"], \"x\": [-0.5], \"y\": [0.8660253882408142], \"type\": \"scatter\"}, {\"marker\": {\"size\": [199], \"sizemode\": \"area\", \"sizeref\": 0.05}, \"mode\": \"markers+text\", \"name\": \"Malaysia\", \"text\": [\"Malaysia:<br> 1\"], \"x\": [-0.9396925568580627], \"y\": [0.3420202136039734], \"type\": \"scatter\"}, {\"marker\": {\"size\": [199], \"sizemode\": \"area\", \"sizeref\": 0.05}, \"mode\": \"markers+text\", \"name\": \"Denmark\", \"text\": [\"Denmark:<br> 1\"], \"x\": [-0.9396925568580627], \"y\": [-0.3420201539993286], \"type\": \"scatter\"}, {\"marker\": {\"size\": [191], \"sizemode\": \"area\", \"sizeref\": 0.05}, \"mode\": \"markers+text\", \"name\": \"Bolivia\", \"text\": [\"Bolivia:<br> 9\"], \"x\": [-0.49999988079071045], \"y\": [-0.866025447845459], \"type\": \"scatter\"}, {\"marker\": {\"size\": [199], \"sizemode\": \"area\", \"sizeref\": 0.05}, \"mode\": \"markers+text\", \"name\": \"Austria\", \"text\": [\"Austria:<br> 1\"], \"x\": [0.1736481785774231], \"y\": [-0.9848077297210693], \"type\": \"scatter\"}, {\"marker\": {\"size\": [199], \"sizemode\": \"area\", \"sizeref\": 0.05}, \"mode\": \"markers+text\", \"name\": \"Portugal\", \"text\": [\"Portugal:<br> 1\"], \"x\": [0.7660443782806396], \"y\": [-0.642787754535675], \"type\": \"scatter\"}], \"name\": \"2017-01-22\"}, {\"data\": [{\"marker\": {\"size\": [199], \"sizemode\": \"area\", \"sizeref\": 0.05}, \"mode\": \"markers+text\", \"name\": \"United States\", \"text\": [\"United States:<br> 1\"], \"x\": [1.0], \"y\": [6.622738357719982e-09], \"type\": \"scatter\"}, {\"marker\": {\"size\": [199], \"sizemode\": \"area\", \"sizeref\": 0.05}, \"mode\": \"markers+text\", \"name\": \"Switzerland\", \"text\": [\"Switzerland:<br> 1\"], \"x\": [0.7660444974899292], \"y\": [0.6427875757217407], \"type\": \"scatter\"}, {\"marker\": {\"size\": [199], \"sizemode\": \"area\", \"sizeref\": 0.05}, \"mode\": \"markers+text\", \"name\": \"Hungary\", \"text\": [\"Hungary:<br> 1\"], \"x\": [0.17364825308322906], \"y\": [0.9848077297210693], \"type\": \"scatter\"}, {\"marker\": {\"size\": [192], \"sizemode\": \"area\", \"sizeref\": 0.05}, \"mode\": \"markers+text\", \"name\": \"Peru\", \"text\": [\"Peru:<br> 8\"], \"x\": [-0.5], \"y\": [0.8660253882408142], \"type\": \"scatter\"}, {\"marker\": {\"size\": [199], \"sizemode\": \"area\", \"sizeref\": 0.05}, \"mode\": \"markers+text\", \"name\": \"Malaysia\", \"text\": [\"Malaysia:<br> 1\"], \"x\": [-0.9396925568580627], \"y\": [0.3420202136039734], \"type\": \"scatter\"}, {\"marker\": {\"size\": [199], \"sizemode\": \"area\", \"sizeref\": 0.05}, \"mode\": \"markers+text\", \"name\": \"Denmark\", \"text\": [\"Denmark:<br> 1\"], \"x\": [-0.9396925568580627], \"y\": [-0.3420201539993286], \"type\": \"scatter\"}, {\"marker\": {\"size\": [193], \"sizemode\": \"area\", \"sizeref\": 0.05}, \"mode\": \"markers+text\", \"name\": \"Bolivia\", \"text\": [\"Bolivia:<br> 7\"], \"x\": [-0.49999988079071045], \"y\": [-0.866025447845459], \"type\": \"scatter\"}, {\"marker\": {\"size\": [199], \"sizemode\": \"area\", \"sizeref\": 0.05}, \"mode\": \"markers+text\", \"name\": \"Austria\", \"text\": [\"Austria:<br> 1\"], \"x\": [0.1736481785774231], \"y\": [-0.9848077297210693], \"type\": \"scatter\"}, {\"marker\": {\"size\": [199], \"sizemode\": \"area\", \"sizeref\": 0.05}, \"mode\": \"markers+text\", \"name\": \"Portugal\", \"text\": [\"Portugal:<br> 1\"], \"x\": [0.7660443782806396], \"y\": [-0.642787754535675], \"type\": \"scatter\"}], \"name\": \"2017-01-23\"}, {\"data\": [{\"marker\": {\"size\": [199], \"sizemode\": \"area\", \"sizeref\": 0.05}, \"mode\": \"markers+text\", \"name\": \"United States\", \"text\": [\"United States:<br> 1\"], \"x\": [1.0], \"y\": [6.622738357719982e-09], \"type\": \"scatter\"}, {\"marker\": {\"size\": [199], \"sizemode\": \"area\", \"sizeref\": 0.05}, \"mode\": \"markers+text\", \"name\": \"Switzerland\", \"text\": [\"Switzerland:<br> 1\"], \"x\": [0.7660444974899292], \"y\": [0.6427875757217407], \"type\": \"scatter\"}, {\"marker\": {\"size\": [199], \"sizemode\": \"area\", \"sizeref\": 0.05}, \"mode\": \"markers+text\", \"name\": \"Hungary\", \"text\": [\"Hungary:<br> 1\"], \"x\": [0.17364825308322906], \"y\": [0.9848077297210693], \"type\": \"scatter\"}, {\"marker\": {\"size\": [192], \"sizemode\": \"area\", \"sizeref\": 0.05}, \"mode\": \"markers+text\", \"name\": \"Peru\", \"text\": [\"Peru:<br> 8\"], \"x\": [-0.5], \"y\": [0.8660253882408142], \"type\": \"scatter\"}, {\"marker\": {\"size\": [199], \"sizemode\": \"area\", \"sizeref\": 0.05}, \"mode\": \"markers+text\", \"name\": \"Malaysia\", \"text\": [\"Malaysia:<br> 1\"], \"x\": [-0.9396925568580627], \"y\": [0.3420202136039734], \"type\": \"scatter\"}, {\"marker\": {\"size\": [199], \"sizemode\": \"area\", \"sizeref\": 0.05}, \"mode\": \"markers+text\", \"name\": \"Denmark\", \"text\": [\"Denmark:<br> 1\"], \"x\": [-0.9396925568580627], \"y\": [-0.3420201539993286], \"type\": \"scatter\"}, {\"marker\": {\"size\": [194], \"sizemode\": \"area\", \"sizeref\": 0.05}, \"mode\": \"markers+text\", \"name\": \"Bolivia\", \"text\": [\"Bolivia:<br> 6\"], \"x\": [-0.49999988079071045], \"y\": [-0.866025447845459], \"type\": \"scatter\"}, {\"marker\": {\"size\": [199], \"sizemode\": \"area\", \"sizeref\": 0.05}, \"mode\": \"markers+text\", \"name\": \"Austria\", \"text\": [\"Austria:<br> 1\"], \"x\": [0.1736481785774231], \"y\": [-0.9848077297210693], \"type\": \"scatter\"}, {\"marker\": {\"size\": [199], \"sizemode\": \"area\", \"sizeref\": 0.05}, \"mode\": \"markers+text\", \"name\": \"Portugal\", \"text\": [\"Portugal:<br> 1\"], \"x\": [0.7660443782806396], \"y\": [-0.642787754535675], \"type\": \"scatter\"}], \"name\": \"2017-01-24\"}, {\"data\": [{\"marker\": {\"size\": [199], \"sizemode\": \"area\", \"sizeref\": 0.05}, \"mode\": \"markers+text\", \"name\": \"United States\", \"text\": [\"United States:<br> 1\"], \"x\": [1.0], \"y\": [6.622738357719982e-09], \"type\": \"scatter\"}, {\"marker\": {\"size\": [199], \"sizemode\": \"area\", \"sizeref\": 0.05}, \"mode\": \"markers+text\", \"name\": \"Switzerland\", \"text\": [\"Switzerland:<br> 1\"], \"x\": [0.7660444974899292], \"y\": [0.6427875757217407], \"type\": \"scatter\"}, {\"marker\": {\"size\": [199], \"sizemode\": \"area\", \"sizeref\": 0.05}, \"mode\": \"markers+text\", \"name\": \"Hungary\", \"text\": [\"Hungary:<br> 1\"], \"x\": [0.17364825308322906], \"y\": [0.9848077297210693], \"type\": \"scatter\"}, {\"marker\": {\"size\": [192], \"sizemode\": \"area\", \"sizeref\": 0.05}, \"mode\": \"markers+text\", \"name\": \"Peru\", \"text\": [\"Peru:<br> 8\"], \"x\": [-0.5], \"y\": [0.8660253882408142], \"type\": \"scatter\"}, {\"marker\": {\"size\": [199], \"sizemode\": \"area\", \"sizeref\": 0.05}, \"mode\": \"markers+text\", \"name\": \"Malaysia\", \"text\": [\"Malaysia:<br> 1\"], \"x\": [-0.9396925568580627], \"y\": [0.3420202136039734], \"type\": \"scatter\"}, {\"marker\": {\"size\": [199], \"sizemode\": \"area\", \"sizeref\": 0.05}, \"mode\": \"markers+text\", \"name\": \"Denmark\", \"text\": [\"Denmark:<br> 1\"], \"x\": [-0.9396925568580627], \"y\": [-0.3420201539993286], \"type\": \"scatter\"}, {\"marker\": {\"size\": [193], \"sizemode\": \"area\", \"sizeref\": 0.05}, \"mode\": \"markers+text\", \"name\": \"Bolivia\", \"text\": [\"Bolivia:<br> 7\"], \"x\": [-0.49999988079071045], \"y\": [-0.866025447845459], \"type\": \"scatter\"}, {\"marker\": {\"size\": [199], \"sizemode\": \"area\", \"sizeref\": 0.05}, \"mode\": \"markers+text\", \"name\": \"Austria\", \"text\": [\"Austria:<br> 1\"], \"x\": [0.1736481785774231], \"y\": [-0.9848077297210693], \"type\": \"scatter\"}, {\"marker\": {\"size\": [199], \"sizemode\": \"area\", \"sizeref\": 0.05}, \"mode\": \"markers+text\", \"name\": \"Portugal\", \"text\": [\"Portugal:<br> 1\"], \"x\": [0.7660443782806396], \"y\": [-0.642787754535675], \"type\": \"scatter\"}], \"name\": \"2017-01-25\"}, {\"data\": [{\"marker\": {\"size\": [199], \"sizemode\": \"area\", \"sizeref\": 0.05}, \"mode\": \"markers+text\", \"name\": \"United States\", \"text\": [\"United States:<br> 1\"], \"x\": [1.0], \"y\": [6.622738357719982e-09], \"type\": \"scatter\"}, {\"marker\": {\"size\": [199], \"sizemode\": \"area\", \"sizeref\": 0.05}, \"mode\": \"markers+text\", \"name\": \"Switzerland\", \"text\": [\"Switzerland:<br> 1\"], \"x\": [0.7660444974899292], \"y\": [0.6427875757217407], \"type\": \"scatter\"}, {\"marker\": {\"size\": [199], \"sizemode\": \"area\", \"sizeref\": 0.05}, \"mode\": \"markers+text\", \"name\": \"Hungary\", \"text\": [\"Hungary:<br> 1\"], \"x\": [0.17364825308322906], \"y\": [0.9848077297210693], \"type\": \"scatter\"}, {\"marker\": {\"size\": [195], \"sizemode\": \"area\", \"sizeref\": 0.05}, \"mode\": \"markers+text\", \"name\": \"Peru\", \"text\": [\"Peru:<br> 5\"], \"x\": [-0.5], \"y\": [0.8660253882408142], \"type\": \"scatter\"}, {\"marker\": {\"size\": [199], \"sizemode\": \"area\", \"sizeref\": 0.05}, \"mode\": \"markers+text\", \"name\": \"Malaysia\", \"text\": [\"Malaysia:<br> 1\"], \"x\": [-0.9396925568580627], \"y\": [0.3420202136039734], \"type\": \"scatter\"}, {\"marker\": {\"size\": [199], \"sizemode\": \"area\", \"sizeref\": 0.05}, \"mode\": \"markers+text\", \"name\": \"Denmark\", \"text\": [\"Denmark:<br> 1\"], \"x\": [-0.9396925568580627], \"y\": [-0.3420201539993286], \"type\": \"scatter\"}, {\"marker\": {\"size\": [194], \"sizemode\": \"area\", \"sizeref\": 0.05}, \"mode\": \"markers+text\", \"name\": \"Bolivia\", \"text\": [\"Bolivia:<br> 6\"], \"x\": [-0.49999988079071045], \"y\": [-0.866025447845459], \"type\": \"scatter\"}, {\"marker\": {\"size\": [199], \"sizemode\": \"area\", \"sizeref\": 0.05}, \"mode\": \"markers+text\", \"name\": \"Austria\", \"text\": [\"Austria:<br> 1\"], \"x\": [0.1736481785774231], \"y\": [-0.9848077297210693], \"type\": \"scatter\"}, {\"marker\": {\"size\": [199], \"sizemode\": \"area\", \"sizeref\": 0.05}, \"mode\": \"markers+text\", \"name\": \"Portugal\", \"text\": [\"Portugal:<br> 1\"], \"x\": [0.7660443782806396], \"y\": [-0.642787754535675], \"type\": \"scatter\"}], \"name\": \"2017-01-26\"}, {\"data\": [{\"marker\": {\"size\": [198], \"sizemode\": \"area\", \"sizeref\": 0.05}, \"mode\": \"markers+text\", \"name\": \"United States\", \"text\": [\"United States:<br> 2\"], \"x\": [1.0], \"y\": [6.622738357719982e-09], \"type\": \"scatter\"}, {\"marker\": {\"size\": [199], \"sizemode\": \"area\", \"sizeref\": 0.05}, \"mode\": \"markers+text\", \"name\": \"Switzerland\", \"text\": [\"Switzerland:<br> 1\"], \"x\": [0.7660444974899292], \"y\": [0.6427875757217407], \"type\": \"scatter\"}, {\"marker\": {\"size\": [199], \"sizemode\": \"area\", \"sizeref\": 0.05}, \"mode\": \"markers+text\", \"name\": \"Hungary\", \"text\": [\"Hungary:<br> 1\"], \"x\": [0.17364825308322906], \"y\": [0.9848077297210693], \"type\": \"scatter\"}, {\"marker\": {\"size\": [194], \"sizemode\": \"area\", \"sizeref\": 0.05}, \"mode\": \"markers+text\", \"name\": \"Peru\", \"text\": [\"Peru:<br> 6\"], \"x\": [-0.5], \"y\": [0.8660253882408142], \"type\": \"scatter\"}, {\"marker\": {\"size\": [199], \"sizemode\": \"area\", \"sizeref\": 0.05}, \"mode\": \"markers+text\", \"name\": \"Malaysia\", \"text\": [\"Malaysia:<br> 1\"], \"x\": [-0.9396925568580627], \"y\": [0.3420202136039734], \"type\": \"scatter\"}, {\"marker\": {\"size\": [199], \"sizemode\": \"area\", \"sizeref\": 0.05}, \"mode\": \"markers+text\", \"name\": \"Denmark\", \"text\": [\"Denmark:<br> 1\"], \"x\": [-0.9396925568580627], \"y\": [-0.3420201539993286], \"type\": \"scatter\"}, {\"marker\": {\"size\": [193], \"sizemode\": \"area\", \"sizeref\": 0.05}, \"mode\": \"markers+text\", \"name\": \"Bolivia\", \"text\": [\"Bolivia:<br> 7\"], \"x\": [-0.49999988079071045], \"y\": [-0.866025447845459], \"type\": \"scatter\"}, {\"marker\": {\"size\": [199], \"sizemode\": \"area\", \"sizeref\": 0.05}, \"mode\": \"markers+text\", \"name\": \"Austria\", \"text\": [\"Austria:<br> 1\"], \"x\": [0.1736481785774231], \"y\": [-0.9848077297210693], \"type\": \"scatter\"}, {\"marker\": {\"size\": [199], \"sizemode\": \"area\", \"sizeref\": 0.05}, \"mode\": \"markers+text\", \"name\": \"Portugal\", \"text\": [\"Portugal:<br> 1\"], \"x\": [0.7660443782806396], \"y\": [-0.642787754535675], \"type\": \"scatter\"}], \"name\": \"2017-01-27\"}, {\"data\": [{\"marker\": {\"size\": [198], \"sizemode\": \"area\", \"sizeref\": 0.05}, \"mode\": \"markers+text\", \"name\": \"United States\", \"text\": [\"United States:<br> 2\"], \"x\": [1.0], \"y\": [6.622738357719982e-09], \"type\": \"scatter\"}, {\"marker\": {\"size\": [199], \"sizemode\": \"area\", \"sizeref\": 0.05}, \"mode\": \"markers+text\", \"name\": \"Switzerland\", \"text\": [\"Switzerland:<br> 1\"], \"x\": [0.7660444974899292], \"y\": [0.6427875757217407], \"type\": \"scatter\"}, {\"marker\": {\"size\": [199], \"sizemode\": \"area\", \"sizeref\": 0.05}, \"mode\": \"markers+text\", \"name\": \"Hungary\", \"text\": [\"Hungary:<br> 1\"], \"x\": [0.17364825308322906], \"y\": [0.9848077297210693], \"type\": \"scatter\"}, {\"marker\": {\"size\": [192], \"sizemode\": \"area\", \"sizeref\": 0.05}, \"mode\": \"markers+text\", \"name\": \"Peru\", \"text\": [\"Peru:<br> 8\"], \"x\": [-0.5], \"y\": [0.8660253882408142], \"type\": \"scatter\"}, {\"marker\": {\"size\": [199], \"sizemode\": \"area\", \"sizeref\": 0.05}, \"mode\": \"markers+text\", \"name\": \"Malaysia\", \"text\": [\"Malaysia:<br> 1\"], \"x\": [-0.9396925568580627], \"y\": [0.3420202136039734], \"type\": \"scatter\"}, {\"marker\": {\"size\": [199], \"sizemode\": \"area\", \"sizeref\": 0.05}, \"mode\": \"markers+text\", \"name\": \"Denmark\", \"text\": [\"Denmark:<br> 1\"], \"x\": [-0.9396925568580627], \"y\": [-0.3420201539993286], \"type\": \"scatter\"}, {\"marker\": {\"size\": [193], \"sizemode\": \"area\", \"sizeref\": 0.05}, \"mode\": \"markers+text\", \"name\": \"Bolivia\", \"text\": [\"Bolivia:<br> 7\"], \"x\": [-0.49999988079071045], \"y\": [-0.866025447845459], \"type\": \"scatter\"}, {\"marker\": {\"size\": [199], \"sizemode\": \"area\", \"sizeref\": 0.05}, \"mode\": \"markers+text\", \"name\": \"Austria\", \"text\": [\"Austria:<br> 1\"], \"x\": [0.1736481785774231], \"y\": [-0.9848077297210693], \"type\": \"scatter\"}, {\"marker\": {\"size\": [199], \"sizemode\": \"area\", \"sizeref\": 0.05}, \"mode\": \"markers+text\", \"name\": \"Portugal\", \"text\": [\"Portugal:<br> 1\"], \"x\": [0.7660443782806396], \"y\": [-0.642787754535675], \"type\": \"scatter\"}], \"name\": \"2017-01-28\"}, {\"data\": [{\"marker\": {\"size\": [198], \"sizemode\": \"area\", \"sizeref\": 0.05}, \"mode\": \"markers+text\", \"name\": \"United States\", \"text\": [\"United States:<br> 2\"], \"x\": [1.0], \"y\": [6.622738357719982e-09], \"type\": \"scatter\"}, {\"marker\": {\"size\": [199], \"sizemode\": \"area\", \"sizeref\": 0.05}, \"mode\": \"markers+text\", \"name\": \"Switzerland\", \"text\": [\"Switzerland:<br> 1\"], \"x\": [0.7660444974899292], \"y\": [0.6427875757217407], \"type\": \"scatter\"}, {\"marker\": {\"size\": [199], \"sizemode\": \"area\", \"sizeref\": 0.05}, \"mode\": \"markers+text\", \"name\": \"Hungary\", \"text\": [\"Hungary:<br> 1\"], \"x\": [0.17364825308322906], \"y\": [0.9848077297210693], \"type\": \"scatter\"}, {\"marker\": {\"size\": [192], \"sizemode\": \"area\", \"sizeref\": 0.05}, \"mode\": \"markers+text\", \"name\": \"Peru\", \"text\": [\"Peru:<br> 8\"], \"x\": [-0.5], \"y\": [0.8660253882408142], \"type\": \"scatter\"}, {\"marker\": {\"size\": [199], \"sizemode\": \"area\", \"sizeref\": 0.05}, \"mode\": \"markers+text\", \"name\": \"Malaysia\", \"text\": [\"Malaysia:<br> 1\"], \"x\": [-0.9396925568580627], \"y\": [0.3420202136039734], \"type\": \"scatter\"}, {\"marker\": {\"size\": [199], \"sizemode\": \"area\", \"sizeref\": 0.05}, \"mode\": \"markers+text\", \"name\": \"Denmark\", \"text\": [\"Denmark:<br> 1\"], \"x\": [-0.9396925568580627], \"y\": [-0.3420201539993286], \"type\": \"scatter\"}, {\"marker\": {\"size\": [193], \"sizemode\": \"area\", \"sizeref\": 0.05}, \"mode\": \"markers+text\", \"name\": \"Bolivia\", \"text\": [\"Bolivia:<br> 7\"], \"x\": [-0.49999988079071045], \"y\": [-0.866025447845459], \"type\": \"scatter\"}, {\"marker\": {\"size\": [199], \"sizemode\": \"area\", \"sizeref\": 0.05}, \"mode\": \"markers+text\", \"name\": \"Austria\", \"text\": [\"Austria:<br> 1\"], \"x\": [0.1736481785774231], \"y\": [-0.9848077297210693], \"type\": \"scatter\"}, {\"marker\": {\"size\": [199], \"sizemode\": \"area\", \"sizeref\": 0.05}, \"mode\": \"markers+text\", \"name\": \"Portugal\", \"text\": [\"Portugal:<br> 1\"], \"x\": [0.7660443782806396], \"y\": [-0.642787754535675], \"type\": \"scatter\"}], \"name\": \"2017-01-29\"}, {\"data\": [{\"marker\": {\"size\": [198], \"sizemode\": \"area\", \"sizeref\": 0.05}, \"mode\": \"markers+text\", \"name\": \"United States\", \"text\": [\"United States:<br> 2\"], \"x\": [1.0], \"y\": [6.622738357719982e-09], \"type\": \"scatter\"}, {\"marker\": {\"size\": [199], \"sizemode\": \"area\", \"sizeref\": 0.05}, \"mode\": \"markers+text\", \"name\": \"Switzerland\", \"text\": [\"Switzerland:<br> 1\"], \"x\": [0.7660444974899292], \"y\": [0.6427875757217407], \"type\": \"scatter\"}, {\"marker\": {\"size\": [199], \"sizemode\": \"area\", \"sizeref\": 0.05}, \"mode\": \"markers+text\", \"name\": \"Hungary\", \"text\": [\"Hungary:<br> 1\"], \"x\": [0.17364825308322906], \"y\": [0.9848077297210693], \"type\": \"scatter\"}, {\"marker\": {\"size\": [194], \"sizemode\": \"area\", \"sizeref\": 0.05}, \"mode\": \"markers+text\", \"name\": \"Peru\", \"text\": [\"Peru:<br> 6\"], \"x\": [-0.5], \"y\": [0.8660253882408142], \"type\": \"scatter\"}, {\"marker\": {\"size\": [199], \"sizemode\": \"area\", \"sizeref\": 0.05}, \"mode\": \"markers+text\", \"name\": \"Malaysia\", \"text\": [\"Malaysia:<br> 1\"], \"x\": [-0.9396925568580627], \"y\": [0.3420202136039734], \"type\": \"scatter\"}, {\"marker\": {\"size\": [199], \"sizemode\": \"area\", \"sizeref\": 0.05}, \"mode\": \"markers+text\", \"name\": \"Denmark\", \"text\": [\"Denmark:<br> 1\"], \"x\": [-0.9396925568580627], \"y\": [-0.3420201539993286], \"type\": \"scatter\"}, {\"marker\": {\"size\": [193], \"sizemode\": \"area\", \"sizeref\": 0.05}, \"mode\": \"markers+text\", \"name\": \"Bolivia\", \"text\": [\"Bolivia:<br> 7\"], \"x\": [-0.49999988079071045], \"y\": [-0.866025447845459], \"type\": \"scatter\"}, {\"marker\": {\"size\": [199], \"sizemode\": \"area\", \"sizeref\": 0.05}, \"mode\": \"markers+text\", \"name\": \"Austria\", \"text\": [\"Austria:<br> 1\"], \"x\": [0.1736481785774231], \"y\": [-0.9848077297210693], \"type\": \"scatter\"}, {\"marker\": {\"size\": [199], \"sizemode\": \"area\", \"sizeref\": 0.05}, \"mode\": \"markers+text\", \"name\": \"Portugal\", \"text\": [\"Portugal:<br> 1\"], \"x\": [0.7660443782806396], \"y\": [-0.642787754535675], \"type\": \"scatter\"}], \"name\": \"2017-01-30\"}, {\"data\": [{\"marker\": {\"size\": [198], \"sizemode\": \"area\", \"sizeref\": 0.05}, \"mode\": \"markers+text\", \"name\": \"United States\", \"text\": [\"United States:<br> 2\"], \"x\": [1.0], \"y\": [6.622738357719982e-09], \"type\": \"scatter\"}, {\"marker\": {\"size\": [199], \"sizemode\": \"area\", \"sizeref\": 0.05}, \"mode\": \"markers+text\", \"name\": \"Switzerland\", \"text\": [\"Switzerland:<br> 1\"], \"x\": [0.7660444974899292], \"y\": [0.6427875757217407], \"type\": \"scatter\"}, {\"marker\": {\"size\": [199], \"sizemode\": \"area\", \"sizeref\": 0.05}, \"mode\": \"markers+text\", \"name\": \"Hungary\", \"text\": [\"Hungary:<br> 1\"], \"x\": [0.17364825308322906], \"y\": [0.9848077297210693], \"type\": \"scatter\"}, {\"marker\": {\"size\": [194], \"sizemode\": \"area\", \"sizeref\": 0.05}, \"mode\": \"markers+text\", \"name\": \"Peru\", \"text\": [\"Peru:<br> 6\"], \"x\": [-0.5], \"y\": [0.8660253882408142], \"type\": \"scatter\"}, {\"marker\": {\"size\": [199], \"sizemode\": \"area\", \"sizeref\": 0.05}, \"mode\": \"markers+text\", \"name\": \"Malaysia\", \"text\": [\"Malaysia:<br> 1\"], \"x\": [-0.9396925568580627], \"y\": [0.3420202136039734], \"type\": \"scatter\"}, {\"marker\": {\"size\": [199], \"sizemode\": \"area\", \"sizeref\": 0.05}, \"mode\": \"markers+text\", \"name\": \"Denmark\", \"text\": [\"Denmark:<br> 1\"], \"x\": [-0.9396925568580627], \"y\": [-0.3420201539993286], \"type\": \"scatter\"}, {\"marker\": {\"size\": [194], \"sizemode\": \"area\", \"sizeref\": 0.05}, \"mode\": \"markers+text\", \"name\": \"Bolivia\", \"text\": [\"Bolivia:<br> 6\"], \"x\": [-0.49999988079071045], \"y\": [-0.866025447845459], \"type\": \"scatter\"}, {\"marker\": {\"size\": [199], \"sizemode\": \"area\", \"sizeref\": 0.05}, \"mode\": \"markers+text\", \"name\": \"Austria\", \"text\": [\"Austria:<br> 1\"], \"x\": [0.1736481785774231], \"y\": [-0.9848077297210693], \"type\": \"scatter\"}, {\"marker\": {\"size\": [199], \"sizemode\": \"area\", \"sizeref\": 0.05}, \"mode\": \"markers+text\", \"name\": \"Portugal\", \"text\": [\"Portugal:<br> 1\"], \"x\": [0.7660443782806396], \"y\": [-0.642787754535675], \"type\": \"scatter\"}], \"name\": \"2017-01-31\"}, {\"data\": [{\"marker\": {\"size\": [198], \"sizemode\": \"area\", \"sizeref\": 0.05}, \"mode\": \"markers+text\", \"name\": \"United States\", \"text\": [\"United States:<br> 2\"], \"x\": [1.0], \"y\": [6.622738357719982e-09], \"type\": \"scatter\"}, {\"marker\": {\"size\": [199], \"sizemode\": \"area\", \"sizeref\": 0.05}, \"mode\": \"markers+text\", \"name\": \"Switzerland\", \"text\": [\"Switzerland:<br> 1\"], \"x\": [0.7660444974899292], \"y\": [0.6427875757217407], \"type\": \"scatter\"}, {\"marker\": {\"size\": [199], \"sizemode\": \"area\", \"sizeref\": 0.05}, \"mode\": \"markers+text\", \"name\": \"Hungary\", \"text\": [\"Hungary:<br> 1\"], \"x\": [0.17364825308322906], \"y\": [0.9848077297210693], \"type\": \"scatter\"}, {\"marker\": {\"size\": [194], \"sizemode\": \"area\", \"sizeref\": 0.05}, \"mode\": \"markers+text\", \"name\": \"Peru\", \"text\": [\"Peru:<br> 6\"], \"x\": [-0.5], \"y\": [0.8660253882408142], \"type\": \"scatter\"}, {\"marker\": {\"size\": [199], \"sizemode\": \"area\", \"sizeref\": 0.05}, \"mode\": \"markers+text\", \"name\": \"Malaysia\", \"text\": [\"Malaysia:<br> 1\"], \"x\": [-0.9396925568580627], \"y\": [0.3420202136039734], \"type\": \"scatter\"}, {\"marker\": {\"size\": [199], \"sizemode\": \"area\", \"sizeref\": 0.05}, \"mode\": \"markers+text\", \"name\": \"Denmark\", \"text\": [\"Denmark:<br> 1\"], \"x\": [-0.9396925568580627], \"y\": [-0.3420201539993286], \"type\": \"scatter\"}, {\"marker\": {\"size\": [193], \"sizemode\": \"area\", \"sizeref\": 0.05}, \"mode\": \"markers+text\", \"name\": \"Bolivia\", \"text\": [\"Bolivia:<br> 7\"], \"x\": [-0.49999988079071045], \"y\": [-0.866025447845459], \"type\": \"scatter\"}, {\"marker\": {\"size\": [199], \"sizemode\": \"area\", \"sizeref\": 0.05}, \"mode\": \"markers+text\", \"name\": \"Austria\", \"text\": [\"Austria:<br> 1\"], \"x\": [0.1736481785774231], \"y\": [-0.9848077297210693], \"type\": \"scatter\"}, {\"marker\": {\"size\": [199], \"sizemode\": \"area\", \"sizeref\": 0.05}, \"mode\": \"markers+text\", \"name\": \"Portugal\", \"text\": [\"Portugal:<br> 1\"], \"x\": [0.7660443782806396], \"y\": [-0.642787754535675], \"type\": \"scatter\"}], \"name\": \"2017-02-01\"}, {\"data\": [{\"marker\": {\"size\": [198], \"sizemode\": \"area\", \"sizeref\": 0.05}, \"mode\": \"markers+text\", \"name\": \"United States\", \"text\": [\"United States:<br> 2\"], \"x\": [1.0], \"y\": [6.622738357719982e-09], \"type\": \"scatter\"}, {\"marker\": {\"size\": [199], \"sizemode\": \"area\", \"sizeref\": 0.05}, \"mode\": \"markers+text\", \"name\": \"Switzerland\", \"text\": [\"Switzerland:<br> 1\"], \"x\": [0.7660444974899292], \"y\": [0.6427875757217407], \"type\": \"scatter\"}, {\"marker\": {\"size\": [199], \"sizemode\": \"area\", \"sizeref\": 0.05}, \"mode\": \"markers+text\", \"name\": \"Hungary\", \"text\": [\"Hungary:<br> 1\"], \"x\": [0.17364825308322906], \"y\": [0.9848077297210693], \"type\": \"scatter\"}, {\"marker\": {\"size\": [195], \"sizemode\": \"area\", \"sizeref\": 0.05}, \"mode\": \"markers+text\", \"name\": \"Peru\", \"text\": [\"Peru:<br> 5\"], \"x\": [-0.5], \"y\": [0.8660253882408142], \"type\": \"scatter\"}, {\"marker\": {\"size\": [199], \"sizemode\": \"area\", \"sizeref\": 0.05}, \"mode\": \"markers+text\", \"name\": \"Malaysia\", \"text\": [\"Malaysia:<br> 1\"], \"x\": [-0.9396925568580627], \"y\": [0.3420202136039734], \"type\": \"scatter\"}, {\"marker\": {\"size\": [199], \"sizemode\": \"area\", \"sizeref\": 0.05}, \"mode\": \"markers+text\", \"name\": \"Denmark\", \"text\": [\"Denmark:<br> 1\"], \"x\": [-0.9396925568580627], \"y\": [-0.3420201539993286], \"type\": \"scatter\"}, {\"marker\": {\"size\": [195], \"sizemode\": \"area\", \"sizeref\": 0.05}, \"mode\": \"markers+text\", \"name\": \"Bolivia\", \"text\": [\"Bolivia:<br> 5\"], \"x\": [-0.49999988079071045], \"y\": [-0.866025447845459], \"type\": \"scatter\"}, {\"marker\": {\"size\": [199], \"sizemode\": \"area\", \"sizeref\": 0.05}, \"mode\": \"markers+text\", \"name\": \"Austria\", \"text\": [\"Austria:<br> 1\"], \"x\": [0.1736481785774231], \"y\": [-0.9848077297210693], \"type\": \"scatter\"}, {\"marker\": {\"size\": [199], \"sizemode\": \"area\", \"sizeref\": 0.05}, \"mode\": \"markers+text\", \"name\": \"Portugal\", \"text\": [\"Portugal:<br> 1\"], \"x\": [0.7660443782806396], \"y\": [-0.642787754535675], \"type\": \"scatter\"}], \"name\": \"2017-02-02\"}, {\"data\": [{\"marker\": {\"size\": [198], \"sizemode\": \"area\", \"sizeref\": 0.05}, \"mode\": \"markers+text\", \"name\": \"United States\", \"text\": [\"United States:<br> 2\"], \"x\": [1.0], \"y\": [6.622738357719982e-09], \"type\": \"scatter\"}, {\"marker\": {\"size\": [199], \"sizemode\": \"area\", \"sizeref\": 0.05}, \"mode\": \"markers+text\", \"name\": \"Switzerland\", \"text\": [\"Switzerland:<br> 1\"], \"x\": [0.7660444974899292], \"y\": [0.6427875757217407], \"type\": \"scatter\"}, {\"marker\": {\"size\": [199], \"sizemode\": \"area\", \"sizeref\": 0.05}, \"mode\": \"markers+text\", \"name\": \"Hungary\", \"text\": [\"Hungary:<br> 1\"], \"x\": [0.17364825308322906], \"y\": [0.9848077297210693], \"type\": \"scatter\"}, {\"marker\": {\"size\": [195], \"sizemode\": \"area\", \"sizeref\": 0.05}, \"mode\": \"markers+text\", \"name\": \"Peru\", \"text\": [\"Peru:<br> 5\"], \"x\": [-0.5], \"y\": [0.8660253882408142], \"type\": \"scatter\"}, {\"marker\": {\"size\": [199], \"sizemode\": \"area\", \"sizeref\": 0.05}, \"mode\": \"markers+text\", \"name\": \"Malaysia\", \"text\": [\"Malaysia:<br> 1\"], \"x\": [-0.9396925568580627], \"y\": [0.3420202136039734], \"type\": \"scatter\"}, {\"marker\": {\"size\": [199], \"sizemode\": \"area\", \"sizeref\": 0.05}, \"mode\": \"markers+text\", \"name\": \"Denmark\", \"text\": [\"Denmark:<br> 1\"], \"x\": [-0.9396925568580627], \"y\": [-0.3420201539993286], \"type\": \"scatter\"}, {\"marker\": {\"size\": [194], \"sizemode\": \"area\", \"sizeref\": 0.05}, \"mode\": \"markers+text\", \"name\": \"Bolivia\", \"text\": [\"Bolivia:<br> 6\"], \"x\": [-0.49999988079071045], \"y\": [-0.866025447845459], \"type\": \"scatter\"}, {\"marker\": {\"size\": [199], \"sizemode\": \"area\", \"sizeref\": 0.05}, \"mode\": \"markers+text\", \"name\": \"Austria\", \"text\": [\"Austria:<br> 1\"], \"x\": [0.1736481785774231], \"y\": [-0.9848077297210693], \"type\": \"scatter\"}, {\"marker\": {\"size\": [199], \"sizemode\": \"area\", \"sizeref\": 0.05}, \"mode\": \"markers+text\", \"name\": \"Portugal\", \"text\": [\"Portugal:<br> 1\"], \"x\": [0.7660443782806396], \"y\": [-0.642787754535675], \"type\": \"scatter\"}], \"name\": \"2017-02-03\"}, {\"data\": [{\"marker\": {\"size\": [198], \"sizemode\": \"area\", \"sizeref\": 0.05}, \"mode\": \"markers+text\", \"name\": \"United States\", \"text\": [\"United States:<br> 2\"], \"x\": [1.0], \"y\": [6.622738357719982e-09], \"type\": \"scatter\"}, {\"marker\": {\"size\": [199], \"sizemode\": \"area\", \"sizeref\": 0.05}, \"mode\": \"markers+text\", \"name\": \"Switzerland\", \"text\": [\"Switzerland:<br> 1\"], \"x\": [0.7660444974899292], \"y\": [0.6427875757217407], \"type\": \"scatter\"}, {\"marker\": {\"size\": [199], \"sizemode\": \"area\", \"sizeref\": 0.05}, \"mode\": \"markers+text\", \"name\": \"Hungary\", \"text\": [\"Hungary:<br> 1\"], \"x\": [0.17364825308322906], \"y\": [0.9848077297210693], \"type\": \"scatter\"}, {\"marker\": {\"size\": [194], \"sizemode\": \"area\", \"sizeref\": 0.05}, \"mode\": \"markers+text\", \"name\": \"Peru\", \"text\": [\"Peru:<br> 6\"], \"x\": [-0.5], \"y\": [0.8660253882408142], \"type\": \"scatter\"}, {\"marker\": {\"size\": [199], \"sizemode\": \"area\", \"sizeref\": 0.05}, \"mode\": \"markers+text\", \"name\": \"Malaysia\", \"text\": [\"Malaysia:<br> 1\"], \"x\": [-0.9396925568580627], \"y\": [0.3420202136039734], \"type\": \"scatter\"}, {\"marker\": {\"size\": [199], \"sizemode\": \"area\", \"sizeref\": 0.05}, \"mode\": \"markers+text\", \"name\": \"Denmark\", \"text\": [\"Denmark:<br> 1\"], \"x\": [-0.9396925568580627], \"y\": [-0.3420201539993286], \"type\": \"scatter\"}, {\"marker\": {\"size\": [193], \"sizemode\": \"area\", \"sizeref\": 0.05}, \"mode\": \"markers+text\", \"name\": \"Bolivia\", \"text\": [\"Bolivia:<br> 7\"], \"x\": [-0.49999988079071045], \"y\": [-0.866025447845459], \"type\": \"scatter\"}, {\"marker\": {\"size\": [199], \"sizemode\": \"area\", \"sizeref\": 0.05}, \"mode\": \"markers+text\", \"name\": \"Austria\", \"text\": [\"Austria:<br> 1\"], \"x\": [0.1736481785774231], \"y\": [-0.9848077297210693], \"type\": \"scatter\"}, {\"marker\": {\"size\": [199], \"sizemode\": \"area\", \"sizeref\": 0.05}, \"mode\": \"markers+text\", \"name\": \"Portugal\", \"text\": [\"Portugal:<br> 1\"], \"x\": [0.7660443782806396], \"y\": [-0.642787754535675], \"type\": \"scatter\"}], \"name\": \"2017-02-04\"}, {\"data\": [{\"marker\": {\"size\": [198], \"sizemode\": \"area\", \"sizeref\": 0.05}, \"mode\": \"markers+text\", \"name\": \"United States\", \"text\": [\"United States:<br> 2\"], \"x\": [1.0], \"y\": [6.622738357719982e-09], \"type\": \"scatter\"}, {\"marker\": {\"size\": [199], \"sizemode\": \"area\", \"sizeref\": 0.05}, \"mode\": \"markers+text\", \"name\": \"Switzerland\", \"text\": [\"Switzerland:<br> 1\"], \"x\": [0.7660444974899292], \"y\": [0.6427875757217407], \"type\": \"scatter\"}, {\"marker\": {\"size\": [199], \"sizemode\": \"area\", \"sizeref\": 0.05}, \"mode\": \"markers+text\", \"name\": \"Hungary\", \"text\": [\"Hungary:<br> 1\"], \"x\": [0.17364825308322906], \"y\": [0.9848077297210693], \"type\": \"scatter\"}, {\"marker\": {\"size\": [194], \"sizemode\": \"area\", \"sizeref\": 0.05}, \"mode\": \"markers+text\", \"name\": \"Peru\", \"text\": [\"Peru:<br> 6\"], \"x\": [-0.5], \"y\": [0.8660253882408142], \"type\": \"scatter\"}, {\"marker\": {\"size\": [199], \"sizemode\": \"area\", \"sizeref\": 0.05}, \"mode\": \"markers+text\", \"name\": \"Malaysia\", \"text\": [\"Malaysia:<br> 1\"], \"x\": [-0.9396925568580627], \"y\": [0.3420202136039734], \"type\": \"scatter\"}, {\"marker\": {\"size\": [199], \"sizemode\": \"area\", \"sizeref\": 0.05}, \"mode\": \"markers+text\", \"name\": \"Denmark\", \"text\": [\"Denmark:<br> 1\"], \"x\": [-0.9396925568580627], \"y\": [-0.3420201539993286], \"type\": \"scatter\"}, {\"marker\": {\"size\": [193], \"sizemode\": \"area\", \"sizeref\": 0.05}, \"mode\": \"markers+text\", \"name\": \"Bolivia\", \"text\": [\"Bolivia:<br> 7\"], \"x\": [-0.49999988079071045], \"y\": [-0.866025447845459], \"type\": \"scatter\"}, {\"marker\": {\"size\": [199], \"sizemode\": \"area\", \"sizeref\": 0.05}, \"mode\": \"markers+text\", \"name\": \"Austria\", \"text\": [\"Austria:<br> 1\"], \"x\": [0.1736481785774231], \"y\": [-0.9848077297210693], \"type\": \"scatter\"}, {\"marker\": {\"size\": [199], \"sizemode\": \"area\", \"sizeref\": 0.05}, \"mode\": \"markers+text\", \"name\": \"Portugal\", \"text\": [\"Portugal:<br> 1\"], \"x\": [0.7660443782806396], \"y\": [-0.642787754535675], \"type\": \"scatter\"}], \"name\": \"2017-02-05\"}, {\"data\": [{\"marker\": {\"size\": [199], \"sizemode\": \"area\", \"sizeref\": 0.05}, \"mode\": \"markers+text\", \"name\": \"United States\", \"text\": [\"United States:<br> 1\"], \"x\": [1.0], \"y\": [6.622738357719982e-09], \"type\": \"scatter\"}, {\"marker\": {\"size\": [199], \"sizemode\": \"area\", \"sizeref\": 0.05}, \"mode\": \"markers+text\", \"name\": \"Switzerland\", \"text\": [\"Switzerland:<br> 1\"], \"x\": [0.7660444974899292], \"y\": [0.6427875757217407], \"type\": \"scatter\"}, {\"marker\": {\"size\": [199], \"sizemode\": \"area\", \"sizeref\": 0.05}, \"mode\": \"markers+text\", \"name\": \"Hungary\", \"text\": [\"Hungary:<br> 1\"], \"x\": [0.17364825308322906], \"y\": [0.9848077297210693], \"type\": \"scatter\"}, {\"marker\": {\"size\": [195], \"sizemode\": \"area\", \"sizeref\": 0.05}, \"mode\": \"markers+text\", \"name\": \"Peru\", \"text\": [\"Peru:<br> 5\"], \"x\": [-0.5], \"y\": [0.8660253882408142], \"type\": \"scatter\"}, {\"marker\": {\"size\": [199], \"sizemode\": \"area\", \"sizeref\": 0.05}, \"mode\": \"markers+text\", \"name\": \"Malaysia\", \"text\": [\"Malaysia:<br> 1\"], \"x\": [-0.9396925568580627], \"y\": [0.3420202136039734], \"type\": \"scatter\"}, {\"marker\": {\"size\": [199], \"sizemode\": \"area\", \"sizeref\": 0.05}, \"mode\": \"markers+text\", \"name\": \"Denmark\", \"text\": [\"Denmark:<br> 1\"], \"x\": [-0.9396925568580627], \"y\": [-0.3420201539993286], \"type\": \"scatter\"}, {\"marker\": {\"size\": [195], \"sizemode\": \"area\", \"sizeref\": 0.05}, \"mode\": \"markers+text\", \"name\": \"Bolivia\", \"text\": [\"Bolivia:<br> 5\"], \"x\": [-0.49999988079071045], \"y\": [-0.866025447845459], \"type\": \"scatter\"}, {\"marker\": {\"size\": [199], \"sizemode\": \"area\", \"sizeref\": 0.05}, \"mode\": \"markers+text\", \"name\": \"Austria\", \"text\": [\"Austria:<br> 1\"], \"x\": [0.1736481785774231], \"y\": [-0.9848077297210693], \"type\": \"scatter\"}, {\"marker\": {\"size\": [199], \"sizemode\": \"area\", \"sizeref\": 0.05}, \"mode\": \"markers+text\", \"name\": \"Portugal\", \"text\": [\"Portugal:<br> 1\"], \"x\": [0.7660443782806396], \"y\": [-0.642787754535675], \"type\": \"scatter\"}], \"name\": \"2017-02-06\"}, {\"data\": [{\"marker\": {\"size\": [199], \"sizemode\": \"area\", \"sizeref\": 0.05}, \"mode\": \"markers+text\", \"name\": \"United States\", \"text\": [\"United States:<br> 1\"], \"x\": [1.0], \"y\": [6.622738357719982e-09], \"type\": \"scatter\"}, {\"marker\": {\"size\": [199], \"sizemode\": \"area\", \"sizeref\": 0.05}, \"mode\": \"markers+text\", \"name\": \"Switzerland\", \"text\": [\"Switzerland:<br> 1\"], \"x\": [0.7660444974899292], \"y\": [0.6427875757217407], \"type\": \"scatter\"}, {\"marker\": {\"size\": [199], \"sizemode\": \"area\", \"sizeref\": 0.05}, \"mode\": \"markers+text\", \"name\": \"Hungary\", \"text\": [\"Hungary:<br> 1\"], \"x\": [0.17364825308322906], \"y\": [0.9848077297210693], \"type\": \"scatter\"}, {\"marker\": {\"size\": [195], \"sizemode\": \"area\", \"sizeref\": 0.05}, \"mode\": \"markers+text\", \"name\": \"Peru\", \"text\": [\"Peru:<br> 5\"], \"x\": [-0.5], \"y\": [0.8660253882408142], \"type\": \"scatter\"}, {\"marker\": {\"size\": [199], \"sizemode\": \"area\", \"sizeref\": 0.05}, \"mode\": \"markers+text\", \"name\": \"Malaysia\", \"text\": [\"Malaysia:<br> 1\"], \"x\": [-0.9396925568580627], \"y\": [0.3420202136039734], \"type\": \"scatter\"}, {\"marker\": {\"size\": [199], \"sizemode\": \"area\", \"sizeref\": 0.05}, \"mode\": \"markers+text\", \"name\": \"Denmark\", \"text\": [\"Denmark:<br> 1\"], \"x\": [-0.9396925568580627], \"y\": [-0.3420201539993286], \"type\": \"scatter\"}, {\"marker\": {\"size\": [195], \"sizemode\": \"area\", \"sizeref\": 0.05}, \"mode\": \"markers+text\", \"name\": \"Bolivia\", \"text\": [\"Bolivia:<br> 5\"], \"x\": [-0.49999988079071045], \"y\": [-0.866025447845459], \"type\": \"scatter\"}, {\"marker\": {\"size\": [199], \"sizemode\": \"area\", \"sizeref\": 0.05}, \"mode\": \"markers+text\", \"name\": \"Austria\", \"text\": [\"Austria:<br> 1\"], \"x\": [0.1736481785774231], \"y\": [-0.9848077297210693], \"type\": \"scatter\"}, {\"marker\": {\"size\": [199], \"sizemode\": \"area\", \"sizeref\": 0.05}, \"mode\": \"markers+text\", \"name\": \"Portugal\", \"text\": [\"Portugal:<br> 1\"], \"x\": [0.7660443782806396], \"y\": [-0.642787754535675], \"type\": \"scatter\"}], \"name\": \"2017-02-07\"}, {\"data\": [{\"marker\": {\"size\": [199], \"sizemode\": \"area\", \"sizeref\": 0.05}, \"mode\": \"markers+text\", \"name\": \"United States\", \"text\": [\"United States:<br> 1\"], \"x\": [1.0], \"y\": [6.622738357719982e-09], \"type\": \"scatter\"}, {\"marker\": {\"size\": [199], \"sizemode\": \"area\", \"sizeref\": 0.05}, \"mode\": \"markers+text\", \"name\": \"Switzerland\", \"text\": [\"Switzerland:<br> 1\"], \"x\": [0.7660444974899292], \"y\": [0.6427875757217407], \"type\": \"scatter\"}, {\"marker\": {\"size\": [199], \"sizemode\": \"area\", \"sizeref\": 0.05}, \"mode\": \"markers+text\", \"name\": \"Hungary\", \"text\": [\"Hungary:<br> 1\"], \"x\": [0.17364825308322906], \"y\": [0.9848077297210693], \"type\": \"scatter\"}, {\"marker\": {\"size\": [195], \"sizemode\": \"area\", \"sizeref\": 0.05}, \"mode\": \"markers+text\", \"name\": \"Peru\", \"text\": [\"Peru:<br> 5\"], \"x\": [-0.5], \"y\": [0.8660253882408142], \"type\": \"scatter\"}, {\"marker\": {\"size\": [199], \"sizemode\": \"area\", \"sizeref\": 0.05}, \"mode\": \"markers+text\", \"name\": \"Malaysia\", \"text\": [\"Malaysia:<br> 1\"], \"x\": [-0.9396925568580627], \"y\": [0.3420202136039734], \"type\": \"scatter\"}, {\"marker\": {\"size\": [199], \"sizemode\": \"area\", \"sizeref\": 0.05}, \"mode\": \"markers+text\", \"name\": \"Denmark\", \"text\": [\"Denmark:<br> 1\"], \"x\": [-0.9396925568580627], \"y\": [-0.3420201539993286], \"type\": \"scatter\"}, {\"marker\": {\"size\": [195], \"sizemode\": \"area\", \"sizeref\": 0.05}, \"mode\": \"markers+text\", \"name\": \"Bolivia\", \"text\": [\"Bolivia:<br> 5\"], \"x\": [-0.49999988079071045], \"y\": [-0.866025447845459], \"type\": \"scatter\"}, {\"marker\": {\"size\": [199], \"sizemode\": \"area\", \"sizeref\": 0.05}, \"mode\": \"markers+text\", \"name\": \"Austria\", \"text\": [\"Austria:<br> 1\"], \"x\": [0.1736481785774231], \"y\": [-0.9848077297210693], \"type\": \"scatter\"}, {\"marker\": {\"size\": [199], \"sizemode\": \"area\", \"sizeref\": 0.05}, \"mode\": \"markers+text\", \"name\": \"Portugal\", \"text\": [\"Portugal:<br> 1\"], \"x\": [0.7660443782806396], \"y\": [-0.642787754535675], \"type\": \"scatter\"}], \"name\": \"2017-02-08\"}, {\"data\": [{\"marker\": {\"size\": [199], \"sizemode\": \"area\", \"sizeref\": 0.05}, \"mode\": \"markers+text\", \"name\": \"United States\", \"text\": [\"United States:<br> 1\"], \"x\": [1.0], \"y\": [6.622738357719982e-09], \"type\": \"scatter\"}, {\"marker\": {\"size\": [199], \"sizemode\": \"area\", \"sizeref\": 0.05}, \"mode\": \"markers+text\", \"name\": \"Switzerland\", \"text\": [\"Switzerland:<br> 1\"], \"x\": [0.7660444974899292], \"y\": [0.6427875757217407], \"type\": \"scatter\"}, {\"marker\": {\"size\": [199], \"sizemode\": \"area\", \"sizeref\": 0.05}, \"mode\": \"markers+text\", \"name\": \"Hungary\", \"text\": [\"Hungary:<br> 1\"], \"x\": [0.17364825308322906], \"y\": [0.9848077297210693], \"type\": \"scatter\"}, {\"marker\": {\"size\": [195], \"sizemode\": \"area\", \"sizeref\": 0.05}, \"mode\": \"markers+text\", \"name\": \"Peru\", \"text\": [\"Peru:<br> 5\"], \"x\": [-0.5], \"y\": [0.8660253882408142], \"type\": \"scatter\"}, {\"marker\": {\"size\": [199], \"sizemode\": \"area\", \"sizeref\": 0.05}, \"mode\": \"markers+text\", \"name\": \"Malaysia\", \"text\": [\"Malaysia:<br> 1\"], \"x\": [-0.9396925568580627], \"y\": [0.3420202136039734], \"type\": \"scatter\"}, {\"marker\": {\"size\": [199], \"sizemode\": \"area\", \"sizeref\": 0.05}, \"mode\": \"markers+text\", \"name\": \"Denmark\", \"text\": [\"Denmark:<br> 1\"], \"x\": [-0.9396925568580627], \"y\": [-0.3420201539993286], \"type\": \"scatter\"}, {\"marker\": {\"size\": [195], \"sizemode\": \"area\", \"sizeref\": 0.05}, \"mode\": \"markers+text\", \"name\": \"Bolivia\", \"text\": [\"Bolivia:<br> 5\"], \"x\": [-0.49999988079071045], \"y\": [-0.866025447845459], \"type\": \"scatter\"}, {\"marker\": {\"size\": [199], \"sizemode\": \"area\", \"sizeref\": 0.05}, \"mode\": \"markers+text\", \"name\": \"Austria\", \"text\": [\"Austria:<br> 1\"], \"x\": [0.1736481785774231], \"y\": [-0.9848077297210693], \"type\": \"scatter\"}, {\"marker\": {\"size\": [199], \"sizemode\": \"area\", \"sizeref\": 0.05}, \"mode\": \"markers+text\", \"name\": \"Portugal\", \"text\": [\"Portugal:<br> 1\"], \"x\": [0.7660443782806396], \"y\": [-0.642787754535675], \"type\": \"scatter\"}], \"name\": \"2017-02-09\"}, {\"data\": [{\"marker\": {\"size\": [199], \"sizemode\": \"area\", \"sizeref\": 0.05}, \"mode\": \"markers+text\", \"name\": \"United States\", \"text\": [\"United States:<br> 1\"], \"x\": [1.0], \"y\": [6.622738357719982e-09], \"type\": \"scatter\"}, {\"marker\": {\"size\": [199], \"sizemode\": \"area\", \"sizeref\": 0.05}, \"mode\": \"markers+text\", \"name\": \"Switzerland\", \"text\": [\"Switzerland:<br> 1\"], \"x\": [0.7660444974899292], \"y\": [0.6427875757217407], \"type\": \"scatter\"}, {\"marker\": {\"size\": [199], \"sizemode\": \"area\", \"sizeref\": 0.05}, \"mode\": \"markers+text\", \"name\": \"Hungary\", \"text\": [\"Hungary:<br> 1\"], \"x\": [0.17364825308322906], \"y\": [0.9848077297210693], \"type\": \"scatter\"}, {\"marker\": {\"size\": [195], \"sizemode\": \"area\", \"sizeref\": 0.05}, \"mode\": \"markers+text\", \"name\": \"Peru\", \"text\": [\"Peru:<br> 5\"], \"x\": [-0.5], \"y\": [0.8660253882408142], \"type\": \"scatter\"}, {\"marker\": {\"size\": [199], \"sizemode\": \"area\", \"sizeref\": 0.05}, \"mode\": \"markers+text\", \"name\": \"Malaysia\", \"text\": [\"Malaysia:<br> 1\"], \"x\": [-0.9396925568580627], \"y\": [0.3420202136039734], \"type\": \"scatter\"}, {\"marker\": {\"size\": [199], \"sizemode\": \"area\", \"sizeref\": 0.05}, \"mode\": \"markers+text\", \"name\": \"Denmark\", \"text\": [\"Denmark:<br> 1\"], \"x\": [-0.9396925568580627], \"y\": [-0.3420201539993286], \"type\": \"scatter\"}, {\"marker\": {\"size\": [195], \"sizemode\": \"area\", \"sizeref\": 0.05}, \"mode\": \"markers+text\", \"name\": \"Bolivia\", \"text\": [\"Bolivia:<br> 5\"], \"x\": [-0.49999988079071045], \"y\": [-0.866025447845459], \"type\": \"scatter\"}, {\"marker\": {\"size\": [199], \"sizemode\": \"area\", \"sizeref\": 0.05}, \"mode\": \"markers+text\", \"name\": \"Austria\", \"text\": [\"Austria:<br> 1\"], \"x\": [0.1736481785774231], \"y\": [-0.9848077297210693], \"type\": \"scatter\"}, {\"marker\": {\"size\": [199], \"sizemode\": \"area\", \"sizeref\": 0.05}, \"mode\": \"markers+text\", \"name\": \"Portugal\", \"text\": [\"Portugal:<br> 1\"], \"x\": [0.7660443782806396], \"y\": [-0.642787754535675], \"type\": \"scatter\"}], \"name\": \"2017-02-10\"}, {\"data\": [{\"marker\": {\"size\": [198], \"sizemode\": \"area\", \"sizeref\": 0.05}, \"mode\": \"markers+text\", \"name\": \"United States\", \"text\": [\"United States:<br> 2\"], \"x\": [1.0], \"y\": [6.622738357719982e-09], \"type\": \"scatter\"}, {\"marker\": {\"size\": [199], \"sizemode\": \"area\", \"sizeref\": 0.05}, \"mode\": \"markers+text\", \"name\": \"Switzerland\", \"text\": [\"Switzerland:<br> 1\"], \"x\": [0.7660444974899292], \"y\": [0.6427875757217407], \"type\": \"scatter\"}, {\"marker\": {\"size\": [199], \"sizemode\": \"area\", \"sizeref\": 0.05}, \"mode\": \"markers+text\", \"name\": \"Hungary\", \"text\": [\"Hungary:<br> 1\"], \"x\": [0.17364825308322906], \"y\": [0.9848077297210693], \"type\": \"scatter\"}, {\"marker\": {\"size\": [195], \"sizemode\": \"area\", \"sizeref\": 0.05}, \"mode\": \"markers+text\", \"name\": \"Peru\", \"text\": [\"Peru:<br> 5\"], \"x\": [-0.5], \"y\": [0.8660253882408142], \"type\": \"scatter\"}, {\"marker\": {\"size\": [199], \"sizemode\": \"area\", \"sizeref\": 0.05}, \"mode\": \"markers+text\", \"name\": \"Malaysia\", \"text\": [\"Malaysia:<br> 1\"], \"x\": [-0.9396925568580627], \"y\": [0.3420202136039734], \"type\": \"scatter\"}, {\"marker\": {\"size\": [199], \"sizemode\": \"area\", \"sizeref\": 0.05}, \"mode\": \"markers+text\", \"name\": \"Denmark\", \"text\": [\"Denmark:<br> 1\"], \"x\": [-0.9396925568580627], \"y\": [-0.3420201539993286], \"type\": \"scatter\"}, {\"marker\": {\"size\": [195], \"sizemode\": \"area\", \"sizeref\": 0.05}, \"mode\": \"markers+text\", \"name\": \"Bolivia\", \"text\": [\"Bolivia:<br> 5\"], \"x\": [-0.49999988079071045], \"y\": [-0.866025447845459], \"type\": \"scatter\"}, {\"marker\": {\"size\": [199], \"sizemode\": \"area\", \"sizeref\": 0.05}, \"mode\": \"markers+text\", \"name\": \"Austria\", \"text\": [\"Austria:<br> 1\"], \"x\": [0.1736481785774231], \"y\": [-0.9848077297210693], \"type\": \"scatter\"}, {\"marker\": {\"size\": [199], \"sizemode\": \"area\", \"sizeref\": 0.05}, \"mode\": \"markers+text\", \"name\": \"Portugal\", \"text\": [\"Portugal:<br> 1\"], \"x\": [0.7660443782806396], \"y\": [-0.642787754535675], \"type\": \"scatter\"}], \"name\": \"2017-02-11\"}, {\"data\": [{\"marker\": {\"size\": [199], \"sizemode\": \"area\", \"sizeref\": 0.05}, \"mode\": \"markers+text\", \"name\": \"United States\", \"text\": [\"United States:<br> 1\"], \"x\": [1.0], \"y\": [6.622738357719982e-09], \"type\": \"scatter\"}, {\"marker\": {\"size\": [199], \"sizemode\": \"area\", \"sizeref\": 0.05}, \"mode\": \"markers+text\", \"name\": \"Switzerland\", \"text\": [\"Switzerland:<br> 1\"], \"x\": [0.7660444974899292], \"y\": [0.6427875757217407], \"type\": \"scatter\"}, {\"marker\": {\"size\": [199], \"sizemode\": \"area\", \"sizeref\": 0.05}, \"mode\": \"markers+text\", \"name\": \"Hungary\", \"text\": [\"Hungary:<br> 1\"], \"x\": [0.17364825308322906], \"y\": [0.9848077297210693], \"type\": \"scatter\"}, {\"marker\": {\"size\": [195], \"sizemode\": \"area\", \"sizeref\": 0.05}, \"mode\": \"markers+text\", \"name\": \"Peru\", \"text\": [\"Peru:<br> 5\"], \"x\": [-0.5], \"y\": [0.8660253882408142], \"type\": \"scatter\"}, {\"marker\": {\"size\": [199], \"sizemode\": \"area\", \"sizeref\": 0.05}, \"mode\": \"markers+text\", \"name\": \"Malaysia\", \"text\": [\"Malaysia:<br> 1\"], \"x\": [-0.9396925568580627], \"y\": [0.3420202136039734], \"type\": \"scatter\"}, {\"marker\": {\"size\": [199], \"sizemode\": \"area\", \"sizeref\": 0.05}, \"mode\": \"markers+text\", \"name\": \"Denmark\", \"text\": [\"Denmark:<br> 1\"], \"x\": [-0.9396925568580627], \"y\": [-0.3420201539993286], \"type\": \"scatter\"}, {\"marker\": {\"size\": [195], \"sizemode\": \"area\", \"sizeref\": 0.05}, \"mode\": \"markers+text\", \"name\": \"Bolivia\", \"text\": [\"Bolivia:<br> 5\"], \"x\": [-0.49999988079071045], \"y\": [-0.866025447845459], \"type\": \"scatter\"}, {\"marker\": {\"size\": [199], \"sizemode\": \"area\", \"sizeref\": 0.05}, \"mode\": \"markers+text\", \"name\": \"Austria\", \"text\": [\"Austria:<br> 1\"], \"x\": [0.1736481785774231], \"y\": [-0.9848077297210693], \"type\": \"scatter\"}, {\"marker\": {\"size\": [199], \"sizemode\": \"area\", \"sizeref\": 0.05}, \"mode\": \"markers+text\", \"name\": \"Portugal\", \"text\": [\"Portugal:<br> 1\"], \"x\": [0.7660443782806396], \"y\": [-0.642787754535675], \"type\": \"scatter\"}], \"name\": \"2017-02-12\"}, {\"data\": [{\"marker\": {\"size\": [199], \"sizemode\": \"area\", \"sizeref\": 0.05}, \"mode\": \"markers+text\", \"name\": \"United States\", \"text\": [\"United States:<br> 1\"], \"x\": [1.0], \"y\": [6.622738357719982e-09], \"type\": \"scatter\"}, {\"marker\": {\"size\": [199], \"sizemode\": \"area\", \"sizeref\": 0.05}, \"mode\": \"markers+text\", \"name\": \"Switzerland\", \"text\": [\"Switzerland:<br> 1\"], \"x\": [0.7660444974899292], \"y\": [0.6427875757217407], \"type\": \"scatter\"}, {\"marker\": {\"size\": [199], \"sizemode\": \"area\", \"sizeref\": 0.05}, \"mode\": \"markers+text\", \"name\": \"Hungary\", \"text\": [\"Hungary:<br> 1\"], \"x\": [0.17364825308322906], \"y\": [0.9848077297210693], \"type\": \"scatter\"}, {\"marker\": {\"size\": [196], \"sizemode\": \"area\", \"sizeref\": 0.05}, \"mode\": \"markers+text\", \"name\": \"Peru\", \"text\": [\"Peru:<br> 4\"], \"x\": [-0.5], \"y\": [0.8660253882408142], \"type\": \"scatter\"}, {\"marker\": {\"size\": [199], \"sizemode\": \"area\", \"sizeref\": 0.05}, \"mode\": \"markers+text\", \"name\": \"Malaysia\", \"text\": [\"Malaysia:<br> 1\"], \"x\": [-0.9396925568580627], \"y\": [0.3420202136039734], \"type\": \"scatter\"}, {\"marker\": {\"size\": [199], \"sizemode\": \"area\", \"sizeref\": 0.05}, \"mode\": \"markers+text\", \"name\": \"Denmark\", \"text\": [\"Denmark:<br> 1\"], \"x\": [-0.9396925568580627], \"y\": [-0.3420201539993286], \"type\": \"scatter\"}, {\"marker\": {\"size\": [196], \"sizemode\": \"area\", \"sizeref\": 0.05}, \"mode\": \"markers+text\", \"name\": \"Bolivia\", \"text\": [\"Bolivia:<br> 4\"], \"x\": [-0.49999988079071045], \"y\": [-0.866025447845459], \"type\": \"scatter\"}, {\"marker\": {\"size\": [199], \"sizemode\": \"area\", \"sizeref\": 0.05}, \"mode\": \"markers+text\", \"name\": \"Austria\", \"text\": [\"Austria:<br> 1\"], \"x\": [0.1736481785774231], \"y\": [-0.9848077297210693], \"type\": \"scatter\"}, {\"marker\": {\"size\": [199], \"sizemode\": \"area\", \"sizeref\": 0.05}, \"mode\": \"markers+text\", \"name\": \"Portugal\", \"text\": [\"Portugal:<br> 1\"], \"x\": [0.7660443782806396], \"y\": [-0.642787754535675], \"type\": \"scatter\"}], \"name\": \"2017-02-13\"}, {\"data\": [{\"marker\": {\"size\": [199], \"sizemode\": \"area\", \"sizeref\": 0.05}, \"mode\": \"markers+text\", \"name\": \"United States\", \"text\": [\"United States:<br> 1\"], \"x\": [1.0], \"y\": [6.622738357719982e-09], \"type\": \"scatter\"}, {\"marker\": {\"size\": [199], \"sizemode\": \"area\", \"sizeref\": 0.05}, \"mode\": \"markers+text\", \"name\": \"Switzerland\", \"text\": [\"Switzerland:<br> 1\"], \"x\": [0.7660444974899292], \"y\": [0.6427875757217407], \"type\": \"scatter\"}, {\"marker\": {\"size\": [199], \"sizemode\": \"area\", \"sizeref\": 0.05}, \"mode\": \"markers+text\", \"name\": \"Hungary\", \"text\": [\"Hungary:<br> 1\"], \"x\": [0.17364825308322906], \"y\": [0.9848077297210693], \"type\": \"scatter\"}, {\"marker\": {\"size\": [196], \"sizemode\": \"area\", \"sizeref\": 0.05}, \"mode\": \"markers+text\", \"name\": \"Peru\", \"text\": [\"Peru:<br> 4\"], \"x\": [-0.5], \"y\": [0.8660253882408142], \"type\": \"scatter\"}, {\"marker\": {\"size\": [199], \"sizemode\": \"area\", \"sizeref\": 0.05}, \"mode\": \"markers+text\", \"name\": \"Malaysia\", \"text\": [\"Malaysia:<br> 1\"], \"x\": [-0.9396925568580627], \"y\": [0.3420202136039734], \"type\": \"scatter\"}, {\"marker\": {\"size\": [199], \"sizemode\": \"area\", \"sizeref\": 0.05}, \"mode\": \"markers+text\", \"name\": \"Denmark\", \"text\": [\"Denmark:<br> 1\"], \"x\": [-0.9396925568580627], \"y\": [-0.3420201539993286], \"type\": \"scatter\"}, {\"marker\": {\"size\": [195], \"sizemode\": \"area\", \"sizeref\": 0.05}, \"mode\": \"markers+text\", \"name\": \"Bolivia\", \"text\": [\"Bolivia:<br> 5\"], \"x\": [-0.49999988079071045], \"y\": [-0.866025447845459], \"type\": \"scatter\"}, {\"marker\": {\"size\": [199], \"sizemode\": \"area\", \"sizeref\": 0.05}, \"mode\": \"markers+text\", \"name\": \"Austria\", \"text\": [\"Austria:<br> 1\"], \"x\": [0.1736481785774231], \"y\": [-0.9848077297210693], \"type\": \"scatter\"}, {\"marker\": {\"size\": [199], \"sizemode\": \"area\", \"sizeref\": 0.05}, \"mode\": \"markers+text\", \"name\": \"Portugal\", \"text\": [\"Portugal:<br> 1\"], \"x\": [0.7660443782806396], \"y\": [-0.642787754535675], \"type\": \"scatter\"}], \"name\": \"2017-02-14\"}, {\"data\": [{\"marker\": {\"size\": [199], \"sizemode\": \"area\", \"sizeref\": 0.05}, \"mode\": \"markers+text\", \"name\": \"United States\", \"text\": [\"United States:<br> 1\"], \"x\": [1.0], \"y\": [6.622738357719982e-09], \"type\": \"scatter\"}, {\"marker\": {\"size\": [199], \"sizemode\": \"area\", \"sizeref\": 0.05}, \"mode\": \"markers+text\", \"name\": \"Switzerland\", \"text\": [\"Switzerland:<br> 1\"], \"x\": [0.7660444974899292], \"y\": [0.6427875757217407], \"type\": \"scatter\"}, {\"marker\": {\"size\": [199], \"sizemode\": \"area\", \"sizeref\": 0.05}, \"mode\": \"markers+text\", \"name\": \"Hungary\", \"text\": [\"Hungary:<br> 1\"], \"x\": [0.17364825308322906], \"y\": [0.9848077297210693], \"type\": \"scatter\"}, {\"marker\": {\"size\": [196], \"sizemode\": \"area\", \"sizeref\": 0.05}, \"mode\": \"markers+text\", \"name\": \"Peru\", \"text\": [\"Peru:<br> 4\"], \"x\": [-0.5], \"y\": [0.8660253882408142], \"type\": \"scatter\"}, {\"marker\": {\"size\": [199], \"sizemode\": \"area\", \"sizeref\": 0.05}, \"mode\": \"markers+text\", \"name\": \"Malaysia\", \"text\": [\"Malaysia:<br> 1\"], \"x\": [-0.9396925568580627], \"y\": [0.3420202136039734], \"type\": \"scatter\"}, {\"marker\": {\"size\": [199], \"sizemode\": \"area\", \"sizeref\": 0.05}, \"mode\": \"markers+text\", \"name\": \"Denmark\", \"text\": [\"Denmark:<br> 1\"], \"x\": [-0.9396925568580627], \"y\": [-0.3420201539993286], \"type\": \"scatter\"}, {\"marker\": {\"size\": [196], \"sizemode\": \"area\", \"sizeref\": 0.05}, \"mode\": \"markers+text\", \"name\": \"Bolivia\", \"text\": [\"Bolivia:<br> 4\"], \"x\": [-0.49999988079071045], \"y\": [-0.866025447845459], \"type\": \"scatter\"}, {\"marker\": {\"size\": [199], \"sizemode\": \"area\", \"sizeref\": 0.05}, \"mode\": \"markers+text\", \"name\": \"Austria\", \"text\": [\"Austria:<br> 1\"], \"x\": [0.1736481785774231], \"y\": [-0.9848077297210693], \"type\": \"scatter\"}, {\"marker\": {\"size\": [199], \"sizemode\": \"area\", \"sizeref\": 0.05}, \"mode\": \"markers+text\", \"name\": \"Portugal\", \"text\": [\"Portugal:<br> 1\"], \"x\": [0.7660443782806396], \"y\": [-0.642787754535675], \"type\": \"scatter\"}], \"name\": \"2017-02-15\"}, {\"data\": [{\"marker\": {\"size\": [199], \"sizemode\": \"area\", \"sizeref\": 0.05}, \"mode\": \"markers+text\", \"name\": \"United States\", \"text\": [\"United States:<br> 1\"], \"x\": [1.0], \"y\": [6.622738357719982e-09], \"type\": \"scatter\"}, {\"marker\": {\"size\": [199], \"sizemode\": \"area\", \"sizeref\": 0.05}, \"mode\": \"markers+text\", \"name\": \"Switzerland\", \"text\": [\"Switzerland:<br> 1\"], \"x\": [0.7660444974899292], \"y\": [0.6427875757217407], \"type\": \"scatter\"}, {\"marker\": {\"size\": [199], \"sizemode\": \"area\", \"sizeref\": 0.05}, \"mode\": \"markers+text\", \"name\": \"Hungary\", \"text\": [\"Hungary:<br> 1\"], \"x\": [0.17364825308322906], \"y\": [0.9848077297210693], \"type\": \"scatter\"}, {\"marker\": {\"size\": [196], \"sizemode\": \"area\", \"sizeref\": 0.05}, \"mode\": \"markers+text\", \"name\": \"Peru\", \"text\": [\"Peru:<br> 4\"], \"x\": [-0.5], \"y\": [0.8660253882408142], \"type\": \"scatter\"}, {\"marker\": {\"size\": [199], \"sizemode\": \"area\", \"sizeref\": 0.05}, \"mode\": \"markers+text\", \"name\": \"Malaysia\", \"text\": [\"Malaysia:<br> 1\"], \"x\": [-0.9396925568580627], \"y\": [0.3420202136039734], \"type\": \"scatter\"}, {\"marker\": {\"size\": [199], \"sizemode\": \"area\", \"sizeref\": 0.05}, \"mode\": \"markers+text\", \"name\": \"Denmark\", \"text\": [\"Denmark:<br> 1\"], \"x\": [-0.9396925568580627], \"y\": [-0.3420201539993286], \"type\": \"scatter\"}, {\"marker\": {\"size\": [196], \"sizemode\": \"area\", \"sizeref\": 0.05}, \"mode\": \"markers+text\", \"name\": \"Bolivia\", \"text\": [\"Bolivia:<br> 4\"], \"x\": [-0.49999988079071045], \"y\": [-0.866025447845459], \"type\": \"scatter\"}, {\"marker\": {\"size\": [199], \"sizemode\": \"area\", \"sizeref\": 0.05}, \"mode\": \"markers+text\", \"name\": \"Austria\", \"text\": [\"Austria:<br> 1\"], \"x\": [0.1736481785774231], \"y\": [-0.9848077297210693], \"type\": \"scatter\"}, {\"marker\": {\"size\": [199], \"sizemode\": \"area\", \"sizeref\": 0.05}, \"mode\": \"markers+text\", \"name\": \"Portugal\", \"text\": [\"Portugal:<br> 1\"], \"x\": [0.7660443782806396], \"y\": [-0.642787754535675], \"type\": \"scatter\"}], \"name\": \"2017-02-16\"}, {\"data\": [{\"marker\": {\"size\": [199], \"sizemode\": \"area\", \"sizeref\": 0.05}, \"mode\": \"markers+text\", \"name\": \"United States\", \"text\": [\"United States:<br> 1\"], \"x\": [1.0], \"y\": [6.622738357719982e-09], \"type\": \"scatter\"}, {\"marker\": {\"size\": [199], \"sizemode\": \"area\", \"sizeref\": 0.05}, \"mode\": \"markers+text\", \"name\": \"Switzerland\", \"text\": [\"Switzerland:<br> 1\"], \"x\": [0.7660444974899292], \"y\": [0.6427875757217407], \"type\": \"scatter\"}, {\"marker\": {\"size\": [199], \"sizemode\": \"area\", \"sizeref\": 0.05}, \"mode\": \"markers+text\", \"name\": \"Hungary\", \"text\": [\"Hungary:<br> 1\"], \"x\": [0.17364825308322906], \"y\": [0.9848077297210693], \"type\": \"scatter\"}, {\"marker\": {\"size\": [196], \"sizemode\": \"area\", \"sizeref\": 0.05}, \"mode\": \"markers+text\", \"name\": \"Peru\", \"text\": [\"Peru:<br> 4\"], \"x\": [-0.5], \"y\": [0.8660253882408142], \"type\": \"scatter\"}, {\"marker\": {\"size\": [199], \"sizemode\": \"area\", \"sizeref\": 0.05}, \"mode\": \"markers+text\", \"name\": \"Malaysia\", \"text\": [\"Malaysia:<br> 1\"], \"x\": [-0.9396925568580627], \"y\": [0.3420202136039734], \"type\": \"scatter\"}, {\"marker\": {\"size\": [199], \"sizemode\": \"area\", \"sizeref\": 0.05}, \"mode\": \"markers+text\", \"name\": \"Denmark\", \"text\": [\"Denmark:<br> 1\"], \"x\": [-0.9396925568580627], \"y\": [-0.3420201539993286], \"type\": \"scatter\"}, {\"marker\": {\"size\": [195], \"sizemode\": \"area\", \"sizeref\": 0.05}, \"mode\": \"markers+text\", \"name\": \"Bolivia\", \"text\": [\"Bolivia:<br> 5\"], \"x\": [-0.49999988079071045], \"y\": [-0.866025447845459], \"type\": \"scatter\"}, {\"marker\": {\"size\": [199], \"sizemode\": \"area\", \"sizeref\": 0.05}, \"mode\": \"markers+text\", \"name\": \"Austria\", \"text\": [\"Austria:<br> 1\"], \"x\": [0.1736481785774231], \"y\": [-0.9848077297210693], \"type\": \"scatter\"}, {\"marker\": {\"size\": [199], \"sizemode\": \"area\", \"sizeref\": 0.05}, \"mode\": \"markers+text\", \"name\": \"Portugal\", \"text\": [\"Portugal:<br> 1\"], \"x\": [0.7660443782806396], \"y\": [-0.642787754535675], \"type\": \"scatter\"}], \"name\": \"2017-02-17\"}, {\"data\": [{\"marker\": {\"size\": [199], \"sizemode\": \"area\", \"sizeref\": 0.05}, \"mode\": \"markers+text\", \"name\": \"United States\", \"text\": [\"United States:<br> 1\"], \"x\": [1.0], \"y\": [6.622738357719982e-09], \"type\": \"scatter\"}, {\"marker\": {\"size\": [199], \"sizemode\": \"area\", \"sizeref\": 0.05}, \"mode\": \"markers+text\", \"name\": \"Switzerland\", \"text\": [\"Switzerland:<br> 1\"], \"x\": [0.7660444974899292], \"y\": [0.6427875757217407], \"type\": \"scatter\"}, {\"marker\": {\"size\": [199], \"sizemode\": \"area\", \"sizeref\": 0.05}, \"mode\": \"markers+text\", \"name\": \"Hungary\", \"text\": [\"Hungary:<br> 1\"], \"x\": [0.17364825308322906], \"y\": [0.9848077297210693], \"type\": \"scatter\"}, {\"marker\": {\"size\": [195], \"sizemode\": \"area\", \"sizeref\": 0.05}, \"mode\": \"markers+text\", \"name\": \"Peru\", \"text\": [\"Peru:<br> 5\"], \"x\": [-0.5], \"y\": [0.8660253882408142], \"type\": \"scatter\"}, {\"marker\": {\"size\": [199], \"sizemode\": \"area\", \"sizeref\": 0.05}, \"mode\": \"markers+text\", \"name\": \"Malaysia\", \"text\": [\"Malaysia:<br> 1\"], \"x\": [-0.9396925568580627], \"y\": [0.3420202136039734], \"type\": \"scatter\"}, {\"marker\": {\"size\": [199], \"sizemode\": \"area\", \"sizeref\": 0.05}, \"mode\": \"markers+text\", \"name\": \"Denmark\", \"text\": [\"Denmark:<br> 1\"], \"x\": [-0.9396925568580627], \"y\": [-0.3420201539993286], \"type\": \"scatter\"}, {\"marker\": {\"size\": [195], \"sizemode\": \"area\", \"sizeref\": 0.05}, \"mode\": \"markers+text\", \"name\": \"Bolivia\", \"text\": [\"Bolivia:<br> 5\"], \"x\": [-0.49999988079071045], \"y\": [-0.866025447845459], \"type\": \"scatter\"}, {\"marker\": {\"size\": [199], \"sizemode\": \"area\", \"sizeref\": 0.05}, \"mode\": \"markers+text\", \"name\": \"Austria\", \"text\": [\"Austria:<br> 1\"], \"x\": [0.1736481785774231], \"y\": [-0.9848077297210693], \"type\": \"scatter\"}, {\"marker\": {\"size\": [199], \"sizemode\": \"area\", \"sizeref\": 0.05}, \"mode\": \"markers+text\", \"name\": \"Portugal\", \"text\": [\"Portugal:<br> 1\"], \"x\": [0.7660443782806396], \"y\": [-0.642787754535675], \"type\": \"scatter\"}], \"name\": \"2017-02-18\"}, {\"data\": [{\"marker\": {\"size\": [199], \"sizemode\": \"area\", \"sizeref\": 0.05}, \"mode\": \"markers+text\", \"name\": \"United States\", \"text\": [\"United States:<br> 1\"], \"x\": [1.0], \"y\": [6.622738357719982e-09], \"type\": \"scatter\"}, {\"marker\": {\"size\": [199], \"sizemode\": \"area\", \"sizeref\": 0.05}, \"mode\": \"markers+text\", \"name\": \"Switzerland\", \"text\": [\"Switzerland:<br> 1\"], \"x\": [0.7660444974899292], \"y\": [0.6427875757217407], \"type\": \"scatter\"}, {\"marker\": {\"size\": [199], \"sizemode\": \"area\", \"sizeref\": 0.05}, \"mode\": \"markers+text\", \"name\": \"Hungary\", \"text\": [\"Hungary:<br> 1\"], \"x\": [0.17364825308322906], \"y\": [0.9848077297210693], \"type\": \"scatter\"}, {\"marker\": {\"size\": [195], \"sizemode\": \"area\", \"sizeref\": 0.05}, \"mode\": \"markers+text\", \"name\": \"Peru\", \"text\": [\"Peru:<br> 5\"], \"x\": [-0.5], \"y\": [0.8660253882408142], \"type\": \"scatter\"}, {\"marker\": {\"size\": [199], \"sizemode\": \"area\", \"sizeref\": 0.05}, \"mode\": \"markers+text\", \"name\": \"Malaysia\", \"text\": [\"Malaysia:<br> 1\"], \"x\": [-0.9396925568580627], \"y\": [0.3420202136039734], \"type\": \"scatter\"}, {\"marker\": {\"size\": [199], \"sizemode\": \"area\", \"sizeref\": 0.05}, \"mode\": \"markers+text\", \"name\": \"Denmark\", \"text\": [\"Denmark:<br> 1\"], \"x\": [-0.9396925568580627], \"y\": [-0.3420201539993286], \"type\": \"scatter\"}, {\"marker\": {\"size\": [195], \"sizemode\": \"area\", \"sizeref\": 0.05}, \"mode\": \"markers+text\", \"name\": \"Bolivia\", \"text\": [\"Bolivia:<br> 5\"], \"x\": [-0.49999988079071045], \"y\": [-0.866025447845459], \"type\": \"scatter\"}, {\"marker\": {\"size\": [199], \"sizemode\": \"area\", \"sizeref\": 0.05}, \"mode\": \"markers+text\", \"name\": \"Austria\", \"text\": [\"Austria:<br> 1\"], \"x\": [0.1736481785774231], \"y\": [-0.9848077297210693], \"type\": \"scatter\"}, {\"marker\": {\"size\": [199], \"sizemode\": \"area\", \"sizeref\": 0.05}, \"mode\": \"markers+text\", \"name\": \"Portugal\", \"text\": [\"Portugal:<br> 1\"], \"x\": [0.7660443782806396], \"y\": [-0.642787754535675], \"type\": \"scatter\"}], \"name\": \"2017-02-19\"}, {\"data\": [{\"marker\": {\"size\": [199], \"sizemode\": \"area\", \"sizeref\": 0.05}, \"mode\": \"markers+text\", \"name\": \"United States\", \"text\": [\"United States:<br> 1\"], \"x\": [1.0], \"y\": [6.622738357719982e-09], \"type\": \"scatter\"}, {\"marker\": {\"size\": [199], \"sizemode\": \"area\", \"sizeref\": 0.05}, \"mode\": \"markers+text\", \"name\": \"Switzerland\", \"text\": [\"Switzerland:<br> 1\"], \"x\": [0.7660444974899292], \"y\": [0.6427875757217407], \"type\": \"scatter\"}, {\"marker\": {\"size\": [199], \"sizemode\": \"area\", \"sizeref\": 0.05}, \"mode\": \"markers+text\", \"name\": \"Hungary\", \"text\": [\"Hungary:<br> 1\"], \"x\": [0.17364825308322906], \"y\": [0.9848077297210693], \"type\": \"scatter\"}, {\"marker\": {\"size\": [196], \"sizemode\": \"area\", \"sizeref\": 0.05}, \"mode\": \"markers+text\", \"name\": \"Peru\", \"text\": [\"Peru:<br> 4\"], \"x\": [-0.5], \"y\": [0.8660253882408142], \"type\": \"scatter\"}, {\"marker\": {\"size\": [199], \"sizemode\": \"area\", \"sizeref\": 0.05}, \"mode\": \"markers+text\", \"name\": \"Malaysia\", \"text\": [\"Malaysia:<br> 1\"], \"x\": [-0.9396925568580627], \"y\": [0.3420202136039734], \"type\": \"scatter\"}, {\"marker\": {\"size\": [199], \"sizemode\": \"area\", \"sizeref\": 0.05}, \"mode\": \"markers+text\", \"name\": \"Denmark\", \"text\": [\"Denmark:<br> 1\"], \"x\": [-0.9396925568580627], \"y\": [-0.3420201539993286], \"type\": \"scatter\"}, {\"marker\": {\"size\": [198], \"sizemode\": \"area\", \"sizeref\": 0.05}, \"mode\": \"markers+text\", \"name\": \"Bolivia\", \"text\": [\"Bolivia:<br> 2\"], \"x\": [-0.49999988079071045], \"y\": [-0.866025447845459], \"type\": \"scatter\"}, {\"marker\": {\"size\": [199], \"sizemode\": \"area\", \"sizeref\": 0.05}, \"mode\": \"markers+text\", \"name\": \"Austria\", \"text\": [\"Austria:<br> 1\"], \"x\": [0.1736481785774231], \"y\": [-0.9848077297210693], \"type\": \"scatter\"}, {\"marker\": {\"size\": [199], \"sizemode\": \"area\", \"sizeref\": 0.05}, \"mode\": \"markers+text\", \"name\": \"Portugal\", \"text\": [\"Portugal:<br> 1\"], \"x\": [0.7660443782806396], \"y\": [-0.642787754535675], \"type\": \"scatter\"}], \"name\": \"2017-02-20\"}, {\"data\": [{\"marker\": {\"size\": [199], \"sizemode\": \"area\", \"sizeref\": 0.05}, \"mode\": \"markers+text\", \"name\": \"United States\", \"text\": [\"United States:<br> 1\"], \"x\": [1.0], \"y\": [6.622738357719982e-09], \"type\": \"scatter\"}, {\"marker\": {\"size\": [199], \"sizemode\": \"area\", \"sizeref\": 0.05}, \"mode\": \"markers+text\", \"name\": \"Switzerland\", \"text\": [\"Switzerland:<br> 1\"], \"x\": [0.7660444974899292], \"y\": [0.6427875757217407], \"type\": \"scatter\"}, {\"marker\": {\"size\": [199], \"sizemode\": \"area\", \"sizeref\": 0.05}, \"mode\": \"markers+text\", \"name\": \"Hungary\", \"text\": [\"Hungary:<br> 1\"], \"x\": [0.17364825308322906], \"y\": [0.9848077297210693], \"type\": \"scatter\"}, {\"marker\": {\"size\": [196], \"sizemode\": \"area\", \"sizeref\": 0.05}, \"mode\": \"markers+text\", \"name\": \"Peru\", \"text\": [\"Peru:<br> 4\"], \"x\": [-0.5], \"y\": [0.8660253882408142], \"type\": \"scatter\"}, {\"marker\": {\"size\": [199], \"sizemode\": \"area\", \"sizeref\": 0.05}, \"mode\": \"markers+text\", \"name\": \"Malaysia\", \"text\": [\"Malaysia:<br> 1\"], \"x\": [-0.9396925568580627], \"y\": [0.3420202136039734], \"type\": \"scatter\"}, {\"marker\": {\"size\": [199], \"sizemode\": \"area\", \"sizeref\": 0.05}, \"mode\": \"markers+text\", \"name\": \"Denmark\", \"text\": [\"Denmark:<br> 1\"], \"x\": [-0.9396925568580627], \"y\": [-0.3420201539993286], \"type\": \"scatter\"}, {\"marker\": {\"size\": [197], \"sizemode\": \"area\", \"sizeref\": 0.05}, \"mode\": \"markers+text\", \"name\": \"Bolivia\", \"text\": [\"Bolivia:<br> 3\"], \"x\": [-0.49999988079071045], \"y\": [-0.866025447845459], \"type\": \"scatter\"}, {\"marker\": {\"size\": [199], \"sizemode\": \"area\", \"sizeref\": 0.05}, \"mode\": \"markers+text\", \"name\": \"Austria\", \"text\": [\"Austria:<br> 1\"], \"x\": [0.1736481785774231], \"y\": [-0.9848077297210693], \"type\": \"scatter\"}, {\"marker\": {\"size\": [199], \"sizemode\": \"area\", \"sizeref\": 0.05}, \"mode\": \"markers+text\", \"name\": \"Portugal\", \"text\": [\"Portugal:<br> 1\"], \"x\": [0.7660443782806396], \"y\": [-0.642787754535675], \"type\": \"scatter\"}], \"name\": \"2017-02-21\"}, {\"data\": [{\"marker\": {\"size\": [199], \"sizemode\": \"area\", \"sizeref\": 0.05}, \"mode\": \"markers+text\", \"name\": \"United States\", \"text\": [\"United States:<br> 1\"], \"x\": [1.0], \"y\": [6.622738357719982e-09], \"type\": \"scatter\"}, {\"marker\": {\"size\": [199], \"sizemode\": \"area\", \"sizeref\": 0.05}, \"mode\": \"markers+text\", \"name\": \"Switzerland\", \"text\": [\"Switzerland:<br> 1\"], \"x\": [0.7660444974899292], \"y\": [0.6427875757217407], \"type\": \"scatter\"}, {\"marker\": {\"size\": [199], \"sizemode\": \"area\", \"sizeref\": 0.05}, \"mode\": \"markers+text\", \"name\": \"Hungary\", \"text\": [\"Hungary:<br> 1\"], \"x\": [0.17364825308322906], \"y\": [0.9848077297210693], \"type\": \"scatter\"}, {\"marker\": {\"size\": [196], \"sizemode\": \"area\", \"sizeref\": 0.05}, \"mode\": \"markers+text\", \"name\": \"Peru\", \"text\": [\"Peru:<br> 4\"], \"x\": [-0.5], \"y\": [0.8660253882408142], \"type\": \"scatter\"}, {\"marker\": {\"size\": [199], \"sizemode\": \"area\", \"sizeref\": 0.05}, \"mode\": \"markers+text\", \"name\": \"Malaysia\", \"text\": [\"Malaysia:<br> 1\"], \"x\": [-0.9396925568580627], \"y\": [0.3420202136039734], \"type\": \"scatter\"}, {\"marker\": {\"size\": [199], \"sizemode\": \"area\", \"sizeref\": 0.05}, \"mode\": \"markers+text\", \"name\": \"Denmark\", \"text\": [\"Denmark:<br> 1\"], \"x\": [-0.9396925568580627], \"y\": [-0.3420201539993286], \"type\": \"scatter\"}, {\"marker\": {\"size\": [198], \"sizemode\": \"area\", \"sizeref\": 0.05}, \"mode\": \"markers+text\", \"name\": \"Bolivia\", \"text\": [\"Bolivia:<br> 2\"], \"x\": [-0.49999988079071045], \"y\": [-0.866025447845459], \"type\": \"scatter\"}, {\"marker\": {\"size\": [199], \"sizemode\": \"area\", \"sizeref\": 0.05}, \"mode\": \"markers+text\", \"name\": \"Austria\", \"text\": [\"Austria:<br> 1\"], \"x\": [0.1736481785774231], \"y\": [-0.9848077297210693], \"type\": \"scatter\"}, {\"marker\": {\"size\": [199], \"sizemode\": \"area\", \"sizeref\": 0.05}, \"mode\": \"markers+text\", \"name\": \"Portugal\", \"text\": [\"Portugal:<br> 1\"], \"x\": [0.7660443782806396], \"y\": [-0.642787754535675], \"type\": \"scatter\"}], \"name\": \"2017-02-22\"}, {\"data\": [{\"marker\": {\"size\": [199], \"sizemode\": \"area\", \"sizeref\": 0.05}, \"mode\": \"markers+text\", \"name\": \"United States\", \"text\": [\"United States:<br> 1\"], \"x\": [1.0], \"y\": [6.622738357719982e-09], \"type\": \"scatter\"}, {\"marker\": {\"size\": [199], \"sizemode\": \"area\", \"sizeref\": 0.05}, \"mode\": \"markers+text\", \"name\": \"Switzerland\", \"text\": [\"Switzerland:<br> 1\"], \"x\": [0.7660444974899292], \"y\": [0.6427875757217407], \"type\": \"scatter\"}, {\"marker\": {\"size\": [199], \"sizemode\": \"area\", \"sizeref\": 0.05}, \"mode\": \"markers+text\", \"name\": \"Hungary\", \"text\": [\"Hungary:<br> 1\"], \"x\": [0.17364825308322906], \"y\": [0.9848077297210693], \"type\": \"scatter\"}, {\"marker\": {\"size\": [196], \"sizemode\": \"area\", \"sizeref\": 0.05}, \"mode\": \"markers+text\", \"name\": \"Peru\", \"text\": [\"Peru:<br> 4\"], \"x\": [-0.5], \"y\": [0.8660253882408142], \"type\": \"scatter\"}, {\"marker\": {\"size\": [199], \"sizemode\": \"area\", \"sizeref\": 0.05}, \"mode\": \"markers+text\", \"name\": \"Malaysia\", \"text\": [\"Malaysia:<br> 1\"], \"x\": [-0.9396925568580627], \"y\": [0.3420202136039734], \"type\": \"scatter\"}, {\"marker\": {\"size\": [199], \"sizemode\": \"area\", \"sizeref\": 0.05}, \"mode\": \"markers+text\", \"name\": \"Denmark\", \"text\": [\"Denmark:<br> 1\"], \"x\": [-0.9396925568580627], \"y\": [-0.3420201539993286], \"type\": \"scatter\"}, {\"marker\": {\"size\": [196], \"sizemode\": \"area\", \"sizeref\": 0.05}, \"mode\": \"markers+text\", \"name\": \"Bolivia\", \"text\": [\"Bolivia:<br> 4\"], \"x\": [-0.49999988079071045], \"y\": [-0.866025447845459], \"type\": \"scatter\"}, {\"marker\": {\"size\": [199], \"sizemode\": \"area\", \"sizeref\": 0.05}, \"mode\": \"markers+text\", \"name\": \"Austria\", \"text\": [\"Austria:<br> 1\"], \"x\": [0.1736481785774231], \"y\": [-0.9848077297210693], \"type\": \"scatter\"}, {\"marker\": {\"size\": [199], \"sizemode\": \"area\", \"sizeref\": 0.05}, \"mode\": \"markers+text\", \"name\": \"Portugal\", \"text\": [\"Portugal:<br> 1\"], \"x\": [0.7660443782806396], \"y\": [-0.642787754535675], \"type\": \"scatter\"}], \"name\": \"2017-02-23\"}, {\"data\": [{\"marker\": {\"size\": [199], \"sizemode\": \"area\", \"sizeref\": 0.05}, \"mode\": \"markers+text\", \"name\": \"United States\", \"text\": [\"United States:<br> 1\"], \"x\": [1.0], \"y\": [6.622738357719982e-09], \"type\": \"scatter\"}, {\"marker\": {\"size\": [199], \"sizemode\": \"area\", \"sizeref\": 0.05}, \"mode\": \"markers+text\", \"name\": \"Switzerland\", \"text\": [\"Switzerland:<br> 1\"], \"x\": [0.7660444974899292], \"y\": [0.6427875757217407], \"type\": \"scatter\"}, {\"marker\": {\"size\": [199], \"sizemode\": \"area\", \"sizeref\": 0.05}, \"mode\": \"markers+text\", \"name\": \"Hungary\", \"text\": [\"Hungary:<br> 1\"], \"x\": [0.17364825308322906], \"y\": [0.9848077297210693], \"type\": \"scatter\"}, {\"marker\": {\"size\": [196], \"sizemode\": \"area\", \"sizeref\": 0.05}, \"mode\": \"markers+text\", \"name\": \"Peru\", \"text\": [\"Peru:<br> 4\"], \"x\": [-0.5], \"y\": [0.8660253882408142], \"type\": \"scatter\"}, {\"marker\": {\"size\": [198], \"sizemode\": \"area\", \"sizeref\": 0.05}, \"mode\": \"markers+text\", \"name\": \"Malaysia\", \"text\": [\"Malaysia:<br> 2\"], \"x\": [-0.9396925568580627], \"y\": [0.3420202136039734], \"type\": \"scatter\"}, {\"marker\": {\"size\": [199], \"sizemode\": \"area\", \"sizeref\": 0.05}, \"mode\": \"markers+text\", \"name\": \"Denmark\", \"text\": [\"Denmark:<br> 1\"], \"x\": [-0.9396925568580627], \"y\": [-0.3420201539993286], \"type\": \"scatter\"}, {\"marker\": {\"size\": [195], \"sizemode\": \"area\", \"sizeref\": 0.05}, \"mode\": \"markers+text\", \"name\": \"Bolivia\", \"text\": [\"Bolivia:<br> 5\"], \"x\": [-0.49999988079071045], \"y\": [-0.866025447845459], \"type\": \"scatter\"}, {\"marker\": {\"size\": [199], \"sizemode\": \"area\", \"sizeref\": 0.05}, \"mode\": \"markers+text\", \"name\": \"Austria\", \"text\": [\"Austria:<br> 1\"], \"x\": [0.1736481785774231], \"y\": [-0.9848077297210693], \"type\": \"scatter\"}, {\"marker\": {\"size\": [199], \"sizemode\": \"area\", \"sizeref\": 0.05}, \"mode\": \"markers+text\", \"name\": \"Portugal\", \"text\": [\"Portugal:<br> 1\"], \"x\": [0.7660443782806396], \"y\": [-0.642787754535675], \"type\": \"scatter\"}], \"name\": \"2017-02-24\"}, {\"data\": [{\"marker\": {\"size\": [199], \"sizemode\": \"area\", \"sizeref\": 0.05}, \"mode\": \"markers+text\", \"name\": \"United States\", \"text\": [\"United States:<br> 1\"], \"x\": [1.0], \"y\": [6.622738357719982e-09], \"type\": \"scatter\"}, {\"marker\": {\"size\": [199], \"sizemode\": \"area\", \"sizeref\": 0.05}, \"mode\": \"markers+text\", \"name\": \"Switzerland\", \"text\": [\"Switzerland:<br> 1\"], \"x\": [0.7660444974899292], \"y\": [0.6427875757217407], \"type\": \"scatter\"}, {\"marker\": {\"size\": [199], \"sizemode\": \"area\", \"sizeref\": 0.05}, \"mode\": \"markers+text\", \"name\": \"Hungary\", \"text\": [\"Hungary:<br> 1\"], \"x\": [0.17364825308322906], \"y\": [0.9848077297210693], \"type\": \"scatter\"}, {\"marker\": {\"size\": [196], \"sizemode\": \"area\", \"sizeref\": 0.05}, \"mode\": \"markers+text\", \"name\": \"Peru\", \"text\": [\"Peru:<br> 4\"], \"x\": [-0.5], \"y\": [0.8660253882408142], \"type\": \"scatter\"}, {\"marker\": {\"size\": [199], \"sizemode\": \"area\", \"sizeref\": 0.05}, \"mode\": \"markers+text\", \"name\": \"Malaysia\", \"text\": [\"Malaysia:<br> 1\"], \"x\": [-0.9396925568580627], \"y\": [0.3420202136039734], \"type\": \"scatter\"}, {\"marker\": {\"size\": [199], \"sizemode\": \"area\", \"sizeref\": 0.05}, \"mode\": \"markers+text\", \"name\": \"Denmark\", \"text\": [\"Denmark:<br> 1\"], \"x\": [-0.9396925568580627], \"y\": [-0.3420201539993286], \"type\": \"scatter\"}, {\"marker\": {\"size\": [195], \"sizemode\": \"area\", \"sizeref\": 0.05}, \"mode\": \"markers+text\", \"name\": \"Bolivia\", \"text\": [\"Bolivia:<br> 5\"], \"x\": [-0.49999988079071045], \"y\": [-0.866025447845459], \"type\": \"scatter\"}, {\"marker\": {\"size\": [199], \"sizemode\": \"area\", \"sizeref\": 0.05}, \"mode\": \"markers+text\", \"name\": \"Austria\", \"text\": [\"Austria:<br> 1\"], \"x\": [0.1736481785774231], \"y\": [-0.9848077297210693], \"type\": \"scatter\"}, {\"marker\": {\"size\": [199], \"sizemode\": \"area\", \"sizeref\": 0.05}, \"mode\": \"markers+text\", \"name\": \"Portugal\", \"text\": [\"Portugal:<br> 1\"], \"x\": [0.7660443782806396], \"y\": [-0.642787754535675], \"type\": \"scatter\"}], \"name\": \"2017-02-25\"}, {\"data\": [{\"marker\": {\"size\": [199], \"sizemode\": \"area\", \"sizeref\": 0.05}, \"mode\": \"markers+text\", \"name\": \"United States\", \"text\": [\"United States:<br> 1\"], \"x\": [1.0], \"y\": [6.622738357719982e-09], \"type\": \"scatter\"}, {\"marker\": {\"size\": [199], \"sizemode\": \"area\", \"sizeref\": 0.05}, \"mode\": \"markers+text\", \"name\": \"Switzerland\", \"text\": [\"Switzerland:<br> 1\"], \"x\": [0.7660444974899292], \"y\": [0.6427875757217407], \"type\": \"scatter\"}, {\"marker\": {\"size\": [199], \"sizemode\": \"area\", \"sizeref\": 0.05}, \"mode\": \"markers+text\", \"name\": \"Hungary\", \"text\": [\"Hungary:<br> 1\"], \"x\": [0.17364825308322906], \"y\": [0.9848077297210693], \"type\": \"scatter\"}, {\"marker\": {\"size\": [196], \"sizemode\": \"area\", \"sizeref\": 0.05}, \"mode\": \"markers+text\", \"name\": \"Peru\", \"text\": [\"Peru:<br> 4\"], \"x\": [-0.5], \"y\": [0.8660253882408142], \"type\": \"scatter\"}, {\"marker\": {\"size\": [198], \"sizemode\": \"area\", \"sizeref\": 0.05}, \"mode\": \"markers+text\", \"name\": \"Malaysia\", \"text\": [\"Malaysia:<br> 2\"], \"x\": [-0.9396925568580627], \"y\": [0.3420202136039734], \"type\": \"scatter\"}, {\"marker\": {\"size\": [199], \"sizemode\": \"area\", \"sizeref\": 0.05}, \"mode\": \"markers+text\", \"name\": \"Denmark\", \"text\": [\"Denmark:<br> 1\"], \"x\": [-0.9396925568580627], \"y\": [-0.3420201539993286], \"type\": \"scatter\"}, {\"marker\": {\"size\": [195], \"sizemode\": \"area\", \"sizeref\": 0.05}, \"mode\": \"markers+text\", \"name\": \"Bolivia\", \"text\": [\"Bolivia:<br> 5\"], \"x\": [-0.49999988079071045], \"y\": [-0.866025447845459], \"type\": \"scatter\"}, {\"marker\": {\"size\": [199], \"sizemode\": \"area\", \"sizeref\": 0.05}, \"mode\": \"markers+text\", \"name\": \"Austria\", \"text\": [\"Austria:<br> 1\"], \"x\": [0.1736481785774231], \"y\": [-0.9848077297210693], \"type\": \"scatter\"}, {\"marker\": {\"size\": [199], \"sizemode\": \"area\", \"sizeref\": 0.05}, \"mode\": \"markers+text\", \"name\": \"Portugal\", \"text\": [\"Portugal:<br> 1\"], \"x\": [0.7660443782806396], \"y\": [-0.642787754535675], \"type\": \"scatter\"}], \"name\": \"2017-02-26\"}, {\"data\": [{\"marker\": {\"size\": [199], \"sizemode\": \"area\", \"sizeref\": 0.05}, \"mode\": \"markers+text\", \"name\": \"United States\", \"text\": [\"United States:<br> 1\"], \"x\": [1.0], \"y\": [6.622738357719982e-09], \"type\": \"scatter\"}, {\"marker\": {\"size\": [199], \"sizemode\": \"area\", \"sizeref\": 0.05}, \"mode\": \"markers+text\", \"name\": \"Switzerland\", \"text\": [\"Switzerland:<br> 1\"], \"x\": [0.7660444974899292], \"y\": [0.6427875757217407], \"type\": \"scatter\"}, {\"marker\": {\"size\": [199], \"sizemode\": \"area\", \"sizeref\": 0.05}, \"mode\": \"markers+text\", \"name\": \"Hungary\", \"text\": [\"Hungary:<br> 1\"], \"x\": [0.17364825308322906], \"y\": [0.9848077297210693], \"type\": \"scatter\"}, {\"marker\": {\"size\": [196], \"sizemode\": \"area\", \"sizeref\": 0.05}, \"mode\": \"markers+text\", \"name\": \"Peru\", \"text\": [\"Peru:<br> 4\"], \"x\": [-0.5], \"y\": [0.8660253882408142], \"type\": \"scatter\"}, {\"marker\": {\"size\": [198], \"sizemode\": \"area\", \"sizeref\": 0.05}, \"mode\": \"markers+text\", \"name\": \"Malaysia\", \"text\": [\"Malaysia:<br> 2\"], \"x\": [-0.9396925568580627], \"y\": [0.3420202136039734], \"type\": \"scatter\"}, {\"marker\": {\"size\": [199], \"sizemode\": \"area\", \"sizeref\": 0.05}, \"mode\": \"markers+text\", \"name\": \"Denmark\", \"text\": [\"Denmark:<br> 1\"], \"x\": [-0.9396925568580627], \"y\": [-0.3420201539993286], \"type\": \"scatter\"}, {\"marker\": {\"size\": [195], \"sizemode\": \"area\", \"sizeref\": 0.05}, \"mode\": \"markers+text\", \"name\": \"Bolivia\", \"text\": [\"Bolivia:<br> 5\"], \"x\": [-0.49999988079071045], \"y\": [-0.866025447845459], \"type\": \"scatter\"}, {\"marker\": {\"size\": [199], \"sizemode\": \"area\", \"sizeref\": 0.05}, \"mode\": \"markers+text\", \"name\": \"Austria\", \"text\": [\"Austria:<br> 1\"], \"x\": [0.1736481785774231], \"y\": [-0.9848077297210693], \"type\": \"scatter\"}, {\"marker\": {\"size\": [199], \"sizemode\": \"area\", \"sizeref\": 0.05}, \"mode\": \"markers+text\", \"name\": \"Portugal\", \"text\": [\"Portugal:<br> 1\"], \"x\": [0.7660443782806396], \"y\": [-0.642787754535675], \"type\": \"scatter\"}], \"name\": \"2017-02-27\"}, {\"data\": [{\"marker\": {\"size\": [199], \"sizemode\": \"area\", \"sizeref\": 0.05}, \"mode\": \"markers+text\", \"name\": \"United States\", \"text\": [\"United States:<br> 1\"], \"x\": [1.0], \"y\": [6.622738357719982e-09], \"type\": \"scatter\"}, {\"marker\": {\"size\": [199], \"sizemode\": \"area\", \"sizeref\": 0.05}, \"mode\": \"markers+text\", \"name\": \"Switzerland\", \"text\": [\"Switzerland:<br> 1\"], \"x\": [0.7660444974899292], \"y\": [0.6427875757217407], \"type\": \"scatter\"}, {\"marker\": {\"size\": [199], \"sizemode\": \"area\", \"sizeref\": 0.05}, \"mode\": \"markers+text\", \"name\": \"Hungary\", \"text\": [\"Hungary:<br> 1\"], \"x\": [0.17364825308322906], \"y\": [0.9848077297210693], \"type\": \"scatter\"}, {\"marker\": {\"size\": [197], \"sizemode\": \"area\", \"sizeref\": 0.05}, \"mode\": \"markers+text\", \"name\": \"Peru\", \"text\": [\"Peru:<br> 3\"], \"x\": [-0.5], \"y\": [0.8660253882408142], \"type\": \"scatter\"}, {\"marker\": {\"size\": [198], \"sizemode\": \"area\", \"sizeref\": 0.05}, \"mode\": \"markers+text\", \"name\": \"Malaysia\", \"text\": [\"Malaysia:<br> 2\"], \"x\": [-0.9396925568580627], \"y\": [0.3420202136039734], \"type\": \"scatter\"}, {\"marker\": {\"size\": [198], \"sizemode\": \"area\", \"sizeref\": 0.05}, \"mode\": \"markers+text\", \"name\": \"Denmark\", \"text\": [\"Denmark:<br> 2\"], \"x\": [-0.9396925568580627], \"y\": [-0.3420201539993286], \"type\": \"scatter\"}, {\"marker\": {\"size\": [196], \"sizemode\": \"area\", \"sizeref\": 0.05}, \"mode\": \"markers+text\", \"name\": \"Bolivia\", \"text\": [\"Bolivia:<br> 4\"], \"x\": [-0.49999988079071045], \"y\": [-0.866025447845459], \"type\": \"scatter\"}, {\"marker\": {\"size\": [199], \"sizemode\": \"area\", \"sizeref\": 0.05}, \"mode\": \"markers+text\", \"name\": \"Austria\", \"text\": [\"Austria:<br> 1\"], \"x\": [0.1736481785774231], \"y\": [-0.9848077297210693], \"type\": \"scatter\"}, {\"marker\": {\"size\": [199], \"sizemode\": \"area\", \"sizeref\": 0.05}, \"mode\": \"markers+text\", \"name\": \"Portugal\", \"text\": [\"Portugal:<br> 1\"], \"x\": [0.7660443782806396], \"y\": [-0.642787754535675], \"type\": \"scatter\"}], \"name\": \"2017-02-28\"}, {\"data\": [{\"marker\": {\"size\": [199], \"sizemode\": \"area\", \"sizeref\": 0.05}, \"mode\": \"markers+text\", \"name\": \"United States\", \"text\": [\"United States:<br> 1\"], \"x\": [1.0], \"y\": [6.622738357719982e-09], \"type\": \"scatter\"}, {\"marker\": {\"size\": [199], \"sizemode\": \"area\", \"sizeref\": 0.05}, \"mode\": \"markers+text\", \"name\": \"Switzerland\", \"text\": [\"Switzerland:<br> 1\"], \"x\": [0.7660444974899292], \"y\": [0.6427875757217407], \"type\": \"scatter\"}, {\"marker\": {\"size\": [199], \"sizemode\": \"area\", \"sizeref\": 0.05}, \"mode\": \"markers+text\", \"name\": \"Hungary\", \"text\": [\"Hungary:<br> 1\"], \"x\": [0.17364825308322906], \"y\": [0.9848077297210693], \"type\": \"scatter\"}, {\"marker\": {\"size\": [197], \"sizemode\": \"area\", \"sizeref\": 0.05}, \"mode\": \"markers+text\", \"name\": \"Peru\", \"text\": [\"Peru:<br> 3\"], \"x\": [-0.5], \"y\": [0.8660253882408142], \"type\": \"scatter\"}, {\"marker\": {\"size\": [199], \"sizemode\": \"area\", \"sizeref\": 0.05}, \"mode\": \"markers+text\", \"name\": \"Malaysia\", \"text\": [\"Malaysia:<br> 1\"], \"x\": [-0.9396925568580627], \"y\": [0.3420202136039734], \"type\": \"scatter\"}, {\"marker\": {\"size\": [198], \"sizemode\": \"area\", \"sizeref\": 0.05}, \"mode\": \"markers+text\", \"name\": \"Denmark\", \"text\": [\"Denmark:<br> 2\"], \"x\": [-0.9396925568580627], \"y\": [-0.3420201539993286], \"type\": \"scatter\"}, {\"marker\": {\"size\": [197], \"sizemode\": \"area\", \"sizeref\": 0.05}, \"mode\": \"markers+text\", \"name\": \"Bolivia\", \"text\": [\"Bolivia:<br> 3\"], \"x\": [-0.49999988079071045], \"y\": [-0.866025447845459], \"type\": \"scatter\"}, {\"marker\": {\"size\": [199], \"sizemode\": \"area\", \"sizeref\": 0.05}, \"mode\": \"markers+text\", \"name\": \"Austria\", \"text\": [\"Austria:<br> 1\"], \"x\": [0.1736481785774231], \"y\": [-0.9848077297210693], \"type\": \"scatter\"}, {\"marker\": {\"size\": [199], \"sizemode\": \"area\", \"sizeref\": 0.05}, \"mode\": \"markers+text\", \"name\": \"Portugal\", \"text\": [\"Portugal:<br> 1\"], \"x\": [0.7660443782806396], \"y\": [-0.642787754535675], \"type\": \"scatter\"}], \"name\": \"2017-03-01\"}, {\"data\": [{\"marker\": {\"size\": [199], \"sizemode\": \"area\", \"sizeref\": 0.05}, \"mode\": \"markers+text\", \"name\": \"United States\", \"text\": [\"United States:<br> 1\"], \"x\": [1.0], \"y\": [6.622738357719982e-09], \"type\": \"scatter\"}, {\"marker\": {\"size\": [199], \"sizemode\": \"area\", \"sizeref\": 0.05}, \"mode\": \"markers+text\", \"name\": \"Switzerland\", \"text\": [\"Switzerland:<br> 1\"], \"x\": [0.7660444974899292], \"y\": [0.6427875757217407], \"type\": \"scatter\"}, {\"marker\": {\"size\": [199], \"sizemode\": \"area\", \"sizeref\": 0.05}, \"mode\": \"markers+text\", \"name\": \"Hungary\", \"text\": [\"Hungary:<br> 1\"], \"x\": [0.17364825308322906], \"y\": [0.9848077297210693], \"type\": \"scatter\"}, {\"marker\": {\"size\": [197], \"sizemode\": \"area\", \"sizeref\": 0.05}, \"mode\": \"markers+text\", \"name\": \"Peru\", \"text\": [\"Peru:<br> 3\"], \"x\": [-0.5], \"y\": [0.8660253882408142], \"type\": \"scatter\"}, {\"marker\": {\"size\": [199], \"sizemode\": \"area\", \"sizeref\": 0.05}, \"mode\": \"markers+text\", \"name\": \"Malaysia\", \"text\": [\"Malaysia:<br> 1\"], \"x\": [-0.9396925568580627], \"y\": [0.3420202136039734], \"type\": \"scatter\"}, {\"marker\": {\"size\": [199], \"sizemode\": \"area\", \"sizeref\": 0.05}, \"mode\": \"markers+text\", \"name\": \"Denmark\", \"text\": [\"Denmark:<br> 1\"], \"x\": [-0.9396925568580627], \"y\": [-0.3420201539993286], \"type\": \"scatter\"}, {\"marker\": {\"size\": [197], \"sizemode\": \"area\", \"sizeref\": 0.05}, \"mode\": \"markers+text\", \"name\": \"Bolivia\", \"text\": [\"Bolivia:<br> 3\"], \"x\": [-0.49999988079071045], \"y\": [-0.866025447845459], \"type\": \"scatter\"}, {\"marker\": {\"size\": [199], \"sizemode\": \"area\", \"sizeref\": 0.05}, \"mode\": \"markers+text\", \"name\": \"Austria\", \"text\": [\"Austria:<br> 1\"], \"x\": [0.1736481785774231], \"y\": [-0.9848077297210693], \"type\": \"scatter\"}, {\"marker\": {\"size\": [199], \"sizemode\": \"area\", \"sizeref\": 0.05}, \"mode\": \"markers+text\", \"name\": \"Portugal\", \"text\": [\"Portugal:<br> 1\"], \"x\": [0.7660443782806396], \"y\": [-0.642787754535675], \"type\": \"scatter\"}], \"name\": \"2017-03-02\"}, {\"data\": [{\"marker\": {\"size\": [199], \"sizemode\": \"area\", \"sizeref\": 0.05}, \"mode\": \"markers+text\", \"name\": \"United States\", \"text\": [\"United States:<br> 1\"], \"x\": [1.0], \"y\": [6.622738357719982e-09], \"type\": \"scatter\"}, {\"marker\": {\"size\": [199], \"sizemode\": \"area\", \"sizeref\": 0.05}, \"mode\": \"markers+text\", \"name\": \"Switzerland\", \"text\": [\"Switzerland:<br> 1\"], \"x\": [0.7660444974899292], \"y\": [0.6427875757217407], \"type\": \"scatter\"}, {\"marker\": {\"size\": [199], \"sizemode\": \"area\", \"sizeref\": 0.05}, \"mode\": \"markers+text\", \"name\": \"Hungary\", \"text\": [\"Hungary:<br> 1\"], \"x\": [0.17364825308322906], \"y\": [0.9848077297210693], \"type\": \"scatter\"}, {\"marker\": {\"size\": [197], \"sizemode\": \"area\", \"sizeref\": 0.05}, \"mode\": \"markers+text\", \"name\": \"Peru\", \"text\": [\"Peru:<br> 3\"], \"x\": [-0.5], \"y\": [0.8660253882408142], \"type\": \"scatter\"}, {\"marker\": {\"size\": [199], \"sizemode\": \"area\", \"sizeref\": 0.05}, \"mode\": \"markers+text\", \"name\": \"Malaysia\", \"text\": [\"Malaysia:<br> 1\"], \"x\": [-0.9396925568580627], \"y\": [0.3420202136039734], \"type\": \"scatter\"}, {\"marker\": {\"size\": [199], \"sizemode\": \"area\", \"sizeref\": 0.05}, \"mode\": \"markers+text\", \"name\": \"Denmark\", \"text\": [\"Denmark:<br> 1\"], \"x\": [-0.9396925568580627], \"y\": [-0.3420201539993286], \"type\": \"scatter\"}, {\"marker\": {\"size\": [198], \"sizemode\": \"area\", \"sizeref\": 0.05}, \"mode\": \"markers+text\", \"name\": \"Bolivia\", \"text\": [\"Bolivia:<br> 2\"], \"x\": [-0.49999988079071045], \"y\": [-0.866025447845459], \"type\": \"scatter\"}, {\"marker\": {\"size\": [199], \"sizemode\": \"area\", \"sizeref\": 0.05}, \"mode\": \"markers+text\", \"name\": \"Austria\", \"text\": [\"Austria:<br> 1\"], \"x\": [0.1736481785774231], \"y\": [-0.9848077297210693], \"type\": \"scatter\"}, {\"marker\": {\"size\": [199], \"sizemode\": \"area\", \"sizeref\": 0.05}, \"mode\": \"markers+text\", \"name\": \"Portugal\", \"text\": [\"Portugal:<br> 1\"], \"x\": [0.7660443782806396], \"y\": [-0.642787754535675], \"type\": \"scatter\"}], \"name\": \"2017-03-03\"}, {\"data\": [{\"marker\": {\"size\": [199], \"sizemode\": \"area\", \"sizeref\": 0.05}, \"mode\": \"markers+text\", \"name\": \"United States\", \"text\": [\"United States:<br> 1\"], \"x\": [1.0], \"y\": [6.622738357719982e-09], \"type\": \"scatter\"}, {\"marker\": {\"size\": [199], \"sizemode\": \"area\", \"sizeref\": 0.05}, \"mode\": \"markers+text\", \"name\": \"Switzerland\", \"text\": [\"Switzerland:<br> 1\"], \"x\": [0.7660444974899292], \"y\": [0.6427875757217407], \"type\": \"scatter\"}, {\"marker\": {\"size\": [199], \"sizemode\": \"area\", \"sizeref\": 0.05}, \"mode\": \"markers+text\", \"name\": \"Hungary\", \"text\": [\"Hungary:<br> 1\"], \"x\": [0.17364825308322906], \"y\": [0.9848077297210693], \"type\": \"scatter\"}, {\"marker\": {\"size\": [197], \"sizemode\": \"area\", \"sizeref\": 0.05}, \"mode\": \"markers+text\", \"name\": \"Peru\", \"text\": [\"Peru:<br> 3\"], \"x\": [-0.5], \"y\": [0.8660253882408142], \"type\": \"scatter\"}, {\"marker\": {\"size\": [199], \"sizemode\": \"area\", \"sizeref\": 0.05}, \"mode\": \"markers+text\", \"name\": \"Malaysia\", \"text\": [\"Malaysia:<br> 1\"], \"x\": [-0.9396925568580627], \"y\": [0.3420202136039734], \"type\": \"scatter\"}, {\"marker\": {\"size\": [199], \"sizemode\": \"area\", \"sizeref\": 0.05}, \"mode\": \"markers+text\", \"name\": \"Denmark\", \"text\": [\"Denmark:<br> 1\"], \"x\": [-0.9396925568580627], \"y\": [-0.3420201539993286], \"type\": \"scatter\"}, {\"marker\": {\"size\": [197], \"sizemode\": \"area\", \"sizeref\": 0.05}, \"mode\": \"markers+text\", \"name\": \"Bolivia\", \"text\": [\"Bolivia:<br> 3\"], \"x\": [-0.49999988079071045], \"y\": [-0.866025447845459], \"type\": \"scatter\"}, {\"marker\": {\"size\": [199], \"sizemode\": \"area\", \"sizeref\": 0.05}, \"mode\": \"markers+text\", \"name\": \"Austria\", \"text\": [\"Austria:<br> 1\"], \"x\": [0.1736481785774231], \"y\": [-0.9848077297210693], \"type\": \"scatter\"}, {\"marker\": {\"size\": [199], \"sizemode\": \"area\", \"sizeref\": 0.05}, \"mode\": \"markers+text\", \"name\": \"Portugal\", \"text\": [\"Portugal:<br> 1\"], \"x\": [0.7660443782806396], \"y\": [-0.642787754535675], \"type\": \"scatter\"}], \"name\": \"2017-03-04\"}, {\"data\": [{\"marker\": {\"size\": [199], \"sizemode\": \"area\", \"sizeref\": 0.05}, \"mode\": \"markers+text\", \"name\": \"United States\", \"text\": [\"United States:<br> 1\"], \"x\": [1.0], \"y\": [6.622738357719982e-09], \"type\": \"scatter\"}, {\"marker\": {\"size\": [199], \"sizemode\": \"area\", \"sizeref\": 0.05}, \"mode\": \"markers+text\", \"name\": \"Switzerland\", \"text\": [\"Switzerland:<br> 1\"], \"x\": [0.7660444974899292], \"y\": [0.6427875757217407], \"type\": \"scatter\"}, {\"marker\": {\"size\": [199], \"sizemode\": \"area\", \"sizeref\": 0.05}, \"mode\": \"markers+text\", \"name\": \"Hungary\", \"text\": [\"Hungary:<br> 1\"], \"x\": [0.17364825308322906], \"y\": [0.9848077297210693], \"type\": \"scatter\"}, {\"marker\": {\"size\": [197], \"sizemode\": \"area\", \"sizeref\": 0.05}, \"mode\": \"markers+text\", \"name\": \"Peru\", \"text\": [\"Peru:<br> 3\"], \"x\": [-0.5], \"y\": [0.8660253882408142], \"type\": \"scatter\"}, {\"marker\": {\"size\": [199], \"sizemode\": \"area\", \"sizeref\": 0.05}, \"mode\": \"markers+text\", \"name\": \"Malaysia\", \"text\": [\"Malaysia:<br> 1\"], \"x\": [-0.9396925568580627], \"y\": [0.3420202136039734], \"type\": \"scatter\"}, {\"marker\": {\"size\": [199], \"sizemode\": \"area\", \"sizeref\": 0.05}, \"mode\": \"markers+text\", \"name\": \"Denmark\", \"text\": [\"Denmark:<br> 1\"], \"x\": [-0.9396925568580627], \"y\": [-0.3420201539993286], \"type\": \"scatter\"}, {\"marker\": {\"size\": [197], \"sizemode\": \"area\", \"sizeref\": 0.05}, \"mode\": \"markers+text\", \"name\": \"Bolivia\", \"text\": [\"Bolivia:<br> 3\"], \"x\": [-0.49999988079071045], \"y\": [-0.866025447845459], \"type\": \"scatter\"}, {\"marker\": {\"size\": [199], \"sizemode\": \"area\", \"sizeref\": 0.05}, \"mode\": \"markers+text\", \"name\": \"Austria\", \"text\": [\"Austria:<br> 1\"], \"x\": [0.1736481785774231], \"y\": [-0.9848077297210693], \"type\": \"scatter\"}, {\"marker\": {\"size\": [199], \"sizemode\": \"area\", \"sizeref\": 0.05}, \"mode\": \"markers+text\", \"name\": \"Portugal\", \"text\": [\"Portugal:<br> 1\"], \"x\": [0.7660443782806396], \"y\": [-0.642787754535675], \"type\": \"scatter\"}], \"name\": \"2017-03-05\"}, {\"data\": [{\"marker\": {\"size\": [199], \"sizemode\": \"area\", \"sizeref\": 0.05}, \"mode\": \"markers+text\", \"name\": \"United States\", \"text\": [\"United States:<br> 1\"], \"x\": [1.0], \"y\": [6.622738357719982e-09], \"type\": \"scatter\"}, {\"marker\": {\"size\": [199], \"sizemode\": \"area\", \"sizeref\": 0.05}, \"mode\": \"markers+text\", \"name\": \"Switzerland\", \"text\": [\"Switzerland:<br> 1\"], \"x\": [0.7660444974899292], \"y\": [0.6427875757217407], \"type\": \"scatter\"}, {\"marker\": {\"size\": [199], \"sizemode\": \"area\", \"sizeref\": 0.05}, \"mode\": \"markers+text\", \"name\": \"Hungary\", \"text\": [\"Hungary:<br> 1\"], \"x\": [0.17364825308322906], \"y\": [0.9848077297210693], \"type\": \"scatter\"}, {\"marker\": {\"size\": [197], \"sizemode\": \"area\", \"sizeref\": 0.05}, \"mode\": \"markers+text\", \"name\": \"Peru\", \"text\": [\"Peru:<br> 3\"], \"x\": [-0.5], \"y\": [0.8660253882408142], \"type\": \"scatter\"}, {\"marker\": {\"size\": [199], \"sizemode\": \"area\", \"sizeref\": 0.05}, \"mode\": \"markers+text\", \"name\": \"Malaysia\", \"text\": [\"Malaysia:<br> 1\"], \"x\": [-0.9396925568580627], \"y\": [0.3420202136039734], \"type\": \"scatter\"}, {\"marker\": {\"size\": [199], \"sizemode\": \"area\", \"sizeref\": 0.05}, \"mode\": \"markers+text\", \"name\": \"Denmark\", \"text\": [\"Denmark:<br> 1\"], \"x\": [-0.9396925568580627], \"y\": [-0.3420201539993286], \"type\": \"scatter\"}, {\"marker\": {\"size\": [198], \"sizemode\": \"area\", \"sizeref\": 0.05}, \"mode\": \"markers+text\", \"name\": \"Bolivia\", \"text\": [\"Bolivia:<br> 2\"], \"x\": [-0.49999988079071045], \"y\": [-0.866025447845459], \"type\": \"scatter\"}, {\"marker\": {\"size\": [199], \"sizemode\": \"area\", \"sizeref\": 0.05}, \"mode\": \"markers+text\", \"name\": \"Austria\", \"text\": [\"Austria:<br> 1\"], \"x\": [0.1736481785774231], \"y\": [-0.9848077297210693], \"type\": \"scatter\"}, {\"marker\": {\"size\": [199], \"sizemode\": \"area\", \"sizeref\": 0.05}, \"mode\": \"markers+text\", \"name\": \"Portugal\", \"text\": [\"Portugal:<br> 1\"], \"x\": [0.7660443782806396], \"y\": [-0.642787754535675], \"type\": \"scatter\"}], \"name\": \"2017-03-06\"}, {\"data\": [{\"marker\": {\"size\": [199], \"sizemode\": \"area\", \"sizeref\": 0.05}, \"mode\": \"markers+text\", \"name\": \"United States\", \"text\": [\"United States:<br> 1\"], \"x\": [1.0], \"y\": [6.622738357719982e-09], \"type\": \"scatter\"}, {\"marker\": {\"size\": [199], \"sizemode\": \"area\", \"sizeref\": 0.05}, \"mode\": \"markers+text\", \"name\": \"Switzerland\", \"text\": [\"Switzerland:<br> 1\"], \"x\": [0.7660444974899292], \"y\": [0.6427875757217407], \"type\": \"scatter\"}, {\"marker\": {\"size\": [199], \"sizemode\": \"area\", \"sizeref\": 0.05}, \"mode\": \"markers+text\", \"name\": \"Hungary\", \"text\": [\"Hungary:<br> 1\"], \"x\": [0.17364825308322906], \"y\": [0.9848077297210693], \"type\": \"scatter\"}, {\"marker\": {\"size\": [197], \"sizemode\": \"area\", \"sizeref\": 0.05}, \"mode\": \"markers+text\", \"name\": \"Peru\", \"text\": [\"Peru:<br> 3\"], \"x\": [-0.5], \"y\": [0.8660253882408142], \"type\": \"scatter\"}, {\"marker\": {\"size\": [199], \"sizemode\": \"area\", \"sizeref\": 0.05}, \"mode\": \"markers+text\", \"name\": \"Malaysia\", \"text\": [\"Malaysia:<br> 1\"], \"x\": [-0.9396925568580627], \"y\": [0.3420202136039734], \"type\": \"scatter\"}, {\"marker\": {\"size\": [199], \"sizemode\": \"area\", \"sizeref\": 0.05}, \"mode\": \"markers+text\", \"name\": \"Denmark\", \"text\": [\"Denmark:<br> 1\"], \"x\": [-0.9396925568580627], \"y\": [-0.3420201539993286], \"type\": \"scatter\"}, {\"marker\": {\"size\": [198], \"sizemode\": \"area\", \"sizeref\": 0.05}, \"mode\": \"markers+text\", \"name\": \"Bolivia\", \"text\": [\"Bolivia:<br> 2\"], \"x\": [-0.49999988079071045], \"y\": [-0.866025447845459], \"type\": \"scatter\"}, {\"marker\": {\"size\": [199], \"sizemode\": \"area\", \"sizeref\": 0.05}, \"mode\": \"markers+text\", \"name\": \"Austria\", \"text\": [\"Austria:<br> 1\"], \"x\": [0.1736481785774231], \"y\": [-0.9848077297210693], \"type\": \"scatter\"}, {\"marker\": {\"size\": [199], \"sizemode\": \"area\", \"sizeref\": 0.05}, \"mode\": \"markers+text\", \"name\": \"Portugal\", \"text\": [\"Portugal:<br> 1\"], \"x\": [0.7660443782806396], \"y\": [-0.642787754535675], \"type\": \"scatter\"}], \"name\": \"2017-03-07\"}, {\"data\": [{\"marker\": {\"size\": [199], \"sizemode\": \"area\", \"sizeref\": 0.05}, \"mode\": \"markers+text\", \"name\": \"United States\", \"text\": [\"United States:<br> 1\"], \"x\": [1.0], \"y\": [6.622738357719982e-09], \"type\": \"scatter\"}, {\"marker\": {\"size\": [199], \"sizemode\": \"area\", \"sizeref\": 0.05}, \"mode\": \"markers+text\", \"name\": \"Switzerland\", \"text\": [\"Switzerland:<br> 1\"], \"x\": [0.7660444974899292], \"y\": [0.6427875757217407], \"type\": \"scatter\"}, {\"marker\": {\"size\": [199], \"sizemode\": \"area\", \"sizeref\": 0.05}, \"mode\": \"markers+text\", \"name\": \"Hungary\", \"text\": [\"Hungary:<br> 1\"], \"x\": [0.17364825308322906], \"y\": [0.9848077297210693], \"type\": \"scatter\"}, {\"marker\": {\"size\": [198], \"sizemode\": \"area\", \"sizeref\": 0.05}, \"mode\": \"markers+text\", \"name\": \"Peru\", \"text\": [\"Peru:<br> 2\"], \"x\": [-0.5], \"y\": [0.8660253882408142], \"type\": \"scatter\"}, {\"marker\": {\"size\": [199], \"sizemode\": \"area\", \"sizeref\": 0.05}, \"mode\": \"markers+text\", \"name\": \"Malaysia\", \"text\": [\"Malaysia:<br> 1\"], \"x\": [-0.9396925568580627], \"y\": [0.3420202136039734], \"type\": \"scatter\"}, {\"marker\": {\"size\": [199], \"sizemode\": \"area\", \"sizeref\": 0.05}, \"mode\": \"markers+text\", \"name\": \"Denmark\", \"text\": [\"Denmark:<br> 1\"], \"x\": [-0.9396925568580627], \"y\": [-0.3420201539993286], \"type\": \"scatter\"}, {\"marker\": {\"size\": [198], \"sizemode\": \"area\", \"sizeref\": 0.05}, \"mode\": \"markers+text\", \"name\": \"Bolivia\", \"text\": [\"Bolivia:<br> 2\"], \"x\": [-0.49999988079071045], \"y\": [-0.866025447845459], \"type\": \"scatter\"}, {\"marker\": {\"size\": [199], \"sizemode\": \"area\", \"sizeref\": 0.05}, \"mode\": \"markers+text\", \"name\": \"Austria\", \"text\": [\"Austria:<br> 1\"], \"x\": [0.1736481785774231], \"y\": [-0.9848077297210693], \"type\": \"scatter\"}, {\"marker\": {\"size\": [199], \"sizemode\": \"area\", \"sizeref\": 0.05}, \"mode\": \"markers+text\", \"name\": \"Portugal\", \"text\": [\"Portugal:<br> 1\"], \"x\": [0.7660443782806396], \"y\": [-0.642787754535675], \"type\": \"scatter\"}], \"name\": \"2017-03-08\"}, {\"data\": [{\"marker\": {\"size\": [199], \"sizemode\": \"area\", \"sizeref\": 0.05}, \"mode\": \"markers+text\", \"name\": \"United States\", \"text\": [\"United States:<br> 1\"], \"x\": [1.0], \"y\": [6.622738357719982e-09], \"type\": \"scatter\"}, {\"marker\": {\"size\": [199], \"sizemode\": \"area\", \"sizeref\": 0.05}, \"mode\": \"markers+text\", \"name\": \"Switzerland\", \"text\": [\"Switzerland:<br> 1\"], \"x\": [0.7660444974899292], \"y\": [0.6427875757217407], \"type\": \"scatter\"}, {\"marker\": {\"size\": [199], \"sizemode\": \"area\", \"sizeref\": 0.05}, \"mode\": \"markers+text\", \"name\": \"Hungary\", \"text\": [\"Hungary:<br> 1\"], \"x\": [0.17364825308322906], \"y\": [0.9848077297210693], \"type\": \"scatter\"}, {\"marker\": {\"size\": [197], \"sizemode\": \"area\", \"sizeref\": 0.05}, \"mode\": \"markers+text\", \"name\": \"Peru\", \"text\": [\"Peru:<br> 3\"], \"x\": [-0.5], \"y\": [0.8660253882408142], \"type\": \"scatter\"}, {\"marker\": {\"size\": [199], \"sizemode\": \"area\", \"sizeref\": 0.05}, \"mode\": \"markers+text\", \"name\": \"Malaysia\", \"text\": [\"Malaysia:<br> 1\"], \"x\": [-0.9396925568580627], \"y\": [0.3420202136039734], \"type\": \"scatter\"}, {\"marker\": {\"size\": [199], \"sizemode\": \"area\", \"sizeref\": 0.05}, \"mode\": \"markers+text\", \"name\": \"Denmark\", \"text\": [\"Denmark:<br> 1\"], \"x\": [-0.9396925568580627], \"y\": [-0.3420201539993286], \"type\": \"scatter\"}, {\"marker\": {\"size\": [198], \"sizemode\": \"area\", \"sizeref\": 0.05}, \"mode\": \"markers+text\", \"name\": \"Bolivia\", \"text\": [\"Bolivia:<br> 2\"], \"x\": [-0.49999988079071045], \"y\": [-0.866025447845459], \"type\": \"scatter\"}, {\"marker\": {\"size\": [199], \"sizemode\": \"area\", \"sizeref\": 0.05}, \"mode\": \"markers+text\", \"name\": \"Austria\", \"text\": [\"Austria:<br> 1\"], \"x\": [0.1736481785774231], \"y\": [-0.9848077297210693], \"type\": \"scatter\"}, {\"marker\": {\"size\": [199], \"sizemode\": \"area\", \"sizeref\": 0.05}, \"mode\": \"markers+text\", \"name\": \"Portugal\", \"text\": [\"Portugal:<br> 1\"], \"x\": [0.7660443782806396], \"y\": [-0.642787754535675], \"type\": \"scatter\"}], \"name\": \"2017-03-09\"}, {\"data\": [{\"marker\": {\"size\": [199], \"sizemode\": \"area\", \"sizeref\": 0.05}, \"mode\": \"markers+text\", \"name\": \"United States\", \"text\": [\"United States:<br> 1\"], \"x\": [1.0], \"y\": [6.622738357719982e-09], \"type\": \"scatter\"}, {\"marker\": {\"size\": [199], \"sizemode\": \"area\", \"sizeref\": 0.05}, \"mode\": \"markers+text\", \"name\": \"Switzerland\", \"text\": [\"Switzerland:<br> 1\"], \"x\": [0.7660444974899292], \"y\": [0.6427875757217407], \"type\": \"scatter\"}, {\"marker\": {\"size\": [199], \"sizemode\": \"area\", \"sizeref\": 0.05}, \"mode\": \"markers+text\", \"name\": \"Hungary\", \"text\": [\"Hungary:<br> 1\"], \"x\": [0.17364825308322906], \"y\": [0.9848077297210693], \"type\": \"scatter\"}, {\"marker\": {\"size\": [197], \"sizemode\": \"area\", \"sizeref\": 0.05}, \"mode\": \"markers+text\", \"name\": \"Peru\", \"text\": [\"Peru:<br> 3\"], \"x\": [-0.5], \"y\": [0.8660253882408142], \"type\": \"scatter\"}, {\"marker\": {\"size\": [199], \"sizemode\": \"area\", \"sizeref\": 0.05}, \"mode\": \"markers+text\", \"name\": \"Malaysia\", \"text\": [\"Malaysia:<br> 1\"], \"x\": [-0.9396925568580627], \"y\": [0.3420202136039734], \"type\": \"scatter\"}, {\"marker\": {\"size\": [199], \"sizemode\": \"area\", \"sizeref\": 0.05}, \"mode\": \"markers+text\", \"name\": \"Denmark\", \"text\": [\"Denmark:<br> 1\"], \"x\": [-0.9396925568580627], \"y\": [-0.3420201539993286], \"type\": \"scatter\"}, {\"marker\": {\"size\": [197], \"sizemode\": \"area\", \"sizeref\": 0.05}, \"mode\": \"markers+text\", \"name\": \"Bolivia\", \"text\": [\"Bolivia:<br> 3\"], \"x\": [-0.49999988079071045], \"y\": [-0.866025447845459], \"type\": \"scatter\"}, {\"marker\": {\"size\": [199], \"sizemode\": \"area\", \"sizeref\": 0.05}, \"mode\": \"markers+text\", \"name\": \"Austria\", \"text\": [\"Austria:<br> 1\"], \"x\": [0.1736481785774231], \"y\": [-0.9848077297210693], \"type\": \"scatter\"}, {\"marker\": {\"size\": [199], \"sizemode\": \"area\", \"sizeref\": 0.05}, \"mode\": \"markers+text\", \"name\": \"Portugal\", \"text\": [\"Portugal:<br> 1\"], \"x\": [0.7660443782806396], \"y\": [-0.642787754535675], \"type\": \"scatter\"}], \"name\": \"2017-03-10\"}, {\"data\": [{\"marker\": {\"size\": [199], \"sizemode\": \"area\", \"sizeref\": 0.05}, \"mode\": \"markers+text\", \"name\": \"United States\", \"text\": [\"United States:<br> 1\"], \"x\": [1.0], \"y\": [6.622738357719982e-09], \"type\": \"scatter\"}, {\"marker\": {\"size\": [199], \"sizemode\": \"area\", \"sizeref\": 0.05}, \"mode\": \"markers+text\", \"name\": \"Switzerland\", \"text\": [\"Switzerland:<br> 1\"], \"x\": [0.7660444974899292], \"y\": [0.6427875757217407], \"type\": \"scatter\"}, {\"marker\": {\"size\": [199], \"sizemode\": \"area\", \"sizeref\": 0.05}, \"mode\": \"markers+text\", \"name\": \"Hungary\", \"text\": [\"Hungary:<br> 1\"], \"x\": [0.17364825308322906], \"y\": [0.9848077297210693], \"type\": \"scatter\"}, {\"marker\": {\"size\": [197], \"sizemode\": \"area\", \"sizeref\": 0.05}, \"mode\": \"markers+text\", \"name\": \"Peru\", \"text\": [\"Peru:<br> 3\"], \"x\": [-0.5], \"y\": [0.8660253882408142], \"type\": \"scatter\"}, {\"marker\": {\"size\": [199], \"sizemode\": \"area\", \"sizeref\": 0.05}, \"mode\": \"markers+text\", \"name\": \"Malaysia\", \"text\": [\"Malaysia:<br> 1\"], \"x\": [-0.9396925568580627], \"y\": [0.3420202136039734], \"type\": \"scatter\"}, {\"marker\": {\"size\": [199], \"sizemode\": \"area\", \"sizeref\": 0.05}, \"mode\": \"markers+text\", \"name\": \"Denmark\", \"text\": [\"Denmark:<br> 1\"], \"x\": [-0.9396925568580627], \"y\": [-0.3420201539993286], \"type\": \"scatter\"}, {\"marker\": {\"size\": [197], \"sizemode\": \"area\", \"sizeref\": 0.05}, \"mode\": \"markers+text\", \"name\": \"Bolivia\", \"text\": [\"Bolivia:<br> 3\"], \"x\": [-0.49999988079071045], \"y\": [-0.866025447845459], \"type\": \"scatter\"}, {\"marker\": {\"size\": [199], \"sizemode\": \"area\", \"sizeref\": 0.05}, \"mode\": \"markers+text\", \"name\": \"Austria\", \"text\": [\"Austria:<br> 1\"], \"x\": [0.1736481785774231], \"y\": [-0.9848077297210693], \"type\": \"scatter\"}, {\"marker\": {\"size\": [199], \"sizemode\": \"area\", \"sizeref\": 0.05}, \"mode\": \"markers+text\", \"name\": \"Portugal\", \"text\": [\"Portugal:<br> 1\"], \"x\": [0.7660443782806396], \"y\": [-0.642787754535675], \"type\": \"scatter\"}], \"name\": \"2017-03-11\"}, {\"data\": [{\"marker\": {\"size\": [199], \"sizemode\": \"area\", \"sizeref\": 0.05}, \"mode\": \"markers+text\", \"name\": \"United States\", \"text\": [\"United States:<br> 1\"], \"x\": [1.0], \"y\": [6.622738357719982e-09], \"type\": \"scatter\"}, {\"marker\": {\"size\": [199], \"sizemode\": \"area\", \"sizeref\": 0.05}, \"mode\": \"markers+text\", \"name\": \"Switzerland\", \"text\": [\"Switzerland:<br> 1\"], \"x\": [0.7660444974899292], \"y\": [0.6427875757217407], \"type\": \"scatter\"}, {\"marker\": {\"size\": [199], \"sizemode\": \"area\", \"sizeref\": 0.05}, \"mode\": \"markers+text\", \"name\": \"Hungary\", \"text\": [\"Hungary:<br> 1\"], \"x\": [0.17364825308322906], \"y\": [0.9848077297210693], \"type\": \"scatter\"}, {\"marker\": {\"size\": [197], \"sizemode\": \"area\", \"sizeref\": 0.05}, \"mode\": \"markers+text\", \"name\": \"Peru\", \"text\": [\"Peru:<br> 3\"], \"x\": [-0.5], \"y\": [0.8660253882408142], \"type\": \"scatter\"}, {\"marker\": {\"size\": [199], \"sizemode\": \"area\", \"sizeref\": 0.05}, \"mode\": \"markers+text\", \"name\": \"Malaysia\", \"text\": [\"Malaysia:<br> 1\"], \"x\": [-0.9396925568580627], \"y\": [0.3420202136039734], \"type\": \"scatter\"}, {\"marker\": {\"size\": [199], \"sizemode\": \"area\", \"sizeref\": 0.05}, \"mode\": \"markers+text\", \"name\": \"Denmark\", \"text\": [\"Denmark:<br> 1\"], \"x\": [-0.9396925568580627], \"y\": [-0.3420201539993286], \"type\": \"scatter\"}, {\"marker\": {\"size\": [197], \"sizemode\": \"area\", \"sizeref\": 0.05}, \"mode\": \"markers+text\", \"name\": \"Bolivia\", \"text\": [\"Bolivia:<br> 3\"], \"x\": [-0.49999988079071045], \"y\": [-0.866025447845459], \"type\": \"scatter\"}, {\"marker\": {\"size\": [199], \"sizemode\": \"area\", \"sizeref\": 0.05}, \"mode\": \"markers+text\", \"name\": \"Austria\", \"text\": [\"Austria:<br> 1\"], \"x\": [0.1736481785774231], \"y\": [-0.9848077297210693], \"type\": \"scatter\"}, {\"marker\": {\"size\": [199], \"sizemode\": \"area\", \"sizeref\": 0.05}, \"mode\": \"markers+text\", \"name\": \"Portugal\", \"text\": [\"Portugal:<br> 1\"], \"x\": [0.7660443782806396], \"y\": [-0.642787754535675], \"type\": \"scatter\"}], \"name\": \"2017-03-12\"}, {\"data\": [{\"marker\": {\"size\": [199], \"sizemode\": \"area\", \"sizeref\": 0.05}, \"mode\": \"markers+text\", \"name\": \"United States\", \"text\": [\"United States:<br> 1\"], \"x\": [1.0], \"y\": [6.622738357719982e-09], \"type\": \"scatter\"}, {\"marker\": {\"size\": [199], \"sizemode\": \"area\", \"sizeref\": 0.05}, \"mode\": \"markers+text\", \"name\": \"Switzerland\", \"text\": [\"Switzerland:<br> 1\"], \"x\": [0.7660444974899292], \"y\": [0.6427875757217407], \"type\": \"scatter\"}, {\"marker\": {\"size\": [199], \"sizemode\": \"area\", \"sizeref\": 0.05}, \"mode\": \"markers+text\", \"name\": \"Hungary\", \"text\": [\"Hungary:<br> 1\"], \"x\": [0.17364825308322906], \"y\": [0.9848077297210693], \"type\": \"scatter\"}, {\"marker\": {\"size\": [198], \"sizemode\": \"area\", \"sizeref\": 0.05}, \"mode\": \"markers+text\", \"name\": \"Peru\", \"text\": [\"Peru:<br> 2\"], \"x\": [-0.5], \"y\": [0.8660253882408142], \"type\": \"scatter\"}, {\"marker\": {\"size\": [199], \"sizemode\": \"area\", \"sizeref\": 0.05}, \"mode\": \"markers+text\", \"name\": \"Malaysia\", \"text\": [\"Malaysia:<br> 1\"], \"x\": [-0.9396925568580627], \"y\": [0.3420202136039734], \"type\": \"scatter\"}, {\"marker\": {\"size\": [199], \"sizemode\": \"area\", \"sizeref\": 0.05}, \"mode\": \"markers+text\", \"name\": \"Denmark\", \"text\": [\"Denmark:<br> 1\"], \"x\": [-0.9396925568580627], \"y\": [-0.3420201539993286], \"type\": \"scatter\"}, {\"marker\": {\"size\": [197], \"sizemode\": \"area\", \"sizeref\": 0.05}, \"mode\": \"markers+text\", \"name\": \"Bolivia\", \"text\": [\"Bolivia:<br> 3\"], \"x\": [-0.49999988079071045], \"y\": [-0.866025447845459], \"type\": \"scatter\"}, {\"marker\": {\"size\": [199], \"sizemode\": \"area\", \"sizeref\": 0.05}, \"mode\": \"markers+text\", \"name\": \"Austria\", \"text\": [\"Austria:<br> 1\"], \"x\": [0.1736481785774231], \"y\": [-0.9848077297210693], \"type\": \"scatter\"}, {\"marker\": {\"size\": [199], \"sizemode\": \"area\", \"sizeref\": 0.05}, \"mode\": \"markers+text\", \"name\": \"Portugal\", \"text\": [\"Portugal:<br> 1\"], \"x\": [0.7660443782806396], \"y\": [-0.642787754535675], \"type\": \"scatter\"}], \"name\": \"2017-03-13\"}, {\"data\": [{\"marker\": {\"size\": [199], \"sizemode\": \"area\", \"sizeref\": 0.05}, \"mode\": \"markers+text\", \"name\": \"United States\", \"text\": [\"United States:<br> 1\"], \"x\": [1.0], \"y\": [6.622738357719982e-09], \"type\": \"scatter\"}, {\"marker\": {\"size\": [199], \"sizemode\": \"area\", \"sizeref\": 0.05}, \"mode\": \"markers+text\", \"name\": \"Switzerland\", \"text\": [\"Switzerland:<br> 1\"], \"x\": [0.7660444974899292], \"y\": [0.6427875757217407], \"type\": \"scatter\"}, {\"marker\": {\"size\": [199], \"sizemode\": \"area\", \"sizeref\": 0.05}, \"mode\": \"markers+text\", \"name\": \"Hungary\", \"text\": [\"Hungary:<br> 1\"], \"x\": [0.17364825308322906], \"y\": [0.9848077297210693], \"type\": \"scatter\"}, {\"marker\": {\"size\": [198], \"sizemode\": \"area\", \"sizeref\": 0.05}, \"mode\": \"markers+text\", \"name\": \"Peru\", \"text\": [\"Peru:<br> 2\"], \"x\": [-0.5], \"y\": [0.8660253882408142], \"type\": \"scatter\"}, {\"marker\": {\"size\": [199], \"sizemode\": \"area\", \"sizeref\": 0.05}, \"mode\": \"markers+text\", \"name\": \"Malaysia\", \"text\": [\"Malaysia:<br> 1\"], \"x\": [-0.9396925568580627], \"y\": [0.3420202136039734], \"type\": \"scatter\"}, {\"marker\": {\"size\": [199], \"sizemode\": \"area\", \"sizeref\": 0.05}, \"mode\": \"markers+text\", \"name\": \"Denmark\", \"text\": [\"Denmark:<br> 1\"], \"x\": [-0.9396925568580627], \"y\": [-0.3420201539993286], \"type\": \"scatter\"}, {\"marker\": {\"size\": [198], \"sizemode\": \"area\", \"sizeref\": 0.05}, \"mode\": \"markers+text\", \"name\": \"Bolivia\", \"text\": [\"Bolivia:<br> 2\"], \"x\": [-0.49999988079071045], \"y\": [-0.866025447845459], \"type\": \"scatter\"}, {\"marker\": {\"size\": [199], \"sizemode\": \"area\", \"sizeref\": 0.05}, \"mode\": \"markers+text\", \"name\": \"Austria\", \"text\": [\"Austria:<br> 1\"], \"x\": [0.1736481785774231], \"y\": [-0.9848077297210693], \"type\": \"scatter\"}, {\"marker\": {\"size\": [199], \"sizemode\": \"area\", \"sizeref\": 0.05}, \"mode\": \"markers+text\", \"name\": \"Portugal\", \"text\": [\"Portugal:<br> 1\"], \"x\": [0.7660443782806396], \"y\": [-0.642787754535675], \"type\": \"scatter\"}], \"name\": \"2017-03-14\"}, {\"data\": [{\"marker\": {\"size\": [199], \"sizemode\": \"area\", \"sizeref\": 0.05}, \"mode\": \"markers+text\", \"name\": \"United States\", \"text\": [\"United States:<br> 1\"], \"x\": [1.0], \"y\": [6.622738357719982e-09], \"type\": \"scatter\"}, {\"marker\": {\"size\": [199], \"sizemode\": \"area\", \"sizeref\": 0.05}, \"mode\": \"markers+text\", \"name\": \"Switzerland\", \"text\": [\"Switzerland:<br> 1\"], \"x\": [0.7660444974899292], \"y\": [0.6427875757217407], \"type\": \"scatter\"}, {\"marker\": {\"size\": [199], \"sizemode\": \"area\", \"sizeref\": 0.05}, \"mode\": \"markers+text\", \"name\": \"Hungary\", \"text\": [\"Hungary:<br> 1\"], \"x\": [0.17364825308322906], \"y\": [0.9848077297210693], \"type\": \"scatter\"}, {\"marker\": {\"size\": [198], \"sizemode\": \"area\", \"sizeref\": 0.05}, \"mode\": \"markers+text\", \"name\": \"Peru\", \"text\": [\"Peru:<br> 2\"], \"x\": [-0.5], \"y\": [0.8660253882408142], \"type\": \"scatter\"}, {\"marker\": {\"size\": [199], \"sizemode\": \"area\", \"sizeref\": 0.05}, \"mode\": \"markers+text\", \"name\": \"Malaysia\", \"text\": [\"Malaysia:<br> 1\"], \"x\": [-0.9396925568580627], \"y\": [0.3420202136039734], \"type\": \"scatter\"}, {\"marker\": {\"size\": [199], \"sizemode\": \"area\", \"sizeref\": 0.05}, \"mode\": \"markers+text\", \"name\": \"Denmark\", \"text\": [\"Denmark:<br> 1\"], \"x\": [-0.9396925568580627], \"y\": [-0.3420201539993286], \"type\": \"scatter\"}, {\"marker\": {\"size\": [198], \"sizemode\": \"area\", \"sizeref\": 0.05}, \"mode\": \"markers+text\", \"name\": \"Bolivia\", \"text\": [\"Bolivia:<br> 2\"], \"x\": [-0.49999988079071045], \"y\": [-0.866025447845459], \"type\": \"scatter\"}, {\"marker\": {\"size\": [199], \"sizemode\": \"area\", \"sizeref\": 0.05}, \"mode\": \"markers+text\", \"name\": \"Austria\", \"text\": [\"Austria:<br> 1\"], \"x\": [0.1736481785774231], \"y\": [-0.9848077297210693], \"type\": \"scatter\"}, {\"marker\": {\"size\": [199], \"sizemode\": \"area\", \"sizeref\": 0.05}, \"mode\": \"markers+text\", \"name\": \"Portugal\", \"text\": [\"Portugal:<br> 1\"], \"x\": [0.7660443782806396], \"y\": [-0.642787754535675], \"type\": \"scatter\"}], \"name\": \"2017-03-15\"}, {\"data\": [{\"marker\": {\"size\": [199], \"sizemode\": \"area\", \"sizeref\": 0.05}, \"mode\": \"markers+text\", \"name\": \"United States\", \"text\": [\"United States:<br> 1\"], \"x\": [1.0], \"y\": [6.622738357719982e-09], \"type\": \"scatter\"}, {\"marker\": {\"size\": [199], \"sizemode\": \"area\", \"sizeref\": 0.05}, \"mode\": \"markers+text\", \"name\": \"Switzerland\", \"text\": [\"Switzerland:<br> 1\"], \"x\": [0.7660444974899292], \"y\": [0.6427875757217407], \"type\": \"scatter\"}, {\"marker\": {\"size\": [199], \"sizemode\": \"area\", \"sizeref\": 0.05}, \"mode\": \"markers+text\", \"name\": \"Hungary\", \"text\": [\"Hungary:<br> 1\"], \"x\": [0.17364825308322906], \"y\": [0.9848077297210693], \"type\": \"scatter\"}, {\"marker\": {\"size\": [198], \"sizemode\": \"area\", \"sizeref\": 0.05}, \"mode\": \"markers+text\", \"name\": \"Peru\", \"text\": [\"Peru:<br> 2\"], \"x\": [-0.5], \"y\": [0.8660253882408142], \"type\": \"scatter\"}, {\"marker\": {\"size\": [199], \"sizemode\": \"area\", \"sizeref\": 0.05}, \"mode\": \"markers+text\", \"name\": \"Malaysia\", \"text\": [\"Malaysia:<br> 1\"], \"x\": [-0.9396925568580627], \"y\": [0.3420202136039734], \"type\": \"scatter\"}, {\"marker\": {\"size\": [199], \"sizemode\": \"area\", \"sizeref\": 0.05}, \"mode\": \"markers+text\", \"name\": \"Denmark\", \"text\": [\"Denmark:<br> 1\"], \"x\": [-0.9396925568580627], \"y\": [-0.3420201539993286], \"type\": \"scatter\"}, {\"marker\": {\"size\": [198], \"sizemode\": \"area\", \"sizeref\": 0.05}, \"mode\": \"markers+text\", \"name\": \"Bolivia\", \"text\": [\"Bolivia:<br> 2\"], \"x\": [-0.49999988079071045], \"y\": [-0.866025447845459], \"type\": \"scatter\"}, {\"marker\": {\"size\": [199], \"sizemode\": \"area\", \"sizeref\": 0.05}, \"mode\": \"markers+text\", \"name\": \"Austria\", \"text\": [\"Austria:<br> 1\"], \"x\": [0.1736481785774231], \"y\": [-0.9848077297210693], \"type\": \"scatter\"}, {\"marker\": {\"size\": [198], \"sizemode\": \"area\", \"sizeref\": 0.05}, \"mode\": \"markers+text\", \"name\": \"Portugal\", \"text\": [\"Portugal:<br> 2\"], \"x\": [0.7660443782806396], \"y\": [-0.642787754535675], \"type\": \"scatter\"}], \"name\": \"2017-03-16\"}, {\"data\": [{\"marker\": {\"size\": [199], \"sizemode\": \"area\", \"sizeref\": 0.05}, \"mode\": \"markers+text\", \"name\": \"United States\", \"text\": [\"United States:<br> 1\"], \"x\": [1.0], \"y\": [6.622738357719982e-09], \"type\": \"scatter\"}, {\"marker\": {\"size\": [199], \"sizemode\": \"area\", \"sizeref\": 0.05}, \"mode\": \"markers+text\", \"name\": \"Switzerland\", \"text\": [\"Switzerland:<br> 1\"], \"x\": [0.7660444974899292], \"y\": [0.6427875757217407], \"type\": \"scatter\"}, {\"marker\": {\"size\": [199], \"sizemode\": \"area\", \"sizeref\": 0.05}, \"mode\": \"markers+text\", \"name\": \"Hungary\", \"text\": [\"Hungary:<br> 1\"], \"x\": [0.17364825308322906], \"y\": [0.9848077297210693], \"type\": \"scatter\"}, {\"marker\": {\"size\": [198], \"sizemode\": \"area\", \"sizeref\": 0.05}, \"mode\": \"markers+text\", \"name\": \"Peru\", \"text\": [\"Peru:<br> 2\"], \"x\": [-0.5], \"y\": [0.8660253882408142], \"type\": \"scatter\"}, {\"marker\": {\"size\": [199], \"sizemode\": \"area\", \"sizeref\": 0.05}, \"mode\": \"markers+text\", \"name\": \"Malaysia\", \"text\": [\"Malaysia:<br> 1\"], \"x\": [-0.9396925568580627], \"y\": [0.3420202136039734], \"type\": \"scatter\"}, {\"marker\": {\"size\": [199], \"sizemode\": \"area\", \"sizeref\": 0.05}, \"mode\": \"markers+text\", \"name\": \"Denmark\", \"text\": [\"Denmark:<br> 1\"], \"x\": [-0.9396925568580627], \"y\": [-0.3420201539993286], \"type\": \"scatter\"}, {\"marker\": {\"size\": [197], \"sizemode\": \"area\", \"sizeref\": 0.05}, \"mode\": \"markers+text\", \"name\": \"Bolivia\", \"text\": [\"Bolivia:<br> 3\"], \"x\": [-0.49999988079071045], \"y\": [-0.866025447845459], \"type\": \"scatter\"}, {\"marker\": {\"size\": [199], \"sizemode\": \"area\", \"sizeref\": 0.05}, \"mode\": \"markers+text\", \"name\": \"Austria\", \"text\": [\"Austria:<br> 1\"], \"x\": [0.1736481785774231], \"y\": [-0.9848077297210693], \"type\": \"scatter\"}, {\"marker\": {\"size\": [198], \"sizemode\": \"area\", \"sizeref\": 0.05}, \"mode\": \"markers+text\", \"name\": \"Portugal\", \"text\": [\"Portugal:<br> 2\"], \"x\": [0.7660443782806396], \"y\": [-0.642787754535675], \"type\": \"scatter\"}], \"name\": \"2017-03-17\"}, {\"data\": [{\"marker\": {\"size\": [199], \"sizemode\": \"area\", \"sizeref\": 0.05}, \"mode\": \"markers+text\", \"name\": \"United States\", \"text\": [\"United States:<br> 1\"], \"x\": [1.0], \"y\": [6.622738357719982e-09], \"type\": \"scatter\"}, {\"marker\": {\"size\": [199], \"sizemode\": \"area\", \"sizeref\": 0.05}, \"mode\": \"markers+text\", \"name\": \"Switzerland\", \"text\": [\"Switzerland:<br> 1\"], \"x\": [0.7660444974899292], \"y\": [0.6427875757217407], \"type\": \"scatter\"}, {\"marker\": {\"size\": [199], \"sizemode\": \"area\", \"sizeref\": 0.05}, \"mode\": \"markers+text\", \"name\": \"Hungary\", \"text\": [\"Hungary:<br> 1\"], \"x\": [0.17364825308322906], \"y\": [0.9848077297210693], \"type\": \"scatter\"}, {\"marker\": {\"size\": [198], \"sizemode\": \"area\", \"sizeref\": 0.05}, \"mode\": \"markers+text\", \"name\": \"Peru\", \"text\": [\"Peru:<br> 2\"], \"x\": [-0.5], \"y\": [0.8660253882408142], \"type\": \"scatter\"}, {\"marker\": {\"size\": [199], \"sizemode\": \"area\", \"sizeref\": 0.05}, \"mode\": \"markers+text\", \"name\": \"Malaysia\", \"text\": [\"Malaysia:<br> 1\"], \"x\": [-0.9396925568580627], \"y\": [0.3420202136039734], \"type\": \"scatter\"}, {\"marker\": {\"size\": [199], \"sizemode\": \"area\", \"sizeref\": 0.05}, \"mode\": \"markers+text\", \"name\": \"Denmark\", \"text\": [\"Denmark:<br> 1\"], \"x\": [-0.9396925568580627], \"y\": [-0.3420201539993286], \"type\": \"scatter\"}, {\"marker\": {\"size\": [197], \"sizemode\": \"area\", \"sizeref\": 0.05}, \"mode\": \"markers+text\", \"name\": \"Bolivia\", \"text\": [\"Bolivia:<br> 3\"], \"x\": [-0.49999988079071045], \"y\": [-0.866025447845459], \"type\": \"scatter\"}, {\"marker\": {\"size\": [199], \"sizemode\": \"area\", \"sizeref\": 0.05}, \"mode\": \"markers+text\", \"name\": \"Austria\", \"text\": [\"Austria:<br> 1\"], \"x\": [0.1736481785774231], \"y\": [-0.9848077297210693], \"type\": \"scatter\"}, {\"marker\": {\"size\": [198], \"sizemode\": \"area\", \"sizeref\": 0.05}, \"mode\": \"markers+text\", \"name\": \"Portugal\", \"text\": [\"Portugal:<br> 2\"], \"x\": [0.7660443782806396], \"y\": [-0.642787754535675], \"type\": \"scatter\"}], \"name\": \"2017-03-18\"}, {\"data\": [{\"marker\": {\"size\": [184], \"sizemode\": \"area\", \"sizeref\": 0.05}, \"mode\": \"markers+text\", \"name\": \"United States\", \"text\": [\"United States:<br> 16\"], \"x\": [1.0], \"y\": [6.622738357719982e-09], \"type\": \"scatter\"}, {\"marker\": {\"size\": [199], \"sizemode\": \"area\", \"sizeref\": 0.05}, \"mode\": \"markers+text\", \"name\": \"Switzerland\", \"text\": [\"Switzerland:<br> 1\"], \"x\": [0.7660444974899292], \"y\": [0.6427875757217407], \"type\": \"scatter\"}, {\"marker\": {\"size\": [199], \"sizemode\": \"area\", \"sizeref\": 0.05}, \"mode\": \"markers+text\", \"name\": \"Hungary\", \"text\": [\"Hungary:<br> 1\"], \"x\": [0.17364825308322906], \"y\": [0.9848077297210693], \"type\": \"scatter\"}, {\"marker\": {\"size\": [198], \"sizemode\": \"area\", \"sizeref\": 0.05}, \"mode\": \"markers+text\", \"name\": \"Peru\", \"text\": [\"Peru:<br> 2\"], \"x\": [-0.5], \"y\": [0.8660253882408142], \"type\": \"scatter\"}, {\"marker\": {\"size\": [199], \"sizemode\": \"area\", \"sizeref\": 0.05}, \"mode\": \"markers+text\", \"name\": \"Malaysia\", \"text\": [\"Malaysia:<br> 1\"], \"x\": [-0.9396925568580627], \"y\": [0.3420202136039734], \"type\": \"scatter\"}, {\"marker\": {\"size\": [199], \"sizemode\": \"area\", \"sizeref\": 0.05}, \"mode\": \"markers+text\", \"name\": \"Denmark\", \"text\": [\"Denmark:<br> 1\"], \"x\": [-0.9396925568580627], \"y\": [-0.3420201539993286], \"type\": \"scatter\"}, {\"marker\": {\"size\": [197], \"sizemode\": \"area\", \"sizeref\": 0.05}, \"mode\": \"markers+text\", \"name\": \"Bolivia\", \"text\": [\"Bolivia:<br> 3\"], \"x\": [-0.49999988079071045], \"y\": [-0.866025447845459], \"type\": \"scatter\"}, {\"marker\": {\"size\": [199], \"sizemode\": \"area\", \"sizeref\": 0.05}, \"mode\": \"markers+text\", \"name\": \"Austria\", \"text\": [\"Austria:<br> 1\"], \"x\": [0.1736481785774231], \"y\": [-0.9848077297210693], \"type\": \"scatter\"}, {\"marker\": {\"size\": [198], \"sizemode\": \"area\", \"sizeref\": 0.05}, \"mode\": \"markers+text\", \"name\": \"Portugal\", \"text\": [\"Portugal:<br> 2\"], \"x\": [0.7660443782806396], \"y\": [-0.642787754535675], \"type\": \"scatter\"}], \"name\": \"2017-03-19\"}, {\"data\": [{\"marker\": {\"size\": [186], \"sizemode\": \"area\", \"sizeref\": 0.05}, \"mode\": \"markers+text\", \"name\": \"United States\", \"text\": [\"United States:<br> 14\"], \"x\": [1.0], \"y\": [6.622738357719982e-09], \"type\": \"scatter\"}, {\"marker\": {\"size\": [199], \"sizemode\": \"area\", \"sizeref\": 0.05}, \"mode\": \"markers+text\", \"name\": \"Switzerland\", \"text\": [\"Switzerland:<br> 1\"], \"x\": [0.7660444974899292], \"y\": [0.6427875757217407], \"type\": \"scatter\"}, {\"marker\": {\"size\": [199], \"sizemode\": \"area\", \"sizeref\": 0.05}, \"mode\": \"markers+text\", \"name\": \"Hungary\", \"text\": [\"Hungary:<br> 1\"], \"x\": [0.17364825308322906], \"y\": [0.9848077297210693], \"type\": \"scatter\"}, {\"marker\": {\"size\": [198], \"sizemode\": \"area\", \"sizeref\": 0.05}, \"mode\": \"markers+text\", \"name\": \"Peru\", \"text\": [\"Peru:<br> 2\"], \"x\": [-0.5], \"y\": [0.8660253882408142], \"type\": \"scatter\"}, {\"marker\": {\"size\": [199], \"sizemode\": \"area\", \"sizeref\": 0.05}, \"mode\": \"markers+text\", \"name\": \"Malaysia\", \"text\": [\"Malaysia:<br> 1\"], \"x\": [-0.9396925568580627], \"y\": [0.3420202136039734], \"type\": \"scatter\"}, {\"marker\": {\"size\": [198], \"sizemode\": \"area\", \"sizeref\": 0.05}, \"mode\": \"markers+text\", \"name\": \"Denmark\", \"text\": [\"Denmark:<br> 2\"], \"x\": [-0.9396925568580627], \"y\": [-0.3420201539993286], \"type\": \"scatter\"}, {\"marker\": {\"size\": [198], \"sizemode\": \"area\", \"sizeref\": 0.05}, \"mode\": \"markers+text\", \"name\": \"Bolivia\", \"text\": [\"Bolivia:<br> 2\"], \"x\": [-0.49999988079071045], \"y\": [-0.866025447845459], \"type\": \"scatter\"}, {\"marker\": {\"size\": [199], \"sizemode\": \"area\", \"sizeref\": 0.05}, \"mode\": \"markers+text\", \"name\": \"Austria\", \"text\": [\"Austria:<br> 1\"], \"x\": [0.1736481785774231], \"y\": [-0.9848077297210693], \"type\": \"scatter\"}, {\"marker\": {\"size\": [198], \"sizemode\": \"area\", \"sizeref\": 0.05}, \"mode\": \"markers+text\", \"name\": \"Portugal\", \"text\": [\"Portugal:<br> 2\"], \"x\": [0.7660443782806396], \"y\": [-0.642787754535675], \"type\": \"scatter\"}], \"name\": \"2017-03-20\"}, {\"data\": [{\"marker\": {\"size\": [191], \"sizemode\": \"area\", \"sizeref\": 0.05}, \"mode\": \"markers+text\", \"name\": \"United States\", \"text\": [\"United States:<br> 9\"], \"x\": [1.0], \"y\": [6.622738357719982e-09], \"type\": \"scatter\"}, {\"marker\": {\"size\": [199], \"sizemode\": \"area\", \"sizeref\": 0.05}, \"mode\": \"markers+text\", \"name\": \"Switzerland\", \"text\": [\"Switzerland:<br> 1\"], \"x\": [0.7660444974899292], \"y\": [0.6427875757217407], \"type\": \"scatter\"}, {\"marker\": {\"size\": [199], \"sizemode\": \"area\", \"sizeref\": 0.05}, \"mode\": \"markers+text\", \"name\": \"Hungary\", \"text\": [\"Hungary:<br> 1\"], \"x\": [0.17364825308322906], \"y\": [0.9848077297210693], \"type\": \"scatter\"}, {\"marker\": {\"size\": [198], \"sizemode\": \"area\", \"sizeref\": 0.05}, \"mode\": \"markers+text\", \"name\": \"Peru\", \"text\": [\"Peru:<br> 2\"], \"x\": [-0.5], \"y\": [0.8660253882408142], \"type\": \"scatter\"}, {\"marker\": {\"size\": [199], \"sizemode\": \"area\", \"sizeref\": 0.05}, \"mode\": \"markers+text\", \"name\": \"Malaysia\", \"text\": [\"Malaysia:<br> 1\"], \"x\": [-0.9396925568580627], \"y\": [0.3420202136039734], \"type\": \"scatter\"}, {\"marker\": {\"size\": [198], \"sizemode\": \"area\", \"sizeref\": 0.05}, \"mode\": \"markers+text\", \"name\": \"Denmark\", \"text\": [\"Denmark:<br> 2\"], \"x\": [-0.9396925568580627], \"y\": [-0.3420201539993286], \"type\": \"scatter\"}, {\"marker\": {\"size\": [198], \"sizemode\": \"area\", \"sizeref\": 0.05}, \"mode\": \"markers+text\", \"name\": \"Bolivia\", \"text\": [\"Bolivia:<br> 2\"], \"x\": [-0.49999988079071045], \"y\": [-0.866025447845459], \"type\": \"scatter\"}, {\"marker\": {\"size\": [199], \"sizemode\": \"area\", \"sizeref\": 0.05}, \"mode\": \"markers+text\", \"name\": \"Austria\", \"text\": [\"Austria:<br> 1\"], \"x\": [0.1736481785774231], \"y\": [-0.9848077297210693], \"type\": \"scatter\"}, {\"marker\": {\"size\": [198], \"sizemode\": \"area\", \"sizeref\": 0.05}, \"mode\": \"markers+text\", \"name\": \"Portugal\", \"text\": [\"Portugal:<br> 2\"], \"x\": [0.7660443782806396], \"y\": [-0.642787754535675], \"type\": \"scatter\"}], \"name\": \"2017-03-21\"}, {\"data\": [{\"marker\": {\"size\": [195], \"sizemode\": \"area\", \"sizeref\": 0.05}, \"mode\": \"markers+text\", \"name\": \"United States\", \"text\": [\"United States:<br> 5\"], \"x\": [1.0], \"y\": [6.622738357719982e-09], \"type\": \"scatter\"}, {\"marker\": {\"size\": [199], \"sizemode\": \"area\", \"sizeref\": 0.05}, \"mode\": \"markers+text\", \"name\": \"Switzerland\", \"text\": [\"Switzerland:<br> 1\"], \"x\": [0.7660444974899292], \"y\": [0.6427875757217407], \"type\": \"scatter\"}, {\"marker\": {\"size\": [199], \"sizemode\": \"area\", \"sizeref\": 0.05}, \"mode\": \"markers+text\", \"name\": \"Hungary\", \"text\": [\"Hungary:<br> 1\"], \"x\": [0.17364825308322906], \"y\": [0.9848077297210693], \"type\": \"scatter\"}, {\"marker\": {\"size\": [198], \"sizemode\": \"area\", \"sizeref\": 0.05}, \"mode\": \"markers+text\", \"name\": \"Peru\", \"text\": [\"Peru:<br> 2\"], \"x\": [-0.5], \"y\": [0.8660253882408142], \"type\": \"scatter\"}, {\"marker\": {\"size\": [199], \"sizemode\": \"area\", \"sizeref\": 0.05}, \"mode\": \"markers+text\", \"name\": \"Malaysia\", \"text\": [\"Malaysia:<br> 1\"], \"x\": [-0.9396925568580627], \"y\": [0.3420202136039734], \"type\": \"scatter\"}, {\"marker\": {\"size\": [197], \"sizemode\": \"area\", \"sizeref\": 0.05}, \"mode\": \"markers+text\", \"name\": \"Denmark\", \"text\": [\"Denmark:<br> 3\"], \"x\": [-0.9396925568580627], \"y\": [-0.3420201539993286], \"type\": \"scatter\"}, {\"marker\": {\"size\": [197], \"sizemode\": \"area\", \"sizeref\": 0.05}, \"mode\": \"markers+text\", \"name\": \"Bolivia\", \"text\": [\"Bolivia:<br> 3\"], \"x\": [-0.49999988079071045], \"y\": [-0.866025447845459], \"type\": \"scatter\"}, {\"marker\": {\"size\": [199], \"sizemode\": \"area\", \"sizeref\": 0.05}, \"mode\": \"markers+text\", \"name\": \"Austria\", \"text\": [\"Austria:<br> 1\"], \"x\": [0.1736481785774231], \"y\": [-0.9848077297210693], \"type\": \"scatter\"}, {\"marker\": {\"size\": [199], \"sizemode\": \"area\", \"sizeref\": 0.05}, \"mode\": \"markers+text\", \"name\": \"Portugal\", \"text\": [\"Portugal:<br> 1\"], \"x\": [0.7660443782806396], \"y\": [-0.642787754535675], \"type\": \"scatter\"}], \"name\": \"2017-03-22\"}, {\"data\": [{\"marker\": {\"size\": [197], \"sizemode\": \"area\", \"sizeref\": 0.05}, \"mode\": \"markers+text\", \"name\": \"United States\", \"text\": [\"United States:<br> 3\"], \"x\": [1.0], \"y\": [6.622738357719982e-09], \"type\": \"scatter\"}, {\"marker\": {\"size\": [199], \"sizemode\": \"area\", \"sizeref\": 0.05}, \"mode\": \"markers+text\", \"name\": \"Switzerland\", \"text\": [\"Switzerland:<br> 1\"], \"x\": [0.7660444974899292], \"y\": [0.6427875757217407], \"type\": \"scatter\"}, {\"marker\": {\"size\": [199], \"sizemode\": \"area\", \"sizeref\": 0.05}, \"mode\": \"markers+text\", \"name\": \"Hungary\", \"text\": [\"Hungary:<br> 1\"], \"x\": [0.17364825308322906], \"y\": [0.9848077297210693], \"type\": \"scatter\"}, {\"marker\": {\"size\": [198], \"sizemode\": \"area\", \"sizeref\": 0.05}, \"mode\": \"markers+text\", \"name\": \"Peru\", \"text\": [\"Peru:<br> 2\"], \"x\": [-0.5], \"y\": [0.8660253882408142], \"type\": \"scatter\"}, {\"marker\": {\"size\": [199], \"sizemode\": \"area\", \"sizeref\": 0.05}, \"mode\": \"markers+text\", \"name\": \"Malaysia\", \"text\": [\"Malaysia:<br> 1\"], \"x\": [-0.9396925568580627], \"y\": [0.3420202136039734], \"type\": \"scatter\"}, {\"marker\": {\"size\": [197], \"sizemode\": \"area\", \"sizeref\": 0.05}, \"mode\": \"markers+text\", \"name\": \"Denmark\", \"text\": [\"Denmark:<br> 3\"], \"x\": [-0.9396925568580627], \"y\": [-0.3420201539993286], \"type\": \"scatter\"}, {\"marker\": {\"size\": [197], \"sizemode\": \"area\", \"sizeref\": 0.05}, \"mode\": \"markers+text\", \"name\": \"Bolivia\", \"text\": [\"Bolivia:<br> 3\"], \"x\": [-0.49999988079071045], \"y\": [-0.866025447845459], \"type\": \"scatter\"}, {\"marker\": {\"size\": [199], \"sizemode\": \"area\", \"sizeref\": 0.05}, \"mode\": \"markers+text\", \"name\": \"Austria\", \"text\": [\"Austria:<br> 1\"], \"x\": [0.1736481785774231], \"y\": [-0.9848077297210693], \"type\": \"scatter\"}, {\"marker\": {\"size\": [198], \"sizemode\": \"area\", \"sizeref\": 0.05}, \"mode\": \"markers+text\", \"name\": \"Portugal\", \"text\": [\"Portugal:<br> 2\"], \"x\": [0.7660443782806396], \"y\": [-0.642787754535675], \"type\": \"scatter\"}], \"name\": \"2017-03-23\"}, {\"data\": [{\"marker\": {\"size\": [197], \"sizemode\": \"area\", \"sizeref\": 0.05}, \"mode\": \"markers+text\", \"name\": \"United States\", \"text\": [\"United States:<br> 3\"], \"x\": [1.0], \"y\": [6.622738357719982e-09], \"type\": \"scatter\"}, {\"marker\": {\"size\": [199], \"sizemode\": \"area\", \"sizeref\": 0.05}, \"mode\": \"markers+text\", \"name\": \"Switzerland\", \"text\": [\"Switzerland:<br> 1\"], \"x\": [0.7660444974899292], \"y\": [0.6427875757217407], \"type\": \"scatter\"}, {\"marker\": {\"size\": [199], \"sizemode\": \"area\", \"sizeref\": 0.05}, \"mode\": \"markers+text\", \"name\": \"Hungary\", \"text\": [\"Hungary:<br> 1\"], \"x\": [0.17364825308322906], \"y\": [0.9848077297210693], \"type\": \"scatter\"}, {\"marker\": {\"size\": [198], \"sizemode\": \"area\", \"sizeref\": 0.05}, \"mode\": \"markers+text\", \"name\": \"Peru\", \"text\": [\"Peru:<br> 2\"], \"x\": [-0.5], \"y\": [0.8660253882408142], \"type\": \"scatter\"}, {\"marker\": {\"size\": [199], \"sizemode\": \"area\", \"sizeref\": 0.05}, \"mode\": \"markers+text\", \"name\": \"Malaysia\", \"text\": [\"Malaysia:<br> 1\"], \"x\": [-0.9396925568580627], \"y\": [0.3420202136039734], \"type\": \"scatter\"}, {\"marker\": {\"size\": [198], \"sizemode\": \"area\", \"sizeref\": 0.05}, \"mode\": \"markers+text\", \"name\": \"Denmark\", \"text\": [\"Denmark:<br> 2\"], \"x\": [-0.9396925568580627], \"y\": [-0.3420201539993286], \"type\": \"scatter\"}, {\"marker\": {\"size\": [197], \"sizemode\": \"area\", \"sizeref\": 0.05}, \"mode\": \"markers+text\", \"name\": \"Bolivia\", \"text\": [\"Bolivia:<br> 3\"], \"x\": [-0.49999988079071045], \"y\": [-0.866025447845459], \"type\": \"scatter\"}, {\"marker\": {\"size\": [199], \"sizemode\": \"area\", \"sizeref\": 0.05}, \"mode\": \"markers+text\", \"name\": \"Austria\", \"text\": [\"Austria:<br> 1\"], \"x\": [0.1736481785774231], \"y\": [-0.9848077297210693], \"type\": \"scatter\"}, {\"marker\": {\"size\": [198], \"sizemode\": \"area\", \"sizeref\": 0.05}, \"mode\": \"markers+text\", \"name\": \"Portugal\", \"text\": [\"Portugal:<br> 2\"], \"x\": [0.7660443782806396], \"y\": [-0.642787754535675], \"type\": \"scatter\"}], \"name\": \"2017-03-24\"}, {\"data\": [{\"marker\": {\"size\": [197], \"sizemode\": \"area\", \"sizeref\": 0.05}, \"mode\": \"markers+text\", \"name\": \"United States\", \"text\": [\"United States:<br> 3\"], \"x\": [1.0], \"y\": [6.622738357719982e-09], \"type\": \"scatter\"}, {\"marker\": {\"size\": [199], \"sizemode\": \"area\", \"sizeref\": 0.05}, \"mode\": \"markers+text\", \"name\": \"Switzerland\", \"text\": [\"Switzerland:<br> 1\"], \"x\": [0.7660444974899292], \"y\": [0.6427875757217407], \"type\": \"scatter\"}, {\"marker\": {\"size\": [199], \"sizemode\": \"area\", \"sizeref\": 0.05}, \"mode\": \"markers+text\", \"name\": \"Hungary\", \"text\": [\"Hungary:<br> 1\"], \"x\": [0.17364825308322906], \"y\": [0.9848077297210693], \"type\": \"scatter\"}, {\"marker\": {\"size\": [198], \"sizemode\": \"area\", \"sizeref\": 0.05}, \"mode\": \"markers+text\", \"name\": \"Peru\", \"text\": [\"Peru:<br> 2\"], \"x\": [-0.5], \"y\": [0.8660253882408142], \"type\": \"scatter\"}, {\"marker\": {\"size\": [199], \"sizemode\": \"area\", \"sizeref\": 0.05}, \"mode\": \"markers+text\", \"name\": \"Malaysia\", \"text\": [\"Malaysia:<br> 1\"], \"x\": [-0.9396925568580627], \"y\": [0.3420202136039734], \"type\": \"scatter\"}, {\"marker\": {\"size\": [198], \"sizemode\": \"area\", \"sizeref\": 0.05}, \"mode\": \"markers+text\", \"name\": \"Denmark\", \"text\": [\"Denmark:<br> 2\"], \"x\": [-0.9396925568580627], \"y\": [-0.3420201539993286], \"type\": \"scatter\"}, {\"marker\": {\"size\": [197], \"sizemode\": \"area\", \"sizeref\": 0.05}, \"mode\": \"markers+text\", \"name\": \"Bolivia\", \"text\": [\"Bolivia:<br> 3\"], \"x\": [-0.49999988079071045], \"y\": [-0.866025447845459], \"type\": \"scatter\"}, {\"marker\": {\"size\": [199], \"sizemode\": \"area\", \"sizeref\": 0.05}, \"mode\": \"markers+text\", \"name\": \"Austria\", \"text\": [\"Austria:<br> 1\"], \"x\": [0.1736481785774231], \"y\": [-0.9848077297210693], \"type\": \"scatter\"}, {\"marker\": {\"size\": [198], \"sizemode\": \"area\", \"sizeref\": 0.05}, \"mode\": \"markers+text\", \"name\": \"Portugal\", \"text\": [\"Portugal:<br> 2\"], \"x\": [0.7660443782806396], \"y\": [-0.642787754535675], \"type\": \"scatter\"}], \"name\": \"2017-03-25\"}, {\"data\": [{\"marker\": {\"size\": [197], \"sizemode\": \"area\", \"sizeref\": 0.05}, \"mode\": \"markers+text\", \"name\": \"United States\", \"text\": [\"United States:<br> 3\"], \"x\": [1.0], \"y\": [6.622738357719982e-09], \"type\": \"scatter\"}, {\"marker\": {\"size\": [199], \"sizemode\": \"area\", \"sizeref\": 0.05}, \"mode\": \"markers+text\", \"name\": \"Switzerland\", \"text\": [\"Switzerland:<br> 1\"], \"x\": [0.7660444974899292], \"y\": [0.6427875757217407], \"type\": \"scatter\"}, {\"marker\": {\"size\": [199], \"sizemode\": \"area\", \"sizeref\": 0.05}, \"mode\": \"markers+text\", \"name\": \"Hungary\", \"text\": [\"Hungary:<br> 1\"], \"x\": [0.17364825308322906], \"y\": [0.9848077297210693], \"type\": \"scatter\"}, {\"marker\": {\"size\": [198], \"sizemode\": \"area\", \"sizeref\": 0.05}, \"mode\": \"markers+text\", \"name\": \"Peru\", \"text\": [\"Peru:<br> 2\"], \"x\": [-0.5], \"y\": [0.8660253882408142], \"type\": \"scatter\"}, {\"marker\": {\"size\": [199], \"sizemode\": \"area\", \"sizeref\": 0.05}, \"mode\": \"markers+text\", \"name\": \"Malaysia\", \"text\": [\"Malaysia:<br> 1\"], \"x\": [-0.9396925568580627], \"y\": [0.3420202136039734], \"type\": \"scatter\"}, {\"marker\": {\"size\": [198], \"sizemode\": \"area\", \"sizeref\": 0.05}, \"mode\": \"markers+text\", \"name\": \"Denmark\", \"text\": [\"Denmark:<br> 2\"], \"x\": [-0.9396925568580627], \"y\": [-0.3420201539993286], \"type\": \"scatter\"}, {\"marker\": {\"size\": [197], \"sizemode\": \"area\", \"sizeref\": 0.05}, \"mode\": \"markers+text\", \"name\": \"Bolivia\", \"text\": [\"Bolivia:<br> 3\"], \"x\": [-0.49999988079071045], \"y\": [-0.866025447845459], \"type\": \"scatter\"}, {\"marker\": {\"size\": [199], \"sizemode\": \"area\", \"sizeref\": 0.05}, \"mode\": \"markers+text\", \"name\": \"Austria\", \"text\": [\"Austria:<br> 1\"], \"x\": [0.1736481785774231], \"y\": [-0.9848077297210693], \"type\": \"scatter\"}, {\"marker\": {\"size\": [198], \"sizemode\": \"area\", \"sizeref\": 0.05}, \"mode\": \"markers+text\", \"name\": \"Portugal\", \"text\": [\"Portugal:<br> 2\"], \"x\": [0.7660443782806396], \"y\": [-0.642787754535675], \"type\": \"scatter\"}], \"name\": \"2017-03-26\"}, {\"data\": [{\"marker\": {\"size\": [196], \"sizemode\": \"area\", \"sizeref\": 0.05}, \"mode\": \"markers+text\", \"name\": \"United States\", \"text\": [\"United States:<br> 4\"], \"x\": [1.0], \"y\": [6.622738357719982e-09], \"type\": \"scatter\"}, {\"marker\": {\"size\": [199], \"sizemode\": \"area\", \"sizeref\": 0.05}, \"mode\": \"markers+text\", \"name\": \"Switzerland\", \"text\": [\"Switzerland:<br> 1\"], \"x\": [0.7660444974899292], \"y\": [0.6427875757217407], \"type\": \"scatter\"}, {\"marker\": {\"size\": [199], \"sizemode\": \"area\", \"sizeref\": 0.05}, \"mode\": \"markers+text\", \"name\": \"Hungary\", \"text\": [\"Hungary:<br> 1\"], \"x\": [0.17364825308322906], \"y\": [0.9848077297210693], \"type\": \"scatter\"}, {\"marker\": {\"size\": [198], \"sizemode\": \"area\", \"sizeref\": 0.05}, \"mode\": \"markers+text\", \"name\": \"Peru\", \"text\": [\"Peru:<br> 2\"], \"x\": [-0.5], \"y\": [0.8660253882408142], \"type\": \"scatter\"}, {\"marker\": {\"size\": [199], \"sizemode\": \"area\", \"sizeref\": 0.05}, \"mode\": \"markers+text\", \"name\": \"Malaysia\", \"text\": [\"Malaysia:<br> 1\"], \"x\": [-0.9396925568580627], \"y\": [0.3420202136039734], \"type\": \"scatter\"}, {\"marker\": {\"size\": [197], \"sizemode\": \"area\", \"sizeref\": 0.05}, \"mode\": \"markers+text\", \"name\": \"Denmark\", \"text\": [\"Denmark:<br> 3\"], \"x\": [-0.9396925568580627], \"y\": [-0.3420201539993286], \"type\": \"scatter\"}, {\"marker\": {\"size\": [197], \"sizemode\": \"area\", \"sizeref\": 0.05}, \"mode\": \"markers+text\", \"name\": \"Bolivia\", \"text\": [\"Bolivia:<br> 3\"], \"x\": [-0.49999988079071045], \"y\": [-0.866025447845459], \"type\": \"scatter\"}, {\"marker\": {\"size\": [199], \"sizemode\": \"area\", \"sizeref\": 0.05}, \"mode\": \"markers+text\", \"name\": \"Austria\", \"text\": [\"Austria:<br> 1\"], \"x\": [0.1736481785774231], \"y\": [-0.9848077297210693], \"type\": \"scatter\"}, {\"marker\": {\"size\": [198], \"sizemode\": \"area\", \"sizeref\": 0.05}, \"mode\": \"markers+text\", \"name\": \"Portugal\", \"text\": [\"Portugal:<br> 2\"], \"x\": [0.7660443782806396], \"y\": [-0.642787754535675], \"type\": \"scatter\"}], \"name\": \"2017-03-27\"}, {\"data\": [{\"marker\": {\"size\": [197], \"sizemode\": \"area\", \"sizeref\": 0.05}, \"mode\": \"markers+text\", \"name\": \"United States\", \"text\": [\"United States:<br> 3\"], \"x\": [1.0], \"y\": [6.622738357719982e-09], \"type\": \"scatter\"}, {\"marker\": {\"size\": [199], \"sizemode\": \"area\", \"sizeref\": 0.05}, \"mode\": \"markers+text\", \"name\": \"Switzerland\", \"text\": [\"Switzerland:<br> 1\"], \"x\": [0.7660444974899292], \"y\": [0.6427875757217407], \"type\": \"scatter\"}, {\"marker\": {\"size\": [199], \"sizemode\": \"area\", \"sizeref\": 0.05}, \"mode\": \"markers+text\", \"name\": \"Hungary\", \"text\": [\"Hungary:<br> 1\"], \"x\": [0.17364825308322906], \"y\": [0.9848077297210693], \"type\": \"scatter\"}, {\"marker\": {\"size\": [198], \"sizemode\": \"area\", \"sizeref\": 0.05}, \"mode\": \"markers+text\", \"name\": \"Peru\", \"text\": [\"Peru:<br> 2\"], \"x\": [-0.5], \"y\": [0.8660253882408142], \"type\": \"scatter\"}, {\"marker\": {\"size\": [199], \"sizemode\": \"area\", \"sizeref\": 0.05}, \"mode\": \"markers+text\", \"name\": \"Malaysia\", \"text\": [\"Malaysia:<br> 1\"], \"x\": [-0.9396925568580627], \"y\": [0.3420202136039734], \"type\": \"scatter\"}, {\"marker\": {\"size\": [198], \"sizemode\": \"area\", \"sizeref\": 0.05}, \"mode\": \"markers+text\", \"name\": \"Denmark\", \"text\": [\"Denmark:<br> 2\"], \"x\": [-0.9396925568580627], \"y\": [-0.3420201539993286], \"type\": \"scatter\"}, {\"marker\": {\"size\": [197], \"sizemode\": \"area\", \"sizeref\": 0.05}, \"mode\": \"markers+text\", \"name\": \"Bolivia\", \"text\": [\"Bolivia:<br> 3\"], \"x\": [-0.49999988079071045], \"y\": [-0.866025447845459], \"type\": \"scatter\"}, {\"marker\": {\"size\": [199], \"sizemode\": \"area\", \"sizeref\": 0.05}, \"mode\": \"markers+text\", \"name\": \"Austria\", \"text\": [\"Austria:<br> 1\"], \"x\": [0.1736481785774231], \"y\": [-0.9848077297210693], \"type\": \"scatter\"}, {\"marker\": {\"size\": [198], \"sizemode\": \"area\", \"sizeref\": 0.05}, \"mode\": \"markers+text\", \"name\": \"Portugal\", \"text\": [\"Portugal:<br> 2\"], \"x\": [0.7660443782806396], \"y\": [-0.642787754535675], \"type\": \"scatter\"}], \"name\": \"2017-03-28\"}, {\"data\": [{\"marker\": {\"size\": [197], \"sizemode\": \"area\", \"sizeref\": 0.05}, \"mode\": \"markers+text\", \"name\": \"United States\", \"text\": [\"United States:<br> 3\"], \"x\": [1.0], \"y\": [6.622738357719982e-09], \"type\": \"scatter\"}, {\"marker\": {\"size\": [199], \"sizemode\": \"area\", \"sizeref\": 0.05}, \"mode\": \"markers+text\", \"name\": \"Switzerland\", \"text\": [\"Switzerland:<br> 1\"], \"x\": [0.7660444974899292], \"y\": [0.6427875757217407], \"type\": \"scatter\"}, {\"marker\": {\"size\": [199], \"sizemode\": \"area\", \"sizeref\": 0.05}, \"mode\": \"markers+text\", \"name\": \"Hungary\", \"text\": [\"Hungary:<br> 1\"], \"x\": [0.17364825308322906], \"y\": [0.9848077297210693], \"type\": \"scatter\"}, {\"marker\": {\"size\": [198], \"sizemode\": \"area\", \"sizeref\": 0.05}, \"mode\": \"markers+text\", \"name\": \"Peru\", \"text\": [\"Peru:<br> 2\"], \"x\": [-0.5], \"y\": [0.8660253882408142], \"type\": \"scatter\"}, {\"marker\": {\"size\": [199], \"sizemode\": \"area\", \"sizeref\": 0.05}, \"mode\": \"markers+text\", \"name\": \"Malaysia\", \"text\": [\"Malaysia:<br> 1\"], \"x\": [-0.9396925568580627], \"y\": [0.3420202136039734], \"type\": \"scatter\"}, {\"marker\": {\"size\": [198], \"sizemode\": \"area\", \"sizeref\": 0.05}, \"mode\": \"markers+text\", \"name\": \"Denmark\", \"text\": [\"Denmark:<br> 2\"], \"x\": [-0.9396925568580627], \"y\": [-0.3420201539993286], \"type\": \"scatter\"}, {\"marker\": {\"size\": [197], \"sizemode\": \"area\", \"sizeref\": 0.05}, \"mode\": \"markers+text\", \"name\": \"Bolivia\", \"text\": [\"Bolivia:<br> 3\"], \"x\": [-0.49999988079071045], \"y\": [-0.866025447845459], \"type\": \"scatter\"}, {\"marker\": {\"size\": [199], \"sizemode\": \"area\", \"sizeref\": 0.05}, \"mode\": \"markers+text\", \"name\": \"Austria\", \"text\": [\"Austria:<br> 1\"], \"x\": [0.1736481785774231], \"y\": [-0.9848077297210693], \"type\": \"scatter\"}, {\"marker\": {\"size\": [198], \"sizemode\": \"area\", \"sizeref\": 0.05}, \"mode\": \"markers+text\", \"name\": \"Portugal\", \"text\": [\"Portugal:<br> 2\"], \"x\": [0.7660443782806396], \"y\": [-0.642787754535675], \"type\": \"scatter\"}], \"name\": \"2017-03-29\"}, {\"data\": [{\"marker\": {\"size\": [197], \"sizemode\": \"area\", \"sizeref\": 0.05}, \"mode\": \"markers+text\", \"name\": \"United States\", \"text\": [\"United States:<br> 3\"], \"x\": [1.0], \"y\": [6.622738357719982e-09], \"type\": \"scatter\"}, {\"marker\": {\"size\": [199], \"sizemode\": \"area\", \"sizeref\": 0.05}, \"mode\": \"markers+text\", \"name\": \"Switzerland\", \"text\": [\"Switzerland:<br> 1\"], \"x\": [0.7660444974899292], \"y\": [0.6427875757217407], \"type\": \"scatter\"}, {\"marker\": {\"size\": [199], \"sizemode\": \"area\", \"sizeref\": 0.05}, \"mode\": \"markers+text\", \"name\": \"Hungary\", \"text\": [\"Hungary:<br> 1\"], \"x\": [0.17364825308322906], \"y\": [0.9848077297210693], \"type\": \"scatter\"}, {\"marker\": {\"size\": [198], \"sizemode\": \"area\", \"sizeref\": 0.05}, \"mode\": \"markers+text\", \"name\": \"Peru\", \"text\": [\"Peru:<br> 2\"], \"x\": [-0.5], \"y\": [0.8660253882408142], \"type\": \"scatter\"}, {\"marker\": {\"size\": [199], \"sizemode\": \"area\", \"sizeref\": 0.05}, \"mode\": \"markers+text\", \"name\": \"Malaysia\", \"text\": [\"Malaysia:<br> 1\"], \"x\": [-0.9396925568580627], \"y\": [0.3420202136039734], \"type\": \"scatter\"}, {\"marker\": {\"size\": [198], \"sizemode\": \"area\", \"sizeref\": 0.05}, \"mode\": \"markers+text\", \"name\": \"Denmark\", \"text\": [\"Denmark:<br> 2\"], \"x\": [-0.9396925568580627], \"y\": [-0.3420201539993286], \"type\": \"scatter\"}, {\"marker\": {\"size\": [197], \"sizemode\": \"area\", \"sizeref\": 0.05}, \"mode\": \"markers+text\", \"name\": \"Bolivia\", \"text\": [\"Bolivia:<br> 3\"], \"x\": [-0.49999988079071045], \"y\": [-0.866025447845459], \"type\": \"scatter\"}, {\"marker\": {\"size\": [199], \"sizemode\": \"area\", \"sizeref\": 0.05}, \"mode\": \"markers+text\", \"name\": \"Austria\", \"text\": [\"Austria:<br> 1\"], \"x\": [0.1736481785774231], \"y\": [-0.9848077297210693], \"type\": \"scatter\"}, {\"marker\": {\"size\": [198], \"sizemode\": \"area\", \"sizeref\": 0.05}, \"mode\": \"markers+text\", \"name\": \"Portugal\", \"text\": [\"Portugal:<br> 2\"], \"x\": [0.7660443782806396], \"y\": [-0.642787754535675], \"type\": \"scatter\"}], \"name\": \"2017-03-30\"}, {\"data\": [{\"marker\": {\"size\": [196], \"sizemode\": \"area\", \"sizeref\": 0.05}, \"mode\": \"markers+text\", \"name\": \"United States\", \"text\": [\"United States:<br> 4\"], \"x\": [1.0], \"y\": [6.622738357719982e-09], \"type\": \"scatter\"}, {\"marker\": {\"size\": [199], \"sizemode\": \"area\", \"sizeref\": 0.05}, \"mode\": \"markers+text\", \"name\": \"Switzerland\", \"text\": [\"Switzerland:<br> 1\"], \"x\": [0.7660444974899292], \"y\": [0.6427875757217407], \"type\": \"scatter\"}, {\"marker\": {\"size\": [199], \"sizemode\": \"area\", \"sizeref\": 0.05}, \"mode\": \"markers+text\", \"name\": \"Hungary\", \"text\": [\"Hungary:<br> 1\"], \"x\": [0.17364825308322906], \"y\": [0.9848077297210693], \"type\": \"scatter\"}, {\"marker\": {\"size\": [198], \"sizemode\": \"area\", \"sizeref\": 0.05}, \"mode\": \"markers+text\", \"name\": \"Peru\", \"text\": [\"Peru:<br> 2\"], \"x\": [-0.5], \"y\": [0.8660253882408142], \"type\": \"scatter\"}, {\"marker\": {\"size\": [199], \"sizemode\": \"area\", \"sizeref\": 0.05}, \"mode\": \"markers+text\", \"name\": \"Malaysia\", \"text\": [\"Malaysia:<br> 1\"], \"x\": [-0.9396925568580627], \"y\": [0.3420202136039734], \"type\": \"scatter\"}, {\"marker\": {\"size\": [198], \"sizemode\": \"area\", \"sizeref\": 0.05}, \"mode\": \"markers+text\", \"name\": \"Denmark\", \"text\": [\"Denmark:<br> 2\"], \"x\": [-0.9396925568580627], \"y\": [-0.3420201539993286], \"type\": \"scatter\"}, {\"marker\": {\"size\": [197], \"sizemode\": \"area\", \"sizeref\": 0.05}, \"mode\": \"markers+text\", \"name\": \"Bolivia\", \"text\": [\"Bolivia:<br> 3\"], \"x\": [-0.49999988079071045], \"y\": [-0.866025447845459], \"type\": \"scatter\"}, {\"marker\": {\"size\": [199], \"sizemode\": \"area\", \"sizeref\": 0.05}, \"mode\": \"markers+text\", \"name\": \"Austria\", \"text\": [\"Austria:<br> 1\"], \"x\": [0.1736481785774231], \"y\": [-0.9848077297210693], \"type\": \"scatter\"}, {\"marker\": {\"size\": [198], \"sizemode\": \"area\", \"sizeref\": 0.05}, \"mode\": \"markers+text\", \"name\": \"Portugal\", \"text\": [\"Portugal:<br> 2\"], \"x\": [0.7660443782806396], \"y\": [-0.642787754535675], \"type\": \"scatter\"}], \"name\": \"2017-03-31\"}, {\"data\": [{\"marker\": {\"size\": [196], \"sizemode\": \"area\", \"sizeref\": 0.05}, \"mode\": \"markers+text\", \"name\": \"United States\", \"text\": [\"United States:<br> 4\"], \"x\": [1.0], \"y\": [6.622738357719982e-09], \"type\": \"scatter\"}, {\"marker\": {\"size\": [199], \"sizemode\": \"area\", \"sizeref\": 0.05}, \"mode\": \"markers+text\", \"name\": \"Switzerland\", \"text\": [\"Switzerland:<br> 1\"], \"x\": [0.7660444974899292], \"y\": [0.6427875757217407], \"type\": \"scatter\"}, {\"marker\": {\"size\": [199], \"sizemode\": \"area\", \"sizeref\": 0.05}, \"mode\": \"markers+text\", \"name\": \"Hungary\", \"text\": [\"Hungary:<br> 1\"], \"x\": [0.17364825308322906], \"y\": [0.9848077297210693], \"type\": \"scatter\"}, {\"marker\": {\"size\": [198], \"sizemode\": \"area\", \"sizeref\": 0.05}, \"mode\": \"markers+text\", \"name\": \"Peru\", \"text\": [\"Peru:<br> 2\"], \"x\": [-0.5], \"y\": [0.8660253882408142], \"type\": \"scatter\"}, {\"marker\": {\"size\": [199], \"sizemode\": \"area\", \"sizeref\": 0.05}, \"mode\": \"markers+text\", \"name\": \"Malaysia\", \"text\": [\"Malaysia:<br> 1\"], \"x\": [-0.9396925568580627], \"y\": [0.3420202136039734], \"type\": \"scatter\"}, {\"marker\": {\"size\": [199], \"sizemode\": \"area\", \"sizeref\": 0.05}, \"mode\": \"markers+text\", \"name\": \"Denmark\", \"text\": [\"Denmark:<br> 1\"], \"x\": [-0.9396925568580627], \"y\": [-0.3420201539993286], \"type\": \"scatter\"}, {\"marker\": {\"size\": [197], \"sizemode\": \"area\", \"sizeref\": 0.05}, \"mode\": \"markers+text\", \"name\": \"Bolivia\", \"text\": [\"Bolivia:<br> 3\"], \"x\": [-0.49999988079071045], \"y\": [-0.866025447845459], \"type\": \"scatter\"}, {\"marker\": {\"size\": [199], \"sizemode\": \"area\", \"sizeref\": 0.05}, \"mode\": \"markers+text\", \"name\": \"Austria\", \"text\": [\"Austria:<br> 1\"], \"x\": [0.1736481785774231], \"y\": [-0.9848077297210693], \"type\": \"scatter\"}, {\"marker\": {\"size\": [198], \"sizemode\": \"area\", \"sizeref\": 0.05}, \"mode\": \"markers+text\", \"name\": \"Portugal\", \"text\": [\"Portugal:<br> 2\"], \"x\": [0.7660443782806396], \"y\": [-0.642787754535675], \"type\": \"scatter\"}], \"name\": \"2017-04-01\"}, {\"data\": [{\"marker\": {\"size\": [196], \"sizemode\": \"area\", \"sizeref\": 0.05}, \"mode\": \"markers+text\", \"name\": \"United States\", \"text\": [\"United States:<br> 4\"], \"x\": [1.0], \"y\": [6.622738357719982e-09], \"type\": \"scatter\"}, {\"marker\": {\"size\": [199], \"sizemode\": \"area\", \"sizeref\": 0.05}, \"mode\": \"markers+text\", \"name\": \"Switzerland\", \"text\": [\"Switzerland:<br> 1\"], \"x\": [0.7660444974899292], \"y\": [0.6427875757217407], \"type\": \"scatter\"}, {\"marker\": {\"size\": [199], \"sizemode\": \"area\", \"sizeref\": 0.05}, \"mode\": \"markers+text\", \"name\": \"Hungary\", \"text\": [\"Hungary:<br> 1\"], \"x\": [0.17364825308322906], \"y\": [0.9848077297210693], \"type\": \"scatter\"}, {\"marker\": {\"size\": [198], \"sizemode\": \"area\", \"sizeref\": 0.05}, \"mode\": \"markers+text\", \"name\": \"Peru\", \"text\": [\"Peru:<br> 2\"], \"x\": [-0.5], \"y\": [0.8660253882408142], \"type\": \"scatter\"}, {\"marker\": {\"size\": [199], \"sizemode\": \"area\", \"sizeref\": 0.05}, \"mode\": \"markers+text\", \"name\": \"Malaysia\", \"text\": [\"Malaysia:<br> 1\"], \"x\": [-0.9396925568580627], \"y\": [0.3420202136039734], \"type\": \"scatter\"}, {\"marker\": {\"size\": [199], \"sizemode\": \"area\", \"sizeref\": 0.05}, \"mode\": \"markers+text\", \"name\": \"Denmark\", \"text\": [\"Denmark:<br> 1\"], \"x\": [-0.9396925568580627], \"y\": [-0.3420201539993286], \"type\": \"scatter\"}, {\"marker\": {\"size\": [197], \"sizemode\": \"area\", \"sizeref\": 0.05}, \"mode\": \"markers+text\", \"name\": \"Bolivia\", \"text\": [\"Bolivia:<br> 3\"], \"x\": [-0.49999988079071045], \"y\": [-0.866025447845459], \"type\": \"scatter\"}, {\"marker\": {\"size\": [199], \"sizemode\": \"area\", \"sizeref\": 0.05}, \"mode\": \"markers+text\", \"name\": \"Austria\", \"text\": [\"Austria:<br> 1\"], \"x\": [0.1736481785774231], \"y\": [-0.9848077297210693], \"type\": \"scatter\"}, {\"marker\": {\"size\": [198], \"sizemode\": \"area\", \"sizeref\": 0.05}, \"mode\": \"markers+text\", \"name\": \"Portugal\", \"text\": [\"Portugal:<br> 2\"], \"x\": [0.7660443782806396], \"y\": [-0.642787754535675], \"type\": \"scatter\"}], \"name\": \"2017-04-02\"}, {\"data\": [{\"marker\": {\"size\": [196], \"sizemode\": \"area\", \"sizeref\": 0.05}, \"mode\": \"markers+text\", \"name\": \"United States\", \"text\": [\"United States:<br> 4\"], \"x\": [1.0], \"y\": [6.622738357719982e-09], \"type\": \"scatter\"}, {\"marker\": {\"size\": [199], \"sizemode\": \"area\", \"sizeref\": 0.05}, \"mode\": \"markers+text\", \"name\": \"Switzerland\", \"text\": [\"Switzerland:<br> 1\"], \"x\": [0.7660444974899292], \"y\": [0.6427875757217407], \"type\": \"scatter\"}, {\"marker\": {\"size\": [199], \"sizemode\": \"area\", \"sizeref\": 0.05}, \"mode\": \"markers+text\", \"name\": \"Hungary\", \"text\": [\"Hungary:<br> 1\"], \"x\": [0.17364825308322906], \"y\": [0.9848077297210693], \"type\": \"scatter\"}, {\"marker\": {\"size\": [198], \"sizemode\": \"area\", \"sizeref\": 0.05}, \"mode\": \"markers+text\", \"name\": \"Peru\", \"text\": [\"Peru:<br> 2\"], \"x\": [-0.5], \"y\": [0.8660253882408142], \"type\": \"scatter\"}, {\"marker\": {\"size\": [199], \"sizemode\": \"area\", \"sizeref\": 0.05}, \"mode\": \"markers+text\", \"name\": \"Malaysia\", \"text\": [\"Malaysia:<br> 1\"], \"x\": [-0.9396925568580627], \"y\": [0.3420202136039734], \"type\": \"scatter\"}, {\"marker\": {\"size\": [199], \"sizemode\": \"area\", \"sizeref\": 0.05}, \"mode\": \"markers+text\", \"name\": \"Denmark\", \"text\": [\"Denmark:<br> 1\"], \"x\": [-0.9396925568580627], \"y\": [-0.3420201539993286], \"type\": \"scatter\"}, {\"marker\": {\"size\": [197], \"sizemode\": \"area\", \"sizeref\": 0.05}, \"mode\": \"markers+text\", \"name\": \"Bolivia\", \"text\": [\"Bolivia:<br> 3\"], \"x\": [-0.49999988079071045], \"y\": [-0.866025447845459], \"type\": \"scatter\"}, {\"marker\": {\"size\": [199], \"sizemode\": \"area\", \"sizeref\": 0.05}, \"mode\": \"markers+text\", \"name\": \"Austria\", \"text\": [\"Austria:<br> 1\"], \"x\": [0.1736481785774231], \"y\": [-0.9848077297210693], \"type\": \"scatter\"}, {\"marker\": {\"size\": [198], \"sizemode\": \"area\", \"sizeref\": 0.05}, \"mode\": \"markers+text\", \"name\": \"Portugal\", \"text\": [\"Portugal:<br> 2\"], \"x\": [0.7660443782806396], \"y\": [-0.642787754535675], \"type\": \"scatter\"}], \"name\": \"2017-04-03\"}, {\"data\": [{\"marker\": {\"size\": [196], \"sizemode\": \"area\", \"sizeref\": 0.05}, \"mode\": \"markers+text\", \"name\": \"United States\", \"text\": [\"United States:<br> 4\"], \"x\": [1.0], \"y\": [6.622738357719982e-09], \"type\": \"scatter\"}, {\"marker\": {\"size\": [199], \"sizemode\": \"area\", \"sizeref\": 0.05}, \"mode\": \"markers+text\", \"name\": \"Switzerland\", \"text\": [\"Switzerland:<br> 1\"], \"x\": [0.7660444974899292], \"y\": [0.6427875757217407], \"type\": \"scatter\"}, {\"marker\": {\"size\": [199], \"sizemode\": \"area\", \"sizeref\": 0.05}, \"mode\": \"markers+text\", \"name\": \"Hungary\", \"text\": [\"Hungary:<br> 1\"], \"x\": [0.17364825308322906], \"y\": [0.9848077297210693], \"type\": \"scatter\"}, {\"marker\": {\"size\": [198], \"sizemode\": \"area\", \"sizeref\": 0.05}, \"mode\": \"markers+text\", \"name\": \"Peru\", \"text\": [\"Peru:<br> 2\"], \"x\": [-0.5], \"y\": [0.8660253882408142], \"type\": \"scatter\"}, {\"marker\": {\"size\": [199], \"sizemode\": \"area\", \"sizeref\": 0.05}, \"mode\": \"markers+text\", \"name\": \"Malaysia\", \"text\": [\"Malaysia:<br> 1\"], \"x\": [-0.9396925568580627], \"y\": [0.3420202136039734], \"type\": \"scatter\"}, {\"marker\": {\"size\": [198], \"sizemode\": \"area\", \"sizeref\": 0.05}, \"mode\": \"markers+text\", \"name\": \"Denmark\", \"text\": [\"Denmark:<br> 2\"], \"x\": [-0.9396925568580627], \"y\": [-0.3420201539993286], \"type\": \"scatter\"}, {\"marker\": {\"size\": [197], \"sizemode\": \"area\", \"sizeref\": 0.05}, \"mode\": \"markers+text\", \"name\": \"Bolivia\", \"text\": [\"Bolivia:<br> 3\"], \"x\": [-0.49999988079071045], \"y\": [-0.866025447845459], \"type\": \"scatter\"}, {\"marker\": {\"size\": [199], \"sizemode\": \"area\", \"sizeref\": 0.05}, \"mode\": \"markers+text\", \"name\": \"Austria\", \"text\": [\"Austria:<br> 1\"], \"x\": [0.1736481785774231], \"y\": [-0.9848077297210693], \"type\": \"scatter\"}, {\"marker\": {\"size\": [198], \"sizemode\": \"area\", \"sizeref\": 0.05}, \"mode\": \"markers+text\", \"name\": \"Portugal\", \"text\": [\"Portugal:<br> 2\"], \"x\": [0.7660443782806396], \"y\": [-0.642787754535675], \"type\": \"scatter\"}], \"name\": \"2017-04-04\"}, {\"data\": [{\"marker\": {\"size\": [196], \"sizemode\": \"area\", \"sizeref\": 0.05}, \"mode\": \"markers+text\", \"name\": \"United States\", \"text\": [\"United States:<br> 4\"], \"x\": [1.0], \"y\": [6.622738357719982e-09], \"type\": \"scatter\"}, {\"marker\": {\"size\": [199], \"sizemode\": \"area\", \"sizeref\": 0.05}, \"mode\": \"markers+text\", \"name\": \"Switzerland\", \"text\": [\"Switzerland:<br> 1\"], \"x\": [0.7660444974899292], \"y\": [0.6427875757217407], \"type\": \"scatter\"}, {\"marker\": {\"size\": [199], \"sizemode\": \"area\", \"sizeref\": 0.05}, \"mode\": \"markers+text\", \"name\": \"Hungary\", \"text\": [\"Hungary:<br> 1\"], \"x\": [0.17364825308322906], \"y\": [0.9848077297210693], \"type\": \"scatter\"}, {\"marker\": {\"size\": [198], \"sizemode\": \"area\", \"sizeref\": 0.05}, \"mode\": \"markers+text\", \"name\": \"Peru\", \"text\": [\"Peru:<br> 2\"], \"x\": [-0.5], \"y\": [0.8660253882408142], \"type\": \"scatter\"}, {\"marker\": {\"size\": [199], \"sizemode\": \"area\", \"sizeref\": 0.05}, \"mode\": \"markers+text\", \"name\": \"Malaysia\", \"text\": [\"Malaysia:<br> 1\"], \"x\": [-0.9396925568580627], \"y\": [0.3420202136039734], \"type\": \"scatter\"}, {\"marker\": {\"size\": [199], \"sizemode\": \"area\", \"sizeref\": 0.05}, \"mode\": \"markers+text\", \"name\": \"Denmark\", \"text\": [\"Denmark:<br> 1\"], \"x\": [-0.9396925568580627], \"y\": [-0.3420201539993286], \"type\": \"scatter\"}, {\"marker\": {\"size\": [197], \"sizemode\": \"area\", \"sizeref\": 0.05}, \"mode\": \"markers+text\", \"name\": \"Bolivia\", \"text\": [\"Bolivia:<br> 3\"], \"x\": [-0.49999988079071045], \"y\": [-0.866025447845459], \"type\": \"scatter\"}, {\"marker\": {\"size\": [199], \"sizemode\": \"area\", \"sizeref\": 0.05}, \"mode\": \"markers+text\", \"name\": \"Austria\", \"text\": [\"Austria:<br> 1\"], \"x\": [0.1736481785774231], \"y\": [-0.9848077297210693], \"type\": \"scatter\"}, {\"marker\": {\"size\": [199], \"sizemode\": \"area\", \"sizeref\": 0.05}, \"mode\": \"markers+text\", \"name\": \"Portugal\", \"text\": [\"Portugal:<br> 1\"], \"x\": [0.7660443782806396], \"y\": [-0.642787754535675], \"type\": \"scatter\"}], \"name\": \"2017-04-05\"}, {\"data\": [{\"marker\": {\"size\": [195], \"sizemode\": \"area\", \"sizeref\": 0.05}, \"mode\": \"markers+text\", \"name\": \"United States\", \"text\": [\"United States:<br> 5\"], \"x\": [1.0], \"y\": [6.622738357719982e-09], \"type\": \"scatter\"}, {\"marker\": {\"size\": [199], \"sizemode\": \"area\", \"sizeref\": 0.05}, \"mode\": \"markers+text\", \"name\": \"Switzerland\", \"text\": [\"Switzerland:<br> 1\"], \"x\": [0.7660444974899292], \"y\": [0.6427875757217407], \"type\": \"scatter\"}, {\"marker\": {\"size\": [199], \"sizemode\": \"area\", \"sizeref\": 0.05}, \"mode\": \"markers+text\", \"name\": \"Hungary\", \"text\": [\"Hungary:<br> 1\"], \"x\": [0.17364825308322906], \"y\": [0.9848077297210693], \"type\": \"scatter\"}, {\"marker\": {\"size\": [197], \"sizemode\": \"area\", \"sizeref\": 0.05}, \"mode\": \"markers+text\", \"name\": \"Peru\", \"text\": [\"Peru:<br> 3\"], \"x\": [-0.5], \"y\": [0.8660253882408142], \"type\": \"scatter\"}, {\"marker\": {\"size\": [199], \"sizemode\": \"area\", \"sizeref\": 0.05}, \"mode\": \"markers+text\", \"name\": \"Malaysia\", \"text\": [\"Malaysia:<br> 1\"], \"x\": [-0.9396925568580627], \"y\": [0.3420202136039734], \"type\": \"scatter\"}, {\"marker\": {\"size\": [199], \"sizemode\": \"area\", \"sizeref\": 0.05}, \"mode\": \"markers+text\", \"name\": \"Denmark\", \"text\": [\"Denmark:<br> 1\"], \"x\": [-0.9396925568580627], \"y\": [-0.3420201539993286], \"type\": \"scatter\"}, {\"marker\": {\"size\": [197], \"sizemode\": \"area\", \"sizeref\": 0.05}, \"mode\": \"markers+text\", \"name\": \"Bolivia\", \"text\": [\"Bolivia:<br> 3\"], \"x\": [-0.49999988079071045], \"y\": [-0.866025447845459], \"type\": \"scatter\"}, {\"marker\": {\"size\": [199], \"sizemode\": \"area\", \"sizeref\": 0.05}, \"mode\": \"markers+text\", \"name\": \"Austria\", \"text\": [\"Austria:<br> 1\"], \"x\": [0.1736481785774231], \"y\": [-0.9848077297210693], \"type\": \"scatter\"}, {\"marker\": {\"size\": [198], \"sizemode\": \"area\", \"sizeref\": 0.05}, \"mode\": \"markers+text\", \"name\": \"Portugal\", \"text\": [\"Portugal:<br> 2\"], \"x\": [0.7660443782806396], \"y\": [-0.642787754535675], \"type\": \"scatter\"}], \"name\": \"2017-04-06\"}, {\"data\": [{\"marker\": {\"size\": [195], \"sizemode\": \"area\", \"sizeref\": 0.05}, \"mode\": \"markers+text\", \"name\": \"United States\", \"text\": [\"United States:<br> 5\"], \"x\": [1.0], \"y\": [6.622738357719982e-09], \"type\": \"scatter\"}, {\"marker\": {\"size\": [199], \"sizemode\": \"area\", \"sizeref\": 0.05}, \"mode\": \"markers+text\", \"name\": \"Switzerland\", \"text\": [\"Switzerland:<br> 1\"], \"x\": [0.7660444974899292], \"y\": [0.6427875757217407], \"type\": \"scatter\"}, {\"marker\": {\"size\": [199], \"sizemode\": \"area\", \"sizeref\": 0.05}, \"mode\": \"markers+text\", \"name\": \"Hungary\", \"text\": [\"Hungary:<br> 1\"], \"x\": [0.17364825308322906], \"y\": [0.9848077297210693], \"type\": \"scatter\"}, {\"marker\": {\"size\": [196], \"sizemode\": \"area\", \"sizeref\": 0.05}, \"mode\": \"markers+text\", \"name\": \"Peru\", \"text\": [\"Peru:<br> 4\"], \"x\": [-0.5], \"y\": [0.8660253882408142], \"type\": \"scatter\"}, {\"marker\": {\"size\": [198], \"sizemode\": \"area\", \"sizeref\": 0.05}, \"mode\": \"markers+text\", \"name\": \"Malaysia\", \"text\": [\"Malaysia:<br> 2\"], \"x\": [-0.9396925568580627], \"y\": [0.3420202136039734], \"type\": \"scatter\"}, {\"marker\": {\"size\": [197], \"sizemode\": \"area\", \"sizeref\": 0.05}, \"mode\": \"markers+text\", \"name\": \"Denmark\", \"text\": [\"Denmark:<br> 3\"], \"x\": [-0.9396925568580627], \"y\": [-0.3420201539993286], \"type\": \"scatter\"}, {\"marker\": {\"size\": [197], \"sizemode\": \"area\", \"sizeref\": 0.05}, \"mode\": \"markers+text\", \"name\": \"Bolivia\", \"text\": [\"Bolivia:<br> 3\"], \"x\": [-0.49999988079071045], \"y\": [-0.866025447845459], \"type\": \"scatter\"}, {\"marker\": {\"size\": [199], \"sizemode\": \"area\", \"sizeref\": 0.05}, \"mode\": \"markers+text\", \"name\": \"Austria\", \"text\": [\"Austria:<br> 1\"], \"x\": [0.1736481785774231], \"y\": [-0.9848077297210693], \"type\": \"scatter\"}, {\"marker\": {\"size\": [198], \"sizemode\": \"area\", \"sizeref\": 0.05}, \"mode\": \"markers+text\", \"name\": \"Portugal\", \"text\": [\"Portugal:<br> 2\"], \"x\": [0.7660443782806396], \"y\": [-0.642787754535675], \"type\": \"scatter\"}], \"name\": \"2017-04-07\"}, {\"data\": [{\"marker\": {\"size\": [195], \"sizemode\": \"area\", \"sizeref\": 0.05}, \"mode\": \"markers+text\", \"name\": \"United States\", \"text\": [\"United States:<br> 5\"], \"x\": [1.0], \"y\": [6.622738357719982e-09], \"type\": \"scatter\"}, {\"marker\": {\"size\": [199], \"sizemode\": \"area\", \"sizeref\": 0.05}, \"mode\": \"markers+text\", \"name\": \"Switzerland\", \"text\": [\"Switzerland:<br> 1\"], \"x\": [0.7660444974899292], \"y\": [0.6427875757217407], \"type\": \"scatter\"}, {\"marker\": {\"size\": [199], \"sizemode\": \"area\", \"sizeref\": 0.05}, \"mode\": \"markers+text\", \"name\": \"Hungary\", \"text\": [\"Hungary:<br> 1\"], \"x\": [0.17364825308322906], \"y\": [0.9848077297210693], \"type\": \"scatter\"}, {\"marker\": {\"size\": [198], \"sizemode\": \"area\", \"sizeref\": 0.05}, \"mode\": \"markers+text\", \"name\": \"Peru\", \"text\": [\"Peru:<br> 2\"], \"x\": [-0.5], \"y\": [0.8660253882408142], \"type\": \"scatter\"}, {\"marker\": {\"size\": [198], \"sizemode\": \"area\", \"sizeref\": 0.05}, \"mode\": \"markers+text\", \"name\": \"Malaysia\", \"text\": [\"Malaysia:<br> 2\"], \"x\": [-0.9396925568580627], \"y\": [0.3420202136039734], \"type\": \"scatter\"}, {\"marker\": {\"size\": [198], \"sizemode\": \"area\", \"sizeref\": 0.05}, \"mode\": \"markers+text\", \"name\": \"Denmark\", \"text\": [\"Denmark:<br> 2\"], \"x\": [-0.9396925568580627], \"y\": [-0.3420201539993286], \"type\": \"scatter\"}, {\"marker\": {\"size\": [197], \"sizemode\": \"area\", \"sizeref\": 0.05}, \"mode\": \"markers+text\", \"name\": \"Bolivia\", \"text\": [\"Bolivia:<br> 3\"], \"x\": [-0.49999988079071045], \"y\": [-0.866025447845459], \"type\": \"scatter\"}, {\"marker\": {\"size\": [199], \"sizemode\": \"area\", \"sizeref\": 0.05}, \"mode\": \"markers+text\", \"name\": \"Austria\", \"text\": [\"Austria:<br> 1\"], \"x\": [0.1736481785774231], \"y\": [-0.9848077297210693], \"type\": \"scatter\"}, {\"marker\": {\"size\": [198], \"sizemode\": \"area\", \"sizeref\": 0.05}, \"mode\": \"markers+text\", \"name\": \"Portugal\", \"text\": [\"Portugal:<br> 2\"], \"x\": [0.7660443782806396], \"y\": [-0.642787754535675], \"type\": \"scatter\"}], \"name\": \"2017-04-08\"}, {\"data\": [{\"marker\": {\"size\": [194], \"sizemode\": \"area\", \"sizeref\": 0.05}, \"mode\": \"markers+text\", \"name\": \"United States\", \"text\": [\"United States:<br> 6\"], \"x\": [1.0], \"y\": [6.622738357719982e-09], \"type\": \"scatter\"}, {\"marker\": {\"size\": [199], \"sizemode\": \"area\", \"sizeref\": 0.05}, \"mode\": \"markers+text\", \"name\": \"Switzerland\", \"text\": [\"Switzerland:<br> 1\"], \"x\": [0.7660444974899292], \"y\": [0.6427875757217407], \"type\": \"scatter\"}, {\"marker\": {\"size\": [199], \"sizemode\": \"area\", \"sizeref\": 0.05}, \"mode\": \"markers+text\", \"name\": \"Hungary\", \"text\": [\"Hungary:<br> 1\"], \"x\": [0.17364825308322906], \"y\": [0.9848077297210693], \"type\": \"scatter\"}, {\"marker\": {\"size\": [198], \"sizemode\": \"area\", \"sizeref\": 0.05}, \"mode\": \"markers+text\", \"name\": \"Peru\", \"text\": [\"Peru:<br> 2\"], \"x\": [-0.5], \"y\": [0.8660253882408142], \"type\": \"scatter\"}, {\"marker\": {\"size\": [198], \"sizemode\": \"area\", \"sizeref\": 0.05}, \"mode\": \"markers+text\", \"name\": \"Malaysia\", \"text\": [\"Malaysia:<br> 2\"], \"x\": [-0.9396925568580627], \"y\": [0.3420202136039734], \"type\": \"scatter\"}, {\"marker\": {\"size\": [198], \"sizemode\": \"area\", \"sizeref\": 0.05}, \"mode\": \"markers+text\", \"name\": \"Denmark\", \"text\": [\"Denmark:<br> 2\"], \"x\": [-0.9396925568580627], \"y\": [-0.3420201539993286], \"type\": \"scatter\"}, {\"marker\": {\"size\": [197], \"sizemode\": \"area\", \"sizeref\": 0.05}, \"mode\": \"markers+text\", \"name\": \"Bolivia\", \"text\": [\"Bolivia:<br> 3\"], \"x\": [-0.49999988079071045], \"y\": [-0.866025447845459], \"type\": \"scatter\"}, {\"marker\": {\"size\": [199], \"sizemode\": \"area\", \"sizeref\": 0.05}, \"mode\": \"markers+text\", \"name\": \"Austria\", \"text\": [\"Austria:<br> 1\"], \"x\": [0.1736481785774231], \"y\": [-0.9848077297210693], \"type\": \"scatter\"}, {\"marker\": {\"size\": [198], \"sizemode\": \"area\", \"sizeref\": 0.05}, \"mode\": \"markers+text\", \"name\": \"Portugal\", \"text\": [\"Portugal:<br> 2\"], \"x\": [0.7660443782806396], \"y\": [-0.642787754535675], \"type\": \"scatter\"}], \"name\": \"2017-04-09\"}, {\"data\": [{\"marker\": {\"size\": [195], \"sizemode\": \"area\", \"sizeref\": 0.05}, \"mode\": \"markers+text\", \"name\": \"United States\", \"text\": [\"United States:<br> 5\"], \"x\": [1.0], \"y\": [6.622738357719982e-09], \"type\": \"scatter\"}, {\"marker\": {\"size\": [199], \"sizemode\": \"area\", \"sizeref\": 0.05}, \"mode\": \"markers+text\", \"name\": \"Switzerland\", \"text\": [\"Switzerland:<br> 1\"], \"x\": [0.7660444974899292], \"y\": [0.6427875757217407], \"type\": \"scatter\"}, {\"marker\": {\"size\": [199], \"sizemode\": \"area\", \"sizeref\": 0.05}, \"mode\": \"markers+text\", \"name\": \"Hungary\", \"text\": [\"Hungary:<br> 1\"], \"x\": [0.17364825308322906], \"y\": [0.9848077297210693], \"type\": \"scatter\"}, {\"marker\": {\"size\": [197], \"sizemode\": \"area\", \"sizeref\": 0.05}, \"mode\": \"markers+text\", \"name\": \"Peru\", \"text\": [\"Peru:<br> 3\"], \"x\": [-0.5], \"y\": [0.8660253882408142], \"type\": \"scatter\"}, {\"marker\": {\"size\": [198], \"sizemode\": \"area\", \"sizeref\": 0.05}, \"mode\": \"markers+text\", \"name\": \"Malaysia\", \"text\": [\"Malaysia:<br> 2\"], \"x\": [-0.9396925568580627], \"y\": [0.3420202136039734], \"type\": \"scatter\"}, {\"marker\": {\"size\": [198], \"sizemode\": \"area\", \"sizeref\": 0.05}, \"mode\": \"markers+text\", \"name\": \"Denmark\", \"text\": [\"Denmark:<br> 2\"], \"x\": [-0.9396925568580627], \"y\": [-0.3420201539993286], \"type\": \"scatter\"}, {\"marker\": {\"size\": [197], \"sizemode\": \"area\", \"sizeref\": 0.05}, \"mode\": \"markers+text\", \"name\": \"Bolivia\", \"text\": [\"Bolivia:<br> 3\"], \"x\": [-0.49999988079071045], \"y\": [-0.866025447845459], \"type\": \"scatter\"}, {\"marker\": {\"size\": [199], \"sizemode\": \"area\", \"sizeref\": 0.05}, \"mode\": \"markers+text\", \"name\": \"Austria\", \"text\": [\"Austria:<br> 1\"], \"x\": [0.1736481785774231], \"y\": [-0.9848077297210693], \"type\": \"scatter\"}, {\"marker\": {\"size\": [198], \"sizemode\": \"area\", \"sizeref\": 0.05}, \"mode\": \"markers+text\", \"name\": \"Portugal\", \"text\": [\"Portugal:<br> 2\"], \"x\": [0.7660443782806396], \"y\": [-0.642787754535675], \"type\": \"scatter\"}], \"name\": \"2017-04-10\"}, {\"data\": [{\"marker\": {\"size\": [195], \"sizemode\": \"area\", \"sizeref\": 0.05}, \"mode\": \"markers+text\", \"name\": \"United States\", \"text\": [\"United States:<br> 5\"], \"x\": [1.0], \"y\": [6.622738357719982e-09], \"type\": \"scatter\"}, {\"marker\": {\"size\": [199], \"sizemode\": \"area\", \"sizeref\": 0.05}, \"mode\": \"markers+text\", \"name\": \"Switzerland\", \"text\": [\"Switzerland:<br> 1\"], \"x\": [0.7660444974899292], \"y\": [0.6427875757217407], \"type\": \"scatter\"}, {\"marker\": {\"size\": [199], \"sizemode\": \"area\", \"sizeref\": 0.05}, \"mode\": \"markers+text\", \"name\": \"Hungary\", \"text\": [\"Hungary:<br> 1\"], \"x\": [0.17364825308322906], \"y\": [0.9848077297210693], \"type\": \"scatter\"}, {\"marker\": {\"size\": [197], \"sizemode\": \"area\", \"sizeref\": 0.05}, \"mode\": \"markers+text\", \"name\": \"Peru\", \"text\": [\"Peru:<br> 3\"], \"x\": [-0.5], \"y\": [0.8660253882408142], \"type\": \"scatter\"}, {\"marker\": {\"size\": [198], \"sizemode\": \"area\", \"sizeref\": 0.05}, \"mode\": \"markers+text\", \"name\": \"Malaysia\", \"text\": [\"Malaysia:<br> 2\"], \"x\": [-0.9396925568580627], \"y\": [0.3420202136039734], \"type\": \"scatter\"}, {\"marker\": {\"size\": [198], \"sizemode\": \"area\", \"sizeref\": 0.05}, \"mode\": \"markers+text\", \"name\": \"Denmark\", \"text\": [\"Denmark:<br> 2\"], \"x\": [-0.9396925568580627], \"y\": [-0.3420201539993286], \"type\": \"scatter\"}, {\"marker\": {\"size\": [197], \"sizemode\": \"area\", \"sizeref\": 0.05}, \"mode\": \"markers+text\", \"name\": \"Bolivia\", \"text\": [\"Bolivia:<br> 3\"], \"x\": [-0.49999988079071045], \"y\": [-0.866025447845459], \"type\": \"scatter\"}, {\"marker\": {\"size\": [199], \"sizemode\": \"area\", \"sizeref\": 0.05}, \"mode\": \"markers+text\", \"name\": \"Austria\", \"text\": [\"Austria:<br> 1\"], \"x\": [0.1736481785774231], \"y\": [-0.9848077297210693], \"type\": \"scatter\"}, {\"marker\": {\"size\": [198], \"sizemode\": \"area\", \"sizeref\": 0.05}, \"mode\": \"markers+text\", \"name\": \"Portugal\", \"text\": [\"Portugal:<br> 2\"], \"x\": [0.7660443782806396], \"y\": [-0.642787754535675], \"type\": \"scatter\"}], \"name\": \"2017-04-11\"}, {\"data\": [{\"marker\": {\"size\": [195], \"sizemode\": \"area\", \"sizeref\": 0.05}, \"mode\": \"markers+text\", \"name\": \"United States\", \"text\": [\"United States:<br> 5\"], \"x\": [1.0], \"y\": [6.622738357719982e-09], \"type\": \"scatter\"}, {\"marker\": {\"size\": [199], \"sizemode\": \"area\", \"sizeref\": 0.05}, \"mode\": \"markers+text\", \"name\": \"Switzerland\", \"text\": [\"Switzerland:<br> 1\"], \"x\": [0.7660444974899292], \"y\": [0.6427875757217407], \"type\": \"scatter\"}, {\"marker\": {\"size\": [199], \"sizemode\": \"area\", \"sizeref\": 0.05}, \"mode\": \"markers+text\", \"name\": \"Hungary\", \"text\": [\"Hungary:<br> 1\"], \"x\": [0.17364825308322906], \"y\": [0.9848077297210693], \"type\": \"scatter\"}, {\"marker\": {\"size\": [197], \"sizemode\": \"area\", \"sizeref\": 0.05}, \"mode\": \"markers+text\", \"name\": \"Peru\", \"text\": [\"Peru:<br> 3\"], \"x\": [-0.5], \"y\": [0.8660253882408142], \"type\": \"scatter\"}, {\"marker\": {\"size\": [198], \"sizemode\": \"area\", \"sizeref\": 0.05}, \"mode\": \"markers+text\", \"name\": \"Malaysia\", \"text\": [\"Malaysia:<br> 2\"], \"x\": [-0.9396925568580627], \"y\": [0.3420202136039734], \"type\": \"scatter\"}, {\"marker\": {\"size\": [198], \"sizemode\": \"area\", \"sizeref\": 0.05}, \"mode\": \"markers+text\", \"name\": \"Denmark\", \"text\": [\"Denmark:<br> 2\"], \"x\": [-0.9396925568580627], \"y\": [-0.3420201539993286], \"type\": \"scatter\"}, {\"marker\": {\"size\": [197], \"sizemode\": \"area\", \"sizeref\": 0.05}, \"mode\": \"markers+text\", \"name\": \"Bolivia\", \"text\": [\"Bolivia:<br> 3\"], \"x\": [-0.49999988079071045], \"y\": [-0.866025447845459], \"type\": \"scatter\"}, {\"marker\": {\"size\": [199], \"sizemode\": \"area\", \"sizeref\": 0.05}, \"mode\": \"markers+text\", \"name\": \"Austria\", \"text\": [\"Austria:<br> 1\"], \"x\": [0.1736481785774231], \"y\": [-0.9848077297210693], \"type\": \"scatter\"}, {\"marker\": {\"size\": [198], \"sizemode\": \"area\", \"sizeref\": 0.05}, \"mode\": \"markers+text\", \"name\": \"Portugal\", \"text\": [\"Portugal:<br> 2\"], \"x\": [0.7660443782806396], \"y\": [-0.642787754535675], \"type\": \"scatter\"}], \"name\": \"2017-04-12\"}, {\"data\": [{\"marker\": {\"size\": [194], \"sizemode\": \"area\", \"sizeref\": 0.05}, \"mode\": \"markers+text\", \"name\": \"United States\", \"text\": [\"United States:<br> 6\"], \"x\": [1.0], \"y\": [6.622738357719982e-09], \"type\": \"scatter\"}, {\"marker\": {\"size\": [199], \"sizemode\": \"area\", \"sizeref\": 0.05}, \"mode\": \"markers+text\", \"name\": \"Switzerland\", \"text\": [\"Switzerland:<br> 1\"], \"x\": [0.7660444974899292], \"y\": [0.6427875757217407], \"type\": \"scatter\"}, {\"marker\": {\"size\": [199], \"sizemode\": \"area\", \"sizeref\": 0.05}, \"mode\": \"markers+text\", \"name\": \"Hungary\", \"text\": [\"Hungary:<br> 1\"], \"x\": [0.17364825308322906], \"y\": [0.9848077297210693], \"type\": \"scatter\"}, {\"marker\": {\"size\": [198], \"sizemode\": \"area\", \"sizeref\": 0.05}, \"mode\": \"markers+text\", \"name\": \"Peru\", \"text\": [\"Peru:<br> 2\"], \"x\": [-0.5], \"y\": [0.8660253882408142], \"type\": \"scatter\"}, {\"marker\": {\"size\": [198], \"sizemode\": \"area\", \"sizeref\": 0.05}, \"mode\": \"markers+text\", \"name\": \"Malaysia\", \"text\": [\"Malaysia:<br> 2\"], \"x\": [-0.9396925568580627], \"y\": [0.3420202136039734], \"type\": \"scatter\"}, {\"marker\": {\"size\": [198], \"sizemode\": \"area\", \"sizeref\": 0.05}, \"mode\": \"markers+text\", \"name\": \"Denmark\", \"text\": [\"Denmark:<br> 2\"], \"x\": [-0.9396925568580627], \"y\": [-0.3420201539993286], \"type\": \"scatter\"}, {\"marker\": {\"size\": [197], \"sizemode\": \"area\", \"sizeref\": 0.05}, \"mode\": \"markers+text\", \"name\": \"Bolivia\", \"text\": [\"Bolivia:<br> 3\"], \"x\": [-0.49999988079071045], \"y\": [-0.866025447845459], \"type\": \"scatter\"}, {\"marker\": {\"size\": [199], \"sizemode\": \"area\", \"sizeref\": 0.05}, \"mode\": \"markers+text\", \"name\": \"Austria\", \"text\": [\"Austria:<br> 1\"], \"x\": [0.1736481785774231], \"y\": [-0.9848077297210693], \"type\": \"scatter\"}, {\"marker\": {\"size\": [198], \"sizemode\": \"area\", \"sizeref\": 0.05}, \"mode\": \"markers+text\", \"name\": \"Portugal\", \"text\": [\"Portugal:<br> 2\"], \"x\": [0.7660443782806396], \"y\": [-0.642787754535675], \"type\": \"scatter\"}], \"name\": \"2017-04-13\"}, {\"data\": [{\"marker\": {\"size\": [181], \"sizemode\": \"area\", \"sizeref\": 0.05}, \"mode\": \"markers+text\", \"name\": \"United States\", \"text\": [\"United States:<br> 19\"], \"x\": [1.0], \"y\": [6.622738357719982e-09], \"type\": \"scatter\"}, {\"marker\": {\"size\": [199], \"sizemode\": \"area\", \"sizeref\": 0.05}, \"mode\": \"markers+text\", \"name\": \"Switzerland\", \"text\": [\"Switzerland:<br> 1\"], \"x\": [0.7660444974899292], \"y\": [0.6427875757217407], \"type\": \"scatter\"}, {\"marker\": {\"size\": [199], \"sizemode\": \"area\", \"sizeref\": 0.05}, \"mode\": \"markers+text\", \"name\": \"Hungary\", \"text\": [\"Hungary:<br> 1\"], \"x\": [0.17364825308322906], \"y\": [0.9848077297210693], \"type\": \"scatter\"}, {\"marker\": {\"size\": [198], \"sizemode\": \"area\", \"sizeref\": 0.05}, \"mode\": \"markers+text\", \"name\": \"Peru\", \"text\": [\"Peru:<br> 2\"], \"x\": [-0.5], \"y\": [0.8660253882408142], \"type\": \"scatter\"}, {\"marker\": {\"size\": [198], \"sizemode\": \"area\", \"sizeref\": 0.05}, \"mode\": \"markers+text\", \"name\": \"Malaysia\", \"text\": [\"Malaysia:<br> 2\"], \"x\": [-0.9396925568580627], \"y\": [0.3420202136039734], \"type\": \"scatter\"}, {\"marker\": {\"size\": [198], \"sizemode\": \"area\", \"sizeref\": 0.05}, \"mode\": \"markers+text\", \"name\": \"Denmark\", \"text\": [\"Denmark:<br> 2\"], \"x\": [-0.9396925568580627], \"y\": [-0.3420201539993286], \"type\": \"scatter\"}, {\"marker\": {\"size\": [197], \"sizemode\": \"area\", \"sizeref\": 0.05}, \"mode\": \"markers+text\", \"name\": \"Bolivia\", \"text\": [\"Bolivia:<br> 3\"], \"x\": [-0.49999988079071045], \"y\": [-0.866025447845459], \"type\": \"scatter\"}, {\"marker\": {\"size\": [199], \"sizemode\": \"area\", \"sizeref\": 0.05}, \"mode\": \"markers+text\", \"name\": \"Austria\", \"text\": [\"Austria:<br> 1\"], \"x\": [0.1736481785774231], \"y\": [-0.9848077297210693], \"type\": \"scatter\"}, {\"marker\": {\"size\": [197], \"sizemode\": \"area\", \"sizeref\": 0.05}, \"mode\": \"markers+text\", \"name\": \"Portugal\", \"text\": [\"Portugal:<br> 3\"], \"x\": [0.7660443782806396], \"y\": [-0.642787754535675], \"type\": \"scatter\"}], \"name\": \"2017-04-14\"}, {\"data\": [{\"marker\": {\"size\": [180], \"sizemode\": \"area\", \"sizeref\": 0.05}, \"mode\": \"markers+text\", \"name\": \"United States\", \"text\": [\"United States:<br> 20\"], \"x\": [1.0], \"y\": [6.622738357719982e-09], \"type\": \"scatter\"}, {\"marker\": {\"size\": [199], \"sizemode\": \"area\", \"sizeref\": 0.05}, \"mode\": \"markers+text\", \"name\": \"Switzerland\", \"text\": [\"Switzerland:<br> 1\"], \"x\": [0.7660444974899292], \"y\": [0.6427875757217407], \"type\": \"scatter\"}, {\"marker\": {\"size\": [199], \"sizemode\": \"area\", \"sizeref\": 0.05}, \"mode\": \"markers+text\", \"name\": \"Hungary\", \"text\": [\"Hungary:<br> 1\"], \"x\": [0.17364825308322906], \"y\": [0.9848077297210693], \"type\": \"scatter\"}, {\"marker\": {\"size\": [197], \"sizemode\": \"area\", \"sizeref\": 0.05}, \"mode\": \"markers+text\", \"name\": \"Peru\", \"text\": [\"Peru:<br> 3\"], \"x\": [-0.5], \"y\": [0.8660253882408142], \"type\": \"scatter\"}, {\"marker\": {\"size\": [199], \"sizemode\": \"area\", \"sizeref\": 0.05}, \"mode\": \"markers+text\", \"name\": \"Malaysia\", \"text\": [\"Malaysia:<br> 1\"], \"x\": [-0.9396925568580627], \"y\": [0.3420202136039734], \"type\": \"scatter\"}, {\"marker\": {\"size\": [198], \"sizemode\": \"area\", \"sizeref\": 0.05}, \"mode\": \"markers+text\", \"name\": \"Denmark\", \"text\": [\"Denmark:<br> 2\"], \"x\": [-0.9396925568580627], \"y\": [-0.3420201539993286], \"type\": \"scatter\"}, {\"marker\": {\"size\": [197], \"sizemode\": \"area\", \"sizeref\": 0.05}, \"mode\": \"markers+text\", \"name\": \"Bolivia\", \"text\": [\"Bolivia:<br> 3\"], \"x\": [-0.49999988079071045], \"y\": [-0.866025447845459], \"type\": \"scatter\"}, {\"marker\": {\"size\": [199], \"sizemode\": \"area\", \"sizeref\": 0.05}, \"mode\": \"markers+text\", \"name\": \"Austria\", \"text\": [\"Austria:<br> 1\"], \"x\": [0.1736481785774231], \"y\": [-0.9848077297210693], \"type\": \"scatter\"}, {\"marker\": {\"size\": [197], \"sizemode\": \"area\", \"sizeref\": 0.05}, \"mode\": \"markers+text\", \"name\": \"Portugal\", \"text\": [\"Portugal:<br> 3\"], \"x\": [0.7660443782806396], \"y\": [-0.642787754535675], \"type\": \"scatter\"}], \"name\": \"2017-04-15\"}]);}).then(function(){Plotly.animate('c1d5258a-546e-4745-80a1-aff788808940');})\n",
       "    }\n",
       "        });</script><script type=\"text/javascript\">window.addEventListener(\"resize\", function(){if (document.getElementById(\"c1d5258a-546e-4745-80a1-aff788808940\")) {window._Plotly.Plots.resize(document.getElementById(\"c1d5258a-546e-4745-80a1-aff788808940\"));};})</script>"
      ],
      "text/vnd.plotly.v1+html": [
       "<div id=\"c1d5258a-546e-4745-80a1-aff788808940\" style=\"height: 525px; width: 100%;\" class=\"plotly-graph-div\"></div><script type=\"text/javascript\">require([\"plotly\"], function(Plotly) { window.PLOTLYENV=window.PLOTLYENV || {};window.PLOTLYENV.BASE_URL=\"https://plot.ly\";\n",
       "    if (document.getElementById(\"c1d5258a-546e-4745-80a1-aff788808940\")) {\n",
       "        Plotly.plot(\n",
       "            'c1d5258a-546e-4745-80a1-aff788808940',\n",
       "            [{\"marker\": {\"size\": [199], \"sizemode\": \"area\", \"sizeref\": 0.2}, \"mode\": \"markers+text\", \"name\": \"United States\", \"text\": [\"United States:<br> 1\"], \"x\": [-0.9727184908692927], \"y\": [0.31122110953500615], \"type\": \"scatter\", \"uid\": \"c54a0506-5287-41aa-a052-f9c74294a9df\"}, {\"marker\": {\"size\": [199], \"sizemode\": \"area\", \"sizeref\": 0.2}, \"mode\": \"markers+text\", \"name\": \"Switzerland\", \"text\": [\"Switzerland:<br> 1\"], \"x\": [1.0], \"y\": [-0.002843251314555322], \"type\": \"scatter\", \"uid\": \"6e79338f-d99c-4d6d-87ff-526ed785d363\"}, {\"marker\": {\"size\": [199], \"sizemode\": \"area\", \"sizeref\": 0.2}, \"mode\": \"markers+text\", \"name\": \"Hungary\", \"text\": [\"Hungary:<br> 1\"], \"x\": [0.7605784698399345], \"y\": [0.6643286343828627], \"type\": \"scatter\", \"uid\": \"a7e17b3a-7292-4a11-b22c-2655f951334c\"}, {\"marker\": {\"size\": [181], \"sizemode\": \"area\", \"sizeref\": 0.2}, \"mode\": \"markers+text\", \"name\": \"Peru\", \"text\": [\"Peru:<br> 19\"], \"x\": [-0.9580682865544582], \"y\": [-0.44091557496873846], \"type\": \"scatter\", \"uid\": \"d0ddfd04-9eb5-449f-97c6-df0a29c611ac\"}, {\"marker\": {\"size\": [199], \"sizemode\": \"area\", \"sizeref\": 0.2}, \"mode\": \"markers+text\", \"name\": \"Malaysia\", \"text\": [\"Malaysia:<br> 1\"], \"x\": [0.7810581837481054], \"y\": [-0.6831549483891963], \"type\": \"scatter\", \"uid\": \"0ad5a1de-4b17-45bf-9337-1d0541170f4a\"}, {\"marker\": {\"size\": [199], \"sizemode\": \"area\", \"sizeref\": 0.2}, \"mode\": \"markers+text\", \"name\": \"Denmark\", \"text\": [\"Denmark:<br> 1\"], \"x\": [-0.5205505053977201], \"y\": [0.8854764574515823], \"type\": \"scatter\", \"uid\": \"0e22e018-3d63-47e2-8324-98d299049d3c\"}, {\"marker\": {\"size\": [185], \"sizemode\": \"area\", \"sizeref\": 0.2}, \"mode\": \"markers+text\", \"name\": \"Bolivia\", \"text\": [\"Bolivia:<br> 15\"], \"x\": [-0.4338427746903296], \"y\": [-0.887584282087857], \"type\": \"scatter\", \"uid\": \"440ac07e-a50b-4c7e-899b-be57cfa7cf17\"}, {\"marker\": {\"size\": [198], \"sizemode\": \"area\", \"sizeref\": 0.2}, \"mode\": \"markers+text\", \"name\": \"Austria\", \"text\": [\"Austria:<br> 2\"], \"x\": [0.1845688413887775], \"y\": [-0.8401672465167234], \"type\": \"scatter\", \"uid\": \"4ef07689-4022-4ce8-809b-4cc22fc27414\"}, {\"marker\": {\"size\": [199], \"sizemode\": \"area\", \"sizeref\": 0.2}, \"mode\": \"markers+text\", \"name\": \"Portugal\", \"text\": [\"Portugal:<br> 1\"], \"x\": [0.15897456253498307], \"y\": [0.9936391019076193], \"type\": \"scatter\", \"uid\": \"e91a0bfb-8f8c-430f-af26-18abfb7c63d8\"}],\n",
       "            {\"hovermode\": \"closest\", \"sliders\": [{\"active\": 0, \"currentvalue\": {\"font\": {\"size\": 20}, \"prefix\": \"Day:\", \"visible\": true, \"xanchor\": \"right\"}, \"len\": 0.9, \"pad\": {\"b\": 10, \"t\": 50}, \"steps\": [{\"args\": [[\"2017-01-06\"], {\"frame\": {\"duration\": 300, \"redraw\": false}, \"mode\": \"immediate\", \"transition\": {\"duration\": 300}}], \"label\": \"2017-01-06\", \"method\": \"animate\"}, {\"args\": [[\"2017-01-07\"], {\"frame\": {\"duration\": 300, \"redraw\": false}, \"mode\": \"immediate\", \"transition\": {\"duration\": 300}}], \"label\": \"2017-01-07\", \"method\": \"animate\"}, {\"args\": [[\"2017-01-08\"], {\"frame\": {\"duration\": 300, \"redraw\": false}, \"mode\": \"immediate\", \"transition\": {\"duration\": 300}}], \"label\": \"2017-01-08\", \"method\": \"animate\"}, {\"args\": [[\"2017-01-09\"], {\"frame\": {\"duration\": 300, \"redraw\": false}, \"mode\": \"immediate\", \"transition\": {\"duration\": 300}}], \"label\": \"2017-01-09\", \"method\": \"animate\"}, {\"args\": [[\"2017-01-10\"], {\"frame\": {\"duration\": 300, \"redraw\": false}, \"mode\": \"immediate\", \"transition\": {\"duration\": 300}}], \"label\": \"2017-01-10\", \"method\": \"animate\"}, {\"args\": [[\"2017-01-11\"], {\"frame\": {\"duration\": 300, \"redraw\": false}, \"mode\": \"immediate\", \"transition\": {\"duration\": 300}}], \"label\": \"2017-01-11\", \"method\": \"animate\"}, {\"args\": [[\"2017-01-12\"], {\"frame\": {\"duration\": 300, \"redraw\": false}, \"mode\": \"immediate\", \"transition\": {\"duration\": 300}}], \"label\": \"2017-01-12\", \"method\": \"animate\"}, {\"args\": [[\"2017-01-13\"], {\"frame\": {\"duration\": 300, \"redraw\": false}, \"mode\": \"immediate\", \"transition\": {\"duration\": 300}}], \"label\": \"2017-01-13\", \"method\": \"animate\"}, {\"args\": [[\"2017-01-14\"], {\"frame\": {\"duration\": 300, \"redraw\": false}, \"mode\": \"immediate\", \"transition\": {\"duration\": 300}}], \"label\": \"2017-01-14\", \"method\": \"animate\"}, {\"args\": [[\"2017-01-15\"], {\"frame\": {\"duration\": 300, \"redraw\": false}, \"mode\": \"immediate\", \"transition\": {\"duration\": 300}}], \"label\": \"2017-01-15\", \"method\": \"animate\"}, {\"args\": [[\"2017-01-16\"], {\"frame\": {\"duration\": 300, \"redraw\": false}, \"mode\": \"immediate\", \"transition\": {\"duration\": 300}}], \"label\": \"2017-01-16\", \"method\": \"animate\"}, {\"args\": [[\"2017-01-17\"], {\"frame\": {\"duration\": 300, \"redraw\": false}, \"mode\": \"immediate\", \"transition\": {\"duration\": 300}}], \"label\": \"2017-01-17\", \"method\": \"animate\"}, {\"args\": [[\"2017-01-18\"], {\"frame\": {\"duration\": 300, \"redraw\": false}, \"mode\": \"immediate\", \"transition\": {\"duration\": 300}}], \"label\": \"2017-01-18\", \"method\": \"animate\"}, {\"args\": [[\"2017-01-19\"], {\"frame\": {\"duration\": 300, \"redraw\": false}, \"mode\": \"immediate\", \"transition\": {\"duration\": 300}}], \"label\": \"2017-01-19\", \"method\": \"animate\"}, {\"args\": [[\"2017-01-20\"], {\"frame\": {\"duration\": 300, \"redraw\": false}, \"mode\": \"immediate\", \"transition\": {\"duration\": 300}}], \"label\": \"2017-01-20\", \"method\": \"animate\"}, {\"args\": [[\"2017-01-21\"], {\"frame\": {\"duration\": 300, \"redraw\": false}, \"mode\": \"immediate\", \"transition\": {\"duration\": 300}}], \"label\": \"2017-01-21\", \"method\": \"animate\"}, {\"args\": [[\"2017-01-22\"], {\"frame\": {\"duration\": 300, \"redraw\": false}, \"mode\": \"immediate\", \"transition\": {\"duration\": 300}}], \"label\": \"2017-01-22\", \"method\": \"animate\"}, {\"args\": [[\"2017-01-23\"], {\"frame\": {\"duration\": 300, \"redraw\": false}, \"mode\": \"immediate\", \"transition\": {\"duration\": 300}}], \"label\": \"2017-01-23\", \"method\": \"animate\"}, {\"args\": [[\"2017-01-24\"], {\"frame\": {\"duration\": 300, \"redraw\": false}, \"mode\": \"immediate\", \"transition\": {\"duration\": 300}}], \"label\": \"2017-01-24\", \"method\": \"animate\"}, {\"args\": [[\"2017-01-25\"], {\"frame\": {\"duration\": 300, \"redraw\": false}, \"mode\": \"immediate\", \"transition\": {\"duration\": 300}}], \"label\": \"2017-01-25\", \"method\": \"animate\"}, {\"args\": [[\"2017-01-26\"], {\"frame\": {\"duration\": 300, \"redraw\": false}, \"mode\": \"immediate\", \"transition\": {\"duration\": 300}}], \"label\": \"2017-01-26\", \"method\": \"animate\"}, {\"args\": [[\"2017-01-27\"], {\"frame\": {\"duration\": 300, \"redraw\": false}, \"mode\": \"immediate\", \"transition\": {\"duration\": 300}}], \"label\": \"2017-01-27\", \"method\": \"animate\"}, {\"args\": [[\"2017-01-28\"], {\"frame\": {\"duration\": 300, \"redraw\": false}, \"mode\": \"immediate\", \"transition\": {\"duration\": 300}}], \"label\": \"2017-01-28\", \"method\": \"animate\"}, {\"args\": [[\"2017-01-29\"], {\"frame\": {\"duration\": 300, \"redraw\": false}, \"mode\": \"immediate\", \"transition\": {\"duration\": 300}}], \"label\": \"2017-01-29\", \"method\": \"animate\"}, {\"args\": [[\"2017-01-30\"], {\"frame\": {\"duration\": 300, \"redraw\": false}, \"mode\": \"immediate\", \"transition\": {\"duration\": 300}}], \"label\": \"2017-01-30\", \"method\": \"animate\"}, {\"args\": [[\"2017-01-31\"], {\"frame\": {\"duration\": 300, \"redraw\": false}, \"mode\": \"immediate\", \"transition\": {\"duration\": 300}}], \"label\": \"2017-01-31\", \"method\": \"animate\"}, {\"args\": [[\"2017-02-01\"], {\"frame\": {\"duration\": 300, \"redraw\": false}, \"mode\": \"immediate\", \"transition\": {\"duration\": 300}}], \"label\": \"2017-02-01\", \"method\": \"animate\"}, {\"args\": [[\"2017-02-02\"], {\"frame\": {\"duration\": 300, \"redraw\": false}, \"mode\": \"immediate\", \"transition\": {\"duration\": 300}}], \"label\": \"2017-02-02\", \"method\": \"animate\"}, {\"args\": [[\"2017-02-03\"], {\"frame\": {\"duration\": 300, \"redraw\": false}, \"mode\": \"immediate\", \"transition\": {\"duration\": 300}}], \"label\": \"2017-02-03\", \"method\": \"animate\"}, {\"args\": [[\"2017-02-04\"], {\"frame\": {\"duration\": 300, \"redraw\": false}, \"mode\": \"immediate\", \"transition\": {\"duration\": 300}}], \"label\": \"2017-02-04\", \"method\": \"animate\"}, {\"args\": [[\"2017-02-05\"], {\"frame\": {\"duration\": 300, \"redraw\": false}, \"mode\": \"immediate\", \"transition\": {\"duration\": 300}}], \"label\": \"2017-02-05\", \"method\": \"animate\"}, {\"args\": [[\"2017-02-06\"], {\"frame\": {\"duration\": 300, \"redraw\": false}, \"mode\": \"immediate\", \"transition\": {\"duration\": 300}}], \"label\": \"2017-02-06\", \"method\": \"animate\"}, {\"args\": [[\"2017-02-07\"], {\"frame\": {\"duration\": 300, \"redraw\": false}, \"mode\": \"immediate\", \"transition\": {\"duration\": 300}}], \"label\": \"2017-02-07\", \"method\": \"animate\"}, {\"args\": [[\"2017-02-08\"], {\"frame\": {\"duration\": 300, \"redraw\": false}, \"mode\": \"immediate\", \"transition\": {\"duration\": 300}}], \"label\": \"2017-02-08\", \"method\": \"animate\"}, {\"args\": [[\"2017-02-09\"], {\"frame\": {\"duration\": 300, \"redraw\": false}, \"mode\": \"immediate\", \"transition\": {\"duration\": 300}}], \"label\": \"2017-02-09\", \"method\": \"animate\"}, {\"args\": [[\"2017-02-10\"], {\"frame\": {\"duration\": 300, \"redraw\": false}, \"mode\": \"immediate\", \"transition\": {\"duration\": 300}}], \"label\": \"2017-02-10\", \"method\": \"animate\"}, {\"args\": [[\"2017-02-11\"], {\"frame\": {\"duration\": 300, \"redraw\": false}, \"mode\": \"immediate\", \"transition\": {\"duration\": 300}}], \"label\": \"2017-02-11\", \"method\": \"animate\"}, {\"args\": [[\"2017-02-12\"], {\"frame\": {\"duration\": 300, \"redraw\": false}, \"mode\": \"immediate\", \"transition\": {\"duration\": 300}}], \"label\": \"2017-02-12\", \"method\": \"animate\"}, {\"args\": [[\"2017-02-13\"], {\"frame\": {\"duration\": 300, \"redraw\": false}, \"mode\": \"immediate\", \"transition\": {\"duration\": 300}}], \"label\": \"2017-02-13\", \"method\": \"animate\"}, {\"args\": [[\"2017-02-14\"], {\"frame\": {\"duration\": 300, \"redraw\": false}, \"mode\": \"immediate\", \"transition\": {\"duration\": 300}}], \"label\": \"2017-02-14\", \"method\": \"animate\"}, {\"args\": [[\"2017-02-15\"], {\"frame\": {\"duration\": 300, \"redraw\": false}, \"mode\": \"immediate\", \"transition\": {\"duration\": 300}}], \"label\": \"2017-02-15\", \"method\": \"animate\"}, {\"args\": [[\"2017-02-16\"], {\"frame\": {\"duration\": 300, \"redraw\": false}, \"mode\": \"immediate\", \"transition\": {\"duration\": 300}}], \"label\": \"2017-02-16\", \"method\": \"animate\"}, {\"args\": [[\"2017-02-17\"], {\"frame\": {\"duration\": 300, \"redraw\": false}, \"mode\": \"immediate\", \"transition\": {\"duration\": 300}}], \"label\": \"2017-02-17\", \"method\": \"animate\"}, {\"args\": [[\"2017-02-18\"], {\"frame\": {\"duration\": 300, \"redraw\": false}, \"mode\": \"immediate\", \"transition\": {\"duration\": 300}}], \"label\": \"2017-02-18\", \"method\": \"animate\"}, {\"args\": [[\"2017-02-19\"], {\"frame\": {\"duration\": 300, \"redraw\": false}, \"mode\": \"immediate\", \"transition\": {\"duration\": 300}}], \"label\": \"2017-02-19\", \"method\": \"animate\"}, {\"args\": [[\"2017-02-20\"], {\"frame\": {\"duration\": 300, \"redraw\": false}, \"mode\": \"immediate\", \"transition\": {\"duration\": 300}}], \"label\": \"2017-02-20\", \"method\": \"animate\"}, {\"args\": [[\"2017-02-21\"], {\"frame\": {\"duration\": 300, \"redraw\": false}, \"mode\": \"immediate\", \"transition\": {\"duration\": 300}}], \"label\": \"2017-02-21\", \"method\": \"animate\"}, {\"args\": [[\"2017-02-22\"], {\"frame\": {\"duration\": 300, \"redraw\": false}, \"mode\": \"immediate\", \"transition\": {\"duration\": 300}}], \"label\": \"2017-02-22\", \"method\": \"animate\"}, {\"args\": [[\"2017-02-23\"], {\"frame\": {\"duration\": 300, \"redraw\": false}, \"mode\": \"immediate\", \"transition\": {\"duration\": 300}}], \"label\": \"2017-02-23\", \"method\": \"animate\"}, {\"args\": [[\"2017-02-24\"], {\"frame\": {\"duration\": 300, \"redraw\": false}, \"mode\": \"immediate\", \"transition\": {\"duration\": 300}}], \"label\": \"2017-02-24\", \"method\": \"animate\"}, {\"args\": [[\"2017-02-25\"], {\"frame\": {\"duration\": 300, \"redraw\": false}, \"mode\": \"immediate\", \"transition\": {\"duration\": 300}}], \"label\": \"2017-02-25\", \"method\": \"animate\"}, {\"args\": [[\"2017-02-26\"], {\"frame\": {\"duration\": 300, \"redraw\": false}, \"mode\": \"immediate\", \"transition\": {\"duration\": 300}}], \"label\": \"2017-02-26\", \"method\": \"animate\"}, {\"args\": [[\"2017-02-27\"], {\"frame\": {\"duration\": 300, \"redraw\": false}, \"mode\": \"immediate\", \"transition\": {\"duration\": 300}}], \"label\": \"2017-02-27\", \"method\": \"animate\"}, {\"args\": [[\"2017-02-28\"], {\"frame\": {\"duration\": 300, \"redraw\": false}, \"mode\": \"immediate\", \"transition\": {\"duration\": 300}}], \"label\": \"2017-02-28\", \"method\": \"animate\"}, {\"args\": [[\"2017-03-01\"], {\"frame\": {\"duration\": 300, \"redraw\": false}, \"mode\": \"immediate\", \"transition\": {\"duration\": 300}}], \"label\": \"2017-03-01\", \"method\": \"animate\"}, {\"args\": [[\"2017-03-02\"], {\"frame\": {\"duration\": 300, \"redraw\": false}, \"mode\": \"immediate\", \"transition\": {\"duration\": 300}}], \"label\": \"2017-03-02\", \"method\": \"animate\"}, {\"args\": [[\"2017-03-03\"], {\"frame\": {\"duration\": 300, \"redraw\": false}, \"mode\": \"immediate\", \"transition\": {\"duration\": 300}}], \"label\": \"2017-03-03\", \"method\": \"animate\"}, {\"args\": [[\"2017-03-04\"], {\"frame\": {\"duration\": 300, \"redraw\": false}, \"mode\": \"immediate\", \"transition\": {\"duration\": 300}}], \"label\": \"2017-03-04\", \"method\": \"animate\"}, {\"args\": [[\"2017-03-05\"], {\"frame\": {\"duration\": 300, \"redraw\": false}, \"mode\": \"immediate\", \"transition\": {\"duration\": 300}}], \"label\": \"2017-03-05\", \"method\": \"animate\"}, {\"args\": [[\"2017-03-06\"], {\"frame\": {\"duration\": 300, \"redraw\": false}, \"mode\": \"immediate\", \"transition\": {\"duration\": 300}}], \"label\": \"2017-03-06\", \"method\": \"animate\"}, {\"args\": [[\"2017-03-07\"], {\"frame\": {\"duration\": 300, \"redraw\": false}, \"mode\": \"immediate\", \"transition\": {\"duration\": 300}}], \"label\": \"2017-03-07\", \"method\": \"animate\"}, {\"args\": [[\"2017-03-08\"], {\"frame\": {\"duration\": 300, \"redraw\": false}, \"mode\": \"immediate\", \"transition\": {\"duration\": 300}}], \"label\": \"2017-03-08\", \"method\": \"animate\"}, {\"args\": [[\"2017-03-09\"], {\"frame\": {\"duration\": 300, \"redraw\": false}, \"mode\": \"immediate\", \"transition\": {\"duration\": 300}}], \"label\": \"2017-03-09\", \"method\": \"animate\"}, {\"args\": [[\"2017-03-10\"], {\"frame\": {\"duration\": 300, \"redraw\": false}, \"mode\": \"immediate\", \"transition\": {\"duration\": 300}}], \"label\": \"2017-03-10\", \"method\": \"animate\"}, {\"args\": [[\"2017-03-11\"], {\"frame\": {\"duration\": 300, \"redraw\": false}, \"mode\": \"immediate\", \"transition\": {\"duration\": 300}}], \"label\": \"2017-03-11\", \"method\": \"animate\"}, {\"args\": [[\"2017-03-12\"], {\"frame\": {\"duration\": 300, \"redraw\": false}, \"mode\": \"immediate\", \"transition\": {\"duration\": 300}}], \"label\": \"2017-03-12\", \"method\": \"animate\"}, {\"args\": [[\"2017-03-13\"], {\"frame\": {\"duration\": 300, \"redraw\": false}, \"mode\": \"immediate\", \"transition\": {\"duration\": 300}}], \"label\": \"2017-03-13\", \"method\": \"animate\"}, {\"args\": [[\"2017-03-14\"], {\"frame\": {\"duration\": 300, \"redraw\": false}, \"mode\": \"immediate\", \"transition\": {\"duration\": 300}}], \"label\": \"2017-03-14\", \"method\": \"animate\"}, {\"args\": [[\"2017-03-15\"], {\"frame\": {\"duration\": 300, \"redraw\": false}, \"mode\": \"immediate\", \"transition\": {\"duration\": 300}}], \"label\": \"2017-03-15\", \"method\": \"animate\"}, {\"args\": [[\"2017-03-16\"], {\"frame\": {\"duration\": 300, \"redraw\": false}, \"mode\": \"immediate\", \"transition\": {\"duration\": 300}}], \"label\": \"2017-03-16\", \"method\": \"animate\"}, {\"args\": [[\"2017-03-17\"], {\"frame\": {\"duration\": 300, \"redraw\": false}, \"mode\": \"immediate\", \"transition\": {\"duration\": 300}}], \"label\": \"2017-03-17\", \"method\": \"animate\"}, {\"args\": [[\"2017-03-18\"], {\"frame\": {\"duration\": 300, \"redraw\": false}, \"mode\": \"immediate\", \"transition\": {\"duration\": 300}}], \"label\": \"2017-03-18\", \"method\": \"animate\"}, {\"args\": [[\"2017-03-19\"], {\"frame\": {\"duration\": 300, \"redraw\": false}, \"mode\": \"immediate\", \"transition\": {\"duration\": 300}}], \"label\": \"2017-03-19\", \"method\": \"animate\"}, {\"args\": [[\"2017-03-20\"], {\"frame\": {\"duration\": 300, \"redraw\": false}, \"mode\": \"immediate\", \"transition\": {\"duration\": 300}}], \"label\": \"2017-03-20\", \"method\": \"animate\"}, {\"args\": [[\"2017-03-21\"], {\"frame\": {\"duration\": 300, \"redraw\": false}, \"mode\": \"immediate\", \"transition\": {\"duration\": 300}}], \"label\": \"2017-03-21\", \"method\": \"animate\"}, {\"args\": [[\"2017-03-22\"], {\"frame\": {\"duration\": 300, \"redraw\": false}, \"mode\": \"immediate\", \"transition\": {\"duration\": 300}}], \"label\": \"2017-03-22\", \"method\": \"animate\"}, {\"args\": [[\"2017-03-23\"], {\"frame\": {\"duration\": 300, \"redraw\": false}, \"mode\": \"immediate\", \"transition\": {\"duration\": 300}}], \"label\": \"2017-03-23\", \"method\": \"animate\"}, {\"args\": [[\"2017-03-24\"], {\"frame\": {\"duration\": 300, \"redraw\": false}, \"mode\": \"immediate\", \"transition\": {\"duration\": 300}}], \"label\": \"2017-03-24\", \"method\": \"animate\"}, {\"args\": [[\"2017-03-25\"], {\"frame\": {\"duration\": 300, \"redraw\": false}, \"mode\": \"immediate\", \"transition\": {\"duration\": 300}}], \"label\": \"2017-03-25\", \"method\": \"animate\"}, {\"args\": [[\"2017-03-26\"], {\"frame\": {\"duration\": 300, \"redraw\": false}, \"mode\": \"immediate\", \"transition\": {\"duration\": 300}}], \"label\": \"2017-03-26\", \"method\": \"animate\"}, {\"args\": [[\"2017-03-27\"], {\"frame\": {\"duration\": 300, \"redraw\": false}, \"mode\": \"immediate\", \"transition\": {\"duration\": 300}}], \"label\": \"2017-03-27\", \"method\": \"animate\"}, {\"args\": [[\"2017-03-28\"], {\"frame\": {\"duration\": 300, \"redraw\": false}, \"mode\": \"immediate\", \"transition\": {\"duration\": 300}}], \"label\": \"2017-03-28\", \"method\": \"animate\"}, {\"args\": [[\"2017-03-29\"], {\"frame\": {\"duration\": 300, \"redraw\": false}, \"mode\": \"immediate\", \"transition\": {\"duration\": 300}}], \"label\": \"2017-03-29\", \"method\": \"animate\"}, {\"args\": [[\"2017-03-30\"], {\"frame\": {\"duration\": 300, \"redraw\": false}, \"mode\": \"immediate\", \"transition\": {\"duration\": 300}}], \"label\": \"2017-03-30\", \"method\": \"animate\"}, {\"args\": [[\"2017-03-31\"], {\"frame\": {\"duration\": 300, \"redraw\": false}, \"mode\": \"immediate\", \"transition\": {\"duration\": 300}}], \"label\": \"2017-03-31\", \"method\": \"animate\"}, {\"args\": [[\"2017-04-01\"], {\"frame\": {\"duration\": 300, \"redraw\": false}, \"mode\": \"immediate\", \"transition\": {\"duration\": 300}}], \"label\": \"2017-04-01\", \"method\": \"animate\"}, {\"args\": [[\"2017-04-02\"], {\"frame\": {\"duration\": 300, \"redraw\": false}, \"mode\": \"immediate\", \"transition\": {\"duration\": 300}}], \"label\": \"2017-04-02\", \"method\": \"animate\"}, {\"args\": [[\"2017-04-03\"], {\"frame\": {\"duration\": 300, \"redraw\": false}, \"mode\": \"immediate\", \"transition\": {\"duration\": 300}}], \"label\": \"2017-04-03\", \"method\": \"animate\"}, {\"args\": [[\"2017-04-04\"], {\"frame\": {\"duration\": 300, \"redraw\": false}, \"mode\": \"immediate\", \"transition\": {\"duration\": 300}}], \"label\": \"2017-04-04\", \"method\": \"animate\"}, {\"args\": [[\"2017-04-05\"], {\"frame\": {\"duration\": 300, \"redraw\": false}, \"mode\": \"immediate\", \"transition\": {\"duration\": 300}}], \"label\": \"2017-04-05\", \"method\": \"animate\"}, {\"args\": [[\"2017-04-06\"], {\"frame\": {\"duration\": 300, \"redraw\": false}, \"mode\": \"immediate\", \"transition\": {\"duration\": 300}}], \"label\": \"2017-04-06\", \"method\": \"animate\"}, {\"args\": [[\"2017-04-07\"], {\"frame\": {\"duration\": 300, \"redraw\": false}, \"mode\": \"immediate\", \"transition\": {\"duration\": 300}}], \"label\": \"2017-04-07\", \"method\": \"animate\"}, {\"args\": [[\"2017-04-08\"], {\"frame\": {\"duration\": 300, \"redraw\": false}, \"mode\": \"immediate\", \"transition\": {\"duration\": 300}}], \"label\": \"2017-04-08\", \"method\": \"animate\"}, {\"args\": [[\"2017-04-09\"], {\"frame\": {\"duration\": 300, \"redraw\": false}, \"mode\": \"immediate\", \"transition\": {\"duration\": 300}}], \"label\": \"2017-04-09\", \"method\": \"animate\"}, {\"args\": [[\"2017-04-10\"], {\"frame\": {\"duration\": 300, \"redraw\": false}, \"mode\": \"immediate\", \"transition\": {\"duration\": 300}}], \"label\": \"2017-04-10\", \"method\": \"animate\"}, {\"args\": [[\"2017-04-11\"], {\"frame\": {\"duration\": 300, \"redraw\": false}, \"mode\": \"immediate\", \"transition\": {\"duration\": 300}}], \"label\": \"2017-04-11\", \"method\": \"animate\"}, {\"args\": [[\"2017-04-12\"], {\"frame\": {\"duration\": 300, \"redraw\": false}, \"mode\": \"immediate\", \"transition\": {\"duration\": 300}}], \"label\": \"2017-04-12\", \"method\": \"animate\"}, {\"args\": [[\"2017-04-13\"], {\"frame\": {\"duration\": 300, \"redraw\": false}, \"mode\": \"immediate\", \"transition\": {\"duration\": 300}}], \"label\": \"2017-04-13\", \"method\": \"animate\"}, {\"args\": [[\"2017-04-14\"], {\"frame\": {\"duration\": 300, \"redraw\": false}, \"mode\": \"immediate\", \"transition\": {\"duration\": 300}}], \"label\": \"2017-04-14\", \"method\": \"animate\"}, {\"args\": [[\"2017-04-15\"], {\"frame\": {\"duration\": 300, \"redraw\": false}, \"mode\": \"immediate\", \"transition\": {\"duration\": 300}}], \"label\": \"2017-04-15\", \"method\": \"animate\"}], \"transition\": {\"duration\": 300, \"easing\": \"cubic-in-out\"}, \"x\": 0.1, \"xanchor\": \"left\", \"y\": 0, \"yanchor\": \"top\"}], \"updatemenus\": [{\"buttons\": [{\"args\": [null, {\"frame\": {\"duration\": 500, \"redraw\": false}, \"fromcurrent\": true, \"transition\": {\"duration\": 300, \"easing\": \"quadratic-in-out\"}}], \"label\": \"Play\", \"method\": \"animate\"}, {\"args\": [[null], {\"frame\": {\"duration\": 0, \"redraw\": false}, \"mode\": \"immediate\", \"transition\": {\"duration\": 0}}], \"label\": \"Pause\", \"method\": \"animate\"}], \"direction\": \"left\", \"pad\": {\"r\": 10, \"t\": 87}, \"showactive\": false, \"type\": \"buttons\", \"x\": 0.1, \"xanchor\": \"right\", \"y\": 0, \"yanchor\": \"top\"}]},\n",
       "            {\"showLink\": false, \"linkText\": \"Export to plot.ly\", \"plotlyServerURL\": \"https://plot.ly\"}\n",
       "        ).then(function () {return Plotly.addFrames('c1d5258a-546e-4745-80a1-aff788808940',[{\"data\": [{\"marker\": {\"size\": [199], \"sizemode\": \"area\", \"sizeref\": 0.05}, \"mode\": \"markers+text\", \"name\": \"United States\", \"text\": [\"United States:<br> 1\"], \"x\": [1.0], \"y\": [6.622738357719982e-09], \"type\": \"scatter\"}, {\"marker\": {\"size\": [199], \"sizemode\": \"area\", \"sizeref\": 0.05}, \"mode\": \"markers+text\", \"name\": \"Switzerland\", \"text\": [\"Switzerland:<br> 1\"], \"x\": [0.7660444974899292], \"y\": [0.6427875757217407], \"type\": \"scatter\"}, {\"marker\": {\"size\": [199], \"sizemode\": \"area\", \"sizeref\": 0.05}, \"mode\": \"markers+text\", \"name\": \"Hungary\", \"text\": [\"Hungary:<br> 1\"], \"x\": [0.17364825308322906], \"y\": [0.9848077297210693], \"type\": \"scatter\"}, {\"marker\": {\"size\": [181], \"sizemode\": \"area\", \"sizeref\": 0.05}, \"mode\": \"markers+text\", \"name\": \"Peru\", \"text\": [\"Peru:<br> 19\"], \"x\": [-0.5], \"y\": [0.8660253882408142], \"type\": \"scatter\"}, {\"marker\": {\"size\": [199], \"sizemode\": \"area\", \"sizeref\": 0.05}, \"mode\": \"markers+text\", \"name\": \"Malaysia\", \"text\": [\"Malaysia:<br> 1\"], \"x\": [-0.9396925568580627], \"y\": [0.3420202136039734], \"type\": \"scatter\"}, {\"marker\": {\"size\": [199], \"sizemode\": \"area\", \"sizeref\": 0.05}, \"mode\": \"markers+text\", \"name\": \"Denmark\", \"text\": [\"Denmark:<br> 1\"], \"x\": [-0.9396925568580627], \"y\": [-0.3420201539993286], \"type\": \"scatter\"}, {\"marker\": {\"size\": [185], \"sizemode\": \"area\", \"sizeref\": 0.05}, \"mode\": \"markers+text\", \"name\": \"Bolivia\", \"text\": [\"Bolivia:<br> 15\"], \"x\": [-0.49999988079071045], \"y\": [-0.866025447845459], \"type\": \"scatter\"}, {\"marker\": {\"size\": [198], \"sizemode\": \"area\", \"sizeref\": 0.05}, \"mode\": \"markers+text\", \"name\": \"Austria\", \"text\": [\"Austria:<br> 2\"], \"x\": [0.1736481785774231], \"y\": [-0.9848077297210693], \"type\": \"scatter\"}, {\"marker\": {\"size\": [199], \"sizemode\": \"area\", \"sizeref\": 0.05}, \"mode\": \"markers+text\", \"name\": \"Portugal\", \"text\": [\"Portugal:<br> 1\"], \"x\": [0.7660443782806396], \"y\": [-0.642787754535675], \"type\": \"scatter\"}], \"name\": \"2017-01-06\"}, {\"data\": [{\"marker\": {\"size\": [199], \"sizemode\": \"area\", \"sizeref\": 0.05}, \"mode\": \"markers+text\", \"name\": \"United States\", \"text\": [\"United States:<br> 1\"], \"x\": [1.0], \"y\": [6.622738357719982e-09], \"type\": \"scatter\"}, {\"marker\": {\"size\": [199], \"sizemode\": \"area\", \"sizeref\": 0.05}, \"mode\": \"markers+text\", \"name\": \"Switzerland\", \"text\": [\"Switzerland:<br> 1\"], \"x\": [0.7660444974899292], \"y\": [0.6427875757217407], \"type\": \"scatter\"}, {\"marker\": {\"size\": [199], \"sizemode\": \"area\", \"sizeref\": 0.05}, \"mode\": \"markers+text\", \"name\": \"Hungary\", \"text\": [\"Hungary:<br> 1\"], \"x\": [0.17364825308322906], \"y\": [0.9848077297210693], \"type\": \"scatter\"}, {\"marker\": {\"size\": [189], \"sizemode\": \"area\", \"sizeref\": 0.05}, \"mode\": \"markers+text\", \"name\": \"Peru\", \"text\": [\"Peru:<br> 11\"], \"x\": [-0.5], \"y\": [0.8660253882408142], \"type\": \"scatter\"}, {\"marker\": {\"size\": [199], \"sizemode\": \"area\", \"sizeref\": 0.05}, \"mode\": \"markers+text\", \"name\": \"Malaysia\", \"text\": [\"Malaysia:<br> 1\"], \"x\": [-0.9396925568580627], \"y\": [0.3420202136039734], \"type\": \"scatter\"}, {\"marker\": {\"size\": [199], \"sizemode\": \"area\", \"sizeref\": 0.05}, \"mode\": \"markers+text\", \"name\": \"Denmark\", \"text\": [\"Denmark:<br> 1\"], \"x\": [-0.9396925568580627], \"y\": [-0.3420201539993286], \"type\": \"scatter\"}, {\"marker\": {\"size\": [190], \"sizemode\": \"area\", \"sizeref\": 0.05}, \"mode\": \"markers+text\", \"name\": \"Bolivia\", \"text\": [\"Bolivia:<br> 10\"], \"x\": [-0.49999988079071045], \"y\": [-0.866025447845459], \"type\": \"scatter\"}, {\"marker\": {\"size\": [199], \"sizemode\": \"area\", \"sizeref\": 0.05}, \"mode\": \"markers+text\", \"name\": \"Austria\", \"text\": [\"Austria:<br> 1\"], \"x\": [0.1736481785774231], \"y\": [-0.9848077297210693], \"type\": \"scatter\"}, {\"marker\": {\"size\": [199], \"sizemode\": \"area\", \"sizeref\": 0.05}, \"mode\": \"markers+text\", \"name\": \"Portugal\", \"text\": [\"Portugal:<br> 1\"], \"x\": [0.7660443782806396], \"y\": [-0.642787754535675], \"type\": \"scatter\"}], \"name\": \"2017-01-07\"}, {\"data\": [{\"marker\": {\"size\": [199], \"sizemode\": \"area\", \"sizeref\": 0.05}, \"mode\": \"markers+text\", \"name\": \"United States\", \"text\": [\"United States:<br> 1\"], \"x\": [1.0], \"y\": [6.622738357719982e-09], \"type\": \"scatter\"}, {\"marker\": {\"size\": [199], \"sizemode\": \"area\", \"sizeref\": 0.05}, \"mode\": \"markers+text\", \"name\": \"Switzerland\", \"text\": [\"Switzerland:<br> 1\"], \"x\": [0.7660444974899292], \"y\": [0.6427875757217407], \"type\": \"scatter\"}, {\"marker\": {\"size\": [199], \"sizemode\": \"area\", \"sizeref\": 0.05}, \"mode\": \"markers+text\", \"name\": \"Hungary\", \"text\": [\"Hungary:<br> 1\"], \"x\": [0.17364825308322906], \"y\": [0.9848077297210693], \"type\": \"scatter\"}, {\"marker\": {\"size\": [190], \"sizemode\": \"area\", \"sizeref\": 0.05}, \"mode\": \"markers+text\", \"name\": \"Peru\", \"text\": [\"Peru:<br> 10\"], \"x\": [-0.5], \"y\": [0.8660253882408142], \"type\": \"scatter\"}, {\"marker\": {\"size\": [199], \"sizemode\": \"area\", \"sizeref\": 0.05}, \"mode\": \"markers+text\", \"name\": \"Malaysia\", \"text\": [\"Malaysia:<br> 1\"], \"x\": [-0.9396925568580627], \"y\": [0.3420202136039734], \"type\": \"scatter\"}, {\"marker\": {\"size\": [199], \"sizemode\": \"area\", \"sizeref\": 0.05}, \"mode\": \"markers+text\", \"name\": \"Denmark\", \"text\": [\"Denmark:<br> 1\"], \"x\": [-0.9396925568580627], \"y\": [-0.3420201539993286], \"type\": \"scatter\"}, {\"marker\": {\"size\": [190], \"sizemode\": \"area\", \"sizeref\": 0.05}, \"mode\": \"markers+text\", \"name\": \"Bolivia\", \"text\": [\"Bolivia:<br> 10\"], \"x\": [-0.49999988079071045], \"y\": [-0.866025447845459], \"type\": \"scatter\"}, {\"marker\": {\"size\": [199], \"sizemode\": \"area\", \"sizeref\": 0.05}, \"mode\": \"markers+text\", \"name\": \"Austria\", \"text\": [\"Austria:<br> 1\"], \"x\": [0.1736481785774231], \"y\": [-0.9848077297210693], \"type\": \"scatter\"}, {\"marker\": {\"size\": [199], \"sizemode\": \"area\", \"sizeref\": 0.05}, \"mode\": \"markers+text\", \"name\": \"Portugal\", \"text\": [\"Portugal:<br> 1\"], \"x\": [0.7660443782806396], \"y\": [-0.642787754535675], \"type\": \"scatter\"}], \"name\": \"2017-01-08\"}, {\"data\": [{\"marker\": {\"size\": [199], \"sizemode\": \"area\", \"sizeref\": 0.05}, \"mode\": \"markers+text\", \"name\": \"United States\", \"text\": [\"United States:<br> 1\"], \"x\": [1.0], \"y\": [6.622738357719982e-09], \"type\": \"scatter\"}, {\"marker\": {\"size\": [199], \"sizemode\": \"area\", \"sizeref\": 0.05}, \"mode\": \"markers+text\", \"name\": \"Switzerland\", \"text\": [\"Switzerland:<br> 1\"], \"x\": [0.7660444974899292], \"y\": [0.6427875757217407], \"type\": \"scatter\"}, {\"marker\": {\"size\": [199], \"sizemode\": \"area\", \"sizeref\": 0.05}, \"mode\": \"markers+text\", \"name\": \"Hungary\", \"text\": [\"Hungary:<br> 1\"], \"x\": [0.17364825308322906], \"y\": [0.9848077297210693], \"type\": \"scatter\"}, {\"marker\": {\"size\": [191], \"sizemode\": \"area\", \"sizeref\": 0.05}, \"mode\": \"markers+text\", \"name\": \"Peru\", \"text\": [\"Peru:<br> 9\"], \"x\": [-0.5], \"y\": [0.8660253882408142], \"type\": \"scatter\"}, {\"marker\": {\"size\": [199], \"sizemode\": \"area\", \"sizeref\": 0.05}, \"mode\": \"markers+text\", \"name\": \"Malaysia\", \"text\": [\"Malaysia:<br> 1\"], \"x\": [-0.9396925568580627], \"y\": [0.3420202136039734], \"type\": \"scatter\"}, {\"marker\": {\"size\": [199], \"sizemode\": \"area\", \"sizeref\": 0.05}, \"mode\": \"markers+text\", \"name\": \"Denmark\", \"text\": [\"Denmark:<br> 1\"], \"x\": [-0.9396925568580627], \"y\": [-0.3420201539993286], \"type\": \"scatter\"}, {\"marker\": {\"size\": [195], \"sizemode\": \"area\", \"sizeref\": 0.05}, \"mode\": \"markers+text\", \"name\": \"Bolivia\", \"text\": [\"Bolivia:<br> 5\"], \"x\": [-0.49999988079071045], \"y\": [-0.866025447845459], \"type\": \"scatter\"}, {\"marker\": {\"size\": [199], \"sizemode\": \"area\", \"sizeref\": 0.05}, \"mode\": \"markers+text\", \"name\": \"Austria\", \"text\": [\"Austria:<br> 1\"], \"x\": [0.1736481785774231], \"y\": [-0.9848077297210693], \"type\": \"scatter\"}, {\"marker\": {\"size\": [199], \"sizemode\": \"area\", \"sizeref\": 0.05}, \"mode\": \"markers+text\", \"name\": \"Portugal\", \"text\": [\"Portugal:<br> 1\"], \"x\": [0.7660443782806396], \"y\": [-0.642787754535675], \"type\": \"scatter\"}], \"name\": \"2017-01-09\"}, {\"data\": [{\"marker\": {\"size\": [198], \"sizemode\": \"area\", \"sizeref\": 0.05}, \"mode\": \"markers+text\", \"name\": \"United States\", \"text\": [\"United States:<br> 2\"], \"x\": [1.0], \"y\": [6.622738357719982e-09], \"type\": \"scatter\"}, {\"marker\": {\"size\": [199], \"sizemode\": \"area\", \"sizeref\": 0.05}, \"mode\": \"markers+text\", \"name\": \"Switzerland\", \"text\": [\"Switzerland:<br> 1\"], \"x\": [0.7660444974899292], \"y\": [0.6427875757217407], \"type\": \"scatter\"}, {\"marker\": {\"size\": [199], \"sizemode\": \"area\", \"sizeref\": 0.05}, \"mode\": \"markers+text\", \"name\": \"Hungary\", \"text\": [\"Hungary:<br> 1\"], \"x\": [0.17364825308322906], \"y\": [0.9848077297210693], \"type\": \"scatter\"}, {\"marker\": {\"size\": [191], \"sizemode\": \"area\", \"sizeref\": 0.05}, \"mode\": \"markers+text\", \"name\": \"Peru\", \"text\": [\"Peru:<br> 9\"], \"x\": [-0.5], \"y\": [0.8660253882408142], \"type\": \"scatter\"}, {\"marker\": {\"size\": [199], \"sizemode\": \"area\", \"sizeref\": 0.05}, \"mode\": \"markers+text\", \"name\": \"Malaysia\", \"text\": [\"Malaysia:<br> 1\"], \"x\": [-0.9396925568580627], \"y\": [0.3420202136039734], \"type\": \"scatter\"}, {\"marker\": {\"size\": [199], \"sizemode\": \"area\", \"sizeref\": 0.05}, \"mode\": \"markers+text\", \"name\": \"Denmark\", \"text\": [\"Denmark:<br> 1\"], \"x\": [-0.9396925568580627], \"y\": [-0.3420201539993286], \"type\": \"scatter\"}, {\"marker\": {\"size\": [195], \"sizemode\": \"area\", \"sizeref\": 0.05}, \"mode\": \"markers+text\", \"name\": \"Bolivia\", \"text\": [\"Bolivia:<br> 5\"], \"x\": [-0.49999988079071045], \"y\": [-0.866025447845459], \"type\": \"scatter\"}, {\"marker\": {\"size\": [199], \"sizemode\": \"area\", \"sizeref\": 0.05}, \"mode\": \"markers+text\", \"name\": \"Austria\", \"text\": [\"Austria:<br> 1\"], \"x\": [0.1736481785774231], \"y\": [-0.9848077297210693], \"type\": \"scatter\"}, {\"marker\": {\"size\": [199], \"sizemode\": \"area\", \"sizeref\": 0.05}, \"mode\": \"markers+text\", \"name\": \"Portugal\", \"text\": [\"Portugal:<br> 1\"], \"x\": [0.7660443782806396], \"y\": [-0.642787754535675], \"type\": \"scatter\"}], \"name\": \"2017-01-10\"}, {\"data\": [{\"marker\": {\"size\": [198], \"sizemode\": \"area\", \"sizeref\": 0.05}, \"mode\": \"markers+text\", \"name\": \"United States\", \"text\": [\"United States:<br> 2\"], \"x\": [1.0], \"y\": [6.622738357719982e-09], \"type\": \"scatter\"}, {\"marker\": {\"size\": [199], \"sizemode\": \"area\", \"sizeref\": 0.05}, \"mode\": \"markers+text\", \"name\": \"Switzerland\", \"text\": [\"Switzerland:<br> 1\"], \"x\": [0.7660444974899292], \"y\": [0.6427875757217407], \"type\": \"scatter\"}, {\"marker\": {\"size\": [199], \"sizemode\": \"area\", \"sizeref\": 0.05}, \"mode\": \"markers+text\", \"name\": \"Hungary\", \"text\": [\"Hungary:<br> 1\"], \"x\": [0.17364825308322906], \"y\": [0.9848077297210693], \"type\": \"scatter\"}, {\"marker\": {\"size\": [191], \"sizemode\": \"area\", \"sizeref\": 0.05}, \"mode\": \"markers+text\", \"name\": \"Peru\", \"text\": [\"Peru:<br> 9\"], \"x\": [-0.5], \"y\": [0.8660253882408142], \"type\": \"scatter\"}, {\"marker\": {\"size\": [199], \"sizemode\": \"area\", \"sizeref\": 0.05}, \"mode\": \"markers+text\", \"name\": \"Malaysia\", \"text\": [\"Malaysia:<br> 1\"], \"x\": [-0.9396925568580627], \"y\": [0.3420202136039734], \"type\": \"scatter\"}, {\"marker\": {\"size\": [199], \"sizemode\": \"area\", \"sizeref\": 0.05}, \"mode\": \"markers+text\", \"name\": \"Denmark\", \"text\": [\"Denmark:<br> 1\"], \"x\": [-0.9396925568580627], \"y\": [-0.3420201539993286], \"type\": \"scatter\"}, {\"marker\": {\"size\": [196], \"sizemode\": \"area\", \"sizeref\": 0.05}, \"mode\": \"markers+text\", \"name\": \"Bolivia\", \"text\": [\"Bolivia:<br> 4\"], \"x\": [-0.49999988079071045], \"y\": [-0.866025447845459], \"type\": \"scatter\"}, {\"marker\": {\"size\": [199], \"sizemode\": \"area\", \"sizeref\": 0.05}, \"mode\": \"markers+text\", \"name\": \"Austria\", \"text\": [\"Austria:<br> 1\"], \"x\": [0.1736481785774231], \"y\": [-0.9848077297210693], \"type\": \"scatter\"}, {\"marker\": {\"size\": [199], \"sizemode\": \"area\", \"sizeref\": 0.05}, \"mode\": \"markers+text\", \"name\": \"Portugal\", \"text\": [\"Portugal:<br> 1\"], \"x\": [0.7660443782806396], \"y\": [-0.642787754535675], \"type\": \"scatter\"}], \"name\": \"2017-01-11\"}, {\"data\": [{\"marker\": {\"size\": [198], \"sizemode\": \"area\", \"sizeref\": 0.05}, \"mode\": \"markers+text\", \"name\": \"United States\", \"text\": [\"United States:<br> 2\"], \"x\": [1.0], \"y\": [6.622738357719982e-09], \"type\": \"scatter\"}, {\"marker\": {\"size\": [199], \"sizemode\": \"area\", \"sizeref\": 0.05}, \"mode\": \"markers+text\", \"name\": \"Switzerland\", \"text\": [\"Switzerland:<br> 1\"], \"x\": [0.7660444974899292], \"y\": [0.6427875757217407], \"type\": \"scatter\"}, {\"marker\": {\"size\": [199], \"sizemode\": \"area\", \"sizeref\": 0.05}, \"mode\": \"markers+text\", \"name\": \"Hungary\", \"text\": [\"Hungary:<br> 1\"], \"x\": [0.17364825308322906], \"y\": [0.9848077297210693], \"type\": \"scatter\"}, {\"marker\": {\"size\": [191], \"sizemode\": \"area\", \"sizeref\": 0.05}, \"mode\": \"markers+text\", \"name\": \"Peru\", \"text\": [\"Peru:<br> 9\"], \"x\": [-0.5], \"y\": [0.8660253882408142], \"type\": \"scatter\"}, {\"marker\": {\"size\": [199], \"sizemode\": \"area\", \"sizeref\": 0.05}, \"mode\": \"markers+text\", \"name\": \"Malaysia\", \"text\": [\"Malaysia:<br> 1\"], \"x\": [-0.9396925568580627], \"y\": [0.3420202136039734], \"type\": \"scatter\"}, {\"marker\": {\"size\": [199], \"sizemode\": \"area\", \"sizeref\": 0.05}, \"mode\": \"markers+text\", \"name\": \"Denmark\", \"text\": [\"Denmark:<br> 1\"], \"x\": [-0.9396925568580627], \"y\": [-0.3420201539993286], \"type\": \"scatter\"}, {\"marker\": {\"size\": [196], \"sizemode\": \"area\", \"sizeref\": 0.05}, \"mode\": \"markers+text\", \"name\": \"Bolivia\", \"text\": [\"Bolivia:<br> 4\"], \"x\": [-0.49999988079071045], \"y\": [-0.866025447845459], \"type\": \"scatter\"}, {\"marker\": {\"size\": [199], \"sizemode\": \"area\", \"sizeref\": 0.05}, \"mode\": \"markers+text\", \"name\": \"Austria\", \"text\": [\"Austria:<br> 1\"], \"x\": [0.1736481785774231], \"y\": [-0.9848077297210693], \"type\": \"scatter\"}, {\"marker\": {\"size\": [199], \"sizemode\": \"area\", \"sizeref\": 0.05}, \"mode\": \"markers+text\", \"name\": \"Portugal\", \"text\": [\"Portugal:<br> 1\"], \"x\": [0.7660443782806396], \"y\": [-0.642787754535675], \"type\": \"scatter\"}], \"name\": \"2017-01-12\"}, {\"data\": [{\"marker\": {\"size\": [198], \"sizemode\": \"area\", \"sizeref\": 0.05}, \"mode\": \"markers+text\", \"name\": \"United States\", \"text\": [\"United States:<br> 2\"], \"x\": [1.0], \"y\": [6.622738357719982e-09], \"type\": \"scatter\"}, {\"marker\": {\"size\": [199], \"sizemode\": \"area\", \"sizeref\": 0.05}, \"mode\": \"markers+text\", \"name\": \"Switzerland\", \"text\": [\"Switzerland:<br> 1\"], \"x\": [0.7660444974899292], \"y\": [0.6427875757217407], \"type\": \"scatter\"}, {\"marker\": {\"size\": [199], \"sizemode\": \"area\", \"sizeref\": 0.05}, \"mode\": \"markers+text\", \"name\": \"Hungary\", \"text\": [\"Hungary:<br> 1\"], \"x\": [0.17364825308322906], \"y\": [0.9848077297210693], \"type\": \"scatter\"}, {\"marker\": {\"size\": [190], \"sizemode\": \"area\", \"sizeref\": 0.05}, \"mode\": \"markers+text\", \"name\": \"Peru\", \"text\": [\"Peru:<br> 10\"], \"x\": [-0.5], \"y\": [0.8660253882408142], \"type\": \"scatter\"}, {\"marker\": {\"size\": [199], \"sizemode\": \"area\", \"sizeref\": 0.05}, \"mode\": \"markers+text\", \"name\": \"Malaysia\", \"text\": [\"Malaysia:<br> 1\"], \"x\": [-0.9396925568580627], \"y\": [0.3420202136039734], \"type\": \"scatter\"}, {\"marker\": {\"size\": [199], \"sizemode\": \"area\", \"sizeref\": 0.05}, \"mode\": \"markers+text\", \"name\": \"Denmark\", \"text\": [\"Denmark:<br> 1\"], \"x\": [-0.9396925568580627], \"y\": [-0.3420201539993286], \"type\": \"scatter\"}, {\"marker\": {\"size\": [193], \"sizemode\": \"area\", \"sizeref\": 0.05}, \"mode\": \"markers+text\", \"name\": \"Bolivia\", \"text\": [\"Bolivia:<br> 7\"], \"x\": [-0.49999988079071045], \"y\": [-0.866025447845459], \"type\": \"scatter\"}, {\"marker\": {\"size\": [199], \"sizemode\": \"area\", \"sizeref\": 0.05}, \"mode\": \"markers+text\", \"name\": \"Austria\", \"text\": [\"Austria:<br> 1\"], \"x\": [0.1736481785774231], \"y\": [-0.9848077297210693], \"type\": \"scatter\"}, {\"marker\": {\"size\": [199], \"sizemode\": \"area\", \"sizeref\": 0.05}, \"mode\": \"markers+text\", \"name\": \"Portugal\", \"text\": [\"Portugal:<br> 1\"], \"x\": [0.7660443782806396], \"y\": [-0.642787754535675], \"type\": \"scatter\"}], \"name\": \"2017-01-13\"}, {\"data\": [{\"marker\": {\"size\": [198], \"sizemode\": \"area\", \"sizeref\": 0.05}, \"mode\": \"markers+text\", \"name\": \"United States\", \"text\": [\"United States:<br> 2\"], \"x\": [1.0], \"y\": [6.622738357719982e-09], \"type\": \"scatter\"}, {\"marker\": {\"size\": [199], \"sizemode\": \"area\", \"sizeref\": 0.05}, \"mode\": \"markers+text\", \"name\": \"Switzerland\", \"text\": [\"Switzerland:<br> 1\"], \"x\": [0.7660444974899292], \"y\": [0.6427875757217407], \"type\": \"scatter\"}, {\"marker\": {\"size\": [199], \"sizemode\": \"area\", \"sizeref\": 0.05}, \"mode\": \"markers+text\", \"name\": \"Hungary\", \"text\": [\"Hungary:<br> 1\"], \"x\": [0.17364825308322906], \"y\": [0.9848077297210693], \"type\": \"scatter\"}, {\"marker\": {\"size\": [190], \"sizemode\": \"area\", \"sizeref\": 0.05}, \"mode\": \"markers+text\", \"name\": \"Peru\", \"text\": [\"Peru:<br> 10\"], \"x\": [-0.5], \"y\": [0.8660253882408142], \"type\": \"scatter\"}, {\"marker\": {\"size\": [199], \"sizemode\": \"area\", \"sizeref\": 0.05}, \"mode\": \"markers+text\", \"name\": \"Malaysia\", \"text\": [\"Malaysia:<br> 1\"], \"x\": [-0.9396925568580627], \"y\": [0.3420202136039734], \"type\": \"scatter\"}, {\"marker\": {\"size\": [199], \"sizemode\": \"area\", \"sizeref\": 0.05}, \"mode\": \"markers+text\", \"name\": \"Denmark\", \"text\": [\"Denmark:<br> 1\"], \"x\": [-0.9396925568580627], \"y\": [-0.3420201539993286], \"type\": \"scatter\"}, {\"marker\": {\"size\": [193], \"sizemode\": \"area\", \"sizeref\": 0.05}, \"mode\": \"markers+text\", \"name\": \"Bolivia\", \"text\": [\"Bolivia:<br> 7\"], \"x\": [-0.49999988079071045], \"y\": [-0.866025447845459], \"type\": \"scatter\"}, {\"marker\": {\"size\": [199], \"sizemode\": \"area\", \"sizeref\": 0.05}, \"mode\": \"markers+text\", \"name\": \"Austria\", \"text\": [\"Austria:<br> 1\"], \"x\": [0.1736481785774231], \"y\": [-0.9848077297210693], \"type\": \"scatter\"}, {\"marker\": {\"size\": [199], \"sizemode\": \"area\", \"sizeref\": 0.05}, \"mode\": \"markers+text\", \"name\": \"Portugal\", \"text\": [\"Portugal:<br> 1\"], \"x\": [0.7660443782806396], \"y\": [-0.642787754535675], \"type\": \"scatter\"}], \"name\": \"2017-01-14\"}, {\"data\": [{\"marker\": {\"size\": [198], \"sizemode\": \"area\", \"sizeref\": 0.05}, \"mode\": \"markers+text\", \"name\": \"United States\", \"text\": [\"United States:<br> 2\"], \"x\": [1.0], \"y\": [6.622738357719982e-09], \"type\": \"scatter\"}, {\"marker\": {\"size\": [199], \"sizemode\": \"area\", \"sizeref\": 0.05}, \"mode\": \"markers+text\", \"name\": \"Switzerland\", \"text\": [\"Switzerland:<br> 1\"], \"x\": [0.7660444974899292], \"y\": [0.6427875757217407], \"type\": \"scatter\"}, {\"marker\": {\"size\": [199], \"sizemode\": \"area\", \"sizeref\": 0.05}, \"mode\": \"markers+text\", \"name\": \"Hungary\", \"text\": [\"Hungary:<br> 1\"], \"x\": [0.17364825308322906], \"y\": [0.9848077297210693], \"type\": \"scatter\"}, {\"marker\": {\"size\": [190], \"sizemode\": \"area\", \"sizeref\": 0.05}, \"mode\": \"markers+text\", \"name\": \"Peru\", \"text\": [\"Peru:<br> 10\"], \"x\": [-0.5], \"y\": [0.8660253882408142], \"type\": \"scatter\"}, {\"marker\": {\"size\": [199], \"sizemode\": \"area\", \"sizeref\": 0.05}, \"mode\": \"markers+text\", \"name\": \"Malaysia\", \"text\": [\"Malaysia:<br> 1\"], \"x\": [-0.9396925568580627], \"y\": [0.3420202136039734], \"type\": \"scatter\"}, {\"marker\": {\"size\": [199], \"sizemode\": \"area\", \"sizeref\": 0.05}, \"mode\": \"markers+text\", \"name\": \"Denmark\", \"text\": [\"Denmark:<br> 1\"], \"x\": [-0.9396925568580627], \"y\": [-0.3420201539993286], \"type\": \"scatter\"}, {\"marker\": {\"size\": [193], \"sizemode\": \"area\", \"sizeref\": 0.05}, \"mode\": \"markers+text\", \"name\": \"Bolivia\", \"text\": [\"Bolivia:<br> 7\"], \"x\": [-0.49999988079071045], \"y\": [-0.866025447845459], \"type\": \"scatter\"}, {\"marker\": {\"size\": [199], \"sizemode\": \"area\", \"sizeref\": 0.05}, \"mode\": \"markers+text\", \"name\": \"Austria\", \"text\": [\"Austria:<br> 1\"], \"x\": [0.1736481785774231], \"y\": [-0.9848077297210693], \"type\": \"scatter\"}, {\"marker\": {\"size\": [199], \"sizemode\": \"area\", \"sizeref\": 0.05}, \"mode\": \"markers+text\", \"name\": \"Portugal\", \"text\": [\"Portugal:<br> 1\"], \"x\": [0.7660443782806396], \"y\": [-0.642787754535675], \"type\": \"scatter\"}], \"name\": \"2017-01-15\"}, {\"data\": [{\"marker\": {\"size\": [198], \"sizemode\": \"area\", \"sizeref\": 0.05}, \"mode\": \"markers+text\", \"name\": \"United States\", \"text\": [\"United States:<br> 2\"], \"x\": [1.0], \"y\": [6.622738357719982e-09], \"type\": \"scatter\"}, {\"marker\": {\"size\": [199], \"sizemode\": \"area\", \"sizeref\": 0.05}, \"mode\": \"markers+text\", \"name\": \"Switzerland\", \"text\": [\"Switzerland:<br> 1\"], \"x\": [0.7660444974899292], \"y\": [0.6427875757217407], \"type\": \"scatter\"}, {\"marker\": {\"size\": [199], \"sizemode\": \"area\", \"sizeref\": 0.05}, \"mode\": \"markers+text\", \"name\": \"Hungary\", \"text\": [\"Hungary:<br> 1\"], \"x\": [0.17364825308322906], \"y\": [0.9848077297210693], \"type\": \"scatter\"}, {\"marker\": {\"size\": [192], \"sizemode\": \"area\", \"sizeref\": 0.05}, \"mode\": \"markers+text\", \"name\": \"Peru\", \"text\": [\"Peru:<br> 8\"], \"x\": [-0.5], \"y\": [0.8660253882408142], \"type\": \"scatter\"}, {\"marker\": {\"size\": [199], \"sizemode\": \"area\", \"sizeref\": 0.05}, \"mode\": \"markers+text\", \"name\": \"Malaysia\", \"text\": [\"Malaysia:<br> 1\"], \"x\": [-0.9396925568580627], \"y\": [0.3420202136039734], \"type\": \"scatter\"}, {\"marker\": {\"size\": [199], \"sizemode\": \"area\", \"sizeref\": 0.05}, \"mode\": \"markers+text\", \"name\": \"Denmark\", \"text\": [\"Denmark:<br> 1\"], \"x\": [-0.9396925568580627], \"y\": [-0.3420201539993286], \"type\": \"scatter\"}, {\"marker\": {\"size\": [194], \"sizemode\": \"area\", \"sizeref\": 0.05}, \"mode\": \"markers+text\", \"name\": \"Bolivia\", \"text\": [\"Bolivia:<br> 6\"], \"x\": [-0.49999988079071045], \"y\": [-0.866025447845459], \"type\": \"scatter\"}, {\"marker\": {\"size\": [199], \"sizemode\": \"area\", \"sizeref\": 0.05}, \"mode\": \"markers+text\", \"name\": \"Austria\", \"text\": [\"Austria:<br> 1\"], \"x\": [0.1736481785774231], \"y\": [-0.9848077297210693], \"type\": \"scatter\"}, {\"marker\": {\"size\": [199], \"sizemode\": \"area\", \"sizeref\": 0.05}, \"mode\": \"markers+text\", \"name\": \"Portugal\", \"text\": [\"Portugal:<br> 1\"], \"x\": [0.7660443782806396], \"y\": [-0.642787754535675], \"type\": \"scatter\"}], \"name\": \"2017-01-16\"}, {\"data\": [{\"marker\": {\"size\": [198], \"sizemode\": \"area\", \"sizeref\": 0.05}, \"mode\": \"markers+text\", \"name\": \"United States\", \"text\": [\"United States:<br> 2\"], \"x\": [1.0], \"y\": [6.622738357719982e-09], \"type\": \"scatter\"}, {\"marker\": {\"size\": [199], \"sizemode\": \"area\", \"sizeref\": 0.05}, \"mode\": \"markers+text\", \"name\": \"Switzerland\", \"text\": [\"Switzerland:<br> 1\"], \"x\": [0.7660444974899292], \"y\": [0.6427875757217407], \"type\": \"scatter\"}, {\"marker\": {\"size\": [199], \"sizemode\": \"area\", \"sizeref\": 0.05}, \"mode\": \"markers+text\", \"name\": \"Hungary\", \"text\": [\"Hungary:<br> 1\"], \"x\": [0.17364825308322906], \"y\": [0.9848077297210693], \"type\": \"scatter\"}, {\"marker\": {\"size\": [192], \"sizemode\": \"area\", \"sizeref\": 0.05}, \"mode\": \"markers+text\", \"name\": \"Peru\", \"text\": [\"Peru:<br> 8\"], \"x\": [-0.5], \"y\": [0.8660253882408142], \"type\": \"scatter\"}, {\"marker\": {\"size\": [199], \"sizemode\": \"area\", \"sizeref\": 0.05}, \"mode\": \"markers+text\", \"name\": \"Malaysia\", \"text\": [\"Malaysia:<br> 1\"], \"x\": [-0.9396925568580627], \"y\": [0.3420202136039734], \"type\": \"scatter\"}, {\"marker\": {\"size\": [199], \"sizemode\": \"area\", \"sizeref\": 0.05}, \"mode\": \"markers+text\", \"name\": \"Denmark\", \"text\": [\"Denmark:<br> 1\"], \"x\": [-0.9396925568580627], \"y\": [-0.3420201539993286], \"type\": \"scatter\"}, {\"marker\": {\"size\": [194], \"sizemode\": \"area\", \"sizeref\": 0.05}, \"mode\": \"markers+text\", \"name\": \"Bolivia\", \"text\": [\"Bolivia:<br> 6\"], \"x\": [-0.49999988079071045], \"y\": [-0.866025447845459], \"type\": \"scatter\"}, {\"marker\": {\"size\": [199], \"sizemode\": \"area\", \"sizeref\": 0.05}, \"mode\": \"markers+text\", \"name\": \"Austria\", \"text\": [\"Austria:<br> 1\"], \"x\": [0.1736481785774231], \"y\": [-0.9848077297210693], \"type\": \"scatter\"}, {\"marker\": {\"size\": [199], \"sizemode\": \"area\", \"sizeref\": 0.05}, \"mode\": \"markers+text\", \"name\": \"Portugal\", \"text\": [\"Portugal:<br> 1\"], \"x\": [0.7660443782806396], \"y\": [-0.642787754535675], \"type\": \"scatter\"}], \"name\": \"2017-01-17\"}, {\"data\": [{\"marker\": {\"size\": [198], \"sizemode\": \"area\", \"sizeref\": 0.05}, \"mode\": \"markers+text\", \"name\": \"United States\", \"text\": [\"United States:<br> 2\"], \"x\": [1.0], \"y\": [6.622738357719982e-09], \"type\": \"scatter\"}, {\"marker\": {\"size\": [199], \"sizemode\": \"area\", \"sizeref\": 0.05}, \"mode\": \"markers+text\", \"name\": \"Switzerland\", \"text\": [\"Switzerland:<br> 1\"], \"x\": [0.7660444974899292], \"y\": [0.6427875757217407], \"type\": \"scatter\"}, {\"marker\": {\"size\": [199], \"sizemode\": \"area\", \"sizeref\": 0.05}, \"mode\": \"markers+text\", \"name\": \"Hungary\", \"text\": [\"Hungary:<br> 1\"], \"x\": [0.17364825308322906], \"y\": [0.9848077297210693], \"type\": \"scatter\"}, {\"marker\": {\"size\": [192], \"sizemode\": \"area\", \"sizeref\": 0.05}, \"mode\": \"markers+text\", \"name\": \"Peru\", \"text\": [\"Peru:<br> 8\"], \"x\": [-0.5], \"y\": [0.8660253882408142], \"type\": \"scatter\"}, {\"marker\": {\"size\": [199], \"sizemode\": \"area\", \"sizeref\": 0.05}, \"mode\": \"markers+text\", \"name\": \"Malaysia\", \"text\": [\"Malaysia:<br> 1\"], \"x\": [-0.9396925568580627], \"y\": [0.3420202136039734], \"type\": \"scatter\"}, {\"marker\": {\"size\": [199], \"sizemode\": \"area\", \"sizeref\": 0.05}, \"mode\": \"markers+text\", \"name\": \"Denmark\", \"text\": [\"Denmark:<br> 1\"], \"x\": [-0.9396925568580627], \"y\": [-0.3420201539993286], \"type\": \"scatter\"}, {\"marker\": {\"size\": [194], \"sizemode\": \"area\", \"sizeref\": 0.05}, \"mode\": \"markers+text\", \"name\": \"Bolivia\", \"text\": [\"Bolivia:<br> 6\"], \"x\": [-0.49999988079071045], \"y\": [-0.866025447845459], \"type\": \"scatter\"}, {\"marker\": {\"size\": [199], \"sizemode\": \"area\", \"sizeref\": 0.05}, \"mode\": \"markers+text\", \"name\": \"Austria\", \"text\": [\"Austria:<br> 1\"], \"x\": [0.1736481785774231], \"y\": [-0.9848077297210693], \"type\": \"scatter\"}, {\"marker\": {\"size\": [199], \"sizemode\": \"area\", \"sizeref\": 0.05}, \"mode\": \"markers+text\", \"name\": \"Portugal\", \"text\": [\"Portugal:<br> 1\"], \"x\": [0.7660443782806396], \"y\": [-0.642787754535675], \"type\": \"scatter\"}], \"name\": \"2017-01-18\"}, {\"data\": [{\"marker\": {\"size\": [198], \"sizemode\": \"area\", \"sizeref\": 0.05}, \"mode\": \"markers+text\", \"name\": \"United States\", \"text\": [\"United States:<br> 2\"], \"x\": [1.0], \"y\": [6.622738357719982e-09], \"type\": \"scatter\"}, {\"marker\": {\"size\": [199], \"sizemode\": \"area\", \"sizeref\": 0.05}, \"mode\": \"markers+text\", \"name\": \"Switzerland\", \"text\": [\"Switzerland:<br> 1\"], \"x\": [0.7660444974899292], \"y\": [0.6427875757217407], \"type\": \"scatter\"}, {\"marker\": {\"size\": [199], \"sizemode\": \"area\", \"sizeref\": 0.05}, \"mode\": \"markers+text\", \"name\": \"Hungary\", \"text\": [\"Hungary:<br> 1\"], \"x\": [0.17364825308322906], \"y\": [0.9848077297210693], \"type\": \"scatter\"}, {\"marker\": {\"size\": [193], \"sizemode\": \"area\", \"sizeref\": 0.05}, \"mode\": \"markers+text\", \"name\": \"Peru\", \"text\": [\"Peru:<br> 7\"], \"x\": [-0.5], \"y\": [0.8660253882408142], \"type\": \"scatter\"}, {\"marker\": {\"size\": [199], \"sizemode\": \"area\", \"sizeref\": 0.05}, \"mode\": \"markers+text\", \"name\": \"Malaysia\", \"text\": [\"Malaysia:<br> 1\"], \"x\": [-0.9396925568580627], \"y\": [0.3420202136039734], \"type\": \"scatter\"}, {\"marker\": {\"size\": [199], \"sizemode\": \"area\", \"sizeref\": 0.05}, \"mode\": \"markers+text\", \"name\": \"Denmark\", \"text\": [\"Denmark:<br> 1\"], \"x\": [-0.9396925568580627], \"y\": [-0.3420201539993286], \"type\": \"scatter\"}, {\"marker\": {\"size\": [194], \"sizemode\": \"area\", \"sizeref\": 0.05}, \"mode\": \"markers+text\", \"name\": \"Bolivia\", \"text\": [\"Bolivia:<br> 6\"], \"x\": [-0.49999988079071045], \"y\": [-0.866025447845459], \"type\": \"scatter\"}, {\"marker\": {\"size\": [199], \"sizemode\": \"area\", \"sizeref\": 0.05}, \"mode\": \"markers+text\", \"name\": \"Austria\", \"text\": [\"Austria:<br> 1\"], \"x\": [0.1736481785774231], \"y\": [-0.9848077297210693], \"type\": \"scatter\"}, {\"marker\": {\"size\": [199], \"sizemode\": \"area\", \"sizeref\": 0.05}, \"mode\": \"markers+text\", \"name\": \"Portugal\", \"text\": [\"Portugal:<br> 1\"], \"x\": [0.7660443782806396], \"y\": [-0.642787754535675], \"type\": \"scatter\"}], \"name\": \"2017-01-19\"}, {\"data\": [{\"marker\": {\"size\": [198], \"sizemode\": \"area\", \"sizeref\": 0.05}, \"mode\": \"markers+text\", \"name\": \"United States\", \"text\": [\"United States:<br> 2\"], \"x\": [1.0], \"y\": [6.622738357719982e-09], \"type\": \"scatter\"}, {\"marker\": {\"size\": [199], \"sizemode\": \"area\", \"sizeref\": 0.05}, \"mode\": \"markers+text\", \"name\": \"Switzerland\", \"text\": [\"Switzerland:<br> 1\"], \"x\": [0.7660444974899292], \"y\": [0.6427875757217407], \"type\": \"scatter\"}, {\"marker\": {\"size\": [199], \"sizemode\": \"area\", \"sizeref\": 0.05}, \"mode\": \"markers+text\", \"name\": \"Hungary\", \"text\": [\"Hungary:<br> 1\"], \"x\": [0.17364825308322906], \"y\": [0.9848077297210693], \"type\": \"scatter\"}, {\"marker\": {\"size\": [192], \"sizemode\": \"area\", \"sizeref\": 0.05}, \"mode\": \"markers+text\", \"name\": \"Peru\", \"text\": [\"Peru:<br> 8\"], \"x\": [-0.5], \"y\": [0.8660253882408142], \"type\": \"scatter\"}, {\"marker\": {\"size\": [199], \"sizemode\": \"area\", \"sizeref\": 0.05}, \"mode\": \"markers+text\", \"name\": \"Malaysia\", \"text\": [\"Malaysia:<br> 1\"], \"x\": [-0.9396925568580627], \"y\": [0.3420202136039734], \"type\": \"scatter\"}, {\"marker\": {\"size\": [199], \"sizemode\": \"area\", \"sizeref\": 0.05}, \"mode\": \"markers+text\", \"name\": \"Denmark\", \"text\": [\"Denmark:<br> 1\"], \"x\": [-0.9396925568580627], \"y\": [-0.3420201539993286], \"type\": \"scatter\"}, {\"marker\": {\"size\": [193], \"sizemode\": \"area\", \"sizeref\": 0.05}, \"mode\": \"markers+text\", \"name\": \"Bolivia\", \"text\": [\"Bolivia:<br> 7\"], \"x\": [-0.49999988079071045], \"y\": [-0.866025447845459], \"type\": \"scatter\"}, {\"marker\": {\"size\": [199], \"sizemode\": \"area\", \"sizeref\": 0.05}, \"mode\": \"markers+text\", \"name\": \"Austria\", \"text\": [\"Austria:<br> 1\"], \"x\": [0.1736481785774231], \"y\": [-0.9848077297210693], \"type\": \"scatter\"}, {\"marker\": {\"size\": [199], \"sizemode\": \"area\", \"sizeref\": 0.05}, \"mode\": \"markers+text\", \"name\": \"Portugal\", \"text\": [\"Portugal:<br> 1\"], \"x\": [0.7660443782806396], \"y\": [-0.642787754535675], \"type\": \"scatter\"}], \"name\": \"2017-01-20\"}, {\"data\": [{\"marker\": {\"size\": [198], \"sizemode\": \"area\", \"sizeref\": 0.05}, \"mode\": \"markers+text\", \"name\": \"United States\", \"text\": [\"United States:<br> 2\"], \"x\": [1.0], \"y\": [6.622738357719982e-09], \"type\": \"scatter\"}, {\"marker\": {\"size\": [199], \"sizemode\": \"area\", \"sizeref\": 0.05}, \"mode\": \"markers+text\", \"name\": \"Switzerland\", \"text\": [\"Switzerland:<br> 1\"], \"x\": [0.7660444974899292], \"y\": [0.6427875757217407], \"type\": \"scatter\"}, {\"marker\": {\"size\": [199], \"sizemode\": \"area\", \"sizeref\": 0.05}, \"mode\": \"markers+text\", \"name\": \"Hungary\", \"text\": [\"Hungary:<br> 1\"], \"x\": [0.17364825308322906], \"y\": [0.9848077297210693], \"type\": \"scatter\"}, {\"marker\": {\"size\": [191], \"sizemode\": \"area\", \"sizeref\": 0.05}, \"mode\": \"markers+text\", \"name\": \"Peru\", \"text\": [\"Peru:<br> 9\"], \"x\": [-0.5], \"y\": [0.8660253882408142], \"type\": \"scatter\"}, {\"marker\": {\"size\": [199], \"sizemode\": \"area\", \"sizeref\": 0.05}, \"mode\": \"markers+text\", \"name\": \"Malaysia\", \"text\": [\"Malaysia:<br> 1\"], \"x\": [-0.9396925568580627], \"y\": [0.3420202136039734], \"type\": \"scatter\"}, {\"marker\": {\"size\": [199], \"sizemode\": \"area\", \"sizeref\": 0.05}, \"mode\": \"markers+text\", \"name\": \"Denmark\", \"text\": [\"Denmark:<br> 1\"], \"x\": [-0.9396925568580627], \"y\": [-0.3420201539993286], \"type\": \"scatter\"}, {\"marker\": {\"size\": [192], \"sizemode\": \"area\", \"sizeref\": 0.05}, \"mode\": \"markers+text\", \"name\": \"Bolivia\", \"text\": [\"Bolivia:<br> 8\"], \"x\": [-0.49999988079071045], \"y\": [-0.866025447845459], \"type\": \"scatter\"}, {\"marker\": {\"size\": [199], \"sizemode\": \"area\", \"sizeref\": 0.05}, \"mode\": \"markers+text\", \"name\": \"Austria\", \"text\": [\"Austria:<br> 1\"], \"x\": [0.1736481785774231], \"y\": [-0.9848077297210693], \"type\": \"scatter\"}, {\"marker\": {\"size\": [199], \"sizemode\": \"area\", \"sizeref\": 0.05}, \"mode\": \"markers+text\", \"name\": \"Portugal\", \"text\": [\"Portugal:<br> 1\"], \"x\": [0.7660443782806396], \"y\": [-0.642787754535675], \"type\": \"scatter\"}], \"name\": \"2017-01-21\"}, {\"data\": [{\"marker\": {\"size\": [198], \"sizemode\": \"area\", \"sizeref\": 0.05}, \"mode\": \"markers+text\", \"name\": \"United States\", \"text\": [\"United States:<br> 2\"], \"x\": [1.0], \"y\": [6.622738357719982e-09], \"type\": \"scatter\"}, {\"marker\": {\"size\": [199], \"sizemode\": \"area\", \"sizeref\": 0.05}, \"mode\": \"markers+text\", \"name\": \"Switzerland\", \"text\": [\"Switzerland:<br> 1\"], \"x\": [0.7660444974899292], \"y\": [0.6427875757217407], \"type\": \"scatter\"}, {\"marker\": {\"size\": [199], \"sizemode\": \"area\", \"sizeref\": 0.05}, \"mode\": \"markers+text\", \"name\": \"Hungary\", \"text\": [\"Hungary:<br> 1\"], \"x\": [0.17364825308322906], \"y\": [0.9848077297210693], \"type\": \"scatter\"}, {\"marker\": {\"size\": [191], \"sizemode\": \"area\", \"sizeref\": 0.05}, \"mode\": \"markers+text\", \"name\": \"Peru\", \"text\": [\"Peru:<br> 9\"], \"x\": [-0.5], \"y\": [0.8660253882408142], \"type\": \"scatter\"}, {\"marker\": {\"size\": [199], \"sizemode\": \"area\", \"sizeref\": 0.05}, \"mode\": \"markers+text\", \"name\": \"Malaysia\", \"text\": [\"Malaysia:<br> 1\"], \"x\": [-0.9396925568580627], \"y\": [0.3420202136039734], \"type\": \"scatter\"}, {\"marker\": {\"size\": [199], \"sizemode\": \"area\", \"sizeref\": 0.05}, \"mode\": \"markers+text\", \"name\": \"Denmark\", \"text\": [\"Denmark:<br> 1\"], \"x\": [-0.9396925568580627], \"y\": [-0.3420201539993286], \"type\": \"scatter\"}, {\"marker\": {\"size\": [191], \"sizemode\": \"area\", \"sizeref\": 0.05}, \"mode\": \"markers+text\", \"name\": \"Bolivia\", \"text\": [\"Bolivia:<br> 9\"], \"x\": [-0.49999988079071045], \"y\": [-0.866025447845459], \"type\": \"scatter\"}, {\"marker\": {\"size\": [199], \"sizemode\": \"area\", \"sizeref\": 0.05}, \"mode\": \"markers+text\", \"name\": \"Austria\", \"text\": [\"Austria:<br> 1\"], \"x\": [0.1736481785774231], \"y\": [-0.9848077297210693], \"type\": \"scatter\"}, {\"marker\": {\"size\": [199], \"sizemode\": \"area\", \"sizeref\": 0.05}, \"mode\": \"markers+text\", \"name\": \"Portugal\", \"text\": [\"Portugal:<br> 1\"], \"x\": [0.7660443782806396], \"y\": [-0.642787754535675], \"type\": \"scatter\"}], \"name\": \"2017-01-22\"}, {\"data\": [{\"marker\": {\"size\": [199], \"sizemode\": \"area\", \"sizeref\": 0.05}, \"mode\": \"markers+text\", \"name\": \"United States\", \"text\": [\"United States:<br> 1\"], \"x\": [1.0], \"y\": [6.622738357719982e-09], \"type\": \"scatter\"}, {\"marker\": {\"size\": [199], \"sizemode\": \"area\", \"sizeref\": 0.05}, \"mode\": \"markers+text\", \"name\": \"Switzerland\", \"text\": [\"Switzerland:<br> 1\"], \"x\": [0.7660444974899292], \"y\": [0.6427875757217407], \"type\": \"scatter\"}, {\"marker\": {\"size\": [199], \"sizemode\": \"area\", \"sizeref\": 0.05}, \"mode\": \"markers+text\", \"name\": \"Hungary\", \"text\": [\"Hungary:<br> 1\"], \"x\": [0.17364825308322906], \"y\": [0.9848077297210693], \"type\": \"scatter\"}, {\"marker\": {\"size\": [192], \"sizemode\": \"area\", \"sizeref\": 0.05}, \"mode\": \"markers+text\", \"name\": \"Peru\", \"text\": [\"Peru:<br> 8\"], \"x\": [-0.5], \"y\": [0.8660253882408142], \"type\": \"scatter\"}, {\"marker\": {\"size\": [199], \"sizemode\": \"area\", \"sizeref\": 0.05}, \"mode\": \"markers+text\", \"name\": \"Malaysia\", \"text\": [\"Malaysia:<br> 1\"], \"x\": [-0.9396925568580627], \"y\": [0.3420202136039734], \"type\": \"scatter\"}, {\"marker\": {\"size\": [199], \"sizemode\": \"area\", \"sizeref\": 0.05}, \"mode\": \"markers+text\", \"name\": \"Denmark\", \"text\": [\"Denmark:<br> 1\"], \"x\": [-0.9396925568580627], \"y\": [-0.3420201539993286], \"type\": \"scatter\"}, {\"marker\": {\"size\": [193], \"sizemode\": \"area\", \"sizeref\": 0.05}, \"mode\": \"markers+text\", \"name\": \"Bolivia\", \"text\": [\"Bolivia:<br> 7\"], \"x\": [-0.49999988079071045], \"y\": [-0.866025447845459], \"type\": \"scatter\"}, {\"marker\": {\"size\": [199], \"sizemode\": \"area\", \"sizeref\": 0.05}, \"mode\": \"markers+text\", \"name\": \"Austria\", \"text\": [\"Austria:<br> 1\"], \"x\": [0.1736481785774231], \"y\": [-0.9848077297210693], \"type\": \"scatter\"}, {\"marker\": {\"size\": [199], \"sizemode\": \"area\", \"sizeref\": 0.05}, \"mode\": \"markers+text\", \"name\": \"Portugal\", \"text\": [\"Portugal:<br> 1\"], \"x\": [0.7660443782806396], \"y\": [-0.642787754535675], \"type\": \"scatter\"}], \"name\": \"2017-01-23\"}, {\"data\": [{\"marker\": {\"size\": [199], \"sizemode\": \"area\", \"sizeref\": 0.05}, \"mode\": \"markers+text\", \"name\": \"United States\", \"text\": [\"United States:<br> 1\"], \"x\": [1.0], \"y\": [6.622738357719982e-09], \"type\": \"scatter\"}, {\"marker\": {\"size\": [199], \"sizemode\": \"area\", \"sizeref\": 0.05}, \"mode\": \"markers+text\", \"name\": \"Switzerland\", \"text\": [\"Switzerland:<br> 1\"], \"x\": [0.7660444974899292], \"y\": [0.6427875757217407], \"type\": \"scatter\"}, {\"marker\": {\"size\": [199], \"sizemode\": \"area\", \"sizeref\": 0.05}, \"mode\": \"markers+text\", \"name\": \"Hungary\", \"text\": [\"Hungary:<br> 1\"], \"x\": [0.17364825308322906], \"y\": [0.9848077297210693], \"type\": \"scatter\"}, {\"marker\": {\"size\": [192], \"sizemode\": \"area\", \"sizeref\": 0.05}, \"mode\": \"markers+text\", \"name\": \"Peru\", \"text\": [\"Peru:<br> 8\"], \"x\": [-0.5], \"y\": [0.8660253882408142], \"type\": \"scatter\"}, {\"marker\": {\"size\": [199], \"sizemode\": \"area\", \"sizeref\": 0.05}, \"mode\": \"markers+text\", \"name\": \"Malaysia\", \"text\": [\"Malaysia:<br> 1\"], \"x\": [-0.9396925568580627], \"y\": [0.3420202136039734], \"type\": \"scatter\"}, {\"marker\": {\"size\": [199], \"sizemode\": \"area\", \"sizeref\": 0.05}, \"mode\": \"markers+text\", \"name\": \"Denmark\", \"text\": [\"Denmark:<br> 1\"], \"x\": [-0.9396925568580627], \"y\": [-0.3420201539993286], \"type\": \"scatter\"}, {\"marker\": {\"size\": [194], \"sizemode\": \"area\", \"sizeref\": 0.05}, \"mode\": \"markers+text\", \"name\": \"Bolivia\", \"text\": [\"Bolivia:<br> 6\"], \"x\": [-0.49999988079071045], \"y\": [-0.866025447845459], \"type\": \"scatter\"}, {\"marker\": {\"size\": [199], \"sizemode\": \"area\", \"sizeref\": 0.05}, \"mode\": \"markers+text\", \"name\": \"Austria\", \"text\": [\"Austria:<br> 1\"], \"x\": [0.1736481785774231], \"y\": [-0.9848077297210693], \"type\": \"scatter\"}, {\"marker\": {\"size\": [199], \"sizemode\": \"area\", \"sizeref\": 0.05}, \"mode\": \"markers+text\", \"name\": \"Portugal\", \"text\": [\"Portugal:<br> 1\"], \"x\": [0.7660443782806396], \"y\": [-0.642787754535675], \"type\": \"scatter\"}], \"name\": \"2017-01-24\"}, {\"data\": [{\"marker\": {\"size\": [199], \"sizemode\": \"area\", \"sizeref\": 0.05}, \"mode\": \"markers+text\", \"name\": \"United States\", \"text\": [\"United States:<br> 1\"], \"x\": [1.0], \"y\": [6.622738357719982e-09], \"type\": \"scatter\"}, {\"marker\": {\"size\": [199], \"sizemode\": \"area\", \"sizeref\": 0.05}, \"mode\": \"markers+text\", \"name\": \"Switzerland\", \"text\": [\"Switzerland:<br> 1\"], \"x\": [0.7660444974899292], \"y\": [0.6427875757217407], \"type\": \"scatter\"}, {\"marker\": {\"size\": [199], \"sizemode\": \"area\", \"sizeref\": 0.05}, \"mode\": \"markers+text\", \"name\": \"Hungary\", \"text\": [\"Hungary:<br> 1\"], \"x\": [0.17364825308322906], \"y\": [0.9848077297210693], \"type\": \"scatter\"}, {\"marker\": {\"size\": [192], \"sizemode\": \"area\", \"sizeref\": 0.05}, \"mode\": \"markers+text\", \"name\": \"Peru\", \"text\": [\"Peru:<br> 8\"], \"x\": [-0.5], \"y\": [0.8660253882408142], \"type\": \"scatter\"}, {\"marker\": {\"size\": [199], \"sizemode\": \"area\", \"sizeref\": 0.05}, \"mode\": \"markers+text\", \"name\": \"Malaysia\", \"text\": [\"Malaysia:<br> 1\"], \"x\": [-0.9396925568580627], \"y\": [0.3420202136039734], \"type\": \"scatter\"}, {\"marker\": {\"size\": [199], \"sizemode\": \"area\", \"sizeref\": 0.05}, \"mode\": \"markers+text\", \"name\": \"Denmark\", \"text\": [\"Denmark:<br> 1\"], \"x\": [-0.9396925568580627], \"y\": [-0.3420201539993286], \"type\": \"scatter\"}, {\"marker\": {\"size\": [193], \"sizemode\": \"area\", \"sizeref\": 0.05}, \"mode\": \"markers+text\", \"name\": \"Bolivia\", \"text\": [\"Bolivia:<br> 7\"], \"x\": [-0.49999988079071045], \"y\": [-0.866025447845459], \"type\": \"scatter\"}, {\"marker\": {\"size\": [199], \"sizemode\": \"area\", \"sizeref\": 0.05}, \"mode\": \"markers+text\", \"name\": \"Austria\", \"text\": [\"Austria:<br> 1\"], \"x\": [0.1736481785774231], \"y\": [-0.9848077297210693], \"type\": \"scatter\"}, {\"marker\": {\"size\": [199], \"sizemode\": \"area\", \"sizeref\": 0.05}, \"mode\": \"markers+text\", \"name\": \"Portugal\", \"text\": [\"Portugal:<br> 1\"], \"x\": [0.7660443782806396], \"y\": [-0.642787754535675], \"type\": \"scatter\"}], \"name\": \"2017-01-25\"}, {\"data\": [{\"marker\": {\"size\": [199], \"sizemode\": \"area\", \"sizeref\": 0.05}, \"mode\": \"markers+text\", \"name\": \"United States\", \"text\": [\"United States:<br> 1\"], \"x\": [1.0], \"y\": [6.622738357719982e-09], \"type\": \"scatter\"}, {\"marker\": {\"size\": [199], \"sizemode\": \"area\", \"sizeref\": 0.05}, \"mode\": \"markers+text\", \"name\": \"Switzerland\", \"text\": [\"Switzerland:<br> 1\"], \"x\": [0.7660444974899292], \"y\": [0.6427875757217407], \"type\": \"scatter\"}, {\"marker\": {\"size\": [199], \"sizemode\": \"area\", \"sizeref\": 0.05}, \"mode\": \"markers+text\", \"name\": \"Hungary\", \"text\": [\"Hungary:<br> 1\"], \"x\": [0.17364825308322906], \"y\": [0.9848077297210693], \"type\": \"scatter\"}, {\"marker\": {\"size\": [195], \"sizemode\": \"area\", \"sizeref\": 0.05}, \"mode\": \"markers+text\", \"name\": \"Peru\", \"text\": [\"Peru:<br> 5\"], \"x\": [-0.5], \"y\": [0.8660253882408142], \"type\": \"scatter\"}, {\"marker\": {\"size\": [199], \"sizemode\": \"area\", \"sizeref\": 0.05}, \"mode\": \"markers+text\", \"name\": \"Malaysia\", \"text\": [\"Malaysia:<br> 1\"], \"x\": [-0.9396925568580627], \"y\": [0.3420202136039734], \"type\": \"scatter\"}, {\"marker\": {\"size\": [199], \"sizemode\": \"area\", \"sizeref\": 0.05}, \"mode\": \"markers+text\", \"name\": \"Denmark\", \"text\": [\"Denmark:<br> 1\"], \"x\": [-0.9396925568580627], \"y\": [-0.3420201539993286], \"type\": \"scatter\"}, {\"marker\": {\"size\": [194], \"sizemode\": \"area\", \"sizeref\": 0.05}, \"mode\": \"markers+text\", \"name\": \"Bolivia\", \"text\": [\"Bolivia:<br> 6\"], \"x\": [-0.49999988079071045], \"y\": [-0.866025447845459], \"type\": \"scatter\"}, {\"marker\": {\"size\": [199], \"sizemode\": \"area\", \"sizeref\": 0.05}, \"mode\": \"markers+text\", \"name\": \"Austria\", \"text\": [\"Austria:<br> 1\"], \"x\": [0.1736481785774231], \"y\": [-0.9848077297210693], \"type\": \"scatter\"}, {\"marker\": {\"size\": [199], \"sizemode\": \"area\", \"sizeref\": 0.05}, \"mode\": \"markers+text\", \"name\": \"Portugal\", \"text\": [\"Portugal:<br> 1\"], \"x\": [0.7660443782806396], \"y\": [-0.642787754535675], \"type\": \"scatter\"}], \"name\": \"2017-01-26\"}, {\"data\": [{\"marker\": {\"size\": [198], \"sizemode\": \"area\", \"sizeref\": 0.05}, \"mode\": \"markers+text\", \"name\": \"United States\", \"text\": [\"United States:<br> 2\"], \"x\": [1.0], \"y\": [6.622738357719982e-09], \"type\": \"scatter\"}, {\"marker\": {\"size\": [199], \"sizemode\": \"area\", \"sizeref\": 0.05}, \"mode\": \"markers+text\", \"name\": \"Switzerland\", \"text\": [\"Switzerland:<br> 1\"], \"x\": [0.7660444974899292], \"y\": [0.6427875757217407], \"type\": \"scatter\"}, {\"marker\": {\"size\": [199], \"sizemode\": \"area\", \"sizeref\": 0.05}, \"mode\": \"markers+text\", \"name\": \"Hungary\", \"text\": [\"Hungary:<br> 1\"], \"x\": [0.17364825308322906], \"y\": [0.9848077297210693], \"type\": \"scatter\"}, {\"marker\": {\"size\": [194], \"sizemode\": \"area\", \"sizeref\": 0.05}, \"mode\": \"markers+text\", \"name\": \"Peru\", \"text\": [\"Peru:<br> 6\"], \"x\": [-0.5], \"y\": [0.8660253882408142], \"type\": \"scatter\"}, {\"marker\": {\"size\": [199], \"sizemode\": \"area\", \"sizeref\": 0.05}, \"mode\": \"markers+text\", \"name\": \"Malaysia\", \"text\": [\"Malaysia:<br> 1\"], \"x\": [-0.9396925568580627], \"y\": [0.3420202136039734], \"type\": \"scatter\"}, {\"marker\": {\"size\": [199], \"sizemode\": \"area\", \"sizeref\": 0.05}, \"mode\": \"markers+text\", \"name\": \"Denmark\", \"text\": [\"Denmark:<br> 1\"], \"x\": [-0.9396925568580627], \"y\": [-0.3420201539993286], \"type\": \"scatter\"}, {\"marker\": {\"size\": [193], \"sizemode\": \"area\", \"sizeref\": 0.05}, \"mode\": \"markers+text\", \"name\": \"Bolivia\", \"text\": [\"Bolivia:<br> 7\"], \"x\": [-0.49999988079071045], \"y\": [-0.866025447845459], \"type\": \"scatter\"}, {\"marker\": {\"size\": [199], \"sizemode\": \"area\", \"sizeref\": 0.05}, \"mode\": \"markers+text\", \"name\": \"Austria\", \"text\": [\"Austria:<br> 1\"], \"x\": [0.1736481785774231], \"y\": [-0.9848077297210693], \"type\": \"scatter\"}, {\"marker\": {\"size\": [199], \"sizemode\": \"area\", \"sizeref\": 0.05}, \"mode\": \"markers+text\", \"name\": \"Portugal\", \"text\": [\"Portugal:<br> 1\"], \"x\": [0.7660443782806396], \"y\": [-0.642787754535675], \"type\": \"scatter\"}], \"name\": \"2017-01-27\"}, {\"data\": [{\"marker\": {\"size\": [198], \"sizemode\": \"area\", \"sizeref\": 0.05}, \"mode\": \"markers+text\", \"name\": \"United States\", \"text\": [\"United States:<br> 2\"], \"x\": [1.0], \"y\": [6.622738357719982e-09], \"type\": \"scatter\"}, {\"marker\": {\"size\": [199], \"sizemode\": \"area\", \"sizeref\": 0.05}, \"mode\": \"markers+text\", \"name\": \"Switzerland\", \"text\": [\"Switzerland:<br> 1\"], \"x\": [0.7660444974899292], \"y\": [0.6427875757217407], \"type\": \"scatter\"}, {\"marker\": {\"size\": [199], \"sizemode\": \"area\", \"sizeref\": 0.05}, \"mode\": \"markers+text\", \"name\": \"Hungary\", \"text\": [\"Hungary:<br> 1\"], \"x\": [0.17364825308322906], \"y\": [0.9848077297210693], \"type\": \"scatter\"}, {\"marker\": {\"size\": [192], \"sizemode\": \"area\", \"sizeref\": 0.05}, \"mode\": \"markers+text\", \"name\": \"Peru\", \"text\": [\"Peru:<br> 8\"], \"x\": [-0.5], \"y\": [0.8660253882408142], \"type\": \"scatter\"}, {\"marker\": {\"size\": [199], \"sizemode\": \"area\", \"sizeref\": 0.05}, \"mode\": \"markers+text\", \"name\": \"Malaysia\", \"text\": [\"Malaysia:<br> 1\"], \"x\": [-0.9396925568580627], \"y\": [0.3420202136039734], \"type\": \"scatter\"}, {\"marker\": {\"size\": [199], \"sizemode\": \"area\", \"sizeref\": 0.05}, \"mode\": \"markers+text\", \"name\": \"Denmark\", \"text\": [\"Denmark:<br> 1\"], \"x\": [-0.9396925568580627], \"y\": [-0.3420201539993286], \"type\": \"scatter\"}, {\"marker\": {\"size\": [193], \"sizemode\": \"area\", \"sizeref\": 0.05}, \"mode\": \"markers+text\", \"name\": \"Bolivia\", \"text\": [\"Bolivia:<br> 7\"], \"x\": [-0.49999988079071045], \"y\": [-0.866025447845459], \"type\": \"scatter\"}, {\"marker\": {\"size\": [199], \"sizemode\": \"area\", \"sizeref\": 0.05}, \"mode\": \"markers+text\", \"name\": \"Austria\", \"text\": [\"Austria:<br> 1\"], \"x\": [0.1736481785774231], \"y\": [-0.9848077297210693], \"type\": \"scatter\"}, {\"marker\": {\"size\": [199], \"sizemode\": \"area\", \"sizeref\": 0.05}, \"mode\": \"markers+text\", \"name\": \"Portugal\", \"text\": [\"Portugal:<br> 1\"], \"x\": [0.7660443782806396], \"y\": [-0.642787754535675], \"type\": \"scatter\"}], \"name\": \"2017-01-28\"}, {\"data\": [{\"marker\": {\"size\": [198], \"sizemode\": \"area\", \"sizeref\": 0.05}, \"mode\": \"markers+text\", \"name\": \"United States\", \"text\": [\"United States:<br> 2\"], \"x\": [1.0], \"y\": [6.622738357719982e-09], \"type\": \"scatter\"}, {\"marker\": {\"size\": [199], \"sizemode\": \"area\", \"sizeref\": 0.05}, \"mode\": \"markers+text\", \"name\": \"Switzerland\", \"text\": [\"Switzerland:<br> 1\"], \"x\": [0.7660444974899292], \"y\": [0.6427875757217407], \"type\": \"scatter\"}, {\"marker\": {\"size\": [199], \"sizemode\": \"area\", \"sizeref\": 0.05}, \"mode\": \"markers+text\", \"name\": \"Hungary\", \"text\": [\"Hungary:<br> 1\"], \"x\": [0.17364825308322906], \"y\": [0.9848077297210693], \"type\": \"scatter\"}, {\"marker\": {\"size\": [192], \"sizemode\": \"area\", \"sizeref\": 0.05}, \"mode\": \"markers+text\", \"name\": \"Peru\", \"text\": [\"Peru:<br> 8\"], \"x\": [-0.5], \"y\": [0.8660253882408142], \"type\": \"scatter\"}, {\"marker\": {\"size\": [199], \"sizemode\": \"area\", \"sizeref\": 0.05}, \"mode\": \"markers+text\", \"name\": \"Malaysia\", \"text\": [\"Malaysia:<br> 1\"], \"x\": [-0.9396925568580627], \"y\": [0.3420202136039734], \"type\": \"scatter\"}, {\"marker\": {\"size\": [199], \"sizemode\": \"area\", \"sizeref\": 0.05}, \"mode\": \"markers+text\", \"name\": \"Denmark\", \"text\": [\"Denmark:<br> 1\"], \"x\": [-0.9396925568580627], \"y\": [-0.3420201539993286], \"type\": \"scatter\"}, {\"marker\": {\"size\": [193], \"sizemode\": \"area\", \"sizeref\": 0.05}, \"mode\": \"markers+text\", \"name\": \"Bolivia\", \"text\": [\"Bolivia:<br> 7\"], \"x\": [-0.49999988079071045], \"y\": [-0.866025447845459], \"type\": \"scatter\"}, {\"marker\": {\"size\": [199], \"sizemode\": \"area\", \"sizeref\": 0.05}, \"mode\": \"markers+text\", \"name\": \"Austria\", \"text\": [\"Austria:<br> 1\"], \"x\": [0.1736481785774231], \"y\": [-0.9848077297210693], \"type\": \"scatter\"}, {\"marker\": {\"size\": [199], \"sizemode\": \"area\", \"sizeref\": 0.05}, \"mode\": \"markers+text\", \"name\": \"Portugal\", \"text\": [\"Portugal:<br> 1\"], \"x\": [0.7660443782806396], \"y\": [-0.642787754535675], \"type\": \"scatter\"}], \"name\": \"2017-01-29\"}, {\"data\": [{\"marker\": {\"size\": [198], \"sizemode\": \"area\", \"sizeref\": 0.05}, \"mode\": \"markers+text\", \"name\": \"United States\", \"text\": [\"United States:<br> 2\"], \"x\": [1.0], \"y\": [6.622738357719982e-09], \"type\": \"scatter\"}, {\"marker\": {\"size\": [199], \"sizemode\": \"area\", \"sizeref\": 0.05}, \"mode\": \"markers+text\", \"name\": \"Switzerland\", \"text\": [\"Switzerland:<br> 1\"], \"x\": [0.7660444974899292], \"y\": [0.6427875757217407], \"type\": \"scatter\"}, {\"marker\": {\"size\": [199], \"sizemode\": \"area\", \"sizeref\": 0.05}, \"mode\": \"markers+text\", \"name\": \"Hungary\", \"text\": [\"Hungary:<br> 1\"], \"x\": [0.17364825308322906], \"y\": [0.9848077297210693], \"type\": \"scatter\"}, {\"marker\": {\"size\": [194], \"sizemode\": \"area\", \"sizeref\": 0.05}, \"mode\": \"markers+text\", \"name\": \"Peru\", \"text\": [\"Peru:<br> 6\"], \"x\": [-0.5], \"y\": [0.8660253882408142], \"type\": \"scatter\"}, {\"marker\": {\"size\": [199], \"sizemode\": \"area\", \"sizeref\": 0.05}, \"mode\": \"markers+text\", \"name\": \"Malaysia\", \"text\": [\"Malaysia:<br> 1\"], \"x\": [-0.9396925568580627], \"y\": [0.3420202136039734], \"type\": \"scatter\"}, {\"marker\": {\"size\": [199], \"sizemode\": \"area\", \"sizeref\": 0.05}, \"mode\": \"markers+text\", \"name\": \"Denmark\", \"text\": [\"Denmark:<br> 1\"], \"x\": [-0.9396925568580627], \"y\": [-0.3420201539993286], \"type\": \"scatter\"}, {\"marker\": {\"size\": [193], \"sizemode\": \"area\", \"sizeref\": 0.05}, \"mode\": \"markers+text\", \"name\": \"Bolivia\", \"text\": [\"Bolivia:<br> 7\"], \"x\": [-0.49999988079071045], \"y\": [-0.866025447845459], \"type\": \"scatter\"}, {\"marker\": {\"size\": [199], \"sizemode\": \"area\", \"sizeref\": 0.05}, \"mode\": \"markers+text\", \"name\": \"Austria\", \"text\": [\"Austria:<br> 1\"], \"x\": [0.1736481785774231], \"y\": [-0.9848077297210693], \"type\": \"scatter\"}, {\"marker\": {\"size\": [199], \"sizemode\": \"area\", \"sizeref\": 0.05}, \"mode\": \"markers+text\", \"name\": \"Portugal\", \"text\": [\"Portugal:<br> 1\"], \"x\": [0.7660443782806396], \"y\": [-0.642787754535675], \"type\": \"scatter\"}], \"name\": \"2017-01-30\"}, {\"data\": [{\"marker\": {\"size\": [198], \"sizemode\": \"area\", \"sizeref\": 0.05}, \"mode\": \"markers+text\", \"name\": \"United States\", \"text\": [\"United States:<br> 2\"], \"x\": [1.0], \"y\": [6.622738357719982e-09], \"type\": \"scatter\"}, {\"marker\": {\"size\": [199], \"sizemode\": \"area\", \"sizeref\": 0.05}, \"mode\": \"markers+text\", \"name\": \"Switzerland\", \"text\": [\"Switzerland:<br> 1\"], \"x\": [0.7660444974899292], \"y\": [0.6427875757217407], \"type\": \"scatter\"}, {\"marker\": {\"size\": [199], \"sizemode\": \"area\", \"sizeref\": 0.05}, \"mode\": \"markers+text\", \"name\": \"Hungary\", \"text\": [\"Hungary:<br> 1\"], \"x\": [0.17364825308322906], \"y\": [0.9848077297210693], \"type\": \"scatter\"}, {\"marker\": {\"size\": [194], \"sizemode\": \"area\", \"sizeref\": 0.05}, \"mode\": \"markers+text\", \"name\": \"Peru\", \"text\": [\"Peru:<br> 6\"], \"x\": [-0.5], \"y\": [0.8660253882408142], \"type\": \"scatter\"}, {\"marker\": {\"size\": [199], \"sizemode\": \"area\", \"sizeref\": 0.05}, \"mode\": \"markers+text\", \"name\": \"Malaysia\", \"text\": [\"Malaysia:<br> 1\"], \"x\": [-0.9396925568580627], \"y\": [0.3420202136039734], \"type\": \"scatter\"}, {\"marker\": {\"size\": [199], \"sizemode\": \"area\", \"sizeref\": 0.05}, \"mode\": \"markers+text\", \"name\": \"Denmark\", \"text\": [\"Denmark:<br> 1\"], \"x\": [-0.9396925568580627], \"y\": [-0.3420201539993286], \"type\": \"scatter\"}, {\"marker\": {\"size\": [194], \"sizemode\": \"area\", \"sizeref\": 0.05}, \"mode\": \"markers+text\", \"name\": \"Bolivia\", \"text\": [\"Bolivia:<br> 6\"], \"x\": [-0.49999988079071045], \"y\": [-0.866025447845459], \"type\": \"scatter\"}, {\"marker\": {\"size\": [199], \"sizemode\": \"area\", \"sizeref\": 0.05}, \"mode\": \"markers+text\", \"name\": \"Austria\", \"text\": [\"Austria:<br> 1\"], \"x\": [0.1736481785774231], \"y\": [-0.9848077297210693], \"type\": \"scatter\"}, {\"marker\": {\"size\": [199], \"sizemode\": \"area\", \"sizeref\": 0.05}, \"mode\": \"markers+text\", \"name\": \"Portugal\", \"text\": [\"Portugal:<br> 1\"], \"x\": [0.7660443782806396], \"y\": [-0.642787754535675], \"type\": \"scatter\"}], \"name\": \"2017-01-31\"}, {\"data\": [{\"marker\": {\"size\": [198], \"sizemode\": \"area\", \"sizeref\": 0.05}, \"mode\": \"markers+text\", \"name\": \"United States\", \"text\": [\"United States:<br> 2\"], \"x\": [1.0], \"y\": [6.622738357719982e-09], \"type\": \"scatter\"}, {\"marker\": {\"size\": [199], \"sizemode\": \"area\", \"sizeref\": 0.05}, \"mode\": \"markers+text\", \"name\": \"Switzerland\", \"text\": [\"Switzerland:<br> 1\"], \"x\": [0.7660444974899292], \"y\": [0.6427875757217407], \"type\": \"scatter\"}, {\"marker\": {\"size\": [199], \"sizemode\": \"area\", \"sizeref\": 0.05}, \"mode\": \"markers+text\", \"name\": \"Hungary\", \"text\": [\"Hungary:<br> 1\"], \"x\": [0.17364825308322906], \"y\": [0.9848077297210693], \"type\": \"scatter\"}, {\"marker\": {\"size\": [194], \"sizemode\": \"area\", \"sizeref\": 0.05}, \"mode\": \"markers+text\", \"name\": \"Peru\", \"text\": [\"Peru:<br> 6\"], \"x\": [-0.5], \"y\": [0.8660253882408142], \"type\": \"scatter\"}, {\"marker\": {\"size\": [199], \"sizemode\": \"area\", \"sizeref\": 0.05}, \"mode\": \"markers+text\", \"name\": \"Malaysia\", \"text\": [\"Malaysia:<br> 1\"], \"x\": [-0.9396925568580627], \"y\": [0.3420202136039734], \"type\": \"scatter\"}, {\"marker\": {\"size\": [199], \"sizemode\": \"area\", \"sizeref\": 0.05}, \"mode\": \"markers+text\", \"name\": \"Denmark\", \"text\": [\"Denmark:<br> 1\"], \"x\": [-0.9396925568580627], \"y\": [-0.3420201539993286], \"type\": \"scatter\"}, {\"marker\": {\"size\": [193], \"sizemode\": \"area\", \"sizeref\": 0.05}, \"mode\": \"markers+text\", \"name\": \"Bolivia\", \"text\": [\"Bolivia:<br> 7\"], \"x\": [-0.49999988079071045], \"y\": [-0.866025447845459], \"type\": \"scatter\"}, {\"marker\": {\"size\": [199], \"sizemode\": \"area\", \"sizeref\": 0.05}, \"mode\": \"markers+text\", \"name\": \"Austria\", \"text\": [\"Austria:<br> 1\"], \"x\": [0.1736481785774231], \"y\": [-0.9848077297210693], \"type\": \"scatter\"}, {\"marker\": {\"size\": [199], \"sizemode\": \"area\", \"sizeref\": 0.05}, \"mode\": \"markers+text\", \"name\": \"Portugal\", \"text\": [\"Portugal:<br> 1\"], \"x\": [0.7660443782806396], \"y\": [-0.642787754535675], \"type\": \"scatter\"}], \"name\": \"2017-02-01\"}, {\"data\": [{\"marker\": {\"size\": [198], \"sizemode\": \"area\", \"sizeref\": 0.05}, \"mode\": \"markers+text\", \"name\": \"United States\", \"text\": [\"United States:<br> 2\"], \"x\": [1.0], \"y\": [6.622738357719982e-09], \"type\": \"scatter\"}, {\"marker\": {\"size\": [199], \"sizemode\": \"area\", \"sizeref\": 0.05}, \"mode\": \"markers+text\", \"name\": \"Switzerland\", \"text\": [\"Switzerland:<br> 1\"], \"x\": [0.7660444974899292], \"y\": [0.6427875757217407], \"type\": \"scatter\"}, {\"marker\": {\"size\": [199], \"sizemode\": \"area\", \"sizeref\": 0.05}, \"mode\": \"markers+text\", \"name\": \"Hungary\", \"text\": [\"Hungary:<br> 1\"], \"x\": [0.17364825308322906], \"y\": [0.9848077297210693], \"type\": \"scatter\"}, {\"marker\": {\"size\": [195], \"sizemode\": \"area\", \"sizeref\": 0.05}, \"mode\": \"markers+text\", \"name\": \"Peru\", \"text\": [\"Peru:<br> 5\"], \"x\": [-0.5], \"y\": [0.8660253882408142], \"type\": \"scatter\"}, {\"marker\": {\"size\": [199], \"sizemode\": \"area\", \"sizeref\": 0.05}, \"mode\": \"markers+text\", \"name\": \"Malaysia\", \"text\": [\"Malaysia:<br> 1\"], \"x\": [-0.9396925568580627], \"y\": [0.3420202136039734], \"type\": \"scatter\"}, {\"marker\": {\"size\": [199], \"sizemode\": \"area\", \"sizeref\": 0.05}, \"mode\": \"markers+text\", \"name\": \"Denmark\", \"text\": [\"Denmark:<br> 1\"], \"x\": [-0.9396925568580627], \"y\": [-0.3420201539993286], \"type\": \"scatter\"}, {\"marker\": {\"size\": [195], \"sizemode\": \"area\", \"sizeref\": 0.05}, \"mode\": \"markers+text\", \"name\": \"Bolivia\", \"text\": [\"Bolivia:<br> 5\"], \"x\": [-0.49999988079071045], \"y\": [-0.866025447845459], \"type\": \"scatter\"}, {\"marker\": {\"size\": [199], \"sizemode\": \"area\", \"sizeref\": 0.05}, \"mode\": \"markers+text\", \"name\": \"Austria\", \"text\": [\"Austria:<br> 1\"], \"x\": [0.1736481785774231], \"y\": [-0.9848077297210693], \"type\": \"scatter\"}, {\"marker\": {\"size\": [199], \"sizemode\": \"area\", \"sizeref\": 0.05}, \"mode\": \"markers+text\", \"name\": \"Portugal\", \"text\": [\"Portugal:<br> 1\"], \"x\": [0.7660443782806396], \"y\": [-0.642787754535675], \"type\": \"scatter\"}], \"name\": \"2017-02-02\"}, {\"data\": [{\"marker\": {\"size\": [198], \"sizemode\": \"area\", \"sizeref\": 0.05}, \"mode\": \"markers+text\", \"name\": \"United States\", \"text\": [\"United States:<br> 2\"], \"x\": [1.0], \"y\": [6.622738357719982e-09], \"type\": \"scatter\"}, {\"marker\": {\"size\": [199], \"sizemode\": \"area\", \"sizeref\": 0.05}, \"mode\": \"markers+text\", \"name\": \"Switzerland\", \"text\": [\"Switzerland:<br> 1\"], \"x\": [0.7660444974899292], \"y\": [0.6427875757217407], \"type\": \"scatter\"}, {\"marker\": {\"size\": [199], \"sizemode\": \"area\", \"sizeref\": 0.05}, \"mode\": \"markers+text\", \"name\": \"Hungary\", \"text\": [\"Hungary:<br> 1\"], \"x\": [0.17364825308322906], \"y\": [0.9848077297210693], \"type\": \"scatter\"}, {\"marker\": {\"size\": [195], \"sizemode\": \"area\", \"sizeref\": 0.05}, \"mode\": \"markers+text\", \"name\": \"Peru\", \"text\": [\"Peru:<br> 5\"], \"x\": [-0.5], \"y\": [0.8660253882408142], \"type\": \"scatter\"}, {\"marker\": {\"size\": [199], \"sizemode\": \"area\", \"sizeref\": 0.05}, \"mode\": \"markers+text\", \"name\": \"Malaysia\", \"text\": [\"Malaysia:<br> 1\"], \"x\": [-0.9396925568580627], \"y\": [0.3420202136039734], \"type\": \"scatter\"}, {\"marker\": {\"size\": [199], \"sizemode\": \"area\", \"sizeref\": 0.05}, \"mode\": \"markers+text\", \"name\": \"Denmark\", \"text\": [\"Denmark:<br> 1\"], \"x\": [-0.9396925568580627], \"y\": [-0.3420201539993286], \"type\": \"scatter\"}, {\"marker\": {\"size\": [194], \"sizemode\": \"area\", \"sizeref\": 0.05}, \"mode\": \"markers+text\", \"name\": \"Bolivia\", \"text\": [\"Bolivia:<br> 6\"], \"x\": [-0.49999988079071045], \"y\": [-0.866025447845459], \"type\": \"scatter\"}, {\"marker\": {\"size\": [199], \"sizemode\": \"area\", \"sizeref\": 0.05}, \"mode\": \"markers+text\", \"name\": \"Austria\", \"text\": [\"Austria:<br> 1\"], \"x\": [0.1736481785774231], \"y\": [-0.9848077297210693], \"type\": \"scatter\"}, {\"marker\": {\"size\": [199], \"sizemode\": \"area\", \"sizeref\": 0.05}, \"mode\": \"markers+text\", \"name\": \"Portugal\", \"text\": [\"Portugal:<br> 1\"], \"x\": [0.7660443782806396], \"y\": [-0.642787754535675], \"type\": \"scatter\"}], \"name\": \"2017-02-03\"}, {\"data\": [{\"marker\": {\"size\": [198], \"sizemode\": \"area\", \"sizeref\": 0.05}, \"mode\": \"markers+text\", \"name\": \"United States\", \"text\": [\"United States:<br> 2\"], \"x\": [1.0], \"y\": [6.622738357719982e-09], \"type\": \"scatter\"}, {\"marker\": {\"size\": [199], \"sizemode\": \"area\", \"sizeref\": 0.05}, \"mode\": \"markers+text\", \"name\": \"Switzerland\", \"text\": [\"Switzerland:<br> 1\"], \"x\": [0.7660444974899292], \"y\": [0.6427875757217407], \"type\": \"scatter\"}, {\"marker\": {\"size\": [199], \"sizemode\": \"area\", \"sizeref\": 0.05}, \"mode\": \"markers+text\", \"name\": \"Hungary\", \"text\": [\"Hungary:<br> 1\"], \"x\": [0.17364825308322906], \"y\": [0.9848077297210693], \"type\": \"scatter\"}, {\"marker\": {\"size\": [194], \"sizemode\": \"area\", \"sizeref\": 0.05}, \"mode\": \"markers+text\", \"name\": \"Peru\", \"text\": [\"Peru:<br> 6\"], \"x\": [-0.5], \"y\": [0.8660253882408142], \"type\": \"scatter\"}, {\"marker\": {\"size\": [199], \"sizemode\": \"area\", \"sizeref\": 0.05}, \"mode\": \"markers+text\", \"name\": \"Malaysia\", \"text\": [\"Malaysia:<br> 1\"], \"x\": [-0.9396925568580627], \"y\": [0.3420202136039734], \"type\": \"scatter\"}, {\"marker\": {\"size\": [199], \"sizemode\": \"area\", \"sizeref\": 0.05}, \"mode\": \"markers+text\", \"name\": \"Denmark\", \"text\": [\"Denmark:<br> 1\"], \"x\": [-0.9396925568580627], \"y\": [-0.3420201539993286], \"type\": \"scatter\"}, {\"marker\": {\"size\": [193], \"sizemode\": \"area\", \"sizeref\": 0.05}, \"mode\": \"markers+text\", \"name\": \"Bolivia\", \"text\": [\"Bolivia:<br> 7\"], \"x\": [-0.49999988079071045], \"y\": [-0.866025447845459], \"type\": \"scatter\"}, {\"marker\": {\"size\": [199], \"sizemode\": \"area\", \"sizeref\": 0.05}, \"mode\": \"markers+text\", \"name\": \"Austria\", \"text\": [\"Austria:<br> 1\"], \"x\": [0.1736481785774231], \"y\": [-0.9848077297210693], \"type\": \"scatter\"}, {\"marker\": {\"size\": [199], \"sizemode\": \"area\", \"sizeref\": 0.05}, \"mode\": \"markers+text\", \"name\": \"Portugal\", \"text\": [\"Portugal:<br> 1\"], \"x\": [0.7660443782806396], \"y\": [-0.642787754535675], \"type\": \"scatter\"}], \"name\": \"2017-02-04\"}, {\"data\": [{\"marker\": {\"size\": [198], \"sizemode\": \"area\", \"sizeref\": 0.05}, \"mode\": \"markers+text\", \"name\": \"United States\", \"text\": [\"United States:<br> 2\"], \"x\": [1.0], \"y\": [6.622738357719982e-09], \"type\": \"scatter\"}, {\"marker\": {\"size\": [199], \"sizemode\": \"area\", \"sizeref\": 0.05}, \"mode\": \"markers+text\", \"name\": \"Switzerland\", \"text\": [\"Switzerland:<br> 1\"], \"x\": [0.7660444974899292], \"y\": [0.6427875757217407], \"type\": \"scatter\"}, {\"marker\": {\"size\": [199], \"sizemode\": \"area\", \"sizeref\": 0.05}, \"mode\": \"markers+text\", \"name\": \"Hungary\", \"text\": [\"Hungary:<br> 1\"], \"x\": [0.17364825308322906], \"y\": [0.9848077297210693], \"type\": \"scatter\"}, {\"marker\": {\"size\": [194], \"sizemode\": \"area\", \"sizeref\": 0.05}, \"mode\": \"markers+text\", \"name\": \"Peru\", \"text\": [\"Peru:<br> 6\"], \"x\": [-0.5], \"y\": [0.8660253882408142], \"type\": \"scatter\"}, {\"marker\": {\"size\": [199], \"sizemode\": \"area\", \"sizeref\": 0.05}, \"mode\": \"markers+text\", \"name\": \"Malaysia\", \"text\": [\"Malaysia:<br> 1\"], \"x\": [-0.9396925568580627], \"y\": [0.3420202136039734], \"type\": \"scatter\"}, {\"marker\": {\"size\": [199], \"sizemode\": \"area\", \"sizeref\": 0.05}, \"mode\": \"markers+text\", \"name\": \"Denmark\", \"text\": [\"Denmark:<br> 1\"], \"x\": [-0.9396925568580627], \"y\": [-0.3420201539993286], \"type\": \"scatter\"}, {\"marker\": {\"size\": [193], \"sizemode\": \"area\", \"sizeref\": 0.05}, \"mode\": \"markers+text\", \"name\": \"Bolivia\", \"text\": [\"Bolivia:<br> 7\"], \"x\": [-0.49999988079071045], \"y\": [-0.866025447845459], \"type\": \"scatter\"}, {\"marker\": {\"size\": [199], \"sizemode\": \"area\", \"sizeref\": 0.05}, \"mode\": \"markers+text\", \"name\": \"Austria\", \"text\": [\"Austria:<br> 1\"], \"x\": [0.1736481785774231], \"y\": [-0.9848077297210693], \"type\": \"scatter\"}, {\"marker\": {\"size\": [199], \"sizemode\": \"area\", \"sizeref\": 0.05}, \"mode\": \"markers+text\", \"name\": \"Portugal\", \"text\": [\"Portugal:<br> 1\"], \"x\": [0.7660443782806396], \"y\": [-0.642787754535675], \"type\": \"scatter\"}], \"name\": \"2017-02-05\"}, {\"data\": [{\"marker\": {\"size\": [199], \"sizemode\": \"area\", \"sizeref\": 0.05}, \"mode\": \"markers+text\", \"name\": \"United States\", \"text\": [\"United States:<br> 1\"], \"x\": [1.0], \"y\": [6.622738357719982e-09], \"type\": \"scatter\"}, {\"marker\": {\"size\": [199], \"sizemode\": \"area\", \"sizeref\": 0.05}, \"mode\": \"markers+text\", \"name\": \"Switzerland\", \"text\": [\"Switzerland:<br> 1\"], \"x\": [0.7660444974899292], \"y\": [0.6427875757217407], \"type\": \"scatter\"}, {\"marker\": {\"size\": [199], \"sizemode\": \"area\", \"sizeref\": 0.05}, \"mode\": \"markers+text\", \"name\": \"Hungary\", \"text\": [\"Hungary:<br> 1\"], \"x\": [0.17364825308322906], \"y\": [0.9848077297210693], \"type\": \"scatter\"}, {\"marker\": {\"size\": [195], \"sizemode\": \"area\", \"sizeref\": 0.05}, \"mode\": \"markers+text\", \"name\": \"Peru\", \"text\": [\"Peru:<br> 5\"], \"x\": [-0.5], \"y\": [0.8660253882408142], \"type\": \"scatter\"}, {\"marker\": {\"size\": [199], \"sizemode\": \"area\", \"sizeref\": 0.05}, \"mode\": \"markers+text\", \"name\": \"Malaysia\", \"text\": [\"Malaysia:<br> 1\"], \"x\": [-0.9396925568580627], \"y\": [0.3420202136039734], \"type\": \"scatter\"}, {\"marker\": {\"size\": [199], \"sizemode\": \"area\", \"sizeref\": 0.05}, \"mode\": \"markers+text\", \"name\": \"Denmark\", \"text\": [\"Denmark:<br> 1\"], \"x\": [-0.9396925568580627], \"y\": [-0.3420201539993286], \"type\": \"scatter\"}, {\"marker\": {\"size\": [195], \"sizemode\": \"area\", \"sizeref\": 0.05}, \"mode\": \"markers+text\", \"name\": \"Bolivia\", \"text\": [\"Bolivia:<br> 5\"], \"x\": [-0.49999988079071045], \"y\": [-0.866025447845459], \"type\": \"scatter\"}, {\"marker\": {\"size\": [199], \"sizemode\": \"area\", \"sizeref\": 0.05}, \"mode\": \"markers+text\", \"name\": \"Austria\", \"text\": [\"Austria:<br> 1\"], \"x\": [0.1736481785774231], \"y\": [-0.9848077297210693], \"type\": \"scatter\"}, {\"marker\": {\"size\": [199], \"sizemode\": \"area\", \"sizeref\": 0.05}, \"mode\": \"markers+text\", \"name\": \"Portugal\", \"text\": [\"Portugal:<br> 1\"], \"x\": [0.7660443782806396], \"y\": [-0.642787754535675], \"type\": \"scatter\"}], \"name\": \"2017-02-06\"}, {\"data\": [{\"marker\": {\"size\": [199], \"sizemode\": \"area\", \"sizeref\": 0.05}, \"mode\": \"markers+text\", \"name\": \"United States\", \"text\": [\"United States:<br> 1\"], \"x\": [1.0], \"y\": [6.622738357719982e-09], \"type\": \"scatter\"}, {\"marker\": {\"size\": [199], \"sizemode\": \"area\", \"sizeref\": 0.05}, \"mode\": \"markers+text\", \"name\": \"Switzerland\", \"text\": [\"Switzerland:<br> 1\"], \"x\": [0.7660444974899292], \"y\": [0.6427875757217407], \"type\": \"scatter\"}, {\"marker\": {\"size\": [199], \"sizemode\": \"area\", \"sizeref\": 0.05}, \"mode\": \"markers+text\", \"name\": \"Hungary\", \"text\": [\"Hungary:<br> 1\"], \"x\": [0.17364825308322906], \"y\": [0.9848077297210693], \"type\": \"scatter\"}, {\"marker\": {\"size\": [195], \"sizemode\": \"area\", \"sizeref\": 0.05}, \"mode\": \"markers+text\", \"name\": \"Peru\", \"text\": [\"Peru:<br> 5\"], \"x\": [-0.5], \"y\": [0.8660253882408142], \"type\": \"scatter\"}, {\"marker\": {\"size\": [199], \"sizemode\": \"area\", \"sizeref\": 0.05}, \"mode\": \"markers+text\", \"name\": \"Malaysia\", \"text\": [\"Malaysia:<br> 1\"], \"x\": [-0.9396925568580627], \"y\": [0.3420202136039734], \"type\": \"scatter\"}, {\"marker\": {\"size\": [199], \"sizemode\": \"area\", \"sizeref\": 0.05}, \"mode\": \"markers+text\", \"name\": \"Denmark\", \"text\": [\"Denmark:<br> 1\"], \"x\": [-0.9396925568580627], \"y\": [-0.3420201539993286], \"type\": \"scatter\"}, {\"marker\": {\"size\": [195], \"sizemode\": \"area\", \"sizeref\": 0.05}, \"mode\": \"markers+text\", \"name\": \"Bolivia\", \"text\": [\"Bolivia:<br> 5\"], \"x\": [-0.49999988079071045], \"y\": [-0.866025447845459], \"type\": \"scatter\"}, {\"marker\": {\"size\": [199], \"sizemode\": \"area\", \"sizeref\": 0.05}, \"mode\": \"markers+text\", \"name\": \"Austria\", \"text\": [\"Austria:<br> 1\"], \"x\": [0.1736481785774231], \"y\": [-0.9848077297210693], \"type\": \"scatter\"}, {\"marker\": {\"size\": [199], \"sizemode\": \"area\", \"sizeref\": 0.05}, \"mode\": \"markers+text\", \"name\": \"Portugal\", \"text\": [\"Portugal:<br> 1\"], \"x\": [0.7660443782806396], \"y\": [-0.642787754535675], \"type\": \"scatter\"}], \"name\": \"2017-02-07\"}, {\"data\": [{\"marker\": {\"size\": [199], \"sizemode\": \"area\", \"sizeref\": 0.05}, \"mode\": \"markers+text\", \"name\": \"United States\", \"text\": [\"United States:<br> 1\"], \"x\": [1.0], \"y\": [6.622738357719982e-09], \"type\": \"scatter\"}, {\"marker\": {\"size\": [199], \"sizemode\": \"area\", \"sizeref\": 0.05}, \"mode\": \"markers+text\", \"name\": \"Switzerland\", \"text\": [\"Switzerland:<br> 1\"], \"x\": [0.7660444974899292], \"y\": [0.6427875757217407], \"type\": \"scatter\"}, {\"marker\": {\"size\": [199], \"sizemode\": \"area\", \"sizeref\": 0.05}, \"mode\": \"markers+text\", \"name\": \"Hungary\", \"text\": [\"Hungary:<br> 1\"], \"x\": [0.17364825308322906], \"y\": [0.9848077297210693], \"type\": \"scatter\"}, {\"marker\": {\"size\": [195], \"sizemode\": \"area\", \"sizeref\": 0.05}, \"mode\": \"markers+text\", \"name\": \"Peru\", \"text\": [\"Peru:<br> 5\"], \"x\": [-0.5], \"y\": [0.8660253882408142], \"type\": \"scatter\"}, {\"marker\": {\"size\": [199], \"sizemode\": \"area\", \"sizeref\": 0.05}, \"mode\": \"markers+text\", \"name\": \"Malaysia\", \"text\": [\"Malaysia:<br> 1\"], \"x\": [-0.9396925568580627], \"y\": [0.3420202136039734], \"type\": \"scatter\"}, {\"marker\": {\"size\": [199], \"sizemode\": \"area\", \"sizeref\": 0.05}, \"mode\": \"markers+text\", \"name\": \"Denmark\", \"text\": [\"Denmark:<br> 1\"], \"x\": [-0.9396925568580627], \"y\": [-0.3420201539993286], \"type\": \"scatter\"}, {\"marker\": {\"size\": [195], \"sizemode\": \"area\", \"sizeref\": 0.05}, \"mode\": \"markers+text\", \"name\": \"Bolivia\", \"text\": [\"Bolivia:<br> 5\"], \"x\": [-0.49999988079071045], \"y\": [-0.866025447845459], \"type\": \"scatter\"}, {\"marker\": {\"size\": [199], \"sizemode\": \"area\", \"sizeref\": 0.05}, \"mode\": \"markers+text\", \"name\": \"Austria\", \"text\": [\"Austria:<br> 1\"], \"x\": [0.1736481785774231], \"y\": [-0.9848077297210693], \"type\": \"scatter\"}, {\"marker\": {\"size\": [199], \"sizemode\": \"area\", \"sizeref\": 0.05}, \"mode\": \"markers+text\", \"name\": \"Portugal\", \"text\": [\"Portugal:<br> 1\"], \"x\": [0.7660443782806396], \"y\": [-0.642787754535675], \"type\": \"scatter\"}], \"name\": \"2017-02-08\"}, {\"data\": [{\"marker\": {\"size\": [199], \"sizemode\": \"area\", \"sizeref\": 0.05}, \"mode\": \"markers+text\", \"name\": \"United States\", \"text\": [\"United States:<br> 1\"], \"x\": [1.0], \"y\": [6.622738357719982e-09], \"type\": \"scatter\"}, {\"marker\": {\"size\": [199], \"sizemode\": \"area\", \"sizeref\": 0.05}, \"mode\": \"markers+text\", \"name\": \"Switzerland\", \"text\": [\"Switzerland:<br> 1\"], \"x\": [0.7660444974899292], \"y\": [0.6427875757217407], \"type\": \"scatter\"}, {\"marker\": {\"size\": [199], \"sizemode\": \"area\", \"sizeref\": 0.05}, \"mode\": \"markers+text\", \"name\": \"Hungary\", \"text\": [\"Hungary:<br> 1\"], \"x\": [0.17364825308322906], \"y\": [0.9848077297210693], \"type\": \"scatter\"}, {\"marker\": {\"size\": [195], \"sizemode\": \"area\", \"sizeref\": 0.05}, \"mode\": \"markers+text\", \"name\": \"Peru\", \"text\": [\"Peru:<br> 5\"], \"x\": [-0.5], \"y\": [0.8660253882408142], \"type\": \"scatter\"}, {\"marker\": {\"size\": [199], \"sizemode\": \"area\", \"sizeref\": 0.05}, \"mode\": \"markers+text\", \"name\": \"Malaysia\", \"text\": [\"Malaysia:<br> 1\"], \"x\": [-0.9396925568580627], \"y\": [0.3420202136039734], \"type\": \"scatter\"}, {\"marker\": {\"size\": [199], \"sizemode\": \"area\", \"sizeref\": 0.05}, \"mode\": \"markers+text\", \"name\": \"Denmark\", \"text\": [\"Denmark:<br> 1\"], \"x\": [-0.9396925568580627], \"y\": [-0.3420201539993286], \"type\": \"scatter\"}, {\"marker\": {\"size\": [195], \"sizemode\": \"area\", \"sizeref\": 0.05}, \"mode\": \"markers+text\", \"name\": \"Bolivia\", \"text\": [\"Bolivia:<br> 5\"], \"x\": [-0.49999988079071045], \"y\": [-0.866025447845459], \"type\": \"scatter\"}, {\"marker\": {\"size\": [199], \"sizemode\": \"area\", \"sizeref\": 0.05}, \"mode\": \"markers+text\", \"name\": \"Austria\", \"text\": [\"Austria:<br> 1\"], \"x\": [0.1736481785774231], \"y\": [-0.9848077297210693], \"type\": \"scatter\"}, {\"marker\": {\"size\": [199], \"sizemode\": \"area\", \"sizeref\": 0.05}, \"mode\": \"markers+text\", \"name\": \"Portugal\", \"text\": [\"Portugal:<br> 1\"], \"x\": [0.7660443782806396], \"y\": [-0.642787754535675], \"type\": \"scatter\"}], \"name\": \"2017-02-09\"}, {\"data\": [{\"marker\": {\"size\": [199], \"sizemode\": \"area\", \"sizeref\": 0.05}, \"mode\": \"markers+text\", \"name\": \"United States\", \"text\": [\"United States:<br> 1\"], \"x\": [1.0], \"y\": [6.622738357719982e-09], \"type\": \"scatter\"}, {\"marker\": {\"size\": [199], \"sizemode\": \"area\", \"sizeref\": 0.05}, \"mode\": \"markers+text\", \"name\": \"Switzerland\", \"text\": [\"Switzerland:<br> 1\"], \"x\": [0.7660444974899292], \"y\": [0.6427875757217407], \"type\": \"scatter\"}, {\"marker\": {\"size\": [199], \"sizemode\": \"area\", \"sizeref\": 0.05}, \"mode\": \"markers+text\", \"name\": \"Hungary\", \"text\": [\"Hungary:<br> 1\"], \"x\": [0.17364825308322906], \"y\": [0.9848077297210693], \"type\": \"scatter\"}, {\"marker\": {\"size\": [195], \"sizemode\": \"area\", \"sizeref\": 0.05}, \"mode\": \"markers+text\", \"name\": \"Peru\", \"text\": [\"Peru:<br> 5\"], \"x\": [-0.5], \"y\": [0.8660253882408142], \"type\": \"scatter\"}, {\"marker\": {\"size\": [199], \"sizemode\": \"area\", \"sizeref\": 0.05}, \"mode\": \"markers+text\", \"name\": \"Malaysia\", \"text\": [\"Malaysia:<br> 1\"], \"x\": [-0.9396925568580627], \"y\": [0.3420202136039734], \"type\": \"scatter\"}, {\"marker\": {\"size\": [199], \"sizemode\": \"area\", \"sizeref\": 0.05}, \"mode\": \"markers+text\", \"name\": \"Denmark\", \"text\": [\"Denmark:<br> 1\"], \"x\": [-0.9396925568580627], \"y\": [-0.3420201539993286], \"type\": \"scatter\"}, {\"marker\": {\"size\": [195], \"sizemode\": \"area\", \"sizeref\": 0.05}, \"mode\": \"markers+text\", \"name\": \"Bolivia\", \"text\": [\"Bolivia:<br> 5\"], \"x\": [-0.49999988079071045], \"y\": [-0.866025447845459], \"type\": \"scatter\"}, {\"marker\": {\"size\": [199], \"sizemode\": \"area\", \"sizeref\": 0.05}, \"mode\": \"markers+text\", \"name\": \"Austria\", \"text\": [\"Austria:<br> 1\"], \"x\": [0.1736481785774231], \"y\": [-0.9848077297210693], \"type\": \"scatter\"}, {\"marker\": {\"size\": [199], \"sizemode\": \"area\", \"sizeref\": 0.05}, \"mode\": \"markers+text\", \"name\": \"Portugal\", \"text\": [\"Portugal:<br> 1\"], \"x\": [0.7660443782806396], \"y\": [-0.642787754535675], \"type\": \"scatter\"}], \"name\": \"2017-02-10\"}, {\"data\": [{\"marker\": {\"size\": [198], \"sizemode\": \"area\", \"sizeref\": 0.05}, \"mode\": \"markers+text\", \"name\": \"United States\", \"text\": [\"United States:<br> 2\"], \"x\": [1.0], \"y\": [6.622738357719982e-09], \"type\": \"scatter\"}, {\"marker\": {\"size\": [199], \"sizemode\": \"area\", \"sizeref\": 0.05}, \"mode\": \"markers+text\", \"name\": \"Switzerland\", \"text\": [\"Switzerland:<br> 1\"], \"x\": [0.7660444974899292], \"y\": [0.6427875757217407], \"type\": \"scatter\"}, {\"marker\": {\"size\": [199], \"sizemode\": \"area\", \"sizeref\": 0.05}, \"mode\": \"markers+text\", \"name\": \"Hungary\", \"text\": [\"Hungary:<br> 1\"], \"x\": [0.17364825308322906], \"y\": [0.9848077297210693], \"type\": \"scatter\"}, {\"marker\": {\"size\": [195], \"sizemode\": \"area\", \"sizeref\": 0.05}, \"mode\": \"markers+text\", \"name\": \"Peru\", \"text\": [\"Peru:<br> 5\"], \"x\": [-0.5], \"y\": [0.8660253882408142], \"type\": \"scatter\"}, {\"marker\": {\"size\": [199], \"sizemode\": \"area\", \"sizeref\": 0.05}, \"mode\": \"markers+text\", \"name\": \"Malaysia\", \"text\": [\"Malaysia:<br> 1\"], \"x\": [-0.9396925568580627], \"y\": [0.3420202136039734], \"type\": \"scatter\"}, {\"marker\": {\"size\": [199], \"sizemode\": \"area\", \"sizeref\": 0.05}, \"mode\": \"markers+text\", \"name\": \"Denmark\", \"text\": [\"Denmark:<br> 1\"], \"x\": [-0.9396925568580627], \"y\": [-0.3420201539993286], \"type\": \"scatter\"}, {\"marker\": {\"size\": [195], \"sizemode\": \"area\", \"sizeref\": 0.05}, \"mode\": \"markers+text\", \"name\": \"Bolivia\", \"text\": [\"Bolivia:<br> 5\"], \"x\": [-0.49999988079071045], \"y\": [-0.866025447845459], \"type\": \"scatter\"}, {\"marker\": {\"size\": [199], \"sizemode\": \"area\", \"sizeref\": 0.05}, \"mode\": \"markers+text\", \"name\": \"Austria\", \"text\": [\"Austria:<br> 1\"], \"x\": [0.1736481785774231], \"y\": [-0.9848077297210693], \"type\": \"scatter\"}, {\"marker\": {\"size\": [199], \"sizemode\": \"area\", \"sizeref\": 0.05}, \"mode\": \"markers+text\", \"name\": \"Portugal\", \"text\": [\"Portugal:<br> 1\"], \"x\": [0.7660443782806396], \"y\": [-0.642787754535675], \"type\": \"scatter\"}], \"name\": \"2017-02-11\"}, {\"data\": [{\"marker\": {\"size\": [199], \"sizemode\": \"area\", \"sizeref\": 0.05}, \"mode\": \"markers+text\", \"name\": \"United States\", \"text\": [\"United States:<br> 1\"], \"x\": [1.0], \"y\": [6.622738357719982e-09], \"type\": \"scatter\"}, {\"marker\": {\"size\": [199], \"sizemode\": \"area\", \"sizeref\": 0.05}, \"mode\": \"markers+text\", \"name\": \"Switzerland\", \"text\": [\"Switzerland:<br> 1\"], \"x\": [0.7660444974899292], \"y\": [0.6427875757217407], \"type\": \"scatter\"}, {\"marker\": {\"size\": [199], \"sizemode\": \"area\", \"sizeref\": 0.05}, \"mode\": \"markers+text\", \"name\": \"Hungary\", \"text\": [\"Hungary:<br> 1\"], \"x\": [0.17364825308322906], \"y\": [0.9848077297210693], \"type\": \"scatter\"}, {\"marker\": {\"size\": [195], \"sizemode\": \"area\", \"sizeref\": 0.05}, \"mode\": \"markers+text\", \"name\": \"Peru\", \"text\": [\"Peru:<br> 5\"], \"x\": [-0.5], \"y\": [0.8660253882408142], \"type\": \"scatter\"}, {\"marker\": {\"size\": [199], \"sizemode\": \"area\", \"sizeref\": 0.05}, \"mode\": \"markers+text\", \"name\": \"Malaysia\", \"text\": [\"Malaysia:<br> 1\"], \"x\": [-0.9396925568580627], \"y\": [0.3420202136039734], \"type\": \"scatter\"}, {\"marker\": {\"size\": [199], \"sizemode\": \"area\", \"sizeref\": 0.05}, \"mode\": \"markers+text\", \"name\": \"Denmark\", \"text\": [\"Denmark:<br> 1\"], \"x\": [-0.9396925568580627], \"y\": [-0.3420201539993286], \"type\": \"scatter\"}, {\"marker\": {\"size\": [195], \"sizemode\": \"area\", \"sizeref\": 0.05}, \"mode\": \"markers+text\", \"name\": \"Bolivia\", \"text\": [\"Bolivia:<br> 5\"], \"x\": [-0.49999988079071045], \"y\": [-0.866025447845459], \"type\": \"scatter\"}, {\"marker\": {\"size\": [199], \"sizemode\": \"area\", \"sizeref\": 0.05}, \"mode\": \"markers+text\", \"name\": \"Austria\", \"text\": [\"Austria:<br> 1\"], \"x\": [0.1736481785774231], \"y\": [-0.9848077297210693], \"type\": \"scatter\"}, {\"marker\": {\"size\": [199], \"sizemode\": \"area\", \"sizeref\": 0.05}, \"mode\": \"markers+text\", \"name\": \"Portugal\", \"text\": [\"Portugal:<br> 1\"], \"x\": [0.7660443782806396], \"y\": [-0.642787754535675], \"type\": \"scatter\"}], \"name\": \"2017-02-12\"}, {\"data\": [{\"marker\": {\"size\": [199], \"sizemode\": \"area\", \"sizeref\": 0.05}, \"mode\": \"markers+text\", \"name\": \"United States\", \"text\": [\"United States:<br> 1\"], \"x\": [1.0], \"y\": [6.622738357719982e-09], \"type\": \"scatter\"}, {\"marker\": {\"size\": [199], \"sizemode\": \"area\", \"sizeref\": 0.05}, \"mode\": \"markers+text\", \"name\": \"Switzerland\", \"text\": [\"Switzerland:<br> 1\"], \"x\": [0.7660444974899292], \"y\": [0.6427875757217407], \"type\": \"scatter\"}, {\"marker\": {\"size\": [199], \"sizemode\": \"area\", \"sizeref\": 0.05}, \"mode\": \"markers+text\", \"name\": \"Hungary\", \"text\": [\"Hungary:<br> 1\"], \"x\": [0.17364825308322906], \"y\": [0.9848077297210693], \"type\": \"scatter\"}, {\"marker\": {\"size\": [196], \"sizemode\": \"area\", \"sizeref\": 0.05}, \"mode\": \"markers+text\", \"name\": \"Peru\", \"text\": [\"Peru:<br> 4\"], \"x\": [-0.5], \"y\": [0.8660253882408142], \"type\": \"scatter\"}, {\"marker\": {\"size\": [199], \"sizemode\": \"area\", \"sizeref\": 0.05}, \"mode\": \"markers+text\", \"name\": \"Malaysia\", \"text\": [\"Malaysia:<br> 1\"], \"x\": [-0.9396925568580627], \"y\": [0.3420202136039734], \"type\": \"scatter\"}, {\"marker\": {\"size\": [199], \"sizemode\": \"area\", \"sizeref\": 0.05}, \"mode\": \"markers+text\", \"name\": \"Denmark\", \"text\": [\"Denmark:<br> 1\"], \"x\": [-0.9396925568580627], \"y\": [-0.3420201539993286], \"type\": \"scatter\"}, {\"marker\": {\"size\": [196], \"sizemode\": \"area\", \"sizeref\": 0.05}, \"mode\": \"markers+text\", \"name\": \"Bolivia\", \"text\": [\"Bolivia:<br> 4\"], \"x\": [-0.49999988079071045], \"y\": [-0.866025447845459], \"type\": \"scatter\"}, {\"marker\": {\"size\": [199], \"sizemode\": \"area\", \"sizeref\": 0.05}, \"mode\": \"markers+text\", \"name\": \"Austria\", \"text\": [\"Austria:<br> 1\"], \"x\": [0.1736481785774231], \"y\": [-0.9848077297210693], \"type\": \"scatter\"}, {\"marker\": {\"size\": [199], \"sizemode\": \"area\", \"sizeref\": 0.05}, \"mode\": \"markers+text\", \"name\": \"Portugal\", \"text\": [\"Portugal:<br> 1\"], \"x\": [0.7660443782806396], \"y\": [-0.642787754535675], \"type\": \"scatter\"}], \"name\": \"2017-02-13\"}, {\"data\": [{\"marker\": {\"size\": [199], \"sizemode\": \"area\", \"sizeref\": 0.05}, \"mode\": \"markers+text\", \"name\": \"United States\", \"text\": [\"United States:<br> 1\"], \"x\": [1.0], \"y\": [6.622738357719982e-09], \"type\": \"scatter\"}, {\"marker\": {\"size\": [199], \"sizemode\": \"area\", \"sizeref\": 0.05}, \"mode\": \"markers+text\", \"name\": \"Switzerland\", \"text\": [\"Switzerland:<br> 1\"], \"x\": [0.7660444974899292], \"y\": [0.6427875757217407], \"type\": \"scatter\"}, {\"marker\": {\"size\": [199], \"sizemode\": \"area\", \"sizeref\": 0.05}, \"mode\": \"markers+text\", \"name\": \"Hungary\", \"text\": [\"Hungary:<br> 1\"], \"x\": [0.17364825308322906], \"y\": [0.9848077297210693], \"type\": \"scatter\"}, {\"marker\": {\"size\": [196], \"sizemode\": \"area\", \"sizeref\": 0.05}, \"mode\": \"markers+text\", \"name\": \"Peru\", \"text\": [\"Peru:<br> 4\"], \"x\": [-0.5], \"y\": [0.8660253882408142], \"type\": \"scatter\"}, {\"marker\": {\"size\": [199], \"sizemode\": \"area\", \"sizeref\": 0.05}, \"mode\": \"markers+text\", \"name\": \"Malaysia\", \"text\": [\"Malaysia:<br> 1\"], \"x\": [-0.9396925568580627], \"y\": [0.3420202136039734], \"type\": \"scatter\"}, {\"marker\": {\"size\": [199], \"sizemode\": \"area\", \"sizeref\": 0.05}, \"mode\": \"markers+text\", \"name\": \"Denmark\", \"text\": [\"Denmark:<br> 1\"], \"x\": [-0.9396925568580627], \"y\": [-0.3420201539993286], \"type\": \"scatter\"}, {\"marker\": {\"size\": [195], \"sizemode\": \"area\", \"sizeref\": 0.05}, \"mode\": \"markers+text\", \"name\": \"Bolivia\", \"text\": [\"Bolivia:<br> 5\"], \"x\": [-0.49999988079071045], \"y\": [-0.866025447845459], \"type\": \"scatter\"}, {\"marker\": {\"size\": [199], \"sizemode\": \"area\", \"sizeref\": 0.05}, \"mode\": \"markers+text\", \"name\": \"Austria\", \"text\": [\"Austria:<br> 1\"], \"x\": [0.1736481785774231], \"y\": [-0.9848077297210693], \"type\": \"scatter\"}, {\"marker\": {\"size\": [199], \"sizemode\": \"area\", \"sizeref\": 0.05}, \"mode\": \"markers+text\", \"name\": \"Portugal\", \"text\": [\"Portugal:<br> 1\"], \"x\": [0.7660443782806396], \"y\": [-0.642787754535675], \"type\": \"scatter\"}], \"name\": \"2017-02-14\"}, {\"data\": [{\"marker\": {\"size\": [199], \"sizemode\": \"area\", \"sizeref\": 0.05}, \"mode\": \"markers+text\", \"name\": \"United States\", \"text\": [\"United States:<br> 1\"], \"x\": [1.0], \"y\": [6.622738357719982e-09], \"type\": \"scatter\"}, {\"marker\": {\"size\": [199], \"sizemode\": \"area\", \"sizeref\": 0.05}, \"mode\": \"markers+text\", \"name\": \"Switzerland\", \"text\": [\"Switzerland:<br> 1\"], \"x\": [0.7660444974899292], \"y\": [0.6427875757217407], \"type\": \"scatter\"}, {\"marker\": {\"size\": [199], \"sizemode\": \"area\", \"sizeref\": 0.05}, \"mode\": \"markers+text\", \"name\": \"Hungary\", \"text\": [\"Hungary:<br> 1\"], \"x\": [0.17364825308322906], \"y\": [0.9848077297210693], \"type\": \"scatter\"}, {\"marker\": {\"size\": [196], \"sizemode\": \"area\", \"sizeref\": 0.05}, \"mode\": \"markers+text\", \"name\": \"Peru\", \"text\": [\"Peru:<br> 4\"], \"x\": [-0.5], \"y\": [0.8660253882408142], \"type\": \"scatter\"}, {\"marker\": {\"size\": [199], \"sizemode\": \"area\", \"sizeref\": 0.05}, \"mode\": \"markers+text\", \"name\": \"Malaysia\", \"text\": [\"Malaysia:<br> 1\"], \"x\": [-0.9396925568580627], \"y\": [0.3420202136039734], \"type\": \"scatter\"}, {\"marker\": {\"size\": [199], \"sizemode\": \"area\", \"sizeref\": 0.05}, \"mode\": \"markers+text\", \"name\": \"Denmark\", \"text\": [\"Denmark:<br> 1\"], \"x\": [-0.9396925568580627], \"y\": [-0.3420201539993286], \"type\": \"scatter\"}, {\"marker\": {\"size\": [196], \"sizemode\": \"area\", \"sizeref\": 0.05}, \"mode\": \"markers+text\", \"name\": \"Bolivia\", \"text\": [\"Bolivia:<br> 4\"], \"x\": [-0.49999988079071045], \"y\": [-0.866025447845459], \"type\": \"scatter\"}, {\"marker\": {\"size\": [199], \"sizemode\": \"area\", \"sizeref\": 0.05}, \"mode\": \"markers+text\", \"name\": \"Austria\", \"text\": [\"Austria:<br> 1\"], \"x\": [0.1736481785774231], \"y\": [-0.9848077297210693], \"type\": \"scatter\"}, {\"marker\": {\"size\": [199], \"sizemode\": \"area\", \"sizeref\": 0.05}, \"mode\": \"markers+text\", \"name\": \"Portugal\", \"text\": [\"Portugal:<br> 1\"], \"x\": [0.7660443782806396], \"y\": [-0.642787754535675], \"type\": \"scatter\"}], \"name\": \"2017-02-15\"}, {\"data\": [{\"marker\": {\"size\": [199], \"sizemode\": \"area\", \"sizeref\": 0.05}, \"mode\": \"markers+text\", \"name\": \"United States\", \"text\": [\"United States:<br> 1\"], \"x\": [1.0], \"y\": [6.622738357719982e-09], \"type\": \"scatter\"}, {\"marker\": {\"size\": [199], \"sizemode\": \"area\", \"sizeref\": 0.05}, \"mode\": \"markers+text\", \"name\": \"Switzerland\", \"text\": [\"Switzerland:<br> 1\"], \"x\": [0.7660444974899292], \"y\": [0.6427875757217407], \"type\": \"scatter\"}, {\"marker\": {\"size\": [199], \"sizemode\": \"area\", \"sizeref\": 0.05}, \"mode\": \"markers+text\", \"name\": \"Hungary\", \"text\": [\"Hungary:<br> 1\"], \"x\": [0.17364825308322906], \"y\": [0.9848077297210693], \"type\": \"scatter\"}, {\"marker\": {\"size\": [196], \"sizemode\": \"area\", \"sizeref\": 0.05}, \"mode\": \"markers+text\", \"name\": \"Peru\", \"text\": [\"Peru:<br> 4\"], \"x\": [-0.5], \"y\": [0.8660253882408142], \"type\": \"scatter\"}, {\"marker\": {\"size\": [199], \"sizemode\": \"area\", \"sizeref\": 0.05}, \"mode\": \"markers+text\", \"name\": \"Malaysia\", \"text\": [\"Malaysia:<br> 1\"], \"x\": [-0.9396925568580627], \"y\": [0.3420202136039734], \"type\": \"scatter\"}, {\"marker\": {\"size\": [199], \"sizemode\": \"area\", \"sizeref\": 0.05}, \"mode\": \"markers+text\", \"name\": \"Denmark\", \"text\": [\"Denmark:<br> 1\"], \"x\": [-0.9396925568580627], \"y\": [-0.3420201539993286], \"type\": \"scatter\"}, {\"marker\": {\"size\": [196], \"sizemode\": \"area\", \"sizeref\": 0.05}, \"mode\": \"markers+text\", \"name\": \"Bolivia\", \"text\": [\"Bolivia:<br> 4\"], \"x\": [-0.49999988079071045], \"y\": [-0.866025447845459], \"type\": \"scatter\"}, {\"marker\": {\"size\": [199], \"sizemode\": \"area\", \"sizeref\": 0.05}, \"mode\": \"markers+text\", \"name\": \"Austria\", \"text\": [\"Austria:<br> 1\"], \"x\": [0.1736481785774231], \"y\": [-0.9848077297210693], \"type\": \"scatter\"}, {\"marker\": {\"size\": [199], \"sizemode\": \"area\", \"sizeref\": 0.05}, \"mode\": \"markers+text\", \"name\": \"Portugal\", \"text\": [\"Portugal:<br> 1\"], \"x\": [0.7660443782806396], \"y\": [-0.642787754535675], \"type\": \"scatter\"}], \"name\": \"2017-02-16\"}, {\"data\": [{\"marker\": {\"size\": [199], \"sizemode\": \"area\", \"sizeref\": 0.05}, \"mode\": \"markers+text\", \"name\": \"United States\", \"text\": [\"United States:<br> 1\"], \"x\": [1.0], \"y\": [6.622738357719982e-09], \"type\": \"scatter\"}, {\"marker\": {\"size\": [199], \"sizemode\": \"area\", \"sizeref\": 0.05}, \"mode\": \"markers+text\", \"name\": \"Switzerland\", \"text\": [\"Switzerland:<br> 1\"], \"x\": [0.7660444974899292], \"y\": [0.6427875757217407], \"type\": \"scatter\"}, {\"marker\": {\"size\": [199], \"sizemode\": \"area\", \"sizeref\": 0.05}, \"mode\": \"markers+text\", \"name\": \"Hungary\", \"text\": [\"Hungary:<br> 1\"], \"x\": [0.17364825308322906], \"y\": [0.9848077297210693], \"type\": \"scatter\"}, {\"marker\": {\"size\": [196], \"sizemode\": \"area\", \"sizeref\": 0.05}, \"mode\": \"markers+text\", \"name\": \"Peru\", \"text\": [\"Peru:<br> 4\"], \"x\": [-0.5], \"y\": [0.8660253882408142], \"type\": \"scatter\"}, {\"marker\": {\"size\": [199], \"sizemode\": \"area\", \"sizeref\": 0.05}, \"mode\": \"markers+text\", \"name\": \"Malaysia\", \"text\": [\"Malaysia:<br> 1\"], \"x\": [-0.9396925568580627], \"y\": [0.3420202136039734], \"type\": \"scatter\"}, {\"marker\": {\"size\": [199], \"sizemode\": \"area\", \"sizeref\": 0.05}, \"mode\": \"markers+text\", \"name\": \"Denmark\", \"text\": [\"Denmark:<br> 1\"], \"x\": [-0.9396925568580627], \"y\": [-0.3420201539993286], \"type\": \"scatter\"}, {\"marker\": {\"size\": [195], \"sizemode\": \"area\", \"sizeref\": 0.05}, \"mode\": \"markers+text\", \"name\": \"Bolivia\", \"text\": [\"Bolivia:<br> 5\"], \"x\": [-0.49999988079071045], \"y\": [-0.866025447845459], \"type\": \"scatter\"}, {\"marker\": {\"size\": [199], \"sizemode\": \"area\", \"sizeref\": 0.05}, \"mode\": \"markers+text\", \"name\": \"Austria\", \"text\": [\"Austria:<br> 1\"], \"x\": [0.1736481785774231], \"y\": [-0.9848077297210693], \"type\": \"scatter\"}, {\"marker\": {\"size\": [199], \"sizemode\": \"area\", \"sizeref\": 0.05}, \"mode\": \"markers+text\", \"name\": \"Portugal\", \"text\": [\"Portugal:<br> 1\"], \"x\": [0.7660443782806396], \"y\": [-0.642787754535675], \"type\": \"scatter\"}], \"name\": \"2017-02-17\"}, {\"data\": [{\"marker\": {\"size\": [199], \"sizemode\": \"area\", \"sizeref\": 0.05}, \"mode\": \"markers+text\", \"name\": \"United States\", \"text\": [\"United States:<br> 1\"], \"x\": [1.0], \"y\": [6.622738357719982e-09], \"type\": \"scatter\"}, {\"marker\": {\"size\": [199], \"sizemode\": \"area\", \"sizeref\": 0.05}, \"mode\": \"markers+text\", \"name\": \"Switzerland\", \"text\": [\"Switzerland:<br> 1\"], \"x\": [0.7660444974899292], \"y\": [0.6427875757217407], \"type\": \"scatter\"}, {\"marker\": {\"size\": [199], \"sizemode\": \"area\", \"sizeref\": 0.05}, \"mode\": \"markers+text\", \"name\": \"Hungary\", \"text\": [\"Hungary:<br> 1\"], \"x\": [0.17364825308322906], \"y\": [0.9848077297210693], \"type\": \"scatter\"}, {\"marker\": {\"size\": [195], \"sizemode\": \"area\", \"sizeref\": 0.05}, \"mode\": \"markers+text\", \"name\": \"Peru\", \"text\": [\"Peru:<br> 5\"], \"x\": [-0.5], \"y\": [0.8660253882408142], \"type\": \"scatter\"}, {\"marker\": {\"size\": [199], \"sizemode\": \"area\", \"sizeref\": 0.05}, \"mode\": \"markers+text\", \"name\": \"Malaysia\", \"text\": [\"Malaysia:<br> 1\"], \"x\": [-0.9396925568580627], \"y\": [0.3420202136039734], \"type\": \"scatter\"}, {\"marker\": {\"size\": [199], \"sizemode\": \"area\", \"sizeref\": 0.05}, \"mode\": \"markers+text\", \"name\": \"Denmark\", \"text\": [\"Denmark:<br> 1\"], \"x\": [-0.9396925568580627], \"y\": [-0.3420201539993286], \"type\": \"scatter\"}, {\"marker\": {\"size\": [195], \"sizemode\": \"area\", \"sizeref\": 0.05}, \"mode\": \"markers+text\", \"name\": \"Bolivia\", \"text\": [\"Bolivia:<br> 5\"], \"x\": [-0.49999988079071045], \"y\": [-0.866025447845459], \"type\": \"scatter\"}, {\"marker\": {\"size\": [199], \"sizemode\": \"area\", \"sizeref\": 0.05}, \"mode\": \"markers+text\", \"name\": \"Austria\", \"text\": [\"Austria:<br> 1\"], \"x\": [0.1736481785774231], \"y\": [-0.9848077297210693], \"type\": \"scatter\"}, {\"marker\": {\"size\": [199], \"sizemode\": \"area\", \"sizeref\": 0.05}, \"mode\": \"markers+text\", \"name\": \"Portugal\", \"text\": [\"Portugal:<br> 1\"], \"x\": [0.7660443782806396], \"y\": [-0.642787754535675], \"type\": \"scatter\"}], \"name\": \"2017-02-18\"}, {\"data\": [{\"marker\": {\"size\": [199], \"sizemode\": \"area\", \"sizeref\": 0.05}, \"mode\": \"markers+text\", \"name\": \"United States\", \"text\": [\"United States:<br> 1\"], \"x\": [1.0], \"y\": [6.622738357719982e-09], \"type\": \"scatter\"}, {\"marker\": {\"size\": [199], \"sizemode\": \"area\", \"sizeref\": 0.05}, \"mode\": \"markers+text\", \"name\": \"Switzerland\", \"text\": [\"Switzerland:<br> 1\"], \"x\": [0.7660444974899292], \"y\": [0.6427875757217407], \"type\": \"scatter\"}, {\"marker\": {\"size\": [199], \"sizemode\": \"area\", \"sizeref\": 0.05}, \"mode\": \"markers+text\", \"name\": \"Hungary\", \"text\": [\"Hungary:<br> 1\"], \"x\": [0.17364825308322906], \"y\": [0.9848077297210693], \"type\": \"scatter\"}, {\"marker\": {\"size\": [195], \"sizemode\": \"area\", \"sizeref\": 0.05}, \"mode\": \"markers+text\", \"name\": \"Peru\", \"text\": [\"Peru:<br> 5\"], \"x\": [-0.5], \"y\": [0.8660253882408142], \"type\": \"scatter\"}, {\"marker\": {\"size\": [199], \"sizemode\": \"area\", \"sizeref\": 0.05}, \"mode\": \"markers+text\", \"name\": \"Malaysia\", \"text\": [\"Malaysia:<br> 1\"], \"x\": [-0.9396925568580627], \"y\": [0.3420202136039734], \"type\": \"scatter\"}, {\"marker\": {\"size\": [199], \"sizemode\": \"area\", \"sizeref\": 0.05}, \"mode\": \"markers+text\", \"name\": \"Denmark\", \"text\": [\"Denmark:<br> 1\"], \"x\": [-0.9396925568580627], \"y\": [-0.3420201539993286], \"type\": \"scatter\"}, {\"marker\": {\"size\": [195], \"sizemode\": \"area\", \"sizeref\": 0.05}, \"mode\": \"markers+text\", \"name\": \"Bolivia\", \"text\": [\"Bolivia:<br> 5\"], \"x\": [-0.49999988079071045], \"y\": [-0.866025447845459], \"type\": \"scatter\"}, {\"marker\": {\"size\": [199], \"sizemode\": \"area\", \"sizeref\": 0.05}, \"mode\": \"markers+text\", \"name\": \"Austria\", \"text\": [\"Austria:<br> 1\"], \"x\": [0.1736481785774231], \"y\": [-0.9848077297210693], \"type\": \"scatter\"}, {\"marker\": {\"size\": [199], \"sizemode\": \"area\", \"sizeref\": 0.05}, \"mode\": \"markers+text\", \"name\": \"Portugal\", \"text\": [\"Portugal:<br> 1\"], \"x\": [0.7660443782806396], \"y\": [-0.642787754535675], \"type\": \"scatter\"}], \"name\": \"2017-02-19\"}, {\"data\": [{\"marker\": {\"size\": [199], \"sizemode\": \"area\", \"sizeref\": 0.05}, \"mode\": \"markers+text\", \"name\": \"United States\", \"text\": [\"United States:<br> 1\"], \"x\": [1.0], \"y\": [6.622738357719982e-09], \"type\": \"scatter\"}, {\"marker\": {\"size\": [199], \"sizemode\": \"area\", \"sizeref\": 0.05}, \"mode\": \"markers+text\", \"name\": \"Switzerland\", \"text\": [\"Switzerland:<br> 1\"], \"x\": [0.7660444974899292], \"y\": [0.6427875757217407], \"type\": \"scatter\"}, {\"marker\": {\"size\": [199], \"sizemode\": \"area\", \"sizeref\": 0.05}, \"mode\": \"markers+text\", \"name\": \"Hungary\", \"text\": [\"Hungary:<br> 1\"], \"x\": [0.17364825308322906], \"y\": [0.9848077297210693], \"type\": \"scatter\"}, {\"marker\": {\"size\": [196], \"sizemode\": \"area\", \"sizeref\": 0.05}, \"mode\": \"markers+text\", \"name\": \"Peru\", \"text\": [\"Peru:<br> 4\"], \"x\": [-0.5], \"y\": [0.8660253882408142], \"type\": \"scatter\"}, {\"marker\": {\"size\": [199], \"sizemode\": \"area\", \"sizeref\": 0.05}, \"mode\": \"markers+text\", \"name\": \"Malaysia\", \"text\": [\"Malaysia:<br> 1\"], \"x\": [-0.9396925568580627], \"y\": [0.3420202136039734], \"type\": \"scatter\"}, {\"marker\": {\"size\": [199], \"sizemode\": \"area\", \"sizeref\": 0.05}, \"mode\": \"markers+text\", \"name\": \"Denmark\", \"text\": [\"Denmark:<br> 1\"], \"x\": [-0.9396925568580627], \"y\": [-0.3420201539993286], \"type\": \"scatter\"}, {\"marker\": {\"size\": [198], \"sizemode\": \"area\", \"sizeref\": 0.05}, \"mode\": \"markers+text\", \"name\": \"Bolivia\", \"text\": [\"Bolivia:<br> 2\"], \"x\": [-0.49999988079071045], \"y\": [-0.866025447845459], \"type\": \"scatter\"}, {\"marker\": {\"size\": [199], \"sizemode\": \"area\", \"sizeref\": 0.05}, \"mode\": \"markers+text\", \"name\": \"Austria\", \"text\": [\"Austria:<br> 1\"], \"x\": [0.1736481785774231], \"y\": [-0.9848077297210693], \"type\": \"scatter\"}, {\"marker\": {\"size\": [199], \"sizemode\": \"area\", \"sizeref\": 0.05}, \"mode\": \"markers+text\", \"name\": \"Portugal\", \"text\": [\"Portugal:<br> 1\"], \"x\": [0.7660443782806396], \"y\": [-0.642787754535675], \"type\": \"scatter\"}], \"name\": \"2017-02-20\"}, {\"data\": [{\"marker\": {\"size\": [199], \"sizemode\": \"area\", \"sizeref\": 0.05}, \"mode\": \"markers+text\", \"name\": \"United States\", \"text\": [\"United States:<br> 1\"], \"x\": [1.0], \"y\": [6.622738357719982e-09], \"type\": \"scatter\"}, {\"marker\": {\"size\": [199], \"sizemode\": \"area\", \"sizeref\": 0.05}, \"mode\": \"markers+text\", \"name\": \"Switzerland\", \"text\": [\"Switzerland:<br> 1\"], \"x\": [0.7660444974899292], \"y\": [0.6427875757217407], \"type\": \"scatter\"}, {\"marker\": {\"size\": [199], \"sizemode\": \"area\", \"sizeref\": 0.05}, \"mode\": \"markers+text\", \"name\": \"Hungary\", \"text\": [\"Hungary:<br> 1\"], \"x\": [0.17364825308322906], \"y\": [0.9848077297210693], \"type\": \"scatter\"}, {\"marker\": {\"size\": [196], \"sizemode\": \"area\", \"sizeref\": 0.05}, \"mode\": \"markers+text\", \"name\": \"Peru\", \"text\": [\"Peru:<br> 4\"], \"x\": [-0.5], \"y\": [0.8660253882408142], \"type\": \"scatter\"}, {\"marker\": {\"size\": [199], \"sizemode\": \"area\", \"sizeref\": 0.05}, \"mode\": \"markers+text\", \"name\": \"Malaysia\", \"text\": [\"Malaysia:<br> 1\"], \"x\": [-0.9396925568580627], \"y\": [0.3420202136039734], \"type\": \"scatter\"}, {\"marker\": {\"size\": [199], \"sizemode\": \"area\", \"sizeref\": 0.05}, \"mode\": \"markers+text\", \"name\": \"Denmark\", \"text\": [\"Denmark:<br> 1\"], \"x\": [-0.9396925568580627], \"y\": [-0.3420201539993286], \"type\": \"scatter\"}, {\"marker\": {\"size\": [197], \"sizemode\": \"area\", \"sizeref\": 0.05}, \"mode\": \"markers+text\", \"name\": \"Bolivia\", \"text\": [\"Bolivia:<br> 3\"], \"x\": [-0.49999988079071045], \"y\": [-0.866025447845459], \"type\": \"scatter\"}, {\"marker\": {\"size\": [199], \"sizemode\": \"area\", \"sizeref\": 0.05}, \"mode\": \"markers+text\", \"name\": \"Austria\", \"text\": [\"Austria:<br> 1\"], \"x\": [0.1736481785774231], \"y\": [-0.9848077297210693], \"type\": \"scatter\"}, {\"marker\": {\"size\": [199], \"sizemode\": \"area\", \"sizeref\": 0.05}, \"mode\": \"markers+text\", \"name\": \"Portugal\", \"text\": [\"Portugal:<br> 1\"], \"x\": [0.7660443782806396], \"y\": [-0.642787754535675], \"type\": \"scatter\"}], \"name\": \"2017-02-21\"}, {\"data\": [{\"marker\": {\"size\": [199], \"sizemode\": \"area\", \"sizeref\": 0.05}, \"mode\": \"markers+text\", \"name\": \"United States\", \"text\": [\"United States:<br> 1\"], \"x\": [1.0], \"y\": [6.622738357719982e-09], \"type\": \"scatter\"}, {\"marker\": {\"size\": [199], \"sizemode\": \"area\", \"sizeref\": 0.05}, \"mode\": \"markers+text\", \"name\": \"Switzerland\", \"text\": [\"Switzerland:<br> 1\"], \"x\": [0.7660444974899292], \"y\": [0.6427875757217407], \"type\": \"scatter\"}, {\"marker\": {\"size\": [199], \"sizemode\": \"area\", \"sizeref\": 0.05}, \"mode\": \"markers+text\", \"name\": \"Hungary\", \"text\": [\"Hungary:<br> 1\"], \"x\": [0.17364825308322906], \"y\": [0.9848077297210693], \"type\": \"scatter\"}, {\"marker\": {\"size\": [196], \"sizemode\": \"area\", \"sizeref\": 0.05}, \"mode\": \"markers+text\", \"name\": \"Peru\", \"text\": [\"Peru:<br> 4\"], \"x\": [-0.5], \"y\": [0.8660253882408142], \"type\": \"scatter\"}, {\"marker\": {\"size\": [199], \"sizemode\": \"area\", \"sizeref\": 0.05}, \"mode\": \"markers+text\", \"name\": \"Malaysia\", \"text\": [\"Malaysia:<br> 1\"], \"x\": [-0.9396925568580627], \"y\": [0.3420202136039734], \"type\": \"scatter\"}, {\"marker\": {\"size\": [199], \"sizemode\": \"area\", \"sizeref\": 0.05}, \"mode\": \"markers+text\", \"name\": \"Denmark\", \"text\": [\"Denmark:<br> 1\"], \"x\": [-0.9396925568580627], \"y\": [-0.3420201539993286], \"type\": \"scatter\"}, {\"marker\": {\"size\": [198], \"sizemode\": \"area\", \"sizeref\": 0.05}, \"mode\": \"markers+text\", \"name\": \"Bolivia\", \"text\": [\"Bolivia:<br> 2\"], \"x\": [-0.49999988079071045], \"y\": [-0.866025447845459], \"type\": \"scatter\"}, {\"marker\": {\"size\": [199], \"sizemode\": \"area\", \"sizeref\": 0.05}, \"mode\": \"markers+text\", \"name\": \"Austria\", \"text\": [\"Austria:<br> 1\"], \"x\": [0.1736481785774231], \"y\": [-0.9848077297210693], \"type\": \"scatter\"}, {\"marker\": {\"size\": [199], \"sizemode\": \"area\", \"sizeref\": 0.05}, \"mode\": \"markers+text\", \"name\": \"Portugal\", \"text\": [\"Portugal:<br> 1\"], \"x\": [0.7660443782806396], \"y\": [-0.642787754535675], \"type\": \"scatter\"}], \"name\": \"2017-02-22\"}, {\"data\": [{\"marker\": {\"size\": [199], \"sizemode\": \"area\", \"sizeref\": 0.05}, \"mode\": \"markers+text\", \"name\": \"United States\", \"text\": [\"United States:<br> 1\"], \"x\": [1.0], \"y\": [6.622738357719982e-09], \"type\": \"scatter\"}, {\"marker\": {\"size\": [199], \"sizemode\": \"area\", \"sizeref\": 0.05}, \"mode\": \"markers+text\", \"name\": \"Switzerland\", \"text\": [\"Switzerland:<br> 1\"], \"x\": [0.7660444974899292], \"y\": [0.6427875757217407], \"type\": \"scatter\"}, {\"marker\": {\"size\": [199], \"sizemode\": \"area\", \"sizeref\": 0.05}, \"mode\": \"markers+text\", \"name\": \"Hungary\", \"text\": [\"Hungary:<br> 1\"], \"x\": [0.17364825308322906], \"y\": [0.9848077297210693], \"type\": \"scatter\"}, {\"marker\": {\"size\": [196], \"sizemode\": \"area\", \"sizeref\": 0.05}, \"mode\": \"markers+text\", \"name\": \"Peru\", \"text\": [\"Peru:<br> 4\"], \"x\": [-0.5], \"y\": [0.8660253882408142], \"type\": \"scatter\"}, {\"marker\": {\"size\": [199], \"sizemode\": \"area\", \"sizeref\": 0.05}, \"mode\": \"markers+text\", \"name\": \"Malaysia\", \"text\": [\"Malaysia:<br> 1\"], \"x\": [-0.9396925568580627], \"y\": [0.3420202136039734], \"type\": \"scatter\"}, {\"marker\": {\"size\": [199], \"sizemode\": \"area\", \"sizeref\": 0.05}, \"mode\": \"markers+text\", \"name\": \"Denmark\", \"text\": [\"Denmark:<br> 1\"], \"x\": [-0.9396925568580627], \"y\": [-0.3420201539993286], \"type\": \"scatter\"}, {\"marker\": {\"size\": [196], \"sizemode\": \"area\", \"sizeref\": 0.05}, \"mode\": \"markers+text\", \"name\": \"Bolivia\", \"text\": [\"Bolivia:<br> 4\"], \"x\": [-0.49999988079071045], \"y\": [-0.866025447845459], \"type\": \"scatter\"}, {\"marker\": {\"size\": [199], \"sizemode\": \"area\", \"sizeref\": 0.05}, \"mode\": \"markers+text\", \"name\": \"Austria\", \"text\": [\"Austria:<br> 1\"], \"x\": [0.1736481785774231], \"y\": [-0.9848077297210693], \"type\": \"scatter\"}, {\"marker\": {\"size\": [199], \"sizemode\": \"area\", \"sizeref\": 0.05}, \"mode\": \"markers+text\", \"name\": \"Portugal\", \"text\": [\"Portugal:<br> 1\"], \"x\": [0.7660443782806396], \"y\": [-0.642787754535675], \"type\": \"scatter\"}], \"name\": \"2017-02-23\"}, {\"data\": [{\"marker\": {\"size\": [199], \"sizemode\": \"area\", \"sizeref\": 0.05}, \"mode\": \"markers+text\", \"name\": \"United States\", \"text\": [\"United States:<br> 1\"], \"x\": [1.0], \"y\": [6.622738357719982e-09], \"type\": \"scatter\"}, {\"marker\": {\"size\": [199], \"sizemode\": \"area\", \"sizeref\": 0.05}, \"mode\": \"markers+text\", \"name\": \"Switzerland\", \"text\": [\"Switzerland:<br> 1\"], \"x\": [0.7660444974899292], \"y\": [0.6427875757217407], \"type\": \"scatter\"}, {\"marker\": {\"size\": [199], \"sizemode\": \"area\", \"sizeref\": 0.05}, \"mode\": \"markers+text\", \"name\": \"Hungary\", \"text\": [\"Hungary:<br> 1\"], \"x\": [0.17364825308322906], \"y\": [0.9848077297210693], \"type\": \"scatter\"}, {\"marker\": {\"size\": [196], \"sizemode\": \"area\", \"sizeref\": 0.05}, \"mode\": \"markers+text\", \"name\": \"Peru\", \"text\": [\"Peru:<br> 4\"], \"x\": [-0.5], \"y\": [0.8660253882408142], \"type\": \"scatter\"}, {\"marker\": {\"size\": [198], \"sizemode\": \"area\", \"sizeref\": 0.05}, \"mode\": \"markers+text\", \"name\": \"Malaysia\", \"text\": [\"Malaysia:<br> 2\"], \"x\": [-0.9396925568580627], \"y\": [0.3420202136039734], \"type\": \"scatter\"}, {\"marker\": {\"size\": [199], \"sizemode\": \"area\", \"sizeref\": 0.05}, \"mode\": \"markers+text\", \"name\": \"Denmark\", \"text\": [\"Denmark:<br> 1\"], \"x\": [-0.9396925568580627], \"y\": [-0.3420201539993286], \"type\": \"scatter\"}, {\"marker\": {\"size\": [195], \"sizemode\": \"area\", \"sizeref\": 0.05}, \"mode\": \"markers+text\", \"name\": \"Bolivia\", \"text\": [\"Bolivia:<br> 5\"], \"x\": [-0.49999988079071045], \"y\": [-0.866025447845459], \"type\": \"scatter\"}, {\"marker\": {\"size\": [199], \"sizemode\": \"area\", \"sizeref\": 0.05}, \"mode\": \"markers+text\", \"name\": \"Austria\", \"text\": [\"Austria:<br> 1\"], \"x\": [0.1736481785774231], \"y\": [-0.9848077297210693], \"type\": \"scatter\"}, {\"marker\": {\"size\": [199], \"sizemode\": \"area\", \"sizeref\": 0.05}, \"mode\": \"markers+text\", \"name\": \"Portugal\", \"text\": [\"Portugal:<br> 1\"], \"x\": [0.7660443782806396], \"y\": [-0.642787754535675], \"type\": \"scatter\"}], \"name\": \"2017-02-24\"}, {\"data\": [{\"marker\": {\"size\": [199], \"sizemode\": \"area\", \"sizeref\": 0.05}, \"mode\": \"markers+text\", \"name\": \"United States\", \"text\": [\"United States:<br> 1\"], \"x\": [1.0], \"y\": [6.622738357719982e-09], \"type\": \"scatter\"}, {\"marker\": {\"size\": [199], \"sizemode\": \"area\", \"sizeref\": 0.05}, \"mode\": \"markers+text\", \"name\": \"Switzerland\", \"text\": [\"Switzerland:<br> 1\"], \"x\": [0.7660444974899292], \"y\": [0.6427875757217407], \"type\": \"scatter\"}, {\"marker\": {\"size\": [199], \"sizemode\": \"area\", \"sizeref\": 0.05}, \"mode\": \"markers+text\", \"name\": \"Hungary\", \"text\": [\"Hungary:<br> 1\"], \"x\": [0.17364825308322906], \"y\": [0.9848077297210693], \"type\": \"scatter\"}, {\"marker\": {\"size\": [196], \"sizemode\": \"area\", \"sizeref\": 0.05}, \"mode\": \"markers+text\", \"name\": \"Peru\", \"text\": [\"Peru:<br> 4\"], \"x\": [-0.5], \"y\": [0.8660253882408142], \"type\": \"scatter\"}, {\"marker\": {\"size\": [199], \"sizemode\": \"area\", \"sizeref\": 0.05}, \"mode\": \"markers+text\", \"name\": \"Malaysia\", \"text\": [\"Malaysia:<br> 1\"], \"x\": [-0.9396925568580627], \"y\": [0.3420202136039734], \"type\": \"scatter\"}, {\"marker\": {\"size\": [199], \"sizemode\": \"area\", \"sizeref\": 0.05}, \"mode\": \"markers+text\", \"name\": \"Denmark\", \"text\": [\"Denmark:<br> 1\"], \"x\": [-0.9396925568580627], \"y\": [-0.3420201539993286], \"type\": \"scatter\"}, {\"marker\": {\"size\": [195], \"sizemode\": \"area\", \"sizeref\": 0.05}, \"mode\": \"markers+text\", \"name\": \"Bolivia\", \"text\": [\"Bolivia:<br> 5\"], \"x\": [-0.49999988079071045], \"y\": [-0.866025447845459], \"type\": \"scatter\"}, {\"marker\": {\"size\": [199], \"sizemode\": \"area\", \"sizeref\": 0.05}, \"mode\": \"markers+text\", \"name\": \"Austria\", \"text\": [\"Austria:<br> 1\"], \"x\": [0.1736481785774231], \"y\": [-0.9848077297210693], \"type\": \"scatter\"}, {\"marker\": {\"size\": [199], \"sizemode\": \"area\", \"sizeref\": 0.05}, \"mode\": \"markers+text\", \"name\": \"Portugal\", \"text\": [\"Portugal:<br> 1\"], \"x\": [0.7660443782806396], \"y\": [-0.642787754535675], \"type\": \"scatter\"}], \"name\": \"2017-02-25\"}, {\"data\": [{\"marker\": {\"size\": [199], \"sizemode\": \"area\", \"sizeref\": 0.05}, \"mode\": \"markers+text\", \"name\": \"United States\", \"text\": [\"United States:<br> 1\"], \"x\": [1.0], \"y\": [6.622738357719982e-09], \"type\": \"scatter\"}, {\"marker\": {\"size\": [199], \"sizemode\": \"area\", \"sizeref\": 0.05}, \"mode\": \"markers+text\", \"name\": \"Switzerland\", \"text\": [\"Switzerland:<br> 1\"], \"x\": [0.7660444974899292], \"y\": [0.6427875757217407], \"type\": \"scatter\"}, {\"marker\": {\"size\": [199], \"sizemode\": \"area\", \"sizeref\": 0.05}, \"mode\": \"markers+text\", \"name\": \"Hungary\", \"text\": [\"Hungary:<br> 1\"], \"x\": [0.17364825308322906], \"y\": [0.9848077297210693], \"type\": \"scatter\"}, {\"marker\": {\"size\": [196], \"sizemode\": \"area\", \"sizeref\": 0.05}, \"mode\": \"markers+text\", \"name\": \"Peru\", \"text\": [\"Peru:<br> 4\"], \"x\": [-0.5], \"y\": [0.8660253882408142], \"type\": \"scatter\"}, {\"marker\": {\"size\": [198], \"sizemode\": \"area\", \"sizeref\": 0.05}, \"mode\": \"markers+text\", \"name\": \"Malaysia\", \"text\": [\"Malaysia:<br> 2\"], \"x\": [-0.9396925568580627], \"y\": [0.3420202136039734], \"type\": \"scatter\"}, {\"marker\": {\"size\": [199], \"sizemode\": \"area\", \"sizeref\": 0.05}, \"mode\": \"markers+text\", \"name\": \"Denmark\", \"text\": [\"Denmark:<br> 1\"], \"x\": [-0.9396925568580627], \"y\": [-0.3420201539993286], \"type\": \"scatter\"}, {\"marker\": {\"size\": [195], \"sizemode\": \"area\", \"sizeref\": 0.05}, \"mode\": \"markers+text\", \"name\": \"Bolivia\", \"text\": [\"Bolivia:<br> 5\"], \"x\": [-0.49999988079071045], \"y\": [-0.866025447845459], \"type\": \"scatter\"}, {\"marker\": {\"size\": [199], \"sizemode\": \"area\", \"sizeref\": 0.05}, \"mode\": \"markers+text\", \"name\": \"Austria\", \"text\": [\"Austria:<br> 1\"], \"x\": [0.1736481785774231], \"y\": [-0.9848077297210693], \"type\": \"scatter\"}, {\"marker\": {\"size\": [199], \"sizemode\": \"area\", \"sizeref\": 0.05}, \"mode\": \"markers+text\", \"name\": \"Portugal\", \"text\": [\"Portugal:<br> 1\"], \"x\": [0.7660443782806396], \"y\": [-0.642787754535675], \"type\": \"scatter\"}], \"name\": \"2017-02-26\"}, {\"data\": [{\"marker\": {\"size\": [199], \"sizemode\": \"area\", \"sizeref\": 0.05}, \"mode\": \"markers+text\", \"name\": \"United States\", \"text\": [\"United States:<br> 1\"], \"x\": [1.0], \"y\": [6.622738357719982e-09], \"type\": \"scatter\"}, {\"marker\": {\"size\": [199], \"sizemode\": \"area\", \"sizeref\": 0.05}, \"mode\": \"markers+text\", \"name\": \"Switzerland\", \"text\": [\"Switzerland:<br> 1\"], \"x\": [0.7660444974899292], \"y\": [0.6427875757217407], \"type\": \"scatter\"}, {\"marker\": {\"size\": [199], \"sizemode\": \"area\", \"sizeref\": 0.05}, \"mode\": \"markers+text\", \"name\": \"Hungary\", \"text\": [\"Hungary:<br> 1\"], \"x\": [0.17364825308322906], \"y\": [0.9848077297210693], \"type\": \"scatter\"}, {\"marker\": {\"size\": [196], \"sizemode\": \"area\", \"sizeref\": 0.05}, \"mode\": \"markers+text\", \"name\": \"Peru\", \"text\": [\"Peru:<br> 4\"], \"x\": [-0.5], \"y\": [0.8660253882408142], \"type\": \"scatter\"}, {\"marker\": {\"size\": [198], \"sizemode\": \"area\", \"sizeref\": 0.05}, \"mode\": \"markers+text\", \"name\": \"Malaysia\", \"text\": [\"Malaysia:<br> 2\"], \"x\": [-0.9396925568580627], \"y\": [0.3420202136039734], \"type\": \"scatter\"}, {\"marker\": {\"size\": [199], \"sizemode\": \"area\", \"sizeref\": 0.05}, \"mode\": \"markers+text\", \"name\": \"Denmark\", \"text\": [\"Denmark:<br> 1\"], \"x\": [-0.9396925568580627], \"y\": [-0.3420201539993286], \"type\": \"scatter\"}, {\"marker\": {\"size\": [195], \"sizemode\": \"area\", \"sizeref\": 0.05}, \"mode\": \"markers+text\", \"name\": \"Bolivia\", \"text\": [\"Bolivia:<br> 5\"], \"x\": [-0.49999988079071045], \"y\": [-0.866025447845459], \"type\": \"scatter\"}, {\"marker\": {\"size\": [199], \"sizemode\": \"area\", \"sizeref\": 0.05}, \"mode\": \"markers+text\", \"name\": \"Austria\", \"text\": [\"Austria:<br> 1\"], \"x\": [0.1736481785774231], \"y\": [-0.9848077297210693], \"type\": \"scatter\"}, {\"marker\": {\"size\": [199], \"sizemode\": \"area\", \"sizeref\": 0.05}, \"mode\": \"markers+text\", \"name\": \"Portugal\", \"text\": [\"Portugal:<br> 1\"], \"x\": [0.7660443782806396], \"y\": [-0.642787754535675], \"type\": \"scatter\"}], \"name\": \"2017-02-27\"}, {\"data\": [{\"marker\": {\"size\": [199], \"sizemode\": \"area\", \"sizeref\": 0.05}, \"mode\": \"markers+text\", \"name\": \"United States\", \"text\": [\"United States:<br> 1\"], \"x\": [1.0], \"y\": [6.622738357719982e-09], \"type\": \"scatter\"}, {\"marker\": {\"size\": [199], \"sizemode\": \"area\", \"sizeref\": 0.05}, \"mode\": \"markers+text\", \"name\": \"Switzerland\", \"text\": [\"Switzerland:<br> 1\"], \"x\": [0.7660444974899292], \"y\": [0.6427875757217407], \"type\": \"scatter\"}, {\"marker\": {\"size\": [199], \"sizemode\": \"area\", \"sizeref\": 0.05}, \"mode\": \"markers+text\", \"name\": \"Hungary\", \"text\": [\"Hungary:<br> 1\"], \"x\": [0.17364825308322906], \"y\": [0.9848077297210693], \"type\": \"scatter\"}, {\"marker\": {\"size\": [197], \"sizemode\": \"area\", \"sizeref\": 0.05}, \"mode\": \"markers+text\", \"name\": \"Peru\", \"text\": [\"Peru:<br> 3\"], \"x\": [-0.5], \"y\": [0.8660253882408142], \"type\": \"scatter\"}, {\"marker\": {\"size\": [198], \"sizemode\": \"area\", \"sizeref\": 0.05}, \"mode\": \"markers+text\", \"name\": \"Malaysia\", \"text\": [\"Malaysia:<br> 2\"], \"x\": [-0.9396925568580627], \"y\": [0.3420202136039734], \"type\": \"scatter\"}, {\"marker\": {\"size\": [198], \"sizemode\": \"area\", \"sizeref\": 0.05}, \"mode\": \"markers+text\", \"name\": \"Denmark\", \"text\": [\"Denmark:<br> 2\"], \"x\": [-0.9396925568580627], \"y\": [-0.3420201539993286], \"type\": \"scatter\"}, {\"marker\": {\"size\": [196], \"sizemode\": \"area\", \"sizeref\": 0.05}, \"mode\": \"markers+text\", \"name\": \"Bolivia\", \"text\": [\"Bolivia:<br> 4\"], \"x\": [-0.49999988079071045], \"y\": [-0.866025447845459], \"type\": \"scatter\"}, {\"marker\": {\"size\": [199], \"sizemode\": \"area\", \"sizeref\": 0.05}, \"mode\": \"markers+text\", \"name\": \"Austria\", \"text\": [\"Austria:<br> 1\"], \"x\": [0.1736481785774231], \"y\": [-0.9848077297210693], \"type\": \"scatter\"}, {\"marker\": {\"size\": [199], \"sizemode\": \"area\", \"sizeref\": 0.05}, \"mode\": \"markers+text\", \"name\": \"Portugal\", \"text\": [\"Portugal:<br> 1\"], \"x\": [0.7660443782806396], \"y\": [-0.642787754535675], \"type\": \"scatter\"}], \"name\": \"2017-02-28\"}, {\"data\": [{\"marker\": {\"size\": [199], \"sizemode\": \"area\", \"sizeref\": 0.05}, \"mode\": \"markers+text\", \"name\": \"United States\", \"text\": [\"United States:<br> 1\"], \"x\": [1.0], \"y\": [6.622738357719982e-09], \"type\": \"scatter\"}, {\"marker\": {\"size\": [199], \"sizemode\": \"area\", \"sizeref\": 0.05}, \"mode\": \"markers+text\", \"name\": \"Switzerland\", \"text\": [\"Switzerland:<br> 1\"], \"x\": [0.7660444974899292], \"y\": [0.6427875757217407], \"type\": \"scatter\"}, {\"marker\": {\"size\": [199], \"sizemode\": \"area\", \"sizeref\": 0.05}, \"mode\": \"markers+text\", \"name\": \"Hungary\", \"text\": [\"Hungary:<br> 1\"], \"x\": [0.17364825308322906], \"y\": [0.9848077297210693], \"type\": \"scatter\"}, {\"marker\": {\"size\": [197], \"sizemode\": \"area\", \"sizeref\": 0.05}, \"mode\": \"markers+text\", \"name\": \"Peru\", \"text\": [\"Peru:<br> 3\"], \"x\": [-0.5], \"y\": [0.8660253882408142], \"type\": \"scatter\"}, {\"marker\": {\"size\": [199], \"sizemode\": \"area\", \"sizeref\": 0.05}, \"mode\": \"markers+text\", \"name\": \"Malaysia\", \"text\": [\"Malaysia:<br> 1\"], \"x\": [-0.9396925568580627], \"y\": [0.3420202136039734], \"type\": \"scatter\"}, {\"marker\": {\"size\": [198], \"sizemode\": \"area\", \"sizeref\": 0.05}, \"mode\": \"markers+text\", \"name\": \"Denmark\", \"text\": [\"Denmark:<br> 2\"], \"x\": [-0.9396925568580627], \"y\": [-0.3420201539993286], \"type\": \"scatter\"}, {\"marker\": {\"size\": [197], \"sizemode\": \"area\", \"sizeref\": 0.05}, \"mode\": \"markers+text\", \"name\": \"Bolivia\", \"text\": [\"Bolivia:<br> 3\"], \"x\": [-0.49999988079071045], \"y\": [-0.866025447845459], \"type\": \"scatter\"}, {\"marker\": {\"size\": [199], \"sizemode\": \"area\", \"sizeref\": 0.05}, \"mode\": \"markers+text\", \"name\": \"Austria\", \"text\": [\"Austria:<br> 1\"], \"x\": [0.1736481785774231], \"y\": [-0.9848077297210693], \"type\": \"scatter\"}, {\"marker\": {\"size\": [199], \"sizemode\": \"area\", \"sizeref\": 0.05}, \"mode\": \"markers+text\", \"name\": \"Portugal\", \"text\": [\"Portugal:<br> 1\"], \"x\": [0.7660443782806396], \"y\": [-0.642787754535675], \"type\": \"scatter\"}], \"name\": \"2017-03-01\"}, {\"data\": [{\"marker\": {\"size\": [199], \"sizemode\": \"area\", \"sizeref\": 0.05}, \"mode\": \"markers+text\", \"name\": \"United States\", \"text\": [\"United States:<br> 1\"], \"x\": [1.0], \"y\": [6.622738357719982e-09], \"type\": \"scatter\"}, {\"marker\": {\"size\": [199], \"sizemode\": \"area\", \"sizeref\": 0.05}, \"mode\": \"markers+text\", \"name\": \"Switzerland\", \"text\": [\"Switzerland:<br> 1\"], \"x\": [0.7660444974899292], \"y\": [0.6427875757217407], \"type\": \"scatter\"}, {\"marker\": {\"size\": [199], \"sizemode\": \"area\", \"sizeref\": 0.05}, \"mode\": \"markers+text\", \"name\": \"Hungary\", \"text\": [\"Hungary:<br> 1\"], \"x\": [0.17364825308322906], \"y\": [0.9848077297210693], \"type\": \"scatter\"}, {\"marker\": {\"size\": [197], \"sizemode\": \"area\", \"sizeref\": 0.05}, \"mode\": \"markers+text\", \"name\": \"Peru\", \"text\": [\"Peru:<br> 3\"], \"x\": [-0.5], \"y\": [0.8660253882408142], \"type\": \"scatter\"}, {\"marker\": {\"size\": [199], \"sizemode\": \"area\", \"sizeref\": 0.05}, \"mode\": \"markers+text\", \"name\": \"Malaysia\", \"text\": [\"Malaysia:<br> 1\"], \"x\": [-0.9396925568580627], \"y\": [0.3420202136039734], \"type\": \"scatter\"}, {\"marker\": {\"size\": [199], \"sizemode\": \"area\", \"sizeref\": 0.05}, \"mode\": \"markers+text\", \"name\": \"Denmark\", \"text\": [\"Denmark:<br> 1\"], \"x\": [-0.9396925568580627], \"y\": [-0.3420201539993286], \"type\": \"scatter\"}, {\"marker\": {\"size\": [197], \"sizemode\": \"area\", \"sizeref\": 0.05}, \"mode\": \"markers+text\", \"name\": \"Bolivia\", \"text\": [\"Bolivia:<br> 3\"], \"x\": [-0.49999988079071045], \"y\": [-0.866025447845459], \"type\": \"scatter\"}, {\"marker\": {\"size\": [199], \"sizemode\": \"area\", \"sizeref\": 0.05}, \"mode\": \"markers+text\", \"name\": \"Austria\", \"text\": [\"Austria:<br> 1\"], \"x\": [0.1736481785774231], \"y\": [-0.9848077297210693], \"type\": \"scatter\"}, {\"marker\": {\"size\": [199], \"sizemode\": \"area\", \"sizeref\": 0.05}, \"mode\": \"markers+text\", \"name\": \"Portugal\", \"text\": [\"Portugal:<br> 1\"], \"x\": [0.7660443782806396], \"y\": [-0.642787754535675], \"type\": \"scatter\"}], \"name\": \"2017-03-02\"}, {\"data\": [{\"marker\": {\"size\": [199], \"sizemode\": \"area\", \"sizeref\": 0.05}, \"mode\": \"markers+text\", \"name\": \"United States\", \"text\": [\"United States:<br> 1\"], \"x\": [1.0], \"y\": [6.622738357719982e-09], \"type\": \"scatter\"}, {\"marker\": {\"size\": [199], \"sizemode\": \"area\", \"sizeref\": 0.05}, \"mode\": \"markers+text\", \"name\": \"Switzerland\", \"text\": [\"Switzerland:<br> 1\"], \"x\": [0.7660444974899292], \"y\": [0.6427875757217407], \"type\": \"scatter\"}, {\"marker\": {\"size\": [199], \"sizemode\": \"area\", \"sizeref\": 0.05}, \"mode\": \"markers+text\", \"name\": \"Hungary\", \"text\": [\"Hungary:<br> 1\"], \"x\": [0.17364825308322906], \"y\": [0.9848077297210693], \"type\": \"scatter\"}, {\"marker\": {\"size\": [197], \"sizemode\": \"area\", \"sizeref\": 0.05}, \"mode\": \"markers+text\", \"name\": \"Peru\", \"text\": [\"Peru:<br> 3\"], \"x\": [-0.5], \"y\": [0.8660253882408142], \"type\": \"scatter\"}, {\"marker\": {\"size\": [199], \"sizemode\": \"area\", \"sizeref\": 0.05}, \"mode\": \"markers+text\", \"name\": \"Malaysia\", \"text\": [\"Malaysia:<br> 1\"], \"x\": [-0.9396925568580627], \"y\": [0.3420202136039734], \"type\": \"scatter\"}, {\"marker\": {\"size\": [199], \"sizemode\": \"area\", \"sizeref\": 0.05}, \"mode\": \"markers+text\", \"name\": \"Denmark\", \"text\": [\"Denmark:<br> 1\"], \"x\": [-0.9396925568580627], \"y\": [-0.3420201539993286], \"type\": \"scatter\"}, {\"marker\": {\"size\": [198], \"sizemode\": \"area\", \"sizeref\": 0.05}, \"mode\": \"markers+text\", \"name\": \"Bolivia\", \"text\": [\"Bolivia:<br> 2\"], \"x\": [-0.49999988079071045], \"y\": [-0.866025447845459], \"type\": \"scatter\"}, {\"marker\": {\"size\": [199], \"sizemode\": \"area\", \"sizeref\": 0.05}, \"mode\": \"markers+text\", \"name\": \"Austria\", \"text\": [\"Austria:<br> 1\"], \"x\": [0.1736481785774231], \"y\": [-0.9848077297210693], \"type\": \"scatter\"}, {\"marker\": {\"size\": [199], \"sizemode\": \"area\", \"sizeref\": 0.05}, \"mode\": \"markers+text\", \"name\": \"Portugal\", \"text\": [\"Portugal:<br> 1\"], \"x\": [0.7660443782806396], \"y\": [-0.642787754535675], \"type\": \"scatter\"}], \"name\": \"2017-03-03\"}, {\"data\": [{\"marker\": {\"size\": [199], \"sizemode\": \"area\", \"sizeref\": 0.05}, \"mode\": \"markers+text\", \"name\": \"United States\", \"text\": [\"United States:<br> 1\"], \"x\": [1.0], \"y\": [6.622738357719982e-09], \"type\": \"scatter\"}, {\"marker\": {\"size\": [199], \"sizemode\": \"area\", \"sizeref\": 0.05}, \"mode\": \"markers+text\", \"name\": \"Switzerland\", \"text\": [\"Switzerland:<br> 1\"], \"x\": [0.7660444974899292], \"y\": [0.6427875757217407], \"type\": \"scatter\"}, {\"marker\": {\"size\": [199], \"sizemode\": \"area\", \"sizeref\": 0.05}, \"mode\": \"markers+text\", \"name\": \"Hungary\", \"text\": [\"Hungary:<br> 1\"], \"x\": [0.17364825308322906], \"y\": [0.9848077297210693], \"type\": \"scatter\"}, {\"marker\": {\"size\": [197], \"sizemode\": \"area\", \"sizeref\": 0.05}, \"mode\": \"markers+text\", \"name\": \"Peru\", \"text\": [\"Peru:<br> 3\"], \"x\": [-0.5], \"y\": [0.8660253882408142], \"type\": \"scatter\"}, {\"marker\": {\"size\": [199], \"sizemode\": \"area\", \"sizeref\": 0.05}, \"mode\": \"markers+text\", \"name\": \"Malaysia\", \"text\": [\"Malaysia:<br> 1\"], \"x\": [-0.9396925568580627], \"y\": [0.3420202136039734], \"type\": \"scatter\"}, {\"marker\": {\"size\": [199], \"sizemode\": \"area\", \"sizeref\": 0.05}, \"mode\": \"markers+text\", \"name\": \"Denmark\", \"text\": [\"Denmark:<br> 1\"], \"x\": [-0.9396925568580627], \"y\": [-0.3420201539993286], \"type\": \"scatter\"}, {\"marker\": {\"size\": [197], \"sizemode\": \"area\", \"sizeref\": 0.05}, \"mode\": \"markers+text\", \"name\": \"Bolivia\", \"text\": [\"Bolivia:<br> 3\"], \"x\": [-0.49999988079071045], \"y\": [-0.866025447845459], \"type\": \"scatter\"}, {\"marker\": {\"size\": [199], \"sizemode\": \"area\", \"sizeref\": 0.05}, \"mode\": \"markers+text\", \"name\": \"Austria\", \"text\": [\"Austria:<br> 1\"], \"x\": [0.1736481785774231], \"y\": [-0.9848077297210693], \"type\": \"scatter\"}, {\"marker\": {\"size\": [199], \"sizemode\": \"area\", \"sizeref\": 0.05}, \"mode\": \"markers+text\", \"name\": \"Portugal\", \"text\": [\"Portugal:<br> 1\"], \"x\": [0.7660443782806396], \"y\": [-0.642787754535675], \"type\": \"scatter\"}], \"name\": \"2017-03-04\"}, {\"data\": [{\"marker\": {\"size\": [199], \"sizemode\": \"area\", \"sizeref\": 0.05}, \"mode\": \"markers+text\", \"name\": \"United States\", \"text\": [\"United States:<br> 1\"], \"x\": [1.0], \"y\": [6.622738357719982e-09], \"type\": \"scatter\"}, {\"marker\": {\"size\": [199], \"sizemode\": \"area\", \"sizeref\": 0.05}, \"mode\": \"markers+text\", \"name\": \"Switzerland\", \"text\": [\"Switzerland:<br> 1\"], \"x\": [0.7660444974899292], \"y\": [0.6427875757217407], \"type\": \"scatter\"}, {\"marker\": {\"size\": [199], \"sizemode\": \"area\", \"sizeref\": 0.05}, \"mode\": \"markers+text\", \"name\": \"Hungary\", \"text\": [\"Hungary:<br> 1\"], \"x\": [0.17364825308322906], \"y\": [0.9848077297210693], \"type\": \"scatter\"}, {\"marker\": {\"size\": [197], \"sizemode\": \"area\", \"sizeref\": 0.05}, \"mode\": \"markers+text\", \"name\": \"Peru\", \"text\": [\"Peru:<br> 3\"], \"x\": [-0.5], \"y\": [0.8660253882408142], \"type\": \"scatter\"}, {\"marker\": {\"size\": [199], \"sizemode\": \"area\", \"sizeref\": 0.05}, \"mode\": \"markers+text\", \"name\": \"Malaysia\", \"text\": [\"Malaysia:<br> 1\"], \"x\": [-0.9396925568580627], \"y\": [0.3420202136039734], \"type\": \"scatter\"}, {\"marker\": {\"size\": [199], \"sizemode\": \"area\", \"sizeref\": 0.05}, \"mode\": \"markers+text\", \"name\": \"Denmark\", \"text\": [\"Denmark:<br> 1\"], \"x\": [-0.9396925568580627], \"y\": [-0.3420201539993286], \"type\": \"scatter\"}, {\"marker\": {\"size\": [197], \"sizemode\": \"area\", \"sizeref\": 0.05}, \"mode\": \"markers+text\", \"name\": \"Bolivia\", \"text\": [\"Bolivia:<br> 3\"], \"x\": [-0.49999988079071045], \"y\": [-0.866025447845459], \"type\": \"scatter\"}, {\"marker\": {\"size\": [199], \"sizemode\": \"area\", \"sizeref\": 0.05}, \"mode\": \"markers+text\", \"name\": \"Austria\", \"text\": [\"Austria:<br> 1\"], \"x\": [0.1736481785774231], \"y\": [-0.9848077297210693], \"type\": \"scatter\"}, {\"marker\": {\"size\": [199], \"sizemode\": \"area\", \"sizeref\": 0.05}, \"mode\": \"markers+text\", \"name\": \"Portugal\", \"text\": [\"Portugal:<br> 1\"], \"x\": [0.7660443782806396], \"y\": [-0.642787754535675], \"type\": \"scatter\"}], \"name\": \"2017-03-05\"}, {\"data\": [{\"marker\": {\"size\": [199], \"sizemode\": \"area\", \"sizeref\": 0.05}, \"mode\": \"markers+text\", \"name\": \"United States\", \"text\": [\"United States:<br> 1\"], \"x\": [1.0], \"y\": [6.622738357719982e-09], \"type\": \"scatter\"}, {\"marker\": {\"size\": [199], \"sizemode\": \"area\", \"sizeref\": 0.05}, \"mode\": \"markers+text\", \"name\": \"Switzerland\", \"text\": [\"Switzerland:<br> 1\"], \"x\": [0.7660444974899292], \"y\": [0.6427875757217407], \"type\": \"scatter\"}, {\"marker\": {\"size\": [199], \"sizemode\": \"area\", \"sizeref\": 0.05}, \"mode\": \"markers+text\", \"name\": \"Hungary\", \"text\": [\"Hungary:<br> 1\"], \"x\": [0.17364825308322906], \"y\": [0.9848077297210693], \"type\": \"scatter\"}, {\"marker\": {\"size\": [197], \"sizemode\": \"area\", \"sizeref\": 0.05}, \"mode\": \"markers+text\", \"name\": \"Peru\", \"text\": [\"Peru:<br> 3\"], \"x\": [-0.5], \"y\": [0.8660253882408142], \"type\": \"scatter\"}, {\"marker\": {\"size\": [199], \"sizemode\": \"area\", \"sizeref\": 0.05}, \"mode\": \"markers+text\", \"name\": \"Malaysia\", \"text\": [\"Malaysia:<br> 1\"], \"x\": [-0.9396925568580627], \"y\": [0.3420202136039734], \"type\": \"scatter\"}, {\"marker\": {\"size\": [199], \"sizemode\": \"area\", \"sizeref\": 0.05}, \"mode\": \"markers+text\", \"name\": \"Denmark\", \"text\": [\"Denmark:<br> 1\"], \"x\": [-0.9396925568580627], \"y\": [-0.3420201539993286], \"type\": \"scatter\"}, {\"marker\": {\"size\": [198], \"sizemode\": \"area\", \"sizeref\": 0.05}, \"mode\": \"markers+text\", \"name\": \"Bolivia\", \"text\": [\"Bolivia:<br> 2\"], \"x\": [-0.49999988079071045], \"y\": [-0.866025447845459], \"type\": \"scatter\"}, {\"marker\": {\"size\": [199], \"sizemode\": \"area\", \"sizeref\": 0.05}, \"mode\": \"markers+text\", \"name\": \"Austria\", \"text\": [\"Austria:<br> 1\"], \"x\": [0.1736481785774231], \"y\": [-0.9848077297210693], \"type\": \"scatter\"}, {\"marker\": {\"size\": [199], \"sizemode\": \"area\", \"sizeref\": 0.05}, \"mode\": \"markers+text\", \"name\": \"Portugal\", \"text\": [\"Portugal:<br> 1\"], \"x\": [0.7660443782806396], \"y\": [-0.642787754535675], \"type\": \"scatter\"}], \"name\": \"2017-03-06\"}, {\"data\": [{\"marker\": {\"size\": [199], \"sizemode\": \"area\", \"sizeref\": 0.05}, \"mode\": \"markers+text\", \"name\": \"United States\", \"text\": [\"United States:<br> 1\"], \"x\": [1.0], \"y\": [6.622738357719982e-09], \"type\": \"scatter\"}, {\"marker\": {\"size\": [199], \"sizemode\": \"area\", \"sizeref\": 0.05}, \"mode\": \"markers+text\", \"name\": \"Switzerland\", \"text\": [\"Switzerland:<br> 1\"], \"x\": [0.7660444974899292], \"y\": [0.6427875757217407], \"type\": \"scatter\"}, {\"marker\": {\"size\": [199], \"sizemode\": \"area\", \"sizeref\": 0.05}, \"mode\": \"markers+text\", \"name\": \"Hungary\", \"text\": [\"Hungary:<br> 1\"], \"x\": [0.17364825308322906], \"y\": [0.9848077297210693], \"type\": \"scatter\"}, {\"marker\": {\"size\": [197], \"sizemode\": \"area\", \"sizeref\": 0.05}, \"mode\": \"markers+text\", \"name\": \"Peru\", \"text\": [\"Peru:<br> 3\"], \"x\": [-0.5], \"y\": [0.8660253882408142], \"type\": \"scatter\"}, {\"marker\": {\"size\": [199], \"sizemode\": \"area\", \"sizeref\": 0.05}, \"mode\": \"markers+text\", \"name\": \"Malaysia\", \"text\": [\"Malaysia:<br> 1\"], \"x\": [-0.9396925568580627], \"y\": [0.3420202136039734], \"type\": \"scatter\"}, {\"marker\": {\"size\": [199], \"sizemode\": \"area\", \"sizeref\": 0.05}, \"mode\": \"markers+text\", \"name\": \"Denmark\", \"text\": [\"Denmark:<br> 1\"], \"x\": [-0.9396925568580627], \"y\": [-0.3420201539993286], \"type\": \"scatter\"}, {\"marker\": {\"size\": [198], \"sizemode\": \"area\", \"sizeref\": 0.05}, \"mode\": \"markers+text\", \"name\": \"Bolivia\", \"text\": [\"Bolivia:<br> 2\"], \"x\": [-0.49999988079071045], \"y\": [-0.866025447845459], \"type\": \"scatter\"}, {\"marker\": {\"size\": [199], \"sizemode\": \"area\", \"sizeref\": 0.05}, \"mode\": \"markers+text\", \"name\": \"Austria\", \"text\": [\"Austria:<br> 1\"], \"x\": [0.1736481785774231], \"y\": [-0.9848077297210693], \"type\": \"scatter\"}, {\"marker\": {\"size\": [199], \"sizemode\": \"area\", \"sizeref\": 0.05}, \"mode\": \"markers+text\", \"name\": \"Portugal\", \"text\": [\"Portugal:<br> 1\"], \"x\": [0.7660443782806396], \"y\": [-0.642787754535675], \"type\": \"scatter\"}], \"name\": \"2017-03-07\"}, {\"data\": [{\"marker\": {\"size\": [199], \"sizemode\": \"area\", \"sizeref\": 0.05}, \"mode\": \"markers+text\", \"name\": \"United States\", \"text\": [\"United States:<br> 1\"], \"x\": [1.0], \"y\": [6.622738357719982e-09], \"type\": \"scatter\"}, {\"marker\": {\"size\": [199], \"sizemode\": \"area\", \"sizeref\": 0.05}, \"mode\": \"markers+text\", \"name\": \"Switzerland\", \"text\": [\"Switzerland:<br> 1\"], \"x\": [0.7660444974899292], \"y\": [0.6427875757217407], \"type\": \"scatter\"}, {\"marker\": {\"size\": [199], \"sizemode\": \"area\", \"sizeref\": 0.05}, \"mode\": \"markers+text\", \"name\": \"Hungary\", \"text\": [\"Hungary:<br> 1\"], \"x\": [0.17364825308322906], \"y\": [0.9848077297210693], \"type\": \"scatter\"}, {\"marker\": {\"size\": [198], \"sizemode\": \"area\", \"sizeref\": 0.05}, \"mode\": \"markers+text\", \"name\": \"Peru\", \"text\": [\"Peru:<br> 2\"], \"x\": [-0.5], \"y\": [0.8660253882408142], \"type\": \"scatter\"}, {\"marker\": {\"size\": [199], \"sizemode\": \"area\", \"sizeref\": 0.05}, \"mode\": \"markers+text\", \"name\": \"Malaysia\", \"text\": [\"Malaysia:<br> 1\"], \"x\": [-0.9396925568580627], \"y\": [0.3420202136039734], \"type\": \"scatter\"}, {\"marker\": {\"size\": [199], \"sizemode\": \"area\", \"sizeref\": 0.05}, \"mode\": \"markers+text\", \"name\": \"Denmark\", \"text\": [\"Denmark:<br> 1\"], \"x\": [-0.9396925568580627], \"y\": [-0.3420201539993286], \"type\": \"scatter\"}, {\"marker\": {\"size\": [198], \"sizemode\": \"area\", \"sizeref\": 0.05}, \"mode\": \"markers+text\", \"name\": \"Bolivia\", \"text\": [\"Bolivia:<br> 2\"], \"x\": [-0.49999988079071045], \"y\": [-0.866025447845459], \"type\": \"scatter\"}, {\"marker\": {\"size\": [199], \"sizemode\": \"area\", \"sizeref\": 0.05}, \"mode\": \"markers+text\", \"name\": \"Austria\", \"text\": [\"Austria:<br> 1\"], \"x\": [0.1736481785774231], \"y\": [-0.9848077297210693], \"type\": \"scatter\"}, {\"marker\": {\"size\": [199], \"sizemode\": \"area\", \"sizeref\": 0.05}, \"mode\": \"markers+text\", \"name\": \"Portugal\", \"text\": [\"Portugal:<br> 1\"], \"x\": [0.7660443782806396], \"y\": [-0.642787754535675], \"type\": \"scatter\"}], \"name\": \"2017-03-08\"}, {\"data\": [{\"marker\": {\"size\": [199], \"sizemode\": \"area\", \"sizeref\": 0.05}, \"mode\": \"markers+text\", \"name\": \"United States\", \"text\": [\"United States:<br> 1\"], \"x\": [1.0], \"y\": [6.622738357719982e-09], \"type\": \"scatter\"}, {\"marker\": {\"size\": [199], \"sizemode\": \"area\", \"sizeref\": 0.05}, \"mode\": \"markers+text\", \"name\": \"Switzerland\", \"text\": [\"Switzerland:<br> 1\"], \"x\": [0.7660444974899292], \"y\": [0.6427875757217407], \"type\": \"scatter\"}, {\"marker\": {\"size\": [199], \"sizemode\": \"area\", \"sizeref\": 0.05}, \"mode\": \"markers+text\", \"name\": \"Hungary\", \"text\": [\"Hungary:<br> 1\"], \"x\": [0.17364825308322906], \"y\": [0.9848077297210693], \"type\": \"scatter\"}, {\"marker\": {\"size\": [197], \"sizemode\": \"area\", \"sizeref\": 0.05}, \"mode\": \"markers+text\", \"name\": \"Peru\", \"text\": [\"Peru:<br> 3\"], \"x\": [-0.5], \"y\": [0.8660253882408142], \"type\": \"scatter\"}, {\"marker\": {\"size\": [199], \"sizemode\": \"area\", \"sizeref\": 0.05}, \"mode\": \"markers+text\", \"name\": \"Malaysia\", \"text\": [\"Malaysia:<br> 1\"], \"x\": [-0.9396925568580627], \"y\": [0.3420202136039734], \"type\": \"scatter\"}, {\"marker\": {\"size\": [199], \"sizemode\": \"area\", \"sizeref\": 0.05}, \"mode\": \"markers+text\", \"name\": \"Denmark\", \"text\": [\"Denmark:<br> 1\"], \"x\": [-0.9396925568580627], \"y\": [-0.3420201539993286], \"type\": \"scatter\"}, {\"marker\": {\"size\": [198], \"sizemode\": \"area\", \"sizeref\": 0.05}, \"mode\": \"markers+text\", \"name\": \"Bolivia\", \"text\": [\"Bolivia:<br> 2\"], \"x\": [-0.49999988079071045], \"y\": [-0.866025447845459], \"type\": \"scatter\"}, {\"marker\": {\"size\": [199], \"sizemode\": \"area\", \"sizeref\": 0.05}, \"mode\": \"markers+text\", \"name\": \"Austria\", \"text\": [\"Austria:<br> 1\"], \"x\": [0.1736481785774231], \"y\": [-0.9848077297210693], \"type\": \"scatter\"}, {\"marker\": {\"size\": [199], \"sizemode\": \"area\", \"sizeref\": 0.05}, \"mode\": \"markers+text\", \"name\": \"Portugal\", \"text\": [\"Portugal:<br> 1\"], \"x\": [0.7660443782806396], \"y\": [-0.642787754535675], \"type\": \"scatter\"}], \"name\": \"2017-03-09\"}, {\"data\": [{\"marker\": {\"size\": [199], \"sizemode\": \"area\", \"sizeref\": 0.05}, \"mode\": \"markers+text\", \"name\": \"United States\", \"text\": [\"United States:<br> 1\"], \"x\": [1.0], \"y\": [6.622738357719982e-09], \"type\": \"scatter\"}, {\"marker\": {\"size\": [199], \"sizemode\": \"area\", \"sizeref\": 0.05}, \"mode\": \"markers+text\", \"name\": \"Switzerland\", \"text\": [\"Switzerland:<br> 1\"], \"x\": [0.7660444974899292], \"y\": [0.6427875757217407], \"type\": \"scatter\"}, {\"marker\": {\"size\": [199], \"sizemode\": \"area\", \"sizeref\": 0.05}, \"mode\": \"markers+text\", \"name\": \"Hungary\", \"text\": [\"Hungary:<br> 1\"], \"x\": [0.17364825308322906], \"y\": [0.9848077297210693], \"type\": \"scatter\"}, {\"marker\": {\"size\": [197], \"sizemode\": \"area\", \"sizeref\": 0.05}, \"mode\": \"markers+text\", \"name\": \"Peru\", \"text\": [\"Peru:<br> 3\"], \"x\": [-0.5], \"y\": [0.8660253882408142], \"type\": \"scatter\"}, {\"marker\": {\"size\": [199], \"sizemode\": \"area\", \"sizeref\": 0.05}, \"mode\": \"markers+text\", \"name\": \"Malaysia\", \"text\": [\"Malaysia:<br> 1\"], \"x\": [-0.9396925568580627], \"y\": [0.3420202136039734], \"type\": \"scatter\"}, {\"marker\": {\"size\": [199], \"sizemode\": \"area\", \"sizeref\": 0.05}, \"mode\": \"markers+text\", \"name\": \"Denmark\", \"text\": [\"Denmark:<br> 1\"], \"x\": [-0.9396925568580627], \"y\": [-0.3420201539993286], \"type\": \"scatter\"}, {\"marker\": {\"size\": [197], \"sizemode\": \"area\", \"sizeref\": 0.05}, \"mode\": \"markers+text\", \"name\": \"Bolivia\", \"text\": [\"Bolivia:<br> 3\"], \"x\": [-0.49999988079071045], \"y\": [-0.866025447845459], \"type\": \"scatter\"}, {\"marker\": {\"size\": [199], \"sizemode\": \"area\", \"sizeref\": 0.05}, \"mode\": \"markers+text\", \"name\": \"Austria\", \"text\": [\"Austria:<br> 1\"], \"x\": [0.1736481785774231], \"y\": [-0.9848077297210693], \"type\": \"scatter\"}, {\"marker\": {\"size\": [199], \"sizemode\": \"area\", \"sizeref\": 0.05}, \"mode\": \"markers+text\", \"name\": \"Portugal\", \"text\": [\"Portugal:<br> 1\"], \"x\": [0.7660443782806396], \"y\": [-0.642787754535675], \"type\": \"scatter\"}], \"name\": \"2017-03-10\"}, {\"data\": [{\"marker\": {\"size\": [199], \"sizemode\": \"area\", \"sizeref\": 0.05}, \"mode\": \"markers+text\", \"name\": \"United States\", \"text\": [\"United States:<br> 1\"], \"x\": [1.0], \"y\": [6.622738357719982e-09], \"type\": \"scatter\"}, {\"marker\": {\"size\": [199], \"sizemode\": \"area\", \"sizeref\": 0.05}, \"mode\": \"markers+text\", \"name\": \"Switzerland\", \"text\": [\"Switzerland:<br> 1\"], \"x\": [0.7660444974899292], \"y\": [0.6427875757217407], \"type\": \"scatter\"}, {\"marker\": {\"size\": [199], \"sizemode\": \"area\", \"sizeref\": 0.05}, \"mode\": \"markers+text\", \"name\": \"Hungary\", \"text\": [\"Hungary:<br> 1\"], \"x\": [0.17364825308322906], \"y\": [0.9848077297210693], \"type\": \"scatter\"}, {\"marker\": {\"size\": [197], \"sizemode\": \"area\", \"sizeref\": 0.05}, \"mode\": \"markers+text\", \"name\": \"Peru\", \"text\": [\"Peru:<br> 3\"], \"x\": [-0.5], \"y\": [0.8660253882408142], \"type\": \"scatter\"}, {\"marker\": {\"size\": [199], \"sizemode\": \"area\", \"sizeref\": 0.05}, \"mode\": \"markers+text\", \"name\": \"Malaysia\", \"text\": [\"Malaysia:<br> 1\"], \"x\": [-0.9396925568580627], \"y\": [0.3420202136039734], \"type\": \"scatter\"}, {\"marker\": {\"size\": [199], \"sizemode\": \"area\", \"sizeref\": 0.05}, \"mode\": \"markers+text\", \"name\": \"Denmark\", \"text\": [\"Denmark:<br> 1\"], \"x\": [-0.9396925568580627], \"y\": [-0.3420201539993286], \"type\": \"scatter\"}, {\"marker\": {\"size\": [197], \"sizemode\": \"area\", \"sizeref\": 0.05}, \"mode\": \"markers+text\", \"name\": \"Bolivia\", \"text\": [\"Bolivia:<br> 3\"], \"x\": [-0.49999988079071045], \"y\": [-0.866025447845459], \"type\": \"scatter\"}, {\"marker\": {\"size\": [199], \"sizemode\": \"area\", \"sizeref\": 0.05}, \"mode\": \"markers+text\", \"name\": \"Austria\", \"text\": [\"Austria:<br> 1\"], \"x\": [0.1736481785774231], \"y\": [-0.9848077297210693], \"type\": \"scatter\"}, {\"marker\": {\"size\": [199], \"sizemode\": \"area\", \"sizeref\": 0.05}, \"mode\": \"markers+text\", \"name\": \"Portugal\", \"text\": [\"Portugal:<br> 1\"], \"x\": [0.7660443782806396], \"y\": [-0.642787754535675], \"type\": \"scatter\"}], \"name\": \"2017-03-11\"}, {\"data\": [{\"marker\": {\"size\": [199], \"sizemode\": \"area\", \"sizeref\": 0.05}, \"mode\": \"markers+text\", \"name\": \"United States\", \"text\": [\"United States:<br> 1\"], \"x\": [1.0], \"y\": [6.622738357719982e-09], \"type\": \"scatter\"}, {\"marker\": {\"size\": [199], \"sizemode\": \"area\", \"sizeref\": 0.05}, \"mode\": \"markers+text\", \"name\": \"Switzerland\", \"text\": [\"Switzerland:<br> 1\"], \"x\": [0.7660444974899292], \"y\": [0.6427875757217407], \"type\": \"scatter\"}, {\"marker\": {\"size\": [199], \"sizemode\": \"area\", \"sizeref\": 0.05}, \"mode\": \"markers+text\", \"name\": \"Hungary\", \"text\": [\"Hungary:<br> 1\"], \"x\": [0.17364825308322906], \"y\": [0.9848077297210693], \"type\": \"scatter\"}, {\"marker\": {\"size\": [197], \"sizemode\": \"area\", \"sizeref\": 0.05}, \"mode\": \"markers+text\", \"name\": \"Peru\", \"text\": [\"Peru:<br> 3\"], \"x\": [-0.5], \"y\": [0.8660253882408142], \"type\": \"scatter\"}, {\"marker\": {\"size\": [199], \"sizemode\": \"area\", \"sizeref\": 0.05}, \"mode\": \"markers+text\", \"name\": \"Malaysia\", \"text\": [\"Malaysia:<br> 1\"], \"x\": [-0.9396925568580627], \"y\": [0.3420202136039734], \"type\": \"scatter\"}, {\"marker\": {\"size\": [199], \"sizemode\": \"area\", \"sizeref\": 0.05}, \"mode\": \"markers+text\", \"name\": \"Denmark\", \"text\": [\"Denmark:<br> 1\"], \"x\": [-0.9396925568580627], \"y\": [-0.3420201539993286], \"type\": \"scatter\"}, {\"marker\": {\"size\": [197], \"sizemode\": \"area\", \"sizeref\": 0.05}, \"mode\": \"markers+text\", \"name\": \"Bolivia\", \"text\": [\"Bolivia:<br> 3\"], \"x\": [-0.49999988079071045], \"y\": [-0.866025447845459], \"type\": \"scatter\"}, {\"marker\": {\"size\": [199], \"sizemode\": \"area\", \"sizeref\": 0.05}, \"mode\": \"markers+text\", \"name\": \"Austria\", \"text\": [\"Austria:<br> 1\"], \"x\": [0.1736481785774231], \"y\": [-0.9848077297210693], \"type\": \"scatter\"}, {\"marker\": {\"size\": [199], \"sizemode\": \"area\", \"sizeref\": 0.05}, \"mode\": \"markers+text\", \"name\": \"Portugal\", \"text\": [\"Portugal:<br> 1\"], \"x\": [0.7660443782806396], \"y\": [-0.642787754535675], \"type\": \"scatter\"}], \"name\": \"2017-03-12\"}, {\"data\": [{\"marker\": {\"size\": [199], \"sizemode\": \"area\", \"sizeref\": 0.05}, \"mode\": \"markers+text\", \"name\": \"United States\", \"text\": [\"United States:<br> 1\"], \"x\": [1.0], \"y\": [6.622738357719982e-09], \"type\": \"scatter\"}, {\"marker\": {\"size\": [199], \"sizemode\": \"area\", \"sizeref\": 0.05}, \"mode\": \"markers+text\", \"name\": \"Switzerland\", \"text\": [\"Switzerland:<br> 1\"], \"x\": [0.7660444974899292], \"y\": [0.6427875757217407], \"type\": \"scatter\"}, {\"marker\": {\"size\": [199], \"sizemode\": \"area\", \"sizeref\": 0.05}, \"mode\": \"markers+text\", \"name\": \"Hungary\", \"text\": [\"Hungary:<br> 1\"], \"x\": [0.17364825308322906], \"y\": [0.9848077297210693], \"type\": \"scatter\"}, {\"marker\": {\"size\": [198], \"sizemode\": \"area\", \"sizeref\": 0.05}, \"mode\": \"markers+text\", \"name\": \"Peru\", \"text\": [\"Peru:<br> 2\"], \"x\": [-0.5], \"y\": [0.8660253882408142], \"type\": \"scatter\"}, {\"marker\": {\"size\": [199], \"sizemode\": \"area\", \"sizeref\": 0.05}, \"mode\": \"markers+text\", \"name\": \"Malaysia\", \"text\": [\"Malaysia:<br> 1\"], \"x\": [-0.9396925568580627], \"y\": [0.3420202136039734], \"type\": \"scatter\"}, {\"marker\": {\"size\": [199], \"sizemode\": \"area\", \"sizeref\": 0.05}, \"mode\": \"markers+text\", \"name\": \"Denmark\", \"text\": [\"Denmark:<br> 1\"], \"x\": [-0.9396925568580627], \"y\": [-0.3420201539993286], \"type\": \"scatter\"}, {\"marker\": {\"size\": [197], \"sizemode\": \"area\", \"sizeref\": 0.05}, \"mode\": \"markers+text\", \"name\": \"Bolivia\", \"text\": [\"Bolivia:<br> 3\"], \"x\": [-0.49999988079071045], \"y\": [-0.866025447845459], \"type\": \"scatter\"}, {\"marker\": {\"size\": [199], \"sizemode\": \"area\", \"sizeref\": 0.05}, \"mode\": \"markers+text\", \"name\": \"Austria\", \"text\": [\"Austria:<br> 1\"], \"x\": [0.1736481785774231], \"y\": [-0.9848077297210693], \"type\": \"scatter\"}, {\"marker\": {\"size\": [199], \"sizemode\": \"area\", \"sizeref\": 0.05}, \"mode\": \"markers+text\", \"name\": \"Portugal\", \"text\": [\"Portugal:<br> 1\"], \"x\": [0.7660443782806396], \"y\": [-0.642787754535675], \"type\": \"scatter\"}], \"name\": \"2017-03-13\"}, {\"data\": [{\"marker\": {\"size\": [199], \"sizemode\": \"area\", \"sizeref\": 0.05}, \"mode\": \"markers+text\", \"name\": \"United States\", \"text\": [\"United States:<br> 1\"], \"x\": [1.0], \"y\": [6.622738357719982e-09], \"type\": \"scatter\"}, {\"marker\": {\"size\": [199], \"sizemode\": \"area\", \"sizeref\": 0.05}, \"mode\": \"markers+text\", \"name\": \"Switzerland\", \"text\": [\"Switzerland:<br> 1\"], \"x\": [0.7660444974899292], \"y\": [0.6427875757217407], \"type\": \"scatter\"}, {\"marker\": {\"size\": [199], \"sizemode\": \"area\", \"sizeref\": 0.05}, \"mode\": \"markers+text\", \"name\": \"Hungary\", \"text\": [\"Hungary:<br> 1\"], \"x\": [0.17364825308322906], \"y\": [0.9848077297210693], \"type\": \"scatter\"}, {\"marker\": {\"size\": [198], \"sizemode\": \"area\", \"sizeref\": 0.05}, \"mode\": \"markers+text\", \"name\": \"Peru\", \"text\": [\"Peru:<br> 2\"], \"x\": [-0.5], \"y\": [0.8660253882408142], \"type\": \"scatter\"}, {\"marker\": {\"size\": [199], \"sizemode\": \"area\", \"sizeref\": 0.05}, \"mode\": \"markers+text\", \"name\": \"Malaysia\", \"text\": [\"Malaysia:<br> 1\"], \"x\": [-0.9396925568580627], \"y\": [0.3420202136039734], \"type\": \"scatter\"}, {\"marker\": {\"size\": [199], \"sizemode\": \"area\", \"sizeref\": 0.05}, \"mode\": \"markers+text\", \"name\": \"Denmark\", \"text\": [\"Denmark:<br> 1\"], \"x\": [-0.9396925568580627], \"y\": [-0.3420201539993286], \"type\": \"scatter\"}, {\"marker\": {\"size\": [198], \"sizemode\": \"area\", \"sizeref\": 0.05}, \"mode\": \"markers+text\", \"name\": \"Bolivia\", \"text\": [\"Bolivia:<br> 2\"], \"x\": [-0.49999988079071045], \"y\": [-0.866025447845459], \"type\": \"scatter\"}, {\"marker\": {\"size\": [199], \"sizemode\": \"area\", \"sizeref\": 0.05}, \"mode\": \"markers+text\", \"name\": \"Austria\", \"text\": [\"Austria:<br> 1\"], \"x\": [0.1736481785774231], \"y\": [-0.9848077297210693], \"type\": \"scatter\"}, {\"marker\": {\"size\": [199], \"sizemode\": \"area\", \"sizeref\": 0.05}, \"mode\": \"markers+text\", \"name\": \"Portugal\", \"text\": [\"Portugal:<br> 1\"], \"x\": [0.7660443782806396], \"y\": [-0.642787754535675], \"type\": \"scatter\"}], \"name\": \"2017-03-14\"}, {\"data\": [{\"marker\": {\"size\": [199], \"sizemode\": \"area\", \"sizeref\": 0.05}, \"mode\": \"markers+text\", \"name\": \"United States\", \"text\": [\"United States:<br> 1\"], \"x\": [1.0], \"y\": [6.622738357719982e-09], \"type\": \"scatter\"}, {\"marker\": {\"size\": [199], \"sizemode\": \"area\", \"sizeref\": 0.05}, \"mode\": \"markers+text\", \"name\": \"Switzerland\", \"text\": [\"Switzerland:<br> 1\"], \"x\": [0.7660444974899292], \"y\": [0.6427875757217407], \"type\": \"scatter\"}, {\"marker\": {\"size\": [199], \"sizemode\": \"area\", \"sizeref\": 0.05}, \"mode\": \"markers+text\", \"name\": \"Hungary\", \"text\": [\"Hungary:<br> 1\"], \"x\": [0.17364825308322906], \"y\": [0.9848077297210693], \"type\": \"scatter\"}, {\"marker\": {\"size\": [198], \"sizemode\": \"area\", \"sizeref\": 0.05}, \"mode\": \"markers+text\", \"name\": \"Peru\", \"text\": [\"Peru:<br> 2\"], \"x\": [-0.5], \"y\": [0.8660253882408142], \"type\": \"scatter\"}, {\"marker\": {\"size\": [199], \"sizemode\": \"area\", \"sizeref\": 0.05}, \"mode\": \"markers+text\", \"name\": \"Malaysia\", \"text\": [\"Malaysia:<br> 1\"], \"x\": [-0.9396925568580627], \"y\": [0.3420202136039734], \"type\": \"scatter\"}, {\"marker\": {\"size\": [199], \"sizemode\": \"area\", \"sizeref\": 0.05}, \"mode\": \"markers+text\", \"name\": \"Denmark\", \"text\": [\"Denmark:<br> 1\"], \"x\": [-0.9396925568580627], \"y\": [-0.3420201539993286], \"type\": \"scatter\"}, {\"marker\": {\"size\": [198], \"sizemode\": \"area\", \"sizeref\": 0.05}, \"mode\": \"markers+text\", \"name\": \"Bolivia\", \"text\": [\"Bolivia:<br> 2\"], \"x\": [-0.49999988079071045], \"y\": [-0.866025447845459], \"type\": \"scatter\"}, {\"marker\": {\"size\": [199], \"sizemode\": \"area\", \"sizeref\": 0.05}, \"mode\": \"markers+text\", \"name\": \"Austria\", \"text\": [\"Austria:<br> 1\"], \"x\": [0.1736481785774231], \"y\": [-0.9848077297210693], \"type\": \"scatter\"}, {\"marker\": {\"size\": [199], \"sizemode\": \"area\", \"sizeref\": 0.05}, \"mode\": \"markers+text\", \"name\": \"Portugal\", \"text\": [\"Portugal:<br> 1\"], \"x\": [0.7660443782806396], \"y\": [-0.642787754535675], \"type\": \"scatter\"}], \"name\": \"2017-03-15\"}, {\"data\": [{\"marker\": {\"size\": [199], \"sizemode\": \"area\", \"sizeref\": 0.05}, \"mode\": \"markers+text\", \"name\": \"United States\", \"text\": [\"United States:<br> 1\"], \"x\": [1.0], \"y\": [6.622738357719982e-09], \"type\": \"scatter\"}, {\"marker\": {\"size\": [199], \"sizemode\": \"area\", \"sizeref\": 0.05}, \"mode\": \"markers+text\", \"name\": \"Switzerland\", \"text\": [\"Switzerland:<br> 1\"], \"x\": [0.7660444974899292], \"y\": [0.6427875757217407], \"type\": \"scatter\"}, {\"marker\": {\"size\": [199], \"sizemode\": \"area\", \"sizeref\": 0.05}, \"mode\": \"markers+text\", \"name\": \"Hungary\", \"text\": [\"Hungary:<br> 1\"], \"x\": [0.17364825308322906], \"y\": [0.9848077297210693], \"type\": \"scatter\"}, {\"marker\": {\"size\": [198], \"sizemode\": \"area\", \"sizeref\": 0.05}, \"mode\": \"markers+text\", \"name\": \"Peru\", \"text\": [\"Peru:<br> 2\"], \"x\": [-0.5], \"y\": [0.8660253882408142], \"type\": \"scatter\"}, {\"marker\": {\"size\": [199], \"sizemode\": \"area\", \"sizeref\": 0.05}, \"mode\": \"markers+text\", \"name\": \"Malaysia\", \"text\": [\"Malaysia:<br> 1\"], \"x\": [-0.9396925568580627], \"y\": [0.3420202136039734], \"type\": \"scatter\"}, {\"marker\": {\"size\": [199], \"sizemode\": \"area\", \"sizeref\": 0.05}, \"mode\": \"markers+text\", \"name\": \"Denmark\", \"text\": [\"Denmark:<br> 1\"], \"x\": [-0.9396925568580627], \"y\": [-0.3420201539993286], \"type\": \"scatter\"}, {\"marker\": {\"size\": [198], \"sizemode\": \"area\", \"sizeref\": 0.05}, \"mode\": \"markers+text\", \"name\": \"Bolivia\", \"text\": [\"Bolivia:<br> 2\"], \"x\": [-0.49999988079071045], \"y\": [-0.866025447845459], \"type\": \"scatter\"}, {\"marker\": {\"size\": [199], \"sizemode\": \"area\", \"sizeref\": 0.05}, \"mode\": \"markers+text\", \"name\": \"Austria\", \"text\": [\"Austria:<br> 1\"], \"x\": [0.1736481785774231], \"y\": [-0.9848077297210693], \"type\": \"scatter\"}, {\"marker\": {\"size\": [198], \"sizemode\": \"area\", \"sizeref\": 0.05}, \"mode\": \"markers+text\", \"name\": \"Portugal\", \"text\": [\"Portugal:<br> 2\"], \"x\": [0.7660443782806396], \"y\": [-0.642787754535675], \"type\": \"scatter\"}], \"name\": \"2017-03-16\"}, {\"data\": [{\"marker\": {\"size\": [199], \"sizemode\": \"area\", \"sizeref\": 0.05}, \"mode\": \"markers+text\", \"name\": \"United States\", \"text\": [\"United States:<br> 1\"], \"x\": [1.0], \"y\": [6.622738357719982e-09], \"type\": \"scatter\"}, {\"marker\": {\"size\": [199], \"sizemode\": \"area\", \"sizeref\": 0.05}, \"mode\": \"markers+text\", \"name\": \"Switzerland\", \"text\": [\"Switzerland:<br> 1\"], \"x\": [0.7660444974899292], \"y\": [0.6427875757217407], \"type\": \"scatter\"}, {\"marker\": {\"size\": [199], \"sizemode\": \"area\", \"sizeref\": 0.05}, \"mode\": \"markers+text\", \"name\": \"Hungary\", \"text\": [\"Hungary:<br> 1\"], \"x\": [0.17364825308322906], \"y\": [0.9848077297210693], \"type\": \"scatter\"}, {\"marker\": {\"size\": [198], \"sizemode\": \"area\", \"sizeref\": 0.05}, \"mode\": \"markers+text\", \"name\": \"Peru\", \"text\": [\"Peru:<br> 2\"], \"x\": [-0.5], \"y\": [0.8660253882408142], \"type\": \"scatter\"}, {\"marker\": {\"size\": [199], \"sizemode\": \"area\", \"sizeref\": 0.05}, \"mode\": \"markers+text\", \"name\": \"Malaysia\", \"text\": [\"Malaysia:<br> 1\"], \"x\": [-0.9396925568580627], \"y\": [0.3420202136039734], \"type\": \"scatter\"}, {\"marker\": {\"size\": [199], \"sizemode\": \"area\", \"sizeref\": 0.05}, \"mode\": \"markers+text\", \"name\": \"Denmark\", \"text\": [\"Denmark:<br> 1\"], \"x\": [-0.9396925568580627], \"y\": [-0.3420201539993286], \"type\": \"scatter\"}, {\"marker\": {\"size\": [197], \"sizemode\": \"area\", \"sizeref\": 0.05}, \"mode\": \"markers+text\", \"name\": \"Bolivia\", \"text\": [\"Bolivia:<br> 3\"], \"x\": [-0.49999988079071045], \"y\": [-0.866025447845459], \"type\": \"scatter\"}, {\"marker\": {\"size\": [199], \"sizemode\": \"area\", \"sizeref\": 0.05}, \"mode\": \"markers+text\", \"name\": \"Austria\", \"text\": [\"Austria:<br> 1\"], \"x\": [0.1736481785774231], \"y\": [-0.9848077297210693], \"type\": \"scatter\"}, {\"marker\": {\"size\": [198], \"sizemode\": \"area\", \"sizeref\": 0.05}, \"mode\": \"markers+text\", \"name\": \"Portugal\", \"text\": [\"Portugal:<br> 2\"], \"x\": [0.7660443782806396], \"y\": [-0.642787754535675], \"type\": \"scatter\"}], \"name\": \"2017-03-17\"}, {\"data\": [{\"marker\": {\"size\": [199], \"sizemode\": \"area\", \"sizeref\": 0.05}, \"mode\": \"markers+text\", \"name\": \"United States\", \"text\": [\"United States:<br> 1\"], \"x\": [1.0], \"y\": [6.622738357719982e-09], \"type\": \"scatter\"}, {\"marker\": {\"size\": [199], \"sizemode\": \"area\", \"sizeref\": 0.05}, \"mode\": \"markers+text\", \"name\": \"Switzerland\", \"text\": [\"Switzerland:<br> 1\"], \"x\": [0.7660444974899292], \"y\": [0.6427875757217407], \"type\": \"scatter\"}, {\"marker\": {\"size\": [199], \"sizemode\": \"area\", \"sizeref\": 0.05}, \"mode\": \"markers+text\", \"name\": \"Hungary\", \"text\": [\"Hungary:<br> 1\"], \"x\": [0.17364825308322906], \"y\": [0.9848077297210693], \"type\": \"scatter\"}, {\"marker\": {\"size\": [198], \"sizemode\": \"area\", \"sizeref\": 0.05}, \"mode\": \"markers+text\", \"name\": \"Peru\", \"text\": [\"Peru:<br> 2\"], \"x\": [-0.5], \"y\": [0.8660253882408142], \"type\": \"scatter\"}, {\"marker\": {\"size\": [199], \"sizemode\": \"area\", \"sizeref\": 0.05}, \"mode\": \"markers+text\", \"name\": \"Malaysia\", \"text\": [\"Malaysia:<br> 1\"], \"x\": [-0.9396925568580627], \"y\": [0.3420202136039734], \"type\": \"scatter\"}, {\"marker\": {\"size\": [199], \"sizemode\": \"area\", \"sizeref\": 0.05}, \"mode\": \"markers+text\", \"name\": \"Denmark\", \"text\": [\"Denmark:<br> 1\"], \"x\": [-0.9396925568580627], \"y\": [-0.3420201539993286], \"type\": \"scatter\"}, {\"marker\": {\"size\": [197], \"sizemode\": \"area\", \"sizeref\": 0.05}, \"mode\": \"markers+text\", \"name\": \"Bolivia\", \"text\": [\"Bolivia:<br> 3\"], \"x\": [-0.49999988079071045], \"y\": [-0.866025447845459], \"type\": \"scatter\"}, {\"marker\": {\"size\": [199], \"sizemode\": \"area\", \"sizeref\": 0.05}, \"mode\": \"markers+text\", \"name\": \"Austria\", \"text\": [\"Austria:<br> 1\"], \"x\": [0.1736481785774231], \"y\": [-0.9848077297210693], \"type\": \"scatter\"}, {\"marker\": {\"size\": [198], \"sizemode\": \"area\", \"sizeref\": 0.05}, \"mode\": \"markers+text\", \"name\": \"Portugal\", \"text\": [\"Portugal:<br> 2\"], \"x\": [0.7660443782806396], \"y\": [-0.642787754535675], \"type\": \"scatter\"}], \"name\": \"2017-03-18\"}, {\"data\": [{\"marker\": {\"size\": [184], \"sizemode\": \"area\", \"sizeref\": 0.05}, \"mode\": \"markers+text\", \"name\": \"United States\", \"text\": [\"United States:<br> 16\"], \"x\": [1.0], \"y\": [6.622738357719982e-09], \"type\": \"scatter\"}, {\"marker\": {\"size\": [199], \"sizemode\": \"area\", \"sizeref\": 0.05}, \"mode\": \"markers+text\", \"name\": \"Switzerland\", \"text\": [\"Switzerland:<br> 1\"], \"x\": [0.7660444974899292], \"y\": [0.6427875757217407], \"type\": \"scatter\"}, {\"marker\": {\"size\": [199], \"sizemode\": \"area\", \"sizeref\": 0.05}, \"mode\": \"markers+text\", \"name\": \"Hungary\", \"text\": [\"Hungary:<br> 1\"], \"x\": [0.17364825308322906], \"y\": [0.9848077297210693], \"type\": \"scatter\"}, {\"marker\": {\"size\": [198], \"sizemode\": \"area\", \"sizeref\": 0.05}, \"mode\": \"markers+text\", \"name\": \"Peru\", \"text\": [\"Peru:<br> 2\"], \"x\": [-0.5], \"y\": [0.8660253882408142], \"type\": \"scatter\"}, {\"marker\": {\"size\": [199], \"sizemode\": \"area\", \"sizeref\": 0.05}, \"mode\": \"markers+text\", \"name\": \"Malaysia\", \"text\": [\"Malaysia:<br> 1\"], \"x\": [-0.9396925568580627], \"y\": [0.3420202136039734], \"type\": \"scatter\"}, {\"marker\": {\"size\": [199], \"sizemode\": \"area\", \"sizeref\": 0.05}, \"mode\": \"markers+text\", \"name\": \"Denmark\", \"text\": [\"Denmark:<br> 1\"], \"x\": [-0.9396925568580627], \"y\": [-0.3420201539993286], \"type\": \"scatter\"}, {\"marker\": {\"size\": [197], \"sizemode\": \"area\", \"sizeref\": 0.05}, \"mode\": \"markers+text\", \"name\": \"Bolivia\", \"text\": [\"Bolivia:<br> 3\"], \"x\": [-0.49999988079071045], \"y\": [-0.866025447845459], \"type\": \"scatter\"}, {\"marker\": {\"size\": [199], \"sizemode\": \"area\", \"sizeref\": 0.05}, \"mode\": \"markers+text\", \"name\": \"Austria\", \"text\": [\"Austria:<br> 1\"], \"x\": [0.1736481785774231], \"y\": [-0.9848077297210693], \"type\": \"scatter\"}, {\"marker\": {\"size\": [198], \"sizemode\": \"area\", \"sizeref\": 0.05}, \"mode\": \"markers+text\", \"name\": \"Portugal\", \"text\": [\"Portugal:<br> 2\"], \"x\": [0.7660443782806396], \"y\": [-0.642787754535675], \"type\": \"scatter\"}], \"name\": \"2017-03-19\"}, {\"data\": [{\"marker\": {\"size\": [186], \"sizemode\": \"area\", \"sizeref\": 0.05}, \"mode\": \"markers+text\", \"name\": \"United States\", \"text\": [\"United States:<br> 14\"], \"x\": [1.0], \"y\": [6.622738357719982e-09], \"type\": \"scatter\"}, {\"marker\": {\"size\": [199], \"sizemode\": \"area\", \"sizeref\": 0.05}, \"mode\": \"markers+text\", \"name\": \"Switzerland\", \"text\": [\"Switzerland:<br> 1\"], \"x\": [0.7660444974899292], \"y\": [0.6427875757217407], \"type\": \"scatter\"}, {\"marker\": {\"size\": [199], \"sizemode\": \"area\", \"sizeref\": 0.05}, \"mode\": \"markers+text\", \"name\": \"Hungary\", \"text\": [\"Hungary:<br> 1\"], \"x\": [0.17364825308322906], \"y\": [0.9848077297210693], \"type\": \"scatter\"}, {\"marker\": {\"size\": [198], \"sizemode\": \"area\", \"sizeref\": 0.05}, \"mode\": \"markers+text\", \"name\": \"Peru\", \"text\": [\"Peru:<br> 2\"], \"x\": [-0.5], \"y\": [0.8660253882408142], \"type\": \"scatter\"}, {\"marker\": {\"size\": [199], \"sizemode\": \"area\", \"sizeref\": 0.05}, \"mode\": \"markers+text\", \"name\": \"Malaysia\", \"text\": [\"Malaysia:<br> 1\"], \"x\": [-0.9396925568580627], \"y\": [0.3420202136039734], \"type\": \"scatter\"}, {\"marker\": {\"size\": [198], \"sizemode\": \"area\", \"sizeref\": 0.05}, \"mode\": \"markers+text\", \"name\": \"Denmark\", \"text\": [\"Denmark:<br> 2\"], \"x\": [-0.9396925568580627], \"y\": [-0.3420201539993286], \"type\": \"scatter\"}, {\"marker\": {\"size\": [198], \"sizemode\": \"area\", \"sizeref\": 0.05}, \"mode\": \"markers+text\", \"name\": \"Bolivia\", \"text\": [\"Bolivia:<br> 2\"], \"x\": [-0.49999988079071045], \"y\": [-0.866025447845459], \"type\": \"scatter\"}, {\"marker\": {\"size\": [199], \"sizemode\": \"area\", \"sizeref\": 0.05}, \"mode\": \"markers+text\", \"name\": \"Austria\", \"text\": [\"Austria:<br> 1\"], \"x\": [0.1736481785774231], \"y\": [-0.9848077297210693], \"type\": \"scatter\"}, {\"marker\": {\"size\": [198], \"sizemode\": \"area\", \"sizeref\": 0.05}, \"mode\": \"markers+text\", \"name\": \"Portugal\", \"text\": [\"Portugal:<br> 2\"], \"x\": [0.7660443782806396], \"y\": [-0.642787754535675], \"type\": \"scatter\"}], \"name\": \"2017-03-20\"}, {\"data\": [{\"marker\": {\"size\": [191], \"sizemode\": \"area\", \"sizeref\": 0.05}, \"mode\": \"markers+text\", \"name\": \"United States\", \"text\": [\"United States:<br> 9\"], \"x\": [1.0], \"y\": [6.622738357719982e-09], \"type\": \"scatter\"}, {\"marker\": {\"size\": [199], \"sizemode\": \"area\", \"sizeref\": 0.05}, \"mode\": \"markers+text\", \"name\": \"Switzerland\", \"text\": [\"Switzerland:<br> 1\"], \"x\": [0.7660444974899292], \"y\": [0.6427875757217407], \"type\": \"scatter\"}, {\"marker\": {\"size\": [199], \"sizemode\": \"area\", \"sizeref\": 0.05}, \"mode\": \"markers+text\", \"name\": \"Hungary\", \"text\": [\"Hungary:<br> 1\"], \"x\": [0.17364825308322906], \"y\": [0.9848077297210693], \"type\": \"scatter\"}, {\"marker\": {\"size\": [198], \"sizemode\": \"area\", \"sizeref\": 0.05}, \"mode\": \"markers+text\", \"name\": \"Peru\", \"text\": [\"Peru:<br> 2\"], \"x\": [-0.5], \"y\": [0.8660253882408142], \"type\": \"scatter\"}, {\"marker\": {\"size\": [199], \"sizemode\": \"area\", \"sizeref\": 0.05}, \"mode\": \"markers+text\", \"name\": \"Malaysia\", \"text\": [\"Malaysia:<br> 1\"], \"x\": [-0.9396925568580627], \"y\": [0.3420202136039734], \"type\": \"scatter\"}, {\"marker\": {\"size\": [198], \"sizemode\": \"area\", \"sizeref\": 0.05}, \"mode\": \"markers+text\", \"name\": \"Denmark\", \"text\": [\"Denmark:<br> 2\"], \"x\": [-0.9396925568580627], \"y\": [-0.3420201539993286], \"type\": \"scatter\"}, {\"marker\": {\"size\": [198], \"sizemode\": \"area\", \"sizeref\": 0.05}, \"mode\": \"markers+text\", \"name\": \"Bolivia\", \"text\": [\"Bolivia:<br> 2\"], \"x\": [-0.49999988079071045], \"y\": [-0.866025447845459], \"type\": \"scatter\"}, {\"marker\": {\"size\": [199], \"sizemode\": \"area\", \"sizeref\": 0.05}, \"mode\": \"markers+text\", \"name\": \"Austria\", \"text\": [\"Austria:<br> 1\"], \"x\": [0.1736481785774231], \"y\": [-0.9848077297210693], \"type\": \"scatter\"}, {\"marker\": {\"size\": [198], \"sizemode\": \"area\", \"sizeref\": 0.05}, \"mode\": \"markers+text\", \"name\": \"Portugal\", \"text\": [\"Portugal:<br> 2\"], \"x\": [0.7660443782806396], \"y\": [-0.642787754535675], \"type\": \"scatter\"}], \"name\": \"2017-03-21\"}, {\"data\": [{\"marker\": {\"size\": [195], \"sizemode\": \"area\", \"sizeref\": 0.05}, \"mode\": \"markers+text\", \"name\": \"United States\", \"text\": [\"United States:<br> 5\"], \"x\": [1.0], \"y\": [6.622738357719982e-09], \"type\": \"scatter\"}, {\"marker\": {\"size\": [199], \"sizemode\": \"area\", \"sizeref\": 0.05}, \"mode\": \"markers+text\", \"name\": \"Switzerland\", \"text\": [\"Switzerland:<br> 1\"], \"x\": [0.7660444974899292], \"y\": [0.6427875757217407], \"type\": \"scatter\"}, {\"marker\": {\"size\": [199], \"sizemode\": \"area\", \"sizeref\": 0.05}, \"mode\": \"markers+text\", \"name\": \"Hungary\", \"text\": [\"Hungary:<br> 1\"], \"x\": [0.17364825308322906], \"y\": [0.9848077297210693], \"type\": \"scatter\"}, {\"marker\": {\"size\": [198], \"sizemode\": \"area\", \"sizeref\": 0.05}, \"mode\": \"markers+text\", \"name\": \"Peru\", \"text\": [\"Peru:<br> 2\"], \"x\": [-0.5], \"y\": [0.8660253882408142], \"type\": \"scatter\"}, {\"marker\": {\"size\": [199], \"sizemode\": \"area\", \"sizeref\": 0.05}, \"mode\": \"markers+text\", \"name\": \"Malaysia\", \"text\": [\"Malaysia:<br> 1\"], \"x\": [-0.9396925568580627], \"y\": [0.3420202136039734], \"type\": \"scatter\"}, {\"marker\": {\"size\": [197], \"sizemode\": \"area\", \"sizeref\": 0.05}, \"mode\": \"markers+text\", \"name\": \"Denmark\", \"text\": [\"Denmark:<br> 3\"], \"x\": [-0.9396925568580627], \"y\": [-0.3420201539993286], \"type\": \"scatter\"}, {\"marker\": {\"size\": [197], \"sizemode\": \"area\", \"sizeref\": 0.05}, \"mode\": \"markers+text\", \"name\": \"Bolivia\", \"text\": [\"Bolivia:<br> 3\"], \"x\": [-0.49999988079071045], \"y\": [-0.866025447845459], \"type\": \"scatter\"}, {\"marker\": {\"size\": [199], \"sizemode\": \"area\", \"sizeref\": 0.05}, \"mode\": \"markers+text\", \"name\": \"Austria\", \"text\": [\"Austria:<br> 1\"], \"x\": [0.1736481785774231], \"y\": [-0.9848077297210693], \"type\": \"scatter\"}, {\"marker\": {\"size\": [199], \"sizemode\": \"area\", \"sizeref\": 0.05}, \"mode\": \"markers+text\", \"name\": \"Portugal\", \"text\": [\"Portugal:<br> 1\"], \"x\": [0.7660443782806396], \"y\": [-0.642787754535675], \"type\": \"scatter\"}], \"name\": \"2017-03-22\"}, {\"data\": [{\"marker\": {\"size\": [197], \"sizemode\": \"area\", \"sizeref\": 0.05}, \"mode\": \"markers+text\", \"name\": \"United States\", \"text\": [\"United States:<br> 3\"], \"x\": [1.0], \"y\": [6.622738357719982e-09], \"type\": \"scatter\"}, {\"marker\": {\"size\": [199], \"sizemode\": \"area\", \"sizeref\": 0.05}, \"mode\": \"markers+text\", \"name\": \"Switzerland\", \"text\": [\"Switzerland:<br> 1\"], \"x\": [0.7660444974899292], \"y\": [0.6427875757217407], \"type\": \"scatter\"}, {\"marker\": {\"size\": [199], \"sizemode\": \"area\", \"sizeref\": 0.05}, \"mode\": \"markers+text\", \"name\": \"Hungary\", \"text\": [\"Hungary:<br> 1\"], \"x\": [0.17364825308322906], \"y\": [0.9848077297210693], \"type\": \"scatter\"}, {\"marker\": {\"size\": [198], \"sizemode\": \"area\", \"sizeref\": 0.05}, \"mode\": \"markers+text\", \"name\": \"Peru\", \"text\": [\"Peru:<br> 2\"], \"x\": [-0.5], \"y\": [0.8660253882408142], \"type\": \"scatter\"}, {\"marker\": {\"size\": [199], \"sizemode\": \"area\", \"sizeref\": 0.05}, \"mode\": \"markers+text\", \"name\": \"Malaysia\", \"text\": [\"Malaysia:<br> 1\"], \"x\": [-0.9396925568580627], \"y\": [0.3420202136039734], \"type\": \"scatter\"}, {\"marker\": {\"size\": [197], \"sizemode\": \"area\", \"sizeref\": 0.05}, \"mode\": \"markers+text\", \"name\": \"Denmark\", \"text\": [\"Denmark:<br> 3\"], \"x\": [-0.9396925568580627], \"y\": [-0.3420201539993286], \"type\": \"scatter\"}, {\"marker\": {\"size\": [197], \"sizemode\": \"area\", \"sizeref\": 0.05}, \"mode\": \"markers+text\", \"name\": \"Bolivia\", \"text\": [\"Bolivia:<br> 3\"], \"x\": [-0.49999988079071045], \"y\": [-0.866025447845459], \"type\": \"scatter\"}, {\"marker\": {\"size\": [199], \"sizemode\": \"area\", \"sizeref\": 0.05}, \"mode\": \"markers+text\", \"name\": \"Austria\", \"text\": [\"Austria:<br> 1\"], \"x\": [0.1736481785774231], \"y\": [-0.9848077297210693], \"type\": \"scatter\"}, {\"marker\": {\"size\": [198], \"sizemode\": \"area\", \"sizeref\": 0.05}, \"mode\": \"markers+text\", \"name\": \"Portugal\", \"text\": [\"Portugal:<br> 2\"], \"x\": [0.7660443782806396], \"y\": [-0.642787754535675], \"type\": \"scatter\"}], \"name\": \"2017-03-23\"}, {\"data\": [{\"marker\": {\"size\": [197], \"sizemode\": \"area\", \"sizeref\": 0.05}, \"mode\": \"markers+text\", \"name\": \"United States\", \"text\": [\"United States:<br> 3\"], \"x\": [1.0], \"y\": [6.622738357719982e-09], \"type\": \"scatter\"}, {\"marker\": {\"size\": [199], \"sizemode\": \"area\", \"sizeref\": 0.05}, \"mode\": \"markers+text\", \"name\": \"Switzerland\", \"text\": [\"Switzerland:<br> 1\"], \"x\": [0.7660444974899292], \"y\": [0.6427875757217407], \"type\": \"scatter\"}, {\"marker\": {\"size\": [199], \"sizemode\": \"area\", \"sizeref\": 0.05}, \"mode\": \"markers+text\", \"name\": \"Hungary\", \"text\": [\"Hungary:<br> 1\"], \"x\": [0.17364825308322906], \"y\": [0.9848077297210693], \"type\": \"scatter\"}, {\"marker\": {\"size\": [198], \"sizemode\": \"area\", \"sizeref\": 0.05}, \"mode\": \"markers+text\", \"name\": \"Peru\", \"text\": [\"Peru:<br> 2\"], \"x\": [-0.5], \"y\": [0.8660253882408142], \"type\": \"scatter\"}, {\"marker\": {\"size\": [199], \"sizemode\": \"area\", \"sizeref\": 0.05}, \"mode\": \"markers+text\", \"name\": \"Malaysia\", \"text\": [\"Malaysia:<br> 1\"], \"x\": [-0.9396925568580627], \"y\": [0.3420202136039734], \"type\": \"scatter\"}, {\"marker\": {\"size\": [198], \"sizemode\": \"area\", \"sizeref\": 0.05}, \"mode\": \"markers+text\", \"name\": \"Denmark\", \"text\": [\"Denmark:<br> 2\"], \"x\": [-0.9396925568580627], \"y\": [-0.3420201539993286], \"type\": \"scatter\"}, {\"marker\": {\"size\": [197], \"sizemode\": \"area\", \"sizeref\": 0.05}, \"mode\": \"markers+text\", \"name\": \"Bolivia\", \"text\": [\"Bolivia:<br> 3\"], \"x\": [-0.49999988079071045], \"y\": [-0.866025447845459], \"type\": \"scatter\"}, {\"marker\": {\"size\": [199], \"sizemode\": \"area\", \"sizeref\": 0.05}, \"mode\": \"markers+text\", \"name\": \"Austria\", \"text\": [\"Austria:<br> 1\"], \"x\": [0.1736481785774231], \"y\": [-0.9848077297210693], \"type\": \"scatter\"}, {\"marker\": {\"size\": [198], \"sizemode\": \"area\", \"sizeref\": 0.05}, \"mode\": \"markers+text\", \"name\": \"Portugal\", \"text\": [\"Portugal:<br> 2\"], \"x\": [0.7660443782806396], \"y\": [-0.642787754535675], \"type\": \"scatter\"}], \"name\": \"2017-03-24\"}, {\"data\": [{\"marker\": {\"size\": [197], \"sizemode\": \"area\", \"sizeref\": 0.05}, \"mode\": \"markers+text\", \"name\": \"United States\", \"text\": [\"United States:<br> 3\"], \"x\": [1.0], \"y\": [6.622738357719982e-09], \"type\": \"scatter\"}, {\"marker\": {\"size\": [199], \"sizemode\": \"area\", \"sizeref\": 0.05}, \"mode\": \"markers+text\", \"name\": \"Switzerland\", \"text\": [\"Switzerland:<br> 1\"], \"x\": [0.7660444974899292], \"y\": [0.6427875757217407], \"type\": \"scatter\"}, {\"marker\": {\"size\": [199], \"sizemode\": \"area\", \"sizeref\": 0.05}, \"mode\": \"markers+text\", \"name\": \"Hungary\", \"text\": [\"Hungary:<br> 1\"], \"x\": [0.17364825308322906], \"y\": [0.9848077297210693], \"type\": \"scatter\"}, {\"marker\": {\"size\": [198], \"sizemode\": \"area\", \"sizeref\": 0.05}, \"mode\": \"markers+text\", \"name\": \"Peru\", \"text\": [\"Peru:<br> 2\"], \"x\": [-0.5], \"y\": [0.8660253882408142], \"type\": \"scatter\"}, {\"marker\": {\"size\": [199], \"sizemode\": \"area\", \"sizeref\": 0.05}, \"mode\": \"markers+text\", \"name\": \"Malaysia\", \"text\": [\"Malaysia:<br> 1\"], \"x\": [-0.9396925568580627], \"y\": [0.3420202136039734], \"type\": \"scatter\"}, {\"marker\": {\"size\": [198], \"sizemode\": \"area\", \"sizeref\": 0.05}, \"mode\": \"markers+text\", \"name\": \"Denmark\", \"text\": [\"Denmark:<br> 2\"], \"x\": [-0.9396925568580627], \"y\": [-0.3420201539993286], \"type\": \"scatter\"}, {\"marker\": {\"size\": [197], \"sizemode\": \"area\", \"sizeref\": 0.05}, \"mode\": \"markers+text\", \"name\": \"Bolivia\", \"text\": [\"Bolivia:<br> 3\"], \"x\": [-0.49999988079071045], \"y\": [-0.866025447845459], \"type\": \"scatter\"}, {\"marker\": {\"size\": [199], \"sizemode\": \"area\", \"sizeref\": 0.05}, \"mode\": \"markers+text\", \"name\": \"Austria\", \"text\": [\"Austria:<br> 1\"], \"x\": [0.1736481785774231], \"y\": [-0.9848077297210693], \"type\": \"scatter\"}, {\"marker\": {\"size\": [198], \"sizemode\": \"area\", \"sizeref\": 0.05}, \"mode\": \"markers+text\", \"name\": \"Portugal\", \"text\": [\"Portugal:<br> 2\"], \"x\": [0.7660443782806396], \"y\": [-0.642787754535675], \"type\": \"scatter\"}], \"name\": \"2017-03-25\"}, {\"data\": [{\"marker\": {\"size\": [197], \"sizemode\": \"area\", \"sizeref\": 0.05}, \"mode\": \"markers+text\", \"name\": \"United States\", \"text\": [\"United States:<br> 3\"], \"x\": [1.0], \"y\": [6.622738357719982e-09], \"type\": \"scatter\"}, {\"marker\": {\"size\": [199], \"sizemode\": \"area\", \"sizeref\": 0.05}, \"mode\": \"markers+text\", \"name\": \"Switzerland\", \"text\": [\"Switzerland:<br> 1\"], \"x\": [0.7660444974899292], \"y\": [0.6427875757217407], \"type\": \"scatter\"}, {\"marker\": {\"size\": [199], \"sizemode\": \"area\", \"sizeref\": 0.05}, \"mode\": \"markers+text\", \"name\": \"Hungary\", \"text\": [\"Hungary:<br> 1\"], \"x\": [0.17364825308322906], \"y\": [0.9848077297210693], \"type\": \"scatter\"}, {\"marker\": {\"size\": [198], \"sizemode\": \"area\", \"sizeref\": 0.05}, \"mode\": \"markers+text\", \"name\": \"Peru\", \"text\": [\"Peru:<br> 2\"], \"x\": [-0.5], \"y\": [0.8660253882408142], \"type\": \"scatter\"}, {\"marker\": {\"size\": [199], \"sizemode\": \"area\", \"sizeref\": 0.05}, \"mode\": \"markers+text\", \"name\": \"Malaysia\", \"text\": [\"Malaysia:<br> 1\"], \"x\": [-0.9396925568580627], \"y\": [0.3420202136039734], \"type\": \"scatter\"}, {\"marker\": {\"size\": [198], \"sizemode\": \"area\", \"sizeref\": 0.05}, \"mode\": \"markers+text\", \"name\": \"Denmark\", \"text\": [\"Denmark:<br> 2\"], \"x\": [-0.9396925568580627], \"y\": [-0.3420201539993286], \"type\": \"scatter\"}, {\"marker\": {\"size\": [197], \"sizemode\": \"area\", \"sizeref\": 0.05}, \"mode\": \"markers+text\", \"name\": \"Bolivia\", \"text\": [\"Bolivia:<br> 3\"], \"x\": [-0.49999988079071045], \"y\": [-0.866025447845459], \"type\": \"scatter\"}, {\"marker\": {\"size\": [199], \"sizemode\": \"area\", \"sizeref\": 0.05}, \"mode\": \"markers+text\", \"name\": \"Austria\", \"text\": [\"Austria:<br> 1\"], \"x\": [0.1736481785774231], \"y\": [-0.9848077297210693], \"type\": \"scatter\"}, {\"marker\": {\"size\": [198], \"sizemode\": \"area\", \"sizeref\": 0.05}, \"mode\": \"markers+text\", \"name\": \"Portugal\", \"text\": [\"Portugal:<br> 2\"], \"x\": [0.7660443782806396], \"y\": [-0.642787754535675], \"type\": \"scatter\"}], \"name\": \"2017-03-26\"}, {\"data\": [{\"marker\": {\"size\": [196], \"sizemode\": \"area\", \"sizeref\": 0.05}, \"mode\": \"markers+text\", \"name\": \"United States\", \"text\": [\"United States:<br> 4\"], \"x\": [1.0], \"y\": [6.622738357719982e-09], \"type\": \"scatter\"}, {\"marker\": {\"size\": [199], \"sizemode\": \"area\", \"sizeref\": 0.05}, \"mode\": \"markers+text\", \"name\": \"Switzerland\", \"text\": [\"Switzerland:<br> 1\"], \"x\": [0.7660444974899292], \"y\": [0.6427875757217407], \"type\": \"scatter\"}, {\"marker\": {\"size\": [199], \"sizemode\": \"area\", \"sizeref\": 0.05}, \"mode\": \"markers+text\", \"name\": \"Hungary\", \"text\": [\"Hungary:<br> 1\"], \"x\": [0.17364825308322906], \"y\": [0.9848077297210693], \"type\": \"scatter\"}, {\"marker\": {\"size\": [198], \"sizemode\": \"area\", \"sizeref\": 0.05}, \"mode\": \"markers+text\", \"name\": \"Peru\", \"text\": [\"Peru:<br> 2\"], \"x\": [-0.5], \"y\": [0.8660253882408142], \"type\": \"scatter\"}, {\"marker\": {\"size\": [199], \"sizemode\": \"area\", \"sizeref\": 0.05}, \"mode\": \"markers+text\", \"name\": \"Malaysia\", \"text\": [\"Malaysia:<br> 1\"], \"x\": [-0.9396925568580627], \"y\": [0.3420202136039734], \"type\": \"scatter\"}, {\"marker\": {\"size\": [197], \"sizemode\": \"area\", \"sizeref\": 0.05}, \"mode\": \"markers+text\", \"name\": \"Denmark\", \"text\": [\"Denmark:<br> 3\"], \"x\": [-0.9396925568580627], \"y\": [-0.3420201539993286], \"type\": \"scatter\"}, {\"marker\": {\"size\": [197], \"sizemode\": \"area\", \"sizeref\": 0.05}, \"mode\": \"markers+text\", \"name\": \"Bolivia\", \"text\": [\"Bolivia:<br> 3\"], \"x\": [-0.49999988079071045], \"y\": [-0.866025447845459], \"type\": \"scatter\"}, {\"marker\": {\"size\": [199], \"sizemode\": \"area\", \"sizeref\": 0.05}, \"mode\": \"markers+text\", \"name\": \"Austria\", \"text\": [\"Austria:<br> 1\"], \"x\": [0.1736481785774231], \"y\": [-0.9848077297210693], \"type\": \"scatter\"}, {\"marker\": {\"size\": [198], \"sizemode\": \"area\", \"sizeref\": 0.05}, \"mode\": \"markers+text\", \"name\": \"Portugal\", \"text\": [\"Portugal:<br> 2\"], \"x\": [0.7660443782806396], \"y\": [-0.642787754535675], \"type\": \"scatter\"}], \"name\": \"2017-03-27\"}, {\"data\": [{\"marker\": {\"size\": [197], \"sizemode\": \"area\", \"sizeref\": 0.05}, \"mode\": \"markers+text\", \"name\": \"United States\", \"text\": [\"United States:<br> 3\"], \"x\": [1.0], \"y\": [6.622738357719982e-09], \"type\": \"scatter\"}, {\"marker\": {\"size\": [199], \"sizemode\": \"area\", \"sizeref\": 0.05}, \"mode\": \"markers+text\", \"name\": \"Switzerland\", \"text\": [\"Switzerland:<br> 1\"], \"x\": [0.7660444974899292], \"y\": [0.6427875757217407], \"type\": \"scatter\"}, {\"marker\": {\"size\": [199], \"sizemode\": \"area\", \"sizeref\": 0.05}, \"mode\": \"markers+text\", \"name\": \"Hungary\", \"text\": [\"Hungary:<br> 1\"], \"x\": [0.17364825308322906], \"y\": [0.9848077297210693], \"type\": \"scatter\"}, {\"marker\": {\"size\": [198], \"sizemode\": \"area\", \"sizeref\": 0.05}, \"mode\": \"markers+text\", \"name\": \"Peru\", \"text\": [\"Peru:<br> 2\"], \"x\": [-0.5], \"y\": [0.8660253882408142], \"type\": \"scatter\"}, {\"marker\": {\"size\": [199], \"sizemode\": \"area\", \"sizeref\": 0.05}, \"mode\": \"markers+text\", \"name\": \"Malaysia\", \"text\": [\"Malaysia:<br> 1\"], \"x\": [-0.9396925568580627], \"y\": [0.3420202136039734], \"type\": \"scatter\"}, {\"marker\": {\"size\": [198], \"sizemode\": \"area\", \"sizeref\": 0.05}, \"mode\": \"markers+text\", \"name\": \"Denmark\", \"text\": [\"Denmark:<br> 2\"], \"x\": [-0.9396925568580627], \"y\": [-0.3420201539993286], \"type\": \"scatter\"}, {\"marker\": {\"size\": [197], \"sizemode\": \"area\", \"sizeref\": 0.05}, \"mode\": \"markers+text\", \"name\": \"Bolivia\", \"text\": [\"Bolivia:<br> 3\"], \"x\": [-0.49999988079071045], \"y\": [-0.866025447845459], \"type\": \"scatter\"}, {\"marker\": {\"size\": [199], \"sizemode\": \"area\", \"sizeref\": 0.05}, \"mode\": \"markers+text\", \"name\": \"Austria\", \"text\": [\"Austria:<br> 1\"], \"x\": [0.1736481785774231], \"y\": [-0.9848077297210693], \"type\": \"scatter\"}, {\"marker\": {\"size\": [198], \"sizemode\": \"area\", \"sizeref\": 0.05}, \"mode\": \"markers+text\", \"name\": \"Portugal\", \"text\": [\"Portugal:<br> 2\"], \"x\": [0.7660443782806396], \"y\": [-0.642787754535675], \"type\": \"scatter\"}], \"name\": \"2017-03-28\"}, {\"data\": [{\"marker\": {\"size\": [197], \"sizemode\": \"area\", \"sizeref\": 0.05}, \"mode\": \"markers+text\", \"name\": \"United States\", \"text\": [\"United States:<br> 3\"], \"x\": [1.0], \"y\": [6.622738357719982e-09], \"type\": \"scatter\"}, {\"marker\": {\"size\": [199], \"sizemode\": \"area\", \"sizeref\": 0.05}, \"mode\": \"markers+text\", \"name\": \"Switzerland\", \"text\": [\"Switzerland:<br> 1\"], \"x\": [0.7660444974899292], \"y\": [0.6427875757217407], \"type\": \"scatter\"}, {\"marker\": {\"size\": [199], \"sizemode\": \"area\", \"sizeref\": 0.05}, \"mode\": \"markers+text\", \"name\": \"Hungary\", \"text\": [\"Hungary:<br> 1\"], \"x\": [0.17364825308322906], \"y\": [0.9848077297210693], \"type\": \"scatter\"}, {\"marker\": {\"size\": [198], \"sizemode\": \"area\", \"sizeref\": 0.05}, \"mode\": \"markers+text\", \"name\": \"Peru\", \"text\": [\"Peru:<br> 2\"], \"x\": [-0.5], \"y\": [0.8660253882408142], \"type\": \"scatter\"}, {\"marker\": {\"size\": [199], \"sizemode\": \"area\", \"sizeref\": 0.05}, \"mode\": \"markers+text\", \"name\": \"Malaysia\", \"text\": [\"Malaysia:<br> 1\"], \"x\": [-0.9396925568580627], \"y\": [0.3420202136039734], \"type\": \"scatter\"}, {\"marker\": {\"size\": [198], \"sizemode\": \"area\", \"sizeref\": 0.05}, \"mode\": \"markers+text\", \"name\": \"Denmark\", \"text\": [\"Denmark:<br> 2\"], \"x\": [-0.9396925568580627], \"y\": [-0.3420201539993286], \"type\": \"scatter\"}, {\"marker\": {\"size\": [197], \"sizemode\": \"area\", \"sizeref\": 0.05}, \"mode\": \"markers+text\", \"name\": \"Bolivia\", \"text\": [\"Bolivia:<br> 3\"], \"x\": [-0.49999988079071045], \"y\": [-0.866025447845459], \"type\": \"scatter\"}, {\"marker\": {\"size\": [199], \"sizemode\": \"area\", \"sizeref\": 0.05}, \"mode\": \"markers+text\", \"name\": \"Austria\", \"text\": [\"Austria:<br> 1\"], \"x\": [0.1736481785774231], \"y\": [-0.9848077297210693], \"type\": \"scatter\"}, {\"marker\": {\"size\": [198], \"sizemode\": \"area\", \"sizeref\": 0.05}, \"mode\": \"markers+text\", \"name\": \"Portugal\", \"text\": [\"Portugal:<br> 2\"], \"x\": [0.7660443782806396], \"y\": [-0.642787754535675], \"type\": \"scatter\"}], \"name\": \"2017-03-29\"}, {\"data\": [{\"marker\": {\"size\": [197], \"sizemode\": \"area\", \"sizeref\": 0.05}, \"mode\": \"markers+text\", \"name\": \"United States\", \"text\": [\"United States:<br> 3\"], \"x\": [1.0], \"y\": [6.622738357719982e-09], \"type\": \"scatter\"}, {\"marker\": {\"size\": [199], \"sizemode\": \"area\", \"sizeref\": 0.05}, \"mode\": \"markers+text\", \"name\": \"Switzerland\", \"text\": [\"Switzerland:<br> 1\"], \"x\": [0.7660444974899292], \"y\": [0.6427875757217407], \"type\": \"scatter\"}, {\"marker\": {\"size\": [199], \"sizemode\": \"area\", \"sizeref\": 0.05}, \"mode\": \"markers+text\", \"name\": \"Hungary\", \"text\": [\"Hungary:<br> 1\"], \"x\": [0.17364825308322906], \"y\": [0.9848077297210693], \"type\": \"scatter\"}, {\"marker\": {\"size\": [198], \"sizemode\": \"area\", \"sizeref\": 0.05}, \"mode\": \"markers+text\", \"name\": \"Peru\", \"text\": [\"Peru:<br> 2\"], \"x\": [-0.5], \"y\": [0.8660253882408142], \"type\": \"scatter\"}, {\"marker\": {\"size\": [199], \"sizemode\": \"area\", \"sizeref\": 0.05}, \"mode\": \"markers+text\", \"name\": \"Malaysia\", \"text\": [\"Malaysia:<br> 1\"], \"x\": [-0.9396925568580627], \"y\": [0.3420202136039734], \"type\": \"scatter\"}, {\"marker\": {\"size\": [198], \"sizemode\": \"area\", \"sizeref\": 0.05}, \"mode\": \"markers+text\", \"name\": \"Denmark\", \"text\": [\"Denmark:<br> 2\"], \"x\": [-0.9396925568580627], \"y\": [-0.3420201539993286], \"type\": \"scatter\"}, {\"marker\": {\"size\": [197], \"sizemode\": \"area\", \"sizeref\": 0.05}, \"mode\": \"markers+text\", \"name\": \"Bolivia\", \"text\": [\"Bolivia:<br> 3\"], \"x\": [-0.49999988079071045], \"y\": [-0.866025447845459], \"type\": \"scatter\"}, {\"marker\": {\"size\": [199], \"sizemode\": \"area\", \"sizeref\": 0.05}, \"mode\": \"markers+text\", \"name\": \"Austria\", \"text\": [\"Austria:<br> 1\"], \"x\": [0.1736481785774231], \"y\": [-0.9848077297210693], \"type\": \"scatter\"}, {\"marker\": {\"size\": [198], \"sizemode\": \"area\", \"sizeref\": 0.05}, \"mode\": \"markers+text\", \"name\": \"Portugal\", \"text\": [\"Portugal:<br> 2\"], \"x\": [0.7660443782806396], \"y\": [-0.642787754535675], \"type\": \"scatter\"}], \"name\": \"2017-03-30\"}, {\"data\": [{\"marker\": {\"size\": [196], \"sizemode\": \"area\", \"sizeref\": 0.05}, \"mode\": \"markers+text\", \"name\": \"United States\", \"text\": [\"United States:<br> 4\"], \"x\": [1.0], \"y\": [6.622738357719982e-09], \"type\": \"scatter\"}, {\"marker\": {\"size\": [199], \"sizemode\": \"area\", \"sizeref\": 0.05}, \"mode\": \"markers+text\", \"name\": \"Switzerland\", \"text\": [\"Switzerland:<br> 1\"], \"x\": [0.7660444974899292], \"y\": [0.6427875757217407], \"type\": \"scatter\"}, {\"marker\": {\"size\": [199], \"sizemode\": \"area\", \"sizeref\": 0.05}, \"mode\": \"markers+text\", \"name\": \"Hungary\", \"text\": [\"Hungary:<br> 1\"], \"x\": [0.17364825308322906], \"y\": [0.9848077297210693], \"type\": \"scatter\"}, {\"marker\": {\"size\": [198], \"sizemode\": \"area\", \"sizeref\": 0.05}, \"mode\": \"markers+text\", \"name\": \"Peru\", \"text\": [\"Peru:<br> 2\"], \"x\": [-0.5], \"y\": [0.8660253882408142], \"type\": \"scatter\"}, {\"marker\": {\"size\": [199], \"sizemode\": \"area\", \"sizeref\": 0.05}, \"mode\": \"markers+text\", \"name\": \"Malaysia\", \"text\": [\"Malaysia:<br> 1\"], \"x\": [-0.9396925568580627], \"y\": [0.3420202136039734], \"type\": \"scatter\"}, {\"marker\": {\"size\": [198], \"sizemode\": \"area\", \"sizeref\": 0.05}, \"mode\": \"markers+text\", \"name\": \"Denmark\", \"text\": [\"Denmark:<br> 2\"], \"x\": [-0.9396925568580627], \"y\": [-0.3420201539993286], \"type\": \"scatter\"}, {\"marker\": {\"size\": [197], \"sizemode\": \"area\", \"sizeref\": 0.05}, \"mode\": \"markers+text\", \"name\": \"Bolivia\", \"text\": [\"Bolivia:<br> 3\"], \"x\": [-0.49999988079071045], \"y\": [-0.866025447845459], \"type\": \"scatter\"}, {\"marker\": {\"size\": [199], \"sizemode\": \"area\", \"sizeref\": 0.05}, \"mode\": \"markers+text\", \"name\": \"Austria\", \"text\": [\"Austria:<br> 1\"], \"x\": [0.1736481785774231], \"y\": [-0.9848077297210693], \"type\": \"scatter\"}, {\"marker\": {\"size\": [198], \"sizemode\": \"area\", \"sizeref\": 0.05}, \"mode\": \"markers+text\", \"name\": \"Portugal\", \"text\": [\"Portugal:<br> 2\"], \"x\": [0.7660443782806396], \"y\": [-0.642787754535675], \"type\": \"scatter\"}], \"name\": \"2017-03-31\"}, {\"data\": [{\"marker\": {\"size\": [196], \"sizemode\": \"area\", \"sizeref\": 0.05}, \"mode\": \"markers+text\", \"name\": \"United States\", \"text\": [\"United States:<br> 4\"], \"x\": [1.0], \"y\": [6.622738357719982e-09], \"type\": \"scatter\"}, {\"marker\": {\"size\": [199], \"sizemode\": \"area\", \"sizeref\": 0.05}, \"mode\": \"markers+text\", \"name\": \"Switzerland\", \"text\": [\"Switzerland:<br> 1\"], \"x\": [0.7660444974899292], \"y\": [0.6427875757217407], \"type\": \"scatter\"}, {\"marker\": {\"size\": [199], \"sizemode\": \"area\", \"sizeref\": 0.05}, \"mode\": \"markers+text\", \"name\": \"Hungary\", \"text\": [\"Hungary:<br> 1\"], \"x\": [0.17364825308322906], \"y\": [0.9848077297210693], \"type\": \"scatter\"}, {\"marker\": {\"size\": [198], \"sizemode\": \"area\", \"sizeref\": 0.05}, \"mode\": \"markers+text\", \"name\": \"Peru\", \"text\": [\"Peru:<br> 2\"], \"x\": [-0.5], \"y\": [0.8660253882408142], \"type\": \"scatter\"}, {\"marker\": {\"size\": [199], \"sizemode\": \"area\", \"sizeref\": 0.05}, \"mode\": \"markers+text\", \"name\": \"Malaysia\", \"text\": [\"Malaysia:<br> 1\"], \"x\": [-0.9396925568580627], \"y\": [0.3420202136039734], \"type\": \"scatter\"}, {\"marker\": {\"size\": [199], \"sizemode\": \"area\", \"sizeref\": 0.05}, \"mode\": \"markers+text\", \"name\": \"Denmark\", \"text\": [\"Denmark:<br> 1\"], \"x\": [-0.9396925568580627], \"y\": [-0.3420201539993286], \"type\": \"scatter\"}, {\"marker\": {\"size\": [197], \"sizemode\": \"area\", \"sizeref\": 0.05}, \"mode\": \"markers+text\", \"name\": \"Bolivia\", \"text\": [\"Bolivia:<br> 3\"], \"x\": [-0.49999988079071045], \"y\": [-0.866025447845459], \"type\": \"scatter\"}, {\"marker\": {\"size\": [199], \"sizemode\": \"area\", \"sizeref\": 0.05}, \"mode\": \"markers+text\", \"name\": \"Austria\", \"text\": [\"Austria:<br> 1\"], \"x\": [0.1736481785774231], \"y\": [-0.9848077297210693], \"type\": \"scatter\"}, {\"marker\": {\"size\": [198], \"sizemode\": \"area\", \"sizeref\": 0.05}, \"mode\": \"markers+text\", \"name\": \"Portugal\", \"text\": [\"Portugal:<br> 2\"], \"x\": [0.7660443782806396], \"y\": [-0.642787754535675], \"type\": \"scatter\"}], \"name\": \"2017-04-01\"}, {\"data\": [{\"marker\": {\"size\": [196], \"sizemode\": \"area\", \"sizeref\": 0.05}, \"mode\": \"markers+text\", \"name\": \"United States\", \"text\": [\"United States:<br> 4\"], \"x\": [1.0], \"y\": [6.622738357719982e-09], \"type\": \"scatter\"}, {\"marker\": {\"size\": [199], \"sizemode\": \"area\", \"sizeref\": 0.05}, \"mode\": \"markers+text\", \"name\": \"Switzerland\", \"text\": [\"Switzerland:<br> 1\"], \"x\": [0.7660444974899292], \"y\": [0.6427875757217407], \"type\": \"scatter\"}, {\"marker\": {\"size\": [199], \"sizemode\": \"area\", \"sizeref\": 0.05}, \"mode\": \"markers+text\", \"name\": \"Hungary\", \"text\": [\"Hungary:<br> 1\"], \"x\": [0.17364825308322906], \"y\": [0.9848077297210693], \"type\": \"scatter\"}, {\"marker\": {\"size\": [198], \"sizemode\": \"area\", \"sizeref\": 0.05}, \"mode\": \"markers+text\", \"name\": \"Peru\", \"text\": [\"Peru:<br> 2\"], \"x\": [-0.5], \"y\": [0.8660253882408142], \"type\": \"scatter\"}, {\"marker\": {\"size\": [199], \"sizemode\": \"area\", \"sizeref\": 0.05}, \"mode\": \"markers+text\", \"name\": \"Malaysia\", \"text\": [\"Malaysia:<br> 1\"], \"x\": [-0.9396925568580627], \"y\": [0.3420202136039734], \"type\": \"scatter\"}, {\"marker\": {\"size\": [199], \"sizemode\": \"area\", \"sizeref\": 0.05}, \"mode\": \"markers+text\", \"name\": \"Denmark\", \"text\": [\"Denmark:<br> 1\"], \"x\": [-0.9396925568580627], \"y\": [-0.3420201539993286], \"type\": \"scatter\"}, {\"marker\": {\"size\": [197], \"sizemode\": \"area\", \"sizeref\": 0.05}, \"mode\": \"markers+text\", \"name\": \"Bolivia\", \"text\": [\"Bolivia:<br> 3\"], \"x\": [-0.49999988079071045], \"y\": [-0.866025447845459], \"type\": \"scatter\"}, {\"marker\": {\"size\": [199], \"sizemode\": \"area\", \"sizeref\": 0.05}, \"mode\": \"markers+text\", \"name\": \"Austria\", \"text\": [\"Austria:<br> 1\"], \"x\": [0.1736481785774231], \"y\": [-0.9848077297210693], \"type\": \"scatter\"}, {\"marker\": {\"size\": [198], \"sizemode\": \"area\", \"sizeref\": 0.05}, \"mode\": \"markers+text\", \"name\": \"Portugal\", \"text\": [\"Portugal:<br> 2\"], \"x\": [0.7660443782806396], \"y\": [-0.642787754535675], \"type\": \"scatter\"}], \"name\": \"2017-04-02\"}, {\"data\": [{\"marker\": {\"size\": [196], \"sizemode\": \"area\", \"sizeref\": 0.05}, \"mode\": \"markers+text\", \"name\": \"United States\", \"text\": [\"United States:<br> 4\"], \"x\": [1.0], \"y\": [6.622738357719982e-09], \"type\": \"scatter\"}, {\"marker\": {\"size\": [199], \"sizemode\": \"area\", \"sizeref\": 0.05}, \"mode\": \"markers+text\", \"name\": \"Switzerland\", \"text\": [\"Switzerland:<br> 1\"], \"x\": [0.7660444974899292], \"y\": [0.6427875757217407], \"type\": \"scatter\"}, {\"marker\": {\"size\": [199], \"sizemode\": \"area\", \"sizeref\": 0.05}, \"mode\": \"markers+text\", \"name\": \"Hungary\", \"text\": [\"Hungary:<br> 1\"], \"x\": [0.17364825308322906], \"y\": [0.9848077297210693], \"type\": \"scatter\"}, {\"marker\": {\"size\": [198], \"sizemode\": \"area\", \"sizeref\": 0.05}, \"mode\": \"markers+text\", \"name\": \"Peru\", \"text\": [\"Peru:<br> 2\"], \"x\": [-0.5], \"y\": [0.8660253882408142], \"type\": \"scatter\"}, {\"marker\": {\"size\": [199], \"sizemode\": \"area\", \"sizeref\": 0.05}, \"mode\": \"markers+text\", \"name\": \"Malaysia\", \"text\": [\"Malaysia:<br> 1\"], \"x\": [-0.9396925568580627], \"y\": [0.3420202136039734], \"type\": \"scatter\"}, {\"marker\": {\"size\": [199], \"sizemode\": \"area\", \"sizeref\": 0.05}, \"mode\": \"markers+text\", \"name\": \"Denmark\", \"text\": [\"Denmark:<br> 1\"], \"x\": [-0.9396925568580627], \"y\": [-0.3420201539993286], \"type\": \"scatter\"}, {\"marker\": {\"size\": [197], \"sizemode\": \"area\", \"sizeref\": 0.05}, \"mode\": \"markers+text\", \"name\": \"Bolivia\", \"text\": [\"Bolivia:<br> 3\"], \"x\": [-0.49999988079071045], \"y\": [-0.866025447845459], \"type\": \"scatter\"}, {\"marker\": {\"size\": [199], \"sizemode\": \"area\", \"sizeref\": 0.05}, \"mode\": \"markers+text\", \"name\": \"Austria\", \"text\": [\"Austria:<br> 1\"], \"x\": [0.1736481785774231], \"y\": [-0.9848077297210693], \"type\": \"scatter\"}, {\"marker\": {\"size\": [198], \"sizemode\": \"area\", \"sizeref\": 0.05}, \"mode\": \"markers+text\", \"name\": \"Portugal\", \"text\": [\"Portugal:<br> 2\"], \"x\": [0.7660443782806396], \"y\": [-0.642787754535675], \"type\": \"scatter\"}], \"name\": \"2017-04-03\"}, {\"data\": [{\"marker\": {\"size\": [196], \"sizemode\": \"area\", \"sizeref\": 0.05}, \"mode\": \"markers+text\", \"name\": \"United States\", \"text\": [\"United States:<br> 4\"], \"x\": [1.0], \"y\": [6.622738357719982e-09], \"type\": \"scatter\"}, {\"marker\": {\"size\": [199], \"sizemode\": \"area\", \"sizeref\": 0.05}, \"mode\": \"markers+text\", \"name\": \"Switzerland\", \"text\": [\"Switzerland:<br> 1\"], \"x\": [0.7660444974899292], \"y\": [0.6427875757217407], \"type\": \"scatter\"}, {\"marker\": {\"size\": [199], \"sizemode\": \"area\", \"sizeref\": 0.05}, \"mode\": \"markers+text\", \"name\": \"Hungary\", \"text\": [\"Hungary:<br> 1\"], \"x\": [0.17364825308322906], \"y\": [0.9848077297210693], \"type\": \"scatter\"}, {\"marker\": {\"size\": [198], \"sizemode\": \"area\", \"sizeref\": 0.05}, \"mode\": \"markers+text\", \"name\": \"Peru\", \"text\": [\"Peru:<br> 2\"], \"x\": [-0.5], \"y\": [0.8660253882408142], \"type\": \"scatter\"}, {\"marker\": {\"size\": [199], \"sizemode\": \"area\", \"sizeref\": 0.05}, \"mode\": \"markers+text\", \"name\": \"Malaysia\", \"text\": [\"Malaysia:<br> 1\"], \"x\": [-0.9396925568580627], \"y\": [0.3420202136039734], \"type\": \"scatter\"}, {\"marker\": {\"size\": [198], \"sizemode\": \"area\", \"sizeref\": 0.05}, \"mode\": \"markers+text\", \"name\": \"Denmark\", \"text\": [\"Denmark:<br> 2\"], \"x\": [-0.9396925568580627], \"y\": [-0.3420201539993286], \"type\": \"scatter\"}, {\"marker\": {\"size\": [197], \"sizemode\": \"area\", \"sizeref\": 0.05}, \"mode\": \"markers+text\", \"name\": \"Bolivia\", \"text\": [\"Bolivia:<br> 3\"], \"x\": [-0.49999988079071045], \"y\": [-0.866025447845459], \"type\": \"scatter\"}, {\"marker\": {\"size\": [199], \"sizemode\": \"area\", \"sizeref\": 0.05}, \"mode\": \"markers+text\", \"name\": \"Austria\", \"text\": [\"Austria:<br> 1\"], \"x\": [0.1736481785774231], \"y\": [-0.9848077297210693], \"type\": \"scatter\"}, {\"marker\": {\"size\": [198], \"sizemode\": \"area\", \"sizeref\": 0.05}, \"mode\": \"markers+text\", \"name\": \"Portugal\", \"text\": [\"Portugal:<br> 2\"], \"x\": [0.7660443782806396], \"y\": [-0.642787754535675], \"type\": \"scatter\"}], \"name\": \"2017-04-04\"}, {\"data\": [{\"marker\": {\"size\": [196], \"sizemode\": \"area\", \"sizeref\": 0.05}, \"mode\": \"markers+text\", \"name\": \"United States\", \"text\": [\"United States:<br> 4\"], \"x\": [1.0], \"y\": [6.622738357719982e-09], \"type\": \"scatter\"}, {\"marker\": {\"size\": [199], \"sizemode\": \"area\", \"sizeref\": 0.05}, \"mode\": \"markers+text\", \"name\": \"Switzerland\", \"text\": [\"Switzerland:<br> 1\"], \"x\": [0.7660444974899292], \"y\": [0.6427875757217407], \"type\": \"scatter\"}, {\"marker\": {\"size\": [199], \"sizemode\": \"area\", \"sizeref\": 0.05}, \"mode\": \"markers+text\", \"name\": \"Hungary\", \"text\": [\"Hungary:<br> 1\"], \"x\": [0.17364825308322906], \"y\": [0.9848077297210693], \"type\": \"scatter\"}, {\"marker\": {\"size\": [198], \"sizemode\": \"area\", \"sizeref\": 0.05}, \"mode\": \"markers+text\", \"name\": \"Peru\", \"text\": [\"Peru:<br> 2\"], \"x\": [-0.5], \"y\": [0.8660253882408142], \"type\": \"scatter\"}, {\"marker\": {\"size\": [199], \"sizemode\": \"area\", \"sizeref\": 0.05}, \"mode\": \"markers+text\", \"name\": \"Malaysia\", \"text\": [\"Malaysia:<br> 1\"], \"x\": [-0.9396925568580627], \"y\": [0.3420202136039734], \"type\": \"scatter\"}, {\"marker\": {\"size\": [199], \"sizemode\": \"area\", \"sizeref\": 0.05}, \"mode\": \"markers+text\", \"name\": \"Denmark\", \"text\": [\"Denmark:<br> 1\"], \"x\": [-0.9396925568580627], \"y\": [-0.3420201539993286], \"type\": \"scatter\"}, {\"marker\": {\"size\": [197], \"sizemode\": \"area\", \"sizeref\": 0.05}, \"mode\": \"markers+text\", \"name\": \"Bolivia\", \"text\": [\"Bolivia:<br> 3\"], \"x\": [-0.49999988079071045], \"y\": [-0.866025447845459], \"type\": \"scatter\"}, {\"marker\": {\"size\": [199], \"sizemode\": \"area\", \"sizeref\": 0.05}, \"mode\": \"markers+text\", \"name\": \"Austria\", \"text\": [\"Austria:<br> 1\"], \"x\": [0.1736481785774231], \"y\": [-0.9848077297210693], \"type\": \"scatter\"}, {\"marker\": {\"size\": [199], \"sizemode\": \"area\", \"sizeref\": 0.05}, \"mode\": \"markers+text\", \"name\": \"Portugal\", \"text\": [\"Portugal:<br> 1\"], \"x\": [0.7660443782806396], \"y\": [-0.642787754535675], \"type\": \"scatter\"}], \"name\": \"2017-04-05\"}, {\"data\": [{\"marker\": {\"size\": [195], \"sizemode\": \"area\", \"sizeref\": 0.05}, \"mode\": \"markers+text\", \"name\": \"United States\", \"text\": [\"United States:<br> 5\"], \"x\": [1.0], \"y\": [6.622738357719982e-09], \"type\": \"scatter\"}, {\"marker\": {\"size\": [199], \"sizemode\": \"area\", \"sizeref\": 0.05}, \"mode\": \"markers+text\", \"name\": \"Switzerland\", \"text\": [\"Switzerland:<br> 1\"], \"x\": [0.7660444974899292], \"y\": [0.6427875757217407], \"type\": \"scatter\"}, {\"marker\": {\"size\": [199], \"sizemode\": \"area\", \"sizeref\": 0.05}, \"mode\": \"markers+text\", \"name\": \"Hungary\", \"text\": [\"Hungary:<br> 1\"], \"x\": [0.17364825308322906], \"y\": [0.9848077297210693], \"type\": \"scatter\"}, {\"marker\": {\"size\": [197], \"sizemode\": \"area\", \"sizeref\": 0.05}, \"mode\": \"markers+text\", \"name\": \"Peru\", \"text\": [\"Peru:<br> 3\"], \"x\": [-0.5], \"y\": [0.8660253882408142], \"type\": \"scatter\"}, {\"marker\": {\"size\": [199], \"sizemode\": \"area\", \"sizeref\": 0.05}, \"mode\": \"markers+text\", \"name\": \"Malaysia\", \"text\": [\"Malaysia:<br> 1\"], \"x\": [-0.9396925568580627], \"y\": [0.3420202136039734], \"type\": \"scatter\"}, {\"marker\": {\"size\": [199], \"sizemode\": \"area\", \"sizeref\": 0.05}, \"mode\": \"markers+text\", \"name\": \"Denmark\", \"text\": [\"Denmark:<br> 1\"], \"x\": [-0.9396925568580627], \"y\": [-0.3420201539993286], \"type\": \"scatter\"}, {\"marker\": {\"size\": [197], \"sizemode\": \"area\", \"sizeref\": 0.05}, \"mode\": \"markers+text\", \"name\": \"Bolivia\", \"text\": [\"Bolivia:<br> 3\"], \"x\": [-0.49999988079071045], \"y\": [-0.866025447845459], \"type\": \"scatter\"}, {\"marker\": {\"size\": [199], \"sizemode\": \"area\", \"sizeref\": 0.05}, \"mode\": \"markers+text\", \"name\": \"Austria\", \"text\": [\"Austria:<br> 1\"], \"x\": [0.1736481785774231], \"y\": [-0.9848077297210693], \"type\": \"scatter\"}, {\"marker\": {\"size\": [198], \"sizemode\": \"area\", \"sizeref\": 0.05}, \"mode\": \"markers+text\", \"name\": \"Portugal\", \"text\": [\"Portugal:<br> 2\"], \"x\": [0.7660443782806396], \"y\": [-0.642787754535675], \"type\": \"scatter\"}], \"name\": \"2017-04-06\"}, {\"data\": [{\"marker\": {\"size\": [195], \"sizemode\": \"area\", \"sizeref\": 0.05}, \"mode\": \"markers+text\", \"name\": \"United States\", \"text\": [\"United States:<br> 5\"], \"x\": [1.0], \"y\": [6.622738357719982e-09], \"type\": \"scatter\"}, {\"marker\": {\"size\": [199], \"sizemode\": \"area\", \"sizeref\": 0.05}, \"mode\": \"markers+text\", \"name\": \"Switzerland\", \"text\": [\"Switzerland:<br> 1\"], \"x\": [0.7660444974899292], \"y\": [0.6427875757217407], \"type\": \"scatter\"}, {\"marker\": {\"size\": [199], \"sizemode\": \"area\", \"sizeref\": 0.05}, \"mode\": \"markers+text\", \"name\": \"Hungary\", \"text\": [\"Hungary:<br> 1\"], \"x\": [0.17364825308322906], \"y\": [0.9848077297210693], \"type\": \"scatter\"}, {\"marker\": {\"size\": [196], \"sizemode\": \"area\", \"sizeref\": 0.05}, \"mode\": \"markers+text\", \"name\": \"Peru\", \"text\": [\"Peru:<br> 4\"], \"x\": [-0.5], \"y\": [0.8660253882408142], \"type\": \"scatter\"}, {\"marker\": {\"size\": [198], \"sizemode\": \"area\", \"sizeref\": 0.05}, \"mode\": \"markers+text\", \"name\": \"Malaysia\", \"text\": [\"Malaysia:<br> 2\"], \"x\": [-0.9396925568580627], \"y\": [0.3420202136039734], \"type\": \"scatter\"}, {\"marker\": {\"size\": [197], \"sizemode\": \"area\", \"sizeref\": 0.05}, \"mode\": \"markers+text\", \"name\": \"Denmark\", \"text\": [\"Denmark:<br> 3\"], \"x\": [-0.9396925568580627], \"y\": [-0.3420201539993286], \"type\": \"scatter\"}, {\"marker\": {\"size\": [197], \"sizemode\": \"area\", \"sizeref\": 0.05}, \"mode\": \"markers+text\", \"name\": \"Bolivia\", \"text\": [\"Bolivia:<br> 3\"], \"x\": [-0.49999988079071045], \"y\": [-0.866025447845459], \"type\": \"scatter\"}, {\"marker\": {\"size\": [199], \"sizemode\": \"area\", \"sizeref\": 0.05}, \"mode\": \"markers+text\", \"name\": \"Austria\", \"text\": [\"Austria:<br> 1\"], \"x\": [0.1736481785774231], \"y\": [-0.9848077297210693], \"type\": \"scatter\"}, {\"marker\": {\"size\": [198], \"sizemode\": \"area\", \"sizeref\": 0.05}, \"mode\": \"markers+text\", \"name\": \"Portugal\", \"text\": [\"Portugal:<br> 2\"], \"x\": [0.7660443782806396], \"y\": [-0.642787754535675], \"type\": \"scatter\"}], \"name\": \"2017-04-07\"}, {\"data\": [{\"marker\": {\"size\": [195], \"sizemode\": \"area\", \"sizeref\": 0.05}, \"mode\": \"markers+text\", \"name\": \"United States\", \"text\": [\"United States:<br> 5\"], \"x\": [1.0], \"y\": [6.622738357719982e-09], \"type\": \"scatter\"}, {\"marker\": {\"size\": [199], \"sizemode\": \"area\", \"sizeref\": 0.05}, \"mode\": \"markers+text\", \"name\": \"Switzerland\", \"text\": [\"Switzerland:<br> 1\"], \"x\": [0.7660444974899292], \"y\": [0.6427875757217407], \"type\": \"scatter\"}, {\"marker\": {\"size\": [199], \"sizemode\": \"area\", \"sizeref\": 0.05}, \"mode\": \"markers+text\", \"name\": \"Hungary\", \"text\": [\"Hungary:<br> 1\"], \"x\": [0.17364825308322906], \"y\": [0.9848077297210693], \"type\": \"scatter\"}, {\"marker\": {\"size\": [198], \"sizemode\": \"area\", \"sizeref\": 0.05}, \"mode\": \"markers+text\", \"name\": \"Peru\", \"text\": [\"Peru:<br> 2\"], \"x\": [-0.5], \"y\": [0.8660253882408142], \"type\": \"scatter\"}, {\"marker\": {\"size\": [198], \"sizemode\": \"area\", \"sizeref\": 0.05}, \"mode\": \"markers+text\", \"name\": \"Malaysia\", \"text\": [\"Malaysia:<br> 2\"], \"x\": [-0.9396925568580627], \"y\": [0.3420202136039734], \"type\": \"scatter\"}, {\"marker\": {\"size\": [198], \"sizemode\": \"area\", \"sizeref\": 0.05}, \"mode\": \"markers+text\", \"name\": \"Denmark\", \"text\": [\"Denmark:<br> 2\"], \"x\": [-0.9396925568580627], \"y\": [-0.3420201539993286], \"type\": \"scatter\"}, {\"marker\": {\"size\": [197], \"sizemode\": \"area\", \"sizeref\": 0.05}, \"mode\": \"markers+text\", \"name\": \"Bolivia\", \"text\": [\"Bolivia:<br> 3\"], \"x\": [-0.49999988079071045], \"y\": [-0.866025447845459], \"type\": \"scatter\"}, {\"marker\": {\"size\": [199], \"sizemode\": \"area\", \"sizeref\": 0.05}, \"mode\": \"markers+text\", \"name\": \"Austria\", \"text\": [\"Austria:<br> 1\"], \"x\": [0.1736481785774231], \"y\": [-0.9848077297210693], \"type\": \"scatter\"}, {\"marker\": {\"size\": [198], \"sizemode\": \"area\", \"sizeref\": 0.05}, \"mode\": \"markers+text\", \"name\": \"Portugal\", \"text\": [\"Portugal:<br> 2\"], \"x\": [0.7660443782806396], \"y\": [-0.642787754535675], \"type\": \"scatter\"}], \"name\": \"2017-04-08\"}, {\"data\": [{\"marker\": {\"size\": [194], \"sizemode\": \"area\", \"sizeref\": 0.05}, \"mode\": \"markers+text\", \"name\": \"United States\", \"text\": [\"United States:<br> 6\"], \"x\": [1.0], \"y\": [6.622738357719982e-09], \"type\": \"scatter\"}, {\"marker\": {\"size\": [199], \"sizemode\": \"area\", \"sizeref\": 0.05}, \"mode\": \"markers+text\", \"name\": \"Switzerland\", \"text\": [\"Switzerland:<br> 1\"], \"x\": [0.7660444974899292], \"y\": [0.6427875757217407], \"type\": \"scatter\"}, {\"marker\": {\"size\": [199], \"sizemode\": \"area\", \"sizeref\": 0.05}, \"mode\": \"markers+text\", \"name\": \"Hungary\", \"text\": [\"Hungary:<br> 1\"], \"x\": [0.17364825308322906], \"y\": [0.9848077297210693], \"type\": \"scatter\"}, {\"marker\": {\"size\": [198], \"sizemode\": \"area\", \"sizeref\": 0.05}, \"mode\": \"markers+text\", \"name\": \"Peru\", \"text\": [\"Peru:<br> 2\"], \"x\": [-0.5], \"y\": [0.8660253882408142], \"type\": \"scatter\"}, {\"marker\": {\"size\": [198], \"sizemode\": \"area\", \"sizeref\": 0.05}, \"mode\": \"markers+text\", \"name\": \"Malaysia\", \"text\": [\"Malaysia:<br> 2\"], \"x\": [-0.9396925568580627], \"y\": [0.3420202136039734], \"type\": \"scatter\"}, {\"marker\": {\"size\": [198], \"sizemode\": \"area\", \"sizeref\": 0.05}, \"mode\": \"markers+text\", \"name\": \"Denmark\", \"text\": [\"Denmark:<br> 2\"], \"x\": [-0.9396925568580627], \"y\": [-0.3420201539993286], \"type\": \"scatter\"}, {\"marker\": {\"size\": [197], \"sizemode\": \"area\", \"sizeref\": 0.05}, \"mode\": \"markers+text\", \"name\": \"Bolivia\", \"text\": [\"Bolivia:<br> 3\"], \"x\": [-0.49999988079071045], \"y\": [-0.866025447845459], \"type\": \"scatter\"}, {\"marker\": {\"size\": [199], \"sizemode\": \"area\", \"sizeref\": 0.05}, \"mode\": \"markers+text\", \"name\": \"Austria\", \"text\": [\"Austria:<br> 1\"], \"x\": [0.1736481785774231], \"y\": [-0.9848077297210693], \"type\": \"scatter\"}, {\"marker\": {\"size\": [198], \"sizemode\": \"area\", \"sizeref\": 0.05}, \"mode\": \"markers+text\", \"name\": \"Portugal\", \"text\": [\"Portugal:<br> 2\"], \"x\": [0.7660443782806396], \"y\": [-0.642787754535675], \"type\": \"scatter\"}], \"name\": \"2017-04-09\"}, {\"data\": [{\"marker\": {\"size\": [195], \"sizemode\": \"area\", \"sizeref\": 0.05}, \"mode\": \"markers+text\", \"name\": \"United States\", \"text\": [\"United States:<br> 5\"], \"x\": [1.0], \"y\": [6.622738357719982e-09], \"type\": \"scatter\"}, {\"marker\": {\"size\": [199], \"sizemode\": \"area\", \"sizeref\": 0.05}, \"mode\": \"markers+text\", \"name\": \"Switzerland\", \"text\": [\"Switzerland:<br> 1\"], \"x\": [0.7660444974899292], \"y\": [0.6427875757217407], \"type\": \"scatter\"}, {\"marker\": {\"size\": [199], \"sizemode\": \"area\", \"sizeref\": 0.05}, \"mode\": \"markers+text\", \"name\": \"Hungary\", \"text\": [\"Hungary:<br> 1\"], \"x\": [0.17364825308322906], \"y\": [0.9848077297210693], \"type\": \"scatter\"}, {\"marker\": {\"size\": [197], \"sizemode\": \"area\", \"sizeref\": 0.05}, \"mode\": \"markers+text\", \"name\": \"Peru\", \"text\": [\"Peru:<br> 3\"], \"x\": [-0.5], \"y\": [0.8660253882408142], \"type\": \"scatter\"}, {\"marker\": {\"size\": [198], \"sizemode\": \"area\", \"sizeref\": 0.05}, \"mode\": \"markers+text\", \"name\": \"Malaysia\", \"text\": [\"Malaysia:<br> 2\"], \"x\": [-0.9396925568580627], \"y\": [0.3420202136039734], \"type\": \"scatter\"}, {\"marker\": {\"size\": [198], \"sizemode\": \"area\", \"sizeref\": 0.05}, \"mode\": \"markers+text\", \"name\": \"Denmark\", \"text\": [\"Denmark:<br> 2\"], \"x\": [-0.9396925568580627], \"y\": [-0.3420201539993286], \"type\": \"scatter\"}, {\"marker\": {\"size\": [197], \"sizemode\": \"area\", \"sizeref\": 0.05}, \"mode\": \"markers+text\", \"name\": \"Bolivia\", \"text\": [\"Bolivia:<br> 3\"], \"x\": [-0.49999988079071045], \"y\": [-0.866025447845459], \"type\": \"scatter\"}, {\"marker\": {\"size\": [199], \"sizemode\": \"area\", \"sizeref\": 0.05}, \"mode\": \"markers+text\", \"name\": \"Austria\", \"text\": [\"Austria:<br> 1\"], \"x\": [0.1736481785774231], \"y\": [-0.9848077297210693], \"type\": \"scatter\"}, {\"marker\": {\"size\": [198], \"sizemode\": \"area\", \"sizeref\": 0.05}, \"mode\": \"markers+text\", \"name\": \"Portugal\", \"text\": [\"Portugal:<br> 2\"], \"x\": [0.7660443782806396], \"y\": [-0.642787754535675], \"type\": \"scatter\"}], \"name\": \"2017-04-10\"}, {\"data\": [{\"marker\": {\"size\": [195], \"sizemode\": \"area\", \"sizeref\": 0.05}, \"mode\": \"markers+text\", \"name\": \"United States\", \"text\": [\"United States:<br> 5\"], \"x\": [1.0], \"y\": [6.622738357719982e-09], \"type\": \"scatter\"}, {\"marker\": {\"size\": [199], \"sizemode\": \"area\", \"sizeref\": 0.05}, \"mode\": \"markers+text\", \"name\": \"Switzerland\", \"text\": [\"Switzerland:<br> 1\"], \"x\": [0.7660444974899292], \"y\": [0.6427875757217407], \"type\": \"scatter\"}, {\"marker\": {\"size\": [199], \"sizemode\": \"area\", \"sizeref\": 0.05}, \"mode\": \"markers+text\", \"name\": \"Hungary\", \"text\": [\"Hungary:<br> 1\"], \"x\": [0.17364825308322906], \"y\": [0.9848077297210693], \"type\": \"scatter\"}, {\"marker\": {\"size\": [197], \"sizemode\": \"area\", \"sizeref\": 0.05}, \"mode\": \"markers+text\", \"name\": \"Peru\", \"text\": [\"Peru:<br> 3\"], \"x\": [-0.5], \"y\": [0.8660253882408142], \"type\": \"scatter\"}, {\"marker\": {\"size\": [198], \"sizemode\": \"area\", \"sizeref\": 0.05}, \"mode\": \"markers+text\", \"name\": \"Malaysia\", \"text\": [\"Malaysia:<br> 2\"], \"x\": [-0.9396925568580627], \"y\": [0.3420202136039734], \"type\": \"scatter\"}, {\"marker\": {\"size\": [198], \"sizemode\": \"area\", \"sizeref\": 0.05}, \"mode\": \"markers+text\", \"name\": \"Denmark\", \"text\": [\"Denmark:<br> 2\"], \"x\": [-0.9396925568580627], \"y\": [-0.3420201539993286], \"type\": \"scatter\"}, {\"marker\": {\"size\": [197], \"sizemode\": \"area\", \"sizeref\": 0.05}, \"mode\": \"markers+text\", \"name\": \"Bolivia\", \"text\": [\"Bolivia:<br> 3\"], \"x\": [-0.49999988079071045], \"y\": [-0.866025447845459], \"type\": \"scatter\"}, {\"marker\": {\"size\": [199], \"sizemode\": \"area\", \"sizeref\": 0.05}, \"mode\": \"markers+text\", \"name\": \"Austria\", \"text\": [\"Austria:<br> 1\"], \"x\": [0.1736481785774231], \"y\": [-0.9848077297210693], \"type\": \"scatter\"}, {\"marker\": {\"size\": [198], \"sizemode\": \"area\", \"sizeref\": 0.05}, \"mode\": \"markers+text\", \"name\": \"Portugal\", \"text\": [\"Portugal:<br> 2\"], \"x\": [0.7660443782806396], \"y\": [-0.642787754535675], \"type\": \"scatter\"}], \"name\": \"2017-04-11\"}, {\"data\": [{\"marker\": {\"size\": [195], \"sizemode\": \"area\", \"sizeref\": 0.05}, \"mode\": \"markers+text\", \"name\": \"United States\", \"text\": [\"United States:<br> 5\"], \"x\": [1.0], \"y\": [6.622738357719982e-09], \"type\": \"scatter\"}, {\"marker\": {\"size\": [199], \"sizemode\": \"area\", \"sizeref\": 0.05}, \"mode\": \"markers+text\", \"name\": \"Switzerland\", \"text\": [\"Switzerland:<br> 1\"], \"x\": [0.7660444974899292], \"y\": [0.6427875757217407], \"type\": \"scatter\"}, {\"marker\": {\"size\": [199], \"sizemode\": \"area\", \"sizeref\": 0.05}, \"mode\": \"markers+text\", \"name\": \"Hungary\", \"text\": [\"Hungary:<br> 1\"], \"x\": [0.17364825308322906], \"y\": [0.9848077297210693], \"type\": \"scatter\"}, {\"marker\": {\"size\": [197], \"sizemode\": \"area\", \"sizeref\": 0.05}, \"mode\": \"markers+text\", \"name\": \"Peru\", \"text\": [\"Peru:<br> 3\"], \"x\": [-0.5], \"y\": [0.8660253882408142], \"type\": \"scatter\"}, {\"marker\": {\"size\": [198], \"sizemode\": \"area\", \"sizeref\": 0.05}, \"mode\": \"markers+text\", \"name\": \"Malaysia\", \"text\": [\"Malaysia:<br> 2\"], \"x\": [-0.9396925568580627], \"y\": [0.3420202136039734], \"type\": \"scatter\"}, {\"marker\": {\"size\": [198], \"sizemode\": \"area\", \"sizeref\": 0.05}, \"mode\": \"markers+text\", \"name\": \"Denmark\", \"text\": [\"Denmark:<br> 2\"], \"x\": [-0.9396925568580627], \"y\": [-0.3420201539993286], \"type\": \"scatter\"}, {\"marker\": {\"size\": [197], \"sizemode\": \"area\", \"sizeref\": 0.05}, \"mode\": \"markers+text\", \"name\": \"Bolivia\", \"text\": [\"Bolivia:<br> 3\"], \"x\": [-0.49999988079071045], \"y\": [-0.866025447845459], \"type\": \"scatter\"}, {\"marker\": {\"size\": [199], \"sizemode\": \"area\", \"sizeref\": 0.05}, \"mode\": \"markers+text\", \"name\": \"Austria\", \"text\": [\"Austria:<br> 1\"], \"x\": [0.1736481785774231], \"y\": [-0.9848077297210693], \"type\": \"scatter\"}, {\"marker\": {\"size\": [198], \"sizemode\": \"area\", \"sizeref\": 0.05}, \"mode\": \"markers+text\", \"name\": \"Portugal\", \"text\": [\"Portugal:<br> 2\"], \"x\": [0.7660443782806396], \"y\": [-0.642787754535675], \"type\": \"scatter\"}], \"name\": \"2017-04-12\"}, {\"data\": [{\"marker\": {\"size\": [194], \"sizemode\": \"area\", \"sizeref\": 0.05}, \"mode\": \"markers+text\", \"name\": \"United States\", \"text\": [\"United States:<br> 6\"], \"x\": [1.0], \"y\": [6.622738357719982e-09], \"type\": \"scatter\"}, {\"marker\": {\"size\": [199], \"sizemode\": \"area\", \"sizeref\": 0.05}, \"mode\": \"markers+text\", \"name\": \"Switzerland\", \"text\": [\"Switzerland:<br> 1\"], \"x\": [0.7660444974899292], \"y\": [0.6427875757217407], \"type\": \"scatter\"}, {\"marker\": {\"size\": [199], \"sizemode\": \"area\", \"sizeref\": 0.05}, \"mode\": \"markers+text\", \"name\": \"Hungary\", \"text\": [\"Hungary:<br> 1\"], \"x\": [0.17364825308322906], \"y\": [0.9848077297210693], \"type\": \"scatter\"}, {\"marker\": {\"size\": [198], \"sizemode\": \"area\", \"sizeref\": 0.05}, \"mode\": \"markers+text\", \"name\": \"Peru\", \"text\": [\"Peru:<br> 2\"], \"x\": [-0.5], \"y\": [0.8660253882408142], \"type\": \"scatter\"}, {\"marker\": {\"size\": [198], \"sizemode\": \"area\", \"sizeref\": 0.05}, \"mode\": \"markers+text\", \"name\": \"Malaysia\", \"text\": [\"Malaysia:<br> 2\"], \"x\": [-0.9396925568580627], \"y\": [0.3420202136039734], \"type\": \"scatter\"}, {\"marker\": {\"size\": [198], \"sizemode\": \"area\", \"sizeref\": 0.05}, \"mode\": \"markers+text\", \"name\": \"Denmark\", \"text\": [\"Denmark:<br> 2\"], \"x\": [-0.9396925568580627], \"y\": [-0.3420201539993286], \"type\": \"scatter\"}, {\"marker\": {\"size\": [197], \"sizemode\": \"area\", \"sizeref\": 0.05}, \"mode\": \"markers+text\", \"name\": \"Bolivia\", \"text\": [\"Bolivia:<br> 3\"], \"x\": [-0.49999988079071045], \"y\": [-0.866025447845459], \"type\": \"scatter\"}, {\"marker\": {\"size\": [199], \"sizemode\": \"area\", \"sizeref\": 0.05}, \"mode\": \"markers+text\", \"name\": \"Austria\", \"text\": [\"Austria:<br> 1\"], \"x\": [0.1736481785774231], \"y\": [-0.9848077297210693], \"type\": \"scatter\"}, {\"marker\": {\"size\": [198], \"sizemode\": \"area\", \"sizeref\": 0.05}, \"mode\": \"markers+text\", \"name\": \"Portugal\", \"text\": [\"Portugal:<br> 2\"], \"x\": [0.7660443782806396], \"y\": [-0.642787754535675], \"type\": \"scatter\"}], \"name\": \"2017-04-13\"}, {\"data\": [{\"marker\": {\"size\": [181], \"sizemode\": \"area\", \"sizeref\": 0.05}, \"mode\": \"markers+text\", \"name\": \"United States\", \"text\": [\"United States:<br> 19\"], \"x\": [1.0], \"y\": [6.622738357719982e-09], \"type\": \"scatter\"}, {\"marker\": {\"size\": [199], \"sizemode\": \"area\", \"sizeref\": 0.05}, \"mode\": \"markers+text\", \"name\": \"Switzerland\", \"text\": [\"Switzerland:<br> 1\"], \"x\": [0.7660444974899292], \"y\": [0.6427875757217407], \"type\": \"scatter\"}, {\"marker\": {\"size\": [199], \"sizemode\": \"area\", \"sizeref\": 0.05}, \"mode\": \"markers+text\", \"name\": \"Hungary\", \"text\": [\"Hungary:<br> 1\"], \"x\": [0.17364825308322906], \"y\": [0.9848077297210693], \"type\": \"scatter\"}, {\"marker\": {\"size\": [198], \"sizemode\": \"area\", \"sizeref\": 0.05}, \"mode\": \"markers+text\", \"name\": \"Peru\", \"text\": [\"Peru:<br> 2\"], \"x\": [-0.5], \"y\": [0.8660253882408142], \"type\": \"scatter\"}, {\"marker\": {\"size\": [198], \"sizemode\": \"area\", \"sizeref\": 0.05}, \"mode\": \"markers+text\", \"name\": \"Malaysia\", \"text\": [\"Malaysia:<br> 2\"], \"x\": [-0.9396925568580627], \"y\": [0.3420202136039734], \"type\": \"scatter\"}, {\"marker\": {\"size\": [198], \"sizemode\": \"area\", \"sizeref\": 0.05}, \"mode\": \"markers+text\", \"name\": \"Denmark\", \"text\": [\"Denmark:<br> 2\"], \"x\": [-0.9396925568580627], \"y\": [-0.3420201539993286], \"type\": \"scatter\"}, {\"marker\": {\"size\": [197], \"sizemode\": \"area\", \"sizeref\": 0.05}, \"mode\": \"markers+text\", \"name\": \"Bolivia\", \"text\": [\"Bolivia:<br> 3\"], \"x\": [-0.49999988079071045], \"y\": [-0.866025447845459], \"type\": \"scatter\"}, {\"marker\": {\"size\": [199], \"sizemode\": \"area\", \"sizeref\": 0.05}, \"mode\": \"markers+text\", \"name\": \"Austria\", \"text\": [\"Austria:<br> 1\"], \"x\": [0.1736481785774231], \"y\": [-0.9848077297210693], \"type\": \"scatter\"}, {\"marker\": {\"size\": [197], \"sizemode\": \"area\", \"sizeref\": 0.05}, \"mode\": \"markers+text\", \"name\": \"Portugal\", \"text\": [\"Portugal:<br> 3\"], \"x\": [0.7660443782806396], \"y\": [-0.642787754535675], \"type\": \"scatter\"}], \"name\": \"2017-04-14\"}, {\"data\": [{\"marker\": {\"size\": [180], \"sizemode\": \"area\", \"sizeref\": 0.05}, \"mode\": \"markers+text\", \"name\": \"United States\", \"text\": [\"United States:<br> 20\"], \"x\": [1.0], \"y\": [6.622738357719982e-09], \"type\": \"scatter\"}, {\"marker\": {\"size\": [199], \"sizemode\": \"area\", \"sizeref\": 0.05}, \"mode\": \"markers+text\", \"name\": \"Switzerland\", \"text\": [\"Switzerland:<br> 1\"], \"x\": [0.7660444974899292], \"y\": [0.6427875757217407], \"type\": \"scatter\"}, {\"marker\": {\"size\": [199], \"sizemode\": \"area\", \"sizeref\": 0.05}, \"mode\": \"markers+text\", \"name\": \"Hungary\", \"text\": [\"Hungary:<br> 1\"], \"x\": [0.17364825308322906], \"y\": [0.9848077297210693], \"type\": \"scatter\"}, {\"marker\": {\"size\": [197], \"sizemode\": \"area\", \"sizeref\": 0.05}, \"mode\": \"markers+text\", \"name\": \"Peru\", \"text\": [\"Peru:<br> 3\"], \"x\": [-0.5], \"y\": [0.8660253882408142], \"type\": \"scatter\"}, {\"marker\": {\"size\": [199], \"sizemode\": \"area\", \"sizeref\": 0.05}, \"mode\": \"markers+text\", \"name\": \"Malaysia\", \"text\": [\"Malaysia:<br> 1\"], \"x\": [-0.9396925568580627], \"y\": [0.3420202136039734], \"type\": \"scatter\"}, {\"marker\": {\"size\": [198], \"sizemode\": \"area\", \"sizeref\": 0.05}, \"mode\": \"markers+text\", \"name\": \"Denmark\", \"text\": [\"Denmark:<br> 2\"], \"x\": [-0.9396925568580627], \"y\": [-0.3420201539993286], \"type\": \"scatter\"}, {\"marker\": {\"size\": [197], \"sizemode\": \"area\", \"sizeref\": 0.05}, \"mode\": \"markers+text\", \"name\": \"Bolivia\", \"text\": [\"Bolivia:<br> 3\"], \"x\": [-0.49999988079071045], \"y\": [-0.866025447845459], \"type\": \"scatter\"}, {\"marker\": {\"size\": [199], \"sizemode\": \"area\", \"sizeref\": 0.05}, \"mode\": \"markers+text\", \"name\": \"Austria\", \"text\": [\"Austria:<br> 1\"], \"x\": [0.1736481785774231], \"y\": [-0.9848077297210693], \"type\": \"scatter\"}, {\"marker\": {\"size\": [197], \"sizemode\": \"area\", \"sizeref\": 0.05}, \"mode\": \"markers+text\", \"name\": \"Portugal\", \"text\": [\"Portugal:<br> 3\"], \"x\": [0.7660443782806396], \"y\": [-0.642787754535675], \"type\": \"scatter\"}], \"name\": \"2017-04-15\"}]);}).then(function(){Plotly.animate('c1d5258a-546e-4745-80a1-aff788808940');})\n",
       "    }\n",
       "        });</script><script type=\"text/javascript\">window.addEventListener(\"resize\", function(){if (document.getElementById(\"c1d5258a-546e-4745-80a1-aff788808940\")) {window._Plotly.Plots.resize(document.getElementById(\"c1d5258a-546e-4745-80a1-aff788808940\"));};})</script>"
      ]
     },
     "metadata": {},
     "output_type": "display_data"
    }
   ],
   "source": [
    "#Run this cell to draw the graph/animation!\n",
    "\n",
    "#extracts the list of days that the chosen song exits on the rankings\n",
    "song_days = sorted(df_specific_song[\"Date\"].unique().tolist())\n",
    "if len(song_days) > 100:\n",
    "    print(\"truncating to the first hundred days that the song was on the charts\")\n",
    "    song_days = song_days[:100]\n",
    "# song_days = ['2017-04-08', '2017-04-09', '2017-04-10']\n",
    "#extracts which regions to use from the checkboxes\n",
    "regions_to_use = [r for i,r in enumerate(all_region_codes) if checkboxes[i].value]\n",
    "# regions_to_use = ['us', 'hk', 'ch', 'jp', 'sg']\n",
    "\n",
    "# make figure\n",
    "figure = {\n",
    "    'data': [],\n",
    "    'layout': {},\n",
    "    'frames': []\n",
    "}\n",
    "\n",
    "# fill in most of layout\n",
    "figure['layout']['hovermode'] = 'closest'\n",
    "figure['layout']['sliders'] = {\n",
    "    'args': [\n",
    "        'transition', {\n",
    "            'duration': 400,\n",
    "            'easing': 'cubic-in-out'\n",
    "        }\n",
    "    ],\n",
    "    'initialValue': song_days[0],\n",
    "    'plotlycommand': 'animate',\n",
    "    'values': song_days,\n",
    "    'visible': True\n",
    "}\n",
    "\n",
    "figure['layout']['updatemenus'] = [\n",
    "    {\n",
    "        'buttons': [\n",
    "            {\n",
    "                'args': [None, {'frame': {'duration': 500, 'redraw': False},\n",
    "                         'fromcurrent': True, 'transition': {'duration': 300, 'easing': 'quadratic-in-out'}}],\n",
    "                'label': 'Play',\n",
    "                'method': 'animate'\n",
    "            },\n",
    "            {\n",
    "                'args': [[None], {'frame': {'duration': 0, 'redraw': False}, 'mode': 'immediate',\n",
    "                'transition': {'duration': 0}}],\n",
    "                'label': 'Pause',\n",
    "                'method': 'animate'\n",
    "            }\n",
    "        ],\n",
    "        'direction': 'left',\n",
    "        'pad': {'r': 10, 't': 87},\n",
    "        'showactive': False,\n",
    "        'type': 'buttons',\n",
    "        'x': 0.1,\n",
    "        'xanchor': 'right',\n",
    "        'y': 0,\n",
    "        'yanchor': 'top'\n",
    "    }\n",
    "]\n",
    "\n",
    "sliders_dict = {\n",
    "    'active': 0,\n",
    "    'yanchor': 'top',\n",
    "    'xanchor': 'left',\n",
    "    'currentvalue': {\n",
    "        'font': {'size': 20},\n",
    "        'prefix': 'Day:',\n",
    "        'visible': True,\n",
    "        'xanchor': 'right'\n",
    "    },\n",
    "    'transition': {'duration': 300, 'easing': 'cubic-in-out'},\n",
    "    'pad': {'b': 10, 't': 50},\n",
    "    'len': 0.9,\n",
    "    'x': 0.1,\n",
    "    'y': 0,\n",
    "    'steps': []\n",
    "}\n",
    "\n",
    "# make initial day data\n",
    "date = song_days[0]\n",
    "G = make_networkx_graph(date=date, regions=regions_to_use)\n",
    "#to calcute the positions for all of the nodes in the graph\n",
    "# pos = graphviz_layout(G, prog='neato')\n",
    "pos = nx.drawing.layout.spring_layout(G)\n",
    "\n",
    "for node in G.nodes(data=True):\n",
    "    x, y = pos[node[0]]\n",
    "    data_dict = {\n",
    "        'x': tuple([x]),\n",
    "        'y': tuple([y]),\n",
    "        'mode': 'markers+text',\n",
    "        'text': tuple([\"{}:<br> {}\".format(node[1]['name'], node[1]['position'])]),\n",
    "        'marker': {\n",
    "            'sizemode': 'area',\n",
    "            'sizeref': 0.2,\n",
    "            'size': tuple([(200 - node[1]['position'])])\n",
    "        },\n",
    "        'name': node[1]['name']\n",
    "    }\n",
    "    figure['data'].append(data_dict)\n",
    "    \n",
    "# make frames\n",
    "for date in song_days:\n",
    "    frame = {'data': [], 'name': date}\n",
    "    \n",
    "    G = make_networkx_graph(date=date, regions=regions_to_use)\n",
    "    #to calcute the positions for all of the nodes in the graph\n",
    "#     pos = graphviz_layout(G, prog='neato')\n",
    "    pos = nx.layout.shell_layout(G)\n",
    "        \n",
    "    for node in G.nodes(data=True):\n",
    "        x, y = pos[node[0]]\n",
    "        data_dict = {\n",
    "            'x': tuple([x]),\n",
    "            'y': tuple([y]),\n",
    "            'mode': 'markers+text',\n",
    "            'text': tuple([\"{}:<br> {}\".format(node[1]['name'], node[1]['position'])]),\n",
    "            'marker': {\n",
    "                'sizemode': 'area',\n",
    "                'sizeref': 0.05,\n",
    "                'size': tuple([200 - (node[1]['position'])])\n",
    "            },\n",
    "            'name': node[1]['name']\n",
    "        }\n",
    "        frame['data'].append(data_dict)\n",
    "\n",
    "    figure['frames'].append(frame)\n",
    "    slider_step = {'args': [\n",
    "        [date],\n",
    "        {'frame': {'duration': 300, 'redraw': False},\n",
    "         'mode': 'immediate',\n",
    "       'transition': {'duration': 300}}\n",
    "     ],\n",
    "     'label': date,\n",
    "     'method': 'animate'}\n",
    "    sliders_dict['steps'].append(slider_step)\n",
    "\n",
    "    \n",
    "figure['layout']['sliders'] = [sliders_dict]\n",
    "\n",
    "iplot(figure, filename='anim')"
   ]
  },
  {
   "cell_type": "code",
   "execution_count": null,
   "metadata": {},
   "outputs": [],
   "source": []
  }
 ],
 "metadata": {
  "kernelspec": {
   "display_name": "Python 3",
   "language": "python",
   "name": "python3"
  },
  "language_info": {
   "codemirror_mode": {
    "name": "ipython",
    "version": 3
   },
   "file_extension": ".py",
   "mimetype": "text/x-python",
   "name": "python",
   "nbconvert_exporter": "python",
   "pygments_lexer": "ipython3",
   "version": "3.6.4"
  }
 },
 "nbformat": 4,
 "nbformat_minor": 2
}
