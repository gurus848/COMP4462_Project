{
 "cells": [
  {
   "cell_type": "code",
   "execution_count": 1,
   "metadata": {},
   "outputs": [
    {
     "data": {
      "text/html": [
       "<iframe id=\"igraph\" scrolling=\"no\" style=\"border:none;\" seamless=\"seamless\" src=\"https://plot.ly/~gurus848/10.embed\" height=\"525px\" width=\"100%\"></iframe>"
      ],
      "text/plain": [
       "<plotly.tools.PlotlyDisplay object>"
      ]
     },
     "execution_count": 1,
     "metadata": {},
     "output_type": "execute_result"
    }
   ],
   "source": [
    "import plotly.plotly as py\n",
    "import plotly \n",
    "import plotly.graph_objs as go\n",
    "from plotly.offline import *\n",
    "\n",
    "\n",
    "data = [\n",
    "    go.Parcoords(\n",
    "        line = dict(color = 'blue'),\n",
    "        dimensions = list([\n",
    "            dict(range = [1,5],\n",
    "                 constraintrange = [1,2],\n",
    "                 label = 'A', values = [1,4]),\n",
    "            dict(range = [1.5,5],\n",
    "                 tickvals = [1.5,3,4.5],\n",
    "                 label = 'B', values = [3,1.5]),\n",
    "            dict(range = [1,5],\n",
    "                 tickvals = [1,2,4,5],\n",
    "                 label = 'C', values = [2,4],\n",
    "                 ticktext = ['text 1', 'text 2', 'text 3', 'text 4']),\n",
    "            dict(range = [1,5],\n",
    "                 label = 'D', values = [4,2])\n",
    "        ])\n",
    "    )\n",
    "]\n",
    "\n",
    "py.iplot(data, filename = 'paracord')"
   ]
  },
  {
   "cell_type": "code",
   "execution_count": 9,
   "metadata": {},
   "outputs": [
    {
     "data": {
      "text/html": [
       "<iframe id=\"igraph\" scrolling=\"no\" style=\"border:none;\" seamless=\"seamless\" src=\"https://plot.ly/~aguptaaf/2.embed\" height=\"525px\" width=\"100%\"></iframe>"
      ],
      "text/plain": [
       "<chart_studio.tools.PlotlyDisplay object>"
      ]
     },
     "execution_count": 9,
     "metadata": {},
     "output_type": "execute_result"
    }
   ],
   "source": [
    "import plotly.plotly as py\n",
    "import plotly.graph_objs as go\n",
    "\n",
    "import pandas as pd \n",
    "\n",
    "df = pd.read_csv(\"https://raw.githubusercontent.com/bcdunbar/datasets/master/iris.csv\")\n",
    "\n",
    "data = [\n",
    "    go.Parcoords(\n",
    "        line = dict(color = df['species_id'],\n",
    "                   colorscale = [[0,'#D7C16B'],[0.5,'#23D8C3'],[1,'#F3F10F']]),\n",
    "        dimensions = list([\n",
    "            dict(range = [0,8],\n",
    "                constraintrange = [4,8],\n",
    "                label = 'Sepal Length', values = df['sepal_length']),\n",
    "            dict(range = [0,8],\n",
    "                label = 'Sepal Width', values = df['sepal_width']),\n",
    "            dict(range = [0,8],\n",
    "                label = 'Petal Length', values = df['petal_length']),\n",
    "            dict(range = [0,8],\n",
    "                label = 'Petal Width', values = df['petal_width'])\n",
    "        ])\n",
    "    )\n",
    "]\n",
    "\n",
    "layout = go.Layout(\n",
    "    plot_bgcolor = '#E5E5E5',\n",
    "    paper_bgcolor = '#E5E5E5'\n",
    ")\n",
    "\n",
    "fig = go.Figure(data = data, layout = layout)\n",
    "py.iplot(fig, filename = 'parcoords-basic')\n"
   ]
  },
  {
   "cell_type": "code",
   "execution_count": 11,
   "metadata": {},
   "outputs": [
    {
     "data": {
      "text/html": [
       "<iframe id=\"igraph\" scrolling=\"no\" style=\"border:none;\" seamless=\"seamless\" src=\"https://plot.ly/~aguptaaf/4.embed\" height=\"525px\" width=\"100%\"></iframe>"
      ],
      "text/plain": [
       "<chart_studio.tools.PlotlyDisplay object>"
      ]
     },
     "execution_count": 11,
     "metadata": {},
     "output_type": "execute_result"
    }
   ],
   "source": [
    "import plotly.plotly as py\n",
    "import plotly.graph_objs as go\n",
    "\n",
    "import pandas as pd \n",
    "\n",
    "df = pd.read_csv(\"https://raw.githubusercontent.com/bcdunbar/datasets/master/parcoords_data.csv\")\n",
    "\n",
    "data = [\n",
    "    go.Parcoords(\n",
    "        line = dict(color = df['colorVal'],\n",
    "                   colorscale = 'Jet',\n",
    "                   showscale = True,\n",
    "                   reversescale = True,\n",
    "                   cmin = -4000,\n",
    "                   cmax = -100),\n",
    "        dimensions = list([\n",
    "            dict(range = [32000,227900],\n",
    "                 #constraintrange = [100000,150000],\n",
    "                 label = 'Block Height', values = df['blockHeight']),\n",
    "            dict(range = [0,700000],\n",
    "                 label = 'Block Width', values = df['blockWidth']),\n",
    "            dict(tickvals = [0,0.5,1,2,3],\n",
    "                 ticktext = ['A','AB','B','Y','Z'],\n",
    "                 label = 'Cyclinder Material', values = df['cycMaterial']),\n",
    "            dict(range = [-1,4],\n",
    "                 tickvals = [0,1,2,3],\n",
    "                 label = 'Block Material', values = df['blockMaterial']),\n",
    "            dict(range = [134,3154],\n",
    "                 visible = True,\n",
    "                 label = 'Total Weight', values = df['totalWeight']),\n",
    "            dict(range = [9,19984],\n",
    "                 label = 'Assembly Penalty Weight', values = df['assemblyPW']),\n",
    "            dict(range = [49000,568000],\n",
    "                 label = 'Height st Width', values = df['HstW']),\n",
    "            dict(range = [-28000,196430],\n",
    "                 label = 'Min Height Width', values = df['minHW']),\n",
    "            dict(range = [98453,501789],\n",
    "                 label = 'Min Width Diameter', values = df['minWD']),\n",
    "            dict(range = [1417,107154],\n",
    "                 label = 'RF Block', values = df['rfBlock'])\n",
    "        ])\n",
    "    )\n",
    "]\n",
    "\n",
    "py.iplot(data, filename = 'parcoords-advanced')"
   ]
  },
  {
   "cell_type": "code",
   "execution_count": 21,
   "metadata": {},
   "outputs": [
    {
     "data": {
      "text/html": [
       "<iframe id=\"igraph\" scrolling=\"no\" style=\"border:none;\" seamless=\"seamless\" src=\"https://plot.ly/~aguptaaf/6.embed\" height=\"525px\" width=\"100%\"></iframe>"
      ],
      "text/plain": [
       "<chart_studio.tools.PlotlyDisplay object>"
      ]
     },
     "execution_count": 21,
     "metadata": {},
     "output_type": "execute_result"
    }
   ],
   "source": [
    "import plotly.plotly as py\n",
    "import plotly.graph_objs as go\n",
    "\n",
    "import pandas as pd\n",
    "import numpy as np\n",
    "\n",
    "df = pd.read_csv(\"https://raw.githubusercontent.com/AyushGupta51379/DATA_DV_PROJ/master/analysis_df.csv\")\n",
    "\n",
    "data = [\n",
    "    go.Parcoords(\n",
    "        #line = dict(color = df['colorVal'],\n",
    "         #          colorscale = 'Jet',\n",
    "          #         showscale = True,\n",
    "           #        reversescale = True,\n",
    "            #       cmin = -4000,\n",
    "             #      cmax = -100),\n",
    "        dimensions = list([\n",
    "            dict(range = [0,1],\n",
    "                 #constraintrange = [100000,150000],\n",
    "                 label = 'acousticness', values = df['acousticness']),\n",
    "            dict(range = [0,1],\n",
    "                 label = 'danceability', values = df['danceability']),\n",
    "            dict(range = [1000,4000000],\n",
    "                 label = 'duration_ms', values = df['duration_ms']),\n",
    "            dict(range = [0,1],\n",
    "                 label = 'energy', values = df['energy']),\n",
    "            dict(range = [0,0.4],\n",
    "                 label = 'instrumentalness', values = df['instrumentalness']),\n",
    "            dict(range = [0,11],\n",
    "                 label = 'key', values = df['key']),\n",
    "            dict(range = [0,1],\n",
    "                 label = 'liveness', values = df['liveness']),\n",
    "            dict(range = [-60,2],\n",
    "                 label = 'loudness', values = df['loudness']),\n",
    "            dict(range = [0,1],\n",
    "                 label = 'mode', values = df['mode']),\n",
    "            dict(range = [0,1],\n",
    "                 label = 'speechiness', values = df['speechiness']),\n",
    "            dict(range = [0,5],\n",
    "                 label = 'time_signature', values = df['time_signature']),\n",
    "            dict(range = [0,1],\n",
    "                 label = 'valence', values = df['valence'])\n",
    "        ])\n",
    "    )\n",
    "]\n",
    "\n",
    "py.iplot(data, filename = 'parcoords-adv')"
   ]
  },
  {
   "cell_type": "code",
   "execution_count": 28,
   "metadata": {},
   "outputs": [
    {
     "data": {
      "text/html": [
       "<iframe id=\"igraph\" scrolling=\"no\" style=\"border:none;\" seamless=\"seamless\" src=\"https://plot.ly/~aguptaaf/8.embed\" height=\"525px\" width=\"100%\"></iframe>"
      ],
      "text/plain": [
       "<chart_studio.tools.PlotlyDisplay object>"
      ]
     },
     "execution_count": 28,
     "metadata": {},
     "output_type": "execute_result"
    }
   ],
   "source": [
    "import plotly.plotly as py\n",
    "import plotly.graph_objs as go\n",
    "\n",
    "import pandas as pd\n",
    "import numpy as np\n",
    "\n",
    "df = pd.read_csv(\"https://raw.githubusercontent.com/AyushGupta51379/DATA_DV_PROJ/master/analysis1_df.csv\")\n",
    "\n",
    "data = [\n",
    "    go.Parcoords(\n",
    "        line = dict(color = df['color'],\n",
    "                   colorscale = 'Jet',\n",
    "                   showscale = True,\n",
    "                   reversescale = True,\n",
    "                   cmin = 0,\n",
    "                   cmax = 4000),\n",
    "        dimensions = list([\n",
    "            \n",
    "            \n",
    "            dict(range = [0,5885522],\n",
    "                 label = 'name', values = df['name']),            \n",
    "            dict(range = [0,100],\n",
    "                 label = 'popularity', values = df['popularity']),\n",
    "            dict(range = [0,1],\n",
    "                 #constraintrange = [100000,150000],\n",
    "                 label = 'acousticness', values = df['acousticness']),\n",
    "            dict(range = [0,1],\n",
    "                 label = 'danceability', values = df['danceability']),\n",
    "            dict(range = [1000,4000000],\n",
    "                 label = 'duration_ms', values = df['duration_ms']),\n",
    "            dict(range = [0,1],\n",
    "                 label = 'energy', values = df['energy']),\n",
    "            dict(range = [0,0.4],\n",
    "                 label = 'instrumentalness', values = df['instrumentalness']),\n",
    "            dict(range = [0,11],\n",
    "                 label = 'key', values = df['key']),\n",
    "            dict(range = [0,1],\n",
    "                 label = 'liveness', values = df['liveness']),\n",
    "            dict(range = [-60,2],\n",
    "                 label = 'loudness', values = df['loudness']),\n",
    "            dict(range = [0,1],\n",
    "                 label = 'mode', values = df['mode']),\n",
    "            dict(range = [0,1],\n",
    "                 label = 'speechiness', values = df['speechiness']),\n",
    "            dict(range = [0,5],\n",
    "                 label = 'time_signature', values = df['time_signature']),\n",
    "            dict(range = [0,1],\n",
    "                 label = 'valence', values = df['valence'])\n",
    "        ])\n",
    "    )\n",
    "]\n",
    "\n",
    "py.iplot(data, filename = 'parcoords-adv1')"
   ]
  },
  {
   "cell_type": "code",
   "execution_count": 4,
   "metadata": {},
   "outputs": [
    {
     "data": {
      "text/html": [
       "<iframe id=\"igraph\" scrolling=\"no\" style=\"border:none;\" seamless=\"seamless\" src=\"https://plot.ly/~gurus848/11.embed\" height=\"525px\" width=\"100%\"></iframe>"
      ],
      "text/plain": [
       "<plotly.tools.PlotlyDisplay object>"
      ]
     },
     "execution_count": 4,
     "metadata": {},
     "output_type": "execute_result"
    }
   ],
   "source": [
    "import plotly.plotly as py\n",
    "import plotly.graph_objs as go\n",
    "\n",
    "import pandas as pd\n",
    "import numpy as np\n",
    "\n",
    "import ssl\n",
    "\n",
    "ssl._create_default_https_context = ssl._create_unverified_context\n",
    "\n",
    "df = pd.read_csv(\"https://raw.githubusercontent.com/AyushGupta51379/DATA_DV_PROJ/master/analysis2_df.csv\")\n",
    "\n",
    "data = [\n",
    "    go.Parcoords(\n",
    "        line = dict(color = df['color'],\n",
    "                   colorscale = 'Jet',\n",
    "                   showscale = True,\n",
    "                   reversescale = True,\n",
    "                   cmin = 0,\n",
    "                   cmax = 4000),\n",
    "        dimensions = list([\n",
    "            \n",
    "            \n",
    "            dict(range = [0,44206],\n",
    "                 label = 'id', values = df['id']),            \n",
    "            dict(range = [0,100],\n",
    "                 label = 'popularity', values = df['popularity']),\n",
    "            dict(range = [0,1],\n",
    "                 #constraintrange = [100000,150000],\n",
    "                 label = 'acousticness', values = df['acousticness']),\n",
    "            dict(range = [0,1],\n",
    "                 label = 'danceability', values = df['danceability']),\n",
    "            dict(range = [1000,4000000],\n",
    "                 label = 'duration_ms', values = df['duration_ms']),\n",
    "            dict(range = [0,1],\n",
    "                 label = 'energy', values = df['energy']),\n",
    "            dict(range = [0,0.4],\n",
    "                 label = 'instrumentalness', values = df['instrumentalness']),\n",
    "            dict(range = [0,11],\n",
    "                 label = 'key', values = df['key']),\n",
    "            dict(range = [0,1],\n",
    "                 label = 'liveness', values = df['liveness']),\n",
    "            dict(range = [-60,2],\n",
    "                 label = 'loudness', values = df['loudness']),\n",
    "            dict(range = [0,1],\n",
    "                 label = 'mode', values = df['mode']),\n",
    "            dict(range = [0,1],\n",
    "                 label = 'speechiness', values = df['speechiness']),\n",
    "            dict(range = [0,5],\n",
    "                 label = 'time_signature', values = df['time_signature']),\n",
    "            dict(range = [0,1],\n",
    "                 label = 'valence', values = df['valence'])\n",
    "        ])\n",
    "    )\n",
    "]\n",
    "\n",
    "py.iplot(data, filename = 'parcoords-adv2')"
   ]
  },
  {
   "cell_type": "code",
   "execution_count": null,
   "metadata": {},
   "outputs": [],
   "source": []
  }
 ],
 "metadata": {
  "kernelspec": {
   "display_name": "Python 3",
   "language": "python",
   "name": "python3"
  },
  "language_info": {
   "codemirror_mode": {
    "name": "ipython",
    "version": 3
   },
   "file_extension": ".py",
   "mimetype": "text/x-python",
   "name": "python",
   "nbconvert_exporter": "python",
   "pygments_lexer": "ipython3",
   "version": "3.6.4"
  }
 },
 "nbformat": 4,
 "nbformat_minor": 2
}
